{
 "cells": [
  {
   "cell_type": "markdown",
   "id": "12c30ef3",
   "metadata": {},
   "source": [
    "# 시계열 예측 모델\n",
    "- https://otexts.com/fppkr/arima.html\n",
    "- ARIMA(자기상관), fbprophet(다중), RNN(다중)\n",
    "- 시계열예측모델이 단순회귀모델보다 예측률이 좋다.\n",
    "- 이유는 기존피처에 추가로 sifted한 피처(시간 고려)로 기울기를 계산하여 예측하기 때문\n",
    "- ARIMA 모델은 시계열을 예측하는 또 하나의 접근 방법입니다.   \n",
    "지수평활(exponential smoothing)과 ARIMA 모델은 시계열을 예측할 때 가장 널리 사용하는 두 가지 접근 방식이고,   \n",
    "주어진 문제를 상호 보완적으로 다루도록 하는 접근 방식입니다.\n",
    "- 지수평활 모델은 데이터의 추세와 계절성(seasonality)에 대한 설명에 기초하고,\n",
    "- ARIMA 모델은 데이터에 나타나는 자기상관(autocorrelation)을 표현하는데 목적이 있습니다.\n",
    "- ARIMA 모델을 소개하기에 앞서, 정상성/안정성(stationarity)과 시계열의 차분(differencing)을 구하는 기법을 먼저 다뤄야 합니다."
   ]
  },
  {
   "cell_type": "markdown",
   "id": "b8091c90",
   "metadata": {},
   "source": [
    "# 정상성과 차분\n",
    "- Stationary : white noise, 주기성 행동을 가지고 있지만 추세나 계절성은 없는 시계열\n",
    "   언제 관찰하더라도 똑같기 때문,  주기가 고정된 길이를 가지고 있지 않기 때문에 시계열을 관측하기 전에는 주기의 고점이나 저점을 확실하게 알 수 없다. 일반적으로는, 정상성을 나타내는 시계열은 장기적으로 볼 때 예측할 수 있는 패턴을 나타내지 않을 것입니다. (어떤 주기적인 행동이 있을 수 있더라도) 시간 그래프는 시계열이 일정한 분산을 갖고 대략적으로 평평하게 될 것을 나타낼 것입니다.\n",
    "   계절성을 갖는 '주기'가 아님, 정상성의 주기는 불규칙적이므로 장기적으로 예측 안됨.\n",
    "- 차분 : \n",
    "시계열 데이터를 규칙적 시계열 데이터로 활용할 수 있도록 하는 과정을 거친다. 현재 상태의 변수에서 바로 전 상태의 변수를 빼주는 것을 차분이라고 하며, 차분을 거친 결과 변수들이 Whitening 되는 효과\n",
    "\n",
    "비정상성 시계열을 정상성으로 변경하기 위함, 시계열의 평균 변화를 일정하게함(추세나 계절성 제거됨), 비정상성데이터에서는 acf가 느리게 감소하고, 정상성데이터에서는acf가 빠르게 0으로 "
   ]
  },
  {
   "cell_type": "markdown",
   "id": "ce657858",
   "metadata": {},
   "source": [
    "## ACF auto correration function(자기 상관 함수)\n",
    "정상성을 나타내지 않는 시계열을 찾는 방법\n",
    "\n",
    "$$ \n",
    "\\begin{align}\n",
    "autocovariance function:  C_{h} = \\dfrac{1}{N}\\sum_{t=1}^{N-h} (Y_{t} - \\bar{Y} )(Y_{t+h} - \\bar{Y} ) \n",
    "\\tag{1}\n",
    "\\end{align}\n",
    "$$\n",
    "\n",
    "$$ \n",
    "\\begin{align}\n",
    "variance function:  C_{0} = \\dfrac{1}{N}\\sum_{t=1}^{N} (Y_{t} - \\bar{Y} )^2 \n",
    "\\tag{2}\n",
    "\\end{align}\n",
    "$$\n",
    "\n",
    "$$ \n",
    "\\begin{align}\n",
    "autocorrelation coefficient:  R_{h} = \\dfrac{Autocovariance}{Variance} = \\dfrac{ C_{h} }{C_{0} }\n",
    "\\tag{3}\n",
    "\\end{align}\n",
    "$$\n",
    "\n",
    "AR,MA를 지정한뒤 ACF와 PACF의 그래프를 그려보면 ARMA모형의 적합성을 판단할 수 있다.\n",
    "모델 적합성의 가장 큰 증거는 ACF가 점차 감소하는 모습을 띄는 것이다."
   ]
  },
  {
   "cell_type": "code",
   "execution_count": 1,
   "id": "0728324f",
   "metadata": {
    "ExecuteTime": {
     "end_time": "2022-01-12T00:59:14.615977Z",
     "start_time": "2022-01-12T00:59:13.057121Z"
    }
   },
   "outputs": [],
   "source": [
    "from statsmodels.tsa.ar_model import AR\n",
    "from statsmodels.tsa.arima_model import ARIMA\n",
    "from statsmodels.tsa.stattools import adfuller\n",
    "import numpy as np\n",
    "import pandas as pd\n",
    "import matplotlib.pyplot as plt\n",
    "from warnings import filterwarnings\n",
    "filterwarnings(\"ignore\")\n",
    "plt.style.use(\"ggplot\")"
   ]
  },
  {
   "cell_type": "code",
   "execution_count": 2,
   "id": "786bb82a",
   "metadata": {
    "ExecuteTime": {
     "end_time": "2022-01-12T00:59:14.631939Z",
     "start_time": "2022-01-12T00:59:14.617019Z"
    }
   },
   "outputs": [
    {
     "data": {
      "text/html": [
       "<div>\n",
       "<style scoped>\n",
       "    .dataframe tbody tr th:only-of-type {\n",
       "        vertical-align: middle;\n",
       "    }\n",
       "\n",
       "    .dataframe tbody tr th {\n",
       "        vertical-align: top;\n",
       "    }\n",
       "\n",
       "    .dataframe thead th {\n",
       "        text-align: right;\n",
       "    }\n",
       "</style>\n",
       "<table border=\"1\" class=\"dataframe\">\n",
       "  <thead>\n",
       "    <tr style=\"text-align: right;\">\n",
       "      <th></th>\n",
       "      <th>Births</th>\n",
       "    </tr>\n",
       "    <tr>\n",
       "      <th>Date</th>\n",
       "      <th></th>\n",
       "    </tr>\n",
       "  </thead>\n",
       "  <tbody>\n",
       "    <tr>\n",
       "      <th>1959-01-01</th>\n",
       "      <td>35</td>\n",
       "    </tr>\n",
       "    <tr>\n",
       "      <th>1959-01-02</th>\n",
       "      <td>32</td>\n",
       "    </tr>\n",
       "    <tr>\n",
       "      <th>1959-01-03</th>\n",
       "      <td>30</td>\n",
       "    </tr>\n",
       "    <tr>\n",
       "      <th>1959-01-04</th>\n",
       "      <td>31</td>\n",
       "    </tr>\n",
       "    <tr>\n",
       "      <th>1959-01-05</th>\n",
       "      <td>44</td>\n",
       "    </tr>\n",
       "    <tr>\n",
       "      <th>...</th>\n",
       "      <td>...</td>\n",
       "    </tr>\n",
       "    <tr>\n",
       "      <th>1959-12-27</th>\n",
       "      <td>37</td>\n",
       "    </tr>\n",
       "    <tr>\n",
       "      <th>1959-12-28</th>\n",
       "      <td>52</td>\n",
       "    </tr>\n",
       "    <tr>\n",
       "      <th>1959-12-29</th>\n",
       "      <td>48</td>\n",
       "    </tr>\n",
       "    <tr>\n",
       "      <th>1959-12-30</th>\n",
       "      <td>55</td>\n",
       "    </tr>\n",
       "    <tr>\n",
       "      <th>1959-12-31</th>\n",
       "      <td>50</td>\n",
       "    </tr>\n",
       "  </tbody>\n",
       "</table>\n",
       "<p>365 rows × 1 columns</p>\n",
       "</div>"
      ],
      "text/plain": [
       "            Births\n",
       "Date              \n",
       "1959-01-01      35\n",
       "1959-01-02      32\n",
       "1959-01-03      30\n",
       "1959-01-04      31\n",
       "1959-01-05      44\n",
       "...            ...\n",
       "1959-12-27      37\n",
       "1959-12-28      52\n",
       "1959-12-29      48\n",
       "1959-12-30      55\n",
       "1959-12-31      50\n",
       "\n",
       "[365 rows x 1 columns]"
      ]
     },
     "execution_count": 2,
     "metadata": {},
     "output_type": "execute_result"
    }
   ],
   "source": [
    "birthDF = pd.read_csv('../data/daily-total-female-births.txt', index_col='Date',\n",
    "                     parse_dates=['Date'])\n",
    "birthDF"
   ]
  },
  {
   "cell_type": "code",
   "execution_count": 3,
   "id": "3ae9bde8",
   "metadata": {
    "ExecuteTime": {
     "end_time": "2022-01-12T00:59:14.647895Z",
     "start_time": "2022-01-12T00:59:14.632942Z"
    }
   },
   "outputs": [
    {
     "data": {
      "text/html": [
       "<div>\n",
       "<style scoped>\n",
       "    .dataframe tbody tr th:only-of-type {\n",
       "        vertical-align: middle;\n",
       "    }\n",
       "\n",
       "    .dataframe tbody tr th {\n",
       "        vertical-align: top;\n",
       "    }\n",
       "\n",
       "    .dataframe thead th {\n",
       "        text-align: right;\n",
       "    }\n",
       "</style>\n",
       "<table border=\"1\" class=\"dataframe\">\n",
       "  <thead>\n",
       "    <tr style=\"text-align: right;\">\n",
       "      <th></th>\n",
       "      <th>passengers</th>\n",
       "    </tr>\n",
       "    <tr>\n",
       "      <th>time</th>\n",
       "      <th></th>\n",
       "    </tr>\n",
       "  </thead>\n",
       "  <tbody>\n",
       "    <tr>\n",
       "      <th>1949-01-01</th>\n",
       "      <td>112</td>\n",
       "    </tr>\n",
       "    <tr>\n",
       "      <th>1949-02-01</th>\n",
       "      <td>118</td>\n",
       "    </tr>\n",
       "    <tr>\n",
       "      <th>1949-03-01</th>\n",
       "      <td>132</td>\n",
       "    </tr>\n",
       "    <tr>\n",
       "      <th>1949-04-01</th>\n",
       "      <td>129</td>\n",
       "    </tr>\n",
       "    <tr>\n",
       "      <th>1949-05-01</th>\n",
       "      <td>121</td>\n",
       "    </tr>\n",
       "    <tr>\n",
       "      <th>...</th>\n",
       "      <td>...</td>\n",
       "    </tr>\n",
       "    <tr>\n",
       "      <th>1960-08-01</th>\n",
       "      <td>606</td>\n",
       "    </tr>\n",
       "    <tr>\n",
       "      <th>1960-09-01</th>\n",
       "      <td>508</td>\n",
       "    </tr>\n",
       "    <tr>\n",
       "      <th>1960-10-01</th>\n",
       "      <td>461</td>\n",
       "    </tr>\n",
       "    <tr>\n",
       "      <th>1960-11-01</th>\n",
       "      <td>390</td>\n",
       "    </tr>\n",
       "    <tr>\n",
       "      <th>1960-12-01</th>\n",
       "      <td>432</td>\n",
       "    </tr>\n",
       "  </tbody>\n",
       "</table>\n",
       "<p>144 rows × 1 columns</p>\n",
       "</div>"
      ],
      "text/plain": [
       "            passengers\n",
       "time                  \n",
       "1949-01-01         112\n",
       "1949-02-01         118\n",
       "1949-03-01         132\n",
       "1949-04-01         129\n",
       "1949-05-01         121\n",
       "...                ...\n",
       "1960-08-01         606\n",
       "1960-09-01         508\n",
       "1960-10-01         461\n",
       "1960-11-01         390\n",
       "1960-12-01         432\n",
       "\n",
       "[144 rows x 1 columns]"
      ]
     },
     "execution_count": 3,
     "metadata": {},
     "output_type": "execute_result"
    }
   ],
   "source": [
    "airDF = pd.read_csv('../data/international-airline-passengers.txt', index_col='time',\n",
    "                     parse_dates=['time'])\n",
    "airDF"
   ]
  },
  {
   "cell_type": "code",
   "execution_count": 4,
   "id": "9883231a",
   "metadata": {
    "ExecuteTime": {
     "end_time": "2022-01-12T00:59:14.663853Z",
     "start_time": "2022-01-12T00:59:14.649891Z"
    }
   },
   "outputs": [
    {
     "data": {
      "text/html": [
       "<div>\n",
       "<style scoped>\n",
       "    .dataframe tbody tr th:only-of-type {\n",
       "        vertical-align: middle;\n",
       "    }\n",
       "\n",
       "    .dataframe tbody tr th {\n",
       "        vertical-align: top;\n",
       "    }\n",
       "\n",
       "    .dataframe thead th {\n",
       "        text-align: right;\n",
       "    }\n",
       "</style>\n",
       "<table border=\"1\" class=\"dataframe\">\n",
       "  <thead>\n",
       "    <tr style=\"text-align: right;\">\n",
       "      <th></th>\n",
       "      <th>Temp</th>\n",
       "    </tr>\n",
       "    <tr>\n",
       "      <th>date</th>\n",
       "      <th></th>\n",
       "    </tr>\n",
       "  </thead>\n",
       "  <tbody>\n",
       "    <tr>\n",
       "      <th>1981-01-01</th>\n",
       "      <td>20.7</td>\n",
       "    </tr>\n",
       "    <tr>\n",
       "      <th>1981-01-02</th>\n",
       "      <td>17.9</td>\n",
       "    </tr>\n",
       "    <tr>\n",
       "      <th>1981-01-03</th>\n",
       "      <td>18.8</td>\n",
       "    </tr>\n",
       "    <tr>\n",
       "      <th>1981-01-04</th>\n",
       "      <td>14.6</td>\n",
       "    </tr>\n",
       "    <tr>\n",
       "      <th>1981-01-05</th>\n",
       "      <td>15.8</td>\n",
       "    </tr>\n",
       "    <tr>\n",
       "      <th>...</th>\n",
       "      <td>...</td>\n",
       "    </tr>\n",
       "    <tr>\n",
       "      <th>1990-12-27</th>\n",
       "      <td>14.0</td>\n",
       "    </tr>\n",
       "    <tr>\n",
       "      <th>1990-12-28</th>\n",
       "      <td>13.6</td>\n",
       "    </tr>\n",
       "    <tr>\n",
       "      <th>1990-12-29</th>\n",
       "      <td>13.5</td>\n",
       "    </tr>\n",
       "    <tr>\n",
       "      <th>1990-12-30</th>\n",
       "      <td>15.7</td>\n",
       "    </tr>\n",
       "    <tr>\n",
       "      <th>1990-12-31</th>\n",
       "      <td>13.0</td>\n",
       "    </tr>\n",
       "  </tbody>\n",
       "</table>\n",
       "<p>3650 rows × 1 columns</p>\n",
       "</div>"
      ],
      "text/plain": [
       "            Temp\n",
       "date            \n",
       "1981-01-01  20.7\n",
       "1981-01-02  17.9\n",
       "1981-01-03  18.8\n",
       "1981-01-04  14.6\n",
       "1981-01-05  15.8\n",
       "...          ...\n",
       "1990-12-27  14.0\n",
       "1990-12-28  13.6\n",
       "1990-12-29  13.5\n",
       "1990-12-30  15.7\n",
       "1990-12-31  13.0\n",
       "\n",
       "[3650 rows x 1 columns]"
      ]
     },
     "execution_count": 4,
     "metadata": {},
     "output_type": "execute_result"
    }
   ],
   "source": [
    "tempDF = pd.read_csv('../data/daily-min-temperatures.csv', index_col='date',\n",
    "                     parse_dates=['date'])\n",
    "tempDF"
   ]
  },
  {
   "cell_type": "code",
   "execution_count": 5,
   "id": "bffce063",
   "metadata": {
    "ExecuteTime": {
     "end_time": "2022-01-12T00:59:14.678813Z",
     "start_time": "2022-01-12T00:59:14.663853Z"
    }
   },
   "outputs": [
    {
     "data": {
      "text/plain": [
       "182"
      ]
     },
     "execution_count": 5,
     "metadata": {},
     "output_type": "execute_result"
    }
   ],
   "source": [
    "birthN = birthDF.shape[0]//2\n",
    "birthN"
   ]
  },
  {
   "cell_type": "code",
   "execution_count": 6,
   "id": "5ccc72a3",
   "metadata": {
    "ExecuteTime": {
     "end_time": "2022-01-12T00:59:14.693773Z",
     "start_time": "2022-01-12T00:59:14.679811Z"
    }
   },
   "outputs": [
    {
     "name": "stdout",
     "output_type": "stream",
     "text": [
      "Births    39.763736\n",
      "dtype: float64\n",
      "Births    49.485308\n",
      "dtype: float64\n",
      "==================================================\n",
      "Births    44.185792\n",
      "dtype: float64\n",
      "Births    48.976281\n",
      "dtype: float64\n"
     ]
    }
   ],
   "source": [
    "# stationary dataset\n",
    "# 평균과 분산 차이가 적음\n",
    "print(birthDF.iloc[:birthN].mean())\n",
    "print(birthDF.iloc[:birthN].var())\n",
    "print('='*50)\n",
    "print(birthDF.iloc[birthN:].mean())\n",
    "print(birthDF.iloc[birthN:].var())"
   ]
  },
  {
   "cell_type": "code",
   "execution_count": 7,
   "id": "fa26dd21",
   "metadata": {
    "ExecuteTime": {
     "end_time": "2022-01-12T00:59:14.709731Z",
     "start_time": "2022-01-12T00:59:14.694784Z"
    }
   },
   "outputs": [
    {
     "name": "stdout",
     "output_type": "stream",
     "text": [
      "passengers    182.902778\n",
      "dtype: float64\n",
      "passengers    2275.69464\n",
      "dtype: float64\n",
      "==================================================\n",
      "passengers    377.694444\n",
      "dtype: float64\n",
      "passengers    7471.736307\n",
      "dtype: float64\n"
     ]
    }
   ],
   "source": [
    "# non-stationary dataset, 평균과 분산차이가 큼\n",
    "airN = airDF.shape[0]//2\n",
    "print(airDF.iloc[:airN].mean())\n",
    "print(airDF.iloc[:airN].var())\n",
    "print('='*50)\n",
    "print(airDF.iloc[airN:].mean())\n",
    "print(airDF.iloc[airN:].var())"
   ]
  },
  {
   "cell_type": "code",
   "execution_count": 8,
   "id": "3649f668",
   "metadata": {
    "ExecuteTime": {
     "end_time": "2022-01-12T00:59:14.725568Z",
     "start_time": "2022-01-12T00:59:14.710728Z"
    }
   },
   "outputs": [
    {
     "name": "stdout",
     "output_type": "stream",
     "text": [
      "Temp    11.043507\n",
      "dtype: float64\n",
      "Temp    18.170782\n",
      "dtype: float64\n",
      "==================================================\n",
      "Temp    11.312\n",
      "dtype: float64\n",
      "Temp    14.961956\n",
      "dtype: float64\n"
     ]
    }
   ],
   "source": [
    "# stationary dataset, 평균과 분산차이가 작음\n",
    "tempN = tempDF.shape[0]//2\n",
    "print(tempDF.iloc[:tempN].mean())\n",
    "print(tempDF.iloc[:tempN].var())\n",
    "print('='*50)\n",
    "print(tempDF.iloc[tempN:].mean())\n",
    "print(tempDF.iloc[tempN:].var())"
   ]
  },
  {
   "cell_type": "code",
   "execution_count": 9,
   "id": "d50fc831",
   "metadata": {
    "ExecuteTime": {
     "end_time": "2022-01-12T00:59:15.012503Z",
     "start_time": "2022-01-12T00:59:14.726566Z"
    }
   },
   "outputs": [
    {
     "data": {
      "image/png": "[encoded data removed]",
      "text/plain": [
       "<Figure size 432x288 with 1 Axes>"
      ]
     },
     "metadata": {},
     "output_type": "display_data"
    }
   ],
   "source": [
    "# 구간에 따라서 starionary여부 판별이 어려움\n",
    "# autoco를 보자\n",
    "birthDF.plot()\n",
    "plt.show()"
   ]
  },
  {
   "cell_type": "code",
   "execution_count": 10,
   "id": "88034dd2",
   "metadata": {
    "ExecuteTime": {
     "end_time": "2022-01-12T00:59:15.123964Z",
     "start_time": "2022-01-12T00:59:15.015472Z"
    }
   },
   "outputs": [
    {
     "data": {
      "image/png": "[encoded data removed]",
      "text/plain": [
       "<Figure size 432x288 with 1 Axes>"
      ]
     },
     "metadata": {},
     "output_type": "display_data"
    }
   ],
   "source": [
    "airDF.plot()\n",
    "plt.show()"
   ]
  },
  {
   "cell_type": "code",
   "execution_count": 11,
   "id": "a590f26b",
   "metadata": {
    "ExecuteTime": {
     "end_time": "2022-01-12T00:59:15.283537Z",
     "start_time": "2022-01-12T00:59:15.124925Z"
    }
   },
   "outputs": [
    {
     "data": {
      "image/png": "[encoded data removed]",
      "text/plain": [
       "<Figure size 432x288 with 1 Axes>"
      ]
     },
     "metadata": {},
     "output_type": "display_data"
    }
   ],
   "source": [
    "tempDF.plot()\n",
    "plt.show()"
   ]
  },
  {
   "cell_type": "code",
   "execution_count": 12,
   "id": "e9c0f222",
   "metadata": {
    "ExecuteTime": {
     "end_time": "2022-01-12T00:59:15.299457Z",
     "start_time": "2022-01-12T00:59:15.284498Z"
    }
   },
   "outputs": [
    {
     "data": {
      "text/html": [
       "<div>\n",
       "<style scoped>\n",
       "    .dataframe tbody tr th:only-of-type {\n",
       "        vertical-align: middle;\n",
       "    }\n",
       "\n",
       "    .dataframe tbody tr th {\n",
       "        vertical-align: top;\n",
       "    }\n",
       "\n",
       "    .dataframe thead th {\n",
       "        text-align: right;\n",
       "    }\n",
       "</style>\n",
       "<table border=\"1\" class=\"dataframe\">\n",
       "  <thead>\n",
       "    <tr style=\"text-align: right;\">\n",
       "      <th></th>\n",
       "      <th>Temp</th>\n",
       "      <th>days</th>\n",
       "    </tr>\n",
       "    <tr>\n",
       "      <th>date</th>\n",
       "      <th></th>\n",
       "      <th></th>\n",
       "    </tr>\n",
       "  </thead>\n",
       "  <tbody>\n",
       "    <tr>\n",
       "      <th>1981-01-01</th>\n",
       "      <td>20.7</td>\n",
       "      <td>0</td>\n",
       "    </tr>\n",
       "    <tr>\n",
       "      <th>1981-01-02</th>\n",
       "      <td>17.9</td>\n",
       "      <td>1</td>\n",
       "    </tr>\n",
       "    <tr>\n",
       "      <th>1981-01-03</th>\n",
       "      <td>18.8</td>\n",
       "      <td>2</td>\n",
       "    </tr>\n",
       "    <tr>\n",
       "      <th>1981-01-04</th>\n",
       "      <td>14.6</td>\n",
       "      <td>3</td>\n",
       "    </tr>\n",
       "    <tr>\n",
       "      <th>1981-01-05</th>\n",
       "      <td>15.8</td>\n",
       "      <td>4</td>\n",
       "    </tr>\n",
       "    <tr>\n",
       "      <th>...</th>\n",
       "      <td>...</td>\n",
       "      <td>...</td>\n",
       "    </tr>\n",
       "    <tr>\n",
       "      <th>1990-12-27</th>\n",
       "      <td>14.0</td>\n",
       "      <td>3645</td>\n",
       "    </tr>\n",
       "    <tr>\n",
       "      <th>1990-12-28</th>\n",
       "      <td>13.6</td>\n",
       "      <td>3646</td>\n",
       "    </tr>\n",
       "    <tr>\n",
       "      <th>1990-12-29</th>\n",
       "      <td>13.5</td>\n",
       "      <td>3647</td>\n",
       "    </tr>\n",
       "    <tr>\n",
       "      <th>1990-12-30</th>\n",
       "      <td>15.7</td>\n",
       "      <td>3648</td>\n",
       "    </tr>\n",
       "    <tr>\n",
       "      <th>1990-12-31</th>\n",
       "      <td>13.0</td>\n",
       "      <td>3649</td>\n",
       "    </tr>\n",
       "  </tbody>\n",
       "</table>\n",
       "<p>3650 rows × 2 columns</p>\n",
       "</div>"
      ],
      "text/plain": [
       "            Temp  days\n",
       "date                  \n",
       "1981-01-01  20.7     0\n",
       "1981-01-02  17.9     1\n",
       "1981-01-03  18.8     2\n",
       "1981-01-04  14.6     3\n",
       "1981-01-05  15.8     4\n",
       "...          ...   ...\n",
       "1990-12-27  14.0  3645\n",
       "1990-12-28  13.6  3646\n",
       "1990-12-29  13.5  3647\n",
       "1990-12-30  15.7  3648\n",
       "1990-12-31  13.0  3649\n",
       "\n",
       "[3650 rows x 2 columns]"
      ]
     },
     "execution_count": 12,
     "metadata": {},
     "output_type": "execute_result"
    }
   ],
   "source": [
    "tempDF['days'] = range(0, len(tempDF))\n",
    "tempDF"
   ]
  },
  {
   "cell_type": "code",
   "execution_count": 13,
   "id": "6059e57e",
   "metadata": {
    "ExecuteTime": {
     "end_time": "2022-01-12T00:59:15.315414Z",
     "start_time": "2022-01-12T00:59:15.300454Z"
    }
   },
   "outputs": [
    {
     "data": {
      "text/plain": [
       "array([20.7, 17.9, 18.8, ..., 13.5, 15.7, 13. ])"
      ]
     },
     "execution_count": 13,
     "metadata": {},
     "output_type": "execute_result"
    }
   ],
   "source": [
    "temps = tempDF['Temp'].values\n",
    "temps"
   ]
  },
  {
   "cell_type": "code",
   "execution_count": 14,
   "id": "2e6aa759",
   "metadata": {
    "ExecuteTime": {
     "end_time": "2022-01-12T00:59:15.331372Z",
     "start_time": "2022-01-12T00:59:15.316422Z"
    }
   },
   "outputs": [
    {
     "data": {
      "text/plain": [
       "array([17.9, 18.8, 14.6, ..., 13.5, 15.7, 13. ])"
      ]
     },
     "execution_count": 14,
     "metadata": {},
     "output_type": "execute_result"
    }
   ],
   "source": [
    "temps[1:]"
   ]
  },
  {
   "cell_type": "code",
   "execution_count": 15,
   "id": "47add442",
   "metadata": {
    "ExecuteTime": {
     "end_time": "2022-01-12T00:59:15.347330Z",
     "start_time": "2022-01-12T00:59:15.332369Z"
    }
   },
   "outputs": [
    {
     "data": {
      "text/plain": [
       "array([20.7, 17.9, 18.8, ..., 13.6, 13.5, 15.7])"
      ]
     },
     "execution_count": 15,
     "metadata": {},
     "output_type": "execute_result"
    }
   ],
   "source": [
    "temps[:-1]"
   ]
  },
  {
   "cell_type": "code",
   "execution_count": 16,
   "id": "a7423eed",
   "metadata": {
    "ExecuteTime": {
     "end_time": "2022-01-12T00:59:15.363287Z",
     "start_time": "2022-01-12T00:59:15.348326Z"
    }
   },
   "outputs": [
    {
     "data": {
      "text/plain": [
       "0.7748702165384455"
      ]
     },
     "execution_count": 16,
     "metadata": {},
     "output_type": "execute_result"
    }
   ],
   "source": [
    " # lag 1 autocerellation\n",
    "np.corrcoef(temps[1:], temps[:-1])[0,1]"
   ]
  },
  {
   "cell_type": "code",
   "execution_count": 17,
   "id": "0bfad5a0",
   "metadata": {
    "ExecuteTime": {
     "end_time": "2022-01-12T00:59:15.379243Z",
     "start_time": "2022-01-12T00:59:15.365282Z"
    }
   },
   "outputs": [
    {
     "data": {
      "text/plain": [
       "0.6311194620684837"
      ]
     },
     "execution_count": 17,
     "metadata": {},
     "output_type": "execute_result"
    }
   ],
   "source": [
    "np.corrcoef(temps[2:], temps[:-2])[0,1] #rag2"
   ]
  },
  {
   "cell_type": "code",
   "execution_count": 18,
   "id": "4ac5b328",
   "metadata": {
    "ExecuteTime": {
     "end_time": "2022-01-12T00:59:15.395239Z",
     "start_time": "2022-01-12T00:59:15.380241Z"
    }
   },
   "outputs": [
    {
     "data": {
      "text/plain": [
       "[0.7748702165384455,\n",
       " 0.6311194620684837,\n",
       " 0.5863748620126277,\n",
       " 0.5788976133377622,\n",
       " 0.5785715744112058,\n",
       " 0.5765484145122558,\n",
       " 0.5759289535831575,\n",
       " 0.5695569780397493,\n",
       " 0.5634747178408283]"
      ]
     },
     "execution_count": 18,
     "metadata": {},
     "output_type": "execute_result"
    }
   ],
   "source": [
    "# 자기 상관관계가 줄어들경우 stationary\n",
    "autocrrelation = []\n",
    "for shift in range(1, 10):\n",
    "    c = np.corrcoef(temps[:-shift],temps[shift:])[0,1]\n",
    "    autocrrelation.append(c)\n",
    "autocrrelation"
   ]
  },
  {
   "cell_type": "code",
   "execution_count": 19,
   "id": "45657493",
   "metadata": {
    "ExecuteTime": {
     "end_time": "2022-01-12T00:59:15.506902Z",
     "start_time": "2022-01-12T00:59:15.397198Z"
    }
   },
   "outputs": [
    {
     "data": {
      "text/plain": [
       "<function matplotlib.pyplot.show(close=None, block=None)>"
      ]
     },
     "execution_count": 19,
     "metadata": {},
     "output_type": "execute_result"
    },
    {
     "data": {
      "image/png": "[encoded data removed]",
      "text/plain": [
       "<Figure size 432x288 with 1 Axes>"
      ]
     },
     "metadata": {},
     "output_type": "display_data"
    }
   ],
   "source": [
    "plt.scatter(range(0, len(autocrrelation)), autocrrelation)\n",
    "plt.show"
   ]
  },
  {
   "cell_type": "code",
   "execution_count": 20,
   "id": "3defb8fc",
   "metadata": {
    "ExecuteTime": {
     "end_time": "2022-01-12T00:59:15.522859Z",
     "start_time": "2022-01-12T00:59:15.507899Z"
    }
   },
   "outputs": [],
   "source": [
    "from statsmodels.graphics.tsaplots import plot_acf, acf"
   ]
  },
  {
   "cell_type": "code",
   "execution_count": 21,
   "id": "5cabe818",
   "metadata": {
    "ExecuteTime": {
     "end_time": "2022-01-12T00:59:15.538818Z",
     "start_time": "2022-01-12T00:59:15.523857Z"
    }
   },
   "outputs": [
    {
     "data": {
      "text/plain": [
       "array([1.        , 0.774268  , 0.6302866 , 0.58529312, 0.57774567,\n",
       "       0.57728013, 0.57510412, 0.57437039, 0.56782622, 0.56120131,\n",
       "       0.54668689, 0.53793111, 0.54012564, 0.54247126, 0.53688723,\n",
       "       0.53429917, 0.53043593, 0.52911166, 0.53037444, 0.52280732,\n",
       "       0.52303677, 0.52224579, 0.51426684, 0.49837745, 0.49302665,\n",
       "       0.49946731, 0.50428521, 0.50068173, 0.49157081, 0.48146406,\n",
       "       0.47421245, 0.47568054, 0.46311862, 0.46215585, 0.46630567,\n",
       "       0.45459092, 0.43378232, 0.4203594 , 0.42707505, 0.42196486,\n",
       "       0.4079607 ])"
      ]
     },
     "execution_count": 21,
     "metadata": {},
     "output_type": "execute_result"
    }
   ],
   "source": [
    "result = acf(tempDF['Temp'])\n",
    "result\n",
    "# rag가 적용되기 전에는 1, "
   ]
  },
  {
   "cell_type": "code",
   "execution_count": 22,
   "id": "a70116c3",
   "metadata": {
    "ExecuteTime": {
     "end_time": "2022-01-12T00:59:15.665482Z",
     "start_time": "2022-01-12T00:59:15.547813Z"
    }
   },
   "outputs": [
    {
     "data": {
      "text/plain": [
       "<function matplotlib.pyplot.show(close=None, block=None)>"
      ]
     },
     "execution_count": 22,
     "metadata": {},
     "output_type": "execute_result"
    },
    {
     "data": {
      "image/png": "[encoded data removed]",
      "text/plain": [
       "<Figure size 432x288 with 1 Axes>"
      ]
     },
     "metadata": {},
     "output_type": "display_data"
    }
   ],
   "source": [
    "plt.scatter(range(0, len(result)), result)\n",
    "plt.show"
   ]
  },
  {
   "cell_type": "code",
   "execution_count": 23,
   "id": "f64f3b5b",
   "metadata": {
    "ExecuteTime": {
     "end_time": "2022-01-12T00:59:15.776220Z",
     "start_time": "2022-01-12T00:59:15.666475Z"
    },
    "scrolled": true
   },
   "outputs": [
    {
     "data": {
      "image/png": "[encoded data removed]",
      "text/plain": [
       "<Figure size 432x288 with 1 Axes>"
      ]
     },
     "metadata": {},
     "output_type": "display_data"
    }
   ],
   "source": [
    "plot_acf(tempDF['Temp'])\n",
    "plt.show()"
   ]
  },
  {
   "cell_type": "markdown",
   "id": "52312439",
   "metadata": {},
   "source": [
    "##  adfuller 판단지표 : stationary or none-stationary\n",
    "### 검증 조건 ( p-value : 5% 이내면 reject으로 대체가설 선택됨 )\n",
    "- 귀무가설(H0): non-stationary.\n",
    "- 대체가설 (H1): stationary."
   ]
  },
  {
   "cell_type": "code",
   "execution_count": 24,
   "id": "b1dff471",
   "metadata": {
    "ExecuteTime": {
     "end_time": "2022-01-12T00:59:15.792140Z",
     "start_time": "2022-01-12T00:59:15.777179Z"
    }
   },
   "outputs": [],
   "source": [
    "from statsmodels.tsa.stattools import adfuller"
   ]
  },
  {
   "cell_type": "code",
   "execution_count": 25,
   "id": "d968d610",
   "metadata": {
    "ExecuteTime": {
     "end_time": "2022-01-12T00:59:15.823056Z",
     "start_time": "2022-01-12T00:59:15.793137Z"
    }
   },
   "outputs": [
    {
     "name": "stdout",
     "output_type": "stream",
     "text": [
      "-4.808291253559764\n",
      "5.2434129901498554e-05\n"
     ]
    }
   ],
   "source": [
    "# stationary (pvalue가 0보다 작음, 0이 5개.. 귀무가설 기각)\n",
    "result = adfuller(birthDF['Births'])\n",
    "print(result[0]) # adf 작을 수록 귀무가설을 기각시킬 확률이 높다.\n",
    "print(result[1]) # p-vlaue "
   ]
  },
  {
   "cell_type": "code",
   "execution_count": 26,
   "id": "62830dd4",
   "metadata": {
    "ExecuteTime": {
     "end_time": "2022-01-12T00:59:15.839013Z",
     "start_time": "2022-01-12T00:59:15.825051Z"
    }
   },
   "outputs": [
    {
     "name": "stdout",
     "output_type": "stream",
     "text": [
      "0.815368879206063\n",
      "0.9918802434376413\n"
     ]
    }
   ],
   "source": [
    "# none-stationary (pvalue가 0.5보다 큼, 귀무가설 채택)\n",
    "result1 = adfuller(airDF['passengers'])\n",
    "print(result1[0]) # adf 작을 수록 귀무가설을 기각시킬 확률이 높다.\n",
    "print(result1[1]) # p-vlaue "
   ]
  },
  {
   "cell_type": "code",
   "execution_count": 27,
   "id": "336cb4fe",
   "metadata": {
    "ExecuteTime": {
     "end_time": "2022-01-12T00:59:15.934758Z",
     "start_time": "2022-01-12T00:59:15.840011Z"
    }
   },
   "outputs": [
    {
     "name": "stdout",
     "output_type": "stream",
     "text": [
      "-4.444804924611691\n",
      "0.00024708263003610866\n"
     ]
    }
   ],
   "source": [
    "# stationary하다.\n",
    "result1 = adfuller(tempDF['Temp'])\n",
    "print(result1[0]) # adf 작을 수록 귀무가설을 기각시킬 확률이 높다.\n",
    "print(result1[1]) # p-vlaue "
   ]
  },
  {
   "cell_type": "markdown",
   "id": "cfed4fdf",
   "metadata": {},
   "source": [
    "## ARIMA ( 가장 많이 씀)\n",
    "- 통계적 기법(띱러닝 아님)으로 단일 피처에만 적용\n",
    "- original 피처와 shifted된 원피처로 예측한다.(다중선형회귀와 동일)\n",
    "- ARIMA는 보통 none-stationaly한 시계열 데이터를 예측할 때 사용함.\n",
    "    - (original)non-stationary를 차분과정을 통해 stationary로 변경하여 예측함\n",
    "- ARIMA(AR의개수, I의개수, MA의 개수)\n",
    "    - AR(autoregressive) 자기회귀 : 목표 예상변수에 대해서 과거값으로 예측\n",
    "    - MA(moving average) : 과거 예측 오차(forecast error)를 이용\n",
    "    - ARMA(autoregressive and Moving Average) : 2개 모델 결합\n",
    "- AR filter -> integration filter -> MA filter\n",
    "    - intergration filter : None Stationary ->차분-> Stationary\n",
    "\n",
    "\\begin{equation}\n",
    "y_t = 1.6477 y'_{t-1} -0.9094 y'_{t-2} + e_t -1.9101e_{t-1} +0.9999e_{t-2}\n",
    "\\end{equation}\n",
    "</h3>\n",
    "를 따르는 ARIMA모델임을 확인할 수 있다."
   ]
  },
  {
   "cell_type": "code",
   "execution_count": 28,
   "id": "7b44d9d4",
   "metadata": {
    "ExecuteTime": {
     "end_time": "2022-01-12T00:59:16.395015Z",
     "start_time": "2022-01-12T00:59:15.939744Z"
    },
    "scrolled": false
   },
   "outputs": [
    {
     "data": {
      "text/html": [
       "<table class=\"simpletable\">\n",
       "<caption>ARIMA Model Results</caption>\n",
       "<tr>\n",
       "  <th>Dep. Variable:</th>   <td>D.passengers</td>   <th>  No. Observations:  </th>    <td>143</td>  \n",
       "</tr>\n",
       "<tr>\n",
       "  <th>Model:</th>          <td>ARIMA(2, 1, 2)</td>  <th>  Log Likelihood     </th> <td>-666.022</td>\n",
       "</tr>\n",
       "<tr>\n",
       "  <th>Method:</th>             <td>css-mle</td>     <th>  S.D. of innovations</th>  <td>24.711</td> \n",
       "</tr>\n",
       "<tr>\n",
       "  <th>Date:</th>          <td>Wed, 12 Jan 2022</td> <th>  AIC                </th> <td>1344.043</td>\n",
       "</tr>\n",
       "<tr>\n",
       "  <th>Time:</th>              <td>09:59:16</td>     <th>  BIC                </th> <td>1361.820</td>\n",
       "</tr>\n",
       "<tr>\n",
       "  <th>Sample:</th>           <td>02-01-1949</td>    <th>  HQIC               </th> <td>1351.267</td>\n",
       "</tr>\n",
       "<tr>\n",
       "  <th></th>                 <td>- 12-01-1960</td>   <th>                     </th>     <td> </td>   \n",
       "</tr>\n",
       "</table>\n",
       "<table class=\"simpletable\">\n",
       "<tr>\n",
       "           <td></td>             <th>coef</th>     <th>std err</th>      <th>z</th>      <th>P>|z|</th>  <th>[0.025</th>    <th>0.975]</th>  \n",
       "</tr>\n",
       "<tr>\n",
       "  <th>const</th>              <td>    2.5311</td> <td>    0.708</td> <td>    3.574</td> <td> 0.000</td> <td>    1.143</td> <td>    3.919</td>\n",
       "</tr>\n",
       "<tr>\n",
       "  <th>ar.L1.D.passengers</th> <td>    1.6477</td> <td>    0.033</td> <td>   49.933</td> <td> 0.000</td> <td>    1.583</td> <td>    1.712</td>\n",
       "</tr>\n",
       "<tr>\n",
       "  <th>ar.L2.D.passengers</th> <td>   -0.9094</td> <td>    0.033</td> <td>  -27.880</td> <td> 0.000</td> <td>   -0.973</td> <td>   -0.845</td>\n",
       "</tr>\n",
       "<tr>\n",
       "  <th>ma.L1.D.passengers</th> <td>   -1.9100</td> <td>    0.065</td> <td>  -29.529</td> <td> 0.000</td> <td>   -2.037</td> <td>   -1.783</td>\n",
       "</tr>\n",
       "<tr>\n",
       "  <th>ma.L2.D.passengers</th> <td>    0.9999</td> <td>    0.068</td> <td>   14.810</td> <td> 0.000</td> <td>    0.868</td> <td>    1.132</td>\n",
       "</tr>\n",
       "</table>\n",
       "<table class=\"simpletable\">\n",
       "<caption>Roots</caption>\n",
       "<tr>\n",
       "    <td></td>   <th>            Real</th>  <th>         Imaginary</th> <th>         Modulus</th>  <th>        Frequency</th>\n",
       "</tr>\n",
       "<tr>\n",
       "  <th>AR.1</th> <td>           0.9059</td> <td>          -0.5281j</td> <td>           1.0486</td> <td>          -0.0840</td>\n",
       "</tr>\n",
       "<tr>\n",
       "  <th>AR.2</th> <td>           0.9059</td> <td>          +0.5281j</td> <td>           1.0486</td> <td>           0.0840</td>\n",
       "</tr>\n",
       "<tr>\n",
       "  <th>MA.1</th> <td>           0.9551</td> <td>          -0.2964j</td> <td>           1.0001</td> <td>          -0.0479</td>\n",
       "</tr>\n",
       "<tr>\n",
       "  <th>MA.2</th> <td>           0.9551</td> <td>          +0.2964j</td> <td>           1.0001</td> <td>           0.0479</td>\n",
       "</tr>\n",
       "</table>"
      ],
      "text/plain": [
       "<class 'statsmodels.iolib.summary.Summary'>\n",
       "\"\"\"\n",
       "                             ARIMA Model Results                              \n",
       "==============================================================================\n",
       "Dep. Variable:           D.passengers   No. Observations:                  143\n",
       "Model:                 ARIMA(2, 1, 2)   Log Likelihood                -666.022\n",
       "Method:                       css-mle   S.D. of innovations             24.711\n",
       "Date:                Wed, 12 Jan 2022   AIC                           1344.043\n",
       "Time:                        09:59:16   BIC                           1361.820\n",
       "Sample:                    02-01-1949   HQIC                          1351.267\n",
       "                         - 12-01-1960                                         \n",
       "======================================================================================\n",
       "                         coef    std err          z      P>|z|      [0.025      0.975]\n",
       "--------------------------------------------------------------------------------------\n",
       "const                  2.5311      0.708      3.574      0.000       1.143       3.919\n",
       "ar.L1.D.passengers     1.6477      0.033     49.933      0.000       1.583       1.712\n",
       "ar.L2.D.passengers    -0.9094      0.033    -27.880      0.000      -0.973      -0.845\n",
       "ma.L1.D.passengers    -1.9100      0.065    -29.529      0.000      -2.037      -1.783\n",
       "ma.L2.D.passengers     0.9999      0.068     14.810      0.000       0.868       1.132\n",
       "                                    Roots                                    \n",
       "=============================================================================\n",
       "                  Real          Imaginary           Modulus         Frequency\n",
       "-----------------------------------------------------------------------------\n",
       "AR.1            0.9059           -0.5281j            1.0486           -0.0840\n",
       "AR.2            0.9059           +0.5281j            1.0486            0.0840\n",
       "MA.1            0.9551           -0.2964j            1.0001           -0.0479\n",
       "MA.2            0.9551           +0.2964j            1.0001            0.0479\n",
       "-----------------------------------------------------------------------------\n",
       "\"\"\""
      ]
     },
     "execution_count": 28,
     "metadata": {},
     "output_type": "execute_result"
    }
   ],
   "source": [
    "# 0.12.1의 경우, from statsmodels.tsa.arima_model import ARIMA\n",
    "# 0.13.1의 경우, from statsmodels.tsa.arima import ARIMA\n",
    "order = (2, 1, 2)\n",
    "model = ARIMA(airDF, order)\n",
    "rfit = model.fit()\n",
    "rfit.summary()"
   ]
  },
  {
   "cell_type": "code",
   "execution_count": 29,
   "id": "2dfa3151",
   "metadata": {
    "ExecuteTime": {
     "end_time": "2022-01-12T00:59:16.410971Z",
     "start_time": "2022-01-12T00:59:16.396011Z"
    }
   },
   "outputs": [
    {
     "data": {
      "text/plain": [
       "1344.043386072241"
      ]
     },
     "execution_count": 29,
     "metadata": {},
     "output_type": "execute_result"
    }
   ],
   "source": [
    "rfit.aic"
   ]
  },
  {
   "cell_type": "code",
   "execution_count": 30,
   "id": "3339f74a",
   "metadata": {
    "ExecuteTime": {
     "end_time": "2022-01-12T00:59:16.425932Z",
     "start_time": "2022-01-12T00:59:16.411969Z"
    }
   },
   "outputs": [],
   "source": [
    "def arima_aic_check(data, order,sort = 'AIC'):\n",
    "    order_list = []\n",
    "    aic_list = []\n",
    "    bic_lsit = []\n",
    "    for p in range(order[0]):\n",
    "        for d in range(order[1]):\n",
    "            for q in range(order[2]):\n",
    "                model = ARIMA(data, order=(p,d,q))\n",
    "                try:\n",
    "                    model_fit = model.fit()\n",
    "                    c_order = f'p:{p} d:{d} q:{q}'\n",
    "                    aic = model_fit.aic\n",
    "                    bic = model_fit.bic\n",
    "                    order_list.append(c_order)\n",
    "                    aic_list.append(aic)\n",
    "                    bic_list.append(bic)\n",
    "                except:\n",
    "                    pass\n",
    "    result_df = pd.DataFrame(list(zip(order_list, aic_list)),columns=['order','AIC'])\n",
    "    result_df.sort_values(sort, inplace=True)\n",
    "    return result_df"
   ]
  },
  {
   "cell_type": "code",
   "execution_count": 31,
   "id": "22d1172f",
   "metadata": {
    "ExecuteTime": {
     "end_time": "2022-01-12T00:59:18.822493Z",
     "start_time": "2022-01-12T00:59:16.426928Z"
    }
   },
   "outputs": [
    {
     "data": {
      "text/html": [
       "<div>\n",
       "<style scoped>\n",
       "    .dataframe tbody tr th:only-of-type {\n",
       "        vertical-align: middle;\n",
       "    }\n",
       "\n",
       "    .dataframe tbody tr th {\n",
       "        vertical-align: top;\n",
       "    }\n",
       "\n",
       "    .dataframe thead th {\n",
       "        text-align: right;\n",
       "    }\n",
       "</style>\n",
       "<table border=\"1\" class=\"dataframe\">\n",
       "  <thead>\n",
       "    <tr style=\"text-align: right;\">\n",
       "      <th></th>\n",
       "      <th>order</th>\n",
       "      <th>AIC</th>\n",
       "    </tr>\n",
       "  </thead>\n",
       "  <tbody>\n",
       "    <tr>\n",
       "      <th>21</th>\n",
       "      <td>p:2 d:1 q:2</td>\n",
       "      <td>1344.043386</td>\n",
       "    </tr>\n",
       "    <tr>\n",
       "      <th>20</th>\n",
       "      <td>p:2 d:1 q:1</td>\n",
       "      <td>1361.695809</td>\n",
       "    </tr>\n",
       "    <tr>\n",
       "      <th>13</th>\n",
       "      <td>p:1 d:1 q:2</td>\n",
       "      <td>1371.815374</td>\n",
       "    </tr>\n",
       "    <tr>\n",
       "      <th>15</th>\n",
       "      <td>p:1 d:2 q:2</td>\n",
       "      <td>1393.908442</td>\n",
       "    </tr>\n",
       "    <tr>\n",
       "      <th>23</th>\n",
       "      <td>p:2 d:2 q:2</td>\n",
       "      <td>1394.656208</td>\n",
       "    </tr>\n",
       "    <tr>\n",
       "      <th>7</th>\n",
       "      <td>p:0 d:2 q:2</td>\n",
       "      <td>1396.371696</td>\n",
       "    </tr>\n",
       "    <tr>\n",
       "      <th>19</th>\n",
       "      <td>p:2 d:1 q:0</td>\n",
       "      <td>1397.975152</td>\n",
       "    </tr>\n",
       "    <tr>\n",
       "      <th>4</th>\n",
       "      <td>p:0 d:1 q:2</td>\n",
       "      <td>1398.385532</td>\n",
       "    </tr>\n",
       "    <tr>\n",
       "      <th>3</th>\n",
       "      <td>p:0 d:1 q:1</td>\n",
       "      <td>1398.827110</td>\n",
       "    </tr>\n",
       "    <tr>\n",
       "      <th>12</th>\n",
       "      <td>p:1 d:1 q:1</td>\n",
       "      <td>1402.145400</td>\n",
       "    </tr>\n",
       "    <tr>\n",
       "      <th>11</th>\n",
       "      <td>p:1 d:1 q:0</td>\n",
       "      <td>1403.472861</td>\n",
       "    </tr>\n",
       "    <tr>\n",
       "      <th>17</th>\n",
       "      <td>p:2 d:0 q:1</td>\n",
       "      <td>1408.249223</td>\n",
       "    </tr>\n",
       "    <tr>\n",
       "      <th>9</th>\n",
       "      <td>p:1 d:0 q:1</td>\n",
       "      <td>1409.748270</td>\n",
       "    </tr>\n",
       "    <tr>\n",
       "      <th>10</th>\n",
       "      <td>p:1 d:0 q:2</td>\n",
       "      <td>1411.050254</td>\n",
       "    </tr>\n",
       "    <tr>\n",
       "      <th>6</th>\n",
       "      <td>p:0 d:2 q:1</td>\n",
       "      <td>1413.362709</td>\n",
       "    </tr>\n",
       "    <tr>\n",
       "      <th>16</th>\n",
       "      <td>p:2 d:0 q:0</td>\n",
       "      <td>1413.638784</td>\n",
       "    </tr>\n",
       "    <tr>\n",
       "      <th>2</th>\n",
       "      <td>p:0 d:1 q:0</td>\n",
       "      <td>1415.277587</td>\n",
       "    </tr>\n",
       "    <tr>\n",
       "      <th>8</th>\n",
       "      <td>p:1 d:0 q:0</td>\n",
       "      <td>1428.179379</td>\n",
       "    </tr>\n",
       "    <tr>\n",
       "      <th>22</th>\n",
       "      <td>p:2 d:2 q:0</td>\n",
       "      <td>1442.077736</td>\n",
       "    </tr>\n",
       "    <tr>\n",
       "      <th>14</th>\n",
       "      <td>p:1 d:2 q:0</td>\n",
       "      <td>1449.026002</td>\n",
       "    </tr>\n",
       "    <tr>\n",
       "      <th>5</th>\n",
       "      <td>p:0 d:2 q:0</td>\n",
       "      <td>1452.590161</td>\n",
       "    </tr>\n",
       "    <tr>\n",
       "      <th>18</th>\n",
       "      <td>p:2 d:0 q:2</td>\n",
       "      <td>1472.748297</td>\n",
       "    </tr>\n",
       "    <tr>\n",
       "      <th>1</th>\n",
       "      <td>p:0 d:0 q:1</td>\n",
       "      <td>1618.862527</td>\n",
       "    </tr>\n",
       "    <tr>\n",
       "      <th>0</th>\n",
       "      <td>p:0 d:0 q:0</td>\n",
       "      <td>1790.367580</td>\n",
       "    </tr>\n",
       "  </tbody>\n",
       "</table>\n",
       "</div>"
      ],
      "text/plain": [
       "          order          AIC\n",
       "21  p:2 d:1 q:2  1344.043386\n",
       "20  p:2 d:1 q:1  1361.695809\n",
       "13  p:1 d:1 q:2  1371.815374\n",
       "15  p:1 d:2 q:2  1393.908442\n",
       "23  p:2 d:2 q:2  1394.656208\n",
       "7   p:0 d:2 q:2  1396.371696\n",
       "19  p:2 d:1 q:0  1397.975152\n",
       "4   p:0 d:1 q:2  1398.385532\n",
       "3   p:0 d:1 q:1  1398.827110\n",
       "12  p:1 d:1 q:1  1402.145400\n",
       "11  p:1 d:1 q:0  1403.472861\n",
       "17  p:2 d:0 q:1  1408.249223\n",
       "9   p:1 d:0 q:1  1409.748270\n",
       "10  p:1 d:0 q:2  1411.050254\n",
       "6   p:0 d:2 q:1  1413.362709\n",
       "16  p:2 d:0 q:0  1413.638784\n",
       "2   p:0 d:1 q:0  1415.277587\n",
       "8   p:1 d:0 q:0  1428.179379\n",
       "22  p:2 d:2 q:0  1442.077736\n",
       "14  p:1 d:2 q:0  1449.026002\n",
       "5   p:0 d:2 q:0  1452.590161\n",
       "18  p:2 d:0 q:2  1472.748297\n",
       "1   p:0 d:0 q:1  1618.862527\n",
       "0   p:0 d:0 q:0  1790.367580"
      ]
     },
     "execution_count": 31,
     "metadata": {},
     "output_type": "execute_result"
    }
   ],
   "source": [
    "# aic값이 가장 작은 모델을 선택, 21번\n",
    "arima_aic_check(airDF, [3,3,3])"
   ]
  },
  {
   "cell_type": "code",
   "execution_count": 32,
   "id": "2a31f9d8",
   "metadata": {
    "ExecuteTime": {
     "end_time": "2022-01-12T00:59:18.838450Z",
     "start_time": "2022-01-12T00:59:18.823491Z"
    },
    "scrolled": true
   },
   "outputs": [
    {
     "data": {
      "text/plain": [
       "1949-02-01    114.531095\n",
       "1949-03-01    121.350895\n",
       "1949-04-01    137.221342\n",
       "1949-05-01    129.789527\n",
       "1949-06-01    119.169414\n",
       "1949-07-01    136.762407\n",
       "1949-08-01    149.739078\n",
       "1949-09-01    147.367310\n",
       "1949-10-01    134.798629\n",
       "1949-11-01    121.076958\n",
       "Freq: MS, dtype: float64"
      ]
     },
     "execution_count": 32,
     "metadata": {},
     "output_type": "execute_result"
    }
   ],
   "source": [
    "rfit.predict(1, 10, typ='levels') # typ= default값이 linear, 예측할때 levels"
   ]
  },
  {
   "cell_type": "code",
   "execution_count": 33,
   "id": "761727d6",
   "metadata": {
    "ExecuteTime": {
     "end_time": "2022-01-12T00:59:18.854407Z",
     "start_time": "2022-01-12T00:59:18.839448Z"
    }
   },
   "outputs": [
    {
     "data": {
      "text/plain": [
       "1960-07-01    553.884765\n",
       "1960-08-01    599.046834\n",
       "1960-09-01    555.150162\n",
       "1960-10-01    458.019391\n",
       "1960-11-01    421.197365\n",
       "1960-12-01    378.526604\n",
       "1961-01-01    433.104604\n",
       "1961-02-01    450.859748\n",
       "1961-03-01    479.773019\n",
       "1961-04-01    511.929829\n",
       "1961-05-01    539.283938\n",
       "1961-06-01    555.774897\n",
       "1961-07-01    558.734002\n",
       "Freq: MS, dtype: float64"
      ]
     },
     "execution_count": 33,
     "metadata": {},
     "output_type": "execute_result"
    }
   ],
   "source": [
    "preds = rfit.predict('1960-07-01', '1961-07-01', typ='levels')\n",
    "preds"
   ]
  },
  {
   "cell_type": "code",
   "execution_count": 34,
   "id": "e47c9b4d",
   "metadata": {
    "ExecuteTime": {
     "end_time": "2022-01-12T00:59:18.870366Z",
     "start_time": "2022-01-12T00:59:18.855405Z"
    }
   },
   "outputs": [
    {
     "data": {
      "text/html": [
       "<div>\n",
       "<style scoped>\n",
       "    .dataframe tbody tr th:only-of-type {\n",
       "        vertical-align: middle;\n",
       "    }\n",
       "\n",
       "    .dataframe tbody tr th {\n",
       "        vertical-align: top;\n",
       "    }\n",
       "\n",
       "    .dataframe thead th {\n",
       "        text-align: right;\n",
       "    }\n",
       "</style>\n",
       "<table border=\"1\" class=\"dataframe\">\n",
       "  <thead>\n",
       "    <tr style=\"text-align: right;\">\n",
       "      <th></th>\n",
       "      <th>passengers</th>\n",
       "    </tr>\n",
       "    <tr>\n",
       "      <th>time</th>\n",
       "      <th></th>\n",
       "    </tr>\n",
       "  </thead>\n",
       "  <tbody>\n",
       "    <tr>\n",
       "      <th>1960-07-01</th>\n",
       "      <td>622</td>\n",
       "    </tr>\n",
       "    <tr>\n",
       "      <th>1960-08-01</th>\n",
       "      <td>606</td>\n",
       "    </tr>\n",
       "    <tr>\n",
       "      <th>1960-09-01</th>\n",
       "      <td>508</td>\n",
       "    </tr>\n",
       "    <tr>\n",
       "      <th>1960-10-01</th>\n",
       "      <td>461</td>\n",
       "    </tr>\n",
       "    <tr>\n",
       "      <th>1960-11-01</th>\n",
       "      <td>390</td>\n",
       "    </tr>\n",
       "    <tr>\n",
       "      <th>1960-12-01</th>\n",
       "      <td>432</td>\n",
       "    </tr>\n",
       "  </tbody>\n",
       "</table>\n",
       "</div>"
      ],
      "text/plain": [
       "            passengers\n",
       "time                  \n",
       "1960-07-01         622\n",
       "1960-08-01         606\n",
       "1960-09-01         508\n",
       "1960-10-01         461\n",
       "1960-11-01         390\n",
       "1960-12-01         432"
      ]
     },
     "execution_count": 34,
     "metadata": {},
     "output_type": "execute_result"
    }
   ],
   "source": [
    "train = airDF[:'1960-07-01']\n",
    "test = airDF['1960-07-01':]\n",
    "test"
   ]
  },
  {
   "cell_type": "code",
   "execution_count": 35,
   "id": "1b6010b3",
   "metadata": {
    "ExecuteTime": {
     "end_time": "2022-01-12T00:59:18.982101Z",
     "start_time": "2022-01-12T00:59:18.871362Z"
    }
   },
   "outputs": [
    {
     "data": {
      "text/plain": [
       "[<matplotlib.lines.Line2D at 0x22c8c4418b0>]"
      ]
     },
     "execution_count": 35,
     "metadata": {},
     "output_type": "execute_result"
    },
    {
     "data": {
      "image/png": "[encoded data removed]",
      "text/plain": [
       "<Figure size 432x288 with 1 Axes>"
      ]
     },
     "metadata": {},
     "output_type": "display_data"
    }
   ],
   "source": [
    "plt.plot(train)\n",
    "plt.plot(test, 'b--')\n",
    "plt.plot(preds, 'g')"
   ]
  },
  {
   "cell_type": "markdown",
   "id": "0bc2e60d",
   "metadata": {},
   "source": [
    "## ARIMA 연습문제\n",
    "1. acf 값 구하기\n",
    "2. adfuller로 stational한지 none-stational한지 체크\n",
    "3. p, d, q값\n",
    "4. arima 모델로 예측(2001-11-13, 2001-11-20)\n",
    "5. 실제값 예측값을 그래프로 그리시오"
   ]
  },
  {
   "cell_type": "code",
   "execution_count": 36,
   "id": "473d08d6",
   "metadata": {
    "ExecuteTime": {
     "end_time": "2022-01-12T00:59:18.998024Z",
     "start_time": "2022-01-12T00:59:18.983064Z"
    },
    "scrolled": true
   },
   "outputs": [
    {
     "data": {
      "text/html": [
       "<div>\n",
       "<style scoped>\n",
       "    .dataframe tbody tr th:only-of-type {\n",
       "        vertical-align: middle;\n",
       "    }\n",
       "\n",
       "    .dataframe tbody tr th {\n",
       "        vertical-align: top;\n",
       "    }\n",
       "\n",
       "    .dataframe thead th {\n",
       "        text-align: right;\n",
       "    }\n",
       "</style>\n",
       "<table border=\"1\" class=\"dataframe\">\n",
       "  <thead>\n",
       "    <tr style=\"text-align: right;\">\n",
       "      <th></th>\n",
       "      <th>count</th>\n",
       "    </tr>\n",
       "    <tr>\n",
       "      <th>date</th>\n",
       "      <th></th>\n",
       "    </tr>\n",
       "  </thead>\n",
       "  <tbody>\n",
       "    <tr>\n",
       "      <th>2001-11-01</th>\n",
       "      <td>0.998543</td>\n",
       "    </tr>\n",
       "    <tr>\n",
       "      <th>2001-11-02</th>\n",
       "      <td>1.914526</td>\n",
       "    </tr>\n",
       "    <tr>\n",
       "      <th>2001-11-03</th>\n",
       "      <td>3.057407</td>\n",
       "    </tr>\n",
       "    <tr>\n",
       "      <th>2001-11-04</th>\n",
       "      <td>4.044301</td>\n",
       "    </tr>\n",
       "    <tr>\n",
       "      <th>2001-11-05</th>\n",
       "      <td>4.952441</td>\n",
       "    </tr>\n",
       "    <tr>\n",
       "      <th>2001-11-06</th>\n",
       "      <td>6.002932</td>\n",
       "    </tr>\n",
       "    <tr>\n",
       "      <th>2001-11-07</th>\n",
       "      <td>6.930134</td>\n",
       "    </tr>\n",
       "    <tr>\n",
       "      <th>2001-11-08</th>\n",
       "      <td>8.011137</td>\n",
       "    </tr>\n",
       "    <tr>\n",
       "      <th>2001-11-09</th>\n",
       "      <td>9.040393</td>\n",
       "    </tr>\n",
       "    <tr>\n",
       "      <th>2001-11-10</th>\n",
       "      <td>10.097007</td>\n",
       "    </tr>\n",
       "    <tr>\n",
       "      <th>2001-11-11</th>\n",
       "      <td>11.063742</td>\n",
       "    </tr>\n",
       "    <tr>\n",
       "      <th>2001-11-12</th>\n",
       "      <td>12.051951</td>\n",
       "    </tr>\n",
       "    <tr>\n",
       "      <th>2001-11-13</th>\n",
       "      <td>13.062637</td>\n",
       "    </tr>\n",
       "    <tr>\n",
       "      <th>2001-11-14</th>\n",
       "      <td>14.086016</td>\n",
       "    </tr>\n",
       "    <tr>\n",
       "      <th>2001-11-15</th>\n",
       "      <td>15.096826</td>\n",
       "    </tr>\n",
       "    <tr>\n",
       "      <th>2001-11-16</th>\n",
       "      <td>15.944886</td>\n",
       "    </tr>\n",
       "    <tr>\n",
       "      <th>2001-11-17</th>\n",
       "      <td>17.027107</td>\n",
       "    </tr>\n",
       "    <tr>\n",
       "      <th>2001-11-18</th>\n",
       "      <td>17.930240</td>\n",
       "    </tr>\n",
       "    <tr>\n",
       "      <th>2001-11-19</th>\n",
       "      <td>18.984202</td>\n",
       "    </tr>\n",
       "    <tr>\n",
       "      <th>2001-11-20</th>\n",
       "      <td>19.971603</td>\n",
       "    </tr>\n",
       "  </tbody>\n",
       "</table>\n",
       "</div>"
      ],
      "text/plain": [
       "                count\n",
       "date                 \n",
       "2001-11-01   0.998543\n",
       "2001-11-02   1.914526\n",
       "2001-11-03   3.057407\n",
       "2001-11-04   4.044301\n",
       "2001-11-05   4.952441\n",
       "2001-11-06   6.002932\n",
       "2001-11-07   6.930134\n",
       "2001-11-08   8.011137\n",
       "2001-11-09   9.040393\n",
       "2001-11-10  10.097007\n",
       "2001-11-11  11.063742\n",
       "2001-11-12  12.051951\n",
       "2001-11-13  13.062637\n",
       "2001-11-14  14.086016\n",
       "2001-11-15  15.096826\n",
       "2001-11-16  15.944886\n",
       "2001-11-17  17.027107\n",
       "2001-11-18  17.930240\n",
       "2001-11-19  18.984202\n",
       "2001-11-20  19.971603"
      ]
     },
     "execution_count": 36,
     "metadata": {},
     "output_type": "execute_result"
    }
   ],
   "source": [
    "df = pd.DataFrame([\n",
    "        ['2001-11-01', 0.998543],\n",
    "        ['2001-11-02', 1.914526],\n",
    "        ['2001-11-03', 3.057407],\n",
    "        ['2001-11-04', 4.044301],\n",
    "        ['2001-11-05', 4.952441],\n",
    "        ['2001-11-06', 6.002932],\n",
    "        ['2001-11-07', 6.930134],\n",
    "        ['2001-11-08', 8.011137],\n",
    "        ['2001-11-09', 9.040393],\n",
    "        ['2001-11-10', 10.097007],\n",
    "        ['2001-11-11', 11.063742],\n",
    "        ['2001-11-12', 12.051951],\n",
    "        ['2001-11-13', 13.062637],\n",
    "        ['2001-11-14', 14.086016],\n",
    "        ['2001-11-15', 15.096826],\n",
    "        ['2001-11-16', 15.944886],\n",
    "        ['2001-11-17', 17.027107],\n",
    "        ['2001-11-18', 17.930240],\n",
    "        ['2001-11-19', 18.984202],\n",
    "        ['2001-11-20', 19.971603]\n",
    "    ], columns=['date', 'count'])\n",
    "df['date'] = pd.to_datetime(df.date, format='%Y-%m-%d')\n",
    "df = df.set_index('date')\n",
    "df"
   ]
  },
  {
   "cell_type": "code",
   "execution_count": 37,
   "id": "95579b08",
   "metadata": {
    "ExecuteTime": {
     "end_time": "2022-01-12T00:59:19.013981Z",
     "start_time": "2022-01-12T00:59:18.999024Z"
    }
   },
   "outputs": [],
   "source": [
    "# 1. acf  구하기\n",
    "from statsmodels.graphics.tsaplots import plot_acf, acf"
   ]
  },
  {
   "cell_type": "code",
   "execution_count": 38,
   "id": "786539fa",
   "metadata": {
    "ExecuteTime": {
     "end_time": "2022-01-12T00:59:19.029938Z",
     "start_time": "2022-01-12T00:59:19.014979Z"
    },
    "scrolled": true
   },
   "outputs": [
    {
     "data": {
      "text/plain": [
       "array([ 1.        ,  0.85051096,  0.70111766,  0.55770427,  0.41727086,\n",
       "        0.28272744,  0.15409016,  0.03335875, -0.07545946, -0.17166745,\n",
       "       -0.25369122, -0.32166247, -0.37250429, -0.40465095, -0.41553391,\n",
       "       -0.40615602, -0.37568118, -0.32135199, -0.24323865, -0.13518252])"
      ]
     },
     "execution_count": 38,
     "metadata": {},
     "output_type": "execute_result"
    }
   ],
   "source": [
    "result = acf(df['count'])\n",
    "result"
   ]
  },
  {
   "cell_type": "code",
   "execution_count": 39,
   "id": "35c29c52",
   "metadata": {
    "ExecuteTime": {
     "end_time": "2022-01-12T00:59:19.140692Z",
     "start_time": "2022-01-12T00:59:19.030936Z"
    }
   },
   "outputs": [
    {
     "data": {
      "text/plain": [
       "<function matplotlib.pyplot.show(close=None, block=None)>"
      ]
     },
     "execution_count": 39,
     "metadata": {},
     "output_type": "execute_result"
    },
    {
     "data": {
      "image/png": "[encoded data removed]",
      "text/plain": [
       "<Figure size 432x288 with 1 Axes>"
      ]
     },
     "metadata": {},
     "output_type": "display_data"
    }
   ],
   "source": [
    "plt.scatter(range(0, len(result)), result)\n",
    "plt.show"
   ]
  },
  {
   "cell_type": "code",
   "execution_count": 40,
   "id": "6eea90e1",
   "metadata": {
    "ExecuteTime": {
     "end_time": "2022-01-12T00:59:19.236229Z",
     "start_time": "2022-01-12T00:59:19.141640Z"
    }
   },
   "outputs": [
    {
     "data": {
      "image/png": "[encoded data removed]",
      "text/plain": [
       "<Figure size 432x288 with 1 Axes>"
      ]
     },
     "metadata": {},
     "output_type": "display_data"
    }
   ],
   "source": [
    "plot_acf(df['count'])\n",
    "plt.show()"
   ]
  },
  {
   "cell_type": "code",
   "execution_count": 41,
   "id": "553615a6",
   "metadata": {
    "ExecuteTime": {
     "end_time": "2022-01-12T00:59:19.252186Z",
     "start_time": "2022-01-12T00:59:19.237226Z"
    },
    "scrolled": true
   },
   "outputs": [
    {
     "name": "stdout",
     "output_type": "stream",
     "text": [
      "-7.573269903544496\n",
      "2.804546459120648e-11\n"
     ]
    }
   ],
   "source": [
    "# adfuller로 stational한지 none-stational한지 체크\n",
    "from statsmodels.tsa.stattools import adfuller\n",
    "# none-stationary (pvalue가 0.5보다 큼, 귀무가설 채택)\n",
    "result1 = adfuller(df['count'])\n",
    "print(result1[0]) # adf 작을 수록 귀무가설을 기각시킬 확률이 높다.\n",
    "print(result1[1]) # p-vlaue "
   ]
  },
  {
   "cell_type": "code",
   "execution_count": 42,
   "id": "afbe4af6",
   "metadata": {
    "ExecuteTime": {
     "end_time": "2022-01-12T00:59:19.268143Z",
     "start_time": "2022-01-12T00:59:19.253184Z"
    }
   },
   "outputs": [],
   "source": [
    "# 최적의 aic값 구하기 p, d, q값\n",
    "def arima_aic_check(data, order,sort = 'AIC'):\n",
    "    order_list = []\n",
    "    aic_list = []\n",
    "    bic_lsit = []\n",
    "    for p in range(order[0]):\n",
    "        for d in range(order[1]):\n",
    "            for q in range(order[2]):\n",
    "                model = ARIMA(data, order=(p,d,q))\n",
    "                try:\n",
    "                    model_fit = model.fit()\n",
    "                    c_order = f'p:{p} d:{d} q:{q}'\n",
    "                    aic = model_fit.aic\n",
    "                    bic = model_fit.bic\n",
    "                    order_list.append(c_order)\n",
    "                    aic_list.append(aic)\n",
    "                    bic_list.append(bic)\n",
    "                except:\n",
    "                    pass\n",
    "    result_df = pd.DataFrame(list(zip(order_list, aic_list)),columns=['order','AIC'])\n",
    "    result_df.sort_values(sort, inplace=True)\n",
    "    return result_df"
   ]
  },
  {
   "cell_type": "code",
   "execution_count": 43,
   "id": "efe268e1",
   "metadata": {
    "ExecuteTime": {
     "end_time": "2022-01-12T00:59:21.559741Z",
     "start_time": "2022-01-12T00:59:19.269140Z"
    }
   },
   "outputs": [
    {
     "data": {
      "text/html": [
       "<div>\n",
       "<style scoped>\n",
       "    .dataframe tbody tr th:only-of-type {\n",
       "        vertical-align: middle;\n",
       "    }\n",
       "\n",
       "    .dataframe tbody tr th {\n",
       "        vertical-align: top;\n",
       "    }\n",
       "\n",
       "    .dataframe thead th {\n",
       "        text-align: right;\n",
       "    }\n",
       "</style>\n",
       "<table border=\"1\" class=\"dataframe\">\n",
       "  <thead>\n",
       "    <tr style=\"text-align: right;\">\n",
       "      <th></th>\n",
       "      <th>order</th>\n",
       "      <th>AIC</th>\n",
       "    </tr>\n",
       "  </thead>\n",
       "  <tbody>\n",
       "    <tr>\n",
       "      <th>4</th>\n",
       "      <td>p:0 d:1 q:1</td>\n",
       "      <td>-46.510330</td>\n",
       "    </tr>\n",
       "    <tr>\n",
       "      <th>10</th>\n",
       "      <td>p:1 d:1 q:0</td>\n",
       "      <td>-46.352253</td>\n",
       "    </tr>\n",
       "    <tr>\n",
       "      <th>11</th>\n",
       "      <td>p:1 d:1 q:1</td>\n",
       "      <td>-44.691545</td>\n",
       "    </tr>\n",
       "    <tr>\n",
       "      <th>5</th>\n",
       "      <td>p:0 d:1 q:2</td>\n",
       "      <td>-44.595638</td>\n",
       "    </tr>\n",
       "    <tr>\n",
       "      <th>17</th>\n",
       "      <td>p:2 d:1 q:0</td>\n",
       "      <td>-44.545073</td>\n",
       "    </tr>\n",
       "    <tr>\n",
       "      <th>18</th>\n",
       "      <td>p:2 d:1 q:1</td>\n",
       "      <td>-44.052351</td>\n",
       "    </tr>\n",
       "    <tr>\n",
       "      <th>12</th>\n",
       "      <td>p:1 d:1 q:2</td>\n",
       "      <td>-42.796456</td>\n",
       "    </tr>\n",
       "    <tr>\n",
       "      <th>3</th>\n",
       "      <td>p:0 d:1 q:0</td>\n",
       "      <td>-41.995440</td>\n",
       "    </tr>\n",
       "    <tr>\n",
       "      <th>19</th>\n",
       "      <td>p:2 d:1 q:2</td>\n",
       "      <td>-38.789645</td>\n",
       "    </tr>\n",
       "    <tr>\n",
       "      <th>8</th>\n",
       "      <td>p:0 d:2 q:2</td>\n",
       "      <td>-38.039368</td>\n",
       "    </tr>\n",
       "    <tr>\n",
       "      <th>14</th>\n",
       "      <td>p:1 d:2 q:1</td>\n",
       "      <td>-37.642422</td>\n",
       "    </tr>\n",
       "    <tr>\n",
       "      <th>15</th>\n",
       "      <td>p:1 d:2 q:2</td>\n",
       "      <td>-36.052055</td>\n",
       "    </tr>\n",
       "    <tr>\n",
       "      <th>21</th>\n",
       "      <td>p:2 d:2 q:1</td>\n",
       "      <td>-35.851557</td>\n",
       "    </tr>\n",
       "    <tr>\n",
       "      <th>22</th>\n",
       "      <td>p:2 d:2 q:2</td>\n",
       "      <td>-34.977004</td>\n",
       "    </tr>\n",
       "    <tr>\n",
       "      <th>7</th>\n",
       "      <td>p:0 d:2 q:1</td>\n",
       "      <td>-33.759830</td>\n",
       "    </tr>\n",
       "    <tr>\n",
       "      <th>20</th>\n",
       "      <td>p:2 d:2 q:0</td>\n",
       "      <td>-32.976247</td>\n",
       "    </tr>\n",
       "    <tr>\n",
       "      <th>13</th>\n",
       "      <td>p:1 d:2 q:0</td>\n",
       "      <td>-30.849871</td>\n",
       "    </tr>\n",
       "    <tr>\n",
       "      <th>6</th>\n",
       "      <td>p:0 d:2 q:0</td>\n",
       "      <td>-18.967009</td>\n",
       "    </tr>\n",
       "    <tr>\n",
       "      <th>16</th>\n",
       "      <td>p:2 d:0 q:0</td>\n",
       "      <td>4.230571</td>\n",
       "    </tr>\n",
       "    <tr>\n",
       "      <th>9</th>\n",
       "      <td>p:1 d:0 q:0</td>\n",
       "      <td>67.211518</td>\n",
       "    </tr>\n",
       "    <tr>\n",
       "      <th>2</th>\n",
       "      <td>p:0 d:0 q:2</td>\n",
       "      <td>93.021176</td>\n",
       "    </tr>\n",
       "    <tr>\n",
       "      <th>1</th>\n",
       "      <td>p:0 d:0 q:1</td>\n",
       "      <td>111.032398</td>\n",
       "    </tr>\n",
       "    <tr>\n",
       "      <th>0</th>\n",
       "      <td>p:0 d:0 q:0</td>\n",
       "      <td>130.860221</td>\n",
       "    </tr>\n",
       "  </tbody>\n",
       "</table>\n",
       "</div>"
      ],
      "text/plain": [
       "          order         AIC\n",
       "4   p:0 d:1 q:1  -46.510330\n",
       "10  p:1 d:1 q:0  -46.352253\n",
       "11  p:1 d:1 q:1  -44.691545\n",
       "5   p:0 d:1 q:2  -44.595638\n",
       "17  p:2 d:1 q:0  -44.545073\n",
       "18  p:2 d:1 q:1  -44.052351\n",
       "12  p:1 d:1 q:2  -42.796456\n",
       "3   p:0 d:1 q:0  -41.995440\n",
       "19  p:2 d:1 q:2  -38.789645\n",
       "8   p:0 d:2 q:2  -38.039368\n",
       "14  p:1 d:2 q:1  -37.642422\n",
       "15  p:1 d:2 q:2  -36.052055\n",
       "21  p:2 d:2 q:1  -35.851557\n",
       "22  p:2 d:2 q:2  -34.977004\n",
       "7   p:0 d:2 q:1  -33.759830\n",
       "20  p:2 d:2 q:0  -32.976247\n",
       "13  p:1 d:2 q:0  -30.849871\n",
       "6   p:0 d:2 q:0  -18.967009\n",
       "16  p:2 d:0 q:0    4.230571\n",
       "9   p:1 d:0 q:0   67.211518\n",
       "2   p:0 d:0 q:2   93.021176\n",
       "1   p:0 d:0 q:1  111.032398\n",
       "0   p:0 d:0 q:0  130.860221"
      ]
     },
     "execution_count": 43,
     "metadata": {},
     "output_type": "execute_result"
    }
   ],
   "source": [
    "# aic값이 가장 작은 모델을 선택, 4번 0, 1, 1\n",
    "arima_aic_check(df, [3,3,3])"
   ]
  },
  {
   "cell_type": "code",
   "execution_count": 44,
   "id": "b5e69095",
   "metadata": {
    "ExecuteTime": {
     "end_time": "2022-01-12T00:59:21.639188Z",
     "start_time": "2022-01-12T00:59:21.560739Z"
    }
   },
   "outputs": [
    {
     "data": {
      "text/html": [
       "<table class=\"simpletable\">\n",
       "<caption>ARIMA Model Results</caption>\n",
       "<tr>\n",
       "  <th>Dep. Variable:</th>      <td>D.count</td>     <th>  No. Observations:  </th>   <td>19</td>   \n",
       "</tr>\n",
       "<tr>\n",
       "  <th>Model:</th>          <td>ARIMA(0, 1, 1)</td>  <th>  Log Likelihood     </th> <td>26.255</td> \n",
       "</tr>\n",
       "<tr>\n",
       "  <th>Method:</th>             <td>css-mle</td>     <th>  S.D. of innovations</th>  <td>0.060</td> \n",
       "</tr>\n",
       "<tr>\n",
       "  <th>Date:</th>          <td>Wed, 12 Jan 2022</td> <th>  AIC                </th> <td>-46.510</td>\n",
       "</tr>\n",
       "<tr>\n",
       "  <th>Time:</th>              <td>09:59:21</td>     <th>  BIC                </th> <td>-43.677</td>\n",
       "</tr>\n",
       "<tr>\n",
       "  <th>Sample:</th>           <td>11-02-2001</td>    <th>  HQIC               </th> <td>-46.031</td>\n",
       "</tr>\n",
       "<tr>\n",
       "  <th></th>                 <td>- 11-20-2001</td>   <th>                     </th>    <td> </td>   \n",
       "</tr>\n",
       "</table>\n",
       "<table class=\"simpletable\">\n",
       "<tr>\n",
       "        <td></td>           <th>coef</th>     <th>std err</th>      <th>z</th>      <th>P>|z|</th>  <th>[0.025</th>    <th>0.975]</th>  \n",
       "</tr>\n",
       "<tr>\n",
       "  <th>const</th>         <td>    0.9995</td> <td>    0.006</td> <td>  167.035</td> <td> 0.000</td> <td>    0.988</td> <td>    1.011</td>\n",
       "</tr>\n",
       "<tr>\n",
       "  <th>ma.L1.D.count</th> <td>   -0.6026</td> <td>    0.213</td> <td>   -2.830</td> <td> 0.005</td> <td>   -1.020</td> <td>   -0.185</td>\n",
       "</tr>\n",
       "</table>\n",
       "<table class=\"simpletable\">\n",
       "<caption>Roots</caption>\n",
       "<tr>\n",
       "    <td></td>   <th>            Real</th>  <th>         Imaginary</th> <th>         Modulus</th>  <th>        Frequency</th>\n",
       "</tr>\n",
       "<tr>\n",
       "  <th>MA.1</th> <td>           1.6596</td> <td>          +0.0000j</td> <td>           1.6596</td> <td>           0.0000</td>\n",
       "</tr>\n",
       "</table>"
      ],
      "text/plain": [
       "<class 'statsmodels.iolib.summary.Summary'>\n",
       "\"\"\"\n",
       "                             ARIMA Model Results                              \n",
       "==============================================================================\n",
       "Dep. Variable:                D.count   No. Observations:                   19\n",
       "Model:                 ARIMA(0, 1, 1)   Log Likelihood                  26.255\n",
       "Method:                       css-mle   S.D. of innovations              0.060\n",
       "Date:                Wed, 12 Jan 2022   AIC                            -46.510\n",
       "Time:                        09:59:21   BIC                            -43.677\n",
       "Sample:                    11-02-2001   HQIC                           -46.031\n",
       "                         - 11-20-2001                                         \n",
       "=================================================================================\n",
       "                    coef    std err          z      P>|z|      [0.025      0.975]\n",
       "---------------------------------------------------------------------------------\n",
       "const             0.9995      0.006    167.035      0.000       0.988       1.011\n",
       "ma.L1.D.count    -0.6026      0.213     -2.830      0.005      -1.020      -0.185\n",
       "                                    Roots                                    \n",
       "=============================================================================\n",
       "                  Real          Imaginary           Modulus         Frequency\n",
       "-----------------------------------------------------------------------------\n",
       "MA.1            1.6596           +0.0000j            1.6596            0.0000\n",
       "-----------------------------------------------------------------------------\n",
       "\"\"\""
      ]
     },
     "execution_count": 44,
     "metadata": {},
     "output_type": "execute_result"
    }
   ],
   "source": [
    "order = (0, 1, 1)\n",
    "model = ARIMA(df, order)\n",
    "rfit = model.fit()\n",
    "rfit.summary()"
   ]
  },
  {
   "cell_type": "code",
   "execution_count": 45,
   "id": "b359cce8",
   "metadata": {
    "ExecuteTime": {
     "end_time": "2022-01-12T00:59:21.653885Z",
     "start_time": "2022-01-12T00:59:21.639882Z"
    },
    "scrolled": true
   },
   "outputs": [
    {
     "data": {
      "text/plain": [
       "-46.510329967607895"
      ]
     },
     "execution_count": 45,
     "metadata": {},
     "output_type": "execute_result"
    }
   ],
   "source": [
    "rfit.aic"
   ]
  },
  {
   "cell_type": "code",
   "execution_count": 46,
   "id": "36fc0a27",
   "metadata": {
    "ExecuteTime": {
     "end_time": "2022-01-12T00:59:21.669805Z",
     "start_time": "2022-01-12T00:59:21.654844Z"
    }
   },
   "outputs": [
    {
     "data": {
      "text/plain": [
       "2001-11-13    13.050375\n",
       "2001-11-14    14.054755\n",
       "2001-11-15    15.066685\n",
       "2001-11-16    16.078170\n",
       "2001-11-17    17.024704\n",
       "2001-11-18    18.025165\n",
       "2001-11-19    18.986944\n",
       "2001-11-20    19.985360\n",
       "Freq: D, dtype: float64"
      ]
     },
     "execution_count": 46,
     "metadata": {},
     "output_type": "execute_result"
    }
   ],
   "source": [
    "# arima 모델로 예측(2001-11-13, 2001-11-20)\n",
    "preds = rfit.predict('2001-11-13', '2001-11-20', typ='levels')\n",
    "preds"
   ]
  },
  {
   "cell_type": "code",
   "execution_count": 47,
   "id": "3f76a942",
   "metadata": {
    "ExecuteTime": {
     "end_time": "2022-01-12T00:59:21.796512Z",
     "start_time": "2022-01-12T00:59:21.670803Z"
    },
    "scrolled": true
   },
   "outputs": [
    {
     "data": {
      "image/png": "[encoded data removed]",
      "text/plain": [
       "<Figure size 432x288 with 1 Axes>"
      ]
     },
     "metadata": {},
     "output_type": "display_data"
    }
   ],
   "source": [
    "# 실제값 예측값을 그래프로 그리시오\n",
    "plt.plot(df) \n",
    "plt.plot(preds, 'g')\n",
    "plt.show()"
   ]
  },
  {
   "cell_type": "markdown",
   "id": "717817a9",
   "metadata": {},
   "source": [
    "## Quiz : 기상청 날씨 주간 예측\n",
    "\n",
    "http://www.kma.go.kr/weather/forecast/mid-term-rss3.jsp?stnId=109\n",
    "\n",
    "* 서울~여주지역 12시간단위 주간예보 시계열 예측\n",
    "\n",
    "1. 데이터 XML 파싱.. \n",
    "\n",
    "2. dataframe\n",
    "- mulit index : 도시, 날짜\n",
    "- 피처 : 날씨, 최저, 최고\n",
    "\n",
    "3. EDA\n",
    "- 1. 도시와 날짜를 인덱스로 설정하시요\n",
    "- 2. 도시별 최고, 최저기온 평균을 구하시요.\n",
    "- 3. 최저기온이 가장낮은 도시, 날짜, 최고기온을 구하시요\n",
    "- 4. 서울지역의 날짜별 최고 최저기온을 바차트로그리시요\n",
    "- 5. 여주지역 최저기온이 -10 도 이하인데이터를 구하시요\n",
    "- 6. 여주지역 전체 최고기온 중 최고기온이 0 도 이상이차지하는비율을 구하시요. (예를들어  출력결과:0도이상 15% )\n",
    "- 7. 일교차 컬럼을 추가하고,최고기온과 최저기온의 차이가 가장높은 도시,날짜,최저,최고,일교차를 구하시요\n",
    "\n",
    "4. 서울지역 예측\n",
    "다음 주간 최고기온날씨 예측"
   ]
  },
  {
   "cell_type": "code",
   "execution_count": 48,
   "id": "609feecf",
   "metadata": {
    "ExecuteTime": {
     "end_time": "2022-01-12T00:59:21.891424Z",
     "start_time": "2022-01-12T00:59:21.797462Z"
    }
   },
   "outputs": [],
   "source": [
    "from bs4 import BeautifulSoup\n",
    "import urllib.request as request"
   ]
  },
  {
   "cell_type": "code",
   "execution_count": 49,
   "id": "472d4c48",
   "metadata": {
    "ExecuteTime": {
     "end_time": "2022-01-12T00:59:21.906390Z",
     "start_time": "2022-01-12T00:59:21.892439Z"
    }
   },
   "outputs": [],
   "source": [
    "#서울 / 경기도 RSS \n",
    "url = 'http://www.kma.go.kr/weather/forecast/mid-term-rss3.jsp?stnId=109'"
   ]
  },
  {
   "cell_type": "code",
   "execution_count": 50,
   "id": "a40fd0e4",
   "metadata": {
    "ExecuteTime": {
     "end_time": "2022-01-12T00:59:22.097215Z",
     "start_time": "2022-01-12T00:59:21.907442Z"
    }
   },
   "outputs": [],
   "source": [
    "response = request.urlopen(url)\n",
    "soup = BeautifulSoup(response, \"html.parser\") # html5lib 시작태그가 빠질경우 코더변경해주자"
   ]
  },
  {
   "cell_type": "code",
   "execution_count": 51,
   "id": "87ce4645",
   "metadata": {
    "ExecuteTime": {
     "end_time": "2022-01-12T00:59:22.112944Z",
     "start_time": "2022-01-12T00:59:22.097923Z"
    }
   },
   "outputs": [
    {
     "data": {
      "text/html": [
       "<div>\n",
       "<style scoped>\n",
       "    .dataframe tbody tr th:only-of-type {\n",
       "        vertical-align: middle;\n",
       "    }\n",
       "\n",
       "    .dataframe tbody tr th {\n",
       "        vertical-align: top;\n",
       "    }\n",
       "\n",
       "    .dataframe thead th {\n",
       "        text-align: right;\n",
       "    }\n",
       "</style>\n",
       "<table border=\"1\" class=\"dataframe\">\n",
       "  <thead>\n",
       "    <tr style=\"text-align: right;\">\n",
       "      <th></th>\n",
       "      <th>aa</th>\n",
       "      <th>bb</th>\n",
       "    </tr>\n",
       "  </thead>\n",
       "  <tbody>\n",
       "    <tr>\n",
       "      <th>0</th>\n",
       "      <td>10</td>\n",
       "      <td>40</td>\n",
       "    </tr>\n",
       "    <tr>\n",
       "      <th>1</th>\n",
       "      <td>20</td>\n",
       "      <td>50</td>\n",
       "    </tr>\n",
       "    <tr>\n",
       "      <th>2</th>\n",
       "      <td>30</td>\n",
       "      <td>60</td>\n",
       "    </tr>\n",
       "  </tbody>\n",
       "</table>\n",
       "</div>"
      ],
      "text/plain": [
       "   aa  bb\n",
       "0  10  40\n",
       "1  20  50\n",
       "2  30  60"
      ]
     },
     "execution_count": 51,
     "metadata": {},
     "output_type": "execute_result"
    }
   ],
   "source": [
    "dt = [{'aa':10, 'bb':40 }, {'aa':20, 'bb':50 }, {'aa':30, 'bb':60 }]\n",
    "df = pd.DataFrame(dt)\n",
    "df"
   ]
  },
  {
   "cell_type": "code",
   "execution_count": 52,
   "id": "13104a5e",
   "metadata": {
    "ExecuteTime": {
     "end_time": "2022-01-12T00:59:22.240587Z",
     "start_time": "2022-01-12T00:59:22.113882Z"
    }
   },
   "outputs": [
    {
     "name": "stdout",
     "output_type": "stream",
     "text": [
      "서울\n",
      "====================\n",
      "인천\n",
      "====================\n",
      "수원\n",
      "====================\n",
      "파주\n",
      "====================\n",
      "이천\n",
      "====================\n",
      "평택\n",
      "====================\n",
      "백령도\n",
      "====================\n",
      "과천\n",
      "====================\n",
      "광명\n",
      "====================\n",
      "강화\n",
      "====================\n",
      "김포\n",
      "====================\n",
      "시흥\n",
      "====================\n",
      "안산\n",
      "====================\n",
      "부천\n",
      "====================\n",
      "의정부\n",
      "====================\n",
      "고양\n",
      "====================\n",
      "양주\n",
      "====================\n",
      "동두천\n",
      "====================\n",
      "연천\n",
      "====================\n",
      "포천\n",
      "====================\n",
      "가평\n",
      "====================\n",
      "구리\n",
      "====================\n",
      "남양주\n",
      "====================\n",
      "양평\n",
      "====================\n",
      "하남\n",
      "====================\n",
      "안양\n",
      "====================\n",
      "오산\n",
      "====================\n",
      "화성\n",
      "====================\n",
      "성남\n",
      "====================\n",
      "의왕\n",
      "====================\n",
      "군포\n",
      "====================\n",
      "안성\n",
      "====================\n",
      "용인\n",
      "====================\n",
      "광주\n",
      "====================\n",
      "여주\n",
      "====================\n"
     ]
    },
    {
     "data": {
      "text/plain": [
       "[{'도시': '서울', '날짜': '2022-01-15 00:00', '날씨': '구름많음', '최저': -5, '최고': 4},\n",
       " {'도시': '서울', '날짜': '2022-01-15 12:00', '날씨': '흐림', '최저': -5, '최고': 4},\n",
       " {'도시': '서울', '날짜': '2022-01-16 00:00', '날씨': '구름많고 비/눈', '최저': -2, '최고': 1},\n",
       " {'도시': '서울', '날짜': '2022-01-16 12:00', '날씨': '맑음', '최저': -2, '최고': 1},\n",
       " {'도시': '서울', '날짜': '2022-01-17 00:00', '날씨': '맑음', '최저': -9, '최고': -1},\n",
       " {'도시': '서울', '날짜': '2022-01-17 12:00', '날씨': '맑음', '최저': -9, '최고': -1},\n",
       " {'도시': '서울', '날짜': '2022-01-18 00:00', '날씨': '맑음', '최저': -7, '최고': 0},\n",
       " {'도시': '서울', '날짜': '2022-01-18 12:00', '날씨': '맑음', '최저': -7, '최고': 0},\n",
       " {'도시': '서울', '날짜': '2022-01-19 00:00', '날씨': '맑음', '최저': -7, '최고': -1},\n",
       " {'도시': '서울', '날짜': '2022-01-19 12:00', '날씨': '맑음', '최저': -7, '최고': -1},\n",
       " {'도시': '서울', '날짜': '2022-01-20 00:00', '날씨': '맑음', '최저': -9, '최고': -1},\n",
       " {'도시': '서울', '날짜': '2022-01-21 00:00', '날씨': '맑음', '최저': -7, '최고': 1},\n",
       " {'도시': '서울', '날짜': '2022-01-22 00:00', '날씨': '구름많음', '최저': -6, '최고': 1},\n",
       " {'도시': '인천', '날짜': '2022-01-15 00:00', '날씨': '구름많음', '최저': -3, '최고': 3},\n",
       " {'도시': '인천', '날짜': '2022-01-15 12:00', '날씨': '흐림', '최저': -3, '최고': 3},\n",
       " {'도시': '인천', '날짜': '2022-01-16 00:00', '날씨': '구름많고 비/눈', '최저': -2, '최고': 0},\n",
       " {'도시': '인천', '날짜': '2022-01-16 12:00', '날씨': '맑음', '최저': -2, '최고': 0},\n",
       " {'도시': '인천', '날짜': '2022-01-17 00:00', '날씨': '맑음', '최저': -8, '최고': -2},\n",
       " {'도시': '인천', '날짜': '2022-01-17 12:00', '날씨': '맑음', '최저': -8, '최고': -2},\n",
       " {'도시': '인천', '날짜': '2022-01-18 00:00', '날씨': '맑음', '최저': -7, '최고': -1},\n",
       " {'도시': '인천', '날짜': '2022-01-18 12:00', '날씨': '맑음', '최저': -7, '최고': -1},\n",
       " {'도시': '인천', '날짜': '2022-01-19 00:00', '날씨': '맑음', '최저': -6, '최고': -1},\n",
       " {'도시': '인천', '날짜': '2022-01-19 12:00', '날씨': '맑음', '최저': -6, '최고': -1},\n",
       " {'도시': '인천', '날짜': '2022-01-20 00:00', '날씨': '맑음', '최저': -8, '최고': -1},\n",
       " {'도시': '인천', '날짜': '2022-01-21 00:00', '날씨': '맑음', '최저': -6, '최고': 1},\n",
       " {'도시': '인천', '날짜': '2022-01-22 00:00', '날씨': '구름많음', '최저': -4, '최고': 1},\n",
       " {'도시': '수원', '날짜': '2022-01-15 00:00', '날씨': '구름많음', '최저': -6, '최고': 5},\n",
       " {'도시': '수원', '날짜': '2022-01-15 12:00', '날씨': '흐림', '최저': -6, '최고': 5},\n",
       " {'도시': '수원', '날짜': '2022-01-16 00:00', '날씨': '구름많고 비/눈', '최저': -3, '최고': 1},\n",
       " {'도시': '수원', '날짜': '2022-01-16 12:00', '날씨': '맑음', '최저': -3, '최고': 1},\n",
       " {'도시': '수원', '날짜': '2022-01-17 00:00', '날씨': '맑음', '최저': -9, '최고': 0},\n",
       " {'도시': '수원', '날짜': '2022-01-17 12:00', '날씨': '맑음', '최저': -9, '최고': 0},\n",
       " {'도시': '수원', '날짜': '2022-01-18 00:00', '날씨': '맑음', '최저': -9, '최고': 1},\n",
       " {'도시': '수원', '날짜': '2022-01-18 12:00', '날씨': '맑음', '최저': -9, '최고': 1},\n",
       " {'도시': '수원', '날짜': '2022-01-19 00:00', '날씨': '맑음', '최저': -8, '최고': 1},\n",
       " {'도시': '수원', '날짜': '2022-01-19 12:00', '날씨': '맑음', '최저': -8, '최고': 1},\n",
       " {'도시': '수원', '날짜': '2022-01-20 00:00', '날씨': '맑음', '최저': -9, '최고': 0},\n",
       " {'도시': '수원', '날짜': '2022-01-21 00:00', '날씨': '맑음', '최저': -8, '최고': 2},\n",
       " {'도시': '수원', '날짜': '2022-01-22 00:00', '날씨': '구름많음', '최저': -7, '최고': 2},\n",
       " {'도시': '파주', '날짜': '2022-01-15 00:00', '날씨': '구름많음', '최저': -7, '최고': 3},\n",
       " {'도시': '파주', '날짜': '2022-01-15 12:00', '날씨': '흐림', '최저': -7, '최고': 3},\n",
       " {'도시': '파주', '날짜': '2022-01-16 00:00', '날씨': '구름많고 비/눈', '최저': -6, '최고': 0},\n",
       " {'도시': '파주', '날짜': '2022-01-16 12:00', '날씨': '맑음', '최저': -6, '최고': 0},\n",
       " {'도시': '파주', '날짜': '2022-01-17 00:00', '날씨': '맑음', '최저': -12, '최고': -2},\n",
       " {'도시': '파주', '날짜': '2022-01-17 12:00', '날씨': '맑음', '최저': -12, '최고': -2},\n",
       " {'도시': '파주', '날짜': '2022-01-18 00:00', '날씨': '맑음', '최저': -12, '최고': -1},\n",
       " {'도시': '파주', '날짜': '2022-01-18 12:00', '날씨': '맑음', '최저': -12, '최고': -1},\n",
       " {'도시': '파주', '날짜': '2022-01-19 00:00', '날씨': '맑음', '최저': -12, '최고': -1},\n",
       " {'도시': '파주', '날짜': '2022-01-19 12:00', '날씨': '맑음', '최저': -12, '최고': -1},\n",
       " {'도시': '파주', '날짜': '2022-01-20 00:00', '날씨': '맑음', '최저': -13, '최고': 0},\n",
       " {'도시': '파주', '날짜': '2022-01-21 00:00', '날씨': '맑음', '최저': -11, '최고': 1},\n",
       " {'도시': '파주', '날짜': '2022-01-22 00:00', '날씨': '구름많음', '최저': -9, '최고': 1},\n",
       " {'도시': '이천', '날짜': '2022-01-15 00:00', '날씨': '구름많음', '최저': -7, '최고': 4},\n",
       " {'도시': '이천', '날짜': '2022-01-15 12:00', '날씨': '흐림', '최저': -7, '최고': 4},\n",
       " {'도시': '이천', '날짜': '2022-01-16 00:00', '날씨': '구름많고 비/눈', '최저': -4, '최고': 2},\n",
       " {'도시': '이천', '날짜': '2022-01-16 12:00', '날씨': '맑음', '최저': -4, '최고': 2},\n",
       " {'도시': '이천', '날짜': '2022-01-17 00:00', '날씨': '맑음', '최저': -10, '최고': 0},\n",
       " {'도시': '이천', '날짜': '2022-01-17 12:00', '날씨': '맑음', '최저': -10, '최고': 0},\n",
       " {'도시': '이천', '날짜': '2022-01-18 00:00', '날씨': '맑음', '최저': -9, '최고': -1},\n",
       " {'도시': '이천', '날짜': '2022-01-18 12:00', '날씨': '맑음', '최저': -9, '최고': -1},\n",
       " {'도시': '이천', '날짜': '2022-01-19 00:00', '날씨': '맑음', '최저': -9, '최고': 0},\n",
       " {'도시': '이천', '날짜': '2022-01-19 12:00', '날씨': '맑음', '최저': -9, '최고': 0},\n",
       " {'도시': '이천', '날짜': '2022-01-20 00:00', '날씨': '맑음', '최저': -11, '최고': 1},\n",
       " {'도시': '이천', '날짜': '2022-01-21 00:00', '날씨': '맑음', '최저': -10, '최고': 2},\n",
       " {'도시': '이천', '날짜': '2022-01-22 00:00', '날씨': '구름많음', '최저': -8, '최고': 2},\n",
       " {'도시': '평택', '날짜': '2022-01-15 00:00', '날씨': '구름많음', '최저': -6, '최고': 5},\n",
       " {'도시': '평택', '날짜': '2022-01-15 12:00', '날씨': '흐림', '최저': -6, '최고': 5},\n",
       " {'도시': '평택', '날짜': '2022-01-16 00:00', '날씨': '구름많고 비/눈', '최저': -1, '최고': 2},\n",
       " {'도시': '평택', '날짜': '2022-01-16 12:00', '날씨': '맑음', '최저': -1, '최고': 2},\n",
       " {'도시': '평택', '날짜': '2022-01-17 00:00', '날씨': '맑음', '최저': -8, '최고': -1},\n",
       " {'도시': '평택', '날짜': '2022-01-17 12:00', '날씨': '맑음', '최저': -8, '최고': -1},\n",
       " {'도시': '평택', '날짜': '2022-01-18 00:00', '날씨': '맑음', '최저': -8, '최고': -1},\n",
       " {'도시': '평택', '날짜': '2022-01-18 12:00', '날씨': '맑음', '최저': -8, '최고': -1},\n",
       " {'도시': '평택', '날짜': '2022-01-19 00:00', '날씨': '맑음', '최저': -9, '최고': -1},\n",
       " {'도시': '평택', '날짜': '2022-01-19 12:00', '날씨': '맑음', '최저': -9, '최고': -1},\n",
       " {'도시': '평택', '날짜': '2022-01-20 00:00', '날씨': '맑음', '최저': -9, '최고': 0},\n",
       " {'도시': '평택', '날짜': '2022-01-21 00:00', '날씨': '맑음', '최저': -8, '최고': 1},\n",
       " {'도시': '평택', '날짜': '2022-01-22 00:00', '날씨': '구름많음', '최저': -6, '최고': 1},\n",
       " {'도시': '백령도', '날짜': '2022-01-15 00:00', '날씨': '구름많음', '최저': 3, '최고': 6},\n",
       " {'도시': '백령도', '날짜': '2022-01-15 12:00', '날씨': '흐림', '최저': 3, '최고': 6},\n",
       " {'도시': '백령도', '날짜': '2022-01-16 00:00', '날씨': '구름많고 비/눈', '최저': -2, '최고': 0},\n",
       " {'도시': '백령도', '날짜': '2022-01-16 12:00', '날씨': '맑음', '최저': -2, '최고': 0},\n",
       " {'도시': '백령도', '날짜': '2022-01-17 00:00', '날씨': '맑음', '최저': -4, '최고': 0},\n",
       " {'도시': '백령도', '날짜': '2022-01-17 12:00', '날씨': '맑음', '최저': -4, '최고': 0},\n",
       " {'도시': '백령도', '날짜': '2022-01-18 00:00', '날씨': '맑음', '최저': -3, '최고': 1},\n",
       " {'도시': '백령도', '날짜': '2022-01-18 12:00', '날씨': '맑음', '최저': -3, '최고': 1},\n",
       " {'도시': '백령도', '날짜': '2022-01-19 00:00', '날씨': '맑음', '최저': -3, '최고': -1},\n",
       " {'도시': '백령도', '날짜': '2022-01-19 12:00', '날씨': '맑음', '최저': -3, '최고': -1},\n",
       " {'도시': '백령도', '날짜': '2022-01-20 00:00', '날씨': '맑음', '최저': -4, '최고': 0},\n",
       " {'도시': '백령도', '날짜': '2022-01-21 00:00', '날씨': '맑음', '최저': -2, '최고': 2},\n",
       " {'도시': '백령도', '날짜': '2022-01-22 00:00', '날씨': '구름많음', '최저': -2, '최고': 1},\n",
       " {'도시': '과천', '날짜': '2022-01-15 00:00', '날씨': '구름많음', '최저': -7, '최고': 5},\n",
       " {'도시': '과천', '날짜': '2022-01-15 12:00', '날씨': '흐림', '최저': -7, '최고': 5},\n",
       " {'도시': '과천', '날짜': '2022-01-16 00:00', '날씨': '구름많고 비/눈', '최저': -3, '최고': 1},\n",
       " {'도시': '과천', '날짜': '2022-01-16 12:00', '날씨': '맑음', '최저': -3, '최고': 1},\n",
       " {'도시': '과천', '날짜': '2022-01-17 00:00', '날씨': '맑음', '최저': -10, '최고': -1},\n",
       " {'도시': '과천', '날짜': '2022-01-17 12:00', '날씨': '맑음', '최저': -10, '최고': -1},\n",
       " {'도시': '과천', '날짜': '2022-01-18 00:00', '날씨': '맑음', '최저': -8, '최고': 0},\n",
       " {'도시': '과천', '날짜': '2022-01-18 12:00', '날씨': '맑음', '최저': -8, '최고': 0},\n",
       " {'도시': '과천', '날짜': '2022-01-19 00:00', '날씨': '맑음', '최저': -8, '최고': 0},\n",
       " {'도시': '과천', '날짜': '2022-01-19 12:00', '날씨': '맑음', '최저': -8, '최고': 0},\n",
       " {'도시': '과천', '날짜': '2022-01-20 00:00', '날씨': '맑음', '최저': -10, '최고': 0},\n",
       " {'도시': '과천', '날짜': '2022-01-21 00:00', '날씨': '맑음', '최저': -8, '최고': 1},\n",
       " {'도시': '과천', '날짜': '2022-01-22 00:00', '날씨': '구름많음', '최저': -7, '최고': 1},\n",
       " {'도시': '광명', '날짜': '2022-01-15 00:00', '날씨': '구름많음', '최저': -3, '최고': 4},\n",
       " {'도시': '광명', '날짜': '2022-01-15 12:00', '날씨': '흐림', '최저': -3, '최고': 4},\n",
       " {'도시': '광명', '날짜': '2022-01-16 00:00', '날씨': '구름많고 비/눈', '최저': -1, '최고': 0},\n",
       " {'도시': '광명', '날짜': '2022-01-16 12:00', '날씨': '맑음', '최저': -1, '최고': 0},\n",
       " {'도시': '광명', '날짜': '2022-01-17 00:00', '날씨': '맑음', '최저': -8, '최고': -2},\n",
       " {'도시': '광명', '날짜': '2022-01-17 12:00', '날씨': '맑음', '최저': -8, '최고': -2},\n",
       " {'도시': '광명', '날짜': '2022-01-18 00:00', '날씨': '맑음', '최저': -8, '최고': -1},\n",
       " {'도시': '광명', '날짜': '2022-01-18 12:00', '날씨': '맑음', '최저': -8, '최고': -1},\n",
       " {'도시': '광명', '날짜': '2022-01-19 00:00', '날씨': '맑음', '최저': -6, '최고': -1},\n",
       " {'도시': '광명', '날짜': '2022-01-19 12:00', '날씨': '맑음', '최저': -6, '최고': -1},\n",
       " {'도시': '광명', '날짜': '2022-01-20 00:00', '날씨': '맑음', '최저': -9, '최고': -1},\n",
       " {'도시': '광명', '날짜': '2022-01-21 00:00', '날씨': '맑음', '최저': -7, '최고': 0},\n",
       " {'도시': '광명', '날짜': '2022-01-22 00:00', '날씨': '구름많음', '최저': -6, '최고': 1},\n",
       " {'도시': '강화', '날짜': '2022-01-15 00:00', '날씨': '구름많음', '최저': -5, '최고': 3},\n",
       " {'도시': '강화', '날짜': '2022-01-15 12:00', '날씨': '흐림', '최저': -5, '최고': 3},\n",
       " {'도시': '강화', '날짜': '2022-01-16 00:00', '날씨': '구름많고 비/눈', '최저': -5, '최고': 0},\n",
       " {'도시': '강화', '날짜': '2022-01-16 12:00', '날씨': '맑음', '최저': -5, '최고': 0},\n",
       " {'도시': '강화', '날짜': '2022-01-17 00:00', '날씨': '맑음', '최저': -10, '최고': -2},\n",
       " {'도시': '강화', '날짜': '2022-01-17 12:00', '날씨': '맑음', '최저': -10, '최고': -2},\n",
       " {'도시': '강화', '날짜': '2022-01-18 00:00', '날씨': '맑음', '최저': -10, '최고': -1},\n",
       " {'도시': '강화', '날짜': '2022-01-18 12:00', '날씨': '맑음', '최저': -10, '최고': -1},\n",
       " {'도시': '강화', '날짜': '2022-01-19 00:00', '날씨': '맑음', '최저': -8, '최고': -1},\n",
       " {'도시': '강화', '날짜': '2022-01-19 12:00', '날씨': '맑음', '최저': -8, '최고': -1},\n",
       " {'도시': '강화', '날짜': '2022-01-20 00:00', '날씨': '맑음', '최저': -10, '최고': -1},\n",
       " {'도시': '강화', '날짜': '2022-01-21 00:00', '날씨': '맑음', '최저': -8, '최고': 0},\n",
       " {'도시': '강화', '날짜': '2022-01-22 00:00', '날씨': '구름많음', '최저': -7, '최고': 1},\n",
       " {'도시': '김포', '날짜': '2022-01-15 00:00', '날씨': '구름많음', '최저': -4, '최고': 3},\n",
       " {'도시': '김포', '날짜': '2022-01-15 12:00', '날씨': '흐림', '최저': -4, '최고': 3},\n",
       " {'도시': '김포', '날짜': '2022-01-16 00:00', '날씨': '구름많고 비/눈', '최저': -3, '최고': 1},\n",
       " {'도시': '김포', '날짜': '2022-01-16 12:00', '날씨': '맑음', '최저': -3, '최고': 1},\n",
       " {'도시': '김포', '날짜': '2022-01-17 00:00', '날씨': '맑음', '최저': -10, '최고': -1},\n",
       " {'도시': '김포', '날짜': '2022-01-17 12:00', '날씨': '맑음', '최저': -10, '최고': -1},\n",
       " {'도시': '김포', '날짜': '2022-01-18 00:00', '날씨': '맑음', '최저': -8, '최고': 0},\n",
       " {'도시': '김포', '날짜': '2022-01-18 12:00', '날씨': '맑음', '최저': -8, '최고': 0},\n",
       " {'도시': '김포', '날짜': '2022-01-19 00:00', '날씨': '맑음', '최저': -7, '최고': 0},\n",
       " {'도시': '김포', '날짜': '2022-01-19 12:00', '날씨': '맑음', '최저': -7, '최고': 0},\n",
       " {'도시': '김포', '날짜': '2022-01-20 00:00', '날씨': '맑음', '최저': -10, '최고': 1},\n",
       " {'도시': '김포', '날짜': '2022-01-21 00:00', '날씨': '맑음', '최저': -9, '최고': 3},\n",
       " {'도시': '김포', '날짜': '2022-01-22 00:00', '날씨': '구름많음', '최저': -7, '최고': 2},\n",
       " {'도시': '시흥', '날짜': '2022-01-15 00:00', '날씨': '구름많음', '최저': -5, '최고': 4},\n",
       " {'도시': '시흥', '날짜': '2022-01-15 12:00', '날씨': '흐림', '최저': -5, '최고': 4},\n",
       " {'도시': '시흥', '날짜': '2022-01-16 00:00', '날씨': '구름많고 비/눈', '최저': -3, '최고': 0},\n",
       " {'도시': '시흥', '날짜': '2022-01-16 12:00', '날씨': '맑음', '최저': -3, '최고': 0},\n",
       " {'도시': '시흥', '날짜': '2022-01-17 00:00', '날씨': '맑음', '최저': -9, '최고': -1},\n",
       " {'도시': '시흥', '날짜': '2022-01-17 12:00', '날씨': '맑음', '최저': -9, '최고': -1},\n",
       " {'도시': '시흥', '날짜': '2022-01-18 00:00', '날씨': '맑음', '최저': -9, '최고': 0},\n",
       " {'도시': '시흥', '날짜': '2022-01-18 12:00', '날씨': '맑음', '최저': -9, '최고': 0},\n",
       " {'도시': '시흥', '날짜': '2022-01-19 00:00', '날씨': '맑음', '최저': -7, '최고': 0},\n",
       " {'도시': '시흥', '날짜': '2022-01-19 12:00', '날씨': '맑음', '최저': -7, '최고': 0},\n",
       " {'도시': '시흥', '날짜': '2022-01-20 00:00', '날씨': '맑음', '최저': -9, '최고': 0},\n",
       " {'도시': '시흥', '날짜': '2022-01-21 00:00', '날씨': '맑음', '최저': -8, '최고': 1},\n",
       " {'도시': '시흥', '날짜': '2022-01-22 00:00', '날씨': '구름많음', '최저': -7, '최고': 1},\n",
       " {'도시': '안산', '날짜': '2022-01-15 00:00', '날씨': '구름많음', '최저': -5, '최고': 5},\n",
       " {'도시': '안산', '날짜': '2022-01-15 12:00', '날씨': '흐림', '최저': -5, '최고': 5},\n",
       " {'도시': '안산', '날짜': '2022-01-16 00:00', '날씨': '구름많고 비/눈', '최저': -2, '최고': 1},\n",
       " {'도시': '안산', '날짜': '2022-01-16 12:00', '날씨': '맑음', '최저': -2, '최고': 1},\n",
       " {'도시': '안산', '날짜': '2022-01-17 00:00', '날씨': '맑음', '최저': -9, '최고': -1},\n",
       " {'도시': '안산', '날짜': '2022-01-17 12:00', '날씨': '맑음', '최저': -9, '최고': -1},\n",
       " {'도시': '안산', '날짜': '2022-01-18 00:00', '날씨': '맑음', '최저': -9, '최고': 0},\n",
       " {'도시': '안산', '날짜': '2022-01-18 12:00', '날씨': '맑음', '최저': -9, '최고': 0},\n",
       " {'도시': '안산', '날짜': '2022-01-19 00:00', '날씨': '맑음', '최저': -6, '최고': 0},\n",
       " {'도시': '안산', '날짜': '2022-01-19 12:00', '날씨': '맑음', '최저': -6, '최고': 0},\n",
       " {'도시': '안산', '날짜': '2022-01-20 00:00', '날씨': '맑음', '최저': -10, '최고': 0},\n",
       " {'도시': '안산', '날짜': '2022-01-21 00:00', '날씨': '맑음', '최저': -8, '최고': 1},\n",
       " {'도시': '안산', '날짜': '2022-01-22 00:00', '날씨': '구름많음', '최저': -7, '최고': 1},\n",
       " {'도시': '부천', '날짜': '2022-01-15 00:00', '날씨': '구름많음', '최저': -4, '최고': 4},\n",
       " {'도시': '부천', '날짜': '2022-01-15 12:00', '날씨': '흐림', '최저': -4, '최고': 4},\n",
       " {'도시': '부천', '날짜': '2022-01-16 00:00', '날씨': '구름많고 비/눈', '최저': -2, '최고': 1},\n",
       " {'도시': '부천', '날짜': '2022-01-16 12:00', '날씨': '맑음', '최저': -2, '최고': 1},\n",
       " {'도시': '부천', '날짜': '2022-01-17 00:00', '날씨': '맑음', '최저': -8, '최고': -1},\n",
       " {'도시': '부천', '날짜': '2022-01-17 12:00', '날씨': '맑음', '최저': -8, '최고': -1},\n",
       " {'도시': '부천', '날짜': '2022-01-18 00:00', '날씨': '맑음', '최저': -7, '최고': 0},\n",
       " {'도시': '부천', '날짜': '2022-01-18 12:00', '날씨': '맑음', '최저': -7, '최고': 0},\n",
       " {'도시': '부천', '날짜': '2022-01-19 00:00', '날씨': '맑음', '최저': -4, '최고': 0},\n",
       " {'도시': '부천', '날짜': '2022-01-19 12:00', '날씨': '맑음', '최저': -4, '최고': 0},\n",
       " {'도시': '부천', '날짜': '2022-01-20 00:00', '날씨': '맑음', '최저': -9, '최고': -1},\n",
       " {'도시': '부천', '날짜': '2022-01-21 00:00', '날씨': '맑음', '최저': -7, '최고': 0},\n",
       " {'도시': '부천', '날짜': '2022-01-22 00:00', '날씨': '구름많음', '최저': -6, '최고': 1},\n",
       " {'도시': '의정부', '날짜': '2022-01-15 00:00', '날씨': '구름많음', '최저': -7, '최고': 3},\n",
       " {'도시': '의정부', '날짜': '2022-01-15 12:00', '날씨': '흐림', '최저': -7, '최고': 3},\n",
       " {'도시': '의정부', '날짜': '2022-01-16 00:00', '날씨': '구름많고 비/눈', '최저': -3, '최고': 0},\n",
       " {'도시': '의정부', '날짜': '2022-01-16 12:00', '날씨': '맑음', '최저': -3, '최고': 0},\n",
       " {'도시': '의정부', '날짜': '2022-01-17 00:00', '날씨': '맑음', '최저': -11, '최고': -2},\n",
       " {'도시': '의정부', '날짜': '2022-01-17 12:00', '날씨': '맑음', '최저': -11, '최고': -2},\n",
       " {'도시': '의정부', '날짜': '2022-01-18 00:00', '날씨': '맑음', '최저': -12, '최고': 0},\n",
       " {'도시': '의정부', '날짜': '2022-01-18 12:00', '날씨': '맑음', '최저': -12, '최고': 0},\n",
       " {'도시': '의정부', '날짜': '2022-01-19 00:00', '날씨': '맑음', '최저': -9, '최고': -1},\n",
       " {'도시': '의정부', '날짜': '2022-01-19 12:00', '날씨': '맑음', '최저': -9, '최고': -1},\n",
       " {'도시': '의정부', '날짜': '2022-01-20 00:00', '날씨': '맑음', '최저': -11, '최고': -1},\n",
       " {'도시': '의정부', '날짜': '2022-01-21 00:00', '날씨': '맑음', '최저': -10, '최고': 0},\n",
       " {'도시': '의정부', '날짜': '2022-01-22 00:00', '날씨': '구름많음', '최저': -9, '최고': 1},\n",
       " {'도시': '고양', '날짜': '2022-01-15 00:00', '날씨': '구름많음', '최저': -6, '최고': 4},\n",
       " {'도시': '고양', '날짜': '2022-01-15 12:00', '날씨': '흐림', '최저': -6, '최고': 4},\n",
       " {'도시': '고양', '날짜': '2022-01-16 00:00', '날씨': '구름많고 비/눈', '최저': -3, '최고': 1},\n",
       " {'도시': '고양', '날짜': '2022-01-16 12:00', '날씨': '맑음', '최저': -3, '최고': 1},\n",
       " {'도시': '고양', '날짜': '2022-01-17 00:00', '날씨': '맑음', '최저': -11, '최고': -1},\n",
       " {'도시': '고양', '날짜': '2022-01-17 12:00', '날씨': '맑음', '최저': -11, '최고': -1},\n",
       " {'도시': '고양', '날짜': '2022-01-18 00:00', '날씨': '맑음', '최저': -11, '최고': 0},\n",
       " {'도시': '고양', '날짜': '2022-01-18 12:00', '날씨': '맑음', '최저': -11, '최고': 0},\n",
       " {'도시': '고양', '날짜': '2022-01-19 00:00', '날씨': '맑음', '최저': -8, '최고': 0},\n",
       " {'도시': '고양', '날짜': '2022-01-19 12:00', '날씨': '맑음', '최저': -8, '최고': 0},\n",
       " {'도시': '고양', '날짜': '2022-01-20 00:00', '날씨': '맑음', '최저': -11, '최고': 0},\n",
       " {'도시': '고양', '날짜': '2022-01-21 00:00', '날씨': '맑음', '최저': -9, '최고': 1},\n",
       " {'도시': '고양', '날짜': '2022-01-22 00:00', '날씨': '구름많음', '최저': -8, '최고': 1},\n",
       " {'도시': '양주', '날짜': '2022-01-15 00:00', '날씨': '구름많음', '최저': -9, '최고': 3},\n",
       " {'도시': '양주', '날짜': '2022-01-15 12:00', '날씨': '흐림', '최저': -9, '최고': 3},\n",
       " {'도시': '양주', '날짜': '2022-01-16 00:00', '날씨': '구름많고 비/눈', '최저': -5, '최고': 0},\n",
       " {'도시': '양주', '날짜': '2022-01-16 12:00', '날씨': '맑음', '최저': -5, '최고': 0},\n",
       " {'도시': '양주', '날짜': '2022-01-17 00:00', '날씨': '맑음', '최저': -13, '최고': -2},\n",
       " {'도시': '양주', '날짜': '2022-01-17 12:00', '날씨': '맑음', '최저': -13, '최고': -2},\n",
       " {'도시': '양주', '날짜': '2022-01-18 00:00', '날씨': '맑음', '최저': -13, '최고': 0},\n",
       " {'도시': '양주', '날짜': '2022-01-18 12:00', '날씨': '맑음', '최저': -13, '최고': 0},\n",
       " {'도시': '양주', '날짜': '2022-01-19 00:00', '날씨': '맑음', '최저': -10, '최고': -1},\n",
       " {'도시': '양주', '날짜': '2022-01-19 12:00', '날씨': '맑음', '최저': -10, '최고': -1},\n",
       " {'도시': '양주', '날짜': '2022-01-20 00:00', '날씨': '맑음', '최저': -12, '최고': -1},\n",
       " {'도시': '양주', '날짜': '2022-01-21 00:00', '날씨': '맑음', '최저': -10, '최고': 0},\n",
       " {'도시': '양주', '날짜': '2022-01-22 00:00', '날씨': '구름많음', '최저': -8, '최고': 1},\n",
       " {'도시': '동두천', '날짜': '2022-01-15 00:00', '날씨': '구름많음', '최저': -7, '최고': 3},\n",
       " {'도시': '동두천', '날짜': '2022-01-15 12:00', '날씨': '흐림', '최저': -7, '최고': 3},\n",
       " {'도시': '동두천', '날짜': '2022-01-16 00:00', '날씨': '구름많고 비/눈', '최저': -4, '최고': 1},\n",
       " {'도시': '동두천', '날짜': '2022-01-16 12:00', '날씨': '맑음', '최저': -4, '최고': 1},\n",
       " {'도시': '동두천', '날짜': '2022-01-17 00:00', '날씨': '맑음', '최저': -11, '최고': -1},\n",
       " {'도시': '동두천', '날짜': '2022-01-17 12:00', '날씨': '맑음', '최저': -11, '최고': -1},\n",
       " {'도시': '동두천', '날짜': '2022-01-18 00:00', '날씨': '맑음', '최저': -12, '최고': 0},\n",
       " {'도시': '동두천', '날짜': '2022-01-18 12:00', '날씨': '맑음', '최저': -12, '최고': 0},\n",
       " {'도시': '동두천', '날짜': '2022-01-19 00:00', '날씨': '맑음', '최저': -9, '최고': 0},\n",
       " {'도시': '동두천', '날짜': '2022-01-19 12:00', '날씨': '맑음', '최저': -9, '최고': 0},\n",
       " {'도시': '동두천', '날짜': '2022-01-20 00:00', '날씨': '맑음', '최저': -11, '최고': 1},\n",
       " {'도시': '동두천', '날짜': '2022-01-21 00:00', '날씨': '맑음', '최저': -9, '최고': 1},\n",
       " {'도시': '동두천', '날짜': '2022-01-22 00:00', '날씨': '구름많음', '최저': -8, '최고': 2},\n",
       " {'도시': '연천', '날짜': '2022-01-15 00:00', '날씨': '구름많음', '최저': -10, '최고': 1},\n",
       " {'도시': '연천', '날짜': '2022-01-15 12:00', '날씨': '흐림', '최저': -10, '최고': 1},\n",
       " {'도시': '연천', '날짜': '2022-01-16 00:00', '날씨': '구름많고 비/눈', '최저': -5, '최고': -1},\n",
       " {'도시': '연천', '날짜': '2022-01-16 12:00', '날씨': '맑음', '최저': -5, '최고': -1},\n",
       " {'도시': '연천', '날짜': '2022-01-17 00:00', '날씨': '맑음', '최저': -15, '최고': -4},\n",
       " {'도시': '연천', '날짜': '2022-01-17 12:00', '날씨': '맑음', '최저': -15, '최고': -4},\n",
       " {'도시': '연천', '날짜': '2022-01-18 00:00', '날씨': '맑음', '최저': -15, '최고': -2},\n",
       " {'도시': '연천', '날짜': '2022-01-18 12:00', '날씨': '맑음', '최저': -15, '최고': -2},\n",
       " {'도시': '연천', '날짜': '2022-01-19 00:00', '날씨': '맑음', '최저': -13, '최고': -3},\n",
       " {'도시': '연천', '날짜': '2022-01-19 12:00', '날씨': '맑음', '최저': -13, '최고': -3},\n",
       " {'도시': '연천', '날짜': '2022-01-20 00:00', '날씨': '맑음', '최저': -14, '최고': -3},\n",
       " {'도시': '연천', '날짜': '2022-01-21 00:00', '날씨': '맑음', '최저': -12, '최고': -2},\n",
       " {'도시': '연천', '날짜': '2022-01-22 00:00', '날씨': '구름많음', '최저': -11, '최고': -1},\n",
       " {'도시': '포천', '날짜': '2022-01-15 00:00', '날씨': '구름많음', '최저': -8, '최고': 3},\n",
       " {'도시': '포천', '날짜': '2022-01-15 12:00', '날씨': '흐림', '최저': -8, '최고': 3},\n",
       " {'도시': '포천', '날짜': '2022-01-16 00:00', '날씨': '구름많고 비/눈', '최저': -4, '최고': 0},\n",
       " {'도시': '포천', '날짜': '2022-01-16 12:00', '날씨': '맑음', '최저': -4, '최고': 0},\n",
       " {'도시': '포천', '날짜': '2022-01-17 00:00', '날씨': '맑음', '최저': -13, '최고': -2},\n",
       " {'도시': '포천', '날짜': '2022-01-17 12:00', '날씨': '맑음', '최저': -13, '최고': -2},\n",
       " {'도시': '포천', '날짜': '2022-01-18 00:00', '날씨': '맑음', '최저': -13, '최고': 1},\n",
       " {'도시': '포천', '날짜': '2022-01-18 12:00', '날씨': '맑음', '최저': -13, '최고': 1},\n",
       " {'도시': '포천', '날짜': '2022-01-19 00:00', '날씨': '맑음', '최저': -9, '최고': -1},\n",
       " {'도시': '포천', '날짜': '2022-01-19 12:00', '날씨': '맑음', '최저': -9, '최고': -1},\n",
       " {'도시': '포천', '날짜': '2022-01-20 00:00', '날씨': '맑음', '최저': -13, '최고': -1},\n",
       " {'도시': '포천', '날짜': '2022-01-21 00:00', '날씨': '맑음', '최저': -11, '최고': 0},\n",
       " {'도시': '포천', '날짜': '2022-01-22 00:00', '날씨': '구름많음', '최저': -10, '최고': 0},\n",
       " {'도시': '가평', '날짜': '2022-01-15 00:00', '날씨': '구름많음', '최저': -11, '최고': 2},\n",
       " {'도시': '가평', '날짜': '2022-01-15 12:00', '날씨': '흐림', '최저': -11, '최고': 2},\n",
       " {'도시': '가평', '날짜': '2022-01-16 00:00', '날씨': '구름많고 비/눈', '최저': -5, '최고': 1},\n",
       " {'도시': '가평', '날짜': '2022-01-16 12:00', '날씨': '맑음', '최저': -5, '최고': 1},\n",
       " {'도시': '가평', '날짜': '2022-01-17 00:00', '날씨': '맑음', '최저': -14, '최고': -1},\n",
       " {'도시': '가평', '날짜': '2022-01-17 12:00', '날씨': '맑음', '최저': -14, '최고': -1},\n",
       " {'도시': '가평', '날짜': '2022-01-18 00:00', '날씨': '맑음', '최저': -14, '최고': 0},\n",
       " {'도시': '가평', '날짜': '2022-01-18 12:00', '날씨': '맑음', '최저': -14, '최고': 0},\n",
       " {'도시': '가평', '날짜': '2022-01-19 00:00', '날씨': '맑음', '최저': -11, '최고': 0},\n",
       " {'도시': '가평', '날짜': '2022-01-19 12:00', '날씨': '맑음', '최저': -11, '최고': 0},\n",
       " {'도시': '가평', '날짜': '2022-01-20 00:00', '날씨': '맑음', '최저': -13, '최고': 1},\n",
       " {'도시': '가평', '날짜': '2022-01-21 00:00', '날씨': '맑음', '최저': -12, '최고': 1},\n",
       " {'도시': '가평', '날짜': '2022-01-22 00:00', '날씨': '구름많음', '최저': -12, '최고': 2},\n",
       " {'도시': '구리', '날짜': '2022-01-15 00:00', '날씨': '구름많음', '최저': -6, '최고': 4},\n",
       " {'도시': '구리', '날짜': '2022-01-15 12:00', '날씨': '흐림', '최저': -6, '최고': 4},\n",
       " {'도시': '구리', '날짜': '2022-01-16 00:00', '날씨': '구름많고 비/눈', '최저': -3, '최고': 1},\n",
       " {'도시': '구리', '날짜': '2022-01-16 12:00', '날씨': '맑음', '최저': -3, '최고': 1},\n",
       " {'도시': '구리', '날짜': '2022-01-17 00:00', '날씨': '맑음', '최저': -10, '최고': -1},\n",
       " {'도시': '구리', '날짜': '2022-01-17 12:00', '날씨': '맑음', '최저': -10, '최고': -1},\n",
       " {'도시': '구리', '날짜': '2022-01-18 00:00', '날씨': '맑음', '최저': -10, '최고': 0},\n",
       " {'도시': '구리', '날짜': '2022-01-18 12:00', '날씨': '맑음', '최저': -10, '최고': 0},\n",
       " {'도시': '구리', '날짜': '2022-01-19 00:00', '날씨': '맑음', '최저': -6, '최고': 0},\n",
       " {'도시': '구리', '날짜': '2022-01-19 12:00', '날씨': '맑음', '최저': -6, '최고': 0},\n",
       " {'도시': '구리', '날짜': '2022-01-20 00:00', '날씨': '맑음', '최저': -10, '최고': 0},\n",
       " {'도시': '구리', '날짜': '2022-01-21 00:00', '날씨': '맑음', '최저': -8, '최고': 1},\n",
       " {'도시': '구리', '날짜': '2022-01-22 00:00', '날씨': '구름많음', '최저': -7, '최고': 1},\n",
       " {'도시': '남양주', '날짜': '2022-01-15 00:00', '날씨': '구름많음', '최저': -8, '최고': 3},\n",
       " {'도시': '남양주', '날짜': '2022-01-15 12:00', '날씨': '흐림', '최저': -8, '최고': 3},\n",
       " {'도시': '남양주', '날짜': '2022-01-16 00:00', '날씨': '구름많고 비/눈', '최저': -4, '최고': 0},\n",
       " {'도시': '남양주', '날짜': '2022-01-16 12:00', '날씨': '맑음', '최저': -4, '최고': 0},\n",
       " {'도시': '남양주', '날짜': '2022-01-17 00:00', '날씨': '맑음', '최저': -11, '최고': -2},\n",
       " {'도시': '남양주', '날짜': '2022-01-17 12:00', '날씨': '맑음', '최저': -11, '최고': -2},\n",
       " {'도시': '남양주', '날짜': '2022-01-18 00:00', '날씨': '맑음', '최저': -12, '최고': -1},\n",
       " {'도시': '남양주', '날짜': '2022-01-18 12:00', '날씨': '맑음', '최저': -12, '최고': -1},\n",
       " {'도시': '남양주', '날짜': '2022-01-19 00:00', '날씨': '맑음', '최저': -9, '최고': -1},\n",
       " {'도시': '남양주', '날짜': '2022-01-19 12:00', '날씨': '맑음', '최저': -9, '최고': -1},\n",
       " {'도시': '남양주', '날짜': '2022-01-20 00:00', '날씨': '맑음', '최저': -12, '최고': -1},\n",
       " {'도시': '남양주', '날짜': '2022-01-21 00:00', '날씨': '맑음', '최저': -10, '최고': 1},\n",
       " {'도시': '남양주', '날짜': '2022-01-22 00:00', '날씨': '구름많음', '최저': -8, '최고': 1},\n",
       " {'도시': '양평', '날짜': '2022-01-15 00:00', '날씨': '구름많음', '최저': -8, '최고': 3},\n",
       " {'도시': '양평', '날짜': '2022-01-15 12:00', '날씨': '흐림', '최저': -8, '최고': 3},\n",
       " {'도시': '양평', '날짜': '2022-01-16 00:00', '날씨': '구름많고 비/눈', '최저': -2, '최고': 1},\n",
       " {'도시': '양평', '날짜': '2022-01-16 12:00', '날씨': '맑음', '최저': -2, '최고': 1},\n",
       " {'도시': '양평', '날짜': '2022-01-17 00:00', '날씨': '맑음', '최저': -10, '최고': -1},\n",
       " {'도시': '양평', '날짜': '2022-01-17 12:00', '날씨': '맑음', '최저': -10, '최고': -1},\n",
       " {'도시': '양평', '날짜': '2022-01-18 00:00', '날씨': '맑음', '최저': -10, '최고': 0},\n",
       " {'도시': '양평', '날짜': '2022-01-18 12:00', '날씨': '맑음', '최저': -10, '최고': 0},\n",
       " {'도시': '양평', '날짜': '2022-01-19 00:00', '날씨': '맑음', '최저': -8, '최고': 0},\n",
       " {'도시': '양평', '날짜': '2022-01-19 12:00', '날씨': '맑음', '최저': -8, '최고': 0},\n",
       " {'도시': '양평', '날짜': '2022-01-20 00:00', '날씨': '맑음', '최저': -10, '최고': 0},\n",
       " {'도시': '양평', '날짜': '2022-01-21 00:00', '날씨': '맑음', '최저': -9, '최고': 1},\n",
       " {'도시': '양평', '날짜': '2022-01-22 00:00', '날씨': '구름많음', '최저': -8, '최고': 1},\n",
       " {'도시': '하남', '날짜': '2022-01-15 00:00', '날씨': '구름많음', '최저': -6, '최고': 4},\n",
       " {'도시': '하남', '날짜': '2022-01-15 12:00', '날씨': '흐림', '최저': -6, '최고': 4},\n",
       " {'도시': '하남', '날짜': '2022-01-16 00:00', '날씨': '구름많고 비/눈', '최저': -2, '최고': 1},\n",
       " {'도시': '하남', '날짜': '2022-01-16 12:00', '날씨': '맑음', '최저': -2, '최고': 1},\n",
       " {'도시': '하남', '날짜': '2022-01-17 00:00', '날씨': '맑음', '최저': -9, '최고': -1},\n",
       " {'도시': '하남', '날짜': '2022-01-17 12:00', '날씨': '맑음', '최저': -9, '최고': -1},\n",
       " {'도시': '하남', '날짜': '2022-01-18 00:00', '날씨': '맑음', '최저': -10, '최고': 0},\n",
       " {'도시': '하남', '날짜': '2022-01-18 12:00', '날씨': '맑음', '최저': -10, '최고': 0},\n",
       " {'도시': '하남', '날짜': '2022-01-19 00:00', '날씨': '맑음', '최저': -7, '최고': 0},\n",
       " {'도시': '하남', '날짜': '2022-01-19 12:00', '날씨': '맑음', '최저': -7, '최고': 0},\n",
       " {'도시': '하남', '날짜': '2022-01-20 00:00', '날씨': '맑음', '최저': -9, '최고': 1},\n",
       " {'도시': '하남', '날짜': '2022-01-21 00:00', '날씨': '맑음', '최저': -8, '최고': 1},\n",
       " {'도시': '하남', '날짜': '2022-01-22 00:00', '날씨': '구름많음', '최저': -7, '최고': 1},\n",
       " {'도시': '안양', '날짜': '2022-01-15 00:00', '날씨': '구름많음', '최저': -5, '최고': 4},\n",
       " {'도시': '안양', '날짜': '2022-01-15 12:00', '날씨': '흐림', '최저': -5, '최고': 4},\n",
       " {'도시': '안양', '날짜': '2022-01-16 00:00', '날씨': '구름많고 비/눈', '최저': -2, '최고': 0},\n",
       " {'도시': '안양', '날짜': '2022-01-16 12:00', '날씨': '맑음', '최저': -2, '최고': 0},\n",
       " {'도시': '안양', '날짜': '2022-01-17 00:00', '날씨': '맑음', '최저': -9, '최고': -2},\n",
       " {'도시': '안양', '날짜': '2022-01-17 12:00', '날씨': '맑음', '최저': -9, '최고': -2},\n",
       " {'도시': '안양', '날짜': '2022-01-18 00:00', '날씨': '맑음', '최저': -8, '최고': 0},\n",
       " {'도시': '안양', '날짜': '2022-01-18 12:00', '날씨': '맑음', '최저': -8, '최고': 0},\n",
       " {'도시': '안양', '날짜': '2022-01-19 00:00', '날씨': '맑음', '최저': -5, '최고': -1},\n",
       " {'도시': '안양', '날짜': '2022-01-19 12:00', '날씨': '맑음', '최저': -5, '최고': -1},\n",
       " {'도시': '안양', '날짜': '2022-01-20 00:00', '날씨': '맑음', '최저': -9, '최고': -1},\n",
       " {'도시': '안양', '날짜': '2022-01-21 00:00', '날씨': '맑음', '최저': -8, '최고': 0},\n",
       " {'도시': '안양', '날짜': '2022-01-22 00:00', '날씨': '구름많음', '최저': -6, '최고': 0},\n",
       " {'도시': '오산', '날짜': '2022-01-15 00:00', '날씨': '구름많음', '최저': -6, '최고': 5},\n",
       " {'도시': '오산', '날짜': '2022-01-15 12:00', '날씨': '흐림', '최저': -6, '최고': 5},\n",
       " {'도시': '오산', '날짜': '2022-01-16 00:00', '날씨': '구름많고 비/눈', '최저': -3, '최고': 1},\n",
       " {'도시': '오산', '날짜': '2022-01-16 12:00', '날씨': '맑음', '최저': -3, '최고': 1},\n",
       " {'도시': '오산', '날짜': '2022-01-17 00:00', '날씨': '맑음', '최저': -10, '최고': -2},\n",
       " {'도시': '오산', '날짜': '2022-01-17 12:00', '날씨': '맑음', '최저': -10, '최고': -2},\n",
       " {'도시': '오산', '날짜': '2022-01-18 00:00', '날씨': '맑음', '최저': -10, '최고': -1},\n",
       " {'도시': '오산', '날짜': '2022-01-18 12:00', '날씨': '맑음', '최저': -10, '최고': -1},\n",
       " {'도시': '오산', '날짜': '2022-01-19 00:00', '날씨': '맑음', '최저': -8, '최고': 0},\n",
       " {'도시': '오산', '날짜': '2022-01-19 12:00', '날씨': '맑음', '최저': -8, '최고': 0},\n",
       " {'도시': '오산', '날짜': '2022-01-20 00:00', '날씨': '맑음', '최저': -10, '최고': -1},\n",
       " {'도시': '오산', '날짜': '2022-01-21 00:00', '날씨': '맑음', '최저': -9, '최고': 1},\n",
       " {'도시': '오산', '날짜': '2022-01-22 00:00', '날씨': '구름많음', '최저': -6, '최고': 1},\n",
       " {'도시': '화성', '날짜': '2022-01-15 00:00', '날씨': '구름많음', '최저': -5, '최고': 5},\n",
       " {'도시': '화성', '날짜': '2022-01-15 12:00', '날씨': '흐림', '최저': -5, '최고': 5},\n",
       " {'도시': '화성', '날짜': '2022-01-16 00:00', '날씨': '구름많고 비/눈', '최저': -2, '최고': 0},\n",
       " {'도시': '화성', '날짜': '2022-01-16 12:00', '날씨': '맑음', '최저': -2, '최고': 0},\n",
       " {'도시': '화성', '날짜': '2022-01-17 00:00', '날씨': '맑음', '최저': -9, '최고': -1},\n",
       " {'도시': '화성', '날짜': '2022-01-17 12:00', '날씨': '맑음', '최저': -9, '최고': -1},\n",
       " {'도시': '화성', '날짜': '2022-01-18 00:00', '날씨': '맑음', '최저': -8, '최고': 0},\n",
       " {'도시': '화성', '날짜': '2022-01-18 12:00', '날씨': '맑음', '최저': -8, '최고': 0},\n",
       " {'도시': '화성', '날짜': '2022-01-19 00:00', '날씨': '맑음', '최저': -6, '최고': 1},\n",
       " {'도시': '화성', '날짜': '2022-01-19 12:00', '날씨': '맑음', '최저': -6, '최고': 1},\n",
       " {'도시': '화성', '날짜': '2022-01-20 00:00', '날씨': '맑음', '최저': -8, '최고': 0},\n",
       " {'도시': '화성', '날짜': '2022-01-21 00:00', '날씨': '맑음', '최저': -8, '최고': 1},\n",
       " {'도시': '화성', '날짜': '2022-01-22 00:00', '날씨': '구름많음', '최저': -6, '최고': 1},\n",
       " {'도시': '성남', '날짜': '2022-01-15 00:00', '날씨': '구름많음', '최저': -6, '최고': 4},\n",
       " {'도시': '성남', '날짜': '2022-01-15 12:00', '날씨': '흐림', '최저': -6, '최고': 4},\n",
       " {'도시': '성남', '날짜': '2022-01-16 00:00', '날씨': '구름많고 비/눈', '최저': -2, '최고': 1},\n",
       " {'도시': '성남', '날짜': '2022-01-16 12:00', '날씨': '맑음', '최저': -2, '최고': 1},\n",
       " {'도시': '성남', '날짜': '2022-01-17 00:00', '날씨': '맑음', '최저': -9, '최고': -1},\n",
       " {'도시': '성남', '날짜': '2022-01-17 12:00', '날씨': '맑음', '최저': -9, '최고': -1},\n",
       " {'도시': '성남', '날짜': '2022-01-18 00:00', '날씨': '맑음', '최저': -10, '최고': 0},\n",
       " {'도시': '성남', '날짜': '2022-01-18 12:00', '날씨': '맑음', '최저': -10, '최고': 0},\n",
       " {'도시': '성남', '날짜': '2022-01-19 00:00', '날씨': '맑음', '최저': -6, '최고': 1},\n",
       " {'도시': '성남', '날짜': '2022-01-19 12:00', '날씨': '맑음', '최저': -6, '최고': 1},\n",
       " {'도시': '성남', '날짜': '2022-01-20 00:00', '날씨': '맑음', '최저': -9, '최고': 0},\n",
       " {'도시': '성남', '날짜': '2022-01-21 00:00', '날씨': '맑음', '최저': -8, '최고': 1},\n",
       " {'도시': '성남', '날짜': '2022-01-22 00:00', '날씨': '구름많음', '최저': -7, '최고': 1},\n",
       " {'도시': '의왕', '날짜': '2022-01-15 00:00', '날씨': '구름많음', '최저': -7, '최고': 3},\n",
       " {'도시': '의왕', '날짜': '2022-01-15 12:00', '날씨': '흐림', '최저': -7, '최고': 3},\n",
       " {'도시': '의왕', '날짜': '2022-01-16 00:00', '날씨': '구름많고 비/눈', '최저': -2, '최고': 0},\n",
       " {'도시': '의왕', '날짜': '2022-01-16 12:00', '날씨': '맑음', '최저': -2, '최고': 0},\n",
       " {'도시': '의왕', '날짜': '2022-01-17 00:00', '날씨': '맑음', '최저': -10, '최고': -2},\n",
       " {'도시': '의왕', '날짜': '2022-01-17 12:00', '날씨': '맑음', '최저': -10, '최고': -2},\n",
       " {'도시': '의왕', '날짜': '2022-01-18 00:00', '날씨': '맑음', '최저': -11, '최고': 0},\n",
       " {'도시': '의왕', '날짜': '2022-01-18 12:00', '날씨': '맑음', '최저': -11, '최고': 0},\n",
       " {'도시': '의왕', '날짜': '2022-01-19 00:00', '날씨': '맑음', '최저': -9, '최고': -1},\n",
       " {'도시': '의왕', '날짜': '2022-01-19 12:00', '날씨': '맑음', '최저': -9, '최고': -1},\n",
       " {'도시': '의왕', '날짜': '2022-01-20 00:00', '날씨': '맑음', '최저': -10, '최고': -2},\n",
       " {'도시': '의왕', '날짜': '2022-01-21 00:00', '날씨': '맑음', '최저': -9, '최고': 0},\n",
       " {'도시': '의왕', '날짜': '2022-01-22 00:00', '날씨': '구름많음', '최저': -7, '최고': 0},\n",
       " {'도시': '군포', '날짜': '2022-01-15 00:00', '날씨': '구름많음', '최저': -5, '최고': 5},\n",
       " {'도시': '군포', '날짜': '2022-01-15 12:00', '날씨': '흐림', '최저': -5, '최고': 5},\n",
       " {'도시': '군포', '날짜': '2022-01-16 00:00', '날씨': '구름많고 비/눈', '최저': -2, '최고': 0},\n",
       " {'도시': '군포', '날짜': '2022-01-16 12:00', '날씨': '맑음', '최저': -2, '최고': 0},\n",
       " {'도시': '군포', '날짜': '2022-01-17 00:00', '날씨': '맑음', '최저': -9, '최고': -2},\n",
       " {'도시': '군포', '날짜': '2022-01-17 12:00', '날씨': '맑음', '최저': -9, '최고': -2},\n",
       " {'도시': '군포', '날짜': '2022-01-18 00:00', '날씨': '맑음', '최저': -8, '최고': -1},\n",
       " {'도시': '군포', '날짜': '2022-01-18 12:00', '날씨': '맑음', '최저': -8, '최고': -1},\n",
       " {'도시': '군포', '날짜': '2022-01-19 00:00', '날씨': '맑음', '최저': -5, '최고': 0},\n",
       " {'도시': '군포', '날짜': '2022-01-19 12:00', '날씨': '맑음', '최저': -5, '최고': 0},\n",
       " {'도시': '군포', '날짜': '2022-01-20 00:00', '날씨': '맑음', '최저': -10, '최고': -1},\n",
       " {'도시': '군포', '날짜': '2022-01-21 00:00', '날씨': '맑음', '최저': -8, '최고': 0},\n",
       " {'도시': '군포', '날짜': '2022-01-22 00:00', '날씨': '구름많음', '최저': -6, '최고': 0},\n",
       " {'도시': '안성', '날짜': '2022-01-15 00:00', '날씨': '구름많음', '최저': -7, '최고': 5},\n",
       " {'도시': '안성', '날짜': '2022-01-15 12:00', '날씨': '흐림', '최저': -7, '최고': 5},\n",
       " {'도시': '안성', '날짜': '2022-01-16 00:00', '날씨': '구름많고 비/눈', '최저': -2, '최고': 2},\n",
       " {'도시': '안성', '날짜': '2022-01-16 12:00', '날씨': '맑음', '최저': -2, '최고': 2},\n",
       " {'도시': '안성', '날짜': '2022-01-17 00:00', '날씨': '맑음', '최저': -10, '최고': -1},\n",
       " {'도시': '안성', '날짜': '2022-01-17 12:00', '날씨': '맑음', '최저': -10, '최고': -1},\n",
       " {'도시': '안성', '날짜': '2022-01-18 00:00', '날씨': '맑음', '최저': -9, '최고': 1},\n",
       " {'도시': '안성', '날짜': '2022-01-18 12:00', '날씨': '맑음', '최저': -9, '최고': 1},\n",
       " {'도시': '안성', '날짜': '2022-01-19 00:00', '날씨': '맑음', '최저': -8, '최고': 1},\n",
       " {'도시': '안성', '날짜': '2022-01-19 12:00', '날씨': '맑음', '최저': -8, '최고': 1},\n",
       " {'도시': '안성', '날짜': '2022-01-20 00:00', '날씨': '맑음', '최저': -10, '최고': 1},\n",
       " {'도시': '안성', '날짜': '2022-01-21 00:00', '날씨': '맑음', '최저': -9, '최고': 2},\n",
       " {'도시': '안성', '날짜': '2022-01-22 00:00', '날씨': '구름많음', '최저': -7, '최고': 2},\n",
       " {'도시': '용인', '날짜': '2022-01-15 00:00', '날씨': '구름많음', '최저': -7, '최고': 4},\n",
       " {'도시': '용인', '날짜': '2022-01-15 12:00', '날씨': '흐림', '최저': -7, '최고': 4},\n",
       " {'도시': '용인', '날짜': '2022-01-16 00:00', '날씨': '구름많고 비/눈', '최저': -2, '최고': 1},\n",
       " {'도시': '용인', '날짜': '2022-01-16 12:00', '날씨': '맑음', '최저': -2, '최고': 1},\n",
       " {'도시': '용인', '날짜': '2022-01-17 00:00', '날씨': '맑음', '최저': -10, '최고': -1},\n",
       " {'도시': '용인', '날짜': '2022-01-17 12:00', '날씨': '맑음', '최저': -10, '최고': -1},\n",
       " {'도시': '용인', '날짜': '2022-01-18 00:00', '날씨': '맑음', '최저': -9, '최고': 0},\n",
       " {'도시': '용인', '날짜': '2022-01-18 12:00', '날씨': '맑음', '최저': -9, '최고': 0},\n",
       " {'도시': '용인', '날짜': '2022-01-19 00:00', '날씨': '맑음', '최저': -9, '최고': 1},\n",
       " {'도시': '용인', '날짜': '2022-01-19 12:00', '날씨': '맑음', '최저': -9, '최고': 1},\n",
       " {'도시': '용인', '날짜': '2022-01-20 00:00', '날씨': '맑음', '최저': -10, '최고': 1},\n",
       " {'도시': '용인', '날짜': '2022-01-21 00:00', '날씨': '맑음', '최저': -9, '최고': 2},\n",
       " {'도시': '용인', '날짜': '2022-01-22 00:00', '날씨': '구름많음', '최저': -8, '최고': 2},\n",
       " {'도시': '광주', '날짜': '2022-01-15 00:00', '날씨': '구름많음', '최저': -8, '최고': 3},\n",
       " {'도시': '광주', '날짜': '2022-01-15 12:00', '날씨': '흐림', '최저': -8, '최고': 3},\n",
       " {'도시': '광주', '날짜': '2022-01-16 00:00', '날씨': '구름많고 비/눈', '최저': -3, '최고': 1},\n",
       " {'도시': '광주', '날짜': '2022-01-16 12:00', '날씨': '맑음', '최저': -3, '최고': 1},\n",
       " {'도시': '광주', '날짜': '2022-01-17 00:00', '날씨': '맑음', '최저': -11, '최고': -1},\n",
       " {'도시': '광주', '날짜': '2022-01-17 12:00', '날씨': '맑음', '최저': -11, '최고': -1},\n",
       " {'도시': '광주', '날짜': '2022-01-18 00:00', '날씨': '맑음', '최저': -11, '최고': 0},\n",
       " {'도시': '광주', '날짜': '2022-01-18 12:00', '날씨': '맑음', '최저': -11, '최고': 0},\n",
       " {'도시': '광주', '날짜': '2022-01-19 00:00', '날씨': '맑음', '최저': -8, '최고': 0},\n",
       " {'도시': '광주', '날짜': '2022-01-19 12:00', '날씨': '맑음', '최저': -8, '최고': 0},\n",
       " {'도시': '광주', '날짜': '2022-01-20 00:00', '날씨': '맑음', '최저': -11, '최고': 0},\n",
       " {'도시': '광주', '날짜': '2022-01-21 00:00', '날씨': '맑음', '최저': -9, '최고': 1},\n",
       " {'도시': '광주', '날짜': '2022-01-22 00:00', '날씨': '구름많음', '최저': -9, '최고': 1},\n",
       " {'도시': '여주', '날짜': '2022-01-15 00:00', '날씨': '구름많음', '최저': -7, '최고': 3},\n",
       " {'도시': '여주', '날짜': '2022-01-15 12:00', '날씨': '흐림', '최저': -7, '최고': 3},\n",
       " {'도시': '여주', '날짜': '2022-01-16 00:00', '날씨': '구름많고 비/눈', '최저': -2, '최고': 1},\n",
       " {'도시': '여주', '날짜': '2022-01-16 12:00', '날씨': '맑음', '최저': -2, '최고': 1},\n",
       " {'도시': '여주', '날짜': '2022-01-17 00:00', '날씨': '맑음', '최저': -10, '최고': -1},\n",
       " {'도시': '여주', '날짜': '2022-01-17 12:00', '날씨': '맑음', '최저': -10, '최고': -1},\n",
       " {'도시': '여주', '날짜': '2022-01-18 00:00', '날씨': '맑음', '최저': -10, '최고': -1},\n",
       " {'도시': '여주', '날짜': '2022-01-18 12:00', '날씨': '맑음', '최저': -10, '최고': -1},\n",
       " {'도시': '여주', '날짜': '2022-01-19 00:00', '날씨': '맑음', '최저': -7, '최고': 1},\n",
       " {'도시': '여주', '날짜': '2022-01-19 12:00', '날씨': '맑음', '최저': -7, '최고': 1},\n",
       " {'도시': '여주', '날짜': '2022-01-20 00:00', '날씨': '맑음', '최저': -11, '최고': 0},\n",
       " {'도시': '여주', '날짜': '2022-01-21 00:00', '날씨': '맑음', '최저': -9, '최고': 1},\n",
       " {'도시': '여주', '날짜': '2022-01-22 00:00', '날씨': '구름많음', '최저': -8, '최고': 1}]"
      ]
     },
     "execution_count": 52,
     "metadata": {},
     "output_type": "execute_result"
    }
   ],
   "source": [
    "wdata = []\n",
    "for location in soup.select('location'):\n",
    "    print(location.city.string)\n",
    "    print(\"=\"*20)\n",
    "    for data in location.select('data'):\n",
    "        wdata.append({'도시': location.city.string,\n",
    "                     '날짜' : data.tmef.string,\n",
    "                     \"날씨\" : data.wf.string,\n",
    "                     \"최저\" : int(data.tmn.string),\n",
    "                     \"최고\" : int(data.tmx.string)\n",
    "                     })\n",
    "wdata"
   ]
  },
  {
   "cell_type": "code",
   "execution_count": 53,
   "id": "996c7917",
   "metadata": {
    "ExecuteTime": {
     "end_time": "2022-01-12T00:59:22.256500Z",
     "start_time": "2022-01-12T00:59:22.241542Z"
    },
    "scrolled": true
   },
   "outputs": [
    {
     "data": {
      "text/html": [
       "<div>\n",
       "<style scoped>\n",
       "    .dataframe tbody tr th:only-of-type {\n",
       "        vertical-align: middle;\n",
       "    }\n",
       "\n",
       "    .dataframe tbody tr th {\n",
       "        vertical-align: top;\n",
       "    }\n",
       "\n",
       "    .dataframe thead th {\n",
       "        text-align: right;\n",
       "    }\n",
       "</style>\n",
       "<table border=\"1\" class=\"dataframe\">\n",
       "  <thead>\n",
       "    <tr style=\"text-align: right;\">\n",
       "      <th></th>\n",
       "      <th>도시</th>\n",
       "      <th>날짜</th>\n",
       "      <th>날씨</th>\n",
       "      <th>최저</th>\n",
       "      <th>최고</th>\n",
       "    </tr>\n",
       "  </thead>\n",
       "  <tbody>\n",
       "    <tr>\n",
       "      <th>0</th>\n",
       "      <td>서울</td>\n",
       "      <td>2022-01-15 00:00</td>\n",
       "      <td>구름많음</td>\n",
       "      <td>-5</td>\n",
       "      <td>4</td>\n",
       "    </tr>\n",
       "    <tr>\n",
       "      <th>1</th>\n",
       "      <td>서울</td>\n",
       "      <td>2022-01-15 12:00</td>\n",
       "      <td>흐림</td>\n",
       "      <td>-5</td>\n",
       "      <td>4</td>\n",
       "    </tr>\n",
       "    <tr>\n",
       "      <th>2</th>\n",
       "      <td>서울</td>\n",
       "      <td>2022-01-16 00:00</td>\n",
       "      <td>구름많고 비/눈</td>\n",
       "      <td>-2</td>\n",
       "      <td>1</td>\n",
       "    </tr>\n",
       "    <tr>\n",
       "      <th>3</th>\n",
       "      <td>서울</td>\n",
       "      <td>2022-01-16 12:00</td>\n",
       "      <td>맑음</td>\n",
       "      <td>-2</td>\n",
       "      <td>1</td>\n",
       "    </tr>\n",
       "    <tr>\n",
       "      <th>4</th>\n",
       "      <td>서울</td>\n",
       "      <td>2022-01-17 00:00</td>\n",
       "      <td>맑음</td>\n",
       "      <td>-9</td>\n",
       "      <td>-1</td>\n",
       "    </tr>\n",
       "    <tr>\n",
       "      <th>...</th>\n",
       "      <td>...</td>\n",
       "      <td>...</td>\n",
       "      <td>...</td>\n",
       "      <td>...</td>\n",
       "      <td>...</td>\n",
       "    </tr>\n",
       "    <tr>\n",
       "      <th>450</th>\n",
       "      <td>여주</td>\n",
       "      <td>2022-01-19 00:00</td>\n",
       "      <td>맑음</td>\n",
       "      <td>-7</td>\n",
       "      <td>1</td>\n",
       "    </tr>\n",
       "    <tr>\n",
       "      <th>451</th>\n",
       "      <td>여주</td>\n",
       "      <td>2022-01-19 12:00</td>\n",
       "      <td>맑음</td>\n",
       "      <td>-7</td>\n",
       "      <td>1</td>\n",
       "    </tr>\n",
       "    <tr>\n",
       "      <th>452</th>\n",
       "      <td>여주</td>\n",
       "      <td>2022-01-20 00:00</td>\n",
       "      <td>맑음</td>\n",
       "      <td>-11</td>\n",
       "      <td>0</td>\n",
       "    </tr>\n",
       "    <tr>\n",
       "      <th>453</th>\n",
       "      <td>여주</td>\n",
       "      <td>2022-01-21 00:00</td>\n",
       "      <td>맑음</td>\n",
       "      <td>-9</td>\n",
       "      <td>1</td>\n",
       "    </tr>\n",
       "    <tr>\n",
       "      <th>454</th>\n",
       "      <td>여주</td>\n",
       "      <td>2022-01-22 00:00</td>\n",
       "      <td>구름많음</td>\n",
       "      <td>-8</td>\n",
       "      <td>1</td>\n",
       "    </tr>\n",
       "  </tbody>\n",
       "</table>\n",
       "<p>455 rows × 5 columns</p>\n",
       "</div>"
      ],
      "text/plain": [
       "     도시                날짜        날씨  최저  최고\n",
       "0    서울  2022-01-15 00:00      구름많음  -5   4\n",
       "1    서울  2022-01-15 12:00        흐림  -5   4\n",
       "2    서울  2022-01-16 00:00  구름많고 비/눈  -2   1\n",
       "3    서울  2022-01-16 12:00        맑음  -2   1\n",
       "4    서울  2022-01-17 00:00        맑음  -9  -1\n",
       "..   ..               ...       ...  ..  ..\n",
       "450  여주  2022-01-19 00:00        맑음  -7   1\n",
       "451  여주  2022-01-19 12:00        맑음  -7   1\n",
       "452  여주  2022-01-20 00:00        맑음 -11   0\n",
       "453  여주  2022-01-21 00:00        맑음  -9   1\n",
       "454  여주  2022-01-22 00:00      구름많음  -8   1\n",
       "\n",
       "[455 rows x 5 columns]"
      ]
     },
     "execution_count": 53,
     "metadata": {},
     "output_type": "execute_result"
    }
   ],
   "source": [
    "wdf = pd.DataFrame(wdata)\n",
    "wdf"
   ]
  },
  {
   "cell_type": "code",
   "execution_count": 54,
   "id": "55931693",
   "metadata": {
    "ExecuteTime": {
     "end_time": "2022-01-12T00:59:22.272458Z",
     "start_time": "2022-01-12T00:59:22.257505Z"
    },
    "scrolled": true
   },
   "outputs": [
    {
     "name": "stdout",
     "output_type": "stream",
     "text": [
      "<class 'pandas.core.frame.DataFrame'>\n",
      "RangeIndex: 455 entries, 0 to 454\n",
      "Data columns (total 5 columns):\n",
      " #   Column  Non-Null Count  Dtype \n",
      "---  ------  --------------  ----- \n",
      " 0   도시      455 non-null    object\n",
      " 1   날짜      455 non-null    object\n",
      " 2   날씨      455 non-null    object\n",
      " 3   최저      455 non-null    int64 \n",
      " 4   최고      455 non-null    int64 \n",
      "dtypes: int64(2), object(3)\n",
      "memory usage: 17.9+ KB\n"
     ]
    }
   ],
   "source": [
    "wdf.info()"
   ]
  },
  {
   "cell_type": "code",
   "execution_count": 55,
   "id": "e4d48217",
   "metadata": {
    "ExecuteTime": {
     "end_time": "2022-01-12T00:59:22.288416Z",
     "start_time": "2022-01-12T00:59:22.273455Z"
    },
    "scrolled": true
   },
   "outputs": [
    {
     "name": "stdout",
     "output_type": "stream",
     "text": [
      "<class 'pandas.core.frame.DataFrame'>\n",
      "RangeIndex: 455 entries, 0 to 454\n",
      "Data columns (total 5 columns):\n",
      " #   Column  Non-Null Count  Dtype         \n",
      "---  ------  --------------  -----         \n",
      " 0   도시      455 non-null    object        \n",
      " 1   날짜      455 non-null    datetime64[ns]\n",
      " 2   날씨      455 non-null    object        \n",
      " 3   최저      455 non-null    int64         \n",
      " 4   최고      455 non-null    int64         \n",
      "dtypes: datetime64[ns](1), int64(2), object(2)\n",
      "memory usage: 17.9+ KB\n"
     ]
    }
   ],
   "source": [
    "wdf['날짜'] = pd.to_datetime(wdf['날짜']+':00')# format='%Y-%m-%d %H:%M:%S'\n",
    "wdf.info()"
   ]
  },
  {
   "cell_type": "code",
   "execution_count": 56,
   "id": "71ff42a4",
   "metadata": {
    "ExecuteTime": {
     "end_time": "2022-01-12T00:59:22.304373Z",
     "start_time": "2022-01-12T00:59:22.289414Z"
    },
    "scrolled": true
   },
   "outputs": [
    {
     "data": {
      "text/html": [
       "<div>\n",
       "<style scoped>\n",
       "    .dataframe tbody tr th:only-of-type {\n",
       "        vertical-align: middle;\n",
       "    }\n",
       "\n",
       "    .dataframe tbody tr th {\n",
       "        vertical-align: top;\n",
       "    }\n",
       "\n",
       "    .dataframe thead th {\n",
       "        text-align: right;\n",
       "    }\n",
       "</style>\n",
       "<table border=\"1\" class=\"dataframe\">\n",
       "  <thead>\n",
       "    <tr style=\"text-align: right;\">\n",
       "      <th></th>\n",
       "      <th></th>\n",
       "      <th>날씨</th>\n",
       "      <th>최저</th>\n",
       "      <th>최고</th>\n",
       "    </tr>\n",
       "    <tr>\n",
       "      <th>도시</th>\n",
       "      <th>날짜</th>\n",
       "      <th></th>\n",
       "      <th></th>\n",
       "      <th></th>\n",
       "    </tr>\n",
       "  </thead>\n",
       "  <tbody>\n",
       "    <tr>\n",
       "      <th rowspan=\"5\" valign=\"top\">서울</th>\n",
       "      <th>2022-01-15 00:00:00</th>\n",
       "      <td>구름많음</td>\n",
       "      <td>-5</td>\n",
       "      <td>4</td>\n",
       "    </tr>\n",
       "    <tr>\n",
       "      <th>2022-01-15 12:00:00</th>\n",
       "      <td>흐림</td>\n",
       "      <td>-5</td>\n",
       "      <td>4</td>\n",
       "    </tr>\n",
       "    <tr>\n",
       "      <th>2022-01-16 00:00:00</th>\n",
       "      <td>구름많고 비/눈</td>\n",
       "      <td>-2</td>\n",
       "      <td>1</td>\n",
       "    </tr>\n",
       "    <tr>\n",
       "      <th>2022-01-16 12:00:00</th>\n",
       "      <td>맑음</td>\n",
       "      <td>-2</td>\n",
       "      <td>1</td>\n",
       "    </tr>\n",
       "    <tr>\n",
       "      <th>2022-01-17 00:00:00</th>\n",
       "      <td>맑음</td>\n",
       "      <td>-9</td>\n",
       "      <td>-1</td>\n",
       "    </tr>\n",
       "    <tr>\n",
       "      <th>...</th>\n",
       "      <th>...</th>\n",
       "      <td>...</td>\n",
       "      <td>...</td>\n",
       "      <td>...</td>\n",
       "    </tr>\n",
       "    <tr>\n",
       "      <th rowspan=\"5\" valign=\"top\">여주</th>\n",
       "      <th>2022-01-19 00:00:00</th>\n",
       "      <td>맑음</td>\n",
       "      <td>-7</td>\n",
       "      <td>1</td>\n",
       "    </tr>\n",
       "    <tr>\n",
       "      <th>2022-01-19 12:00:00</th>\n",
       "      <td>맑음</td>\n",
       "      <td>-7</td>\n",
       "      <td>1</td>\n",
       "    </tr>\n",
       "    <tr>\n",
       "      <th>2022-01-20 00:00:00</th>\n",
       "      <td>맑음</td>\n",
       "      <td>-11</td>\n",
       "      <td>0</td>\n",
       "    </tr>\n",
       "    <tr>\n",
       "      <th>2022-01-21 00:00:00</th>\n",
       "      <td>맑음</td>\n",
       "      <td>-9</td>\n",
       "      <td>1</td>\n",
       "    </tr>\n",
       "    <tr>\n",
       "      <th>2022-01-22 00:00:00</th>\n",
       "      <td>구름많음</td>\n",
       "      <td>-8</td>\n",
       "      <td>1</td>\n",
       "    </tr>\n",
       "  </tbody>\n",
       "</table>\n",
       "<p>455 rows × 3 columns</p>\n",
       "</div>"
      ],
      "text/plain": [
       "                              날씨  최저  최고\n",
       "도시 날짜                                   \n",
       "서울 2022-01-15 00:00:00      구름많음  -5   4\n",
       "   2022-01-15 12:00:00        흐림  -5   4\n",
       "   2022-01-16 00:00:00  구름많고 비/눈  -2   1\n",
       "   2022-01-16 12:00:00        맑음  -2   1\n",
       "   2022-01-17 00:00:00        맑음  -9  -1\n",
       "...                          ...  ..  ..\n",
       "여주 2022-01-19 00:00:00        맑음  -7   1\n",
       "   2022-01-19 12:00:00        맑음  -7   1\n",
       "   2022-01-20 00:00:00        맑음 -11   0\n",
       "   2022-01-21 00:00:00        맑음  -9   1\n",
       "   2022-01-22 00:00:00      구름많음  -8   1\n",
       "\n",
       "[455 rows x 3 columns]"
      ]
     },
     "execution_count": 56,
     "metadata": {},
     "output_type": "execute_result"
    }
   ],
   "source": [
    "# 2. EDA :1. 도시와 날짜를 인덱스로 설정하시요\n",
    "wdf1 = wdf.set_index(['도시','날짜'])\n",
    "wdf1"
   ]
  },
  {
   "cell_type": "code",
   "execution_count": 57,
   "id": "2ff9cbf9",
   "metadata": {
    "ExecuteTime": {
     "end_time": "2022-01-12T00:59:22.320330Z",
     "start_time": "2022-01-12T00:59:22.305370Z"
    },
    "scrolled": true
   },
   "outputs": [
    {
     "data": {
      "text/plain": [
       "MultiIndex([('서울', '2022-01-15 00:00:00'),\n",
       "            ('서울', '2022-01-15 12:00:00'),\n",
       "            ('서울', '2022-01-16 00:00:00'),\n",
       "            ('서울', '2022-01-16 12:00:00'),\n",
       "            ('서울', '2022-01-17 00:00:00'),\n",
       "            ('서울', '2022-01-17 12:00:00'),\n",
       "            ('서울', '2022-01-18 00:00:00'),\n",
       "            ('서울', '2022-01-18 12:00:00'),\n",
       "            ('서울', '2022-01-19 00:00:00'),\n",
       "            ('서울', '2022-01-19 12:00:00'),\n",
       "            ...\n",
       "            ('여주', '2022-01-16 12:00:00'),\n",
       "            ('여주', '2022-01-17 00:00:00'),\n",
       "            ('여주', '2022-01-17 12:00:00'),\n",
       "            ('여주', '2022-01-18 00:00:00'),\n",
       "            ('여주', '2022-01-18 12:00:00'),\n",
       "            ('여주', '2022-01-19 00:00:00'),\n",
       "            ('여주', '2022-01-19 12:00:00'),\n",
       "            ('여주', '2022-01-20 00:00:00'),\n",
       "            ('여주', '2022-01-21 00:00:00'),\n",
       "            ('여주', '2022-01-22 00:00:00')],\n",
       "           names=['도시', '날짜'], length=455)"
      ]
     },
     "execution_count": 57,
     "metadata": {},
     "output_type": "execute_result"
    }
   ],
   "source": [
    "wdf1.index"
   ]
  },
  {
   "cell_type": "code",
   "execution_count": 58,
   "id": "55e5cab6",
   "metadata": {
    "ExecuteTime": {
     "end_time": "2022-01-12T00:59:22.337493Z",
     "start_time": "2022-01-12T00:59:22.321327Z"
    },
    "scrolled": true
   },
   "outputs": [
    {
     "data": {
      "text/html": [
       "<div>\n",
       "<style scoped>\n",
       "    .dataframe tbody tr th:only-of-type {\n",
       "        vertical-align: middle;\n",
       "    }\n",
       "\n",
       "    .dataframe tbody tr th {\n",
       "        vertical-align: top;\n",
       "    }\n",
       "\n",
       "    .dataframe thead th {\n",
       "        text-align: right;\n",
       "    }\n",
       "</style>\n",
       "<table border=\"1\" class=\"dataframe\">\n",
       "  <thead>\n",
       "    <tr style=\"text-align: right;\">\n",
       "      <th></th>\n",
       "      <th>최저</th>\n",
       "      <th>최고</th>\n",
       "    </tr>\n",
       "    <tr>\n",
       "      <th>도시</th>\n",
       "      <th></th>\n",
       "      <th></th>\n",
       "    </tr>\n",
       "  </thead>\n",
       "  <tbody>\n",
       "    <tr>\n",
       "      <th>연천</th>\n",
       "      <td>-11.769231</td>\n",
       "      <td>-1.846154</td>\n",
       "    </tr>\n",
       "    <tr>\n",
       "      <th>가평</th>\n",
       "      <td>-11.307692</td>\n",
       "      <td>0.615385</td>\n",
       "    </tr>\n",
       "    <tr>\n",
       "      <th>파주</th>\n",
       "      <td>-10.076923</td>\n",
       "      <td>0.000000</td>\n",
       "    </tr>\n",
       "    <tr>\n",
       "      <th>양주</th>\n",
       "      <td>-10.000000</td>\n",
       "      <td>0.000000</td>\n",
       "    </tr>\n",
       "    <tr>\n",
       "      <th>포천</th>\n",
       "      <td>-9.846154</td>\n",
       "      <td>0.076923</td>\n",
       "    </tr>\n",
       "    <tr>\n",
       "      <th>남양주</th>\n",
       "      <td>-9.076923</td>\n",
       "      <td>-0.076923</td>\n",
       "    </tr>\n",
       "    <tr>\n",
       "      <th>의정부</th>\n",
       "      <td>-8.769231</td>\n",
       "      <td>0.000000</td>\n",
       "    </tr>\n",
       "    <tr>\n",
       "      <th>동두천</th>\n",
       "      <td>-8.769231</td>\n",
       "      <td>0.769231</td>\n",
       "    </tr>\n",
       "    <tr>\n",
       "      <th>광주</th>\n",
       "      <td>-8.538462</td>\n",
       "      <td>0.615385</td>\n",
       "    </tr>\n",
       "    <tr>\n",
       "      <th>이천</th>\n",
       "      <td>-8.230769</td>\n",
       "      <td>1.153846</td>\n",
       "    </tr>\n",
       "    <tr>\n",
       "      <th>고양</th>\n",
       "      <td>-8.153846</td>\n",
       "      <td>0.769231</td>\n",
       "    </tr>\n",
       "    <tr>\n",
       "      <th>의왕</th>\n",
       "      <td>-8.000000</td>\n",
       "      <td>-0.153846</td>\n",
       "    </tr>\n",
       "    <tr>\n",
       "      <th>양평</th>\n",
       "      <td>-7.923077</td>\n",
       "      <td>0.615385</td>\n",
       "    </tr>\n",
       "    <tr>\n",
       "      <th>강화</th>\n",
       "      <td>-7.769231</td>\n",
       "      <td>-0.153846</td>\n",
       "    </tr>\n",
       "    <tr>\n",
       "      <th>용인</th>\n",
       "      <td>-7.769231</td>\n",
       "      <td>1.153846</td>\n",
       "    </tr>\n",
       "    <tr>\n",
       "      <th>여주</th>\n",
       "      <td>-7.692308</td>\n",
       "      <td>0.615385</td>\n",
       "    </tr>\n",
       "    <tr>\n",
       "      <th>오산</th>\n",
       "      <td>-7.615385</td>\n",
       "      <td>0.538462</td>\n",
       "    </tr>\n",
       "    <tr>\n",
       "      <th>안성</th>\n",
       "      <td>-7.538462</td>\n",
       "      <td>1.615385</td>\n",
       "    </tr>\n",
       "    <tr>\n",
       "      <th>과천</th>\n",
       "      <td>-7.461538</td>\n",
       "      <td>0.923077</td>\n",
       "    </tr>\n",
       "    <tr>\n",
       "      <th>구리</th>\n",
       "      <td>-7.307692</td>\n",
       "      <td>0.769231</td>\n",
       "    </tr>\n",
       "    <tr>\n",
       "      <th>수원</th>\n",
       "      <td>-7.230769</td>\n",
       "      <td>1.538462</td>\n",
       "    </tr>\n",
       "    <tr>\n",
       "      <th>하남</th>\n",
       "      <td>-7.076923</td>\n",
       "      <td>0.846154</td>\n",
       "    </tr>\n",
       "    <tr>\n",
       "      <th>성남</th>\n",
       "      <td>-6.923077</td>\n",
       "      <td>0.923077</td>\n",
       "    </tr>\n",
       "    <tr>\n",
       "      <th>시흥</th>\n",
       "      <td>-6.923077</td>\n",
       "      <td>0.615385</td>\n",
       "    </tr>\n",
       "    <tr>\n",
       "      <th>김포</th>\n",
       "      <td>-6.923077</td>\n",
       "      <td>0.923077</td>\n",
       "    </tr>\n",
       "    <tr>\n",
       "      <th>평택</th>\n",
       "      <td>-6.692308</td>\n",
       "      <td>0.769231</td>\n",
       "    </tr>\n",
       "    <tr>\n",
       "      <th>안산</th>\n",
       "      <td>-6.692308</td>\n",
       "      <td>0.923077</td>\n",
       "    </tr>\n",
       "    <tr>\n",
       "      <th>서울</th>\n",
       "      <td>-6.307692</td>\n",
       "      <td>0.538462</td>\n",
       "    </tr>\n",
       "    <tr>\n",
       "      <th>군포</th>\n",
       "      <td>-6.307692</td>\n",
       "      <td>0.230769</td>\n",
       "    </tr>\n",
       "    <tr>\n",
       "      <th>화성</th>\n",
       "      <td>-6.307692</td>\n",
       "      <td>0.923077</td>\n",
       "    </tr>\n",
       "    <tr>\n",
       "      <th>안양</th>\n",
       "      <td>-6.230769</td>\n",
       "      <td>0.076923</td>\n",
       "    </tr>\n",
       "    <tr>\n",
       "      <th>광명</th>\n",
       "      <td>-5.692308</td>\n",
       "      <td>0.000000</td>\n",
       "    </tr>\n",
       "    <tr>\n",
       "      <th>부천</th>\n",
       "      <td>-5.538462</td>\n",
       "      <td>0.615385</td>\n",
       "    </tr>\n",
       "    <tr>\n",
       "      <th>인천</th>\n",
       "      <td>-5.384615</td>\n",
       "      <td>-0.076923</td>\n",
       "    </tr>\n",
       "    <tr>\n",
       "      <th>백령도</th>\n",
       "      <td>-2.000000</td>\n",
       "      <td>1.153846</td>\n",
       "    </tr>\n",
       "  </tbody>\n",
       "</table>\n",
       "</div>"
      ],
      "text/plain": [
       "            최저        최고\n",
       "도시                      \n",
       "연천  -11.769231 -1.846154\n",
       "가평  -11.307692  0.615385\n",
       "파주  -10.076923  0.000000\n",
       "양주  -10.000000  0.000000\n",
       "포천   -9.846154  0.076923\n",
       "남양주  -9.076923 -0.076923\n",
       "의정부  -8.769231  0.000000\n",
       "동두천  -8.769231  0.769231\n",
       "광주   -8.538462  0.615385\n",
       "이천   -8.230769  1.153846\n",
       "고양   -8.153846  0.769231\n",
       "의왕   -8.000000 -0.153846\n",
       "양평   -7.923077  0.615385\n",
       "강화   -7.769231 -0.153846\n",
       "용인   -7.769231  1.153846\n",
       "여주   -7.692308  0.615385\n",
       "오산   -7.615385  0.538462\n",
       "안성   -7.538462  1.615385\n",
       "과천   -7.461538  0.923077\n",
       "구리   -7.307692  0.769231\n",
       "수원   -7.230769  1.538462\n",
       "하남   -7.076923  0.846154\n",
       "성남   -6.923077  0.923077\n",
       "시흥   -6.923077  0.615385\n",
       "김포   -6.923077  0.923077\n",
       "평택   -6.692308  0.769231\n",
       "안산   -6.692308  0.923077\n",
       "서울   -6.307692  0.538462\n",
       "군포   -6.307692  0.230769\n",
       "화성   -6.307692  0.923077\n",
       "안양   -6.230769  0.076923\n",
       "광명   -5.692308  0.000000\n",
       "부천   -5.538462  0.615385\n",
       "인천   -5.384615 -0.076923\n",
       "백령도  -2.000000  1.153846"
      ]
     },
     "execution_count": 58,
     "metadata": {},
     "output_type": "execute_result"
    }
   ],
   "source": [
    "# 2. EDA :2. 도시별 최고, 최저기온 평균을 구하시요.\n",
    "wdf1.groupby('도시').mean().sort_values(by='최저')"
   ]
  },
  {
   "cell_type": "code",
   "execution_count": 59,
   "id": "748bee5c",
   "metadata": {
    "ExecuteTime": {
     "end_time": "2022-01-12T00:59:22.352249Z",
     "start_time": "2022-01-12T00:59:22.338282Z"
    },
    "scrolled": true
   },
   "outputs": [
    {
     "data": {
      "text/html": [
       "<div>\n",
       "<style scoped>\n",
       "    .dataframe tbody tr th:only-of-type {\n",
       "        vertical-align: middle;\n",
       "    }\n",
       "\n",
       "    .dataframe tbody tr th {\n",
       "        vertical-align: top;\n",
       "    }\n",
       "\n",
       "    .dataframe thead th {\n",
       "        text-align: right;\n",
       "    }\n",
       "</style>\n",
       "<table border=\"1\" class=\"dataframe\">\n",
       "  <thead>\n",
       "    <tr style=\"text-align: right;\">\n",
       "      <th></th>\n",
       "      <th></th>\n",
       "      <th>날씨</th>\n",
       "      <th>최저</th>\n",
       "      <th>최고</th>\n",
       "    </tr>\n",
       "    <tr>\n",
       "      <th>도시</th>\n",
       "      <th>날짜</th>\n",
       "      <th></th>\n",
       "      <th></th>\n",
       "      <th></th>\n",
       "    </tr>\n",
       "  </thead>\n",
       "  <tbody>\n",
       "    <tr>\n",
       "      <th rowspan=\"4\" valign=\"top\">연천</th>\n",
       "      <th>2022-01-17 00:00:00</th>\n",
       "      <td>맑음</td>\n",
       "      <td>-15</td>\n",
       "      <td>-4</td>\n",
       "    </tr>\n",
       "    <tr>\n",
       "      <th>2022-01-17 12:00:00</th>\n",
       "      <td>맑음</td>\n",
       "      <td>-15</td>\n",
       "      <td>-4</td>\n",
       "    </tr>\n",
       "    <tr>\n",
       "      <th>2022-01-18 00:00:00</th>\n",
       "      <td>맑음</td>\n",
       "      <td>-15</td>\n",
       "      <td>-2</td>\n",
       "    </tr>\n",
       "    <tr>\n",
       "      <th>2022-01-18 12:00:00</th>\n",
       "      <td>맑음</td>\n",
       "      <td>-15</td>\n",
       "      <td>-2</td>\n",
       "    </tr>\n",
       "  </tbody>\n",
       "</table>\n",
       "</div>"
      ],
      "text/plain": [
       "                        날씨  최저  최고\n",
       "도시 날짜                             \n",
       "연천 2022-01-17 00:00:00  맑음 -15  -4\n",
       "   2022-01-17 12:00:00  맑음 -15  -4\n",
       "   2022-01-18 00:00:00  맑음 -15  -2\n",
       "   2022-01-18 12:00:00  맑음 -15  -2"
      ]
     },
     "execution_count": 59,
     "metadata": {},
     "output_type": "execute_result"
    }
   ],
   "source": [
    "# 2. EDA : 3. 최저기온이 가장낮은 도시, 날짜, 최고기온을 구하시요\n",
    "wdf1[wdf1['최저'] == wdf1['최저'].min()] # nsmallest 쓸걸.."
   ]
  },
  {
   "cell_type": "code",
   "execution_count": 60,
   "id": "8acc4008",
   "metadata": {
    "ExecuteTime": {
     "end_time": "2022-01-12T00:59:22.368202Z",
     "start_time": "2022-01-12T00:59:22.356234Z"
    }
   },
   "outputs": [
    {
     "data": {
      "text/html": [
       "<div>\n",
       "<style scoped>\n",
       "    .dataframe tbody tr th:only-of-type {\n",
       "        vertical-align: middle;\n",
       "    }\n",
       "\n",
       "    .dataframe tbody tr th {\n",
       "        vertical-align: top;\n",
       "    }\n",
       "\n",
       "    .dataframe thead th {\n",
       "        text-align: right;\n",
       "    }\n",
       "</style>\n",
       "<table border=\"1\" class=\"dataframe\">\n",
       "  <thead>\n",
       "    <tr style=\"text-align: right;\">\n",
       "      <th></th>\n",
       "      <th></th>\n",
       "      <th>날씨</th>\n",
       "      <th>최저</th>\n",
       "      <th>최고</th>\n",
       "    </tr>\n",
       "    <tr>\n",
       "      <th>도시</th>\n",
       "      <th>날짜</th>\n",
       "      <th></th>\n",
       "      <th></th>\n",
       "      <th></th>\n",
       "    </tr>\n",
       "  </thead>\n",
       "  <tbody>\n",
       "    <tr>\n",
       "      <th rowspan=\"4\" valign=\"top\">연천</th>\n",
       "      <th>2022-01-17 00:00:00</th>\n",
       "      <td>맑음</td>\n",
       "      <td>-15</td>\n",
       "      <td>-4</td>\n",
       "    </tr>\n",
       "    <tr>\n",
       "      <th>2022-01-17 12:00:00</th>\n",
       "      <td>맑음</td>\n",
       "      <td>-15</td>\n",
       "      <td>-4</td>\n",
       "    </tr>\n",
       "    <tr>\n",
       "      <th>2022-01-18 00:00:00</th>\n",
       "      <td>맑음</td>\n",
       "      <td>-15</td>\n",
       "      <td>-2</td>\n",
       "    </tr>\n",
       "    <tr>\n",
       "      <th>2022-01-18 12:00:00</th>\n",
       "      <td>맑음</td>\n",
       "      <td>-15</td>\n",
       "      <td>-2</td>\n",
       "    </tr>\n",
       "  </tbody>\n",
       "</table>\n",
       "</div>"
      ],
      "text/plain": [
       "                        날씨  최저  최고\n",
       "도시 날짜                             \n",
       "연천 2022-01-17 00:00:00  맑음 -15  -4\n",
       "   2022-01-17 12:00:00  맑음 -15  -4\n",
       "   2022-01-18 00:00:00  맑음 -15  -2\n",
       "   2022-01-18 12:00:00  맑음 -15  -2"
      ]
     },
     "execution_count": 60,
     "metadata": {},
     "output_type": "execute_result"
    }
   ],
   "source": [
    "wdf1.nsmallest(1, '최저', keep='all')"
   ]
  },
  {
   "cell_type": "code",
   "execution_count": 61,
   "id": "9c64b005",
   "metadata": {
    "ExecuteTime": {
     "end_time": "2022-01-12T00:59:22.384159Z",
     "start_time": "2022-01-12T00:59:22.369199Z"
    }
   },
   "outputs": [
    {
     "data": {
      "text/html": [
       "<div>\n",
       "<style scoped>\n",
       "    .dataframe tbody tr th:only-of-type {\n",
       "        vertical-align: middle;\n",
       "    }\n",
       "\n",
       "    .dataframe tbody tr th {\n",
       "        vertical-align: top;\n",
       "    }\n",
       "\n",
       "    .dataframe thead th {\n",
       "        text-align: right;\n",
       "    }\n",
       "</style>\n",
       "<table border=\"1\" class=\"dataframe\">\n",
       "  <thead>\n",
       "    <tr style=\"text-align: right;\">\n",
       "      <th></th>\n",
       "      <th></th>\n",
       "      <th>날씨</th>\n",
       "    </tr>\n",
       "    <tr>\n",
       "      <th>도시</th>\n",
       "      <th>날짜</th>\n",
       "      <th></th>\n",
       "    </tr>\n",
       "  </thead>\n",
       "  <tbody>\n",
       "    <tr>\n",
       "      <th>서울</th>\n",
       "      <th>2022-01-16</th>\n",
       "      <td>구름많고 비/눈</td>\n",
       "    </tr>\n",
       "    <tr>\n",
       "      <th>인천</th>\n",
       "      <th>2022-01-16</th>\n",
       "      <td>구름많고 비/눈</td>\n",
       "    </tr>\n",
       "    <tr>\n",
       "      <th>수원</th>\n",
       "      <th>2022-01-16</th>\n",
       "      <td>구름많고 비/눈</td>\n",
       "    </tr>\n",
       "    <tr>\n",
       "      <th>파주</th>\n",
       "      <th>2022-01-16</th>\n",
       "      <td>구름많고 비/눈</td>\n",
       "    </tr>\n",
       "    <tr>\n",
       "      <th>이천</th>\n",
       "      <th>2022-01-16</th>\n",
       "      <td>구름많고 비/눈</td>\n",
       "    </tr>\n",
       "    <tr>\n",
       "      <th>평택</th>\n",
       "      <th>2022-01-16</th>\n",
       "      <td>구름많고 비/눈</td>\n",
       "    </tr>\n",
       "    <tr>\n",
       "      <th>백령도</th>\n",
       "      <th>2022-01-16</th>\n",
       "      <td>구름많고 비/눈</td>\n",
       "    </tr>\n",
       "    <tr>\n",
       "      <th>과천</th>\n",
       "      <th>2022-01-16</th>\n",
       "      <td>구름많고 비/눈</td>\n",
       "    </tr>\n",
       "    <tr>\n",
       "      <th>광명</th>\n",
       "      <th>2022-01-16</th>\n",
       "      <td>구름많고 비/눈</td>\n",
       "    </tr>\n",
       "    <tr>\n",
       "      <th>강화</th>\n",
       "      <th>2022-01-16</th>\n",
       "      <td>구름많고 비/눈</td>\n",
       "    </tr>\n",
       "    <tr>\n",
       "      <th>김포</th>\n",
       "      <th>2022-01-16</th>\n",
       "      <td>구름많고 비/눈</td>\n",
       "    </tr>\n",
       "    <tr>\n",
       "      <th>시흥</th>\n",
       "      <th>2022-01-16</th>\n",
       "      <td>구름많고 비/눈</td>\n",
       "    </tr>\n",
       "    <tr>\n",
       "      <th>안산</th>\n",
       "      <th>2022-01-16</th>\n",
       "      <td>구름많고 비/눈</td>\n",
       "    </tr>\n",
       "    <tr>\n",
       "      <th>부천</th>\n",
       "      <th>2022-01-16</th>\n",
       "      <td>구름많고 비/눈</td>\n",
       "    </tr>\n",
       "    <tr>\n",
       "      <th>의정부</th>\n",
       "      <th>2022-01-16</th>\n",
       "      <td>구름많고 비/눈</td>\n",
       "    </tr>\n",
       "    <tr>\n",
       "      <th>고양</th>\n",
       "      <th>2022-01-16</th>\n",
       "      <td>구름많고 비/눈</td>\n",
       "    </tr>\n",
       "    <tr>\n",
       "      <th>양주</th>\n",
       "      <th>2022-01-16</th>\n",
       "      <td>구름많고 비/눈</td>\n",
       "    </tr>\n",
       "    <tr>\n",
       "      <th>동두천</th>\n",
       "      <th>2022-01-16</th>\n",
       "      <td>구름많고 비/눈</td>\n",
       "    </tr>\n",
       "    <tr>\n",
       "      <th>연천</th>\n",
       "      <th>2022-01-16</th>\n",
       "      <td>구름많고 비/눈</td>\n",
       "    </tr>\n",
       "    <tr>\n",
       "      <th>포천</th>\n",
       "      <th>2022-01-16</th>\n",
       "      <td>구름많고 비/눈</td>\n",
       "    </tr>\n",
       "    <tr>\n",
       "      <th>가평</th>\n",
       "      <th>2022-01-16</th>\n",
       "      <td>구름많고 비/눈</td>\n",
       "    </tr>\n",
       "    <tr>\n",
       "      <th>구리</th>\n",
       "      <th>2022-01-16</th>\n",
       "      <td>구름많고 비/눈</td>\n",
       "    </tr>\n",
       "    <tr>\n",
       "      <th>남양주</th>\n",
       "      <th>2022-01-16</th>\n",
       "      <td>구름많고 비/눈</td>\n",
       "    </tr>\n",
       "    <tr>\n",
       "      <th>양평</th>\n",
       "      <th>2022-01-16</th>\n",
       "      <td>구름많고 비/눈</td>\n",
       "    </tr>\n",
       "    <tr>\n",
       "      <th>하남</th>\n",
       "      <th>2022-01-16</th>\n",
       "      <td>구름많고 비/눈</td>\n",
       "    </tr>\n",
       "    <tr>\n",
       "      <th>안양</th>\n",
       "      <th>2022-01-16</th>\n",
       "      <td>구름많고 비/눈</td>\n",
       "    </tr>\n",
       "    <tr>\n",
       "      <th>오산</th>\n",
       "      <th>2022-01-16</th>\n",
       "      <td>구름많고 비/눈</td>\n",
       "    </tr>\n",
       "    <tr>\n",
       "      <th>화성</th>\n",
       "      <th>2022-01-16</th>\n",
       "      <td>구름많고 비/눈</td>\n",
       "    </tr>\n",
       "    <tr>\n",
       "      <th>성남</th>\n",
       "      <th>2022-01-16</th>\n",
       "      <td>구름많고 비/눈</td>\n",
       "    </tr>\n",
       "    <tr>\n",
       "      <th>의왕</th>\n",
       "      <th>2022-01-16</th>\n",
       "      <td>구름많고 비/눈</td>\n",
       "    </tr>\n",
       "    <tr>\n",
       "      <th>군포</th>\n",
       "      <th>2022-01-16</th>\n",
       "      <td>구름많고 비/눈</td>\n",
       "    </tr>\n",
       "    <tr>\n",
       "      <th>안성</th>\n",
       "      <th>2022-01-16</th>\n",
       "      <td>구름많고 비/눈</td>\n",
       "    </tr>\n",
       "    <tr>\n",
       "      <th>용인</th>\n",
       "      <th>2022-01-16</th>\n",
       "      <td>구름많고 비/눈</td>\n",
       "    </tr>\n",
       "    <tr>\n",
       "      <th>광주</th>\n",
       "      <th>2022-01-16</th>\n",
       "      <td>구름많고 비/눈</td>\n",
       "    </tr>\n",
       "    <tr>\n",
       "      <th>여주</th>\n",
       "      <th>2022-01-16</th>\n",
       "      <td>구름많고 비/눈</td>\n",
       "    </tr>\n",
       "  </tbody>\n",
       "</table>\n",
       "</div>"
      ],
      "text/plain": [
       "                      날씨\n",
       "도시  날짜                  \n",
       "서울  2022-01-16  구름많고 비/눈\n",
       "인천  2022-01-16  구름많고 비/눈\n",
       "수원  2022-01-16  구름많고 비/눈\n",
       "파주  2022-01-16  구름많고 비/눈\n",
       "이천  2022-01-16  구름많고 비/눈\n",
       "평택  2022-01-16  구름많고 비/눈\n",
       "백령도 2022-01-16  구름많고 비/눈\n",
       "과천  2022-01-16  구름많고 비/눈\n",
       "광명  2022-01-16  구름많고 비/눈\n",
       "강화  2022-01-16  구름많고 비/눈\n",
       "김포  2022-01-16  구름많고 비/눈\n",
       "시흥  2022-01-16  구름많고 비/눈\n",
       "안산  2022-01-16  구름많고 비/눈\n",
       "부천  2022-01-16  구름많고 비/눈\n",
       "의정부 2022-01-16  구름많고 비/눈\n",
       "고양  2022-01-16  구름많고 비/눈\n",
       "양주  2022-01-16  구름많고 비/눈\n",
       "동두천 2022-01-16  구름많고 비/눈\n",
       "연천  2022-01-16  구름많고 비/눈\n",
       "포천  2022-01-16  구름많고 비/눈\n",
       "가평  2022-01-16  구름많고 비/눈\n",
       "구리  2022-01-16  구름많고 비/눈\n",
       "남양주 2022-01-16  구름많고 비/눈\n",
       "양평  2022-01-16  구름많고 비/눈\n",
       "하남  2022-01-16  구름많고 비/눈\n",
       "안양  2022-01-16  구름많고 비/눈\n",
       "오산  2022-01-16  구름많고 비/눈\n",
       "화성  2022-01-16  구름많고 비/눈\n",
       "성남  2022-01-16  구름많고 비/눈\n",
       "의왕  2022-01-16  구름많고 비/눈\n",
       "군포  2022-01-16  구름많고 비/눈\n",
       "안성  2022-01-16  구름많고 비/눈\n",
       "용인  2022-01-16  구름많고 비/눈\n",
       "광주  2022-01-16  구름많고 비/눈\n",
       "여주  2022-01-16  구름많고 비/눈"
      ]
     },
     "execution_count": 61,
     "metadata": {},
     "output_type": "execute_result"
    }
   ],
   "source": [
    "# 눈이 오는 도시 날짜 날씨를 구하시오\n",
    "wdf1[wdf1['날씨'].str.contains('눈')][['날씨']]"
   ]
  },
  {
   "cell_type": "code",
   "execution_count": 62,
   "id": "de409a2b",
   "metadata": {
    "ExecuteTime": {
     "end_time": "2022-01-12T00:59:22.649934Z",
     "start_time": "2022-01-12T00:59:22.385182Z"
    }
   },
   "outputs": [
    {
     "data": {
      "text/plain": [
       "<AxesSubplot:xlabel='날짜'>"
      ]
     },
     "execution_count": 62,
     "metadata": {},
     "output_type": "execute_result"
    },
    {
     "data": {
      "image/png": "[encoded data removed]",
      "text/plain": [
       "<Figure size 432x288 with 1 Axes>"
      ]
     },
     "metadata": {},
     "output_type": "display_data"
    }
   ],
   "source": [
    "# 2. EDA : 4.서울지역의 날짜별 최고 최저기온을 바차트로그리시요\n",
    "import matplotlib\n",
    "import matplotlib.pyplot as plt\n",
    "import seaborn as sns\n",
    "%matplotlib inline\n",
    "plt.style.use(\"ggplot\")\n",
    "# 관련 라이브러리 임포트 \n",
    "import matplotlib.font_manager as fm\n",
    "#  한글글꼴로 변경\n",
    "# plt.rcParams['font.family'] = '한글글꼴명'\n",
    "plt.rcParams['font.size'] = 11.0\n",
    "# plt.rcParams['font.family'] = 'batang'\n",
    "plt.rcParams['font.family'] = 'Malgun Gothic'\n",
    "# 그래프에서 마이너스 폰트 깨지는 문제에 대한 대처\n",
    "matplotlib.rcParams['axes.unicode_minus'] = False\n",
    "\n",
    "wdf1.loc['서울'].plot(kind='bar')"
   ]
  },
  {
   "cell_type": "code",
   "execution_count": 63,
   "id": "db1fea1b",
   "metadata": {
    "ExecuteTime": {
     "end_time": "2022-01-12T00:59:22.665890Z",
     "start_time": "2022-01-12T00:59:22.650931Z"
    }
   },
   "outputs": [
    {
     "data": {
      "text/html": [
       "<div>\n",
       "<style scoped>\n",
       "    .dataframe tbody tr th:only-of-type {\n",
       "        vertical-align: middle;\n",
       "    }\n",
       "\n",
       "    .dataframe tbody tr th {\n",
       "        vertical-align: top;\n",
       "    }\n",
       "\n",
       "    .dataframe thead th {\n",
       "        text-align: right;\n",
       "    }\n",
       "</style>\n",
       "<table border=\"1\" class=\"dataframe\">\n",
       "  <thead>\n",
       "    <tr style=\"text-align: right;\">\n",
       "      <th></th>\n",
       "      <th>최저</th>\n",
       "    </tr>\n",
       "    <tr>\n",
       "      <th>날짜</th>\n",
       "      <th></th>\n",
       "    </tr>\n",
       "  </thead>\n",
       "  <tbody>\n",
       "    <tr>\n",
       "      <th>2022-01-17 00:00:00</th>\n",
       "      <td>-10</td>\n",
       "    </tr>\n",
       "    <tr>\n",
       "      <th>2022-01-17 12:00:00</th>\n",
       "      <td>-10</td>\n",
       "    </tr>\n",
       "    <tr>\n",
       "      <th>2022-01-18 00:00:00</th>\n",
       "      <td>-10</td>\n",
       "    </tr>\n",
       "    <tr>\n",
       "      <th>2022-01-18 12:00:00</th>\n",
       "      <td>-10</td>\n",
       "    </tr>\n",
       "    <tr>\n",
       "      <th>2022-01-20 00:00:00</th>\n",
       "      <td>-11</td>\n",
       "    </tr>\n",
       "  </tbody>\n",
       "</table>\n",
       "</div>"
      ],
      "text/plain": [
       "                     최저\n",
       "날짜                     \n",
       "2022-01-17 00:00:00 -10\n",
       "2022-01-17 12:00:00 -10\n",
       "2022-01-18 00:00:00 -10\n",
       "2022-01-18 12:00:00 -10\n",
       "2022-01-20 00:00:00 -11"
      ]
     },
     "execution_count": 63,
     "metadata": {},
     "output_type": "execute_result"
    }
   ],
   "source": [
    "# 2. EDA : 5.여주지역 최저기온이 -10 도 이하인 데이터를 구하시요\n",
    "wdf1.loc['여주'][['최저']][wdf1.loc['여주']['최저'] <= -10]"
   ]
  },
  {
   "cell_type": "code",
   "execution_count": 64,
   "id": "e10acf73",
   "metadata": {
    "ExecuteTime": {
     "end_time": "2022-01-12T00:59:22.681847Z",
     "start_time": "2022-01-12T00:59:22.666887Z"
    }
   },
   "outputs": [
    {
     "data": {
      "text/html": [
       "<div>\n",
       "<style scoped>\n",
       "    .dataframe tbody tr th:only-of-type {\n",
       "        vertical-align: middle;\n",
       "    }\n",
       "\n",
       "    .dataframe tbody tr th {\n",
       "        vertical-align: top;\n",
       "    }\n",
       "\n",
       "    .dataframe thead th {\n",
       "        text-align: right;\n",
       "    }\n",
       "</style>\n",
       "<table border=\"1\" class=\"dataframe\">\n",
       "  <thead>\n",
       "    <tr style=\"text-align: right;\">\n",
       "      <th></th>\n",
       "      <th>날씨</th>\n",
       "      <th>최저</th>\n",
       "      <th>최고</th>\n",
       "    </tr>\n",
       "    <tr>\n",
       "      <th>날짜</th>\n",
       "      <th></th>\n",
       "      <th></th>\n",
       "      <th></th>\n",
       "    </tr>\n",
       "  </thead>\n",
       "  <tbody>\n",
       "    <tr>\n",
       "      <th>2022-01-17 00:00:00</th>\n",
       "      <td>맑음</td>\n",
       "      <td>-10</td>\n",
       "      <td>-1</td>\n",
       "    </tr>\n",
       "    <tr>\n",
       "      <th>2022-01-17 12:00:00</th>\n",
       "      <td>맑음</td>\n",
       "      <td>-10</td>\n",
       "      <td>-1</td>\n",
       "    </tr>\n",
       "    <tr>\n",
       "      <th>2022-01-18 00:00:00</th>\n",
       "      <td>맑음</td>\n",
       "      <td>-10</td>\n",
       "      <td>-1</td>\n",
       "    </tr>\n",
       "    <tr>\n",
       "      <th>2022-01-18 12:00:00</th>\n",
       "      <td>맑음</td>\n",
       "      <td>-10</td>\n",
       "      <td>-1</td>\n",
       "    </tr>\n",
       "    <tr>\n",
       "      <th>2022-01-20 00:00:00</th>\n",
       "      <td>맑음</td>\n",
       "      <td>-11</td>\n",
       "      <td>0</td>\n",
       "    </tr>\n",
       "  </tbody>\n",
       "</table>\n",
       "</div>"
      ],
      "text/plain": [
       "                     날씨  최저  최고\n",
       "날짜                             \n",
       "2022-01-17 00:00:00  맑음 -10  -1\n",
       "2022-01-17 12:00:00  맑음 -10  -1\n",
       "2022-01-18 00:00:00  맑음 -10  -1\n",
       "2022-01-18 12:00:00  맑음 -10  -1\n",
       "2022-01-20 00:00:00  맑음 -11   0"
      ]
     },
     "execution_count": 64,
     "metadata": {},
     "output_type": "execute_result"
    }
   ],
   "source": [
    "wdf1.loc['여주'].query('최저<=-10')"
   ]
  },
  {
   "cell_type": "code",
   "execution_count": 65,
   "id": "5b45fd74",
   "metadata": {
    "ExecuteTime": {
     "end_time": "2022-01-12T00:59:22.697805Z",
     "start_time": "2022-01-12T00:59:22.682845Z"
    }
   },
   "outputs": [
    {
     "name": "stdout",
     "output_type": "stream",
     "text": [
      "0도 이상 비율 : 69.23\n"
     ]
    }
   ],
   "source": [
    "# 2. EDA : 6.여주지역 전체 최고기온 중 최고기온이 0 도 \n",
    "#           이상이차지하는비율을 구하시요. (예를들어 출력결과:0도이상 15% )\n",
    "wdf1_y = wdf1.loc['여주'][['최고']]\n",
    "result = len(wdf1_y[wdf1_y.values >= 0]) / len(wdf1_y) * 100\n",
    "print(f'0도 이상 비율 : {result:.2f}')"
   ]
  },
  {
   "cell_type": "code",
   "execution_count": 66,
   "id": "24c43446",
   "metadata": {
    "ExecuteTime": {
     "end_time": "2022-01-12T00:59:22.713762Z",
     "start_time": "2022-01-12T00:59:22.698802Z"
    }
   },
   "outputs": [
    {
     "data": {
      "text/html": [
       "<div>\n",
       "<style scoped>\n",
       "    .dataframe tbody tr th:only-of-type {\n",
       "        vertical-align: middle;\n",
       "    }\n",
       "\n",
       "    .dataframe tbody tr th {\n",
       "        vertical-align: top;\n",
       "    }\n",
       "\n",
       "    .dataframe thead th {\n",
       "        text-align: right;\n",
       "    }\n",
       "</style>\n",
       "<table border=\"1\" class=\"dataframe\">\n",
       "  <thead>\n",
       "    <tr style=\"text-align: right;\">\n",
       "      <th></th>\n",
       "      <th></th>\n",
       "      <th>날씨</th>\n",
       "      <th>최저</th>\n",
       "      <th>최고</th>\n",
       "      <th>일교차</th>\n",
       "    </tr>\n",
       "    <tr>\n",
       "      <th>도시</th>\n",
       "      <th>날짜</th>\n",
       "      <th></th>\n",
       "      <th></th>\n",
       "      <th></th>\n",
       "      <th></th>\n",
       "    </tr>\n",
       "  </thead>\n",
       "  <tbody>\n",
       "    <tr>\n",
       "      <th rowspan=\"5\" valign=\"top\">서울</th>\n",
       "      <th>2022-01-15 00:00:00</th>\n",
       "      <td>구름많음</td>\n",
       "      <td>-5</td>\n",
       "      <td>4</td>\n",
       "      <td>9</td>\n",
       "    </tr>\n",
       "    <tr>\n",
       "      <th>2022-01-15 12:00:00</th>\n",
       "      <td>흐림</td>\n",
       "      <td>-5</td>\n",
       "      <td>4</td>\n",
       "      <td>9</td>\n",
       "    </tr>\n",
       "    <tr>\n",
       "      <th>2022-01-16 00:00:00</th>\n",
       "      <td>구름많고 비/눈</td>\n",
       "      <td>-2</td>\n",
       "      <td>1</td>\n",
       "      <td>3</td>\n",
       "    </tr>\n",
       "    <tr>\n",
       "      <th>2022-01-16 12:00:00</th>\n",
       "      <td>맑음</td>\n",
       "      <td>-2</td>\n",
       "      <td>1</td>\n",
       "      <td>3</td>\n",
       "    </tr>\n",
       "    <tr>\n",
       "      <th>2022-01-17 00:00:00</th>\n",
       "      <td>맑음</td>\n",
       "      <td>-9</td>\n",
       "      <td>-1</td>\n",
       "      <td>8</td>\n",
       "    </tr>\n",
       "    <tr>\n",
       "      <th>...</th>\n",
       "      <th>...</th>\n",
       "      <td>...</td>\n",
       "      <td>...</td>\n",
       "      <td>...</td>\n",
       "      <td>...</td>\n",
       "    </tr>\n",
       "    <tr>\n",
       "      <th rowspan=\"5\" valign=\"top\">여주</th>\n",
       "      <th>2022-01-19 00:00:00</th>\n",
       "      <td>맑음</td>\n",
       "      <td>-7</td>\n",
       "      <td>1</td>\n",
       "      <td>8</td>\n",
       "    </tr>\n",
       "    <tr>\n",
       "      <th>2022-01-19 12:00:00</th>\n",
       "      <td>맑음</td>\n",
       "      <td>-7</td>\n",
       "      <td>1</td>\n",
       "      <td>8</td>\n",
       "    </tr>\n",
       "    <tr>\n",
       "      <th>2022-01-20 00:00:00</th>\n",
       "      <td>맑음</td>\n",
       "      <td>-11</td>\n",
       "      <td>0</td>\n",
       "      <td>11</td>\n",
       "    </tr>\n",
       "    <tr>\n",
       "      <th>2022-01-21 00:00:00</th>\n",
       "      <td>맑음</td>\n",
       "      <td>-9</td>\n",
       "      <td>1</td>\n",
       "      <td>10</td>\n",
       "    </tr>\n",
       "    <tr>\n",
       "      <th>2022-01-22 00:00:00</th>\n",
       "      <td>구름많음</td>\n",
       "      <td>-8</td>\n",
       "      <td>1</td>\n",
       "      <td>9</td>\n",
       "    </tr>\n",
       "  </tbody>\n",
       "</table>\n",
       "<p>455 rows × 4 columns</p>\n",
       "</div>"
      ],
      "text/plain": [
       "                              날씨  최저  최고  일교차\n",
       "도시 날짜                                        \n",
       "서울 2022-01-15 00:00:00      구름많음  -5   4    9\n",
       "   2022-01-15 12:00:00        흐림  -5   4    9\n",
       "   2022-01-16 00:00:00  구름많고 비/눈  -2   1    3\n",
       "   2022-01-16 12:00:00        맑음  -2   1    3\n",
       "   2022-01-17 00:00:00        맑음  -9  -1    8\n",
       "...                          ...  ..  ..  ...\n",
       "여주 2022-01-19 00:00:00        맑음  -7   1    8\n",
       "   2022-01-19 12:00:00        맑음  -7   1    8\n",
       "   2022-01-20 00:00:00        맑음 -11   0   11\n",
       "   2022-01-21 00:00:00        맑음  -9   1   10\n",
       "   2022-01-22 00:00:00      구름많음  -8   1    9\n",
       "\n",
       "[455 rows x 4 columns]"
      ]
     },
     "execution_count": 66,
     "metadata": {},
     "output_type": "execute_result"
    }
   ],
   "source": [
    "# 2. EDA : 7. 일교차 컬럼을 추가하고,\n",
    "# 최고기온과 최저기온의 차이가 가장높은 도시,날짜,최저,최고,일교차를 구하시요\n",
    "wdf1['일교차'] =  wdf1['최고']-wdf1['최저']\n",
    "wdf1"
   ]
  },
  {
   "cell_type": "code",
   "execution_count": 67,
   "id": "060c5c94",
   "metadata": {
    "ExecuteTime": {
     "end_time": "2022-01-12T00:59:22.729720Z",
     "start_time": "2022-01-12T00:59:22.714760Z"
    }
   },
   "outputs": [
    {
     "data": {
      "text/html": [
       "<div>\n",
       "<style scoped>\n",
       "    .dataframe tbody tr th:only-of-type {\n",
       "        vertical-align: middle;\n",
       "    }\n",
       "\n",
       "    .dataframe tbody tr th {\n",
       "        vertical-align: top;\n",
       "    }\n",
       "\n",
       "    .dataframe thead th {\n",
       "        text-align: right;\n",
       "    }\n",
       "</style>\n",
       "<table border=\"1\" class=\"dataframe\">\n",
       "  <thead>\n",
       "    <tr style=\"text-align: right;\">\n",
       "      <th></th>\n",
       "      <th></th>\n",
       "      <th>날씨</th>\n",
       "      <th>최저</th>\n",
       "      <th>최고</th>\n",
       "      <th>일교차</th>\n",
       "    </tr>\n",
       "    <tr>\n",
       "      <th>도시</th>\n",
       "      <th>날짜</th>\n",
       "      <th></th>\n",
       "      <th></th>\n",
       "      <th></th>\n",
       "      <th></th>\n",
       "    </tr>\n",
       "  </thead>\n",
       "  <tbody>\n",
       "    <tr>\n",
       "      <th rowspan=\"2\" valign=\"top\">포천</th>\n",
       "      <th>2022-01-18 00:00:00</th>\n",
       "      <td>맑음</td>\n",
       "      <td>-13</td>\n",
       "      <td>1</td>\n",
       "      <td>14</td>\n",
       "    </tr>\n",
       "    <tr>\n",
       "      <th>2022-01-18 12:00:00</th>\n",
       "      <td>맑음</td>\n",
       "      <td>-13</td>\n",
       "      <td>1</td>\n",
       "      <td>14</td>\n",
       "    </tr>\n",
       "    <tr>\n",
       "      <th rowspan=\"4\" valign=\"top\">가평</th>\n",
       "      <th>2022-01-18 00:00:00</th>\n",
       "      <td>맑음</td>\n",
       "      <td>-14</td>\n",
       "      <td>0</td>\n",
       "      <td>14</td>\n",
       "    </tr>\n",
       "    <tr>\n",
       "      <th>2022-01-18 12:00:00</th>\n",
       "      <td>맑음</td>\n",
       "      <td>-14</td>\n",
       "      <td>0</td>\n",
       "      <td>14</td>\n",
       "    </tr>\n",
       "    <tr>\n",
       "      <th>2022-01-20 00:00:00</th>\n",
       "      <td>맑음</td>\n",
       "      <td>-13</td>\n",
       "      <td>1</td>\n",
       "      <td>14</td>\n",
       "    </tr>\n",
       "    <tr>\n",
       "      <th>2022-01-22 00:00:00</th>\n",
       "      <td>구름많음</td>\n",
       "      <td>-12</td>\n",
       "      <td>2</td>\n",
       "      <td>14</td>\n",
       "    </tr>\n",
       "  </tbody>\n",
       "</table>\n",
       "</div>"
      ],
      "text/plain": [
       "                          날씨  최저  최고  일교차\n",
       "도시 날짜                                    \n",
       "포천 2022-01-18 00:00:00    맑음 -13   1   14\n",
       "   2022-01-18 12:00:00    맑음 -13   1   14\n",
       "가평 2022-01-18 00:00:00    맑음 -14   0   14\n",
       "   2022-01-18 12:00:00    맑음 -14   0   14\n",
       "   2022-01-20 00:00:00    맑음 -13   1   14\n",
       "   2022-01-22 00:00:00  구름많음 -12   2   14"
      ]
     },
     "execution_count": 67,
     "metadata": {},
     "output_type": "execute_result"
    }
   ],
   "source": [
    "wdf1[wdf1['일교차'] == wdf1['일교차'].max()] # nlargest 쓰자 제발.."
   ]
  },
  {
   "cell_type": "code",
   "execution_count": 68,
   "id": "0daa7eee",
   "metadata": {
    "ExecuteTime": {
     "end_time": "2022-01-12T00:59:22.745677Z",
     "start_time": "2022-01-12T00:59:22.730718Z"
    }
   },
   "outputs": [
    {
     "data": {
      "text/html": [
       "<div>\n",
       "<style scoped>\n",
       "    .dataframe tbody tr th:only-of-type {\n",
       "        vertical-align: middle;\n",
       "    }\n",
       "\n",
       "    .dataframe tbody tr th {\n",
       "        vertical-align: top;\n",
       "    }\n",
       "\n",
       "    .dataframe thead th {\n",
       "        text-align: right;\n",
       "    }\n",
       "</style>\n",
       "<table border=\"1\" class=\"dataframe\">\n",
       "  <thead>\n",
       "    <tr style=\"text-align: right;\">\n",
       "      <th></th>\n",
       "      <th></th>\n",
       "      <th>날씨</th>\n",
       "      <th>최저</th>\n",
       "      <th>최고</th>\n",
       "      <th>일교차</th>\n",
       "    </tr>\n",
       "    <tr>\n",
       "      <th>도시</th>\n",
       "      <th>날짜</th>\n",
       "      <th></th>\n",
       "      <th></th>\n",
       "      <th></th>\n",
       "      <th></th>\n",
       "    </tr>\n",
       "  </thead>\n",
       "  <tbody>\n",
       "    <tr>\n",
       "      <th rowspan=\"2\" valign=\"top\">포천</th>\n",
       "      <th>2022-01-18 00:00:00</th>\n",
       "      <td>맑음</td>\n",
       "      <td>-13</td>\n",
       "      <td>1</td>\n",
       "      <td>14</td>\n",
       "    </tr>\n",
       "    <tr>\n",
       "      <th>2022-01-18 12:00:00</th>\n",
       "      <td>맑음</td>\n",
       "      <td>-13</td>\n",
       "      <td>1</td>\n",
       "      <td>14</td>\n",
       "    </tr>\n",
       "    <tr>\n",
       "      <th rowspan=\"4\" valign=\"top\">가평</th>\n",
       "      <th>2022-01-18 00:00:00</th>\n",
       "      <td>맑음</td>\n",
       "      <td>-14</td>\n",
       "      <td>0</td>\n",
       "      <td>14</td>\n",
       "    </tr>\n",
       "    <tr>\n",
       "      <th>2022-01-18 12:00:00</th>\n",
       "      <td>맑음</td>\n",
       "      <td>-14</td>\n",
       "      <td>0</td>\n",
       "      <td>14</td>\n",
       "    </tr>\n",
       "    <tr>\n",
       "      <th>2022-01-20 00:00:00</th>\n",
       "      <td>맑음</td>\n",
       "      <td>-13</td>\n",
       "      <td>1</td>\n",
       "      <td>14</td>\n",
       "    </tr>\n",
       "    <tr>\n",
       "      <th>2022-01-22 00:00:00</th>\n",
       "      <td>구름많음</td>\n",
       "      <td>-12</td>\n",
       "      <td>2</td>\n",
       "      <td>14</td>\n",
       "    </tr>\n",
       "  </tbody>\n",
       "</table>\n",
       "</div>"
      ],
      "text/plain": [
       "                          날씨  최저  최고  일교차\n",
       "도시 날짜                                    \n",
       "포천 2022-01-18 00:00:00    맑음 -13   1   14\n",
       "   2022-01-18 12:00:00    맑음 -13   1   14\n",
       "가평 2022-01-18 00:00:00    맑음 -14   0   14\n",
       "   2022-01-18 12:00:00    맑음 -14   0   14\n",
       "   2022-01-20 00:00:00    맑음 -13   1   14\n",
       "   2022-01-22 00:00:00  구름많음 -12   2   14"
      ]
     },
     "execution_count": 68,
     "metadata": {},
     "output_type": "execute_result"
    }
   ],
   "source": [
    "wdf1.nlargest(1, '일교차', keep='all')"
   ]
  },
  {
   "cell_type": "code",
   "execution_count": 69,
   "id": "516b7385",
   "metadata": {
    "ExecuteTime": {
     "end_time": "2022-01-12T00:59:22.761634Z",
     "start_time": "2022-01-12T00:59:22.746675Z"
    }
   },
   "outputs": [
    {
     "data": {
      "text/html": [
       "<div>\n",
       "<style scoped>\n",
       "    .dataframe tbody tr th:only-of-type {\n",
       "        vertical-align: middle;\n",
       "    }\n",
       "\n",
       "    .dataframe tbody tr th {\n",
       "        vertical-align: top;\n",
       "    }\n",
       "\n",
       "    .dataframe thead th {\n",
       "        text-align: right;\n",
       "    }\n",
       "</style>\n",
       "<table border=\"1\" class=\"dataframe\">\n",
       "  <thead>\n",
       "    <tr style=\"text-align: right;\">\n",
       "      <th></th>\n",
       "      <th></th>\n",
       "      <th>최고</th>\n",
       "    </tr>\n",
       "    <tr>\n",
       "      <th>도시</th>\n",
       "      <th>날짜</th>\n",
       "      <th></th>\n",
       "    </tr>\n",
       "  </thead>\n",
       "  <tbody>\n",
       "    <tr>\n",
       "      <th rowspan=\"5\" valign=\"top\">서울</th>\n",
       "      <th>2022-01-15 00:00:00</th>\n",
       "      <td>4</td>\n",
       "    </tr>\n",
       "    <tr>\n",
       "      <th>2022-01-15 12:00:00</th>\n",
       "      <td>4</td>\n",
       "    </tr>\n",
       "    <tr>\n",
       "      <th>2022-01-16 00:00:00</th>\n",
       "      <td>1</td>\n",
       "    </tr>\n",
       "    <tr>\n",
       "      <th>2022-01-16 12:00:00</th>\n",
       "      <td>1</td>\n",
       "    </tr>\n",
       "    <tr>\n",
       "      <th>2022-01-17 00:00:00</th>\n",
       "      <td>-1</td>\n",
       "    </tr>\n",
       "    <tr>\n",
       "      <th>...</th>\n",
       "      <th>...</th>\n",
       "      <td>...</td>\n",
       "    </tr>\n",
       "    <tr>\n",
       "      <th rowspan=\"5\" valign=\"top\">여주</th>\n",
       "      <th>2022-01-19 00:00:00</th>\n",
       "      <td>1</td>\n",
       "    </tr>\n",
       "    <tr>\n",
       "      <th>2022-01-19 12:00:00</th>\n",
       "      <td>1</td>\n",
       "    </tr>\n",
       "    <tr>\n",
       "      <th>2022-01-20 00:00:00</th>\n",
       "      <td>0</td>\n",
       "    </tr>\n",
       "    <tr>\n",
       "      <th>2022-01-21 00:00:00</th>\n",
       "      <td>1</td>\n",
       "    </tr>\n",
       "    <tr>\n",
       "      <th>2022-01-22 00:00:00</th>\n",
       "      <td>1</td>\n",
       "    </tr>\n",
       "  </tbody>\n",
       "</table>\n",
       "<p>455 rows × 1 columns</p>\n",
       "</div>"
      ],
      "text/plain": [
       "                        최고\n",
       "도시 날짜                     \n",
       "서울 2022-01-15 00:00:00   4\n",
       "   2022-01-15 12:00:00   4\n",
       "   2022-01-16 00:00:00   1\n",
       "   2022-01-16 12:00:00   1\n",
       "   2022-01-17 00:00:00  -1\n",
       "...                     ..\n",
       "여주 2022-01-19 00:00:00   1\n",
       "   2022-01-19 12:00:00   1\n",
       "   2022-01-20 00:00:00   0\n",
       "   2022-01-21 00:00:00   1\n",
       "   2022-01-22 00:00:00   1\n",
       "\n",
       "[455 rows x 1 columns]"
      ]
     },
     "execution_count": 69,
     "metadata": {},
     "output_type": "execute_result"
    }
   ],
   "source": [
    "# 서울지역 예측 다음 주간 최고기온날씨 예측\n",
    "data = wdf1[['최고']]\n",
    "data"
   ]
  },
  {
   "cell_type": "code",
   "execution_count": 70,
   "id": "0dbc433d",
   "metadata": {
    "ExecuteTime": {
     "end_time": "2022-01-12T00:59:22.777591Z",
     "start_time": "2022-01-12T00:59:22.762632Z"
    }
   },
   "outputs": [
    {
     "name": "stdout",
     "output_type": "stream",
     "text": [
      "최고    0.581498\n",
      "dtype: float64\n",
      "최고    3.14709\n",
      "dtype: float64\n",
      "==================================================\n",
      "최고    0.447368\n",
      "dtype: float64\n",
      "최고    3.03246\n",
      "dtype: float64\n"
     ]
    }
   ],
   "source": [
    "# 평균과 분산차이가 크다, none-stationary로 추정됨\n",
    "dataN = data.shape[0]//2\n",
    "print(data.iloc[:dataN].mean())\n",
    "print(data.iloc[:dataN].var())\n",
    "print('='*50)\n",
    "print(data.iloc[dataN:].mean())\n",
    "print(data.iloc[dataN:].var())"
   ]
  },
  {
   "cell_type": "code",
   "execution_count": 71,
   "id": "973c9bf1",
   "metadata": {
    "ExecuteTime": {
     "end_time": "2022-01-12T00:59:22.887546Z",
     "start_time": "2022-01-12T00:59:22.778589Z"
    },
    "scrolled": true
   },
   "outputs": [
    {
     "data": {
      "image/png": "[encoded data removed]",
      "text/plain": [
       "<Figure size 432x288 with 1 Axes>"
      ]
     },
     "metadata": {},
     "output_type": "display_data"
    }
   ],
   "source": [
    "data.plot()\n",
    "plt.show()"
   ]
  },
  {
   "cell_type": "code",
   "execution_count": 72,
   "id": "25a8dab6",
   "metadata": {
    "ExecuteTime": {
     "end_time": "2022-01-12T00:59:22.903503Z",
     "start_time": "2022-01-12T00:59:22.888584Z"
    }
   },
   "outputs": [
    {
     "data": {
      "text/plain": [
       "array([ 1.        ,  0.63779084,  0.26987414, -0.01746446, -0.29159421,\n",
       "       -0.25111675, -0.21922098, -0.22477068, -0.26599244, -0.32827091,\n",
       "       -0.08232238,  0.17575465,  0.48238645,  0.78045695,  0.4770965 ,\n",
       "        0.16303443, -0.10326785, -0.3638626 , -0.31912488, -0.28294846,\n",
       "       -0.27494278, -0.29298789, -0.33743033, -0.09576245,  0.1608877 ,\n",
       "        0.4675195 ,  0.7534615 ,  0.4619034 ,  0.15250927, -0.10735165,\n",
       "       -0.35793783, -0.30924562, -0.27162193, -0.25717489, -0.27805338,\n",
       "       -0.32604264, -0.09648288,  0.15696697,  0.44506968,  0.71819013,\n",
       "        0.44088047])"
      ]
     },
     "execution_count": 72,
     "metadata": {},
     "output_type": "execute_result"
    }
   ],
   "source": [
    "# ACF 확인\n",
    "from statsmodels.graphics.tsaplots import plot_acf, acf\n",
    "result = acf(data)\n",
    "result"
   ]
  },
  {
   "cell_type": "code",
   "execution_count": 73,
   "id": "3884238e",
   "metadata": {
    "ExecuteTime": {
     "end_time": "2022-01-12T00:59:23.013647Z",
     "start_time": "2022-01-12T00:59:22.904939Z"
    }
   },
   "outputs": [
    {
     "data": {
      "text/plain": [
       "<function matplotlib.pyplot.show(close=None, block=None)>"
      ]
     },
     "execution_count": 73,
     "metadata": {},
     "output_type": "execute_result"
    },
    {
     "data": {
      "image/png": "[encoded data removed]",
      "text/plain": [
       "<Figure size 432x288 with 1 Axes>"
      ]
     },
     "metadata": {},
     "output_type": "display_data"
    }
   ],
   "source": [
    "plt.scatter(range(0, len(result)), result)\n",
    "plt.show"
   ]
  },
  {
   "cell_type": "code",
   "execution_count": 74,
   "id": "17c8ca58",
   "metadata": {
    "ExecuteTime": {
     "end_time": "2022-01-12T00:59:23.172207Z",
     "start_time": "2022-01-12T00:59:23.014645Z"
    }
   },
   "outputs": [
    {
     "data": {
      "image/png": "[encoded data removed]",
      "text/plain": [
       "<Figure size 432x288 with 1 Axes>"
      ]
     },
     "metadata": {},
     "output_type": "display_data"
    }
   ],
   "source": [
    "plot_acf(data)\n",
    "plt.show()"
   ]
  },
  {
   "cell_type": "code",
   "execution_count": 75,
   "id": "99f61646",
   "metadata": {
    "ExecuteTime": {
     "end_time": "2022-01-12T00:59:23.204131Z",
     "start_time": "2022-01-12T00:59:23.173200Z"
    },
    "scrolled": true
   },
   "outputs": [
    {
     "name": "stdout",
     "output_type": "stream",
     "text": [
      "-5.078402614615371\n",
      "1.5490723196668304e-05\n"
     ]
    }
   ],
   "source": [
    "# adfuller 로 검증해보자 , 0.05보다 작아서 귀무가설 기각, none stationary맞는듯\n",
    "from statsmodels.tsa.stattools import adfuller\n",
    "result = adfuller(data)\n",
    "print(result[0]) # adf 작을 수록 귀무가설을 기각시킬 확률이 높다.\n",
    "print(result[1]) # p-vlaue"
   ]
  },
  {
   "cell_type": "code",
   "execution_count": 76,
   "id": "f6dd259a",
   "metadata": {
    "ExecuteTime": {
     "end_time": "2022-01-12T00:59:23.220033Z",
     "start_time": "2022-01-12T00:59:23.206070Z"
    }
   },
   "outputs": [],
   "source": [
    "# aic값을 찾아보자\n",
    "def arima_aic_check(data, order,sort = 'AIC'):\n",
    "    order_list = []\n",
    "    aic_list = []\n",
    "    bic_lsit = []\n",
    "    for p in range(order[0]):\n",
    "        for d in range(order[1]):\n",
    "            for q in range(order[2]):\n",
    "                model = ARIMA(data, order=(p,d,q))\n",
    "                try:\n",
    "                    model_fit = model.fit()\n",
    "                    c_order = f'p:{p} d:{d} q:{q}'\n",
    "                    aic = model_fit.aic\n",
    "                    bic = model_fit.bic\n",
    "                    order_list.append(c_order)\n",
    "                    aic_list.append(aic)\n",
    "                    bic_list.append(bic)\n",
    "                except:\n",
    "                    pass\n",
    "    result_df = pd.DataFrame(list(zip(order_list, aic_list)),columns=['order','AIC'])\n",
    "    result_df.sort_values(sort, inplace=True)\n",
    "    return result_df"
   ]
  },
  {
   "cell_type": "code",
   "execution_count": 77,
   "id": "ea4d195f",
   "metadata": {
    "ExecuteTime": {
     "end_time": "2022-01-12T00:59:26.369625Z",
     "start_time": "2022-01-12T00:59:23.221030Z"
    }
   },
   "outputs": [
    {
     "data": {
      "text/html": [
       "<div>\n",
       "<style scoped>\n",
       "    .dataframe tbody tr th:only-of-type {\n",
       "        vertical-align: middle;\n",
       "    }\n",
       "\n",
       "    .dataframe tbody tr th {\n",
       "        vertical-align: top;\n",
       "    }\n",
       "\n",
       "    .dataframe thead th {\n",
       "        text-align: right;\n",
       "    }\n",
       "</style>\n",
       "<table border=\"1\" class=\"dataframe\">\n",
       "  <thead>\n",
       "    <tr style=\"text-align: right;\">\n",
       "      <th></th>\n",
       "      <th>order</th>\n",
       "      <th>AIC</th>\n",
       "    </tr>\n",
       "  </thead>\n",
       "  <tbody>\n",
       "    <tr>\n",
       "      <th>19</th>\n",
       "      <td>p:2 d:0 q:2</td>\n",
       "      <td>1517.266345</td>\n",
       "    </tr>\n",
       "    <tr>\n",
       "      <th>18</th>\n",
       "      <td>p:2 d:0 q:1</td>\n",
       "      <td>1520.767209</td>\n",
       "    </tr>\n",
       "    <tr>\n",
       "      <th>22</th>\n",
       "      <td>p:2 d:1 q:2</td>\n",
       "      <td>1531.050171</td>\n",
       "    </tr>\n",
       "    <tr>\n",
       "      <th>17</th>\n",
       "      <td>p:2 d:0 q:0</td>\n",
       "      <td>1546.694293</td>\n",
       "    </tr>\n",
       "    <tr>\n",
       "      <th>21</th>\n",
       "      <td>p:2 d:1 q:1</td>\n",
       "      <td>1550.779314</td>\n",
       "    </tr>\n",
       "    <tr>\n",
       "      <th>10</th>\n",
       "      <td>p:1 d:0 q:1</td>\n",
       "      <td>1551.297299</td>\n",
       "    </tr>\n",
       "    <tr>\n",
       "      <th>11</th>\n",
       "      <td>p:1 d:0 q:2</td>\n",
       "      <td>1552.300939</td>\n",
       "    </tr>\n",
       "    <tr>\n",
       "      <th>14</th>\n",
       "      <td>p:1 d:1 q:2</td>\n",
       "      <td>1555.242692</td>\n",
       "    </tr>\n",
       "    <tr>\n",
       "      <th>2</th>\n",
       "      <td>p:0 d:0 q:2</td>\n",
       "      <td>1563.389843</td>\n",
       "    </tr>\n",
       "    <tr>\n",
       "      <th>1</th>\n",
       "      <td>p:0 d:0 q:1</td>\n",
       "      <td>1568.220021</td>\n",
       "    </tr>\n",
       "    <tr>\n",
       "      <th>9</th>\n",
       "      <td>p:1 d:0 q:0</td>\n",
       "      <td>1569.301275</td>\n",
       "    </tr>\n",
       "    <tr>\n",
       "      <th>5</th>\n",
       "      <td>p:0 d:1 q:2</td>\n",
       "      <td>1572.789132</td>\n",
       "    </tr>\n",
       "    <tr>\n",
       "      <th>13</th>\n",
       "      <td>p:1 d:1 q:1</td>\n",
       "      <td>1572.901636</td>\n",
       "    </tr>\n",
       "    <tr>\n",
       "      <th>20</th>\n",
       "      <td>p:2 d:1 q:0</td>\n",
       "      <td>1651.469665</td>\n",
       "    </tr>\n",
       "    <tr>\n",
       "      <th>3</th>\n",
       "      <td>p:0 d:1 q:0</td>\n",
       "      <td>1652.251945</td>\n",
       "    </tr>\n",
       "    <tr>\n",
       "      <th>4</th>\n",
       "      <td>p:0 d:1 q:1</td>\n",
       "      <td>1654.215973</td>\n",
       "    </tr>\n",
       "    <tr>\n",
       "      <th>12</th>\n",
       "      <td>p:1 d:1 q:0</td>\n",
       "      <td>1654.223267</td>\n",
       "    </tr>\n",
       "    <tr>\n",
       "      <th>24</th>\n",
       "      <td>p:2 d:2 q:1</td>\n",
       "      <td>1657.094422</td>\n",
       "    </tr>\n",
       "    <tr>\n",
       "      <th>7</th>\n",
       "      <td>p:0 d:2 q:1</td>\n",
       "      <td>1657.691146</td>\n",
       "    </tr>\n",
       "    <tr>\n",
       "      <th>8</th>\n",
       "      <td>p:0 d:2 q:2</td>\n",
       "      <td>1659.633985</td>\n",
       "    </tr>\n",
       "    <tr>\n",
       "      <th>16</th>\n",
       "      <td>p:1 d:2 q:1</td>\n",
       "      <td>1659.645462</td>\n",
       "    </tr>\n",
       "    <tr>\n",
       "      <th>23</th>\n",
       "      <td>p:2 d:2 q:0</td>\n",
       "      <td>1798.355610</td>\n",
       "    </tr>\n",
       "    <tr>\n",
       "      <th>0</th>\n",
       "      <td>p:0 d:0 q:0</td>\n",
       "      <td>1807.160512</td>\n",
       "    </tr>\n",
       "    <tr>\n",
       "      <th>15</th>\n",
       "      <td>p:1 d:2 q:0</td>\n",
       "      <td>1861.825042</td>\n",
       "    </tr>\n",
       "    <tr>\n",
       "      <th>6</th>\n",
       "      <td>p:0 d:2 q:0</td>\n",
       "      <td>1959.997311</td>\n",
       "    </tr>\n",
       "  </tbody>\n",
       "</table>\n",
       "</div>"
      ],
      "text/plain": [
       "          order          AIC\n",
       "19  p:2 d:0 q:2  1517.266345\n",
       "18  p:2 d:0 q:1  1520.767209\n",
       "22  p:2 d:1 q:2  1531.050171\n",
       "17  p:2 d:0 q:0  1546.694293\n",
       "21  p:2 d:1 q:1  1550.779314\n",
       "10  p:1 d:0 q:1  1551.297299\n",
       "11  p:1 d:0 q:2  1552.300939\n",
       "14  p:1 d:1 q:2  1555.242692\n",
       "2   p:0 d:0 q:2  1563.389843\n",
       "1   p:0 d:0 q:1  1568.220021\n",
       "9   p:1 d:0 q:0  1569.301275\n",
       "5   p:0 d:1 q:2  1572.789132\n",
       "13  p:1 d:1 q:1  1572.901636\n",
       "20  p:2 d:1 q:0  1651.469665\n",
       "3   p:0 d:1 q:0  1652.251945\n",
       "4   p:0 d:1 q:1  1654.215973\n",
       "12  p:1 d:1 q:0  1654.223267\n",
       "24  p:2 d:2 q:1  1657.094422\n",
       "7   p:0 d:2 q:1  1657.691146\n",
       "8   p:0 d:2 q:2  1659.633985\n",
       "16  p:1 d:2 q:1  1659.645462\n",
       "23  p:2 d:2 q:0  1798.355610\n",
       "0   p:0 d:0 q:0  1807.160512\n",
       "15  p:1 d:2 q:0  1861.825042\n",
       "6   p:0 d:2 q:0  1959.997311"
      ]
     },
     "execution_count": 77,
     "metadata": {},
     "output_type": "execute_result"
    }
   ],
   "source": [
    "# aic값이 가장 작은 모델을 선택,  19번 2,0,2이 가장 좋음\n",
    "arima_aic_check(data,[3,3,3])"
   ]
  },
  {
   "cell_type": "code",
   "execution_count": 78,
   "id": "4f26d50f",
   "metadata": {
    "ExecuteTime": {
     "end_time": "2022-01-12T00:59:26.624144Z",
     "start_time": "2022-01-12T00:59:26.370621Z"
    },
    "scrolled": false
   },
   "outputs": [
    {
     "data": {
      "text/html": [
       "<table class=\"simpletable\">\n",
       "<caption>ARMA Model Results</caption>\n",
       "<tr>\n",
       "  <th>Dep. Variable:</th>        <td>최고</td>        <th>  No. Observations:  </th>    <td>455</td>  \n",
       "</tr>\n",
       "<tr>\n",
       "  <th>Model:</th>            <td>ARMA(2, 2)</td>    <th>  Log Likelihood     </th> <td>-752.633</td>\n",
       "</tr>\n",
       "<tr>\n",
       "  <th>Method:</th>             <td>css-mle</td>     <th>  S.D. of innovations</th>   <td>1.263</td> \n",
       "</tr>\n",
       "<tr>\n",
       "  <th>Date:</th>          <td>Wed, 12 Jan 2022</td> <th>  AIC                </th> <td>1517.266</td>\n",
       "</tr>\n",
       "<tr>\n",
       "  <th>Time:</th>              <td>09:59:26</td>     <th>  BIC                </th> <td>1541.988</td>\n",
       "</tr>\n",
       "<tr>\n",
       "  <th>Sample:</th>                <td>0</td>        <th>  HQIC               </th> <td>1527.006</td>\n",
       "</tr>\n",
       "<tr>\n",
       "  <th></th>                       <td> </td>        <th>                     </th>     <td> </td>   \n",
       "</tr>\n",
       "</table>\n",
       "<table class=\"simpletable\">\n",
       "<tr>\n",
       "      <td></td>        <th>coef</th>     <th>std err</th>      <th>z</th>      <th>P>|z|</th>  <th>[0.025</th>    <th>0.975]</th>  \n",
       "</tr>\n",
       "<tr>\n",
       "  <th>const</th>    <td>    0.5169</td> <td>    0.105</td> <td>    4.938</td> <td> 0.000</td> <td>    0.312</td> <td>    0.722</td>\n",
       "</tr>\n",
       "<tr>\n",
       "  <th>ar.L1.최고</th> <td>    1.0783</td> <td>    0.045</td> <td>   23.774</td> <td> 0.000</td> <td>    0.989</td> <td>    1.167</td>\n",
       "</tr>\n",
       "<tr>\n",
       "  <th>ar.L2.최고</th> <td>   -0.7277</td> <td>    0.074</td> <td>   -9.779</td> <td> 0.000</td> <td>   -0.874</td> <td>   -0.582</td>\n",
       "</tr>\n",
       "<tr>\n",
       "  <th>ma.L1.최고</th> <td>   -0.5331</td> <td>    0.094</td> <td>   -5.701</td> <td> 0.000</td> <td>   -0.716</td> <td>   -0.350</td>\n",
       "</tr>\n",
       "<tr>\n",
       "  <th>ma.L2.최고</th> <td>    0.6813</td> <td>    0.115</td> <td>    5.916</td> <td> 0.000</td> <td>    0.456</td> <td>    0.907</td>\n",
       "</tr>\n",
       "</table>\n",
       "<table class=\"simpletable\">\n",
       "<caption>Roots</caption>\n",
       "<tr>\n",
       "    <td></td>   <th>            Real</th>  <th>         Imaginary</th> <th>         Modulus</th>  <th>        Frequency</th>\n",
       "</tr>\n",
       "<tr>\n",
       "  <th>AR.1</th> <td>           0.7409</td> <td>          -0.9084j</td> <td>           1.1723</td> <td>          -0.1411</td>\n",
       "</tr>\n",
       "<tr>\n",
       "  <th>AR.2</th> <td>           0.7409</td> <td>          +0.9084j</td> <td>           1.1723</td> <td>           0.1411</td>\n",
       "</tr>\n",
       "<tr>\n",
       "  <th>MA.1</th> <td>           0.3913</td> <td>          -1.1466j</td> <td>           1.2115</td> <td>          -0.1977</td>\n",
       "</tr>\n",
       "<tr>\n",
       "  <th>MA.2</th> <td>           0.3913</td> <td>          +1.1466j</td> <td>           1.2115</td> <td>           0.1977</td>\n",
       "</tr>\n",
       "</table>"
      ],
      "text/plain": [
       "<class 'statsmodels.iolib.summary.Summary'>\n",
       "\"\"\"\n",
       "                              ARMA Model Results                              \n",
       "==============================================================================\n",
       "Dep. Variable:                     최고   No. Observations:                  455\n",
       "Model:                     ARMA(2, 2)   Log Likelihood                -752.633\n",
       "Method:                       css-mle   S.D. of innovations              1.263\n",
       "Date:                Wed, 12 Jan 2022   AIC                           1517.266\n",
       "Time:                        09:59:26   BIC                           1541.988\n",
       "Sample:                             0   HQIC                          1527.006\n",
       "                                                                              \n",
       "==============================================================================\n",
       "                 coef    std err          z      P>|z|      [0.025      0.975]\n",
       "------------------------------------------------------------------------------\n",
       "const          0.5169      0.105      4.938      0.000       0.312       0.722\n",
       "ar.L1.최고       1.0783      0.045     23.774      0.000       0.989       1.167\n",
       "ar.L2.최고      -0.7277      0.074     -9.779      0.000      -0.874      -0.582\n",
       "ma.L1.최고      -0.5331      0.094     -5.701      0.000      -0.716      -0.350\n",
       "ma.L2.최고       0.6813      0.115      5.916      0.000       0.456       0.907\n",
       "                                    Roots                                    \n",
       "=============================================================================\n",
       "                  Real          Imaginary           Modulus         Frequency\n",
       "-----------------------------------------------------------------------------\n",
       "AR.1            0.7409           -0.9084j            1.1723           -0.1411\n",
       "AR.2            0.7409           +0.9084j            1.1723            0.1411\n",
       "MA.1            0.3913           -1.1466j            1.2115           -0.1977\n",
       "MA.2            0.3913           +1.1466j            1.2115            0.1977\n",
       "-----------------------------------------------------------------------------\n",
       "\"\"\""
      ]
     },
     "execution_count": 78,
     "metadata": {},
     "output_type": "execute_result"
    }
   ],
   "source": [
    "order = (2, 0, 2)\n",
    "model = ARIMA(data, order)\n",
    "rfit = model.fit()\n",
    "rfit.summary()"
   ]
  },
  {
   "cell_type": "code",
   "execution_count": 79,
   "id": "0075318a",
   "metadata": {
    "ExecuteTime": {
     "end_time": "2022-01-12T00:59:26.640065Z",
     "start_time": "2022-01-12T00:59:26.625101Z"
    }
   },
   "outputs": [
    {
     "data": {
      "text/plain": [
       "도시  날짜                 \n",
       "서울  2022-01-19 00:00:00    0.780276\n",
       "    2022-01-19 12:00:00   -0.308447\n",
       "    2022-01-20 00:00:00   -0.846509\n",
       "dtype: float64"
      ]
     },
     "execution_count": 79,
     "metadata": {},
     "output_type": "execute_result"
    }
   ],
   "source": [
    "# 미래날짜를 예측하면 key error 발생\\\n",
    "# https://stackoverflow.com/questions/62982119/time-series-python-key-error-start-argument-could-not-be-matched\n",
    "rfit.predict( ('서울','2022-01-19 00:00:00'), ('서울','2022-01-20 00:00:00'), typ='levels')"
   ]
  },
  {
   "cell_type": "code",
   "execution_count": null,
   "id": "92ddb940",
   "metadata": {},
   "outputs": [],
   "source": [
    "# ARIMA에 멀티인덱스를 넣어서 훈련시키면 안됨, 예측이 달라짐."
   ]
  },
  {
   "cell_type": "code",
   "execution_count": 80,
   "id": "bef3c625",
   "metadata": {
    "ExecuteTime": {
     "end_time": "2022-01-12T00:59:26.656019Z",
     "start_time": "2022-01-12T00:59:26.641058Z"
    }
   },
   "outputs": [
    {
     "data": {
      "text/plain": [
       "DatetimeIndex(['2022-01-15 00:00:00', '2022-01-15 12:00:00',\n",
       "               '2022-01-16 00:00:00', '2022-01-16 12:00:00',\n",
       "               '2022-01-17 00:00:00', '2022-01-17 12:00:00',\n",
       "               '2022-01-18 00:00:00', '2022-01-18 12:00:00',\n",
       "               '2022-01-19 00:00:00', '2022-01-19 12:00:00',\n",
       "               '2022-01-20 00:00:00', '2022-01-21 00:00:00',\n",
       "               '2022-01-22 00:00:00'],\n",
       "              dtype='datetime64[ns]', name='날짜', freq=None)"
      ]
     },
     "execution_count": 80,
     "metadata": {},
     "output_type": "execute_result"
    }
   ],
   "source": [
    "#  보다시피 12시 시간 데이터가 없음, 결측치 처리 필요\n",
    "wdf1.loc['서울'].index\n",
    "#seoul = wdf1.loc['서울']\n",
    "# seoul.index = pd.to_datetime(seoul.index)\n",
    "# seoul.index"
   ]
  }
 ],
 "metadata": {
  "kernelspec": {
   "display_name": "Python 3 (ipykernel)",
   "language": "python",
   "name": "python3"
  },
  "language_info": {
   "codemirror_mode": {
    "name": "ipython",
    "version": 3
   },
   "file_extension": ".py",
   "mimetype": "text/x-python",
   "name": "python",
   "nbconvert_exporter": "python",
   "pygments_lexer": "ipython3",
   "version": "3.11.5"
  },
  "toc": {
   "base_numbering": 1,
   "nav_menu": {},
   "number_sections": true,
   "sideBar": true,
   "skip_h1_title": false,
   "title_cell": "Table of Contents",
   "title_sidebar": "Contents",
   "toc_cell": false,
   "toc_position": {
    "height": "calc(100% - 180px)",
    "left": "10px",
    "top": "150px",
    "width": "307.2px"
   },
   "toc_section_display": true,
   "toc_window_display": false
  },
  "varInspector": {
   "cols": {
    "lenName": 16,
    "lenType": 16,
    "lenVar": 40
   },
   "kernels_config": {
    "python": {
     "delete_cmd_postfix": "",
     "delete_cmd_prefix": "del ",
     "library": "var_list.py",
     "varRefreshCmd": "print(var_dic_list())"
    },
    "r": {
     "delete_cmd_postfix": ") ",
     "delete_cmd_prefix": "rm(",
     "library": "var_list.r",
     "varRefreshCmd": "cat(var_dic_list()) "
    }
   },
   "types_to_exclude": [
    "module",
    "function",
    "builtin_function_or_method",
    "instance",
    "_Feature"
   ],
   "window_display": false
  }
 },
 "nbformat": 4,
 "nbformat_minor": 5
}
