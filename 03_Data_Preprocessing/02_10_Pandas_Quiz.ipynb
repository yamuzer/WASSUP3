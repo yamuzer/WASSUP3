{
 "cells": [
  {
   "cell_type": "code",
   "execution_count": 1,
   "metadata": {
    "ExecuteTime": {
     "end_time": "2021-11-26T05:14:40.965411Z",
     "start_time": "2021-11-26T05:14:40.613297Z"
    }
   },
   "outputs": [],
   "source": [
    "import pandas as pd\n",
    "import numpy as np\n",
    "import os"
   ]
  },
  {
   "cell_type": "code",
   "execution_count": 2,
   "metadata": {
    "ExecuteTime": {
     "end_time": "2021-11-26T05:14:46.006651Z",
     "start_time": "2021-11-26T05:14:45.961874Z"
    },
    "scrolled": true
   },
   "outputs": [
    {
     "name": "stdout",
     "output_type": "stream",
     "text": [
      " C 드라이브의 볼륨에는 이름이 없습니다.\n",
      " 볼륨 일련 번호: E070-A7AC\n",
      "\n",
      " C:\\Users\\TFG5076XG\\Documents\\python\\pandas 디렉터리\n",
      "\n",
      "2021-11-26  오후 02:14    <DIR>          .\n",
      "2021-11-26  오후 02:14    <DIR>          ..\n",
      "2021-11-26  오후 02:14    <DIR>          .ipynb_checkpoints\n",
      "2021-11-26  오후 01:53    <DIR>          output\n",
      "2021-11-26  오후 01:58           437,385 pandas.ipynb\n",
      "2021-11-26  오후 02:11            39,129 Pandas_퀴즈1.ipynb\n",
      "2021-11-26  오후 02:14            66,960 Pandas_퀴즈2.ipynb\n",
      "2021-11-24  오후 04:21         3,452,101 판다스.pdf\n",
      "               4개 파일           3,995,575 바이트\n",
      "               4개 디렉터리  440,367,603,712 바이트 남음\n"
     ]
    }
   ],
   "source": [
    "ls"
   ]
  },
  {
   "cell_type": "markdown",
   "metadata": {},
   "source": [
    "# Q1-1\n",
    "\n",
    "```\n",
    "아래의 파일을 이용하여 df_covid 데이타프레임을 생성하여라.\n",
    "   \n",
    "seoul-covid19_6_30_.csv    \n",
    "\n",
    "```"
   ]
  },
  {
   "cell_type": "markdown",
   "metadata": {},
   "source": [
    "# Q1-2\n",
    "```\n",
    "'연번' 컬럼은 삭제하고  '환자' 컬럼 값 기준으로 정렬한 후 '환자' 컬럼을 인덱스로 설정하여라. \n",
    "```"
   ]
  },
  {
   "cell_type": "markdown",
   "metadata": {},
   "source": [
    "# Q1-3\n",
    "어느 지역에서 제일 많은 확진자가 발생했는지 1~5위 까지 출력하여라 (거주지 기준)"
   ]
  },
  {
   "cell_type": "markdown",
   "metadata": {},
   "source": [
    "\n",
    "# Q1-4\n",
    "확진자가 가장 많이 발생한 1, 2, 3위 지역의 데이타만 출력하여라 "
   ]
  },
  {
   "cell_type": "markdown",
   "metadata": {},
   "source": [
    "# Q1-5\n",
    "'확진일' 컬럼값을 아래와 같은 형태로 변경하여라\n",
    "<br>\n",
    "'1.24.' => '2020-01-24'"
   ]
  },
  {
   "cell_type": "markdown",
   "metadata": {},
   "source": [
    "# Q1-6\n",
    "'확진일' 컬럼을 시계열 데이타로 형태를 변경하여라 "
   ]
  },
  {
   "cell_type": "markdown",
   "metadata": {},
   "source": [
    "# Q1-7\n",
    "3월에 발생한 확진자의 데이타만 출력하여라."
   ]
  },
  {
   "cell_type": "markdown",
   "metadata": {},
   "source": [
    "# Q1-8\n",
    "주말에 발생한 확진자의 데이타만 출력하여라."
   ]
  },
  {
   "cell_type": "markdown",
   "metadata": {},
   "source": [
    "# Q1-9\n",
    "'콜센터'와 관련된 확진자의 데이타를 출력하여라. "
   ]
  },
  {
   "cell_type": "markdown",
   "metadata": {},
   "source": [
    "## Q1-10\n",
    "'우한'과 관련된 확진자의 데이타만 출력하여라. "
   ]
  },
  {
   "cell_type": "markdown",
   "metadata": {},
   "source": [
    "## Q1-11\n",
    "사망자는 모두 몇명인가?"
   ]
  },
  {
   "cell_type": "markdown",
   "metadata": {},
   "source": [
    "# Q2-1\n",
    "\n",
    "아래의 파일을 이용하여 데이타프레임을 생성하여라.<br>\n",
    "   \n",
    "전국 평균 분양가격.csv "
   ]
  },
  {
   "cell_type": "markdown",
   "metadata": {},
   "source": [
    "# Q2-2\n",
    "\n",
    "데이터프레임의 행과 열을 서로 변경하여라."
   ]
  },
  {
   "cell_type": "markdown",
   "metadata": {},
   "source": [
    "# Q2-3\n",
    "\n",
    "1행을 삭제하고 2행을 컬럼으로 지정하여라. "
   ]
  },
  {
   "cell_type": "markdown",
   "metadata": {},
   "source": [
    "# Q2-4\n",
    "\n",
    "'지역' 컬럼을 시계열 데이타로 변경하고 인덱스로 설정하여라. "
   ]
  },
  {
   "cell_type": "markdown",
   "metadata": {},
   "source": [
    "# Q2-5\n",
    "\n",
    "2015년 6월 이후의 데이타만 출력하여라 "
   ]
  },
  {
   "cell_type": "markdown",
   "metadata": {},
   "source": [
    "# Q2-6\n",
    "\n",
    "2014년도의 서울, 인천 경기 컬럼만 출력하여라. "
   ]
  },
  {
   "cell_type": "markdown",
   "metadata": {},
   "source": [
    "# Q2-7\n",
    "csv 파일 형태로 현재의 데이타프레임을 저장하여라. \n",
    "<br>\n",
    "output/평균분양가격_서울인천경기.csv"
   ]
  }
 ],
 "metadata": {
  "kernelspec": {
   "display_name": "Python 3",
   "language": "python",
   "name": "python3"
  },
  "language_info": {
   "codemirror_mode": {
    "name": "ipython",
    "version": 3
   },
   "file_extension": ".py",
   "mimetype": "text/x-python",
   "name": "python",
   "nbconvert_exporter": "python",
   "pygments_lexer": "ipython3",
   "version": "3.11.5"
  },
  "toc": {
   "base_numbering": 1,
   "nav_menu": {},
   "number_sections": true,
   "sideBar": true,
   "skip_h1_title": false,
   "title_cell": "Table of Contents",
   "title_sidebar": "Contents",
   "toc_cell": false,
   "toc_position": {},
   "toc_section_display": true,
   "toc_window_display": false
  },
  "varInspector": {
   "cols": {
    "lenName": 16,
    "lenType": 16,
    "lenVar": 40
   },
   "kernels_config": {
    "python": {
     "delete_cmd_postfix": "",
     "delete_cmd_prefix": "del ",
     "library": "var_list.py",
     "varRefreshCmd": "print(var_dic_list())"
    },
    "r": {
     "delete_cmd_postfix": ") ",
     "delete_cmd_prefix": "rm(",
     "library": "var_list.r",
     "varRefreshCmd": "cat(var_dic_list()) "
    }
   },
   "types_to_exclude": [
    "module",
    "function",
    "builtin_function_or_method",
    "instance",
    "_Feature"
   ],
   "window_display": false
  }
 },
 "nbformat": 4,
 "nbformat_minor": 4
}
