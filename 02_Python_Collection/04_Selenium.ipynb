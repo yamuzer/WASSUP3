{
 "cells": [
  {
   "cell_type": "markdown",
   "id": "4afe00e8-2d77-460b-835e-96a5cfa8d4eb",
   "metadata": {},
   "source": [
    "# Selenium 사용하기\n",
    "* 크롬 115이상 버전부터 부터 드라이버 설치 불필요\n",
    "* 셀레니움4 부터 문법 변경\n",
    "* https://www.selenium.dev/documentation/\n",
    "셀레니움으로는 스크래핑하면 너무 느리므로, 동적 웹페이지 접속 및 이벤트 발생 역할 만 하고, 파싱은 BS4를 쓰는게 좋다."
   ]
  },
  {
   "cell_type": "code",
   "execution_count": 2,
   "id": "34ef534f-2767-4e4b-9230-c42c628336cc",
   "metadata": {
    "collapsed": true,
    "jupyter": {
     "outputs_hidden": true
    },
    "tags": []
   },
   "outputs": [
    {
     "name": "stdout",
     "output_type": "stream",
     "text": [
      "Collecting selenium\n",
      "  Obtaining dependency information for selenium from https://files.pythonhosted.org/packages/f2/7d/3a0b9c229d87a189b64c3b8e6d87a970a1ef7875995dc31bd18e65fa1c17/selenium-4.22.0-py3-none-any.whl.metadata\n",
      "  Downloading selenium-4.22.0-py3-none-any.whl.metadata (7.0 kB)\n",
      "Requirement already satisfied: urllib3[socks]<3,>=1.26 in c:\\users\\maeng\\anaconda3\\lib\\site-packages (from selenium) (1.26.16)\n",
      "Collecting trio~=0.17 (from selenium)\n",
      "  Obtaining dependency information for trio~=0.17 from https://files.pythonhosted.org/packages/76/51/12d78ec8abcbda51d8f115d98ebd3ee3da9d9d9af00ac69d3097c5b8d51a/trio-0.25.1-py3-none-any.whl.metadata\n",
      "  Downloading trio-0.25.1-py3-none-any.whl.metadata (8.7 kB)\n",
      "Collecting trio-websocket~=0.9 (from selenium)\n",
      "  Obtaining dependency information for trio-websocket~=0.9 from https://files.pythonhosted.org/packages/48/be/a9ae5f50cad5b6f85bd2574c2c923730098530096e170c1ce7452394d7aa/trio_websocket-0.11.1-py3-none-any.whl.metadata\n",
      "  Using cached trio_websocket-0.11.1-py3-none-any.whl.metadata (4.7 kB)\n",
      "Requirement already satisfied: certifi>=2021.10.8 in c:\\users\\maeng\\anaconda3\\lib\\site-packages (from selenium) (2023.7.22)\n",
      "Collecting typing_extensions>=4.9.0 (from selenium)\n",
      "  Obtaining dependency information for typing_extensions>=4.9.0 from https://files.pythonhosted.org/packages/26/9f/ad63fc0248c5379346306f8668cda6e2e2e9c95e01216d2b8ffd9ff037d0/typing_extensions-4.12.2-py3-none-any.whl.metadata\n",
      "  Downloading typing_extensions-4.12.2-py3-none-any.whl.metadata (3.0 kB)\n",
      "Collecting websocket-client>=1.8.0 (from selenium)\n",
      "  Obtaining dependency information for websocket-client>=1.8.0 from https://files.pythonhosted.org/packages/5a/84/44687a29792a70e111c5c477230a72c4b957d88d16141199bf9acb7537a3/websocket_client-1.8.0-py3-none-any.whl.metadata\n",
      "  Downloading websocket_client-1.8.0-py3-none-any.whl.metadata (8.0 kB)\n",
      "Collecting attrs>=23.2.0 (from trio~=0.17->selenium)\n",
      "  Obtaining dependency information for attrs>=23.2.0 from https://files.pythonhosted.org/packages/e0/44/827b2a91a5816512fcaf3cc4ebc465ccd5d598c45cefa6703fcf4a79018f/attrs-23.2.0-py3-none-any.whl.metadata\n",
      "  Downloading attrs-23.2.0-py3-none-any.whl.metadata (9.5 kB)\n",
      "Requirement already satisfied: sortedcontainers in c:\\users\\maeng\\anaconda3\\lib\\site-packages (from trio~=0.17->selenium) (2.4.0)\n",
      "Requirement already satisfied: idna in c:\\users\\maeng\\anaconda3\\lib\\site-packages (from trio~=0.17->selenium) (3.4)\n",
      "Collecting outcome (from trio~=0.17->selenium)\n",
      "  Obtaining dependency information for outcome from https://files.pythonhosted.org/packages/55/8b/5ab7257531a5d830fc8000c476e63c935488d74609b50f9384a643ec0a62/outcome-1.3.0.post0-py2.py3-none-any.whl.metadata\n",
      "  Using cached outcome-1.3.0.post0-py2.py3-none-any.whl.metadata (2.6 kB)\n",
      "Collecting sniffio>=1.3.0 (from trio~=0.17->selenium)\n",
      "  Obtaining dependency information for sniffio>=1.3.0 from https://files.pythonhosted.org/packages/e9/44/75a9c9421471a6c4805dbf2356f7c181a29c1879239abab1ea2cc8f38b40/sniffio-1.3.1-py3-none-any.whl.metadata\n",
      "  Downloading sniffio-1.3.1-py3-none-any.whl.metadata (3.9 kB)\n",
      "Requirement already satisfied: cffi>=1.14 in c:\\users\\maeng\\anaconda3\\lib\\site-packages (from trio~=0.17->selenium) (1.15.1)\n",
      "Collecting wsproto>=0.14 (from trio-websocket~=0.9->selenium)\n",
      "  Obtaining dependency information for wsproto>=0.14 from https://files.pythonhosted.org/packages/78/58/e860788190eba3bcce367f74d29c4675466ce8dddfba85f7827588416f01/wsproto-1.2.0-py3-none-any.whl.metadata\n",
      "  Downloading wsproto-1.2.0-py3-none-any.whl.metadata (5.6 kB)\n",
      "Requirement already satisfied: PySocks!=1.5.7,<2.0,>=1.5.6 in c:\\users\\maeng\\anaconda3\\lib\\site-packages (from urllib3[socks]<3,>=1.26->selenium) (1.7.1)\n",
      "Requirement already satisfied: pycparser in c:\\users\\maeng\\anaconda3\\lib\\site-packages (from cffi>=1.14->trio~=0.17->selenium) (2.21)\n",
      "Collecting h11<1,>=0.9.0 (from wsproto>=0.14->trio-websocket~=0.9->selenium)\n",
      "  Obtaining dependency information for h11<1,>=0.9.0 from https://files.pythonhosted.org/packages/95/04/ff642e65ad6b90db43e668d70ffb6736436c7ce41fcc549f4e9472234127/h11-0.14.0-py3-none-any.whl.metadata\n",
      "  Downloading h11-0.14.0-py3-none-any.whl.metadata (8.2 kB)\n",
      "Downloading selenium-4.22.0-py3-none-any.whl (9.4 MB)\n",
      "   ---------------------------------------- 0.0/9.4 MB ? eta -:--:--\n",
      "   -- ------------------------------------- 0.5/9.4 MB 7.8 MB/s eta 0:00:02\n",
      "   ---- ----------------------------------- 1.1/9.4 MB 10.4 MB/s eta 0:00:01\n",
      "   ------ --------------------------------- 1.5/9.4 MB 9.8 MB/s eta 0:00:01\n",
      "   --------- ------------------------------ 2.2/9.4 MB 10.7 MB/s eta 0:00:01\n",
      "   ----------- ---------------------------- 2.7/9.4 MB 10.8 MB/s eta 0:00:01\n",
      "   ------------- -------------------------- 3.2/9.4 MB 11.3 MB/s eta 0:00:01\n",
      "   --------------- ------------------------ 3.7/9.4 MB 10.9 MB/s eta 0:00:01\n",
      "   ------------------ --------------------- 4.2/9.4 MB 11.3 MB/s eta 0:00:01\n",
      "   -------------------- ------------------- 4.8/9.4 MB 11.3 MB/s eta 0:00:01\n",
      "   ---------------------- ----------------- 5.3/9.4 MB 11.3 MB/s eta 0:00:01\n",
      "   ------------------------ --------------- 5.7/9.4 MB 11.4 MB/s eta 0:00:01\n",
      "   -------------------------- ------------- 6.2/9.4 MB 10.6 MB/s eta 0:00:01\n",
      "   ----------------------------- ---------- 7.0/9.4 MB 11.3 MB/s eta 0:00:01\n",
      "   -------------------------------- ------- 7.6/9.4 MB 11.3 MB/s eta 0:00:01\n",
      "   ---------------------------------- ----- 8.1/9.4 MB 11.3 MB/s eta 0:00:01\n",
      "   ------------------------------------ --- 8.6/9.4 MB 11.2 MB/s eta 0:00:01\n",
      "   -------------------------------------- - 9.1/9.4 MB 11.2 MB/s eta 0:00:01\n",
      "   ---------------------------------------  9.4/9.4 MB 11.4 MB/s eta 0:00:01\n",
      "   ---------------------------------------- 9.4/9.4 MB 10.4 MB/s eta 0:00:00\n",
      "Downloading trio-0.25.1-py3-none-any.whl (467 kB)\n",
      "   ---------------------------------------- 0.0/467.7 kB ? eta -:--:--\n",
      "   --------------------------------------  460.8/467.7 kB 14.5 MB/s eta 0:00:01\n",
      "   ---------------------------------------- 467.7/467.7 kB 9.7 MB/s eta 0:00:00\n",
      "Using cached trio_websocket-0.11.1-py3-none-any.whl (17 kB)\n",
      "Downloading typing_extensions-4.12.2-py3-none-any.whl (37 kB)\n",
      "Downloading websocket_client-1.8.0-py3-none-any.whl (58 kB)\n",
      "   ---------------------------------------- 0.0/58.8 kB ? eta -:--:--\n",
      "   ---------------------------------------- 58.8/58.8 kB 3.2 MB/s eta 0:00:00\n",
      "Downloading attrs-23.2.0-py3-none-any.whl (60 kB)\n",
      "   ---------------------------------------- 0.0/60.8 kB ? eta -:--:--\n",
      "   ---------------------------------------- 60.8/60.8 kB 3.2 MB/s eta 0:00:00\n",
      "Downloading sniffio-1.3.1-py3-none-any.whl (10 kB)\n",
      "Using cached wsproto-1.2.0-py3-none-any.whl (24 kB)\n",
      "Using cached outcome-1.3.0.post0-py2.py3-none-any.whl (10 kB)\n",
      "Using cached h11-0.14.0-py3-none-any.whl (58 kB)\n",
      "Installing collected packages: websocket-client, typing_extensions, sniffio, h11, attrs, wsproto, outcome, trio, trio-websocket, selenium\n",
      "  Attempting uninstall: websocket-client\n",
      "    Found existing installation: websocket-client 0.58.0\n",
      "    Uninstalling websocket-client-0.58.0:\n",
      "      Successfully uninstalled websocket-client-0.58.0\n",
      "  Attempting uninstall: typing_extensions\n",
      "    Found existing installation: typing_extensions 4.7.1\n",
      "    Uninstalling typing_extensions-4.7.1:\n",
      "      Successfully uninstalled typing_extensions-4.7.1\n",
      "  Attempting uninstall: sniffio\n",
      "    Found existing installation: sniffio 1.2.0\n",
      "    Uninstalling sniffio-1.2.0:\n",
      "      Successfully uninstalled sniffio-1.2.0\n",
      "  Attempting uninstall: attrs\n",
      "    Found existing installation: attrs 22.1.0\n",
      "    Uninstalling attrs-22.1.0:\n",
      "      Successfully uninstalled attrs-22.1.0\n",
      "Successfully installed attrs-23.2.0 h11-0.14.0 outcome-1.3.0.post0 selenium-4.22.0 sniffio-1.3.1 trio-0.25.1 trio-websocket-0.11.1 typing_extensions-4.12.2 websocket-client-1.8.0 wsproto-1.2.0\n"
     ]
    }
   ],
   "source": [
    "# 셀레니움 라이브러리 설치\n",
    "!pip install selenium"
   ]
  },
  {
   "cell_type": "code",
   "execution_count": 11,
   "id": "3d1e3e3f-6863-40b2-a339-c434705a21f6",
   "metadata": {
    "tags": []
   },
   "outputs": [
    {
     "data": {
      "text/plain": [
       "<selenium.webdriver.chrome.options.Options at 0x14f52524710>"
      ]
     },
     "execution_count": 11,
     "metadata": {},
     "output_type": "execute_result"
    }
   ],
   "source": [
    "from selenium import webdriver\n",
    "from selenium.webdriver.common.by import By\n",
    "from selenium.webdriver.chrome.options import Options\n",
    "import time\n",
    "\n",
    "options = Options()\n",
    "options"
   ]
  },
  {
   "cell_type": "code",
   "execution_count": 14,
   "id": "c778d2a6-5a83-4e01-ad70-4b15657f2d2b",
   "metadata": {
    "tags": []
   },
   "outputs": [],
   "source": [
    "#특정함수안에서  드라이버 생성시 함수종료될 때 브라우저 같이 종료되는 문제 대응\n",
    "options.add_experimental_option(\"detach\", True)"
   ]
  },
  {
   "cell_type": "markdown",
   "id": "d6dda38a-6464-40f4-b2a1-5bddfd958a8e",
   "metadata": {},
   "source": [
    "## 브라우저 실행 및 페이지 접속"
   ]
  },
  {
   "cell_type": "code",
   "execution_count": 18,
   "id": "2ffa3ebc-b3c4-42b7-ad40-9f975f5bed88",
   "metadata": {
    "tags": []
   },
   "outputs": [],
   "source": [
    "url = 'https://naver.com'\n",
    "driver = webdriver.Chrome(options=options)"
   ]
  },
  {
   "cell_type": "code",
   "execution_count": 20,
   "id": "43c71f77-98ed-4f33-8c71-00940d8ed94f",
   "metadata": {
    "tags": []
   },
   "outputs": [],
   "source": [
    "driver.get(url)\n",
    "time.sleep(2) "
   ]
  },
  {
   "cell_type": "markdown",
   "id": "26ee3a47-b767-4a1b-a097-2c8e1efc726b",
   "metadata": {},
   "source": [
    "## 상호작용"
   ]
  },
  {
   "cell_type": "code",
   "execution_count": 22,
   "id": "5d27cca0-dc0f-40e6-82b3-2f5f6b5c5483",
   "metadata": {
    "tags": []
   },
   "outputs": [],
   "source": [
    "driver.back()"
   ]
  },
  {
   "cell_type": "code",
   "execution_count": 23,
   "id": "2fd80d01-3930-4f08-a023-0d16f0d5a691",
   "metadata": {
    "tags": []
   },
   "outputs": [],
   "source": [
    "driver.forward()"
   ]
  },
  {
   "cell_type": "code",
   "execution_count": 24,
   "id": "a07c9c8e-834c-4bb1-9d3d-5810f7e2eb85",
   "metadata": {
    "tags": []
   },
   "outputs": [],
   "source": [
    "driver.refresh()"
   ]
  },
  {
   "cell_type": "markdown",
   "id": "5b582b39-2b36-4299-ab6d-8db75a18866c",
   "metadata": {},
   "source": [
    "## 페이지 정보 가져오기"
   ]
  },
  {
   "cell_type": "code",
   "execution_count": 25,
   "id": "b084b05c-216a-4042-9228-61eb48e51448",
   "metadata": {
    "tags": []
   },
   "outputs": [
    {
     "name": "stdout",
     "output_type": "stream",
     "text": [
      "NAVER https://www.naver.com/ 31961FB7C4EA65797E28D6D5B3AFAE88\n"
     ]
    }
   ],
   "source": [
    "title = driver.title\n",
    "url = driver.current_url\n",
    "handle = driver.current_window_handle\n",
    "print(title, url, handle)"
   ]
  },
  {
   "cell_type": "markdown",
   "id": "c5f784fb-ac51-4d6f-a4e7-3f6baca78cad",
   "metadata": {},
   "source": [
    "## HTML 요소 찾기\n",
    "네이버 검색창을 핸들링 해보자.\n",
    "\n",
    "```html\n",
    "<input id=\"query\" name=\"query\" type=\"search\" title=\"검색어를 입력해 주세요.\" placeholder=\"검색어를 입력해 주세요.\" maxlength=\"255\" autocomplete=\"off\" class=\"search_input\" data-atcmp-element=\"\">\n",
    "```"
   ]
  },
  {
   "cell_type": "code",
   "execution_count": 26,
   "id": "e43ec0a9-7996-454f-addc-449076178387",
   "metadata": {
    "tags": []
   },
   "outputs": [
    {
     "data": {
      "text/plain": [
       "\u001b[1;31mSignature:\u001b[0m \u001b[0mdriver\u001b[0m\u001b[1;33m.\u001b[0m\u001b[0mfind_element\u001b[0m\u001b[1;33m(\u001b[0m\u001b[0mby\u001b[0m\u001b[1;33m=\u001b[0m\u001b[1;34m'id'\u001b[0m\u001b[1;33m,\u001b[0m \u001b[0mvalue\u001b[0m\u001b[1;33m:\u001b[0m \u001b[0mOptional\u001b[0m\u001b[1;33m[\u001b[0m\u001b[0mstr\u001b[0m\u001b[1;33m]\u001b[0m \u001b[1;33m=\u001b[0m \u001b[1;32mNone\u001b[0m\u001b[1;33m)\u001b[0m \u001b[1;33m->\u001b[0m \u001b[0mselenium\u001b[0m\u001b[1;33m.\u001b[0m\u001b[0mwebdriver\u001b[0m\u001b[1;33m.\u001b[0m\u001b[0mremote\u001b[0m\u001b[1;33m.\u001b[0m\u001b[0mwebelement\u001b[0m\u001b[1;33m.\u001b[0m\u001b[0mWebElement\u001b[0m\u001b[1;33m\u001b[0m\u001b[1;33m\u001b[0m\u001b[0m\n",
       "\u001b[1;31mDocstring:\u001b[0m\n",
       "Find an element given a By strategy and locator.\n",
       "\n",
       ":Usage:\n",
       "    ::\n",
       "\n",
       "        element = driver.find_element(By.ID, 'foo')\n",
       "\n",
       ":rtype: WebElement\n",
       "\u001b[1;31mFile:\u001b[0m      c:\\users\\maeng\\anaconda3\\lib\\site-packages\\selenium\\webdriver\\remote\\webdriver.py\n",
       "\u001b[1;31mType:\u001b[0m      method\n"
      ]
     },
     "metadata": {},
     "output_type": "display_data"
    }
   ],
   "source": [
    "driver.find_element?"
   ]
  },
  {
   "cell_type": "code",
   "execution_count": 27,
   "id": "349af618-41f9-4f4b-88bc-210d3bf6712a",
   "metadata": {
    "tags": []
   },
   "outputs": [
    {
     "data": {
      "text/plain": [
       "<selenium.webdriver.remote.webelement.WebElement (session=\"86854a800fc644cfbe64ca7087725434\", element=\"f.31961FB7C4EA65797E28D6D5B3AFAE88.d.410CDFCE07CD88FA06138CB8969D122D.e.76\")>"
      ]
     },
     "execution_count": 27,
     "metadata": {},
     "output_type": "execute_result"
    }
   ],
   "source": [
    "driver.find_element(By.ID, 'query')"
   ]
  },
  {
   "cell_type": "code",
   "execution_count": 28,
   "id": "0fdd6d96-c39c-49cb-b851-edc65d7dde22",
   "metadata": {
    "tags": []
   },
   "outputs": [],
   "source": [
    "# 키 입력\n",
    "driver.find_element(By.ID, 'query').send_keys('뉴진스')"
   ]
  },
  {
   "cell_type": "code",
   "execution_count": 29,
   "id": "78b333f6-6cd4-4ffd-bbe3-6c58cd5e5e46",
   "metadata": {
    "tags": []
   },
   "outputs": [],
   "source": [
    "driver.find_element(By.CLASS_NAME, 'search_input').send_keys('블랙핑크')"
   ]
  },
  {
   "cell_type": "code",
   "execution_count": 30,
   "id": "0b2bed93-b6b9-4a19-b1f8-3f7576f65c41",
   "metadata": {
    "tags": []
   },
   "outputs": [],
   "source": [
    "driver.find_element(By.NAME, 'query').send_keys('르세라핌')"
   ]
  },
  {
   "cell_type": "code",
   "execution_count": 31,
   "id": "a9afe2d1-b62e-4bf1-9955-f9b47c327d76",
   "metadata": {
    "tags": []
   },
   "outputs": [],
   "source": [
    "driver.find_element(By.CSS_SELECTOR, '#query').send_keys('에스파')"
   ]
  },
  {
   "cell_type": "code",
   "execution_count": 32,
   "id": "8bea875d-48df-4179-9e3d-e53d21df673d",
   "metadata": {
    "tags": []
   },
   "outputs": [],
   "source": [
    "driver.find_element(By.CSS_SELECTOR, '.search_input').send_keys('세븐틴')"
   ]
  },
  {
   "cell_type": "code",
   "execution_count": 34,
   "id": "4edc90d2-2563-4981-9a59-a574b43863ff",
   "metadata": {
    "tags": []
   },
   "outputs": [],
   "source": [
    "driver.find_element(By.CSS_SELECTOR, \"[title='검색어를 입력해 주세요.']\").send_keys('트와이스')"
   ]
  },
  {
   "cell_type": "code",
   "execution_count": 35,
   "id": "e7fcbe86-b9eb-428b-8131-260cd7967e72",
   "metadata": {
    "tags": []
   },
   "outputs": [],
   "source": [
    "driver.find_element(By.XPATH, '//*[@id=\"query\"]').send_keys('BTS')"
   ]
  },
  {
   "cell_type": "markdown",
   "id": "6e7e7e81-e407-43c5-a77a-bc0e095a81e1",
   "metadata": {},
   "source": [
    "## 클릭\n",
    "네이버 쇼핑 메뉴를 클릭해보자."
   ]
  },
  {
   "cell_type": "code",
   "execution_count": 36,
   "id": "021bb2c3-453c-4e73-a08d-205d13173101",
   "metadata": {
    "tags": []
   },
   "outputs": [
    {
     "data": {
      "text/plain": [
       "<selenium.webdriver.remote.webelement.WebElement (session=\"86854a800fc644cfbe64ca7087725434\", element=\"f.31961FB7C4EA65797E28D6D5B3AFAE88.d.410CDFCE07CD88FA06138CB8969D122D.e.612\")>"
      ]
     },
     "execution_count": 36,
     "metadata": {},
     "output_type": "execute_result"
    }
   ],
   "source": [
    "driver.find_element(By.LINK_TEXT, '쇼핑')"
   ]
  },
  {
   "cell_type": "code",
   "execution_count": 37,
   "id": "589c6a55-0368-4667-be7f-e127c5f0745e",
   "metadata": {
    "tags": []
   },
   "outputs": [],
   "source": [
    "driver.find_element(By.LINK_TEXT, '쇼핑').click()"
   ]
  },
  {
   "cell_type": "code",
   "execution_count": 38,
   "id": "78c29a4c-ccfb-4af0-8428-8cec8c628bb9",
   "metadata": {
    "tags": []
   },
   "outputs": [],
   "source": [
    "# 일부 매칭\n",
    "driver.find_element(By.PARTIAL_LINK_TEXT, '증').click()"
   ]
  },
  {
   "cell_type": "code",
   "execution_count": 39,
   "id": "ba108200-2ef2-4cff-be8d-8d245f7d460d",
   "metadata": {
    "tags": []
   },
   "outputs": [
    {
     "data": {
      "text/plain": [
       "<selenium.webdriver.remote.webelement.WebElement (session=\"86854a800fc644cfbe64ca7087725434\", element=\"f.31961FB7C4EA65797E28D6D5B3AFAE88.d.410CDFCE07CD88FA06138CB8969D122D.e.290\")>"
      ]
     },
     "execution_count": 39,
     "metadata": {},
     "output_type": "execute_result"
    }
   ],
   "source": [
    "# 태그로 찾기 \n",
    "# 태그는 요소가 너무 많으므로 정확하게 대상을 찾을 때에는 권장 안함\n",
    "driver.find_element(By.TAG_NAME, 'div')"
   ]
  },
  {
   "cell_type": "code",
   "execution_count": 40,
   "id": "9181a6ed-2417-4683-a0fb-29642c5eb62c",
   "metadata": {
    "tags": []
   },
   "outputs": [
    {
     "data": {
      "text/plain": [
       "[<selenium.webdriver.remote.webelement.WebElement (session=\"86854a800fc644cfbe64ca7087725434\", element=\"f.31961FB7C4EA65797E28D6D5B3AFAE88.d.410CDFCE07CD88FA06138CB8969D122D.e.600\")>,\n",
       " <selenium.webdriver.remote.webelement.WebElement (session=\"86854a800fc644cfbe64ca7087725434\", element=\"f.31961FB7C4EA65797E28D6D5B3AFAE88.d.410CDFCE07CD88FA06138CB8969D122D.e.604\")>,\n",
       " <selenium.webdriver.remote.webelement.WebElement (session=\"86854a800fc644cfbe64ca7087725434\", element=\"f.31961FB7C4EA65797E28D6D5B3AFAE88.d.410CDFCE07CD88FA06138CB8969D122D.e.608\")>,\n",
       " <selenium.webdriver.remote.webelement.WebElement (session=\"86854a800fc644cfbe64ca7087725434\", element=\"f.31961FB7C4EA65797E28D6D5B3AFAE88.d.410CDFCE07CD88FA06138CB8969D122D.e.612\")>,\n",
       " <selenium.webdriver.remote.webelement.WebElement (session=\"86854a800fc644cfbe64ca7087725434\", element=\"f.31961FB7C4EA65797E28D6D5B3AFAE88.d.410CDFCE07CD88FA06138CB8969D122D.e.616\")>,\n",
       " <selenium.webdriver.remote.webelement.WebElement (session=\"86854a800fc644cfbe64ca7087725434\", element=\"f.31961FB7C4EA65797E28D6D5B3AFAE88.d.410CDFCE07CD88FA06138CB8969D122D.e.620\")>,\n",
       " <selenium.webdriver.remote.webelement.WebElement (session=\"86854a800fc644cfbe64ca7087725434\", element=\"f.31961FB7C4EA65797E28D6D5B3AFAE88.d.410CDFCE07CD88FA06138CB8969D122D.e.625\")>,\n",
       " <selenium.webdriver.remote.webelement.WebElement (session=\"86854a800fc644cfbe64ca7087725434\", element=\"f.31961FB7C4EA65797E28D6D5B3AFAE88.d.410CDFCE07CD88FA06138CB8969D122D.e.630\")>,\n",
       " <selenium.webdriver.remote.webelement.WebElement (session=\"86854a800fc644cfbe64ca7087725434\", element=\"f.31961FB7C4EA65797E28D6D5B3AFAE88.d.410CDFCE07CD88FA06138CB8969D122D.e.635\")>,\n",
       " <selenium.webdriver.remote.webelement.WebElement (session=\"86854a800fc644cfbe64ca7087725434\", element=\"f.31961FB7C4EA65797E28D6D5B3AFAE88.d.410CDFCE07CD88FA06138CB8969D122D.e.640\")>,\n",
       " <selenium.webdriver.remote.webelement.WebElement (session=\"86854a800fc644cfbe64ca7087725434\", element=\"f.31961FB7C4EA65797E28D6D5B3AFAE88.d.410CDFCE07CD88FA06138CB8969D122D.e.646\")>,\n",
       " <selenium.webdriver.remote.webelement.WebElement (session=\"86854a800fc644cfbe64ca7087725434\", element=\"f.31961FB7C4EA65797E28D6D5B3AFAE88.d.410CDFCE07CD88FA06138CB8969D122D.e.651\")>]"
      ]
     },
     "execution_count": 40,
     "metadata": {},
     "output_type": "execute_result"
    }
   ],
   "source": [
    "# 여러개의 요소를 찾을 때\n",
    "driver.find_elements(By.CSS_SELECTOR, '.link_service')"
   ]
  },
  {
   "cell_type": "code",
   "execution_count": 42,
   "id": "43543f30-ed73-4822-8fcb-73cc0ee2d1a4",
   "metadata": {
    "tags": []
   },
   "outputs": [
    {
     "data": {
      "text/plain": [
       "'https://mail.naver.com/'"
      ]
     },
     "execution_count": 42,
     "metadata": {},
     "output_type": "execute_result"
    }
   ],
   "source": [
    "driver.find_elements(By.CSS_SELECTOR, '.link_service')[0].get_attribute('href')"
   ]
  },
  {
   "cell_type": "code",
   "execution_count": 43,
   "id": "7a8962d2-1854-4453-972b-92f9d5385623",
   "metadata": {
    "tags": []
   },
   "outputs": [
    {
     "name": "stdout",
     "output_type": "stream",
     "text": [
      "https://mail.naver.com/\n",
      "https://cafe.naver.com/\n",
      "https://blog.naver.com/\n",
      "https://shopping.naver.com/home\n",
      "https://news.naver.com/\n",
      "https://finance.naver.com/\n",
      "https://land.naver.com/\n",
      "https://map.naver.com/\n",
      "https://comic.naver.com/\n",
      "https://chzzk.naver.com/\n",
      "https://www.naver.com/#\n",
      "https://siape.veta.naver.com/rd?rk=oFDxqZS2UPFRJmacodWLXg&eltts=DCLofzx%2Ffvfz5J0VVpHcGg%3D%3D&elu=5BA297C9C3C09BC2A363AD20A2AF2280AA600BB0F1224856B1E3B0CD8C7D5F6341BB3F4A77A5F39CD5816E901BFB74C92B046500D36C473274A2DF28B9D9C604F0D8675FDAF22A996AAEFDEE92BA1FCD697E5F7ECC82BD74C279AA95D9F31FA9106C54B228F25590EF823CA4768D6219CE38D6604E0A5B1E37F2638BC6781F9C11558072D11F35C32974B5BB046BA45A07622F9BABB7473FC14AA7FD36BB50D4C307E017657B6DA136AEBAC7EC891C9F5A5055A972A333181061B1E2DFE2FFA222D84ADDACB9E6F9A16E1D652D3EB8C135B6437DC7CF883F1EC60C9651D1C4C8275A98C850A13EBB65F5FD32FB60BCB30C5AAF736F12400C4367DD0044542B197217E62475235BEA68AE097A170AD5A51C9BA44515B9413323BB5209DB9989423CBE869AF6166CD217D8BCE67BD4C347A770EFF33A787CD5B717D9E0272BB73CAC78F645B2BFA01A917F4F9D04227106B8DDBDF0198AA39CF0630EE44B85EA2214A5DCF9756E8174E98321FF3E1C85C21BE32BC7EF47224CE9A8B79B0B4B1628&tr=ndp\n"
     ]
    }
   ],
   "source": [
    "links = driver.find_elements(By.CSS_SELECTOR, '.link_service')\n",
    "for link in links:\n",
    "    print(link.get_attribute('href'))"
   ]
  },
  {
   "cell_type": "markdown",
   "id": "686eeb13-0d5a-4174-bfd7-0a812e41dd79",
   "metadata": {},
   "source": [
    "## 자동 로그인 연습"
   ]
  },
  {
   "cell_type": "code",
   "execution_count": 45,
   "id": "63782799-73e8-4a0b-9ad4-310921d743c4",
   "metadata": {
    "tags": []
   },
   "outputs": [],
   "source": [
    "#  테스트용 html\n",
    "url = 'file:///C:/workspace/WASSUP3/02_Python_Collection/sample/signin.html'\n",
    "driver = webdriver.Chrome(options=options)\n",
    "driver.get(url)\n",
    "time.sleep(2)"
   ]
  },
  {
   "cell_type": "code",
   "execution_count": 59,
   "id": "cab50c26-bbc6-49c5-bc0a-a2d8a0ea8746",
   "metadata": {
    "tags": []
   },
   "outputs": [],
   "source": [
    "username = driver.find_element(By.NAME, \"username\")\n",
    "username.send_keys('korea')"
   ]
  },
  {
   "cell_type": "code",
   "execution_count": 58,
   "id": "2842ffd7-7291-4ce6-94f5-8b34576cb18d",
   "metadata": {
    "tags": []
   },
   "outputs": [],
   "source": [
    "password = driver.find_element(By.NAME, \"password\")\n",
    "password.send_keys('1234')"
   ]
  },
  {
   "cell_type": "code",
   "execution_count": 51,
   "id": "4cf74ffe-e3a7-487f-abd1-b33b05932275",
   "metadata": {
    "tags": []
   },
   "outputs": [],
   "source": [
    "login = driver.find_element(By.XPATH, '//*[@id=\"loginForm\"]/input[3]')\n",
    "login.click()"
   ]
  },
  {
   "cell_type": "code",
   "execution_count": 52,
   "id": "fbd7281b-1f81-4708-9340-3605f85449fd",
   "metadata": {
    "tags": []
   },
   "outputs": [],
   "source": [
    "driver.back()"
   ]
  },
  {
   "cell_type": "code",
   "execution_count": 53,
   "id": "b4d3c180-cf6f-4425-91ba-d01594f81984",
   "metadata": {
    "tags": []
   },
   "outputs": [],
   "source": [
    "login = driver.find_element(By.XPATH, '/html/body/form/input[3]')\n",
    "login.click()"
   ]
  },
  {
   "cell_type": "code",
   "execution_count": 54,
   "id": "0d8f3a0a-db1b-48b3-9e6f-187f20be471e",
   "metadata": {
    "tags": []
   },
   "outputs": [],
   "source": [
    "driver.back()"
   ]
  },
  {
   "cell_type": "code",
   "execution_count": 55,
   "id": "f0ee4712-7a8f-4bc6-a899-2640abe59c59",
   "metadata": {
    "tags": []
   },
   "outputs": [],
   "source": [
    "login = driver.find_element(By.CSS_SELECTOR, '[value=Login]')\n",
    "login.click()"
   ]
  },
  {
   "cell_type": "code",
   "execution_count": 56,
   "id": "b6f43519-00cf-482f-9988-8338d646e1ca",
   "metadata": {
    "tags": []
   },
   "outputs": [],
   "source": [
    "driver.back()"
   ]
  },
  {
   "cell_type": "code",
   "execution_count": 60,
   "id": "f3298dd4-6ec8-4b21-90d2-c092d2c26a2f",
   "metadata": {
    "tags": []
   },
   "outputs": [],
   "source": [
    "username.clear()"
   ]
  },
  {
   "cell_type": "code",
   "execution_count": 61,
   "id": "14ef2075-135f-406a-bcda-75d857e3b4c2",
   "metadata": {
    "tags": []
   },
   "outputs": [],
   "source": [
    "password.clear()"
   ]
  },
  {
   "cell_type": "code",
   "execution_count": 62,
   "id": "a273c45e-3bd3-46e3-9715-66734a204746",
   "metadata": {
    "tags": []
   },
   "outputs": [],
   "source": [
    "username = driver.find_element(By.NAME, \"username\")\n",
    "username.send_keys('korea')\n",
    "password = driver.find_element(By.NAME, \"password\")\n",
    "password.send_keys('1234')"
   ]
  },
  {
   "cell_type": "code",
   "execution_count": 63,
   "id": "04630ae9-af41-4f67-9a78-f3743110b48f",
   "metadata": {
    "tags": []
   },
   "outputs": [],
   "source": [
    "username.submit()"
   ]
  },
  {
   "cell_type": "code",
   "execution_count": 64,
   "id": "14d557ae-b856-49bb-b9dd-8dbc1889f884",
   "metadata": {
    "tags": []
   },
   "outputs": [],
   "source": [
    "driver.back()"
   ]
  },
  {
   "cell_type": "code",
   "execution_count": 65,
   "id": "e84fac48-ac20-4a7e-b0fc-398dfa950275",
   "metadata": {
    "tags": []
   },
   "outputs": [
    {
     "data": {
      "text/plain": [
       "'Are you sure you want to do this?'"
      ]
     },
     "execution_count": 65,
     "metadata": {},
     "output_type": "execute_result"
    }
   ],
   "source": [
    "driver.find_element(By.TAG_NAME, 'p').text"
   ]
  },
  {
   "cell_type": "code",
   "execution_count": 66,
   "id": "82eb48fc-6f9c-45a9-9db6-78969cf5f354",
   "metadata": {
    "tags": []
   },
   "outputs": [
    {
     "data": {
      "text/plain": [
       "'<html><head></head><body>\\n        <h1> Sign In </h1>\\n        <form action=\"moved.html\" id=\"loginForm\">\\n            ID : <input name=\"username\" type=\"text\"> <br>\\n            Password : <input name=\"password\" type=\"password\"> <br>\\n\\n            <input name=\"continue\" type=\"submit\" value=\"Login\">\\n            <input name=\"continue\" type=\"button\" value=\"Clear\">\\n        \\n        </form>\\n\\n        <p>Are you sure you want to do this?</p>\\n        <a href=\"continue.html\">Continue</a>\\n        <a href=\"cancel.html\">Cancel</a>\\n\\n        <h1>Welcome</h1>\\n        <p>Site content goes here.</p>\\n        <p class=\"content\">Site content goes here.</p>\\n    \\n</body></html>'"
      ]
     },
     "execution_count": 66,
     "metadata": {},
     "output_type": "execute_result"
    }
   ],
   "source": [
    "# html 소스 추출하기\n",
    "driver.page_source"
   ]
  },
  {
   "cell_type": "code",
   "execution_count": 67,
   "id": "c680f0af-6b61-4f24-b26d-25fc71c5123a",
   "metadata": {
    "tags": []
   },
   "outputs": [],
   "source": [
    "driver.close()"
   ]
  }
 ],
 "metadata": {
  "kernelspec": {
   "display_name": "Python 3 (ipykernel)",
   "language": "python",
   "name": "python3"
  },
  "language_info": {
   "codemirror_mode": {
    "name": "ipython",
    "version": 3
   },
   "file_extension": ".py",
   "mimetype": "text/x-python",
   "name": "python",
   "nbconvert_exporter": "python",
   "pygments_lexer": "ipython3",
   "version": "3.11.5"
  }
 },
 "nbformat": 4,
 "nbformat_minor": 5
}
