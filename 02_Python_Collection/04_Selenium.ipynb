{
 "cells": [
  {
   "cell_type": "markdown",
   "id": "4afe00e8-2d77-460b-835e-96a5cfa8d4eb",
   "metadata": {},
   "source": [
    "# Selenium 사용하기\n",
    "* 크롬 115이상 버전부터 부터 드라이버 설치 불필요\n",
    "* 셀레니움4 부터 문법 변경\n",
    "* https://www.selenium.dev/documentation/\n",
    "셀레니움으로는 스크래핑하면 너무 느리므로, 동적 웹페이지 접속 및 이벤트 발생 역할 만 하고, 파싱은 BS4를 쓰는게 좋다."
   ]
  },
  {
   "cell_type": "code",
   "execution_count": 2,
   "id": "34ef534f-2767-4e4b-9230-c42c628336cc",
   "metadata": {
    "collapsed": true,
    "jupyter": {
     "outputs_hidden": true
    },
    "tags": []
   },
   "outputs": [
    {
     "name": "stdout",
     "output_type": "stream",
     "text": [
      "Collecting selenium\n",
      "  Obtaining dependency information for selenium from https://files.pythonhosted.org/packages/f2/7d/3a0b9c229d87a189b64c3b8e6d87a970a1ef7875995dc31bd18e65fa1c17/selenium-4.22.0-py3-none-any.whl.metadata\n",
      "  Downloading selenium-4.22.0-py3-none-any.whl.metadata (7.0 kB)\n",
      "Requirement already satisfied: urllib3[socks]<3,>=1.26 in c:\\users\\maeng\\anaconda3\\lib\\site-packages (from selenium) (1.26.16)\n",
      "Collecting trio~=0.17 (from selenium)\n",
      "  Obtaining dependency information for trio~=0.17 from https://files.pythonhosted.org/packages/76/51/12d78ec8abcbda51d8f115d98ebd3ee3da9d9d9af00ac69d3097c5b8d51a/trio-0.25.1-py3-none-any.whl.metadata\n",
      "  Downloading trio-0.25.1-py3-none-any.whl.metadata (8.7 kB)\n",
      "Collecting trio-websocket~=0.9 (from selenium)\n",
      "  Obtaining dependency information for trio-websocket~=0.9 from https://files.pythonhosted.org/packages/48/be/a9ae5f50cad5b6f85bd2574c2c923730098530096e170c1ce7452394d7aa/trio_websocket-0.11.1-py3-none-any.whl.metadata\n",
      "  Using cached trio_websocket-0.11.1-py3-none-any.whl.metadata (4.7 kB)\n",
      "Requirement already satisfied: certifi>=2021.10.8 in c:\\users\\maeng\\anaconda3\\lib\\site-packages (from selenium) (2023.7.22)\n",
      "Collecting typing_extensions>=4.9.0 (from selenium)\n",
      "  Obtaining dependency information for typing_extensions>=4.9.0 from https://files.pythonhosted.org/packages/26/9f/ad63fc0248c5379346306f8668cda6e2e2e9c95e01216d2b8ffd9ff037d0/typing_extensions-4.12.2-py3-none-any.whl.metadata\n",
      "  Downloading typing_extensions-4.12.2-py3-none-any.whl.metadata (3.0 kB)\n",
      "Collecting websocket-client>=1.8.0 (from selenium)\n",
      "  Obtaining dependency information for websocket-client>=1.8.0 from https://files.pythonhosted.org/packages/5a/84/44687a29792a70e111c5c477230a72c4b957d88d16141199bf9acb7537a3/websocket_client-1.8.0-py3-none-any.whl.metadata\n",
      "  Downloading websocket_client-1.8.0-py3-none-any.whl.metadata (8.0 kB)\n",
      "Collecting attrs>=23.2.0 (from trio~=0.17->selenium)\n",
      "  Obtaining dependency information for attrs>=23.2.0 from https://files.pythonhosted.org/packages/e0/44/827b2a91a5816512fcaf3cc4ebc465ccd5d598c45cefa6703fcf4a79018f/attrs-23.2.0-py3-none-any.whl.metadata\n",
      "  Downloading attrs-23.2.0-py3-none-any.whl.metadata (9.5 kB)\n",
      "Requirement already satisfied: sortedcontainers in c:\\users\\maeng\\anaconda3\\lib\\site-packages (from trio~=0.17->selenium) (2.4.0)\n",
      "Requirement already satisfied: idna in c:\\users\\maeng\\anaconda3\\lib\\site-packages (from trio~=0.17->selenium) (3.4)\n",
      "Collecting outcome (from trio~=0.17->selenium)\n",
      "  Obtaining dependency information for outcome from https://files.pythonhosted.org/packages/55/8b/5ab7257531a5d830fc8000c476e63c935488d74609b50f9384a643ec0a62/outcome-1.3.0.post0-py2.py3-none-any.whl.metadata\n",
      "  Using cached outcome-1.3.0.post0-py2.py3-none-any.whl.metadata (2.6 kB)\n",
      "Collecting sniffio>=1.3.0 (from trio~=0.17->selenium)\n",
      "  Obtaining dependency information for sniffio>=1.3.0 from https://files.pythonhosted.org/packages/e9/44/75a9c9421471a6c4805dbf2356f7c181a29c1879239abab1ea2cc8f38b40/sniffio-1.3.1-py3-none-any.whl.metadata\n",
      "  Downloading sniffio-1.3.1-py3-none-any.whl.metadata (3.9 kB)\n",
      "Requirement already satisfied: cffi>=1.14 in c:\\users\\maeng\\anaconda3\\lib\\site-packages (from trio~=0.17->selenium) (1.15.1)\n",
      "Collecting wsproto>=0.14 (from trio-websocket~=0.9->selenium)\n",
      "  Obtaining dependency information for wsproto>=0.14 from https://files.pythonhosted.org/packages/78/58/e860788190eba3bcce367f74d29c4675466ce8dddfba85f7827588416f01/wsproto-1.2.0-py3-none-any.whl.metadata\n",
      "  Downloading wsproto-1.2.0-py3-none-any.whl.metadata (5.6 kB)\n",
      "Requirement already satisfied: PySocks!=1.5.7,<2.0,>=1.5.6 in c:\\users\\maeng\\anaconda3\\lib\\site-packages (from urllib3[socks]<3,>=1.26->selenium) (1.7.1)\n",
      "Requirement already satisfied: pycparser in c:\\users\\maeng\\anaconda3\\lib\\site-packages (from cffi>=1.14->trio~=0.17->selenium) (2.21)\n",
      "Collecting h11<1,>=0.9.0 (from wsproto>=0.14->trio-websocket~=0.9->selenium)\n",
      "  Obtaining dependency information for h11<1,>=0.9.0 from https://files.pythonhosted.org/packages/95/04/ff642e65ad6b90db43e668d70ffb6736436c7ce41fcc549f4e9472234127/h11-0.14.0-py3-none-any.whl.metadata\n",
      "  Downloading h11-0.14.0-py3-none-any.whl.metadata (8.2 kB)\n",
      "Downloading selenium-4.22.0-py3-none-any.whl (9.4 MB)\n",
      "   ---------------------------------------- 0.0/9.4 MB ? eta -:--:--\n",
      "   -- ------------------------------------- 0.5/9.4 MB 7.8 MB/s eta 0:00:02\n",
      "   ---- ----------------------------------- 1.1/9.4 MB 10.4 MB/s eta 0:00:01\n",
      "   ------ --------------------------------- 1.5/9.4 MB 9.8 MB/s eta 0:00:01\n",
      "   --------- ------------------------------ 2.2/9.4 MB 10.7 MB/s eta 0:00:01\n",
      "   ----------- ---------------------------- 2.7/9.4 MB 10.8 MB/s eta 0:00:01\n",
      "   ------------- -------------------------- 3.2/9.4 MB 11.3 MB/s eta 0:00:01\n",
      "   --------------- ------------------------ 3.7/9.4 MB 10.9 MB/s eta 0:00:01\n",
      "   ------------------ --------------------- 4.2/9.4 MB 11.3 MB/s eta 0:00:01\n",
      "   -------------------- ------------------- 4.8/9.4 MB 11.3 MB/s eta 0:00:01\n",
      "   ---------------------- ----------------- 5.3/9.4 MB 11.3 MB/s eta 0:00:01\n",
      "   ------------------------ --------------- 5.7/9.4 MB 11.4 MB/s eta 0:00:01\n",
      "   -------------------------- ------------- 6.2/9.4 MB 10.6 MB/s eta 0:00:01\n",
      "   ----------------------------- ---------- 7.0/9.4 MB 11.3 MB/s eta 0:00:01\n",
      "   -------------------------------- ------- 7.6/9.4 MB 11.3 MB/s eta 0:00:01\n",
      "   ---------------------------------- ----- 8.1/9.4 MB 11.3 MB/s eta 0:00:01\n",
      "   ------------------------------------ --- 8.6/9.4 MB 11.2 MB/s eta 0:00:01\n",
      "   -------------------------------------- - 9.1/9.4 MB 11.2 MB/s eta 0:00:01\n",
      "   ---------------------------------------  9.4/9.4 MB 11.4 MB/s eta 0:00:01\n",
      "   ---------------------------------------- 9.4/9.4 MB 10.4 MB/s eta 0:00:00\n",
      "Downloading trio-0.25.1-py3-none-any.whl (467 kB)\n",
      "   ---------------------------------------- 0.0/467.7 kB ? eta -:--:--\n",
      "   --------------------------------------  460.8/467.7 kB 14.5 MB/s eta 0:00:01\n",
      "   ---------------------------------------- 467.7/467.7 kB 9.7 MB/s eta 0:00:00\n",
      "Using cached trio_websocket-0.11.1-py3-none-any.whl (17 kB)\n",
      "Downloading typing_extensions-4.12.2-py3-none-any.whl (37 kB)\n",
      "Downloading websocket_client-1.8.0-py3-none-any.whl (58 kB)\n",
      "   ---------------------------------------- 0.0/58.8 kB ? eta -:--:--\n",
      "   ---------------------------------------- 58.8/58.8 kB 3.2 MB/s eta 0:00:00\n",
      "Downloading attrs-23.2.0-py3-none-any.whl (60 kB)\n",
      "   ---------------------------------------- 0.0/60.8 kB ? eta -:--:--\n",
      "   ---------------------------------------- 60.8/60.8 kB 3.2 MB/s eta 0:00:00\n",
      "Downloading sniffio-1.3.1-py3-none-any.whl (10 kB)\n",
      "Using cached wsproto-1.2.0-py3-none-any.whl (24 kB)\n",
      "Using cached outcome-1.3.0.post0-py2.py3-none-any.whl (10 kB)\n",
      "Using cached h11-0.14.0-py3-none-any.whl (58 kB)\n",
      "Installing collected packages: websocket-client, typing_extensions, sniffio, h11, attrs, wsproto, outcome, trio, trio-websocket, selenium\n",
      "  Attempting uninstall: websocket-client\n",
      "    Found existing installation: websocket-client 0.58.0\n",
      "    Uninstalling websocket-client-0.58.0:\n",
      "      Successfully uninstalled websocket-client-0.58.0\n",
      "  Attempting uninstall: typing_extensions\n",
      "    Found existing installation: typing_extensions 4.7.1\n",
      "    Uninstalling typing_extensions-4.7.1:\n",
      "      Successfully uninstalled typing_extensions-4.7.1\n",
      "  Attempting uninstall: sniffio\n",
      "    Found existing installation: sniffio 1.2.0\n",
      "    Uninstalling sniffio-1.2.0:\n",
      "      Successfully uninstalled sniffio-1.2.0\n",
      "  Attempting uninstall: attrs\n",
      "    Found existing installation: attrs 22.1.0\n",
      "    Uninstalling attrs-22.1.0:\n",
      "      Successfully uninstalled attrs-22.1.0\n",
      "Successfully installed attrs-23.2.0 h11-0.14.0 outcome-1.3.0.post0 selenium-4.22.0 sniffio-1.3.1 trio-0.25.1 trio-websocket-0.11.1 typing_extensions-4.12.2 websocket-client-1.8.0 wsproto-1.2.0\n"
     ]
    }
   ],
   "source": [
    "# 셀레니움 라이브러리 설치\n",
    "!pip install selenium"
   ]
  },
  {
   "cell_type": "code",
   "execution_count": 11,
   "id": "3d1e3e3f-6863-40b2-a339-c434705a21f6",
   "metadata": {
    "tags": []
   },
   "outputs": [
    {
     "data": {
      "text/plain": [
       "<selenium.webdriver.chrome.options.Options at 0x14f52524710>"
      ]
     },
     "execution_count": 11,
     "metadata": {},
     "output_type": "execute_result"
    }
   ],
   "source": [
    "from selenium import webdriver\n",
    "from selenium.webdriver.common.by import By\n",
    "from selenium.webdriver.chrome.options import Options\n",
    "import time\n",
    "\n",
    "options = Options()\n",
    "options"
   ]
  },
  {
   "cell_type": "code",
   "execution_count": 14,
   "id": "c778d2a6-5a83-4e01-ad70-4b15657f2d2b",
   "metadata": {
    "tags": []
   },
   "outputs": [],
   "source": [
    "#특정함수안에서  드라이버 생성시 함수종료될 때 브라우저 같이 종료되는 문제 대응\n",
    "options.add_experimental_option(\"detach\", True)"
   ]
  },
  {
   "cell_type": "markdown",
   "id": "d6dda38a-6464-40f4-b2a1-5bddfd958a8e",
   "metadata": {},
   "source": [
    "## 브라우저 실행 및 페이지 접속"
   ]
  },
  {
   "cell_type": "code",
   "execution_count": 18,
   "id": "2ffa3ebc-b3c4-42b7-ad40-9f975f5bed88",
   "metadata": {
    "tags": []
   },
   "outputs": [],
   "source": [
    "url = 'https://naver.com'\n",
    "driver = webdriver.Chrome(options=options)"
   ]
  },
  {
   "cell_type": "code",
   "execution_count": 20,
   "id": "43c71f77-98ed-4f33-8c71-00940d8ed94f",
   "metadata": {
    "tags": []
   },
   "outputs": [],
   "source": [
    "driver.get(url)\n",
    "time.sleep(2) "
   ]
  },
  {
   "cell_type": "markdown",
   "id": "26ee3a47-b767-4a1b-a097-2c8e1efc726b",
   "metadata": {},
   "source": [
    "## 상호작용"
   ]
  },
  {
   "cell_type": "code",
   "execution_count": 22,
   "id": "5d27cca0-dc0f-40e6-82b3-2f5f6b5c5483",
   "metadata": {
    "tags": []
   },
   "outputs": [],
   "source": [
    "driver.back()"
   ]
  },
  {
   "cell_type": "code",
   "execution_count": 23,
   "id": "2fd80d01-3930-4f08-a023-0d16f0d5a691",
   "metadata": {
    "tags": []
   },
   "outputs": [],
   "source": [
    "driver.forward()"
   ]
  },
  {
   "cell_type": "code",
   "execution_count": 24,
   "id": "a07c9c8e-834c-4bb1-9d3d-5810f7e2eb85",
   "metadata": {
    "tags": []
   },
   "outputs": [],
   "source": [
    "driver.refresh()"
   ]
  },
  {
   "cell_type": "markdown",
   "id": "5b582b39-2b36-4299-ab6d-8db75a18866c",
   "metadata": {},
   "source": [
    "## 페이지 정보 가져오기"
   ]
  },
  {
   "cell_type": "code",
   "execution_count": 25,
   "id": "b084b05c-216a-4042-9228-61eb48e51448",
   "metadata": {
    "tags": []
   },
   "outputs": [
    {
     "name": "stdout",
     "output_type": "stream",
     "text": [
      "NAVER https://www.naver.com/ 31961FB7C4EA65797E28D6D5B3AFAE88\n"
     ]
    }
   ],
   "source": [
    "title = driver.title\n",
    "url = driver.current_url\n",
    "handle = driver.current_window_handle\n",
    "print(title, url, handle)"
   ]
  },
  {
   "cell_type": "markdown",
   "id": "c5f784fb-ac51-4d6f-a4e7-3f6baca78cad",
   "metadata": {},
   "source": [
    "## HTML 요소 찾기\n",
    "네이버 검색창을 핸들링 해보자.\n",
    "\n",
    "```html\n",
    "<input id=\"query\" name=\"query\" type=\"search\" title=\"검색어를 입력해 주세요.\" placeholder=\"검색어를 입력해 주세요.\" maxlength=\"255\" autocomplete=\"off\" class=\"search_input\" data-atcmp-element=\"\">\n",
    "```"
   ]
  },
  {
   "cell_type": "code",
   "execution_count": 26,
   "id": "e43ec0a9-7996-454f-addc-449076178387",
   "metadata": {
    "tags": []
   },
   "outputs": [
    {
     "data": {
      "text/plain": [
       "\u001b[1;31mSignature:\u001b[0m \u001b[0mdriver\u001b[0m\u001b[1;33m.\u001b[0m\u001b[0mfind_element\u001b[0m\u001b[1;33m(\u001b[0m\u001b[0mby\u001b[0m\u001b[1;33m=\u001b[0m\u001b[1;34m'id'\u001b[0m\u001b[1;33m,\u001b[0m \u001b[0mvalue\u001b[0m\u001b[1;33m:\u001b[0m \u001b[0mOptional\u001b[0m\u001b[1;33m[\u001b[0m\u001b[0mstr\u001b[0m\u001b[1;33m]\u001b[0m \u001b[1;33m=\u001b[0m \u001b[1;32mNone\u001b[0m\u001b[1;33m)\u001b[0m \u001b[1;33m->\u001b[0m \u001b[0mselenium\u001b[0m\u001b[1;33m.\u001b[0m\u001b[0mwebdriver\u001b[0m\u001b[1;33m.\u001b[0m\u001b[0mremote\u001b[0m\u001b[1;33m.\u001b[0m\u001b[0mwebelement\u001b[0m\u001b[1;33m.\u001b[0m\u001b[0mWebElement\u001b[0m\u001b[1;33m\u001b[0m\u001b[1;33m\u001b[0m\u001b[0m\n",
       "\u001b[1;31mDocstring:\u001b[0m\n",
       "Find an element given a By strategy and locator.\n",
       "\n",
       ":Usage:\n",
       "    ::\n",
       "\n",
       "        element = driver.find_element(By.ID, 'foo')\n",
       "\n",
       ":rtype: WebElement\n",
       "\u001b[1;31mFile:\u001b[0m      c:\\users\\maeng\\anaconda3\\lib\\site-packages\\selenium\\webdriver\\remote\\webdriver.py\n",
       "\u001b[1;31mType:\u001b[0m      method\n"
      ]
     },
     "metadata": {},
     "output_type": "display_data"
    }
   ],
   "source": [
    "driver.find_element?"
   ]
  },
  {
   "cell_type": "code",
   "execution_count": 27,
   "id": "349af618-41f9-4f4b-88bc-210d3bf6712a",
   "metadata": {
    "tags": []
   },
   "outputs": [
    {
     "data": {
      "text/plain": [
       "<selenium.webdriver.remote.webelement.WebElement (session=\"86854a800fc644cfbe64ca7087725434\", element=\"f.31961FB7C4EA65797E28D6D5B3AFAE88.d.410CDFCE07CD88FA06138CB8969D122D.e.76\")>"
      ]
     },
     "execution_count": 27,
     "metadata": {},
     "output_type": "execute_result"
    }
   ],
   "source": [
    "driver.find_element(By.ID, 'query')"
   ]
  },
  {
   "cell_type": "code",
   "execution_count": 28,
   "id": "0fdd6d96-c39c-49cb-b851-edc65d7dde22",
   "metadata": {
    "tags": []
   },
   "outputs": [],
   "source": [
    "# 키 입력\n",
    "driver.find_element(By.ID, 'query').send_keys('뉴진스')"
   ]
  },
  {
   "cell_type": "code",
   "execution_count": 29,
   "id": "78b333f6-6cd4-4ffd-bbe3-6c58cd5e5e46",
   "metadata": {
    "tags": []
   },
   "outputs": [],
   "source": [
    "driver.find_element(By.CLASS_NAME, 'search_input').send_keys('블랙핑크')"
   ]
  },
  {
   "cell_type": "code",
   "execution_count": 30,
   "id": "0b2bed93-b6b9-4a19-b1f8-3f7576f65c41",
   "metadata": {
    "tags": []
   },
   "outputs": [],
   "source": [
    "driver.find_element(By.NAME, 'query').send_keys('르세라핌')"
   ]
  },
  {
   "cell_type": "code",
   "execution_count": 31,
   "id": "a9afe2d1-b62e-4bf1-9955-f9b47c327d76",
   "metadata": {
    "tags": []
   },
   "outputs": [],
   "source": [
    "driver.find_element(By.CSS_SELECTOR, '#query').send_keys('에스파')"
   ]
  },
  {
   "cell_type": "code",
   "execution_count": 32,
   "id": "8bea875d-48df-4179-9e3d-e53d21df673d",
   "metadata": {
    "tags": []
   },
   "outputs": [],
   "source": [
    "driver.find_element(By.CSS_SELECTOR, '.search_input').send_keys('세븐틴')"
   ]
  },
  {
   "cell_type": "code",
   "execution_count": 34,
   "id": "4edc90d2-2563-4981-9a59-a574b43863ff",
   "metadata": {
    "tags": []
   },
   "outputs": [],
   "source": [
    "driver.find_element(By.CSS_SELECTOR, \"[title='검색어를 입력해 주세요.']\").send_keys('트와이스')"
   ]
  },
  {
   "cell_type": "code",
   "execution_count": 35,
   "id": "e7fcbe86-b9eb-428b-8131-260cd7967e72",
   "metadata": {
    "tags": []
   },
   "outputs": [],
   "source": [
    "driver.find_element(By.XPATH, '//*[@id=\"query\"]').send_keys('BTS')"
   ]
  },
  {
   "cell_type": "markdown",
   "id": "6e7e7e81-e407-43c5-a77a-bc0e095a81e1",
   "metadata": {},
   "source": [
    "## 클릭\n",
    "네이버 쇼핑 메뉴를 클릭해보자."
   ]
  },
  {
   "cell_type": "code",
   "execution_count": 36,
   "id": "021bb2c3-453c-4e73-a08d-205d13173101",
   "metadata": {
    "tags": []
   },
   "outputs": [
    {
     "data": {
      "text/plain": [
       "<selenium.webdriver.remote.webelement.WebElement (session=\"86854a800fc644cfbe64ca7087725434\", element=\"f.31961FB7C4EA65797E28D6D5B3AFAE88.d.410CDFCE07CD88FA06138CB8969D122D.e.612\")>"
      ]
     },
     "execution_count": 36,
     "metadata": {},
     "output_type": "execute_result"
    }
   ],
   "source": [
    "driver.find_element(By.LINK_TEXT, '쇼핑')"
   ]
  },
  {
   "cell_type": "code",
   "execution_count": 37,
   "id": "589c6a55-0368-4667-be7f-e127c5f0745e",
   "metadata": {
    "tags": []
   },
   "outputs": [],
   "source": [
    "driver.find_element(By.LINK_TEXT, '쇼핑').click()"
   ]
  },
  {
   "cell_type": "code",
   "execution_count": 38,
   "id": "78c29a4c-ccfb-4af0-8428-8cec8c628bb9",
   "metadata": {
    "tags": []
   },
   "outputs": [],
   "source": [
    "# 일부 매칭\n",
    "driver.find_element(By.PARTIAL_LINK_TEXT, '증').click()"
   ]
  },
  {
   "cell_type": "code",
   "execution_count": 39,
   "id": "ba108200-2ef2-4cff-be8d-8d245f7d460d",
   "metadata": {
    "tags": []
   },
   "outputs": [
    {
     "data": {
      "text/plain": [
       "<selenium.webdriver.remote.webelement.WebElement (session=\"86854a800fc644cfbe64ca7087725434\", element=\"f.31961FB7C4EA65797E28D6D5B3AFAE88.d.410CDFCE07CD88FA06138CB8969D122D.e.290\")>"
      ]
     },
     "execution_count": 39,
     "metadata": {},
     "output_type": "execute_result"
    }
   ],
   "source": [
    "# 태그로 찾기 \n",
    "# 태그는 요소가 너무 많으므로 정확하게 대상을 찾을 때에는 권장 안함\n",
    "driver.find_element(By.TAG_NAME, 'div')"
   ]
  },
  {
   "cell_type": "code",
   "execution_count": 40,
   "id": "9181a6ed-2417-4683-a0fb-29642c5eb62c",
   "metadata": {
    "tags": []
   },
   "outputs": [
    {
     "data": {
      "text/plain": [
       "[<selenium.webdriver.remote.webelement.WebElement (session=\"86854a800fc644cfbe64ca7087725434\", element=\"f.31961FB7C4EA65797E28D6D5B3AFAE88.d.410CDFCE07CD88FA06138CB8969D122D.e.600\")>,\n",
       " <selenium.webdriver.remote.webelement.WebElement (session=\"86854a800fc644cfbe64ca7087725434\", element=\"f.31961FB7C4EA65797E28D6D5B3AFAE88.d.410CDFCE07CD88FA06138CB8969D122D.e.604\")>,\n",
       " <selenium.webdriver.remote.webelement.WebElement (session=\"86854a800fc644cfbe64ca7087725434\", element=\"f.31961FB7C4EA65797E28D6D5B3AFAE88.d.410CDFCE07CD88FA06138CB8969D122D.e.608\")>,\n",
       " <selenium.webdriver.remote.webelement.WebElement (session=\"86854a800fc644cfbe64ca7087725434\", element=\"f.31961FB7C4EA65797E28D6D5B3AFAE88.d.410CDFCE07CD88FA06138CB8969D122D.e.612\")>,\n",
       " <selenium.webdriver.remote.webelement.WebElement (session=\"86854a800fc644cfbe64ca7087725434\", element=\"f.31961FB7C4EA65797E28D6D5B3AFAE88.d.410CDFCE07CD88FA06138CB8969D122D.e.616\")>,\n",
       " <selenium.webdriver.remote.webelement.WebElement (session=\"86854a800fc644cfbe64ca7087725434\", element=\"f.31961FB7C4EA65797E28D6D5B3AFAE88.d.410CDFCE07CD88FA06138CB8969D122D.e.620\")>,\n",
       " <selenium.webdriver.remote.webelement.WebElement (session=\"86854a800fc644cfbe64ca7087725434\", element=\"f.31961FB7C4EA65797E28D6D5B3AFAE88.d.410CDFCE07CD88FA06138CB8969D122D.e.625\")>,\n",
       " <selenium.webdriver.remote.webelement.WebElement (session=\"86854a800fc644cfbe64ca7087725434\", element=\"f.31961FB7C4EA65797E28D6D5B3AFAE88.d.410CDFCE07CD88FA06138CB8969D122D.e.630\")>,\n",
       " <selenium.webdriver.remote.webelement.WebElement (session=\"86854a800fc644cfbe64ca7087725434\", element=\"f.31961FB7C4EA65797E28D6D5B3AFAE88.d.410CDFCE07CD88FA06138CB8969D122D.e.635\")>,\n",
       " <selenium.webdriver.remote.webelement.WebElement (session=\"86854a800fc644cfbe64ca7087725434\", element=\"f.31961FB7C4EA65797E28D6D5B3AFAE88.d.410CDFCE07CD88FA06138CB8969D122D.e.640\")>,\n",
       " <selenium.webdriver.remote.webelement.WebElement (session=\"86854a800fc644cfbe64ca7087725434\", element=\"f.31961FB7C4EA65797E28D6D5B3AFAE88.d.410CDFCE07CD88FA06138CB8969D122D.e.646\")>,\n",
       " <selenium.webdriver.remote.webelement.WebElement (session=\"86854a800fc644cfbe64ca7087725434\", element=\"f.31961FB7C4EA65797E28D6D5B3AFAE88.d.410CDFCE07CD88FA06138CB8969D122D.e.651\")>]"
      ]
     },
     "execution_count": 40,
     "metadata": {},
     "output_type": "execute_result"
    }
   ],
   "source": [
    "# 여러개의 요소를 찾을 때\n",
    "driver.find_elements(By.CSS_SELECTOR, '.link_service')"
   ]
  },
  {
   "cell_type": "code",
   "execution_count": 42,
   "id": "43543f30-ed73-4822-8fcb-73cc0ee2d1a4",
   "metadata": {
    "tags": []
   },
   "outputs": [
    {
     "data": {
      "text/plain": [
       "'https://mail.naver.com/'"
      ]
     },
     "execution_count": 42,
     "metadata": {},
     "output_type": "execute_result"
    }
   ],
   "source": [
    "driver.find_elements(By.CSS_SELECTOR, '.link_service')[0].get_attribute('href')"
   ]
  },
  {
   "cell_type": "code",
   "execution_count": 43,
   "id": "7a8962d2-1854-4453-972b-92f9d5385623",
   "metadata": {
    "tags": []
   },
   "outputs": [
    {
     "name": "stdout",
     "output_type": "stream",
     "text": [
      "https://mail.naver.com/\n",
      "https://cafe.naver.com/\n",
      "https://blog.naver.com/\n",
      "https://shopping.naver.com/home\n",
      "https://news.naver.com/\n",
      "https://finance.naver.com/\n",
      "https://land.naver.com/\n",
      "https://map.naver.com/\n",
      "https://comic.naver.com/\n",
      "https://chzzk.naver.com/\n",
      "https://www.naver.com/#\n",
      "https://siape.veta.naver.com/rd?rk=oFDxqZS2UPFRJmacodWLXg&eltts=DCLofzx%2Ffvfz5J0VVpHcGg%3D%3D&elu=5BA297C9C3C09BC2A363AD20A2AF2280AA600BB0F1224856B1E3B0CD8C7D5F6341BB3F4A77A5F39CD5816E901BFB74C92B046500D36C473274A2DF28B9D9C604F0D8675FDAF22A996AAEFDEE92BA1FCD697E5F7ECC82BD74C279AA95D9F31FA9106C54B228F25590EF823CA4768D6219CE38D6604E0A5B1E37F2638BC6781F9C11558072D11F35C32974B5BB046BA45A07622F9BABB7473FC14AA7FD36BB50D4C307E017657B6DA136AEBAC7EC891C9F5A5055A972A333181061B1E2DFE2FFA222D84ADDACB9E6F9A16E1D652D3EB8C135B6437DC7CF883F1EC60C9651D1C4C8275A98C850A13EBB65F5FD32FB60BCB30C5AAF736F12400C4367DD0044542B197217E62475235BEA68AE097A170AD5A51C9BA44515B9413323BB5209DB9989423CBE869AF6166CD217D8BCE67BD4C347A770EFF33A787CD5B717D9E0272BB73CAC78F645B2BFA01A917F4F9D04227106B8DDBDF0198AA39CF0630EE44B85EA2214A5DCF9756E8174E98321FF3E1C85C21BE32BC7EF47224CE9A8B79B0B4B1628&tr=ndp\n"
     ]
    }
   ],
   "source": [
    "links = driver.find_elements(By.CSS_SELECTOR, '.link_service')\n",
    "for link in links:\n",
    "    print(link.get_attribute('href'))"
   ]
  },
  {
   "cell_type": "markdown",
   "id": "686eeb13-0d5a-4174-bfd7-0a812e41dd79",
   "metadata": {},
   "source": [
    "## 자동 로그인 연습"
   ]
  },
  {
   "cell_type": "code",
   "execution_count": 45,
   "id": "63782799-73e8-4a0b-9ad4-310921d743c4",
   "metadata": {
    "tags": []
   },
   "outputs": [],
   "source": [
    "#  테스트용 html\n",
    "url = 'file:///C:/workspace/WASSUP3/02_Python_Collection/sample/signin.html'\n",
    "driver = webdriver.Chrome(options=options)\n",
    "driver.get(url)\n",
    "time.sleep(2)"
   ]
  },
  {
   "cell_type": "code",
   "execution_count": 59,
   "id": "cab50c26-bbc6-49c5-bc0a-a2d8a0ea8746",
   "metadata": {
    "tags": []
   },
   "outputs": [],
   "source": [
    "username = driver.find_element(By.NAME, \"username\")\n",
    "username.send_keys('korea')"
   ]
  },
  {
   "cell_type": "code",
   "execution_count": 58,
   "id": "2842ffd7-7291-4ce6-94f5-8b34576cb18d",
   "metadata": {
    "tags": []
   },
   "outputs": [],
   "source": [
    "password = driver.find_element(By.NAME, \"password\")\n",
    "password.send_keys('1234')"
   ]
  },
  {
   "cell_type": "code",
   "execution_count": 51,
   "id": "4cf74ffe-e3a7-487f-abd1-b33b05932275",
   "metadata": {
    "tags": []
   },
   "outputs": [],
   "source": [
    "login = driver.find_element(By.XPATH, '//*[@id=\"loginForm\"]/input[3]')\n",
    "login.click()"
   ]
  },
  {
   "cell_type": "code",
   "execution_count": 52,
   "id": "fbd7281b-1f81-4708-9340-3605f85449fd",
   "metadata": {
    "tags": []
   },
   "outputs": [],
   "source": [
    "driver.back()"
   ]
  },
  {
   "cell_type": "code",
   "execution_count": 53,
   "id": "b4d3c180-cf6f-4425-91ba-d01594f81984",
   "metadata": {
    "tags": []
   },
   "outputs": [],
   "source": [
    "login = driver.find_element(By.XPATH, '/html/body/form/input[3]')\n",
    "login.click()"
   ]
  },
  {
   "cell_type": "code",
   "execution_count": 54,
   "id": "0d8f3a0a-db1b-48b3-9e6f-187f20be471e",
   "metadata": {
    "tags": []
   },
   "outputs": [],
   "source": [
    "driver.back()"
   ]
  },
  {
   "cell_type": "code",
   "execution_count": 55,
   "id": "f0ee4712-7a8f-4bc6-a899-2640abe59c59",
   "metadata": {
    "tags": []
   },
   "outputs": [],
   "source": [
    "login = driver.find_element(By.CSS_SELECTOR, '[value=Login]')\n",
    "login.click()"
   ]
  },
  {
   "cell_type": "code",
   "execution_count": 56,
   "id": "b6f43519-00cf-482f-9988-8338d646e1ca",
   "metadata": {
    "tags": []
   },
   "outputs": [],
   "source": [
    "driver.back()"
   ]
  },
  {
   "cell_type": "code",
   "execution_count": 60,
   "id": "f3298dd4-6ec8-4b21-90d2-c092d2c26a2f",
   "metadata": {
    "tags": []
   },
   "outputs": [],
   "source": [
    "username.clear()"
   ]
  },
  {
   "cell_type": "code",
   "execution_count": 61,
   "id": "14ef2075-135f-406a-bcda-75d857e3b4c2",
   "metadata": {
    "tags": []
   },
   "outputs": [],
   "source": [
    "password.clear()"
   ]
  },
  {
   "cell_type": "code",
   "execution_count": 62,
   "id": "a273c45e-3bd3-46e3-9715-66734a204746",
   "metadata": {
    "tags": []
   },
   "outputs": [],
   "source": [
    "username = driver.find_element(By.NAME, \"username\")\n",
    "username.send_keys('korea')\n",
    "password = driver.find_element(By.NAME, \"password\")\n",
    "password.send_keys('1234')"
   ]
  },
  {
   "cell_type": "code",
   "execution_count": 63,
   "id": "04630ae9-af41-4f67-9a78-f3743110b48f",
   "metadata": {
    "tags": []
   },
   "outputs": [],
   "source": [
    "username.submit()"
   ]
  },
  {
   "cell_type": "code",
   "execution_count": 64,
   "id": "14d557ae-b856-49bb-b9dd-8dbc1889f884",
   "metadata": {
    "tags": []
   },
   "outputs": [],
   "source": [
    "driver.back()"
   ]
  },
  {
   "cell_type": "code",
   "execution_count": 65,
   "id": "e84fac48-ac20-4a7e-b0fc-398dfa950275",
   "metadata": {
    "tags": []
   },
   "outputs": [
    {
     "data": {
      "text/plain": [
       "'Are you sure you want to do this?'"
      ]
     },
     "execution_count": 65,
     "metadata": {},
     "output_type": "execute_result"
    }
   ],
   "source": [
    "driver.find_element(By.TAG_NAME, 'p').text"
   ]
  },
  {
   "cell_type": "code",
   "execution_count": 66,
   "id": "82eb48fc-6f9c-45a9-9db6-78969cf5f354",
   "metadata": {
    "tags": []
   },
   "outputs": [
    {
     "data": {
      "text/plain": [
       "'<html><head></head><body>\\n        <h1> Sign In </h1>\\n        <form action=\"moved.html\" id=\"loginForm\">\\n            ID : <input name=\"username\" type=\"text\"> <br>\\n            Password : <input name=\"password\" type=\"password\"> <br>\\n\\n            <input name=\"continue\" type=\"submit\" value=\"Login\">\\n            <input name=\"continue\" type=\"button\" value=\"Clear\">\\n        \\n        </form>\\n\\n        <p>Are you sure you want to do this?</p>\\n        <a href=\"continue.html\">Continue</a>\\n        <a href=\"cancel.html\">Cancel</a>\\n\\n        <h1>Welcome</h1>\\n        <p>Site content goes here.</p>\\n        <p class=\"content\">Site content goes here.</p>\\n    \\n</body></html>'"
      ]
     },
     "execution_count": 66,
     "metadata": {},
     "output_type": "execute_result"
    }
   ],
   "source": [
    "# html 소스 추출하기\n",
    "driver.page_source"
   ]
  },
  {
   "cell_type": "code",
   "execution_count": 67,
   "id": "c680f0af-6b61-4f24-b26d-25fc71c5123a",
   "metadata": {
    "tags": []
   },
   "outputs": [],
   "source": [
    "driver.close()"
   ]
  },
  {
   "cell_type": "markdown",
   "id": "3ce1b235-0412-4980-8e58-4ecb06a3bc6e",
   "metadata": {},
   "source": [
    "## options"
   ]
  },
  {
   "cell_type": "code",
   "execution_count": 1,
   "id": "0bfebc16-57df-4f2e-a0e7-9d169dfd62b9",
   "metadata": {
    "tags": []
   },
   "outputs": [],
   "source": [
    "from selenium import webdriver\n",
    "from selenium.webdriver.common.by import By\n",
    "from selenium.webdriver.chrome.options import Options\n",
    "import time\n",
    "\n",
    "options = Options()\n",
    "options.add_argument(\"--headless=new\") \n",
    "# options.add_argument('--window-size= x, y') #실행되는 브라우저 크기를 지정할 수 있습니다.\n",
    "# options.add_argument('--start-maximized') #브라우저가 최대화된 상태로 실행됩니다.\n",
    "# options.add_argument('--start-fullscreen') #브라우저가 풀스크린 모드(F11)로 실행됩니다.\n",
    "# options.add_argument('--blink-settings=imagesEnabled=false') #브라우저에서 이미지 로딩을 하지 않습니다.\n",
    "# options.add_argument('--mute-audio') #브라우저에 음소거 옵션을 적용합니다.\n",
    "# options.add_argument('incognito') #시크릿 모드의 브라우저가 실행됩니다.\n",
    "options.add_experimental_option(\"detach\", True) #특정함수안에서  드라이버 생성시 함수종료될 때 브라우저 같이 종료되는 문제 대응"
   ]
  },
  {
   "cell_type": "code",
   "execution_count": 2,
   "id": "5cc40cd5-65d7-4cd5-9565-46258d2c6510",
   "metadata": {
    "tags": []
   },
   "outputs": [],
   "source": [
    "url = 'http://naver.com'\n",
    "driver = webdriver.Chrome(options=options)\n",
    "driver.get(url)\n",
    "time.sleep(2)"
   ]
  },
  {
   "cell_type": "code",
   "execution_count": 3,
   "id": "93ced627-1fae-451e-8472-19582a0fc63e",
   "metadata": {
    "tags": []
   },
   "outputs": [
    {
     "name": "stdout",
     "output_type": "stream",
     "text": [
      "NAVER\n"
     ]
    }
   ],
   "source": [
    "print(driver.title)"
   ]
  },
  {
   "cell_type": "code",
   "execution_count": 4,
   "id": "b008a55c-6e0a-4448-a740-02f54d0df003",
   "metadata": {
    "tags": []
   },
   "outputs": [],
   "source": [
    "driver.quit() # 탭 닫기"
   ]
  },
  {
   "cell_type": "markdown",
   "id": "ef36a680-4ffc-4b7a-96a2-e4a27d80cd53",
   "metadata": {},
   "source": [
    "## 윈도우 컨트롤"
   ]
  },
  {
   "cell_type": "code",
   "execution_count": 5,
   "id": "872b7638-0656-428e-bf00-5c03686ac269",
   "metadata": {
    "tags": []
   },
   "outputs": [],
   "source": [
    "from selenium import webdriver\n",
    "from selenium.webdriver.common.by import By\n",
    "from selenium.webdriver.chrome.options import Options\n",
    "import time\n",
    "\n",
    "options = Options()\n",
    "# options.add_argument(\"--start-maximized\")\n",
    "# options.add_argument(\"--headless=new\") \n",
    "options.add_experimental_option(\"detach\", True) #\n",
    "\n",
    "url = 'http://naver.com'\n",
    "driver = webdriver.Chrome(options=options)\n",
    "driver.get(url)\n",
    "time.sleep(2)"
   ]
  },
  {
   "cell_type": "code",
   "execution_count": 6,
   "id": "f39e1aad-67a5-4b42-98d2-36695eaad298",
   "metadata": {
    "tags": []
   },
   "outputs": [
    {
     "name": "stdout",
     "output_type": "stream",
     "text": [
      "974px 1047px\n"
     ]
    }
   ],
   "source": [
    "# 창의 너비/높이 구하기\n",
    "\n",
    "size = driver.get_window_size()\n",
    "width = size.get(\"width\")\n",
    "height = size.get(\"height\")\n",
    "\n",
    "print(str(width)+\"px\"+\" \"+str(height)+\"px\")"
   ]
  },
  {
   "cell_type": "code",
   "execution_count": 7,
   "id": "8fcfa07f-cd7c-4d4f-9916-ad57a875b1b5",
   "metadata": {
    "tags": []
   },
   "outputs": [],
   "source": [
    "# 창 크기 조절\n",
    "driver.set_window_size(800, 600)"
   ]
  },
  {
   "cell_type": "code",
   "execution_count": 9,
   "id": "bed8530d-7770-4a5b-8737-a26c87d17a0f",
   "metadata": {
    "tags": []
   },
   "outputs": [
    {
     "name": "stdout",
     "output_type": "stream",
     "text": [
      "x : -7 y : 0\n"
     ]
    }
   ],
   "source": [
    "# 스크린 상에서의 창 좌표\n",
    "position = driver.get_window_position()\n",
    "x = position.get('x')\n",
    "y = position.get('y')\n",
    "\n",
    "print(\"x : \"+str(x)+\" \"+\"y : \"+str(y))"
   ]
  },
  {
   "cell_type": "code",
   "execution_count": 10,
   "id": "450a0526-6667-4cad-9c73-a1e00fdf69a9",
   "metadata": {
    "tags": []
   },
   "outputs": [
    {
     "data": {
      "text/plain": [
       "{'height': 527, 'width': 974, 'x': 200, 'y': 200}"
      ]
     },
     "execution_count": 10,
     "metadata": {},
     "output_type": "execute_result"
    }
   ],
   "source": [
    "driver.set_window_position(200,200)"
   ]
  },
  {
   "cell_type": "code",
   "execution_count": 11,
   "id": "5ae12cc8-8ef0-4bfb-a97e-74b7cf39c673",
   "metadata": {
    "tags": []
   },
   "outputs": [],
   "source": [
    "# 창 크기 최대화\n",
    "driver.maximize_window()"
   ]
  },
  {
   "cell_type": "code",
   "execution_count": 12,
   "id": "c38a8b49-8ef7-4f0c-a135-e2a2eda02bca",
   "metadata": {
    "tags": []
   },
   "outputs": [],
   "source": [
    "# 창 크기 최소화\n",
    "driver.minimize_window()"
   ]
  },
  {
   "cell_type": "code",
   "execution_count": 13,
   "id": "0a5e685c-2063-405d-9ce0-4833eafa0e09",
   "metadata": {
    "tags": []
   },
   "outputs": [],
   "source": [
    "# 전체 화면\n",
    "driver.fullscreen_window()"
   ]
  },
  {
   "cell_type": "code",
   "execution_count": 14,
   "id": "c1bb3fbd-b634-4cdd-9592-d549fc459283",
   "metadata": {
    "tags": []
   },
   "outputs": [
    {
     "data": {
      "text/plain": [
       "True"
      ]
     },
     "execution_count": 14,
     "metadata": {},
     "output_type": "execute_result"
    }
   ],
   "source": [
    "# 스크린 샷\n",
    "driver.save_screenshot('./image.png')"
   ]
  },
  {
   "cell_type": "code",
   "execution_count": 15,
   "id": "81dd57bf-b8f9-4992-ac08-5c19a4e12dc9",
   "metadata": {
    "tags": []
   },
   "outputs": [],
   "source": [
    "driver.close()"
   ]
  },
  {
   "cell_type": "markdown",
   "id": "14ec5476-5efb-4d89-8b23-dfd7b8e693b9",
   "metadata": {},
   "source": [
    "## 예제) 네이버 블로그"
   ]
  },
  {
   "cell_type": "code",
   "execution_count": 16,
   "id": "8436a4d9-53dd-4f10-9459-17549d513207",
   "metadata": {
    "tags": []
   },
   "outputs": [],
   "source": [
    "from selenium import webdriver\n",
    "from selenium.webdriver.common.by import By\n",
    "from selenium.webdriver.chrome.options import Options\n",
    "import time, random, pandas as pd\n",
    "\n",
    "options = Options()\n",
    "options.add_argument('--window-size=974,1047')\n",
    "options.add_argument('--window-position=-7,0')\n",
    "options.add_experimental_option(\"detach\", True)"
   ]
  },
  {
   "cell_type": "code",
   "execution_count": 17,
   "id": "99410b03-2871-4ace-bcd0-8158bed6f2e4",
   "metadata": {
    "tags": []
   },
   "outputs": [],
   "source": [
    "# 웹드라이버 로드\n",
    "driver = webdriver.Chrome( options = options)"
   ]
  },
  {
   "cell_type": "code",
   "execution_count": 19,
   "id": "e1f1c07b-d18f-4920-b0eb-e4415693a2f7",
   "metadata": {
    "tags": []
   },
   "outputs": [],
   "source": [
    "# 조건 설정\n",
    "where = 'blog'\n",
    "query = '인공지능'\n",
    "dateform = '20240101to20240625'\n",
    "url = f'https://search.naver.com/search.naver?ssc=tab.{where}.all&query={query}&sm=tab_opt&nso=so%3Ar%2Cp%3Afrom{dateform}'\n",
    "# url = f'https://search.naver.com/search.naver?where={where}&query={query}&sm=tab_op&nso=so:r,p:from{dateform}'\n",
    "fname = f'{where}_{query}_{dateform}'"
   ]
  },
  {
   "cell_type": "code",
   "execution_count": 20,
   "id": "974dbf20-fd52-4855-961d-f8986162d97a",
   "metadata": {
    "tags": []
   },
   "outputs": [],
   "source": [
    "# url 접속\n",
    "driver.get(url)\n",
    "time.sleep(random.randint(2,3))"
   ]
  },
  {
   "cell_type": "markdown",
   "id": "3485f0ce-29e9-46e2-a07a-a0b03d2be289",
   "metadata": {},
   "source": [
    "## excute_script()\n",
    "```\n",
    "자바스크립트 함수(스크롤다운) 실행하기 execute_script(\"스크립트\", 요소) 해당 페이지에 스크립트를 만들 때 사용합니다. 요소는 필수 파라미터는 아니고 요소가 있으면 요소에 스크립트가 실행되고 없으면 전체 페이지에 스크립트가 움직입니다.\n",
    "\n",
    "js코드를 인자로 넣을 수 있어 브라우저 화면을 제어 할수 있게 된다. 스크롤을 하기 위해 뿐만아니라 다른 동적이벤트를 작성할 수 있다.\n",
    "\n",
    "* 화면상 스크롤 위치 이동 : scrollTo(x,Y) ,scrollTo(x,Y+number)\n",
    "* 화면 최하단으로 스크롤 이동 : scrollTo(0, document.body.scrollHeight)\n",
    "* 화면을 움직이고 페이지 로드 기다리기 : time.sleep(second)\n",
    "* 함수 호출시 전달인자들이 배열 형태로 저장된 객체 : arguments \n",
    "    * (arguments[0].click(), sample)\n",
    "    * sample요소의 첫번째 인자에 click()을 명령\n",
    "```"
   ]
  },
  {
   "cell_type": "code",
   "execution_count": 21,
   "id": "df099e13-67ea-42b4-b930-7c5ec82489d8",
   "metadata": {
    "tags": []
   },
   "outputs": [],
   "source": [
    "#네이버 뷰는 최대 1050까지만 노출\n",
    "# 스크롤 10번\n",
    "for i in range(10):\n",
    "    driver.execute_script('window.scrollTo(0, document.body.scrollHeight);')\n",
    "    time.sleep(random.randint(2, 3))"
   ]
  },
  {
   "cell_type": "markdown",
   "id": "bc421bcf-9a0d-4177-9898-c874be757088",
   "metadata": {},
   "source": [
    "### 네이버 블로그 타이틀, 설명, 날짜를 수집해보자\n",
    "- css selector에서 .lst_view .bx로 하면 NosuchElementException하면 에러남\n",
    "- .bx클래스에는 블로그 콘텐츠데이터가 없는 숨겨진 미사용 코드가 있기 때문\n",
    "- 그래서 블로그 콘텐츠 데이터가 존재하는 .viwe_wrap으로 dom객체를 만들어야 함"
   ]
  },
  {
   "cell_type": "code",
   "execution_count": 30,
   "id": "3c318a47-f2c2-4c2c-8b9d-57620a7aa539",
   "metadata": {
    "collapsed": true,
    "jupyter": {
     "outputs_hidden": true
    },
    "tags": []
   },
   "outputs": [
    {
     "name": "stdout",
     "output_type": "stream",
     "text": [
      "{'title': '엔비디아 주가 전망 시가총액 버블일까 실적 인공지능 가속기', 'text': '엔비디아 주가 전망 시가총액 버블일까 실적 인공지능 가속기 인공지능 AI열풍의 최전선에 있는 엔비디아는 1일간 시가총액 1위를 하고 다시 밀려났습니다. 최근들어서 거품이라는 이야기도 나오고 있죠. 과거 1999년 IT열풍이 한창일때, 나스닥 지수는 5000선까지 올랐었습니다. 그 거품의 중심에는 시스코가 있었죠. 닷컴 버블 붕괴 직전 시스코는 마이크로소프트(MSFT)...', 'date': '7시간 전'}\n",
      "{'title': '구글 알파벳 주가 전망, 1주만 사고 후회(feat. 배당금, 역투자, 인공지능)', 'text': '배당금, 역투자, 인공지능) 투자를 하면 항상 후회를 하게되죠. 그때 샀어야해, 팔았어야해, 더 떨어지면 살걸 등.. 매 순간마다 선택에 따라 수익률이 크게 차이날 수 있기... 인공지능 테마가 정말 무서울정도로 긴시간 지속되고 있습니다. 구글은 계속 긴장하고 있다 구글이 지금처럼 상승하기까지 어려움이 없었던 것은 아닙니다. 2022년부터 정리해고를 해왔고...', 'date': '2주 전'}\n",
      "{'title': '인공지능 삼성 노트북 갤럭시북4 엣지 가벼운 14인치 노트북 스펙 가격', 'text': '오늘은 인공지능 더해진 14인치 노트북 갤럭시북4 엣지 가격 스펙을 간단히 소개해 드리겠습니다. 갤럭시북4 엣지 14인치 갤럭시북4 엣지는 14인치와 16인치 두 종류로 출시됐으며... 에 초점을 둔 기기답게 윈도우 코파일럿(Copilot) 버튼이 키보드에 배정되어 있습니다. 텍스트와 대략적인 스케치만 있으면 알아서 예술 작품을 완성시켜주는 Cocreator...', 'date': '2일 전'}\n",
      "{'title': '[인공지능 개발자] 석사가 아닌 고졸도 취업이 가능한 루트', 'text': '인공지능 개발자 석사가 아닌 고졸도 취업이 가능한 루트 현재, IT 산업에서 가장 주목받고 있는 기술, AI(Artificial Intelligence)는 얼마 전까지만 하더라도, 유용한 기술인 건 맞지만... 하지만, 현재에는 관련 프로젝트를 수행하는 과정에서 활용할 수 있는 API, 라이브러리 등이 굉장히 많아졌고, 기술의 수준 또한 높기 때문에 과거에는 AI 프로젝트를 0%부터...', 'date': '3주 전'}\n",
      "{'title': '인공지능 VS 인간, 주식투자 대결 승자는? 로보어드바이저 투자 수익률 공개', 'text': \"인간과 인공지능(AI) 중 누가 더 투자를 잘할까요? AI는 빅데이터 분석, 머신러닝 알고리즘 등을 활용하여 인간보다 더 정확하고 수익성 높은 투자를 할 수 있다는 주장이... 'AI vs 인간' 주식 투자 대결 (2023년) ① 주최: 한국거래소 ② 참가자: 투자 플랫폼 10곳 vs 개인 투자자 100명 ③ 투자 기간: 6개월 ④ 투자 대상: KOSPI 200 지수 구성 종목 ⑤ 결과...\", 'date': '2024.05.10.'}\n",
      "{'title': '삼성전자 갤럭시북4 프로360 AI 인공지능 노트북 리뷰', 'text': 'AI 인공지능 관련된 기능들을 확실히 쾌적하게 사용이 가능했습니다. 보통 가성비를 생각하여 적당한 사양에서 타협을 보고 구입을 할건데 지금까지 갤럭시북 프로를 구형부터... 키보드의 숫자키는 생산성을 높였고, 상단의 지문인식 전원키는 보안성 강화해서 인가된 사용자외엔 철저하게 배제 해주니 이같은 AI 활용하기 편리한 노트북이...', 'date': '4주 전'}\n",
      "{'title': '애플 주가 인공지능 AI 아이폰 통화녹음 WWDC 내용 정리', 'text': '애플 주가 인공지능 AI 아이폰 통화녹음 WWDC 내용 정리 매년 6월이면 WWDC 가 열립니다. 매번 어떤 아이디어를 가지고 나타날까 궁금해지는데, 이번에는 애플도 AI 인공지능이라는 타이틀을 들고 나왔습니다. 드디어 애플도 시장에 참전하려는가 봅니다. 내용을 다 보진 못했지만 일부 확인후 요약본을 추가로 본 결과 애플이 어떤 생각으로 을 대하고...', 'date': '2주 전'}\n",
      "{'title': '인공지능AI와 ETF투자하는 법 feat. 핀트 후기', 'text': \"그 중 오늘은 AI 인공지능을 기반으로 투자에 투여하는 시간과 어려운 투자 의사결정을 대신해주고 개인 맞춤 포트폴리오 제공을 통해 자동으로 매수매수를 진행하는 [핀트] 에 대하여 알아보고자 한다. AI 투자 서비스 '핀트' 핀트는 모바일 1:1 맞춤형 간편투자 서비스로, 자체 개발한 투자 운용플랫폼 프레퍼스와 AI 간편투자 엔진 아이작이 개인의 투자...\", 'date': '2024.05.01.'}\n",
      "{'title': '앱제작 인공지능 기술이 비용을 확 낮춰드림', 'text': '하지만, 인공지능 기술로 앱제작을 하게 되면 이런 문제들을 전혀 신경 쓰지 않아도 됩니다. 인공지능 기술은 C, Java, Javascript 등 낡은 프로그램 언어와 똑같이 구현 대상에 아무런 제약이 없을 뿐만 아니라 표현 자유도(UI, UX)까지 매우 높으며 개발된 앱 제품은 오류 발생이 없습니다. Android, iOS 용 모바일 앱과 PC Windows, WebApp 프로그램까지 한 번에 제작할 수 있어...', 'date': '6일 전'}\n",
      "{'title': '데이터베이스 뜻 인공지능 코딩 데이터분석 취업 빅데이터학원', 'text': '인공지능분석 기술은 요즘에 4차산업혁명 새로운 직업군중에 고액 연봉 복지 대우를 받을 수 있는 직무 입니다. 빅데이터학원 에서 요즘 AI 국비지원 수업이 가능한데 어떤... 요즘에는 이런걸 이용해서 마케팅 영업 , 새로운 신기술 사업에 응용 할 수 있기 때문에 취업 AI 분야가 떠오르고 있다는 것 입니다. 뜻 같은 경우도 비슷하다고 보시면...', 'date': '4주 전'}\n",
      "{'title': '릴리스 AI , 유튜브 영상 자동 요약 인공지능', 'text': '아무리 인공지능 AI인들 그 긴 영상을 어떻게 깔끔하게 요약한단 말인가. 그런데 사용해보면, 이 기능들 진짜 미.쳤.다. 일단 아래 화면은 요약본이다. 영상은 22분짜리인데, 그냥 몇 초만에 요약해낸다. 요약본을 읽는데는 채 5분도 걸리지 않았다. 요약 상태도, 오, 훌륭하다. 서비스는 다양하다. 전체 스크립트를 볼 수 도 있게 되어있다. 요약본보다 더 자세한 내용을...', 'date': '3일 전'}\n",
      "{'title': '2024 월드IT쇼 LG전자 부스 방문 인공지능 AI 가전 새로운 미래를 만나다', 'text': '2024 월드IT쇼 LG전자 부스 방문 인공지능 AI 가전 새로운 미래를 만나다 안녕하세요. 사진&IT 크리에이터 자유분방입니다. 2024년 월드IT쇼 World IT Show 2024가 2024년 4월 17일(수)~19일(금)... LG전자 인공지능, AI가 보여주는 가전의 미래 LG전자부스는 빛의선율, 물의 순환, 바람의 시선, 흙 그리고 삶, 초월적 연결 5가지 테마로 되어 있었어요. 그리고 입구에는 LG 알파블...', 'date': '2024.04.19.'}\n",
      "{'title': '골프, 야구, 축구 등 스포츠에도 활용되는 인공지능(AI)', 'text': '인공지능(AI) 기술이 골프, 야구, 축구 등 다양한 스포츠 영역에 활용되고 있습니다. AI가 골프 경기 결과를 예측하고, 야구 경기에선 사람 대신 투구를 심판하고, 심지어 AI가 축구... [축구] 코너킥 전술 짜는 AI 구글 산하 인공지능(AI) 조직인 딥마인드는 지난 3월 영국 프로축구 구단 리버풀FC와 함께 AI 기반 축구 전술 코칭 프로그램을 개발했다고 발표했습니다....', 'date': '4주 전'}\n",
      "{'title': '애플 주가전망 미국주식 인공지능 시총1위 아이폰판매 기대', 'text': '애플 주가전망 미국주식 인공지능 시총1위 아이폰판매 기대 애플의 시가총액이 마이크로소프트를 다시 제치고 1위가 되었습니다. 생성형인공지능 애플인텔리전스 발표이후 시장의 반응이 상당히 뜨겁습니다. 애플시총1위 애플 주가전망 미국주식 시총 1위 유지 그렇지만 주가에 대한부담감도 상당합니다. 결국 앞으로 좋아질 애플의실적이 선 반영된 것이죠. 이주가를...', 'date': '2주 전'}\n",
      "{'title': '애플 주가 급등, AI 인공지능 애플 인텔리전스 게임 체인저 될까? 국내 관련주', 'text': 'AI 인공지능 관련주로 부각 애플 인텔리전스(Apple Intelligence)라는 인공지능 전략을 공개되면서 게임 체인저가 될 것으로 기대되고 있습니다. 회사는 WWDC(연례 세계 개발자 회의)에서 아이폰, 아이패드, 맥 컴퓨터에 AI를 적용하는 계획을 자세히 설명했는데요. 이제 각 디바이스에는 OpenAI의 ChatGPT를 시작으로 자체 및 타사 모델이 사용될...', 'date': '2주 전'}\n",
      "{'title': '무료 이미지 생성 AI 사이트 (인공지능이 자동으로 그림 그려주는 사이트)', 'text': '무료 이미지 생성 AI 사이트 (인공지능이 자동으로 그림 그려주는 사이트) 도비호 | 2024년 05월 28일 | 댓글 없음 카테고리: 인공지능, ChatGPT | 태그: 인공지능 블로그에 쓸 원하는 사진이 유료 밖에 없어 인공지능한테 그림을 그리라고해서 사용했다. 이 그림이나 사진을 그려주는 사이트를 모아 보았다. 목차 1 (AI)이 그림을 그려준다...', 'date': '4주 전'}\n",
      "{'title': '인공지능 감성 AI로봇 리쿠 리뷰, 가격 미운우리새끼 김승우 로봇', 'text': \"얼리어답터 리뷰/IT정보 인공지능 감성 AI로봇 리쿠 리뷰, 가격 미운우리새끼 김승우 로봇 by 엔돌슨 2024. 5. 22. 인공지능 감성 AI로봇 리쿠 리뷰, 가격 미운우리새끼 김승우 로봇 안녕하세요. 오늘은 국내 최초로 인공지능 감성 로봇으로 인정받은 '리쿠'에 대해 리뷰해보려고 합니다. 최근 방송된 미운우리새끼에서 김승수가 리쿠 로봇을 소개하는...\", 'date': '2024.05.22.'}\n",
      "{'title': '연금저축보험 이전 후 수익 인증, 인공지능 투자 성과 어떨까?', 'text': '최근엔 인공지능이 운영하는 상품을 추천하고 있습니다. 가입 후 연금을 받기까지 또는 연금을 받으면서도 상품을 운용해야 초장기 상품이기 때문에 상품 하나 가입하면 끝이 아니라 상황에 맞게 운용을 해야 합니다. 가입자가 직접 펀드를 바꾸고, ETF를 매수할 수 있다면 좋겠지만 쉽지 않죠. 적어도 제 주변에는 없었습니다. 은 연금저축계좌에 넣은...', 'date': '2024.04.08.'}\n",
      "{'title': 'AI 엑스포 인공지능 트렌드 기술 적용 사례 셀바스AI 기업 탐방기', 'text': 'GPT 서비스 시작으로 다양한 인공지능 서비스가 빠르게 성장하기 시작하였습니다. 물론, 일부 아쉬운점이 있었는데요. 스타트 기업 및 론칭 예정에 가까운 사업들이 많다는... 4) CO-Assistance 업무 생산성 SELVAS는 자체적 개발 음성 지능, 필기 지능 솔루션을 개발하였는데요. 복잡한 문서 및 이미지 파일을 텍스트로 전환하는 Selvy OCR, 대화 내용을 기록할 수 있는 Selvy...', 'date': '2024.05.14.'}\n",
      "{'title': '인공지능과 생명공학의 만남, 디지털 육종 기술', 'text': '따라서 디지털 육종이라는 것은 유전체 분석 및 인공지능 기술을 활용해 더 효율적으로 원하는 기능을 가진 고품질의 종자를 생산할 수 있는 융합 기술로 볼 수 있습니다. 2024년 10대... 빅데이터와 인공지능 기술의 적용이 아예 없는 0단계부터 육종가의 개입 없이 완전 자동화된 5단계까지 총 6단계로 나눌 수 있습니다. 디지털 육종의 단계별 기술을 자세히 살펴보면...', 'date': '2024.04.27.'}\n",
      "{'title': 'AI 인공지능 엔비디아 주가 국내 반도체 관련주 - SK하이닉스 KODEX 핵심장비 ETF', 'text': 'AI 인공지능 엔비디아 주가 국내 반도체 관련주 - SK하이닉스 KODEX 핵심장비 ETF 금리가 떨어지지 않고 있지만, 파월 의장의 비둘기파 발언으로 미국 주식시장은 활기를 되찾았습니다. 지금 주식시장의 가장 큰 화두는 바로 AI 입니다. 엔비디아는 그 중심에 서 있죠. 최근 좀 지지부진하긴 했지만, 2년전과 비교해보면 500% 이상 상승한 것을 볼 수 있습니다....', 'date': '2024.05.10.'}\n",
      "{'title': '소프트웨어 SW 코딩 엔트리 인공지능 with 햄스터로봇', 'text': '오늘 제가 읽은 책은 영진닷컴의 엔트리 인공지능 with 햄스터로봇 개정판인데요. 엔트리와 햄스터 로봇으로 쉽게 배우는 인공지능 교육 교재입니다. 엔트리는 우리나라에서 만든 소프트웨어 프로그램입니다. 누구나 무료로 사용할 수 있는 SW 교육 프로그램인데요. 대부분의 학교에서 이 SW를 사용해서 소프트웨어 학습을 진행하고 있습니다. 작품을 만드는 과정이...', 'date': '2주 전'}\n",
      "{'title': '인공지능이 변화시킬 미래, 주거환경엔 어떤 영향을 미칠까? 2024 AI EXPO', 'text': \"작년 초, 거대언어모델(LLM)의 상용화를 현실화시킨 Open AI사의 'Chat GPT'는 인공지능이 상용화되었다는 사실을 전 세계적으로 널리 알린 신호탄이었습니다. 그리고 1년 뒤 국내 최고의... 그리고 올해 5월 Open AI사는 'Chat-GPT-4o'를 통해 거대언어모델을 넘어 이미지와 영상도 AI로 콘텐츠화할 수 있고, 이제는 이 인간의 감정까지 읽을 수 있는 무서운 현실을...\", 'date': '2주 전'}\n",
      "{'title': 'AI 인공지능 개발자 비전공자 국비지원 취업 내일배움카드 교육 학원', 'text': '오늘은 AI개발자 취업 과정 그리고 인공지능 개발자 분야 국비지원 교육 과정에 대해서 알려드리려고 합니다~! AI취업 내일배움카드 알아보시는 분들에게 좋은 소식일듯 합니다 AI... 인공지능 개발자 교육 커리큘럼 안내 3. 비전공자 기준 IT진로 고민이라면 ? 4. 내일배움카드 사용할때 주의할점 5. IT현실 조언 / 팩트정리 1. AI 개발자 취업 전망이 좋은이유 학원...', 'date': '2024.05.25.'}\n",
      "{'title': '인공지능 관련주 투자 전망 국내외 6곳', 'text': \"AI 음성 비서 'NUGU', 지능형 CCTV 등 AI 기술 기반의 제품 및 서비스를 선보이고 있습니다. 최근에는 자회사 SK쉴더스를 통해 AI 기술 기반의 보안 솔루션 사업을 강화하고 있습니다. 전문가들은 SK 텔레콤이 AI 기술을 통신, 보안, 미디어 등 다양한 분야에 적용하며 성장할 것으로 전망하고 있습니다. 이처럼 국내 주요 IT, 통신, 보안 기업들이 ...\", 'date': '4주 전'}\n",
      "{'title': '복지 서비스에도 활용되는 인공지능(AI)', 'text': \"다양한 복지 서비스에 인공지능(AI)이 활용되고 있습니다. 인공지능이 안부 전화를 거는 'AI 노인 말벗 서비스'를 비롯해 발달장애인 돌봄에도 인공지능(AI) 기술이 적용되고, AI로 전력·통신사용량 감지해 1인가구의 고독사를 예방하기도 하는데요. 복지 서비스에 활용되는 (AI)의 활용 사례를 윤커뮤니케이션즈와 함께 살펴보세요! 이 안부 전화 거는...\", 'date': '2주 전'}\n",
      "{'title': '한미반도체 주가 전망 주식 인공지능AI 테마 관련주', 'text': '한미반도체 주가 전망 주식 인공지능AI 테마 관련주 국내주식이 미국 나스닥에 비해서는 재미없고 지루하다는 평이 많습니다. 하지만 일부 몇개 종목은 몇년간 엄청난 상승률을... 인공지능 AI테마의 중심 단순히 실적이 좋아진다는 이유만으로, 이정도로 주가가 오르기는 쉽지 않습니다. 하지만 한미반도체는 (AI)수혜주로 분류되고 있어요. 그 배경에는...', 'date': '2주 전'}\n",
      "{'title': '새로운 AI 시대의 시작 Windows 11 Copilot + PC 인공지능 노트북의 등장!', 'text': '요즘 인공지능 기반 서비스가 유행입니다. 저 역시도 윈도우 및 엣지 브라우저를 통해 코파일럿을 자주 사용하고 있습니다. 무료로 사용할 수 있으면서 그림 생성은... 여느 인공지능 기반 서비스보다 더 많은 기능과 향상된 성능을 제공하는 Copilot+ PC는 앞으로 우리의 PC 사용 경험을 크게 변화시킬 것입니다. 새로운 기능들과 함께 제공되는 뛰어난...', 'date': '2주 전'}\n",
      "{'title': '인공지능으로 국방규격 품질관리 시작한다! <국방표준종합정보시스템(KDSIS) 고도화 사업 완료>', 'text': '* PLM : Product Lifecycle Management ** BOM : Bill of Materials 이 밖에 로봇처리자동화(RPA*) 및 인공지능(AI) 기술을 적용하여 단순․반복적인 업무를 자동으로 처리하고 방대한 분량의 기술 자료도 신속하게 검증하여 국방규격의 품질을 크게 높일 수 있게 되었습니다. * RPA : Robotic Process Automation 이러한 기능 개선은 최근 첨단 무기체계의 개발 추세를 반영하는...', 'date': '1일 전'}\n",
      "{'title': '애플 iOS18 아이폰 기능, 어떤 인공지능 기능들이 추가될까?', 'text': 'Siri는 물론이고, 이메일, 메시지, 사파리, 사진 편집 등에서도 인공지능을 활용한 기능들이 추가될 것으로 예상되고 있습니다. 그리고 그 중심에는 Open AI의 ChatGPT가 있을 것이라는... 그리고 메일과 메시지에서는 인공지능을 활용한 스마트 답장 기능을 사용할 수 있을 것으로 예상되고 있습니다. 대형 언어 모델 기반으로 이메일과 메시지 내용 등을 분석해...', 'date': '3주 전'}\n",
      "{'title': '신일 무소음 선풍기 BLDC 모터에 인공지능 탑재 3D14W', 'text': 'BLDC 모터를 탑재해 12단계로 세부적인 풍량 조절은 물론 소음이 거의 없고, 인공지능 기능을 탑재해 스스로 풍량을 조절하고 3D 좌우 상하 입체 자동회전이 가능해 필자에게 딱... 게다가 인공지능 탑재로 주변 온도에 맞춰 자동으로 바람세기가 설정되도록 사용할 수 있다. 각도 조절도 가능한데, 30도/60도/120도 좌우 조절은 물론 상하 105도까지 조절이 가능해 상황에...', 'date': '2024.05.16.'}\n",
      "{'title': 'AI 상담 서비스 인공지능 챗봇 고객센터 클라우드게이트 프로모션 정보', 'text': '인공지능 기술이 발전하면서 이는 고객 상담 분야에도 큰 영향력을 가져왔습니다. 사람이 직접 상담을 하던 과거와 달리 학습된 AI 솔루션을 통해 고객 응대를 하는 기업들이 많아지고 있죠. 앞으로도 인공지능 분야로는 지속적인 발전이 예상되기에 솔루션 사용은 꼭 필요해지는 상황인데요. AI 상담 고객센터 대행에 괜찮은 클라우드게이트 AI 서비스 및...', 'date': '4주 전'}\n",
      "{'title': '인공지능(AI) 시대, 늘어나는 반도체 수요, 이번 기회를 놓치면 끝이다? 26조원 규모 반도체 산업지원 방안', 'text': '이는 전세계적으로 인공지능(AI) 투자가 확대되면서 반도체 수요가 급증했고, 메모리 반도체 가격이 상승한 덕분인데요. 하지만 그만큼 경쟁이 치열하다는 것을 의미하기도... 06.07~2025.06.06)) #웰컴저축은행 #웰컴디지털뱅크 #저축은행 #반도체 #파운드리 #HBM #미니팹 #팹리스 #반도체클러스터 #삼성전자 #SK하이닉스 #메모리 #메모리반도체 # #AI', 'date': '2주 전'}\n",
      "{'title': 'AI 종류 인공지능 직업 개발자 교육 국비지원 취업 내일배움카드 학원', 'text': '오늘은 AI종류 어떤것들이 있는지 인공지능 직업 에 대해서 알아보고 AI 교육 국비지원 수업과정 커리큘럼 강의 강좌 수업 내용까지 알아보려고 합니다 요즘에 인공지능개발자 취업, AI개발자 취업 많이 하시려고 하시는데요~ 파이썬 데이터분석, 딥러닝 기술이 필수여서 이런 부분에 맞게 교육과정을 받을 수 있는지 제대로 알아보고 본인 계획 목적에 맞게 기술...', 'date': '2024.05.25.'}\n",
      "{'title': '미국 AI 인공지능 관련주 수혜주 종류', 'text': '갑자기 AI 인공지능 관련주 수혜주에는 무슨 기업이 있는지 궁금하시데요. 재설씨를 위해 부랴부랴 인공지능 관련주에 대해 공부해서 분야별로 대표 주식들 알려드렸어요~ 오늘 포스팅은 6월 23일 기준으로 상담 내용이니 참고해주세요! 목차 1. 미국 증시 분위기 2. 미국 AI 관련주 수혜주 전망 3. 관련주 종류 4. ARM 주가 추세 5. AI 인에이블링 관련주...', 'date': '6시간 전'}\n",
      "{'title': 'AI프로필 제작 캐럿으로 나만의 인공지능 사진 및 그림 만들기', 'text': '요즘은 인공지능을 기반으로 앵커를 대체하기도 하고 CF 영상에 AI 캐릭터가 등장하기도 합니다. 정말 신기한 세상에 살고 있으나, 종종 어떻게 만드는지 궁금하기도 했는데요. 예전에는 뭔가 이질적이고 어색하다는 느낌이 들었다면, 요즘은 무엇이 진짜인지 헷갈릴 정도로 사진이나 캐릭터의 퀄리티가 높더라고요. 이번 글에서는 매일 1장 누구나 무료로...', 'date': '2024.03.25.'}\n",
      "{'title': '인공지능 딥러닝 용산 조립컴퓨터 견적 출고', 'text': '24코어 32스레드를 지원하고 있는 고사양 프로세서로 인공지능 개발용 컴퓨터를 제작할때 많이 선택받고 있는 고사양 프로세서 입니다. 기본클럭 3.2GHz 이며 최대클럭 6.0GHz를... 깔끔하게 선 정리를 완료합니다. 테스트를 완료하고 작동이 잘 되는 상태로 출고 합니다. 이렇게 딥러닝 용산 조립컴퓨터 포스팅을 마칩니다. 감사합니다.', 'date': '2024.05.21.'}\n",
      "{'title': '인공지능 ai 음악 만들기 저작권 정보 및 만드는 방법', 'text': '다만, 저작권을 가지려면 창작자가 있어야 하는데 ai 음악은 장작 주체가 인공지능이기 때문에 저작권 귀속 주체를 정하기 어렵습니다. 즉, 현재까지는 ai 음악에 대한 저작권이 없는 상태이며 법적 기준이 모호한 상황입니다. 때문에 ai 음악을 생성하면 저작권 없이 사용이 가능합니다. 본 포스팅에서는 필모라 AI 음악 생성기를 통해 음악 만드는 방법...', 'date': '2시간 전'}\n",
      "{'title': '사회적 고립가구 위한 인공지능(AI) 스피커 돌봄 서비스 시범 시행, 5월 24일까지 신청 접수', 'text': '사회적 고립가구를 위한 안전망✋ 서울주택도시공사 등 4개 기관이 사회적 고립가구를 위한 인공지능(AI) 스피커 돌봄 서비스를 시범 시행하고, SH공사 강동구 소재 다가구 매입임대주택 사회적 고립가구 100세대를 대상으로 5월 13~24일 신청 접수받습니다! 서울주택도시공사, 스피커로 사회적 고립가구 24시간 돌본다 서울주택도시공사와 서울시복지재단...', 'date': '2024.05.13.'}\n",
      "{'title': '인공지능의 시대: 2016년의 붐과 그 이후 #AI강의', 'text': \"영화 속 인공지능 '사만다'의 목소리는 스칼렛 요한슨이 맡았죠. 영화의 결말은 주인공이 '사만다'에게 깊은 애정을 품게 되지만, 결국 사만다가 업그레이드되어 그를 떠나버리는 이야기로 마무리됩니다. 이 결말은 인공지능이 인간과의 관계에서 어떻게 행동할지를 생각하게 만듭니다. 이 영화는 과 인간의 관계에 대한 많은 시사점을 던집니다....\", 'date': '2주 전'}\n",
      "{'title': '구글 홈미니 네스트 미니 2세대 인공지능 AI 스피커 4년 사용후기', 'text': '현재 인공지능 ai 스피커가 많이 보편화되면서 많은 ai 기술력을 가진 스피커가 많이 나오고 있습니다! 하지만 구글에서 나온 네이스트 미니 2세대를 사용해보면서 솔직한 후기를... 좋은 인공지능 스피커라는 점입니다. 처음에 연동만 잘 해놓으면 음성을 통해 음악도 들을 수 있고 날씨도 물어볼 수 있 검색도 할 수 있고 다양하게 활용할 수 있는 게 바로 구글 홈미니...', 'date': '2024.05.11.'}\n",
      "{'title': '마사(MASA) AI 대장 코인 탈중앙화 인공지능 데이터 프로젝트 소개 및 전망', 'text': '어떤 기업이 시총 1위를 하느냐는 사실 우리에게 의미는 없고, 두 회사 모두 인공지능에 엄청나게 앞서가고 있다는 것에 집중할 필요가 있습니다. 반도체 시장은 최근 다소 부침을 겪었지만 현재 엄청난 호황이죠. 국내 기업인 하이닉스만 봐도 알 수 있는데요. 하이닉스의 경우 ATH를 지속적으로 기록하고 있습니다. 그만큼 에 대한 기대감이 얼마나...', 'date': '13시간 전'}\n",
      "{'title': '무선이어폰 갤럭시버즈3 프로 스템 생기는 이유!! 실시간 번역 방법과 탑재 그런데 배터리 용량은?', 'text': '실시간 번역 기능과 인공지능 탑재 삼성전자가 무선이어폰 최신 모델 출시를 앞두고 있는 갤럭시버즈3 프로에 갤럭시S24 울트라에 탑재된 인공지능 기능과실시간 번역 기능을 탑재할 것으로 보입니다. 외국인과 통화를 하면서 실시간으로 어떤 내용을 말하는지 번역을 해 준다는 실시간 번역 기능이 무선이어폰에도 적용된다는 것입니다. 세상이 참 빠르게 변하고...', 'date': '4주 전'}\n",
      "{'title': '인공지능(AI)과 구글의 위기??', 'text': '인공지능(AI)과 구글의 위기? 구글(Google, 알파벳A)은 이세돌과 바둑 대결로 유명한 알파고를 시작하며 인공지능 시대를 열었습니다. 또한 세계적으로 수많은 인공지능 전문가를 배출해 내면서 인공지능의 선두 주자 중에 하나로 알려져 있습니다. 그런 구글이 최근 AI를 장착한 검색엔진을 유료화를 검토하고 있다고 합니다. 구글(Google)은 그동안 검색은 무료이고...', 'date': '2024.04.15.'}\n",
      "{'title': '한글과컴퓨터가 론칭한 인공지능 AI 뉴스레터 구독해 보니', 'text': \"OpenAI가 세상에 선보인 ChatGPT를 신호탄으로 인공지능을 활용한 다양한 서비스가 빠른 속도로 등장하고 있다. 전 세계가 미래 먹거리로 부상한 AI에 모든 역량을 투자하고 있기에... 최신 인공지능 트렌드와 국내에는 잘 알려지지 않은 일상 속 도움이 되는 AI 소식을 깔끔하게 정리해서 격주에 한 번씩 발행한다. 이는 국내 오피스 프로그램 기업인 '한글과컴퓨터(한컴)...\", 'date': '2024.04.17.'}\n",
      "{'title': 'AI활용능력 시험 AICE/한국인공지능자격 시험개요 종류 방식 일정', 'text': '① 초등학생들 대상으로 하는 Future ② 중고등학생 대상으로 하는 Junior ③ 비전공자에게 권장되는 Basic ④ 코딩이 필요한 Associate ⑤ 최고급 Professional 자격증기본정보 AICE 홈페이지 링크 ↓↓↓↓↓↓↓↓ 한국인공지능자격 한국협회에서 시행중인 자격시험임. 이미 수년전 부터 시행해오고 있음. 자격증취득 절차 시험일정 한국자격센터...', 'date': '4주 전'}\n",
      "{'title': 'AI 인공지능 관련주 산업 이제는 클라우드에서 온디바이스 AI로 전환', 'text': '안녕하세요 오쿤입니다 :) 글로벌 증시를 좌우하고 있는 산업 중 하나를 말해보라 하면 역시 인공지능 관련주 산업을 빼놓을 수 없는 것 같습니다. 작년부터 벌써 2년 가까이 시장을 이끌어가고 있다 해도 과언이 아닌 것 같습니다. 이러한 AI 관련주 산업에서도 새로운 변화가 생겨나고 있습니다. 기존 클라우드 서비스 중심으로 전개되던 산업 흐름이...', 'date': '3주 전'}\n",
      "{'title': '[포토샵]최신인공지능 기능 사용하기', 'text': '포토샵의 인공지능 기능이 점점 좋아지는 것 같습니다. 이것을 사용해보려고 하면, 알아야 할 것이 있어서 포스팅 합니다. 먼저 포토샵을 띄워봅니다. 새로 시작해봅니다. 흠.. 인공지능 이미지생성 기능이 보이지 않습니다...왜 일까요? 최신 기능은 베타버전에서 사용해볼 수 있습니다. 베타버전을 사용하기 위해서 creative cloud 앱을 열어보겠습니다. 포토샵...', 'date': '4일 전'}\n",
      "{'title': '지포스 RTX 4090 AI 인공지능 개발용 최고사양 조립PC', 'text': '오늘은 인텔 14세대 I9-14900K 모델과 지포스 RTX 4090 그래픽카드로 AI 인공지능 개발용 최고사양 조립PC를 제작 하였습니다. 충분한 사양과 성능으로 AI 개발용으로 사용하기... AI 인공지능 개발용 조립PC를 제작할때 많이 선택받고 있는 최고사양 그래픽카드 지포스 RTX 4090 입니다. 이번에 사용된 제조사는 기가바이트 회사 모델로 화이트 색상에 AERO 모델을 넣어...', 'date': '2주 전'}\n",
      "{'title': '감성 인공지능 AI 로봇 리쿠', 'text': '▸ 재미톡톡 동화구연 ▸ 율동, 동요 ▸ 안전 교육 7대 영역 ▸ 한글 사전으로 하는 단어 알기 ▸ 로봇 코딩 수업 활용 ▸ 영어 학습 ▸ 달콤 감성 ART ▸한국사 ▸기후와 환경 ▸AI 로봇 리쿠는 단순한 로봇이 아니라 인공지능 기능을 갖추고 있습니다. ▸감성 대화 ▸얼굴 인식 ▸원 운영 관리 프로그램 ▸ 수업 AI로봇 리쿠의 활용 지원 프로그램으로는...', 'date': '2주 전'}\n",
      "{'title': '인공지능 때문에 사라질 직업들, 현실은?', 'text': \"흥미로운 것은 '인공지능 때문에'라는 단서가 붙어 있다는 점입니다. 02 약 8년 전, 인공지능이 아직은 머나먼 미래로만 여겨지던 시점에 우리는 예술, 창작, 심리와 같은 '고차원적'인 정신 활동이 인간의 전유물이자 최후의 보루라 생각했네요. 실제 현실은 어떻게 됐을까요? AI 시대의 초입을 사는 우리는 이제야 봅니다. 재미(?)있게도 2016년 당시 '이 대체...\", 'date': '2024.05.04.'}\n",
      "{'title': '강원특별자치도, 2024년 인공지능(AI) 바우처 지원사업 역대 최대 성과 달성', 'text': '안녕하세요~ 강원특별자치도입니다~ 인공지능(AI)!!! 여러분은 AI 잘 활용하고 계시나요? 강원에서는 여러 산업 분야에서 인공지능의 도입과 확산을 위한 노력을 기울이고 있는데요. 강원의 산업 인공지능 역량이 빛을 발해 역대급 국비를 확보하는 성과를 거두었어요. 과학기술정보통신부 주관 2024년 (AI) 바우처 지원사업에서 국비 13억 원을 확보하며 총...', 'date': '5일 전'}\n",
      "{'title': '인공지능 로봇과 그림그리기 대회를 할 수 있는 어린이과학관', 'text': '로봇이 우리 생활에 일상적으로 자리 잡는다는 게 아직 상상이 가지 않지만, 불이 난 건물에서 로봇으로 사람을 구하는 시뮬레이션 게임 등을 통해 앞으로 인공지능 기계와 함께하는 우리 삶이 어떻게 변화할지 간접적으로나마 느낄 수 있습니다. 이곳에서 가장 인기 있었던 전시는 로봇과 낱말맞추기 대결하거나 그림 그리기 대결을 하는 것이었습니다. 사람과...', 'date': '2024.05.22.'}\n",
      "{'title': '페르소나 AI 부스 AICC 인공지능 체험 후기.', 'text': \"인공지능 기술이 하루가 멀다 하고 빠르게 발전하고 있어서 속도를 제대로 따라가지 못하면 소외를 받고 있는듯한 기분을 느끼고 있는데요. 그래서 오늘 미래를 선도할 기술을 한자리에서 만나볼 수 있는 IT 전시회 '스마트테크 코리아'를 다녀왔습니다. 그중에서 챗봇과 콜봇으로 각광을 받고 있는 페르소나AI 부스를 방문해서 직접 AICC 을 체험해 봤는데요....\", 'date': '5일 전'}\n",
      "{'title': '인공지능과 함께 디지털 인재로! AI, 학교 수업에 들어오다!?', 'text': '2022년 초·중등학교 교육과정 총론에서는 인공지능 기술 발전, 사회적 문제 해결을 위한 협력, 학생의 특성과 진로를 고려한 맞춤형 교육 수요 상승 등을 변화된 모습으로 보고... _AI와 인공지능 리터러시 인공지능 리터러시는 기술을 이해하고 적절하게 활용하는 능력을 의미합니다. 디지털 대전환 시대에 살고 있는 우리는 산업 전 분야를 넘어...', 'date': '2024.03.26.'}\n",
      "{'title': '챗GPT 관련주로 본 인공지능 투자 전략 Open AI 전망', 'text': '최근 인공지능 기술의 급격한 발전과 함께 챗GPT는 투자자들 사이에서 큰 관심을 받고 있다. 특히 OpenAI가 발표한 GPT-4o는 인공지능의 새로운 시대를 여는 중요한 전환점으로 평가받고 있다. 이 글에서는 챗GPT 관련주를 중심으로 투자 전략과 Open AI의 미래를 살펴보고자 한다. 초보 투자자들이 투자에 접근할 때 유용한 정보를 제공하는...', 'date': '2024.05.22.'}\n",
      "{'title': '충청 교육 - [ICT인공지능 온라인 교육] 플랫폼 기반 AI과정·IoT메이커 과정 교육생 모집', 'text': '충청 교육 - [ICT인공지능 온라인 교육] 플랫폼 기반 AI과정·IoT메이커 과정 교육생 모집 안녕하세요. 취업비서 인크루트 입니다. 충청권 지역 거점을 통해 신기술 인력을 양성하고 개발자를 지원하여 특화산업에 AI 등 신기술 도입 및 활용 활성화 도모를 위해서 진행되는 충청권 ICT이노베이션스퀘어, 충청 교육 - [ICT 온라인 교육] 플랫폼 기반...', 'date': '2주 전'}\n",
      "{'title': 'AI발명, 권리는 누구에게? 인공지능 지식재산권', 'text': '인공지능(artificial intelligence, A.I.) 인간의 지적 능력 중 일부 또는 전체를 인공적으로 구현하는 기술 인공지능은 인간의 지능을 대신해서 일을 할 수 있는 소프트웨어나 하드웨어를 모두 포함하는 큰 개념입니다. 기계학습은 기존의 데이터를 분석하여 자체적으로 동작하는 것을 말하는데요. 이때, 기존의 데이터를 만드는 방법에 따라 지도 학습, 비지도 학습, 강화...', 'date': '2024.05.14.'}\n",
      "{'title': 'AI(조류 독감/인플루엔자) 관련주이면서 AI(인공지능) 수혜주들.. 꿈틀하나? (ft. 노바백스, 모더나, 화이자...', 'text': \"미국 증시 인공지능 테마의 중심에 있는 엔비디아가 뜨거운 가운데 또 다른 ‘AI'에 관한 뉴스들도 보여 가져와 봤습니다. 또 다른 AI는 ’조류 인플루엔자(조류 독감)‘을 말하는... 신약 개발사들이 인공지능(AI)으로 인해 신약 개발 기간 및 비용을 줄일 수 있는 대표적인 향후 수혜 업종으로도 언급이 많이들 되고 있으니 ‘AI+AI’ 테마로 관심을 받을 가능성도 있지...\", 'date': '3주 전'}\n",
      "{'title': '애플 WWDC 앞두고 주가는 하락 / MS의 인공지능과 Xbox', 'text': \"마이크로소프트는 인공지능 연구개발을 OpenAI에 효과적으로 아웃소싱하고 있다고 말했다. 사티아 나델라의 말은 아니고 Okta의 CEO인 토드 맥키논의 말.... 답인지, 아무것도 확신할 수 없기 때문이다. 인공지능 외에도 Xbox 콘솔 신제품도 공개했다. Microsoft’s Xbox refresh can't compete with its leaked roadmap © billyfreeman, 출처 Unsplash\", 'date': '3주 전'}\n",
      "{'title': \"[ChatGPT 교육] '생성형 인공지능의 이해 및 사용법' 실습 강의 진행(5회차)\", 'text': \"한국폴리텍대학 인재개발원(남원시 소재) 직급별 교육에서 일반직 3급 약 50명의 직원분들을 대상으로 '생성형 인공지능의 이해 및 사용법'에 관한 주제로 실습형 강의를 했습니다.... 듀얼 모니터와 헤드셋이 갖추어진 전산실에서, LLM을 이용한 텍스트 생성, 음악 생성, 이미지 및 동영상 생성 등 다양한 생성형 툴의 이론부터 실습까지 콘텐츠를 만드는...\", 'date': '1일 전'}\n",
      "{'title': '간단한 인공지능으로 앱 만들기 하자', 'text': '(nocode)와 인공지능(AI) 기술의 발전으로 누구나 쉽게 자신만의 앱을 만들 수 있는 시대가 도래했습니다. 노코드란? 프로그래밍 언어를 모르는 사람들도 복잡한 코드를 작성하지 않고도 앱이나 웹사이트를 만들 수 있게 해주는 기술입니다. 사용자는 드래그 앤 드롭 같은 간단한 인터페이스를 통해 앱의 구성 요소를 선택하고 조합할 수 있습니다. 의 역할...', 'date': '2024.05.14.'}\n",
      "{'title': '[인공지능] 당신의 뇌를 바꾸시겠습니까? (EBS 지식채널, 머스크의 개발)', 'text': '인간 vs 인공지능대비 일론 머스크의 도전(BCI 개발) 지금 인류 최고의 관심사는 인공지능(AI, Artificial Intelligence) 개발. 이세돌과 AI 바둑대결 인류 수준의 학습능력, 문제해결능력을 넘어 창의적 사고까지 만들어낼 것이라는 기대감은 우리보다 나은 인류를 지배할 수 있을만큼 빠르게 발전하고 있는 #개발 #발전 에 대한 경계감 이미...', 'date': '2024.05.25.'}\n",
      "{'title': '국내 ai 관련주 전망, 인공지능 주식 top3', 'text': '오늘은 국내 ai 관련주 전망, 인공지능 주식 top3에 대해 알아보겠습니다. 미국 빅테크들의 인공지능 투자 확대 소식이 불거지면서 국내에서도 ai 관련주가 강세를 보이고 있습니다. 안그래도 요즘 계속해서 인공지능에 대한 여러 가지 시스템들이 공개가 되면서 많은 관심이 쏠리고 있는데요. 관련주들에는 어떤 것들이 있는지 살펴보도록 하겠습니다. 국내 ai...', 'date': '2024.05.01.'}\n",
      "{'title': '인공지능 AI 블루투스 스피커 하만카돈 스펙 기능 추천', 'text': '하만카돈 스피커 특징 하만카돈 PVS400A-S의 가장 큰 특징은 360도 전 방향으로 음성을 인식할 수 있는 인공지능 기능입니다. 이를 통해 지니뮤직 뿐만 아니라 라디오, 팟캐스트, 날씨... 지금까지 살펴본 하만카돈 인공지능 AI 스피커 하만카돈은 가격 대비 탁월한 성능을 제공하기 때문에 우리 일상생활속에서 다양한 공간에서 좋은 음악을 제공받고 싶은...', 'date': '2024.04.25.'}\n",
      "{'title': '한컴AI 인공지능 IA기업으로 발돋움', 'text': '한컴에서 한국판 코파일럿이라고 할 수 있는 인공지능 AI 프로그램인 한컴 어시스턴트를 내년 상반기에 출시한다고 합니다. 이번 한컴 어시스턴트는 스마트 문서 작성 엔진을 기반으로 여러 LLM(대형언어모델)과 연결되어 동작하는 AI 지능형 문서 작성 도구로 자연어로 명령하면 LLM을 거쳐 내용을 이해하고 의도를 분석해 자동으로 문서 생성을 도와주는 기술입니다....', 'date': '2024.01.11.'}\n",
      "{'title': '대구시교육청, 인공지능(AI)·에듀테크 활용 초등 영어수업교사 역량 강화 연수', 'text': '대구시교육청, 인공지능(AI)·에듀테크 활용 초등 영어수업교사 역량 강화 연수 대구 뉴스/교육 2024. 5. 8. 16:55 대구시교육청은 5월 8일(수) 대구교육연수원에서 관내 초등 영어수업교사 및 영어회화전문강사 80여 명을 대상으로 ‘(AI)·에듀테크 활용 역량 강화 연수’를 개최한다. 대구시교육청 이번 연수는 디지털 대전환 시대에 대응하여 초등...', 'date': '2024.05.08.'}\n",
      "{'title': '인공지능의 폐해, 기사의 완성도 저하가 우려', 'text': '요즘 뉴스 기사들을 보면 (인터넷 기사겠죠) 인공지능, 특히 ChatGPT를 활용한 이미지가 눈에 많이 띄입니다. 문제는... 바로 문제는요. 그 이미지들이 기사와는... #인공지능 #ChatGPT #AI활용 #뉴스기사 #금융감독원 #직원이탈 #조직쇄신 #딜로이트컨설팅 #연봉 #업무강도 #조직문화 #AI생산성 #AI이미지 #뉴스품질 #AI결과물활용...', 'date': '2일 전'}\n",
      "{'title': '인공지능 작곡 사이트 SOUNDRAW AI작곡 프로그램 사용 후기', 'text': '얼리어답터 리뷰/IT정보 인공지능 작곡 사이트 SOUNDRAW AI작곡 프로그램 사용 후기 by 엔돌슨 2024. 4. 7. 인공지능 작곡 사이트 SOUNDRAW AI작곡 프로그램 사용 후기 SOUNDRAW는 AI 기술을 이용한 작곡 프로그램 중 하나로 영어를 기반으로 제작되었지만 홈페이지에서 한글 자동 번역 기능을 활성화할 수 있습니다. 복잡한 부분은 영어와 한글이 섞여 나오기도 하지만...', 'date': '2024.04.07.'}\n",
      "{'title': 'ETRI, 『감성 인공지능 : 인간 이해와 감성 증강』 발간', 'text': '본 도서는 ETRI 휴먼증강연구실 기획으로 KAIST, 중앙대학교, 한양대학교, 상명대학교, 숙명여자대학교, 서경대학교, 한국지능정보사회진흥원, ㈜이모셔니스트, ㈜디스퀘어 등 감성 인공지능 분야에서 활발히 활동하고 있는 산·학·연 전문가 13명이 참여해 공동 집필한 것으로, 율곡출판사에서 펴냈습니다.', 'date': '2024.05.20.'}\n",
      "{'title': '공공·민간 맞춤형 일자리 정보 추천 ··· ‘인공지능(AI) 일자리 매칭’ 서비스', 'text': 'AI가 일자리 추천 민간취업포털 전 직종으로 확대 6월부터 구직자는 고용서비스 통합포털 고용24에서 ‘인공지능(AI) 일자리 매칭’ 서비스를 통해 나에게 맞는 맞춤형 일자리를 추천받을 수 있습니다. 특히 일자리 정보도 현재 워크넷 및 민간취업포털 정보기술(IT) 직종에서 민간취업포털 전 직종으로 확대됩니다. 오는 10월까지 단계적으로 늘려갈 계획으로 앞으로...', 'date': '2주 전'}\n",
      "{'title': '화원고, 교육과정 연계 인공지능 융합 프로그램···인공지능·에듀테크 활용 수업 진행', 'text': '화원고, 교육과정 연계 인공지능 융합 프로그램···인공지능·에듀테크 활용 수업 진행 카테고리 없음 2024. 5. 16. 15:50 화원고등학교는 오는 5월 24일(금)까지 교육과정과 연계한 인공지능 융합 프로그램을 운영한다고 16일(목) 밝혔다. 올해 처음 선보이는 이 프로그램은 영어, 수학, 과학, 역사, 기술, 음악, 체육, 중국어, 정보 등 9개 교과, 11명의 교사가 생성형 AI와...', 'date': '2024.05.16.'}\n",
      "{'title': '[주기동] 설명가능 인공지능 기술 동향 및 핵심 과제 (2134, 20240522) (1/2)', 'text': '서론 지난 몇 년간 인공지능(Artificial Intelligence: AI)의 비약적인 발전은 실생활의 여러 응용 분야에 AI 시스템의 활용을 촉진하였다. 특히, 기계학습(Machine Learning: ML) 및... 학습한 인공물이나 개념의 품질을 추론할 수 있는지 여부는 아직 미해결 과제 생성형 모델을 설명하기 위한 유망한 방법으로는 기계론적 해석 가능성(mechanistic interpretability)...', 'date': '1일 전'}\n",
      "{'title': 'LG 유플러스 AI 혁신 가속화 인공지능 AX 익시 Company로 도약', 'text': '이번 시간에는 LG유플러스 AI 혁신 가속화 인공지능 익시 AX Company로 도약에대해 알아보도록하겠습니다. AI 인공지능 기술은 이제 일상 속에 자리잡아 가고 있는데요. 스마트폰의 음성 인식 기능부터 가정용 로봇 청소기에 이르기까지, AI 기술은 다양한 형태로 우리 생활 곳곳에 스며들고 있고요. 디지털 기술이 발전함에 따라 AI의 역할은 앞으로 더욱 확대될...', 'date': '3주 전'}\n",
      "{'title': '\"AI(인공지능)가 연령대별 일자리 추천\"… \\'고용24\\' 맞춤서비스 강화', 'text': '* (잡케어) 노동시장 정보 추가 제공 (현재 8종 → 13종, 5종 추가) 전 생애에 걸친 경력단계에서 진로탐색·설계를 지원하기 위해 인공지능(AI)·빅데이터 기반으로 ①직무역량 분석 ②... 편도인 고용지원정책관은 “최근 온라인·디지털 서비스 이용이 증가하는 만큼 앞으로도 (AI) 기술을 접목한 새로운 서비스를 수요자의 의견을 반영해 지속 확대해...', 'date': '3주 전'}\n",
      "{'title': '인공지능과의 안전한 공존, 서울에서 묻다 AI 서울 정상회의', 'text': '인공지능에게 지배당하는 미래, 영화에서 한 번쯤은 보셨을 겁니다. 인공지능이 발전하면서 수많은 가짜 뉴스와 가짜 영상들이 만들어지고 있는 지금, 더 이상 SF 영화 속 허무맹랑한 이야기만은 아닌데요. 인공지능에 의해 미래가 위험해지는 것을 막고자 지난 11월 영국 블레츨리에서는 AI 안전 회의가 진행되었습니다. 미국, 독일, 일본, 프랑스 등 우리나라를...', 'date': '4주 전'}\n",
      "{'title': '직장에서 쓰기 좋은 AI 챗봇 인공지능 챗 GPT 종류 총 정리!', 'text': '직장에서 쓰기 좋은 AI 챗봇 인공지능 챗 GPT 종류 총 정리! 요즘 인공지능 챗 GPT 등을 많이 사용하고 있습니다. 대학생들이 과제를 할 때 맞춤법이나 개요를 잡아주기도 하고, 직장인들이 업무 관련 파일을 만들거나 메일을 쓸 때에도 챗 GPT가 아주 멋지게 도와주곤 하죠. 챗 GPT의 유용함이 잘 알려진 이후로 여기저기서 AI 챗봇을 출시하고 있는데요. 오늘은 AI...', 'date': '3주 전'}\n",
      "{'title': '인공지능과 코딩으로 꿈꾸던 북튜버 되기', 'text': \"광명도서관 이야기가 있는 코딩 책 읽기를 통해 확장된 사고력과 상상력을 인공지능, 코딩 등의 디지털 기술로 직접 구현해 보는 특색있는 프로그램이 찾아옵니다.... '를 읽은 후 다양한 독후 활동으로 책의 내용을 파악하고 창의적인 생각들로 발전시킨 후 전문 강사의 지도 아래 , 메타버스, 코딩 등의 디지털 기술을 배우게 됩니다. 그리고 이를...\", 'date': '4일 전'}\n",
      "{'title': 'DX 디지털 대전환 시대 AX 인공지능 대전환 AI Home과 UI, UX의 변화는?', 'text': '오늘의 책, 인공지능관련된 책인데요. 어렵지 않은 아주 쉽고 일상생활에 접목된 얘기가 가득 준비되어있어요. 바로 출발해볼까요? 책 제목은 <DX 디지털 대전환 시대 AX 인공지능 대전환> 시작합니다! 컨티뉴언 독서 인사이트 이 책의 프롤로그에서 볼 수 있듯이 변화를 말하고 있습니다. , 지금 2024년의 가장 큰 변화의 핵이라 할 수 있죠. 여러분들은 어떻게...', 'date': '4주 전'}\n",
      "{'title': '과기정통부, 인공지능-반도체 전략 구상 연구개발 현장 점검', 'text': '방문하여 인공지능(AI)·디지털 분야 연구자들과 소통하고 AI, AI반도체 등 이니셔티브 관련 R&D 추진현황을 점검하였습니다. 이번 방문은 지난 4월 9일 윤석열 대통령의 AI-반도체 이니셔티브 추진 방향 제시 이후 정부가 최근 발표한 게임체인저 기술 분야의 이니셔티브 실현을 위한 ETRI의 연구개발(R&D) 현황을 살펴보고, 지난 5월에 열린 AI 서울 정상회의에서 다룬...', 'date': '2주 전'}\n",
      "{'title': '[과학향기 Story] 딥러닝, 똑똑한 인공지능을 만든 비밀', 'text': '사람처럼 지능을 가진 기계에 대한 꿈은 컴퓨터가 없던 시대까지 거슬러 올라갈 수 있을 정도로 그 역사가 오래되었다. 그러다 1950년, 영국 수학자 앨런 튜링이 기계 역시 생각할 수... 하지만, 사람들은 능동적으로 문제를 해결할 수 있는 을 원했다. 이에 인공신경망, ‘딥러닝’에 대한 관심이 커지기 시작한 것이다. 딥러닝은 인간의 신경 구조를 본떠...', 'date': '4주 전'}\n",
      "{'title': '인공지능 반려로봇 에일릭 아이들의 새로운 친구 🤖어린이 로봇 선물 추천', 'text': '얼리어답터 리뷰/IT정보 인공지능 반려로봇 에일릭 아이들의 새로운 친구 🤖어린이 로봇 선물 추천 by 엔돌슨 2024. 4. 20. 인공지능 반려로봇 에일릭 아이들의 친구 🤖어린이 로봇 선물 추천 요즘 AI 인공지능 반려로봇이 인기라서 딸아이에게 에일릭 로봇하고 루나 로봇을 사주었습니다. 그 외에도 다양한 로봇 강아지를 사주었는 데, 그중에서 에일릭 로봇은 아주...', 'date': '2024.04.20.'}\n",
      "{'title': '인공지능(AI) 디지털교과서 개발에 대해 학교 현장의 의견을 듣는다', 'text': '첨부파일 [교육부 06-14(금) 석간보도자료] 인공지능(AI) 디지털교과서 개발에 대해 학교 현장의 의견을 듣는다.pdf 2024년 인공지능(AI) 디지털교과서 현장적합성 검토 지원단 발대식 개최 현장 활용도가 높은 인공지능(AI) 디지털교과서 개발을 위해 전 과정에서 의견 제시 교육부(부총리 겸 교육부장관 이주호)와 한국교과서연구재단(이사장 전우홍)은 6월 14일(금)...', 'date': '2주 전'}\n",
      "{'title': '스마트워크 및 인공지능 활용 방법 무료 강의 안내', 'text': '인공지능 등의 활용법을 익혀서 더 스마트하고 신속한 업무 스킬을 배울 수 있는 과정이 오픈됩니다. IT 특강 [ 스마트 업무 솔루션 ] 일정 : 2024년 6월 15일 토요일 오전 10시 ~ 오후 12시 30분(2시간 30분) 장소 : Zoom(비대면) 강사 : 구기모 수강 대상 : 업무 효율 및 생산성 향상을 원하는 재직 및 구직 여성 강의 내용 : 클라우드와 을...', 'date': '2024.05.22.'}\n",
      "{'title': '인공지능융합대학 2024년 공학설계입문 작품전시회 심사 진행', 'text': '인공지능융합대학 2024년 공학설계입문 작품전시회 심사 진행 안녕하세요. 인공지능융합대학 2024년 공학설계입문 작품전시회가 있었습니다. 출강하고 있는 학교에서 작품전시회가 있어 평가 위원으로 참석했습니다. 한 학기 동안 창의설계입문 과목을 통해 디자인 싱킹을 공부하고 아이데이션을 하여 시제품을 제작합니다. 이번 학기에도 다양하고 아이디어 있는...', 'date': '3주 전'}\n",
      "{'title': 'AI 제품사진 인공지능 이미지 편집 사이트, 드랩아트 사용 후기', 'text': '그래서 오늘은 제품사진 및 이미지들을 생성형 인공지능 서비스로 깔끔한 이미지, 원하는 이미지로 변경해주는 사이트를 소개해드리려고 합니다. 제가 소개해드리는 사이트는... 스마트스토어 운영 방법 등 여러가지 꿀팁들을 공식 블로그에서 제공하고 있습니다. 참고하시면 좋을 것 같네요. 지금까지 제품사진 편집 사이트, 드랩아트 사용 후기를 알려드렸습니다.', 'date': '2024.05.08.'}\n",
      "{'title': '제품사진 이미지 촬영 인공지능 드랩아트 쇼핑몰 제작 쉽게 가능', 'text': \"제품사진 이미지 촬영 인공지능 드랩아트 쇼핑몰 제작 쉽게 가능 안녕하세요. 사진&IT 크리에이터 자유분방입니다. 예전에 아는 분이 쇼핑몰 제작 후 사진을 촬영하기 위해서... 이번 글에서는 스마트스토어, 쇼핑몰 등을 운영할 때 제품사진을 쉽게 수급할 수 있는 기반 사진 제작사이트로 '드랩아트'를 소개 드려보도록 하겠습니다. 드랩아트 Draph Art 바로...\", 'date': '2024.04.30.'}\n",
      "{'title': \"'KT 인공지능 자격증 단기 취득반' ️ 교육생 모집\", 'text': '강남구 KT 인공지능 자격증 단기 취득반 교육생 모집 신청기간 2024년 5월 29일 ~ 6월 11일 13:00까지 신청대상 강남구 거주 미취업 청년 (19세~39세) 교육기간 6/24(월)~7/5(금), 매주 월-금 10시-18시 교육장소 충현교회 제3교육관 (강남구 논현로98길 22) 교육과정 자격증 취득 교육(KT AICE Basic 과정) ✔️비전공자도, 문과생들도 쉽게 도전 가능한 Basic 과정...', 'date': '4주 전'}\n",
      "{'title': '동영상 편집 프로그램 캡컷의 생성형 인공지능AI 사용후기', 'text': '바로 생성형 인공지능AI. 코파일럿이나 미드저니에서 사용하던 것 처럼 텍스트를 입력하고 그 결과 값으로 그림을 그려주는 것이다. 캡컷 생성형 인공지능AI의 장점은 어떤 프로그램과 제휴했는지는 정확히 알 수 없지만 영어가 아닌 한글로 텍스트를 입력할 시 그림을 그려준다! 게다가 무료! 1:1 그림파일도 만들어주고 9:16 비율 그림도 만들어주고 매우 좋다! 근데...', 'date': '2024.05.05.'}\n",
      "{'title': '서빙로봇 인공지능 애완 로봇 강아지 아이보 백터', 'text': '이번 시간에는 서빙로봇 인공지능 애완 로봇 강아지 아이보 백터에 대해 알아보도록 하겠습니다. 인공지능 기술의 발달로 로봇도 진화하고 있는데요. 인공지능이란 사람처럼 학습하고 추론할 수 있는 기계의 능력을 말합니다. 은 데이터를 분석하고 패턴을 인식해 스스로 문제를 해결하고 결정을 내릴 수 있어, 음성 인식, 이미지 분석, 로봇공학 등 다양한 분야에...', 'date': '2024.05.19.'}\n",
      "{'title': '인공지능 AI 기초 상식을 통한 AI 요점 정리', 'text': '인공지능은 인간의 지능을 모방하거나 대체하기 위해 고안된 기술입니다. AI도서는 크게 3가지로 구분이 됩니다. ANI, AGI, ASI인데요. ANI는 특정 목적을 위해 제한된 범위 내에서만... 인간의 개입이 최소화되어 인공신경망이 데이터를 직접처리하고 학습합니다. 인공신경망은 인간의 신경망을 모방한 구조로 여러 층으로 이루어져 있습니다. 딥러닝 모델에서...', 'date': '2024.03.22.'}\n",
      "{'title': '초등학교 진로수업 - 인공지능 기초 코딩', 'text': '코딩하는 딩가샘입니다 인공지능 수업을 하려고 연제구에 있는 초등학교에 왔어요~~ 오늘은 KT AI 코디니로 신호등도 만들어 볼 예정입니다.! 인공지능에 대해서 배워보고 실습하는 방법도 자세히 알려 주었어요~ 신호등 만들기 시작! 간단한 신호등을 만들어 보았어요~ 2시간 안에 코딩까지 해야 해서 부지런히 키트 조립을 해야 합니다. 키트 조립이 되면 코딩을 해서...', 'date': '6일 전'}\n",
      "{'title': 'WWDC 2024, 애플의 인공지능 파트너십 계획 발표 예정', 'text': 'WWDC 2024 주요 내용 올해 WWDC의 주요 발표 내용은 인공지능(AI)에 중점을 둔 새로운 소프트웨어 업데이이트로 예상이 되고 있다. 블룸버그의 레포트에 따르면, 애플은 iOS 18애... 마무리 애플이 시리를 내놓았을 때만 해도 분야의 선도주자였다. 시리가 빠르게 이 시장을 잠식해 나가리라는 기대는 당연해 보였다. 하지만, 결과적으로 애플은 구글...', 'date': '2주 전'}\n",
      "{'title': '인공지능 조련사, 프롬프트 엔지니어', 'text': '그 사이 인공지능(AI)은 빠르게 발전해 텍스트, 이미지, 영상을 한 번에 이해해 생성하고, 농담도 던집니다. AI를 접목하고 있는 기업도 늘고 있는데요. 이에 따라 새로운 직업군이... 국내 AI 스타트업은 연봉 1억 원에, 구글이 투자한 스타트업은 연봉 3억∼4억 원에 채용하기도 했답니다. AI로 매일 우리는 새로운 세상으로 나아가고 있습니다. 여기서는...', 'date': '4주 전'}\n",
      "{'title': \"온라인 무료 공개강좌 'K-무크'···인공지능·숏폼 미디어창작·디자인 등 22개 강좌 신설\", 'text': '인공지능·디자인 등 K-무크 강좌 22개 신설 정부가 운영하는 한국형 온라인 공개강좌 ‘K-무크(K-MOOC)’에 22개 강좌가 신설됐습니다. 교육부와 국가평생교육진흥원은 4월 24일 신규... 디지털 교양분야에 선정된 ‘놀라운 증명’, 디지털 기초분야에 선정된 ‘과 캐글분석’, ‘ 활용 숏폼 미디어창작자로 수익화하기’ 등 국민의 디지털 역량을...', 'date': '2024.05.02.'}\n",
      "{'title': '[KISTI 뉴스] ‘인공지능 윤리’에 대한 이슈브리프 발간', 'text': 'KISTI, ‘인공지능 윤리’에 대한 이슈브리프 발간 - 인간과 인공지능의 조화로운 공존 방안 제시 - 한국과학기술정보연구원(원장 김재수, 이하 KISTI)은 인공지능 윤리(AI Ethics): 인간과 인공지능의 조화로운 공존 방안에 대한 KISTI 이슈브리프를 발간하였다. 전환(AI Transformation, AX) 시대로 진입하면서 AI는 일상생활과 산업 전반에 걸쳐 혁신적인...', 'date': '4주 전'}\n",
      "{'title': 'AI, 일상에 물들다. AX(인공지능 전환) 시대', 'text': \"하지만 챗GPT와 같이 기존 인공지능들과 차원이 다른 모습을 보여주는 인공지능이 등장하면서, DX를 넘어 AX(AI Transformation) 시대로의 전환이 필요하다는 목소리가 점차 나오고 있습니다. © 픽사베이 정부도 이러한 AI 트렌드의 변화를 인지하고, AI 일상화 시대를 앞당기기 위해 2024년 9,090억 원을 투입해 '대한민국 도약 방안'을 발표한 바...\", 'date': '2024.04.03.'}\n",
      "{'title': '시작되는 인공지능 법률 서비스 경쟁, 돌아봐야 할 점은?', 'text': '나만의 인공지능 변호사 최근 OpenAI사의 GPT가 업데이트되어, 사용자가 본인의 GPT를 이른바 ‘커스터마이징’(customizing)할 수 있게 되었습니다. 이에 법적인 쟁점을 분석해줄 수... 선고, 사건번호 2022구합89524)에 대한 분석) 그렇다면 변호사가 필요하면 항상 이렇게 ChatGPT를 커스터마이징해야 하는 건가요? 아예 법률만 전문으로 공부한 서비스는...', 'date': '2024.05.24.'}\n",
      "{'title': '<엔트리 인공지능 with 햄스터 로봇> 기대평 이벤트', 'text': '엔트리와 햄스터 로봇으로 시작하는 인공지능 프로그래밍 안녕하세요! 인공지능을 활용해 재미있고 유익한 프로그래밍 활동을 해볼 수 있는 <엔트리 인공지능 with 햄스터 로봇> 개정판이 출간하였습니다. 이번 개정판은 최신 버전의 엔트리로 전체를 업데이트하였고 또한 일부 챕터는 소재를 재구성하였는데요. 도서 출간을 기념하여...', 'date': '2주 전'}\n",
      "{'title': '인공지능 기술의 미래를 이끄는 챗GPT - 혁신과 발전의 중심', 'text': '인공지능 기술은 현재 우리의 삶과 사회에 놀라운 변화를 가져오고 있다. 그 중에서도 최근 몇 년간 주목을 받고 있는 기술 중 하나는 챗GPT다. 챗GPT는 자연어 처리와 이해를 위한... 인공지능 기술의 발전은 우리의 삶에 긍정적인 영향을 미치지만, 동시에 윤리적인 문제와 사회적인 영향에 대한 고려가 필요하다. 그렇기에 지속적인 논의와 연구가 필요하다....', 'date': '2주 전'}\n",
      "{'title': 'MWC24 바르셀로나 통신과 인공지능의 융합 SKT AI 가 그리는 통신사업의 미래', 'text': '특히 ‘AI의 인간화’를 전면에 부각하며 인공지능으로 달라질 일상에 주목했습니다. SK텔레콤 역시 ‘AI, 변화의 시작점’을 주제로 텔코(Telco·통신사) 중심의 인공지능(AI) 기술 및 서비스를 선보였는데요. 전시 내용에 대해 좀 더 구체적으로 살펴보겠습니다. SKT는 올해도 바르셀로나 ‘피라 그란 비아(Fira Gran Via)’의 메인 전시관인 3홀 중앙에 대형...', 'date': '2024.02.28.'}\n",
      "{'title': '인공지능 개발자 국비지원 교육 문제와 현실(비대면)', 'text': '① 인공지능 국비지원 ② 빅데이터 국비지원 과거와 다르게 웹개발 국비지원보다 위 2가지 국비 교육을 더 많이 볼 수 있는 건 최근 대부분 기업이 인공지능 개발자 채용을 늘리고 웹 개발자 채용을 축소하고 있기 때문입니다. 늘어나는 개발자 채용 그에 맞춰 늘어나는 국비지원 석사 채용 과거 개발자는 석사 급의 인력을 채용했습니다. 혹은 3년 이상...', 'date': '2주 전'}\n",
      "{'title': \"유엔 사무총장, 인류에게 '칼날' 경고, 인공지능이 핵전쟁 위험 증가\", 'text': '안토니오 구테흐스 유엔 사무총장은 인공지능(AI) 사용 확산으로 인해 핵 전쟁의 위험이 증가하고 인류는 이제 \"칼날\"에 처해 있다고 경고했다고 가디아 ( The Guardia n)가 보도했다.... 각국의 억지력 강화를 위해 인공지능(AI)을 활용해 발사 절차가 간소화될 가능성도 있다는 우려가 나온다. 따라서 이제 \"인류는 칼날 위에 있다. 구테흐스는 연설에서 핵무기 사용 위험이...', 'date': '3주 전'}\n",
      "{'title': '[인공지능CCTV] 경기 고양시 덕양구 보험대리점 빌딩 내 침입감지와 보안을 위한 cctv...', 'text': 'AI 영상보안 솔루션 자비스넷 지능형 영상분석 인공지능 cctv 이러한 지능형 영상분석 기능을 바탕으로 AI 영상감시 솔루션을 제공해 드리고 있는데요, \"AI 영상감시 솔루션\"이란 감지된 상황이 실제 위급한 상황인지 아닌지를 딥러닝서버가 2차로 빠르게 분석하여 실제 상황으로 판단 되었을 경우, 실시간 영상과 함께 고객님의 휴대폰으로 긴급 PUSH 알림을...', 'date': '6시간 전'}\n",
      "{'title': 'SK하이닉스 주가 전망...5% 하락에도 인공지능은 장기적 이슈', 'text': '엔비디아를 비롯한 미국 인공지능(AI) 반도체주의 조정으로 투자심리가 위축된 영향이다. 특히 지난 21일 엔비디아가 3% 하락한 영향이다. 24일 한국거래소에 따르면... 그리고 지속적으로 말씀드린 것과 같이 인공지능, 범용(AGI), 초(ASI)와 같은 것들은 단기적인 이슈가 아니라 매우 장기적이고 큰 이슈이다. 따라서 장기적인 관점에서...', 'date': '6시간 전'}\n",
      "{'title': \"[챗GPT특강] '생성형 인공지능의 이해 및 사용법' 실습 강의 진행(3차수)\", 'text': \"한국폴리텍대학 인재개발원(남원시 소재) 직급별 기본교육에서 일반직 6,7급(2차)을 대상으로 '생성형 인공지능의 이해 및 사용법'에 관한 주제로 실습형 강의를 했습니다. 현재 한국폴리텍대학 인재개발원에서는 직급별로 생성형 에 관한 학습이 진행되고 있습니다! 이번 강의는 3월에 이어 3차수이며, 일반직 6,7급 2차 직원분들을 대상으로...\", 'date': '2024.04.29.'}\n",
      "{'title': '파이썬 캐글 인공지능 머신러닝 가이드 사용법', 'text': '인공지능과 머신러닝을 공부하고 사용할수 있는 케글이라는 사이트를 알게 되어 공유하고자 합니다. 케글은 데이터 과학자나 머신러닝 애호가들에게 잘 알려진 플래쇼폼으로 다른... 캐글이란 캐글은 2010년 만들어져 2017년에 구글에서 인수를 하게 되면서부터 다양한 분야에서 활용되고 있습니다. 캐글은 무료이며 경진대회나 기업들이 데이터를 공개하는데...', 'date': '4일 전'}\n",
      "{'title': 'FET 페치 코인 전망 ASI 통합 일정 연기 인공지능 연합', 'text': '비트코인, 이더리움 등 전반적인 가상화폐가 하락하면서 좋지 못한 시기를 이어나가고 있으나 인공지능(AI) 테마의 경우 아쉬운 시세 대비 기대 전망을 가지고 있는 사람들이 많은... 합병을 위한 준비 단계에서 신중한 조정의 일환으로 ASI CEO는 탈 중앙화 초 지능 네트워크 구축을 위한 진전에 이번 일시적인 지연은 영향을 미치지 않는다고 밝혔으니 참고하시기...', 'date': '2주 전'}\n",
      "{'title': '인공지능 대전환(AX) 시대에 인기 있는 AI 기술, 직업, 전문가는?', 'text': '인공지능은 제조, 금융, 유통, 패션산업 등 다양한 분야에서 이미 활용되고 있으며 그 적용 범위가 빠르게 확대되고 있습니다. 이렇게 AI 기술을 다양한 분야에 적용해 새로운... 머신러닝 엔지니어는 머신러닝 핵심 알고리즘을 구현하면서 시스템 실험과 테스트를 실행하는 일을 합니다. 머신러닝 시스템을 직접 설계하고, 머신러닝 정확도를...', 'date': '2주 전'}\n",
      "{'title': '[행사 스케치] 2024 인공지능&빅데이터쇼: 천 개의 AI 고민을 듣다', 'text': \"NHN Cloud는 다양한 산업에 인프라를 제공하는 CSP(Cloud Service Provider)로써, [2024 인공지능&빅데이터쇼(스마트 테크 코리아 2024동시 개최)]에 참여하여 국내 AI 도입 관련... 부스 소개 | NHN Cloud AI 얼라이언스 with 2Digit, Vessl AI NHN Cloud AI 얼라이언스 2024년 6월 19일부터 21일까지 코엑스에서 열린 '&빅데이터쇼 2024'에서 NHN Cloud는 2Digit, Vessl AI와 함께 AI...\", 'date': '1일 전'}\n",
      "{'title': '2024 AI 엑스포 셀바스 AI 부스 방문 및 인공지능 트렌드', 'text': \"2024년 5월 1일(수)~ 5월 3일(금)까지 코엑스 D홀에서 2024 국제인공지능대전이 진행이 되었어요. 저는 첫 번째나 방문을 해보았는데요. 아무래도 2024년의 화두가 '인공지능 트렌드'이다 보니 행사장이 상당히 붐비더군요. 국내 최초이자 최대 AI 전문전시회로 국내기업들은 물론이고 큰 행사인 만큼 해외 기업들도 참여를 했더라고요. 주최는 한국협회...\", 'date': '2024.05.07.'}\n",
      "{'title': '새로운 인공지능 공개 애플 7%대 상승', 'text': '애플 새로운 인공지능 공개 7%대 상승 테슬라 -1.80 엔비디아 -0.71 테슬라 -1.85 MS 1.12% 오늘 개장전 미국 CPI 발표 예정. 내일은 FOMC 결과 발표 이벤트 정부 벨류업 추가 세제 인센티브등 세법 개정안 발표 예정. 은행, 자동차등 수익이 많이 난 기업들 유리 미국 사상최고치 경신 소식등 국내증시 우호적. 짧은 테마주 연속성 없는 흐름 감안하고 접근 현대차 밸류업...', 'date': '2주 전'}\n",
      "{'title': '전력 설비 전선 관련주 대한전선 KBI메탈 애플 AI 인공지능 관련주 브리지텍 에스피소프트 5월 13일', 'text': \"애플 음성인식 인공지능 관련주 재료 - 애플 다음 달 생성형 인공지능(AI) 탑재 음성 비서 '시리' 차세대 버전 공개 예정 소식 브리지텍 상한가 마감하지 못해 아쉬운 모습이지만 관련주 시장보다 강한 모습을 보였습니다. 브리지텍 시간 외에서 상승 모습이라 내일 오전 관심 주로 시초가 지켜볼 생각입니다. 거래 대금과 일봉 차트 위치는 추가 상승 여력이 남아 있어...\", 'date': '2024.05.13.'}\n",
      "{'title': '인공지능&챗GPT 강의 추천 3편 - 생성형AI 뭐길래 난리일까', 'text': 'AI(인공지능)가 세상을 빠르게 바꾸고 있습니다. 저는 훗날 돌아보면 스마트폰 시대를 연 아이폰 혁명 같은 일이 아닐까 생각합니다. 아니, 그 이상의 큰 변화인 것 같다고요. 그런데 막상 챗GPT를 열어보면 이게 뭔지, 이걸 어떻게 써야할지, 왜 혁명이라 하는지 감이 잘 안 오죠. 챗GPT가 그린 LLM 개념 게다가 LLM(Large Language Model, 대형언어모델)이며 생성형 ...', 'date': '2024.01.24.'}\n",
      "{'title': '한글과컴퓨터 주가 전망 : 인공지능에 진심이다.', 'text': '인공지능에 진심이 느껴지는 기업입니다. 한글과컴퓨터 주가 전망 시작하겠습니다. 1. 기업 정보 2. 한글과컴퓨터 주가 분석 3. 한글과컴퓨터 실적 4. 수급 분석 5. 한글과컴퓨터 배당금 6. 지분 현황 7. 인공지능에 진심이다. 8. 한글과컴퓨터 주가 전망 기업 정보 동사는 소프트웨어 개발 및 공급업을 목적으로 1990년 10월 11일에 설립되었으며, 1996년 9월 24일...', 'date': '3주 전'}\n",
      "{'title': '제조업에 인공지능(AI) 입힌다!', 'text': '‘인공지능(AI) 자율 제조 마스터플랜’ 수립 착수 산업통상자원부가 제조업의 공정 혁신과 생산성 제고를 통한 산업 대전환을 위해 ‘인공지능(AI) 자율 제조 마스터플랜’ 수립에... 이에 산업부는 ▲지능형 생산 ▲첨단장비 결합 ▲자율제조 시스템 등을 중심으로 한 마스터플랜을 상반기 중 수립할 계획입니다. 한편, 이날 간담회에서 참석 기업들은 산업 AI가 제조업...', 'date': '2024.03.07.'}\n",
      "{'title': '기업 컨택센터를 인공지능 IPCC, AI 고객센터로 대체한다면 효율적이지 않을까', 'text': \"혹자는 '인공지능이 대체하기엔 아직은 무리가 아닐까?' 생각하겠지만 아니다. 인공지능은 우리가 상상하는 것 이상으로 발 빠른 발전을 이뤄내고 있고 AI 컨택센터 역시 기계음만이 가득한 단순한 안내를 넘어 실제 상담원의 역할을 하는 시대가 왔으니까. 실제로 클라우드 기반 AI 기능을 제공하며 자체적인 고객센터 솔루션을 제공하는 KT A'Cen Cloud의 경우 초기 장비...\", 'date': '3주 전'}\n",
      "{'title': '애플의 WWDC에서 공개할 AI 기능 예상 / 인공지능이 인간의 외로움을 해결할까에 대한 단상', 'text': \"Galaxy AI 번역/요약 인공지능이 사람의 외로움을 해결하는데 도움이 될까? 될 수도 있고, 역효과가 날 수도 있다. 개인적으로는 기대하는 쪽. 영화 'Her'도 그렇고 최근 공개된 ChatGPT-4o도 그렇고 조금씩 사람이 편하게 마음을 열 수 있는 형태의 이 개발되고 있다. Could AI help cure ‘downward spiral’ of human loneliness? 인간의 외로움을 해결하는 AI의 잠재력...\", 'date': '4주 전'}\n",
      "{'title': '인공지능 사관학교 제5기 교육생을 모집합니다!', 'text': '과학기술정보통신부와 광주광역시가 함께하는 AI 고급인재 양성사업 인공지능 사관학교 제5기 교육생을 모집합니다! 기간 2024. 01. 02. (화) ~ 2024. 02. 29. (목) 모집대상 인공지능에 관심있는 만 18세 ~ 만 39세 미취업자 청년 * 대학(원) 휴학 및 졸업생, 취업준비생 누구나 가능 (학력, 전공, 성적, 거주지 등 조건 없음) 교육내용 이론 및 실습 교육 과정 및...', 'date': '2024.01.08.'}\n",
      "{'title': 'AI 인공지능 관련주 대장주 카카오 주가 전망 분석', 'text': 'AI 인공지능 관련주 대장주 카카오 주가 전망 에 관해서 월봉차트 분석해 드립니다. 출처:네이버 금융 실전 분석 최근 3년 매출액은 꾸준히 증가하고 있으며, 영업이익률도... 네이버 금융 AI 인공지능 관련주 대장주 카카오 기업 정보 대표자 정신아 기업구분 카카오 계열사, 코스피 상장 업종 포털 및 기타 인터넷 정보매개 서비스업 설립일 1996년 2월 16일...', 'date': '2024.05.06.'}\n",
      "{'title': '[생성형 인공지능] 피카랩스(Pika)에서 사운드 생성하기', 'text': '생성형 인공지능 피카에서 동영상을 만드는 방법은 다음의 자료를 참고하세요! \" & 최근 생성형 인공지능 피카(Pika)에서 사운드 효과를 생성하는 기능이 추가되었습니다. 피카(Pika) 사운드 효과 생성하기 피카에서 제공하고 있는 불꽃놀이 동영상을 이용해 사운드를 생성해 보겠습니다. 동영상을 업로드하고, [Sound Effects] 클릭 이후 자동으로 동영상이...', 'date': '2024.04.23.'}\n",
      "{'title': 'chat gpt 기반의 AI 휴대용녹음기 요약 번역등 인공지능 플라우드노트', 'text': '그만큼 많은 분들이 관심을 가지고 있을텐데요~ 그래서 오늘은 최근 가장 핫한 챗gpt 기반의 인공지능 \"휴대용녹음기\" 플라우드노트를 소개해볼가 합니다. 스마트폰으로 간편하게... 인공지능 chat GPT 활용에 대한 부분과 1.제품 휴대폰 연동 2.전용앱 사용 방법 및 결과 3.업무 및 여행중 사용 차례로 연속해서 포스팅해볼 생각 입니다. 오늘은 제품구성 및 간단한 소개만...', 'date': '2024.04.22.'}\n",
      "{'title': '윈도우 환경에서 코파일럿 Copilot 으로 ChatGPT 인공지능 설정', 'text': '#윈도우11코파일럿 #윈도우11인공지능 #윈도우11AI #윈도우인공지능 #windowcopilot #copilot 윈도우 11을 사용하는 사용자에게는 코파일럿(Copilot)이 효율적인 작업을 위한 유용한 도구로 다가옵니다. 코파일럿은 AI를 활용해 사용자 경험을 향상시키는 기능으로, 다양한 업무를 쉽게 처리할 수 있도록 돕습니다. 특히, 코파일럿을 활성화하는 방법을 잘 알고...', 'date': '2024.05.07.'}\n",
      "{'title': '인공지능 대중화의 최선두 분야 방위산업, 그 안에서 한국의 현재 상황', 'text': 'https://n.news.naver.com/mnews/article/003/0012490212?sid=101 https://n.news.naver.com/mnews/article/011/0004325198?sid=100 한국 군은 인공지능을 활용한 드론 시스템과 이에 대응하는 안티 드론시스템도 빠르게 도입하고 있고, 인공지능 활용의 기초 인프라가 될 인공위성 감시시스템 구축에도 적극적입니다. 이달 8일 발사된 고성능 감시위성인 SAR 위성을 스페이스X를 통해 발사해...', 'date': '2024.04.15.'}\n",
      "{'title': '영어공부어플 야나두 인공지능 AI원어민톡 영어를 잘하고 싶다면 추천', 'text': '영어공부어플 야나두 인공지능 AI원어민톡 영어를 잘하고 싶다면 추천 안녕하세요. 사진&IT 크리에이터 자유분방입니다. 누구나 영어를 잘하고 싶고, 많은 시간을 할애하여... 챗GPT, AI인공지능 등의 발달이 이렇게 ai 교육으로 이어지게 되네요. 영어공부어플 AI원어민톡 소개 AI원어민톡의 주요 특징들을 한번 나열을 해보도록 할게요. 1> 원어민이 자주...', 'date': '2024.04.16.'}\n",
      "{'title': '인공지능 위험성 분석하고 신뢰성 확보! AI 신뢰성 인증제도', 'text': '묻는 말에 대답해주거나, 제시문에 따라 영상을 만들어 주는 생성형 인공지능은 편리하지만 치명적인 단점이 몇 가지 있습니다. 엉뚱한 대답을 하는 환각 현상과 잘못된 정보를 의도적으로 확산시키는 딥페이크 영상을 만들어 낼 위험성이 있는데요. 때때로 생성형 AI는 거짓 정보를 마치 사실인 것처럼 풀어내는 ‘환각’ 현상을 보입니다. 이는 이 학습된...', 'date': '2024.05.09.'}\n",
      "{'title': '3년 후 이 회사주식 10배 간다고? 1인 1인공 지능 시대 재파 엑스 앱 다운로드 주식 신청하는 방법', 'text': \"1인 1인공 지능 시대 재파 엑스 앱 다운로드 주식 신청하는 방법 테슬라의 CEO 일론 머스크는 테슬라의 초창기에 20억을 투자해서 지금의 부자가 되었습니다. 우리가 테슬라의 초창기로... 인공지능 AI 스타트업 <재파 엑스 X>! 근데 왜 주식을 공짜로 주냐구요? 그냥, 고맙잖아요! 재파 유튜브 '재테크 읽어주는 파일럿'에 오셔서 수다도 같이 떨어 주시고, 고맙잖아요. 그...\", 'date': '2시간 전'}\n",
      "{'title': '이제 조금 알게된 인공지능경영시스템 심사원(ISO42001) 등록!', 'text': '#ISO42001 은 #인공지능경영시스템심사원 으로 2023년 중반에 나왔다. 지금까지 내가 아는 것을 공유하는 것이므로 내용에 오류가 있을 수 있음 그래서 아직 구체적인 무엇인가 정해져... 즉, ISO인증의 지식이외에 인공지능 자체에 대한 지식이 있어야 한다. 결론 전망은 아주 좋아 보이고 기존에 기득권(나쁜 의미아님)도 없기 때문에 새롭게 진출해서 우리가 기득권이...', 'date': '6일 전'}\n",
      "{'title': '인간에게 인공지능은 긍정적일까? 부정적일까?', 'text': '그 이유와 인공지능에 대해 어떻게 생각하는지, 여러분들이 두려워하는 인공지능에 대해 함께 살펴볼게요. 바로 시작합니다! 인공지능의 세계로~ © hiteshchoudhary, 출처 Unsplash OpenAI에서 GPT 모델을 만든 후 퇴사하고 Anthropica를 설립한 이유 OpenAI에서는 GPT-2를 만들고 연구에 관여했는데요. 그 후에는 Anthropic을 만들기 위해 OpenAI를 떠난거죠. 일부 그룹은 GPT...', 'date': '2024.04.16.'}\n",
      "{'title': 'MWC 2024 텔코 AI와 함께 하는 SKT 인공지능 기술 소개', 'text': \"국내 통신 브랜드를 대표하는 SKT 부스에서는 불과 몇 년 사이에 가장 핫한 키워드로 떠오른 인공지능과 관련된 여러 가지 기술과 활용 사례들을 만나볼 수 있었습니다. 많이 가까워지기는 했지만 아직까지 우리 일상에 어떤 영향이 있을지 모르겠다는 분들도 있습니다. 아주 간단한 예로 SK텔레콤의 비서인 '에이닷'이 있습니다. 에이닷을 이용하면 통화...\", 'date': '2024.02.29.'}\n",
      "{'title': '인공지능 시대, 휴머니티와 진정성으로 디지털 플랫폼 비즈니스', 'text': '인공지능 시대란 인공지능이 음성 번역, 로봇 공학, 인공 시각, 인지 과학 등 다양한 분야에서 인간이 해야 할 일을 기계가 대신하게 되는 시대를 말합니다. 챗 GPT가 탄생하면서 인공지능 시대를 빠르게 앞당겨지고 있습니다. 얼마 전 매일경제에 나온 내용을 보면 산업연구원의 AI 시대 일자리 보고서에 일자리 327만 개가 사라진다는 충격적인 보고서가 나왔으며, 금융업은...', 'date': '2024.04.01.'}\n",
      "{'title': '공장 내 인공지능cctv 설치후기 | 공장cctv | 업체cctv | cctv | cctv추천 | 공장CCTV추천 |', 'text': '자비스넷의 인공지능cctv가 더욱 특별한 이유는 제공하는 모든 카메라에 지능형 영상분석 기능이 탑재되어 있기 때문인데요, 지능형 영상분석 기능이란? 카메라에 촬영되어지는 모든 객체를 분류하며 군집감지, 침입/도난감지, 투기감지, 배회감지, 쓰러짐 감지 등 다양한 객체의 행동 변화를 감지하여 분석하는 기능을 말합니다. 자비스넷만의 지능형...', 'date': '1시간 전'}\n",
      "{'title': '국제미래학회 챗GPT 인공지능지도사 1급 과정 수료 및 챗GPT인공지능지도사협회 공식 출범', 'text': '\\'챗GPT 인공지능지도사\\' 1급 과정 수료 및 지도사협회 공식 출범 지도사 자질 향상과 인공지능 선용 리더 활성화 다양한 역할 수행 안종배 \"인공지능 선용 방안 제시, 미래사회에 긍정적 변화 이끌어 갈 것\" #국제미래학회 #대한민국메타버스포럼 #안종배 # #챗GPT지도사 국내 대표 미래기관 국제미래학회와 대한민국 메타버스포럼...', 'date': '2일 전'}\n",
      "{'title': '갤럭시 탭 S9 업데이트 AI 통역 인공지능 탑재, 삼성 필기용 태블릿 PC 추천', 'text': '삼성 스마트폰 갤럭시S24 모델은 최초로 온디바이스 AI 인공지능 기능을 탑재하여 큰 주목을 받았습니다. 탄탄한 실용성을 바탕으로 실제 판매량까지 이어졌고 이 기세를 몰아... 여기에 온디바이스 AI 인공지능 기능까지 추가되어 활용도는 더욱 좋아졌습니다. 어떤 기능이 있는지 하나씩 살펴볼게요. 먼저 실시간 대면으로 대화를 통역해주는 기능입니다. 파파고나 구글...', 'date': '2024.04.13.'}\n",
      "{'title': '강원특별자치도가 인공지능(AI) 헬스케어 글로벌 혁신 특구로 지정되었습니다!', 'text': '지난 4월 30일(화) 「강원 인공지능(AI) 헬스케어 글로벌 혁신 특구」가 신규 지정 의결되었습니다. 강원특별자치도는 풍부한 경험과 노하우를 바탕으로 인공지능(AI) 헬스케어 산업 생태계를 구축할 계획입니다. 인공지능(AI) 헬스케어 글로벌 혁신 특구 혜택 국내 최초 전면적 사후 규제(네거티브) 특례 방식 시행 법률에서 금지한 행위가 아니면 기준과 규격 등이...', 'date': '2024.05.03.'}\n",
      "{'title': '[키네마스터] 인공지능 자동자막 입력 기능 업데이트 사용법, 스마트폰강사', 'text': '며칠전에 키네마스터도 인공지능으로 자동자막이 입력되는 기능이 추가 업데이트 되었네요. 플로그인을 다운받아야 되지만 굿굿 아주 좋습니다. 키네마스터 최고에요.^^ 키네마스터 인공지능 자동자막 입력 기능 업데이트 사용법 음성 동영상 추가 키네마스터 어플 터치하고 만들기 새로만들기 터치하구요. 프로젝트 이름 입력하고 16:9 선택하고 만들기 터치합니다....', 'date': '2024.03.29.'}\n",
      "{'title': '인공지능이 할 수 있는 것, 할 수 없는 것(2) (4장 지능 패러다임～5장 AI 시대)', 'text': \"4장 지능 패러다임 여러 가지 지능 '인공지능 패러다임'이란 인공적으로 만들어진 모든 기술을 써서 문제를 해결하는 접근법이라 할 수 있다. 인공지능은 기호주의 인공지능과 기계학습 인공지능을 포괄한다. '문자 지식 패러다임'에서 짧은 정보나 지식 혹은 기억하기 어려운 긴 경험은 문자를 통해 기록되고 분석되고 조립되며 이를 통해 이전에는 불가능하던 더...\", 'date': '2024.05.10.'}\n",
      "{'title': '프로 크기 얼마나 커질까? 생성형 AI(인공지능) 향상시킨 뉴럴 엔진 탑재 기대(feat. 애플 최신 모델)', 'text': '애플이 인공지능 면에서는 아직 이슈를 만들지 못하고 있어 수많은 애플 유저들의 목을 길게 늘어뜨리고 있습니다. 최근 생성형AI(인공지능)을 행상시킨 뉴럴 엔진을 탑재한 아이폰16 프로를 오는 9월에 공개한다는 소식이 들립니다. 역시 애플은 애플이지~ 라고 환호할 텐데요. 과연 얼마나 만족스러운 결과를 제공할지 기대해 보면 좋을 것 같습니다. 아이폰16...', 'date': '2024.03.12.'}\n",
      "{'title': '챗 GPT 오픈 AI 그리고 인공지능 챗 GPT의 시대 4차 산업혁명 서영상 지음', 'text': '듭니다 인공지능의 역사 초창기에는 기계가 과연 인간의 지능을 가질 수 있는지 의문이 있었어요 그래서 앨런 튜링의 아이디어로 튜링 테스트라는 방법으로 인공지능의 초기... 했답니다 인공지능의 역사를 돌아보면 발전하는 과정은 기술 부족으로 실패가 많았지만 반도체의 비약적인 개발로 딥러닝과 인공신경망이 발전하며 인간의 언어를 이해하고 생성할 수...', 'date': '2024.04.13.'}\n",
      "{'title': '2025년 인공지능(AI) 디지털교과서 도입 ··· 초·중등 디지털 인프라 개선 계획', 'text': '2025년 인공지능(AI) 디지털교과서가 도입됩니다. 교육부는 5월 14일 이 같은 내용이 포함된 ‘초·중등 디지털 인프라 개선 계획’을 발표했는데요. AI 디지털교과서는 2025년 초등학교 3... ▶나에게 든든한 정책주간지 K-공감 원문 기사 보기 함께 읽으면 좋은 콘텐츠 초·중·고 모두 ‘(AI) 디지털교과서’ 검정도서로 발간, 2025년 도입 \"AI 반도체가 없다면 AI는...', 'date': '2024.05.24.'}\n",
      "{'title': '한국저작권위원회 저작권 걱정 없는 인공지능 학습 원천데이터 소개 스마트테크코리아2024', 'text': '저작권 걱정 없는 \\'인공지능 학습 원천데이터\\' 소개 스마트테크코리아 2024에서 ‘공유 BANK’ 주제 홍보부스 운영 \"수요층에게 꼭 필요한 초기 데이터, 지속 구축해 제공할 예정\" #한국저작권위원회 #스마트테크코리아2024 # #학습원천데이터 #공유BANK 원천데이터 홍보부스. 사진=한국저작권위원회 한국저작권위원회(위원장 강석원, 이하 위원회)는...', 'date': '5시간 전'}\n",
      "{'title': '인공지능이 할 수 있는 것, 할 수 없는 것(1) (1장 인공지능 패러다임～3장 기계학습 )', 'text': \"점 더 정확히 말하면 타고난 지능과 인공적으로 만들어진 지능의 하이브리드 시스템이었다. 저자는 이들을 사이보그1이라고 부른다. 3장 기계학습 인공지능 기계학습 인공지능을 구현하기 위한 접근법에는 '연결주의' 혹은 '기계학습' 접근법이 있었다. 기계학습은 인간이 규칙을 제공하지 않고 기계가 스스로 주어진 데이터 안에 존재하는 규칙을 찾아내어 새로운 상황에...\", 'date': '2024.05.09.'}\n",
      "{'title': '인공지능 기계 디자이너의 탄생', 'text': '인공지능(AI) 관련 산업이 가파르게 성장함에 따라 중국의 인공지능 관련 디자인 산업 역시 비약적인 발전을 이루고 있다. 2016년 퉁지대학(同濟大學)이 세계 최초로 ‘디자인 인공지능 실험실’을 설립하여 대학원생을 양성한 뒤 저장대학(浙江大學), 칭화대학(清華大學) 등 저명한 대학교들이 자원을 투입하고 관련 학과를 설치하며 디자인과 의 결합을...', 'date': '2024.04.27.'}\n",
      "{'title': '인공지능 디지털교과서 본격 도입 대비, 학교 디지털 인프라 질적 개선에 총력', 'text': '(수) 인공지능(AI) 디지털교과서 시대, 디지털 기반 수업혁신을 지원하기 위한 「초·중등 디지털 인프라* 개선계획」을 발표한다. * 디지털 인프라는 학교 내에서 디지털 기술을... 특히, 그간의 디지털 기기 보급 등 인프라의 양적 확대를 넘어 새롭게 도입되는 디지털교과서 구동 환경에 걸맞게 질적 개선을 추진하고, 인프라 관리 부담 경감 등 학교 현장의...', 'date': '2024.05.14.'}\n",
      "{'title': '홈페이지 제작, 인공지능 쇼핑몰 제작 하기', 'text': '오늘은 홈페이지 제작 기간부터 업체 선택 요령 그리고 요즘 핫한 인공지능 쇼핑몰 제작하는 방법에 대해서 이야기를 해보려 합니다. 알다시피 홈페이지는 기업의 꽃이자, 브랜딩을 할... 그중에 하나가 바로 < 인공지능 상담 시스템 >입니다. 고객이 궁금하거나 물어보고자 하는 내용을, 쇼핑몰에서 일일이 다 응대하려면 시간이 많이 걸리겠죠? 그래서 요즘은 ...', 'date': '2024.05.09.'}\n",
      "{'title': '엔트리 인공지능 with 햄스터 로봇 개정판', 'text': '엔트리 인공지능 with 햄스터 로봇 개정판 * 책 소개 엔트리와 햄스터 로봇으로 시작하는 인공지능 프로그래밍 《엔트리 인공지능 with 햄스터 로봇 개정판》은 엔트리와 인공지능을 활용해 재미있고 유익한 프로그래밍 활동을 해 볼 수 있는 도서로, 이번 개정판은 엔트리 최신 버전으로 전체를 업데이트하였고 엔트리의 신기능인 탐험하기에 대한 간략한...', 'date': '2024.05.02.'}\n",
      "{'title': '[외식경영학회 춘계학술대회 기조강연] 생성형 인공지능 시대, 외식산업의 성장 전략', 'text': '외식경영학회 춘계학술대회 기조강연 생성형 인공지능 시대, 외식산업의 성장 전략 한국외식경영학회 오늘은 대구카톨릭대학교에서 진행되는 한국외식경영학회 2024 춘계학술대회 기조강연에 대한 소식을 공유하여 드립니다. 을 활용한 외식업 창업, 경영, 마케팅 김영갑 교수 14시~15시 예정 김영갑 교수 기조강연의 내용은 어떻게 구성되었나? 생성형...', 'date': '4주 전'}\n",
      "{'title': '[2024년 2분기 세미나 후기] 챗GPT 질문의 기술:인공지능 시대 개인의 경쟁력은 질문하는 힘', 'text': '이번 세미나의 주제는 『 챗GPT 질문의 기술:인공지능 시대 개인의 경쟁력은 질문하는 힘 』 입니다 지난 1분기 세미나와 달리 이번 2분기 세미나는 시각적인 자료 제공을 위해 대면으로 진행이 되었습니다!! (이번에도 많은 분들이 신청해 주셔서 운영진은 참으로 뿌듯했습니다..후후..) 세미나를 진행해주신 강사님께서는 『 챗GPT 질문의 기술 』의 저자이자 AIwave의...', 'date': '3주 전'}\n",
      "{'title': '알아두면 유용한 인공지능(AI) 플랫폼', 'text': \"회사 이름과 업종만 입력하면 AI가 2분만에 로고를 제작해주고, 또 자동으로 광고 문구를 생성해주는 등 인공지능을 활용한 다양한 플랫폼이 개발되고 있습니다. 알아두면 유용한 인공지능(AI) 플랫폼, 윤커뮤니케이션즈와 함께 살펴보세요! 2분만에 로고 만들기! AI 로고 제작 플랫폼 'Designs.ai' Designs.ai 'Designs.ai'는 을 활용하여 디자인 작업을...\", 'date': '2024.03.29.'}\n",
      "{'title': '큰 화면 TV와 인공지능 결합 판매량 반전? LG 알파11 프로세서 탑재한 엘지 올레드 에보(M4/G4)와...', 'text': '위에서 개인적으로 인공지능에 대한 생각을 LG전자도 했는지 인공지능보다는 공감지능이라는 용어를 사용하기 시작했습니다. 어떻게 보면 솔직하고 정직한 표현이 아닌가 싶습니다. 올해 LG TV는 인공지능 성능을 강화한 알파11 AI 프로세서가 핵심 요소로 기존 대비 최대 4배 강화된 딥러닝을 시켰습니다. 기존보다 4배가 강화된 으로...', 'date': '2024.05.11.'}\n",
      "{'title': '파이썬기초 인공지능 개발자 국비 강의 학원', 'text': '여러분~ 전 개발자 현 IT 전문 진로 컨설턴트 이 팀장입니다~ 오늘은 파이썬기초 인공지능 개발자 국비 강의 학원 이라는 내용으로 찾아왔습니다. 전 세계가 빠른 속도로 발전을 하고... 이처럼 AI 인공지능이나 빅데이터 분석 사물인터넷 RPA 로봇 소프트웨어 사무 자동화 등 다양한 기능들이 나오기 시작하면서 IT 기업뿐만 아니라 일반 기업들의 입장에서도 관련...', 'date': '2시간 전'}\n",
      "{'title': '[우리사업을 ~확] 주요 본부 사업 - 인공지능', 'text': '| 4차 산업혁명 시대의 핵심 기술, AI 인공지능(AI)은 4차 산업혁명 시대의 핵심 기술로 자리매김했습니다. 세계 AI 시장규모는 2026년까지 연평균 39.7% 성장하여 3,095억 달러(출처... AI 기술의 개발부터 실증, 검증까지 전주기 지원체계를 구축해 성능과 신뢰성이 확보된 데이터와 제품을 시장에 공급하는 등 국내 산업 지능화를 촉진하고, 산업 디지털 전환 정책을...', 'date': '2024.05.10.'}\n",
      "{'title': '리벨리온 인공지능 AI 반도체 주식 상장 주가 - NPU 관련주', 'text': '리벨리온 인공지능 AI 반도체 주식 상장 주가 - NPU 관련주 반도체 산업은 두 부류로 나뉩니다. 반도체를 설계하고 디자인 하는 쪽과, 이걸 실제 공장에서 찍어내는 쪽입니다. 전자를... 엔비디아가 급성장한 이유는 인공지능 분야에 절대적으로 필요한 반도체 설계기술을 가지고 있기 때문입니다. AI 를 학습하고 동작시키기 위해서는 엄청나게 많은 부동소수점...', 'date': '2024.03.14.'}\n",
      "{'title': \"[ChatGPT 특강] '생성형 인공지능의 이해 및 사용법' 실습 강의 진행(2차수)\", 'text': \"대상으로 '생성형 인공지능의 이해 및 사용법'에 관한 주제로 실습형 강의를 했습니다. ChatGPT 특강이 오전 9시부터 시작되기 때문에 전날 생활관에서 숙박하고, 아침 일찍 강의를 준비했습니다. 직급별 교육 1차수는 일반직 4,5급을 대상으로 진행했으며, 이번에는 6,7급을 대상으로 생성형 활용법에 대해 강의했습니다. 한국폴리텍대학 인재개발원...\", 'date': '2024.04.11.'}\n",
      "{'title': '디지털 소양을 기르는 인공지능 수업디자인', 'text': '인공지능 수업을 어떻게 준비하면 좋을까 고민하다가 읽게 된 책입니다. 박재찬 선생님이 저자인데요. 이쪽 분야에서 오래동안 활동하신 분입니다. 소개 부분을 보면 교사들의 PBL 수업, AI 디지털 활용수업 분야에서 활동하는 분인데요. 디지털 소양을 기르는 수업디자인 저자 박재찬 출판 테크빌교육 발매 2023.09.08. 책은 2022 개정 교육과정 기반 AI 디지털 활용...', 'date': '2024.04.13.'}\n",
      "{'title': '[현미경] AI(인공지능)부터 웹툰까지! 미래를 바꿀 트렌드, 콘텐츠 IP(지식재산권)', 'text': '오늘날 인공지능(AI)과 지식재산권(IP)이 콘텐츠 산업의 변화를 이끌고 있다고 설명했습니다. 엔데믹에 돌입하며 새로운 동력을 찾는 움직임이 컸던 2023년, 콘텐츠 산업 전 영역에 AI 기술이 도입돼 콘텐츠 제작 효율성을 높였고, IP를 활용한 다양한 사업들이 탄생한 것이죠. 그렇게 탄생한 콘텐츠 IP산업 현황을 살펴보기에 앞서, 콘텐츠 IP의 정의부터 찬찬히...', 'date': '2024.04.12.'}\n",
      "{'title': 'AI 스피커 추천 누구 캔들 인공지능 거실 사용 장점 단점', 'text': '인공지능 스피커와 추천 제품 중 누구 캔들을 소개해 드리며 거실 스피커로서의 장점 단점을 알려드리도록 하겠습니다 NUGU 스피커는 누구 캔들 S2 인공지능 스피커 입니다. 누구 캔들은 SK텔레콤과 아마존 알렉사를 사용할 수 있게 개발된 스피커인데요 가장 중요한 특징은 바로 한국 어와 영어를 명령하면 수행할 수 있는 똑똑한 AI 스피커라는 것입니다....', 'date': '2024.03.31.'}\n",
      "{'title': '인공지능 AI 행정 지원 서비스 행정안전부 시범 운영', 'text': '인력 감축은 없고 정부가 보유하고 있는 행정 데이터와 기업이 민간기업의 초거대 인공지능 AI 기술의 접목으로 기존인력으로 더 많은 서비스를 제공한다는 취지이며 AI 인공지능을 활용한 전자적 처리를 통해 선제적이고 창의적인 정부 혁신을 선도하며 디지털 플랫폼 정부 실현에 한걸음 다가가는 전환점으로 삼는다는 것이랍니다. 민·관 협업 지능형 업무관리시스템...', 'date': '6일 전'}\n",
      "{'title': '개인정보위, 인공지능 시대 개인정보 정책 방향을 국제사회와 논의', 'text': '개인정보위, 인공지능 시대 개인정보 정책 방향을 국제사회와 논의 - 제61차 아시아태평양지역 개인정보 감독기구 협의체(APPA) 포럼에서 ‘비정형 데이터 가명처리 가이드라인’... 1일차(6.20.) 포럼 “국가별 동향 보고” 세션에서는 각국 개인정보 감독기구들이 아동에 대한 개인정보 보호, 관련 개인정보 정책과 소셜네트워크(SNS) 등 여러 조사·처분...', 'date': '1일 전'}\n",
      "{'title': 'AI 브랜딩 회사, 타이디비에서는 인공지능 기술로 브랜딩을 한다고?', 'text': '이러한 브랜드 마케팅도 이제는 내부 인력이 없어도 인공지능 기술을 활용해 시도해 볼 수 있게 되었습니다. 실제로 AI 브랜딩 회사, 타이티비에서는 적은 비용으로 고퀄리티의... 그런데 이제는 이러한 브랜딩도 인공지능 기술로 자동화할 수 있다면 어떨까? AI 브랜딩 회사, 타이디비 창업가, 마케터, 디자이너를 위한 AI 브랜딩 회사인 TIDY-B(타이디비)에서는 생성형...', 'date': '2024.05.18.'}\n",
      "{'title': '인공지능 AI 활용하여 브리핑 자료로 유튜브 영상 제작하기...기본과정 4주차', 'text': '오늘은 유튜브 영상을 꼭 휴대폰이나 카메라로 찍은 영상만이 유튜브 영상이 되는 것이라는 편견을 깨는 인공지능 사이트를 활용한 영상 소스제작과 영상편집 방법을 배웠습니다. 많은 분들이 이런 신세계가 열렸다고 환호해 주셨습니다. 왜냐하면 이런 높은 수준의 영상은 많은 시간이 걸릴 줄 알았는데, AI 사이트를 활용하니 놀라운 시간 단축으로 많은...', 'date': '2024.04.03.'}\n",
      "{'title': '[과학향기 for Kids] 인공지능(AI)이 똑똑해진 비결은? ‘기계학습’', 'text': '이 모든 일을 하는 주인공은 바로 ‘인공지능(AI)’입니다. 그동안 AI는 SF 영화 속에서만 만나볼 수 있었지만, 기술의 발전으로 어느덧 일상 속 곳곳에 침투해 우리 생활을 편리하게... 과학자들은 오래전부터 인간의 지능을 닮은 기계를 개발하고 싶어 했습니다. 그러던 중 1950년 영국의 수학자인 앨런 튜링은 언젠가 모든 면에서 인간의 지능을 따라 할 수 있는...', 'date': '2024.05.13.'}\n",
      "{'title': '소상공인 식당 경영자가 상권분석을 할 때 인공지능을 활용하는 방법', 'text': '소상공인 여러분, 인공지능을 활용해서 상권분석을 하는 시대가 되었습니다 소상공인 식당 경영자를 위한 상권분석을 할 때 인공지능을 활용하는 방법에 대해 설명해 드리겠습니다. 인공지능은 예비 창업자와 기존 사업자 모두에게 유용한 상권 분석 도구가 될 수 있습니다. 을 활용하여 상권 분석을 수행하는 방법을 단계별로 안내해 드립니다. 1단계: 목표 설정...', 'date': '2024.05.21.'}\n",
      "{'title': '[이핀로봇F+] 인공지능 로봇의 과대낙폭 단기바닥 포착 (에스바이오메딕스 +7%)', 'text': '인공지능 로봇의 타점 포착! 지금 시작합니다. 최근 미국증시를 이끌었던 엔비디아 등 반도체 관련주들이 조정구간에 들어가며 지수가 하락하고 있습니다. <나스닥 지수 차트> <코스피 코스닥 지수 차트> 오후 12시 21분 기준 한국증시 또한 조정구간을 만들고 있습니다. 오늘 같은 시장에서 이핀의 로봇 시그널캐쳐의 당일 매수매도 원칙 단타로봇은...', 'date': '1시간 전'}\n",
      "{'title': 'Open AI 실시간 대화 가능한 ChatGPT 4o 공개, 국내 AI 인공지능 관련주는?', 'text': '이에 따라 국내 AI 인공지능 관련주들도 긍정적인 영향을 받을 것으로 예상되는데요. Open AI ChatGPT 4o 주요 기능과 관련주들을 알아보겠습니다. [주요 기능] ChatGPT 4o는 이전 버전인 챗GPT4 수준의 지능을 자랑하면 훨씬 더 빠르게 텍스트, 음성, 비전 기능을 제공하는 플래그십 모델입니다. 1. 실시간으로 자연스러운 대화가 가능합니다. 이날 시연을 시작하며...', 'date': '2024.05.14.'}\n",
      "{'title': '갤럭시 S24 핵심인 온디바이스 AI 인공지능', 'text': '얼리어답터 리뷰/스마트폰 갤럭시 S24 핵심인 온디바이스 AI 인공지능 by 엔돌슨 2024. 1. 22. 갤럭시 S24 왜 인공지능 탑재된 온디바이스 AI 일까? 이제 언어의 장벽은 인공지능 앞에서 다 깨져버리는 것일까요? 이런 생각이 듭니다. 그리고 스마트폰이 개인 비서 역할을 더 잘해줄 수 있게 변해가는 중이라는 생각이 듭니다. 최근 출시된 삼성전자의 스마트폰인 갤럭시...', 'date': '2024.01.22.'}\n",
      "{'title': '구글 홈미니 인공지능 AI 스피커 블루투스 네스트미니', 'text': '이번 시간에는 구글 홈미니 인공지능 AI 스피커 블루투스 네스트미니에 대해 알아보도록 하겠습니다. 먼저 구글홈미니 1세대는 2017년에 첫 선을 보이며 우리 생활 속에 AI 스피커라는 새로운 카테고리를 소개했는데요. 기본적으로 음성 인식 기능을 탑재해 간단한 명령으로 음악 재생, 정보 검색, 일정 관리 등을 할 수 있습니다. 또한, 2019년에는 스피커...', 'date': '2024.05.18.'}\n",
      "{'title': '빅데이터 국비 학원 (서울 AI 데이터 분석/인공지능 빅데이터 취업) 데이터 애널리스트 양성과정 교육생 모집', 'text': '빅데이터 국비 학원 (서울 AI 데이터 분석/인공지능 빅데이터 취업) 데이터 애널리스트 양성과정 교육생 모집 안녕하세요. 취업 비서 인크루트 입니다. 디지털 핵심 실무인재 양성사업 (K-Digital Training)으로 진행되는 빅데이터 국비 학원 (서울 AI 데이터 분석/ 빅데이터 취업) 데이터 애널리스트 양성과정 교육생 모집이 진행되고 있습니다. 지금부터 교육생...', 'date': '2024.05.24.'}\n",
      "{'title': '[도서] DX 디지털 대전환 시대 AX 인공지능 대전환 : AI가 만들어낸 새로운 AI Home 시대, AX 시대의...', 'text': \"DX 디지털 대전환 시대 AX 인공지능 대전환 저자 이정용,임재희 출판 광문각출판미디어 발매 2024.04.29. 광문각출판미디어에서 출간한 'DX 디지털 대전환 시대 AX 인공지능 대전환'입니다. 요즘 뉴스를 살펴보면 인공지능 AI가 우리나라의 새로운 미래 먹거리 산업으로 각광받으면서 이에 대한 기술 개발이나 투자 유치 등에 대한 소식들이 계속해서 들려오고...\", 'date': '2024.05.16.'}\n",
      "{'title': '숨어있는 인공지능 관련주 AMD 주식 주가 총정리', 'text': '숨어있는 인공지능 관련주 AMD 주식 주가 총정리 시간입니다. 인공지능 관련주 LG전자 바야흐로 인공지능 세상입니다. 인공지능 대장 주인 엔비디아는 AI 반도체를 앞세워 사상 최고가를 연일 경신하고 있습니다. 이는 다른 회사보다 발 빠르게 시장을 점유했기 때문입니다. AI 시장은 발전 가능성이 높습니다. 은 다양한 산업 및 서비스와 융합되고...', 'date': '3주 전'}\n",
      "{'title': \"[AI 강의] '생성형 인공지능의 이해 및 활용법' 강의 진행(1차수)\", 'text': '한국폴리텍대학 인재개발원(남원시 소재) 직급별 기본교육(1회차)에서 \\'생성형 인공지능의 이해 및 활용법\\'에 관한 주제로 실습형 강의를 했습니다. \"교육의 목적은 앎이 아니라 행동이다\" 공감 가는 문구입니다! 이번 강의에서는 4, 5급 직원분들을 대상으로 실무 현장에서 사용할 수 있는 다양한 생성형 플랫폼을 소개하고, 회원 가입 및 사용 방법을...', 'date': '2024.04.01.'}\n",
      "{'title': \"[IT 기본학습] 디지털 시대의 심리적 동반자 인공지능과 챗GPT, 정신 건강 의학 분야에 '활약'\", 'text': \"[IT 기본학습] 디지털 시대의 심리적 동반자 인공지능과 챗GPT, 정신 건강 의학 분야에 '활약' 우리의 일상생활과 정신 건강 관리 방식이 인공지능의 발전에 힘입어 변화하고 있습니다. 특히, 정신건강의학 분야에서 인공지능, 챗GPT의 활약이 돋보이고 있는데요. 본 포스팅에서는 최근 주목받고 있는 기술인 챗GPT가 우리의 정신 건강 분야에서 어떻게...\", 'date': '2024.04.08.'}\n",
      "{'title': '[홍파스] 인공지능의 거짓말: AI 환각', 'text': '사람뿐만 아니라 인공지능도 거짓말을 할 수 있다는 것을 알고 있나요? 최근 몇 년간 인공지능(AI)의 발전은 우리 생활에 혁신을 가져왔습니다. 자료조사부터 레포트 작성까지 척척해내는 GhatGPT와 같은 AI 챗봇 덕분에 많은 사람들이 편리함을 누리고 있죠. 개인뿐만 아니라 기업에서도 AI를 활용한 업무가 보편화되고 있습니다. 하지만 AI가 항상...', 'date': '6일 전'}\n",
      "{'title': '애플과 오픈AI의 파트너십: 챗GPT 통합으로 인공지능 미래를 선도하다', 'text': '최근 블룸버그 통신의 보도에 따르면, 애플은 인공지능(AI) 챗봇인 챗GPT를 활용하기 위해 오픈AI와 파트너십을 체결했지만, 이에 대한 금전적인 대가를 지불하지 않는다고 합니다. 이... 애플과 오픈AI의 파트너십은 인공지능 기술의 발전과 활용에 있어 중요한 이정표가 될 것입니다. 금전적인 대가를 주고받지 않는 협력 모델은 새로운 비즈니스 모델의 가능성을...', 'date': '2주 전'}\n",
      "{'title': '\"인공지능, 3D모델링 등 59개 과목\" 송파런 5~6월 수강생 모집!', 'text': '\"인공지능, 3D모델링 등 59개 과목\" 송파런 5~6월 수강생 모집! 교육도시 송파구의 중심, 청소년의 친구 송파런이 더욱 새롭고 다채로운 5~6월 프로그램을 준비했습니다! ✔️ 수강료: 무료(재료비 등 발생 시 별도 고지) ✔️모집과정: , 코딩, 3D모델링, 메타버스, 그래픽 등 59개 과정 ✔️모집기간: 2024. 4.23.(화) 10:00 ~ 마감 시 ※ 모집인원에...', 'date': '2024.04.25.'}\n",
      "{'title': '인공지능 AI 스피커 구글 네스트 미니 2세대', 'text': '이번 시간에는 인공지능 AI스피커 구글 네스트 미니 2세대 모델에 대해서 알아보도록 하겠습니다. 네스트 미니 2세대는 2017년에 출시된 모델로 콤팩트하고 세련된 디자인과 함께 블랙... 여러 대의 네스트 미니를 연결할 경우 멀티룸 오디오 시스템도 구성할 수 있다는 점에서 AI스피커 찾으시는 분들에게 좋은 선택지가 되어줄 제품이 아닐까 싶어요 :D', 'date': '2024.04.24.'}\n",
      "{'title': '인공지능 칩 경쟁 과열 양상으로 엔비디아 주가 하락세', 'text': \"인공지능 칩 경쟁 가열 팻 겔싱어 인텔 최고경영자(CEO)가 9일(현지시간) 미국 애리조나주 피닉스에서 열린 '인텔 비전 2024'에서 인텔의 최신형 인공지능(AI) 칩 '가우디3'을 소개하고 있다. 인텔 제공 인텔은 화요일에 가우디 3라는 새로운 AI 칩을 선보이면서 엔비디아-인텔의 직접적인 경쟁이 치열해지고 있는 것으로 보입니다. 가우디 3 칩은 지난 한 해...\", 'date': '2024.04.11.'}\n",
      "{'title': '[주기동] 설명가능 인공지능 기술 동향 및 핵심 과제 (2134, 20240522) (2/2)', 'text': '설명가능 인공지능의 핵심 과제 및 연구 방향 (이어서) 2) 기존 설명가능 인공지능 기술의 개선 XAI 방법론의 주요 분야 중 하나는 입력 기여도 방법 두가지 방법 입력의 변화를 통해 출력의 변화를 관찰하여 기여도를 측정하는 섭동(perturbation) 기반 방법 입력에 대한 출력의 기울기(gradient)를 통해 기여도를 측정하는 기울기 기반 방법 입력 기여도 방법은, 영리한...', 'date': '6시간 전'}\n",
      "{'title': 'AI 인공지능 스피커 누구캔들 장단점 알아보기', 'text': '생각보다 우리나라엔 다양한 인공지능스피커가 있습니다. 뭐... 대부분 통신사가 많아요. 삼성과 네이버도 있지만 이번엔 예외로 치자고요. 이번엔 AI스피커를 중 SK에서 만든... 그런데 너무 인공지능스피커 본연의 기능에만 집중한 티가 납니다. 일단 스피커 출력이 낮은 것이 대표적인 예 인데요. 5W의 출력은 작은 방이나 개인 공간에서는 충분하지만...', 'date': '4주 전'}\n",
      "{'title': 'LG 사운드바 AI인공지능으로 진화한 입체음향 사운드를 담다', 'text': 'LG전자에서 인공지능으로 구현한 풍부한 입체 사운드는 물론 프리미엄 LG TV 시리즈와도 디자인을 꼭 맞춘 2024년형 LG 사운드바를 출시합니다. 이번 신제품은 사운드바와 TV... 이제 사운드바도 AI 인공지능의 중요성을 담고 있는 것을 확인할 수 있습니다. LG 사운드바 AI 입체 사운드 대표 모델인 S95TR은 세계 최초로 업파이어링 스피커 3개를 탑재한...', 'date': '2024.03.11.'}\n",
      "{'title': '무엇이든 만드는 생성형 인공지능 기술', 'text': '무엇이든 만드는 생성형 인공지능 기술 https://www.etri.re.kr/webzine/202404/sub01.html ChatGPT 개발사인 오픈AI가 텍스트를 동영상으로 만들어주는 인공지능 기술 ‘SORA’를 선보였다. 현재 제한된 인원만 사용할 수 있는 기술이지만, 이미지를 만들어주는 의 기술이 한 단계 업그레이드된 셈이다. 생성형 의 발전 생성형 은...', 'date': '2024.04.02.'}\n",
      "{'title': '삼성 언팩 인공지능 탑재 갤럭시 S24 울트라 주요 기능 가격', 'text': '알려진 대로 갤럭시 AI가 탑재되었으며, 이를 통한 실시간 번역, 인공지능 검색 및 사진 편집 등의 기능들을 선보였습니다. 언팩을 시청하면서 인상 깊었던 기능 그리고 출시일 및... 인공지능 기반의 프로비주얼 엔진 탑재로 저조도에서 나이토그래피 기능이 더욱 향상되었고요. 기존에는 3배, 10배 줌에만 광학 수준 고화질이 제공되었는데요. 이번에 쿼드 텔레...', 'date': '2024.01.18.'}\n",
      "{'title': '인공지능 국비지원 ai개발자 비전공자 취업 가능성', 'text': '인공지능 국비지원 빅데이터 그리고 인공지능이 국책 사업으로 지정되면서 관련 인력 채용도 늘어나고 있습니다. 자연스럽게 채용 시장의 수요를 반영하는 국비지원도 인공지능에 대해서 다루는 교육이 늘어나고 있습니다. ① 머신러닝 엔지니어 ② 딥러닝 엔지니어 ③ RPA 개발자 같은 ai개발자라도 세부적인 진로에 많은 차이가 있습니다. 오늘은 위와 같은...', 'date': '3주 전'}\n",
      "{'title': '[상권분석전문가과정 3주차 수업 후기] 인공지능이 상권분석 해 주는 시대', 'text': '진정한 상권분석 4.0 시대가 도래하다 상권분석전문가과정 31기 3주차 수업 후기 상권분석전문가과정 31기의 3주차 수업에서는 인공지능(AI)을 활용한 상권분석 수업이 진행되었습니다. 이번 수업은 수강생들이 실제로 자신이 운영하거나 계획 중인 업종과 업태에 맞는 상권분석을 효과적으로 수행할 수 있도록 돕는 데 중점을 두었습니다. 수업 내용 개요 1. 기초...', 'date': '2024.05.22.'}\n",
      "{'title': '[생성형 인공지능] 세계 최초 AI 미인 대회 공모전 공지사항 및 접수 방법', 'text': '[미드저니를 이용한 인물 생성, 김정곤] 인공지능 창작물은 미래의 엔터테인먼트 및 광고 산업에 큰 변화를 예고하고 있습니다. AI가 생성한 인공지능 모델이 실제 인간 모델을 대체하여 광고 캠페인에 등장하는 경우에는 제작 비용을 절감하고, 더 다양하고 맞춤화된 콘텐츠를 생성할 수 있죠. [미드저니를 이용한 인물 생성, 김정곤] 이런 사회적, 기술적인...', 'date': '2024.04.18.'}\n",
      "{'title': '항공사들의 A I활용-인공지능 컨택 센터(AICC/AI Contact Center)', 'text': '적용한 ‘인공지능컨택센터(AICC/AI Contact Center)’ 플랫폼을 구축한다. AWS의 AI 기술을 활용한 상담 서비스 품질 향상을 위한 조치다. AICC는 AI 기술을 통한 음성봇·챗봇 등이 소비자의 질문에 답변하는 클라우드 기반 지능형 고객센터다. AICC를 활용하면 단순 안내와 상담 업무를 제공했던 콜센터 업무를 넘어 AI와 클라우드 기반의 혁신기술을 접목한...', 'date': '4주 전'}\n",
      "{'title': '인공지능 AI 시대의 최대 걸림돌이 되고 있는 소비 전력', 'text': '뉴런이 연결되는 강도에 따라서 사고가 발생하고 지능이 발생합니다. 이것과 동일하게 인공지능에는 파라미터가 존재합니다. 이 파라미터들은 스위치 같은 것이라서 복잡한 연산은 하지 않고 간단한 연산을 많이 빠르게 반복해야 합니다. 그래서 복잡한 연산을 하는 CPU가 아닌 그래픽 구현하는데 필요한 단순 반복 빠른 연산을 하는 GPU가 각광을 받고 있습니다....', 'date': '2024.04.21.'}\n",
      "{'title': \"스타트업 해외 투자 유치 확대·인공지능(AI)·디지털 전환 등 ··· '중소기업 도약 전략' 발표\", 'text': '또한 산업 전반의 인공지능(AI)·디지털 전환으로 생산성을 높입니다. 제조데이터 표준 기준을 정립해 개별 설비 중심에서 공장·기업 간 디지털 연결을 늘리고 ‘지역특화 인공지능 센터’와 권역별 TP, 지방자치단체 간 협업 연계를 강화합니다. 현재 38% 수준에 머무르고 있는 국가전략기술분야 R&D 지원은 50% 이상으로 확대한다는 내용도 담겼습니다. 정부·공공기관의...', 'date': '2024.05.09.'}\n",
      "{'title': '인공지능이 가장 먼저 빼앗을 직업 ‘의사’', 'text': '대부분 사람들은 인공지능 시대가 본격적으로 도래하면 단순한 노동을 반복하는 일자리부터 대체될 것이라고 생각했습니다. 그러나 그건 인공지능의 학습능력을 너무 얕잡아보고 미래를 낭만적으로 예측한 것입니다. 인공지능은 현재의 고소득 전문직, 화이트칼라와 골드칼라 직종부터 차분하게 잠식할 가능성이 큰데요. 결론부터 말하자면 가장 먼저 사라질 직종은...', 'date': '2024.03.22.'}\n",
      "{'title': '소프트웨어야 놀자 <생성형 인공지능 윤리 1> 교재 OPEN 이벤트', 'text': '우리 삶에 깊숙이 스며든 인공지능 기술들에 대해 우리에게 어떤 고민이 필요할까요? 생성형 인공지능의 엄청난 영향력과 함께 급부상하고 있는 인공지능 윤리! 소프트웨어야 놀자에서 생성형 인공지능 윤리 교육을 위한 신규 교재 <생성형 윤리 1>을 공개했습니다~! 생.성.형. AI라는 단어는 많이 들어봤는데 아직도 그게 뭔지 감이 안 오시는 분들!...', 'date': '1일 전'}\n",
      "{'title': '[인천소셜서포터즈 30기 10회, 358회] 인천 동구 등대교회에서 재미나이 어시스턴트와 대화형...', 'text': '어시스턴트와 인공지능 대화형 서비스 스터디하고 송림추어탕 맛있게 먹었어요. 오후 6시에 등대교회에 도착했어요. 맛집에서 맛있는 저녁식사도 할겸 인천 동구 등대교회에서 스터디모임을 하게 되었습니다. 인천 동구 등대교회에서 재미나이 어시스턴트와 대화형 서비스 스터디하고 송림추어탕 한주간 소식 및 AI 뉴스 시청하기 1. 수강생님, 일반 전화 받을...', 'date': '4주 전'}\n",
      "{'title': '삼성 갤럭시 S24 홍보 이미지 유출! AI 인공지능 기능과 스펙은?', 'text': 'AI 인공지능 기능과 스펙은? 영댕이 2024. 1. 14. 17:44 이제 다음 주면 삼성전자의 플래그십 스마트폰 갤럭시 S24 시리즈가 정식으로 공개될 예정입니다. 그리고 이미 중요한 정보들은... AI(인공지능) 관련 기능을 강화할 것으로 보이는데요. 최근의 트렌드를 반영한 개발 방향이라고 할 수 있습니다. 그런데 아직 이러한 기능들이 원활하게 동작하는 제품들은 많지...', 'date': '2024.01.14.'}\n",
      "{'title': '군사, 방위 산업 부문에서의 기계 학습과 인공 지능', 'text': '기계 학습은 컴퓨터 과학의 한 분야이자 인공 지능의 하위 분야이다. 기계 학습은 시스템이 과거의 경험을 통해 자동으로 학습하고 개선할 수 있도록 하는 다양한 기술 또는... © dysto, 출처 Unsplash ● 방위, 국방 분야에서 기계 학습과 기계 학습 및 은 현재 다양한 군사 응용 분야에서 사용되고 있다. 전 세계 강대국 및 선진국은 무기 체계를 개선하고...', 'date': '1일 전'}\n",
      "{'title': 'AI 인공지능 관련주 엔비디아 주가 상승, 실적 예측치 상회 주식 분할 발표, 국내 관련주는?', 'text': '연일 신고가를 갱신하던 뉴욕증시는 AI 인공지능 관련주 엔비디아 실적 발표를 앞두고 약보합세로 마감됐습니다. 이날 공개된 FOMC 의사록에 따르면 최근 몇 달 동안 인플레이션... [AI 인공지능 관련주 엔비디아 실적 예측치 상회] 엔비디아 주가는 장 마감 이후 상승하며 최초로 $1,000를 돌파했습니다. 장 종료 후 공개된 실적은 예측치를 상회했는데요....', 'date': '2024.05.23.'}\n",
      "{'title': '생성형 인공지능 AI 기반 브랜딩 솔루션 클라우드바우처 지원 타이디비', 'text': \"생성형 인공지능 AI 기반 브랜딩 솔루션 클라우드바우처 지원 타이디비 안녕하세요. 사진&IT 크리에이터 자유분방입니다. 브랜딩의 사전적 정의는 '소비자와의 관계 형성에서 시작해... 이번 글에서는 창업가, 마케터, 디자이너를 위한 브랜드 구축 플랫폼으로 생성형 (AI)과 대면 컨설팅을 통한 브랜딩 방법으로 '타이디비'를 소개 드려보고 실제로 체험을 해보도록...\", 'date': '2024.04.25.'}\n",
      "{'title': '데이터 솔루션, 인공지능이 바꾸는 HR의 미래는?', 'text': '새로운 변화를 맞이하는 HR 분야 채용 IBM은 인공지능 모델 왓슨을 개발했어요. 직무 매칭을 점수화하고 성과 창출 가능성을 계산해 채용에 활용한 사례예요. 왓슨은 지원자의 경력... 성과 관리 마이크로소프트는 인공지능을 활용해 직원들의 성과를 관리하고 생산성을 높이고 있습니다. 업무 데이터를 실적, 고객 만족도 등의 데이터와 연계해 분석하는데요. 성과가...', 'date': '2024.04.23.'}\n",
      "{'title': '#인공지능회사 주식회사 #베리아이를 설립했습니다#아트테크사업제안', 'text': 'https://m.blog.naver.com/dongsn1004/223439721070 안녕하십니까 선릉역 1번출구 상제리제 A동 701호에 #인공지능회사 주식회사 #베리아이를 설립했습니다 #베리아이(VERIAI)는 1. **인공지능(AI)을 이용한 미술품 진위 확인 방법 및 해당 시스템** 2. #(AI)을 이용한 미술품 가치 평가 방법 및 해당 시스템** 3. #미술품 진위 및 가치분석을 위한 (AI)...', 'date': '2주 전'}\n",
      "{'title': '인공지능 활용교육 엔지니어 취업 국비지원 학원', 'text': '그래서 오늘의 주제도 인공지능 활용교육 엔지니어 취업 국비지원 학원 이라는 내용으로 찾아왔습니다. 인공지능 활용교육 형태 자체가 온라인 4일 + 오프라인 1일로 구성되어 서울, 부산, 인천, 대구, 대전, 광주 경기도, 울산, 경상남도, 충청남도, 충청북도 전주, 제주도, 강원도 등 어느 지역에서든지 수강이 가능하고 대한민국 취업 시장에서 IT 인재 양성을 하기 위해...', 'date': '2주 전'}\n",
      "{'title': '무료로 이용할 수 있는 인공지능(AI) 툴 추천', 'text': \"유튜브 링크만 붙여넣으면 AI가 자동으로 내용을 요약해주고, AI 음성 인식 기능을 통해 자막을 자동으로 생성하는 등 인공지능을 활용한 다양한 플랫폼이 개발되고 있습니다. 무료로 이용할 수 있는 인공지능(AI) 툴, 윤커뮤니케이션즈와 함께 살펴보세요! 유튜브 URL만 붙여넣으면 AI가 자동으로 요약 '릴리스(Lilys) AI' 유튜브 영상의 URL을 붙여넣으면 요약해주는...\", 'date': '2024.03.08.'}\n",
      "{'title': '구글, 인공 지능 인력 이민 간소화 요청', 'text': '\"Schedule A 에 인공 지능, 사이버 보안 등을 포함하도록 해야하며, 지속 업데이트 해야 한다\" - Schedule A 란? 부족 직업군에 해당하는 이민 신청자들을 위해 이민 절차를 간소화... 현재 Open AI 는 AI 전문가에게 최대 1천만불의 연봉을 주는 등 몸값이 치솟고 있음. 요약: 인력이 부족, 인건비가 비싸져 부담스러우니 정부는 이민 절차 간소화 해달라.', 'date': '2024.05.07.'}\n",
      "{'title': '파이썬 프로그래밍, 인공지능 시대에 배울 만한 가치가 있을까?', 'text': '인공지능 시대가 빠르게 다가오면서 전 세계적으로 코딩 기술에 대한 중요성이 꾸준히 강조되고 있습니다. 하지만 몇 달 전 엔비디아의 CEO 젠슨 황은 이제 코딩을 배울 필요가 없다고 언급하면서 큰 화제를 모았습니다. 그는 이 많은 프로그래밍 작업을 자동화해 코딩에 대한 수요를 줄일 것이라고 말했지만, 이 의견에 동의하지 않는 전문가들도 많습니다. 특히...', 'date': '2024.05.08.'}\n",
      "{'title': '천안시, 보행자 안전 위해 교통정보 영상에 인공지능 더한다', 'text': '이번 협약에 따라 천안시는 한국전자통신연구원과 과학기술정보통신부의 ‘장기 시각 메모리 네트워크 기반의 예지형 시각지능 핵심기술 개발’ 과제인 예지형 보행자 안전 인공지능 기술 개발을 추진합니다. 양 기관은 천안 교통정보 CCTV 영상을 접목해 테스트베드를 구축하고 예지형 보행자 안전 요소 기술과 통합 솔루션의 개발 및 검증을 위해 유기적인...', 'date': '2024.04.24.'}\n",
      "{'title': 'EBS와 협력하여 인공지능(AI) 디지털교과서 개발을 지원하다!', 'text': '첨부파일 [교육부 03-11(월) 조간보도자료]EBS와 협력하여 인공지능(AI) 디지털교과서 개발을 지원하다!.pdf 개발사가 인공지능(AI) 디지털교과서 개발에 활용할 수 있도록 한국교육방송공사(EBS) 영상, 평가문항 등 지원 풍부한 교육 콘텐츠를 (AI) 디지털교과서에 담아 학생 맞춤교육 지원 교육부(부총리 겸 교육부장관 이주호)와 한국교육방송공사(사장...', 'date': '2024.03.10.'}\n",
      "{'title': '인공지능 CCTV 캡스 텔레캅 에스원 비교', 'text': '인공지능 CCTV가 무엇일까요? 우리가 알고 있는 씨씨티비랑 다른 지 궁금하신 분들을 위해 알아보는 시간을 가져볼까 합니다. 국내 대표 보안 3사 캡스 텔레캅 에스원 비교도 하며, 장단점이 무엇인 지 꼼꼼하게 체크를 해보는 시간을 가져볼게요. <목차> 1. 캡스 텔레캅 에스원 비교 2. CCTV 뭔가요? 3. 홈캠,사무실 감지 센서 씨씨티비 ▣ 캡스 텔레캅 에스원 비교...', 'date': '6일 전'}\n",
      "{'title': '문과생도 이해하는 인공지능 101 초등학생부터 이해하는 101가지 기술', 'text': \"책의 이름은 <문과생도 이해하는 인공지능 101>인데요. 제가 이 책을 읽고 지어본 부제목이 있어요. 바로 '초등학생부터 이해하는 101가지 기술'!!! 왜 그럴지 함께 살펴볼게요! 출발합니다! 컨티뉴언 인공지능 인사이트 이 대세라고 하죠? 인터넷의 시대를 뛰어넘어 의 시대라고 합니다. 그러면 우리는 어떤 것을 준비할 수 있을까요? 어떤 것을 준비해야...\", 'date': '2024.03.30.'}\n",
      "{'title': 'AI 인공지능 재미나이로 작사하고 suno로 나만의 노래 쉽고 빠르게 작곡하기, 스마트폰강사', 'text': '스마트폰, 인공지능으로 안되는 것이 무엇일까 찾기 어려운 거 같은 요즘 시간되면 솔내거리 상인회에 참석해서 공부도 하고 서포트도 하고 있는데요, 문성식교수님, suno로 노래 만들기 교육을 하셨어요. AI 인공지능 재미나이로 작사하고 suno로 나만의 노래 쉽고 빠르게 작곡하기 스마트폰 활용교육 때 활용하면 좋겠죠! AI 재미나이로 작사하고 suno로...', 'date': '2024.02.15.'}\n",
      "{'title': '감시도 HCN 자비스넷 컬러카메라로! | 인공지능cctv | 야간cctv | 보안cctv | 침입감시cctv | 창고cctv', 'text': '#경기씨씨티비 #고양cctv #cctv출장 #CCTV #cctv설치 #CCTV설치 #씨씨티비설치 #씨씨티비 #창고시설cctv #지능형CCTV #고양CCTV설치 #창고cctv #고양시CCTV #수도권CCTV #씨씨티비 #장비업체씨씨티비 #야간cctv #CCTV #경기cctv #지능형씨씨티비 #씨씨티비 #cctv #자비스넷 #자비스넷cctv #물류창고cctv #티오더 #t오더 #테이블오더 #무인주문기 #키오스크...', 'date': '6시간 전'}\n",
      "{'title': '인공지능의 미래와 윤리문제 - 챗GPT VS 클로드 비교 분석', 'text': '인공지능의 미래와 윤리문제 - 챗GPT VS 클로드 비교 분석 “ 챗GPT VS 클로드, 비교 분석 (ChatGPT VS Claude) “ 안녕하세요 위드유입니다. 최근 전세계적으로 핫한 이슈중 하나인 인공지능 AI에 대해서 알아보겠습니다. 특히 앞으로 시대를 이끌어갈 2개 업체에 대하여 비교 분석을 하면서 윤리적인 문제 부문에서 2개 기업이 어떤 차이점을 가지고...', 'date': '2024.04.05.'}\n",
      "{'title': '갤럭시 S23 울트라 ONE UI 6.1 업데이트 및 인공지능 사진보정 서클투서치 사용 후기', 'text': '갤럭시 S23 울트라 ONE UI 6.1 업데이트 및 인공지능 사진보정 서클투서치 사용 후기 안녕하세요. 사진&IT 크리에이터 자유분방입니다. ONE UI 6.1이 업데이트가 되었다는 소식을 접한지는 시간이 꽤 흘렀지만, 조금 지켜보고 업데이트를 하는 게 좋을 것 같아서 미루고 미루다가 업데이트를 진행을 해보았습니다. 기존 갤럭시 S24에 탑재된 AI 기능이 갤럭시 S23...', 'date': '2024.04.10.'}\n",
      "{'title': '석유화학산업 분야와 스마트 기술의 만남(빅데이터, 나프타, 스마트플랜트전환, )', 'text': '정보를 저장하는 컴퓨터를 넘어 스스로 생각하는 지능을 가지고 있는 인공지능이 발달해 학습과 판단을 할 수 있는 수준까지 도달했고 방대한 양의 데이터를 학습시킬 수 있는 하드웨어의 성능 즉, 빅데이터와 넓은 범위의 네트워크를 통해 접근할 수 있는 가상화 된 서버인 클라우드까지! 이 모든 것이 4차 산업혁명 시대의 대표적인 기술입니다. 출처 : 클립아트코리아...', 'date': '2024.03.29.'}\n",
      "{'title': '뷰 에어컨(FQ18EV4EA1) 달라진 점!! 뷰케이스로 인테리어 클린뷰로 직접 청소 은 기본(feat. LG)', 'text': '물론 인공지능은 기본입니다. 요즘 인공지능을 전면에 내세우는 것은 큰 의미가 없어 보입니다. 엘지 휘센 뷰 에어컨(FQ18EV4EA1)을 보니 사용하고 있는 인공지능 스스로 에어컨이 완전 오징어가 된 기분이 들지만 아직도 쎙쌩하니 좀 더 사용해야겠습니다. 그러나 결혼을 앞둔 신혼부부가 신혼살림을 장만하거나 이사하면서 새 가전을 교체할 분이라면 엘지 휘센...', 'date': '2024.03.28.'}\n",
      "{'title': 'AI가 인간의 오감까지 구현한다고? 인공지능 로봇의 진화!', 'text': '인공지능(AI)은 현대 기술의 최첨단을 달리고 있으며, 다양한 분야에서 혁신적인 변화를 이끌어내고 있습니다. 그중에서도 인간의 오감을 인식하는 인공지능(AI) 기술은 인간과 기계의 상호작용을 보다 자연스럽고 효율적으로 만드는 데 중요한 역할을 하고 있습니다. 이러한 기술은 음성 인식, 이미지 인식, 촉각 센서, 향기 및 맛 인식 등 다양한 형태로 구현될 수...', 'date': '4일 전'}\n",
      "{'title': '[도서] AI 챗GPT 디지털 예술가 되기 : 인공지능과 예술이 만나다, 누구나 쉽게 디지털 예술가 되기!', 'text': '요즘에는 인공지능 AI 기술의 눈부신 발전으로 인해서 마우스 클릭 하나면 단 몇 분 만에 뛰어난 퀄리티의 작품들을 만들어낼 수 있는 순간이 찾아왔습니다. 실제로, 작년에는 AI로 그린 그림이나 소설 작품들이 공모전 등에서 우수한 성적을 거두면서 입상을 해서 큰 논란이 되기도 했죠. 처음에는 인공적인 느낌의 어색한 부분들이 자주 보여서 이것이 바로 AI의...', 'date': '2024.05.16.'}\n",
      "{'title': '인공지능 미래 및 앙명선 그리고 AI 종류', 'text': '인공지능 접목 다양한 산업에 인공지능이 융합되고 있습니다. 지금은 인공지능이 없는 미래는 상상하기 어려운 상황에 직면했는데요. 의료, 금융, 마케팅, 제조, 헬스케어 등등 인공지능은 이미 우리 일상 생활에 빠르게 접목되고 있습니다. 현재의 ai는 이미 우리 사회에 많은 영향을 끼치고 있으며 앞으로의 미래에도 중요한 역할을 할 것입니다. 의 미래...', 'date': '2024.05.24.'}\n",
      "{'title': \"'인공지능학과' 진학 위한 세특 탐구주제\", 'text': '인공지능에 대한 기본 지식 표현과 문제해결방법, 지능형 시스템 개발론, 탐색 방법과 학습 방법 등 인공지능 모델의 전반적인 이론에 대해 학습한다. ㆍ분산학습시스템 = 학습에 활용되는 근간 데이터 관리 프레임워크 및 기계학습 및 데이터분석 알고리즘 수행 프레임워크에 대해서 학습한다. 빅데이터 플랫폼과 더불어 최근 추세는 클라우드 및 기계학습 플랫폼으로...', 'date': '1일 전'}\n",
      "{'title': '[상권분석전문가과정 31기 3주차 수업 예고] 인공지능을 이용한 상권분석', 'text': '#상권분석 #인공지능활용 안녕하세요. 상권분석전문가과정 김영갑 교수입니다. 오늘은 다음주 화요일(5월 21일)에 진행하게 될 상권분석 31기 3주차 수업에 대한 간략한 안내를 드립니다. 3주차 수업의 핵심 주제는 인공지능을 활용한 상권분석입니다. 소상공인진흥공단의 상권정보시스템에서 조사한 데이터를 을 이용해서 분류하고 분석하는 방법을 자세하게...', 'date': '2024.05.19.'}\n",
      "{'title': 'AI부트캠프 인공지능 개발자 비전공자가 주목해야 하는 이유(국비지원)', 'text': '반면 인공지능에 관련된 전공자 자체가 아직 없으며 AI 국비지원, AI 부트캠프도 찾아보기가 어렵습니다. 즉, 개발자 채용이 줄었다기 보다는 웹(프론트, 백엔드) 부문의 개발자 채용이 줄었으며 AI 개발자 채용은 매년 빠르게 늘어나고 있습니다. 그 밖에도 자율주행자동차 산업이 빠르게 성장하며 HW 코딩을 담당하는 임베디드 채용도 늘고 있어요. 개발자...', 'date': '3주 전'}\n",
      "{'title': '[진실 혹은 거짓] 인공지능, 인간의 오감까지 느낄 수 있다?', 'text': '이러한 인공지능이 이제는 인간의 오감까지 느낄 수 있다? 오늘의 진실 혹은 거짓 주제는 인공지능과 인간의 오감에 대한 루머를 다루어 보려고 합니다. NIPA와 함께 알아볼까요? 인공지능, 인간의 오감까지 느낄 수 있다? , 인간의 오감까지 느낄 수 있다? 정답은, 거짓! 현재 로봇과 기술이 발달함에 따라 이 인간을 대신해 많은 일을 하고 있지만...', 'date': '6일 전'}\n",
      "{'title': '인공지능 AI 블루투스 스피커 씽고 특징 기능', 'text': '인공지능 기술을 활용한 AI 스피커 제품으로, 음악 재생, 날씨 정보, 일정 관리 등 다양한 기능을 제공하며 어떤 특징이 있는지 살펴보겠습니다. 무선으로 연결되는 블루투스 스피커... 씽고 AI 스피커 제품은 인공지능 기술을 통해 사용자의 음성 명령을 인식하고 응답할 수 있는 특징을 가지고 있습니다. 예를 들어, \"씽고야, 오늘 날씨 어때?\"라고 말하면 현재 위치의...', 'date': '2024.03.11.'}\n",
      "{'title': '[2월 26일 마감시황] 인공지능(AI) 테마 추가 반등은 아직', 'text': \"바탕으로 인공지능(AI) 테마가 주식시장 상승 모멘텀을 끌고 갈 것이란 기대가 높기는 하지만 본격적인 추가 반등은 아직 현실로 나타나지 않고 있음 '월가 공포지수' 변동성 지수(VIX)는 보합세 업종별로는 혼조세 테슬라가 포진한 임의소비재와 에너지, 엔비디아 등이 들어가 있는 기술업종이 상승 (AI) 시장 경쟁이 심화하는 가운데 검색시장...\", 'date': '2024.02.27.'}\n",
      "{'title': '포크링크 패션 인공지능 리퍼 재고상품 명품 브랜드 싸게 구매하는 법!', 'text': '이번에 리퍼 전문 쇼핑몰 패션 인공지능 기업 웨얼리가 만든 온라인 재고상품을 파는 온라인 패션 아울렛을 소개드릴게요! 국내 100여 브랜드 입점 외에도 발렌시아가 ,구찌, 톰브라운... 패션 인공지능 기업이라 국내 재고 외에 행외 재고까지 소싱하고 있어서 수시로 둘러보며 득템 기회 노려보고 있어요! 기반추천 시스템으로 패션 이미지를 분석해서 추천해...', 'date': '4시간 전'}\n",
      "{'title': '[행사: 한국언론학회 봄철 정기학술대회 참관기] 언론학 100년, 인공지능 시대 미디어의 미래를 준비하다', 'text': '커뮤니케이션 철학과 사상 연구회 세션에서 박승일(서강대)은 인공지능이 인간 문명사에서 언어적 전회(linguistic turn)에 버금가는 인공적 전회(artificial turn)를 가져올 수 있으며, 인공지능, 언어, 기술적 존재로 이어지는 새로운 기술 철학을 구축할 필요가 있다고 주장했다. 미디어 심리 연구 100년의 성찰과 전망을 다룬 대주제 세션 발표에서 나은영(서강대)은 지난...', 'date': '2주 전'}\n",
      "{'title': '인공지능학과 대학 탄탄한 진로준비', 'text': '인공지능학과 대학 탄탄한 진로준비 우리의 생활 반경에서 로봇청소기가 청소를 대신하고, 음식을 주문할 때 사람 대신, 로봇이 배달을 하는 현상들을 요즘엔 더 많이 찾아볼 수... 이런 분야로 공대 진학을 고려하고 계신다면, 학과 대학준비를 통해서 보다 나은 기술력을 배워나가고, 보안과 관련된 부분까지 연계하여 준비를 해본다면, 개인정보보호 분야와...', 'date': '4일 전'}\n",
      "{'title': '(주)에버영피플 인공지능 데이터 활용 무료 교육생 모집 지원 절차', 'text': '[에버영피플] 인공지능 데이터 가공 전문가 되어 미래를 바꾸세요! 지금 바로 선착순 모집에 신청하세요 오늘은 주)에버영피플에서 인공지능 데이터 활용 무료 교육생 모집에 대해 알려드리겠습니다 인공지능 시대, 데이터는 미래를 움직이는 핵심 자원입니다 지금 바로 에버영피플의 데이터활용 교육 지원 모집에 참여하여 데이터 가공...', 'date': '2주 전'}\n",
      "{'title': 'AI × 인간지능의 시대 인공지능과 제대로 놀아보실래요?', 'text': \"책과 함께 AI를 활용해 미래를 창조해보고, 각자의 분야에서 AI를 통해 '멋진' 미래를 이끌어 가길 바랄게요. AI × 인간지능의 시대 저자 김상균 출판 베가북스 발매 2024.04.17. * 마지막으로 좋은 책과 함께 할 수 있는 기회를 주신 김상균 교수님과 베가북스출판사분들에게 감사의 말씀을 남깁니다. #AIx인간지능의시대 #김상균교수 # #챗GPT #AI #오픈AI #베가북스\", 'date': '2024.04.13.'}\n",
      "{'title': '[생성형 인공지능] Suno AI(수노 ai) 누구나 무료로 노래를 만들 수 있는 플랫폼 사용법', 'text': '(인공지능 플랫폼이 대부분 외국에서 만든 것들이기 때문에 구글 계정을 활용하면 가입이 쉽습니다!) 가입이 완료되면, 왼쪽 메뉴에서 [만들다]를 클릭합니다. 이후 노래 설명을... Suno AI를 이용해서 자신만의 노래를 만들어 보세요. 과 더욱 친숙해지는 기회가 될 것입니다. 무료로 영상을 생성하는 플랫폼 Pika 활용법은 다음을 확인하세요! \"', 'date': '2024.04.27.'}\n",
      "{'title': '인공지능 반도체 관련주: 엔비디아 주식 주가 전망', 'text': '인공지능 반도체 관련주 엔비디아의 영향은 이뿐만이 아니다. 최근 떠오르고 있는 전기차에도 지대한 영향을 미치고 있다. NVIDIA DRIVE 자율 주행 플랫폼 및 자동차 개발 계약 Jetson... 반도체 관련주 엔비디아 엔비디아 주가 근황 관련주 엔비디아 주가 엔비디아(NVIDIA)는 최근 어닝 서프라이즈를 통해 주가가 크게 상승하였다. 현재 엔비디아 주가는 762....', 'date': '2024.02.23.'}\n",
      "{'title': '인공지능(AI) 기술의 발전은 놀라운 속도로', 'text': '인공지능(AI) 기술의 발전은 놀라운 속도로 진행되고 있으며, 특히 온디바이스 AI와 클라우드 AI는 현대 기술 환경에서 중요한 역할을 하고 있습니다. 이 두 기술은 각각의 장단점을 가지고 있으며, 사용자의 요구와 환경에 따라 적합한 선택이 달라질 수 있습니다. 온디바이스 AI는 기기 내부에서 독립적으로 작동하는 AI 시스템으로...', 'date': '4주 전'}\n",
      "{'title': '[2024 입결] 서강대 입결 ... 인공지능학과 교과 1.83, 학종 2.07, 전자공학 교과 1.39, 학종 1.81', 'text': '[교과전형] 전자공학 1.39, 생명과학 1.4, 인공지능 1.83, 인문학부 1.63, 사회과학 1.42, 수학 1.67. 인공지능 학과가 낮은데, 2025 입시에서는 인공지능 학과가 좀 더 높아지지 않을가 생각합니다. 이에 반해 의대 증원으로 생명과학은 조금 낮아지지 않을까 싶습니다. [학종전형] 사회학과 1.98, 수학 2.15, 전자공학 1.81, 생명과 2.87 역시 학과가 많이...', 'date': '2일 전'}\n",
      "{'title': '2025년 인공지능 디지털교과서 도입 대비, 수학·영어·정보 교과 교수·학습 방안 논의', 'text': '이후 교과별 학회 전문가, 교과연구회 및 전문적 학습공동체 등에서 활동하는 교원이 학교 현장에 적합한 교과별 인공지능(AI) 디지털교과서를 활용한 교수·학습 방법을 제안할 예정이다. 오석환 교육부차관은 “올해는 공교육 디지털 대전환을 위한 골든타임”이라고 말하며, “교실혁명의 주인공인 교사가 수업을 혁신할 수 있도록 맞춤 교원 연수와 함께 교과별...', 'date': '2024.01.30.'}\n",
      "{'title': 'AI 인공지능 반도체 수요 증가로 매출 급등한 파운드리 관련주 TSMC 주가', 'text': '이는 AI 인공지능 반도체 수요 급증에 따른 것으로 분석되는데요. 반도체 파운드리란 무엇이고 자세한 TSMC 주가 강세 요인이 무엇인지 함께 살펴보도록 하겠습니다. [반도체... Verified Market Research의 자료에 따르면 글로벌 파운드리 시장 규모는 AI 반도체 시장 성장에 힘입어 2023년 825억 달러에서 연평균 7.6% 성장하며 2030년에는 1.368억에 달할 것으로...', 'date': '2024.05.11.'}\n",
      "{'title': '인공지능폰 갤럭시Z 폴드6 S펜 탑재해 출시될까? 카메라 스펙과 소재 변화로 가벼워진 무게 그리고...', 'text': '인공지능폰 갤럭시Z 폴드6가 출시되면 꾸준히 니즈가 있었던 S펜 탑재 여부에 관심이 많습니다. 아마도 인공지능폰 갤럭시Z 폴드6에 S펜이 탑재되어 출시된다면 매출량에 상당히 기여할 수 있지 않을까 싶습니다. 사실 S펜을 폰케이스에 장착하는 것은 영~ Flex되지 않고 불편하거든요. 7인치대의 대화면으로 한 번에 많은 콘텐츠를 볼 수 있는 매력 때문에 인기가...', 'date': '2024.02.12.'}\n",
      "{'title': 'AI 프로필 어플 캐럿 AI 사진 만들기 인공지능 후기', 'text': '그러면 친구 혹은 지인에게 링크를 받을 수 있는데요. URL을 지인에게 전달하여 어플을 사용하게 된다면 열쇠를 획득할 수 있습니다. 마무리 요즘, 퍼스널 브랜딩은 필수인데요. 캐럿을 활용하여 SNS 인스타, 블로그, 카카오톡 프로필 등 본인을 대표하는 포토를 만들어주시기 바랍니다. 자세한 내용은 아래 하단을 참고 바랍니다. 감사합니다. #', 'date': '2024.03.28.'}\n",
      "{'title': '엔비디아 주가 실적 발표 주식액면분할 인공지능 대장주 젠슨황', 'text': '엔비디아 주가 실적 발표 주식액면분할 인공지능 대장주 젠슨황 인공지능AI대장주 엔비디아의 주가가 고공행진하고 있습니다. 역시 주가는 성장성과 수익, 기대심리로 오르는거라는 게 확인되고 있어요. 엔비디아1분기 실적 1분기 매출은 전년동기대비 262%증가한 260억달러, 조정 주당순이익EPS는 461%급증한 6.12 달러 입니다. 시장전망치를 아웃퍼폼했습니다. 그리고...', 'date': '2024.05.23.'}\n",
      "{'title': '휴런 장외주식 혁신적인 인공지능 기술을 갖춘 기업', 'text': \"오늘은 뇌에 관련된 질환들이 인생에 걸림돌이 되지 않도록 혁신적인 인공지능 기술을 가진 휴런 장외주식에 대한 소식과 함께 회사의 정보 및 근황에 대해 말씀드리겠습니다. 이곳은 신경과 전문의의 주도를 통해 발전시킨 ' 헬스테크'로서 전문 임상의의 진단 로직을 AI 모델로 구현해서 의료 대응을 위한 해법을 제시하고 있는데요. 이곳만이 가진...\", 'date': '3주 전'}\n",
      "{'title': 'SOXL 투자 이유? 인공지능시대, 멀티모달 AI GPT-4o 등장했다는데요?', 'text': 'PURPOSE 블로그 목적 주식 투자자의 관점에서 꼭 확인해야할 인공지능시대 GPT-4o관련 소식에 대해서 공부및 정리후 나만의 노하우와 지식을 공유한다. 블로그 요약 1. 인공지능시대 멀티모달 AI GPT-4o에 대해서 알아본다. 2. ICE반도체지수 3배레버리지 SOXL에 대해서 알아본다. 3. SOXL 투자 관련 나만의 생각을 정리해본다. FIRST STORY 시대 멀티모달 AI GPT-4o...', 'date': '3주 전'}\n",
      "{'title': '2024 월드IT쇼 첫날 방문기! 일상을 바꾸는 AI(인공지능)기술은?', 'text': '루하티는 인공지능 기반의 반려견 전용 헬스케어 디바이스를 선보였습니다. 집에서 누구나 강아지의 몸 상태를 체크할 수 있게 된 것이죠. 심장소리, 활동량, 체온 변화 등... 특히, 4D 푸드 프린팅 시스템은 인공지능 기반의 개인 맞춤 영양 제공시스템입니다. 영양 설문->영양 카트리->프린터->액상보틀의 프로세스로 맞춤 영양제를 제공받을 수 있는 것이죠. 사업...', 'date': '2024.04.17.'}\n",
      "{'title': '‘인공지능’ 시대의 농업유전자원', 'text': '‘인공지능’ 시대의 농업유전자원 농업유전자원센터는 데이터 라벨링을 통한 농업식물유전자원의 빅데이터 구축을 계속해 품종 육성 디지털화를 위한 기초자료를 제공해 나갈 계획이다. 최근 빈번하게 등장하는 신조어가 하나 있다. 바로 ‘데이터 라벨링(Data labeling)’이다. 사람이 만든 데이터를 (AI)이 인식할 수 있도록 각 데이터에 정보를 붙여주는...', 'date': '2024.02.26.'}\n",
      "{'title': '인공지능 데이터라벨링 꾸준한 수입 올리는 법', 'text': '인공지능 데이터라벨링 꾸준한 수입 올리는 법 안녕하세요. 사진&IT 크리에이터 자유분방입니다. 데이터라벨링은 인공지능 모델이 학습할 수 있도록 데이터의 레이블을 지정하는 작업을 의미합니다. 이미지나 텍스트, 오디오, 비디오 등에 레이블을 지정하는 방식입니다. 2023년도 그렇고 챗GPT의 시대는 2024년에도 여전히 진행 중입니다. 대규모 언어모델이자 챗봇인...', 'date': '2024.02.06.'}\n",
      "{'title': '엑셈 주가 전망 AI 인공지능으로 무장한 기업.', 'text': '데이터베이스를 비롯한 시스템 전 구간 성능 관리에서 클라우드, 인공지능, 빅데이터에 이르기까지 폭넓은 기술력으로 대한민국을 대표하는 IT기업이 있습니다. 바로... 지난 5월 1일부터 3일까지 진행된 \"국제 인공지능 대전 2024\"에서 엑셈은 기술을 활용한 무중단 IT 운영을 지원하는 싸이 옵스(XAIOps)를 비롯한 제품들을 선보였으며 호평을...', 'date': '2일 전'}\n",
      "{'title': '[강사 양성 과정] 대한민국 최초 소상공인 매출 증대를 위한 인공지능 활용 강사 과정 1기 개강 안내', 'text': '소상공인을 위한 인공지능 강의 전담 강사 양성 과정을 준비하고 있습니다. \"소상공인 매출 증대를 위한 인공지능 활용 전문가 과정\"을 준비하고 있습니다 1기는 \\'소상공인 인공지능 활용법 전문 강사 양성\\'을 목적으로 진행합니다. 아래 강의 내용을 충분히 검토 후 수강신청서를 작성해 주시기 바랍니다. 수강 신청후 2일 이내 입금이 되지 않는 경우 미신청자로...', 'date': '2주 전'}\n",
      "{'title': '\"창조적 시선\"에서 기술 결정론에 대한 대목 공유와 인공지능에 대한 간단한 의견', 'text': '그런데 방금 읽고 있는 대목 중에서 최근 인공지능 관련된 강의에서 강조한 내용(인공지능이라는 기술이 단순히 그 기술을 도입하는 것을 넘어 인공지능의 도입하려는 조직과 기업 문화를 바꿔야 한다)과 같은 맥락으로 읽을 수 있는 대목이 있어서 해당 부문을 공유하려고 합니다. 아래 글에서 등자 대신 을 바꾸고 등자로 미칠 영향에 대한 몇몇 대목을...', 'date': '2024.04.10.'}\n",
      "{'title': 'IMF가 정부에 AI 경고한 이유와 인공지능이 고용 및 노동시장에 가져오는 영향', 'text': '그래서 이번 시간에는 IMF가 정부에 AI 경고한 이유와 인공지능이 고용과 노동시장에 미치는 영향을 알아보려고 합니다. IMF가 우려하는 이유 국제통화기금 IMF에서는 AI가 현재 노동시장에 혼란을 가져오고 불평등을 불러올 수 있는 것에 경고를 하며 모든 국가의 정부에서 대책 마련을 해야 한다고 촉구하고 있습니다. 또한 AI로 인해서 지능적인 로봇이 나오게 되면서...', 'date': '1주 전'}\n",
      "{'title': '인공지능의 시대의 미래교육', 'text': '인공지능의 교육적 활용이 미칠 사회적 효과 (The Social Consequences of Al in Education) 앞에서 살펴보았듯이, 교육분야에서 인공지능 기술의 적용은 빠르게 증가하고 있다. 이 책에서는 현재 이용되고 있는 다양한 인공 지능 기술들과 점점 더 활용 가능성이 높아질 것으로 예상되는 기술에 대해 살펴보았다. AIED는 일정 부분 주목할 만한 성공을 달성했고, 활용...', 'date': '2일 전'}\n",
      "{'title': '인공지능 AI시대, 살아질 직업, 살아남을 직업? #피규어AI #챗GPT', 'text': '인공지능 AI시대 살아질 직업, 살아남을 직업? #피규어AI #챗GPT 예전에는 인공지능과 로봇의 발달과 관련해 이런 말들이 있었습니다. “단순 노동은 로봇이 대체할 것이고 창의력을 발휘할 수 있는 직업이 살아남을 것이라.” 그런데 말이에요. 챗GPT를 비롯해 압도적인 성능을 발휘하는 이 등장하면서 위의 말이 사실과 좀 다르다는 생각 안 드나요? 의사...', 'date': '2024.03.26.'}\n",
      "{'title': \"산업통상자원부, 인공지능(AI) 시대 산업전략 '열공 중'\", 'text': \"산업통상자원부, 인공지능(AI) 시대 산업전략 '열공 중' 산업통상자원부 제1차 [AI 시대의 신(新) 산업정책] 전문가 간담회 산업통상자원부는 6.7.(금) 오전 10시 안덕근 장관 및 국내 기업·학계의 인공지능(AI) 분야 전문가들이 참석한 가운데 제1차 [ (AI) 시대의 신(新) 산업정책] 전문가 간담회를 개최하였다. 지난 5.8.(수) [AI 시대의 新 산업정책] 위원회...\", 'date': '3주 전'}\n",
      "{'title': '인공지능 자연어 번역 시스템 DeepL 뜻과 사용법', 'text': '최근 인공지능을 공부하고 스터디를 하고 있다보니 많은 용어들이 생소하였는데요. 반복해서 DeepL을 사용하여 비지니스에 사용하시는 분들이 많고 자연어 번역 시스템으로 유명한 프로그램이기에 뜻과 함께 사용법등을 이해해보고자 합니다. DeepL 이란?뜻 DeepL은 독일의 한 회사에서 만든 번역 프로그램입니다. 이 프로그램은 (AI)을 사용해서 문장의...', 'date': '2주 전'}\n",
      "{'title': 'AI 인공지능시대에 글은 그림은, 책은? - 볼로냐국제어린이도서전, 그림작가들의 벽 앞에서', 'text': '평면작품을 입체로 만들어 도드라지게 하거나, 아예 인공 찰흙으로 조형을 만들어 붙이거나 작품과 큐알코드를 함께 두어 바로 다양한 제 작업으로 연결시키거나 한 다양한 방식으로... 그림도 몇 가지 키워드 텍스트로 금세 금세 만들어지는 일러스트의 시대가 되었어요. 심지어 ‘소라’라는 영상 제작 툴은, 영상도 실제와 거의 같이 만들어주어요....', 'date': '2024.05.09.'}\n",
      "{'title': 'AI 인공지능 관련주 한글과컴퓨터 주식 실적 및 주가 차트분석', 'text': '요즘 급등하고 있는 AI 인공지능 관련주 한 글과 컴퓨터 주식 실적 및 주가 차트에 관해 분석해 봅니다. 한글과컴퓨터 회사 소개 * 소프트웨어 개발 및 공급업을 목적으로 1990년 10월... 출처:네이버 금융 AI 인공지능 관련주 한글과컴퓨터 실적 분석 2023년 실적은 지난해 대비 매출액은 증가, 영업이익도 크게 증가했으나 당기순이익은 적자를 기록함. 2024년 실적...', 'date': '2024.05.16.'}\n",
      "{'title': '2024년 월드IT쇼의 주제와 주인공은 인공지능(AI) 그리고 LG전자', 'text': '심지어 인공지능을 이용해서 지뢰 탐지 하는 기술도 있더라고요. 실용화된 건 아니고 개발 단계입니다. 원리는 시각 정보를 이용해서 학습한 AI가 탐지를 하는 방식입니다. 2024년 ICT 기술 사업화 페스티벌도 함께 하고 있는데 여기는 관람객도 적고 관련 부스에서 적극적으로 설명도 하지 않는 등 대단히 게으르고 억지로 참가한 듯한 모습이 보여서 좀 아쉬웠습니다....', 'date': '2024.04.18.'}\n",
      "{'title': '(장전시황)여전히 인공지능이 대세', 'text': '오늘 우리시장은 필라델피아 반도체 지수의 강세로 인해 갭상승 출발이 예상됩니다 하지만 너무 큰 갭상승은 결국 그자리를 내놓을 가능성이 높다고 보여집니다 특히 오늘 옵션만기일인만큼 유동성도 배제할수 없을듯 합니다 어제 미증시를 살펴보면 애플을 비롯해 엔비디아, arm, 브로드컴등 섹터가 강세를 보였습니다 결국 지금 믿을것은 섹터밖에...', 'date': '2주 전'}\n",
      "{'title': '인공지능 LLM 개인정보보호 LMM보안 프라이빗 LLM CAPSULE 웹사이트', 'text': \"인공지능 LLM CAPSULE웹사이트 모든 위험 요소를 한 번에 해결! LLM Capsule 은 사용자가 개인정보 및 민감 정보 노출걱정없이 LLM을 사용할 수있게 해주는 보안 솔루션이예요 기업과... 개인정보 보호가 가능한 인공지능 보안서비스 필수! LLM Capsule는 행정안전부의 '개인정보 비식별 조치 가이드라인'을 준수하며, 개인정보 보안에 거의 100%에 가까운 결과를...\", 'date': '4주 전'}\n",
      "{'title': '보이스레코더 플라우드 노트 통화녹음 소형녹음기 챗GPT 인공지능 Plaud Note', 'text': '보이스레코더 플라우드 노트 통화녹음 소형녹음기 챗GPT 인공지능 Plaud Note 안녕하세요. 사진&IT 크리에이터 자유분방입니다. 챗GPT가 공개된 이후로 다양한 분야에 인공지능 AI가 적용이 되고 있습니다. 생각지도 못했던 다양한 분야에 AI, 챗GPT 등이 사용이 되는 모습을 쉽게 볼 수 있는데요. 심지어 소형 녹음기, 보이스레코더에도 챗GPT가 적용이 되어 출시가...', 'date': '2024.04.24.'}\n",
      "{'title': '인공지능 AI 반도체 관련주 미국 국내 (1편)', 'text': '인공지능 AI 반도체 관련주 미국, 국내 미국 엔비디아 주가가 연일 폭등하고 있어서 AI 반도체에 대해 이야기를 해보려고 합니다. AI 반도체를 글 한편에 모두 설명하기에는 얽혀 있는 기업들도 많고 그 먹이 사슬을 이해하는 데만 해도 너무 정보가 방대하기 때문에 앞으로 AI 반도체 글을 시리즈 형식으로 나눠서 올릴 생각입니다~ 1. AI 가 대세 * 현재...', 'date': '2024.02.17.'}\n",
      "{'title': '출판사에서 인공 지능을 활용하는 사례', 'text': '인공 지능을 활용해 만든 책 표지 <아버지의 마지막 골프 레슨> 북스톤의 책 중에 인공 지능을 활용한 표지가 있다는 사실, 알고 계시나요? 그 주인공은 바로 <아버지의 마지막 골프 레슨>입니다. 제목과 마찬가지로 표지도 책의 분위기를 한 번에 소개할 수 있어야 하죠. 아버지와 함께 골프 필드에 나가 있는 책 표지의 이미지는 바로 으로 만든 그림이랍니다....', 'date': '4일 전'}\n",
      "{'title': '[생성형 인공지능] 미드저니(Midjourney)에서 캐릭터 일관성을 유지하는 방법', 'text': '이미지 생성 인공지능에서 가장 어려운 것 중에 하나가 생성된 이미지와 동일한 캐릭터를 사용하는 것입니다. 기존에는 유사한 이미지를 생성할 수 있어, 이미지 생성의... 그럼 미드저니를 활용해 웹툰, 인공지능 광고 모델, 가수, 인플루언서 등 다양한 캐릭터가 생성될 것입니다. 지금까지 미드저니에서 캐릭터 일관성을 유지하는...', 'date': '2024.04.21.'}\n",
      "{'title': '애플 iOS 18 출시일 언제? 인공지능 기능 탑재 예상!', 'text': '그 이유는 애플의 새로운 OS에는 늘 새로운 기능이 탑재되고 있으며, 특히 이번 버전의 경우 다양한 인공지능 기능들이 탑재될 것으로 예상되고 있기 때문입니다. 그래서 오늘은... 이번 버전의 핵심은 역시 인공지능 기능이라고 할 수 있습니다. 현재 시장에서는 애플이 이번 버전부터 온디바이스 AI 기능을 제공할 것으로 예상하고 있는데요. 대표적으로 Siri 개선...', 'date': '2024.04.28.'}\n",
      "{'title': '투자자들의 마음을 사로잡은 인공지능 블록체인 솔루션', 'text': '인공지능과 블록체인 기술을 결합한 솔루션의 개발과 암호화폐 분야에 참여하는 기관 투자자를 대상으로 한 상품이 증가하면서 투자자들을 끌어들이고 있습니다. 아래는... 두바이에 설립된 이 스타트업은 탈중앙화된 인공지능 모델을 사용하여 투명성과 편향성 등 기존 신용 평가 시스템의 단점을 해결합니다. 이번 라운드에는 글로벌 투자사인...', 'date': '2024.03.19.'}\n",
      "{'title': '고품질 이미지 생성 인공지능, SeaArt AI를 아시나요?', 'text': '고품질 이미지 생성 인공지능, SeaArt AI를 아시나요? SeaArt AI는 다양한 AI 기반의 예술 생성 도구를 제공하는 플랫폼입니다. 이 플랫폼은 사용자가 텍스트 설명으로부터 고품질 이미지를 생성할 수 있도록 지원하는 여러 AI 모델과 도구를 갖추고 있습니다. SeaArt AI는 특히 그래픽 디자이너, 아티스트 및 콘텐츠 제작자에게 매력적인 선택지를 제공합니다. 주요...', 'date': '2024.04.28.'}\n",
      "{'title': 'AI 인공지능 관련주 엔비디아 강세 이유와 국내 엔비디아 관련주', 'text': '[AI 인공지능 관련주 엔비디아 강세 요인] 전날 장 마감 후 실적을 발표한 구글과 마이크로소프트는 어닝 서프라이즈를 공개하며 각각 +9.96%, +1.82% 상승했습니다. Google과 Microsoft의 실적 발표는 AI 인공지능 관련주 엔비디아에도 긍정적인 영향을 미치며 주가가 +6.18% 올랐습니다. 마이크로소프트는 컨퍼런스콜을 통해 클라우드 및 AI 제품을 지원하기 위한...', 'date': '2024.04.27.'}\n",
      "{'title': \"'LG전자' 주식 분석! AI 인공지능 산업 수혜?\", 'text': '특히 거래량이 폭발한 5월 28일에 개인이 엄청난 매도세를 기록했죠. 오늘은 LG전자 기업에 대해 함께 알아보았는데요~ 인공지능 AI 수혜주로 평가를 받으며 주가가 많이 상승을 했습니다! 올해 2024년 실적도 긍정적으로 보여 주식이 더 오르게 될지 궁금하네요. 관련 내용 확인하기! ▼ ▼ ▼ ▼ ▼ ▼ ▼', 'date': '4주 전'}\n",
      "{'title': 'AI의 모든 것, AI EXPO KOREA 2024 국제인공지능대전 전격 분석! 기업 및 기관의 AI 활용과 보안', 'text': '<행사 개요> 행사명 : AI EXPO KOREA 2024 (국제인공지능대전) 일시 : 2024년 5월 1일(수) ~ 3일(금) 10:00 ~ 17:00 장소 : 서울 COEX 3층 HALL D 개최 규모 : 약 300개사 500부스 주최/주관 : (사)한국인공지능협회, ㈜서울메쎄, 신문 제7회 AI EXPO KOREA 2024 (국제대전)이 5월 1일부터 3일까지 총 3일간 서울 COEX 3층 D홀에서 성황리에 개최됐습니다....', 'date': '2024.05.09.'}\n",
      "{'title': '수십 년 동안 편안하게 매수하고 보유할 인공지능(AI) ETF 2가지- QQQ와 CHAT', 'text': '인공지능은 세계 경제에 15조 달러의 경제적 가치를 더할 수 있습니다. 인공지능(AI)에 대한 과대광고는 지난 18개월 동안 과장되어 왔습니다. AI가 세상에 나온 지 수년이 지났지만, 최근 기술의 발전으로 인해 AI는 투자 잠재력 측면에서 아직 초기 단계에 머물러 있습니다. 투자자들은 앞으로 몇 년 동안 더 많은 변화를 기대해야 합니다. 일부...', 'date': '2주 전'}\n",
      "{'title': 'WIS 월드IT쇼 2024 인공지능(AI)의 미래를 확인하는 4월 IT전시회', 'text': \"'인공지능(AI)'는 헬스케어, 자율 주행, 금융 서비스, 쇼핑, 제조업 등 다양한 분야에서 활발하게 사용되고 있다. 지난 몇 년전 까지만 하더라도 간단하게 콘텐츠를 추천하면서... 이렇듯 AI는 짧은 기간에 우리의 미래 변화를 예고하며, 많은 기업과 소비자가 일상에 을 접목해 효율성을 어떻게 향상시킬 수 있을지에 큰 관심을 기울이고 있다. 미래를...\", 'date': '2024.04.06.'}\n",
      "{'title': '자동으로 PPT를 만들어주는 Gamma app (인공지능)', 'text': '© CoolPubilcDomains, 출처 OGQ 요즘은 생성형 인공지능의 시대다. 특히 chat gpt를 사용하지 않으면 정말 심각하다는 느낌이 들 때도 있는데, 특히 유사한 서비스들이 많아지면서 업무 자체가 많이 단축되고 자동화되는 것 같다. 오늘은 많은 업무 중 파워포인트를 빠르고 쉽게 자동으로 만들어주는 웹 사이트, Gamma app에 대해 알아보도록 하자. 우선은 chat gpt에서...', 'date': '2024.02.05.'}\n",
      "{'title': 'AI 인공지능 관련주 TOP 10 미국주식에 투자하는 국내 ETF', 'text': \"(페이스북, 애플, 아마존, 넷플릭스, 구글) 최근에는 AI 위주의 투자가 주목받으면서 FAANG에서 넷플릭스가 제외되고 최대 AI 인공지능 관련주 엔비디아, 테슬라, 마이크로소프트가 포함된 'M7'(Magnificent7)이라는 용어를 많이 사용하고 있습니다. 하지만 M7 기업이라고해서 모두 주가 상승을 기록하고 있는 것은 아닙니다. 실제로 최대 관련주 엔비디아가...\", 'date': '2024.03.06.'}\n",
      "{'title': '아이폰, 아이패드, 맥 챗GPT 쓴다 애플 인공지능 인텔리전스 공개', 'text': '다양한 디바이스의 OS가 발표되는 자리였지만 그보다 더 많은 사용자들이 궁금했던 애플의 인공지능에 대한 이야기를 들을 수 있었는데요. 강력한 생성형 AI 모델이 애플의 다양한 디바이스에 탑재된다고 보면 될 것 같습니다. 애플은 애플 인텔리전스라고 명명하고 iPhone, iPad, Mac을 위한 개인용 시스템의 업그레이드를 이야기 한 것이죠....', 'date': '2주 전'}\n",
      "{'title': '인공지능(AI) 판사 찬반 논란', 'text': '인공지능(AI) 판사가 과연 도입이 가능할까요? 기술의 발달하면서 야구에서는 인공지능 판정, 축구에서는 라인크로스 판단 기술 등 여러 분야에서 인공지능(AI) 기술이 도입되고 있습니다. 법에 관에서도 인공지능(AI) 판사가 도입될 경우 윤리적 문제, 사법적 정의에 대한 영향을 끼칠 수 있습니다. 현재 사법 시스템에서는 기술을 이미 사용하고 있습니다....', 'date': '2024.01.25.'}\n",
      "{'title': '광주와 태국 간 인공지능(AI)·미래차 등 첨단산업 교류협력', 'text': '간 인공지능(AI)·미래차 등 첨단산업 교류협력 방안에 대해 논의했다. 강 시장은 “광주시와 태국은 다양한 인연이 있다. 아시아문화전당과 함께 2023년부터 치앙마이에서 2년째... 타니 쌩랏 태국대사는 “태국은 인공지능(AI), 미래차 분야에 주목하고 있다. 태국 총리가 최근 발표한 태국의 발전 비전과도 상당히 맞닿아 있다”며 “태국 스타트업 기업들이 한국...', 'date': '4일 전'}\n",
      "{'title': '인공지능 활용 비지니스 1탄 쏘카 타다의 ETA 예측 배차 시스템', 'text': '그 중에서도 쏘다 타다는 인공지능을 활용한 ETA 예측 배차 시스템으로 업계에서 주목받고 있습니다. ETA(Estimated Time of Arrival) 예측 배차 시스템은 이용자가 호출한 차량이 도착할 시간을 예측하고, 이를 기반으로 최적의 차량을 배차하는 기술입니다. 이 글에서는 이 활용되는 쏘다 타다의 ETA 예측 배차 시스템이 어떻게 작동하는지를 자세히 이야기 해보도록...', 'date': '2주 전'}\n",
      "{'title': '네이버 대화형 AI 큐 (Cue) 인공지능 사용방법, 후기', 'text': \":) 아직은 큐가 많은 사람에게 알려지지 않았고 자리 잡아가는 중이라 경쟁이 치열하지 않겠지만 네이버 인공지능 AI Cue이니까 조만간 이곳도 경쟁이 꽤 치열해질 것 같다 ~ 상황 말하고 금리 계산해 주라고 했더니 계산도 자기가 알아서 답변해 준다 ㅋㅋ 기존 AI와 네이버 Cue의 차이점은 맞춤 검색 어드바이저 '검색'에 초점을 맞춘 서비스 인데, 검색해서 자기가...\", 'date': '2024.05.23.'}\n",
      "{'title': '쓰레기를 자동으로 분류하는 인공지능 로봇 ZenRobotics 4.0', 'text': '(동영상) 이렇게 인공지능 이미지 분류 기술을 이용한 인공지능 로봇은 사실 먼 미래의 이야기가 아니라 이미 현실로 다가온 이야기입니다. 일본 등 극심한 인력난을 겪는 국가에서도 이미 이런 시스템이 하나 둘 도입되고 있습니다. (관련 뉴스) 3D 업종을 기피하는 분위기인데다, 저출산 노령화 여파로 실제로 일할...', 'date': '2024.02.25.'}\n",
      "{'title': '2024년 인공지능 데이터 활용 전문인력 교육생 모집 공고, 에버영피플', 'text': \"'2024년 인공지능 데이터 활용 전문인력 교육생 모집' 공고 중장년층 ICT 일자리 창출 전문기업 에버영피플과 에버영코리아는 시니어를 대상으로 인공지능(AI) 디지털 데이터 활용 전문인력의 양성 과정을 오는 7월 30일 개설한다. 모집기간은 6.12~7.14(선착순) 모집기간 6월 12일부터 7월 14일(선착순) 교육생 모집은 한국지능정보사회진흥원의...\", 'date': '2일 전'}\n",
      "{'title': '인공지능 몰라 디지털 문맹이 두려운 분들을 위한 소소한 의견', 'text': '얼마전 뉴스를 보니 유명한 IT 기업의 임원께서 미래는 인공지능을 쓰는 사람과 그렇지 못한 사람으로 나뉜다고 하네요. 인공지능을 못 다루면 사회에 뒤쳐지며 도태될 수 있다는 경고처럼 들렸습니다. 또 다른 뉴스에서는 회사에서 인재를 판단하는 기준을 의 활용 능력으로 대체한다고 합니다. 저는 개발자나 IT 전문가는 아니지만 주변에서 컴퓨터 잘한다는...', 'date': '2024.05.24.'}\n",
      "{'title': 'ICT인공지능 AI 무료교육 충청ICT이노베이션스퀘어 교육생 모집', 'text': 'ICT인공지능 AI 무료교육 충청ICT이노베이션스퀘어 교육생 모집 안녕하세요. 취업비서 인크루트 입니다. 2024년 ICT이노베이션스퀘어 확산사업으로 진행되는 충청ICT인공지능 AI 무료교육 과정에 대한 정보, 교육생 모집 일정과 상세 교육 안내 정보에 대한 부분을 알려드리겠습니다. 모집 기간과 교육대상 및 접수 방법과 수강혜택까지 전문적인...', 'date': '2024.03.13.'}\n",
      "{'title': '신개념 인공지능(AI) 퍼플렉시티(PERPLEXITY) 알아보기', 'text': '최근 다양한 생성 인공지능 챗봇 서비스가 등장하였는데요. SK텔레콤이 투자한 생성형 인공지능(AI) 검색 엔진 퍼플렉시티에 대해 알아보도록 하겠습니다. 퍼플렉시티는 국내에서는 다소 생소하지만, 북미에서는 구글의 대항마로 언급될 만큼 주목받는 새로운 대화형 검색 엔진 AI 챗봇 서비스를 지칭한다고 합니다. 퍼플렉시티는 오픈 AI 출신 엔지니어 아르빈드...', 'date': '2024.04.04.'}\n",
      "{'title': '대규모 언어모델(LLM)과 인공지능 로봇, 로보테크 혁명의 서막', 'text': '21세기에 들어서면서 인공지능(AI)과 로봇공학의 발전인 로보테크를 갖춘 우리의 삶 많은 부분이 혁신적으로 변화되되고 있습니다. 특히 대규모 언어모델 (LLM, Large Language Model)의 등장은 로봇의 지능과 활용 범위를 획기적으로 넓히는 데 큰 기여를 하고 있습니다. 대규모 언어모델(LLM)을 적용한 로봇, NIPA와 함께 알아볼까요? LLM을 적용한 로봇의 이해 대규모 언어모델...', 'date': '1주 전'}\n",
      "{'title': '올해부터 전국에 인공지능(AI) 자율제조 공장 본격 확산한다', 'text': '올해부터 전국에 인공지능(AI) 자율제조 공장 본격 확산한다 산업통상자원부 인공지능(AI) 자율제조 10대 선도프로젝트 선정 작업 착수 인공지능(AI) 기반으로 로봇·장비 등을 제조 공정에 결합해 주력 산업의 생산 고도화와 자율화를 구현하는 AI 자율제조 사업이 본격 추진된다. 산업통상자원부는 지난달 발표(5.8) 한 [AI 자율제조 전략 1.0]의 핵심 정책이었던 AI...', 'date': '2주 전'}\n",
      "{'title': '3일간 표준협회 인공지능경영시스템 ISO42001심사원 교육 받으러~, 아니 5일이구나!', 'text': '근데 내가 심사원 교육 하나만 듣고 있을 수가 없기 때문에 왼쪽 귀는 인공지는 심사원 오른쪽 귀는 다른 것 그리고 손은... #ISMSP심사원 모의고사 문제 출제 ㅠㅠ #인공지능경영시스템 #ISO42001 이제 알고 보니..ㅠ 5일이다. 교육기간이..3일이 아니구나... 이제 이 과정을 이해했습니다. 3일교육 AI경력이 2년 있는 사람: 표준협회 전문위원이 되어서 전문가로...', 'date': '2주 전'}\n",
      "{'title': '단말형 인공지능의 뜻, AI 알고리즘과의 차이, 장점, 단점, 대표사례', 'text': '이러한 AI 알고리즘은 방대한 데이터를 학습하여 패턴을 찾고, 문제를 해결하며, 새로운 정보를 생성하는 등의 지능적인 기능을 수행합니다. 대표적인 AI 알고리즘에는 기계학습, 딥러닝, 강화학습 등이 있습니다. 반면, 단말형 (Edge AI)은 이러한 AI 알고리즘을 스마트폰, IoT 기기, 자율주행 차량 등의 단말기에 직접 구현한 것을 말합니다. 즉, 단말기...', 'date': '3주 전'}\n",
      "{'title': '호실적, 소매 판매 호조로 봐도 될까 / 넷플릭스 광고 이용자 급증 / 구글 I/O, 다시 불붙는 경쟁', 'text': \"구글도 I/O 행사에서 인공지능 행보에 대한 강한 인상을 남겼다. What is Gemini Live? How Google's real-time chatbot competes with GPT-4o 구글 제미니 라이브: GPT-4o에 도전하는 실시간 챗봇... 인공지능 반도체 성능은 더욱 강화되고 있고, 무엇보다 여러 지배적인 서비스와 플랫폼을 보유한 구글은 지금 당장 부족해도 소비자 접점을 이미 확보하고 있다는 장점이...\", 'date': '2024.05.16.'}\n",
      "{'title': '인공지능 데이터라벨링으로 수익 창출하고 싶다면?', 'text': '인공지능 데이터라벨링으로 수익 창출하고 싶다면? 데이터가 곧 힘이다! 라는 말이 있듯이 정보는 우리에게 큰 힘이 되고 있습니다. 특히 작년에 Chat GPT 출시와 함께 국내. 외로 인공지능에 대한 관심도 많이 늘어나고 있는데요. 주변을 둘러보면 이미 많은 분들이 을 활용해 사업에서 이윤을 창출하고 있는 것을 볼 수 있습니다. 오늘 뉴스만 보더라도 챗 GPT에...', 'date': '2024.02.08.'}\n",
      "{'title': '2024년 6월 25일 : 뉴욕증시, 인공지능(AI) 대장주 엔비디아의 부진 등으로 하락 마감', 'text': '<뉴욕 증시> : 혼조 마감 다우지수 +0.67% / 나스닥지수 -1.09% / S&P500지수 -0.31% <한국 증시(코스피)> : 2771선 상승 출발 코스닥 838선 하락 출발 뉴욕증시, 인공지능(AI) 대장주... 코스피 상승 출발, 외국인 매도세 진정되고 기관 매수 나서 (AI) 테마에 대한 차익실현 이어져 AI 테마에서 빠진 수급이 증시에서 이탈하지 않고 다른 업종으로 분산되는 모양새...', 'date': '4시간 전'}\n",
      "{'title': '[생성형 인공지능(AI)] 감마AI로 PPT 슬라이드 초안 자동 작성하기', 'text': '인공지능이 키워드에 대한 내용과 각 슬라이드에 적합한 이미지를 생성하고 전반적인 구성을 제시해 주었습니다. 내용과 Layout을 수정할 수 있으며, 다음과 같이 이미지를 검색하거나, 이미지를 인공지능으로 만들어 삽입할 수 있습니다. 최종적으로 작성된 내용은 PDF나 PPT로 다운로드가 가능합니다. 이런 방법으로 감마AI를 이용할 수 있는데, 완성된 PPT를...', 'date': '2024.03.19.'}\n",
      "{'title': 'AI시대 인공지능시대 일자리 미래와 인력양성 전략', 'text': 'Keys키스의 투자스케치 [Back지식] AI시대 인공지능시대 일자리 미래와 인력양성 전략 2024. 3. 13 KIET 산업연구원 ■ 국내기업의 인공지능 도입률은 4% 수준으로 여전히 낮고 경제성과는 아직 가시화되지 않았으나, 본격적인 시대에 대비한 선제적 대응 필요 - 2022년 전체 4% 수준으로 매우 낮고, 최초 도입 이후 사용을 지속하고 있다고 응답한 기업은...', 'date': '2024.03.15.'}\n",
      "{'title': 'CXL 관련주 · 온디바이스 AI 인공지능, 삼성 갤럭시 s24 · 필라델피아 반도체 지수 급등', 'text': '온디바이스 · CXL 관련주 필라델피아 반도체 지수 급등 AI 인공지능·삼성 갤럭시 s24 미국 경기선행지수(LEI)는 지난해 12월 -0.1%로 21개월 연속 마이너스 행진을 보이고 있지만 다우존스30산업평균지수와 스탠더드앤드푸어스(S&P)500 지수 등 미국 지수는 (AI) 성장에 대한 기대감 등 반도체 관련주 들의 강세로 최고치를 경신하는 등 상승장을...', 'date': '2024.01.23.'}\n",
      "{'title': '슈퍼마이크로컴퓨터(SMCI) 주가, 인공지능, 데이터센터 관련주', 'text': '안녕하세요 저장 안해서 같은 포스팅을 두번째 작성하는 네이버 인플루언서 길짱입니다 최근 AI 관련주가 굉장히 핫한데요 특히 전세계 증시 대장 미국 증권시장에 속한 인공지능... 슈퍼마이크로컴퓨터는 인공지능 및 GPU 시장 대장인 엔비디아와 긴밀한 협력 관계를 구축하고 있어 엔비디아 관련주로 분류됩니다 또한 CPU 및 GPU 가속기 분야에서 엔비디아뿐 아니라...', 'date': '2024.02.24.'}\n",
      "{'title': '[온라인마케팅MBA 25기 1주차 강의 예고] 인공지능 챗GPTs 활용, 블로그 글쓰기 방법', 'text': '온라인마케팅MBA 25기 1주차 강의 예고입니다 1주차 수업에서는 인공지능 챗GPTs 를 활용해서 블로그 글쓰는 방법을 알려드립니다 아래 이미지는 제가 직접 만들어서 블로그 글쓰기를 할... 인공지능 챗GPTs을 이용해서 블로그 글쓰기를 하는 목적은 외식업에 대한 전문지식을 배우면서 실무적으로 도움이 되는 내용으로 블로그 글쓰기를 하고 그것을 이용해서 내 점포에...', 'date': '2024.04.29.'}\n",
      "{'title': '파일 요약을 해주는 인공지능 서비스 Word Tune', 'text': \"마찬가지로 파일을 요약하고 글쓰기를 도와주는 인공지능 서비스다. 우선 웹 사이트 접속을 한다. 위 이미지를 클릭하면 접속이 가능하며, 검색창에 wordtune이라고 검색해도 된다. 자주 사용하는 계정으로 가입을 한다. 사용하는 목적 선택하기. 선택이 모두 끝났다면 Let's go 크롬 확장 프로그램도 있다. 바로 설치가 가능하다. 다양한 방식의 사용이 가능하다....\", 'date': '2024.02.18.'}\n",
      "{'title': '인공지능 반도체 관련 정보', 'text': '다른 분야에 비해 메모리와 통신쪽 병목현상이 심각하다는 이야기. 인공지능 시대에 메모리쪽의 수혜가 가능하다는 예상이 가능. 특히 HBM의 경우 기술적으로도 난제가 많은 상황이며 글로벌 탑3플레이어에서만 제작이 가능한 상황. 연사가 네이버 소속이라는 점을 감안해서 교차 검증이 필요한 부분이 있겠지만, 그럼에도 유용한 내용이 너무나 많은 영상. & &', 'date': '2024.04.23.'}\n",
      "{'title': '갤럭시S24 출시 가격 및 특징! 인공지능 AI로 차별화', 'text': '이번 갤럭시S24는 하드웨어보다는 인공지능 AI에 좀 더 집중이 된 모습을 보여주기도 했는데요. S24보다 갤럭시AI가 진짜 주인공이었다는 생각이 들기도 했습니다. 대표적인 AI기능으로는 문자 메지시 및 통화 중 실시간 번역이 가능한 AI 번역, 웹 서핑, SNS, 유튜브 등 사용 중 궁금한 사안이나 정보 확인을 위해 검색이 필요할 경우, 어느 화면에서나 동그라미를...', 'date': '2024.01.18.'}\n",
      "{'title': 'LG 통돌이세탁기 19kg T19MX7 T19DX8 인공지능 통세척 꽉 채운 기능', 'text': '특히 이제는 인공지능까지 탑재되어 나오기 때문에 단순히 저렴한 세탁기만으로 볼 수도 없는데요. 그래서 오늘은 많이들 찾으시는 LG 통돌이세탁기 19kg 모델 두 가지를 가지고... T19MX7 T19DX8 흡족한 후기 먼저 이 두 제품의 가장 메인 특징은 옷감을 정밀하게 감지해 맞춤 세탁을 하는 세탁 기능이 탑재되었다는 겁니다. 전 이게 가장 마음에 들었어요!...', 'date': '2주 전'}\n",
      "{'title': '[서평단 모집] 인공지능, 기계가 스스로 생각하는 시대(반갑다 과학)', 'text': '1부 인공지능 개념 잡기 “무엇을 인공지능이라 부르는지”부터 시작해, 알고리즘, 기계 학습, 인공 신경망, 빅데이터, 딥러닝 등 핵심 개념을 인공지능의 발전 과정에 따라 소개합니다. 2부 우리 생활 속 인공지능 살펴보기 챗봇, 자율주행차, 스마트 시티, 전쟁 무기 등 이 구체적으로 어떤 분야에서 어떤 방식으로 활약할지 하나하나 살펴봅니다. 3부...', 'date': '1일 전'}\n",
      "{'title': '악재와 호재가 혼재되어 있는 AI 인공지능 CCTV 산업', 'text': '우선 우호적인 측면에서는 계속해서 기업들과 지자체에서 인공지능 CCTV를 확대해 나갈 것이라는 계획들 \" \" 그리고 아이디스의 최근 소식인 바레인 스마트 경찰 플랫폼 구축 및... HMM은 글로브에이아이와 협업하여 딥아이즈(Deep Eyes) 도입 포스코DX는 인텔리빅스와 스마트 CCTV 업무 협약 추진 인피닉이라는 곳은 하이디 AI로 KISA의 지능형 CCTV 인증 획득 \" \" 산업은...', 'date': '2024.05.11.'}\n",
      "{'title': '에너지 잡아먹는 건물을 인공지능(AI)으로 똑똑하게 관리할 수 있다?', 'text': \"이런 문제를 해결하기 위해 한국에너지기술연구원에서는 인공지능(AI)을 활용한 '건물에너지 통합 관리 플랫폼 기술'을 개발했습니다! 1) 건물에너지 통합 관리 플랫폼 기술? 그게 뭐죠?... 그래서 인공지능과 확률·통계적 기법을 활용해 건물 자원을 실시간으로 모니터링하고 고장을 진단하는 플랫폼 기술을 개발했습니다. 덕분에 에너지 사용 비용을 줄이고 환경 영향도...\", 'date': '2024.04.24.'}\n",
      "{'title': 'AI 생태계 펼쳐졌다,2024 AI EXPO 국제인공지능대전 참관 후기', 'text': '아래 사진은 3D스캐너가 없는 상태임. 3.스마트안경 : 엑스퍼트아이엔씨 AI 음성, 자막변환 안경 씨사운드, 대화 환경에 가장 적합한 스마트 안경 입니다. 판가: 170만원 실제로 안경을 써 보았음. 4.음성 인식: 리드스피커코리아 세계 최다 다국어와 다음색을 가진 AI 음성기술을 보유하고 있다고 합니다. 5. 관련 사진들', 'date': '2024.05.03.'}\n",
      "{'title': '집착남주 인공지능 캐릭터 로판 AI', 'text': '로맨스+판타지를 합쳐 로판(Rofan)이라는 단어와 인공지능의 AI를 합친 이름이예요. 말 그대로 로맨스 판타지 속 캐릭터와 AI를 이용해 대화를 할 수 있는데요. 단순 로맨스 판타지 속 인물들만이 아닌 연예인,영화와 애니메이션 주인공과 일상생활의 AI캐릭터등 다양한 실사 또는 그림 캐릭터가 있어서 개인의 취향에 맞게 선택가능해요. 깔끔하고 직관적인 디자인을...', 'date': '4일 전'}\n",
      "{'title': '[상권분석전문가과정 31기 5주차 수업 예고] 인공지능을 이용한 상권분석의 새로운 세계', 'text': '수업 시간에 제가 활용하는 인공지능 기반의 상권분석 방법론을 실전 분석 사례를 이용해서 자세하게 알려드리겠습니다. 기대해 주시기 바랍니다. 재미있게 구성한 김성공의 인공지능을 활용한 상권분석 사례입니다. 김성공은 이른 아침 공항에 도착했다. 일본의 라멘, 소바, 우동 전문점을 벤치마킹하고 돌아오는 그의 발걸음에는 새로운 결의가 담겨 있었다. 그는...', 'date': '2주 전'}\n",
      "{'title': 'LG유플러스 AI ixi 익시로 시작하는 AX Company 인공지능 기대.', 'text': \"인공지능 기술이 더욱 확대되어 누구나 평소에도 AI를 활용하는 세상이 왔습니다. 지금도 그렇지만 앞으로는 일상 속에서 더욱 다양한 영역에 광범위한 영향을 줄 것으로... 기존 LG유플러스의 비전인 '고객 일상의 즐거운 변화'를 내포하는 Growth Leading 과 AI 전환을 의미하는 AX의 결합으로, 기술을 활용해 변화를 선두하고 새로운 가치 있는 고객 경험을...\", 'date': '3주 전'}\n",
      "{'title': '인공지능 AI 딥러닝 머신러닝 뜻 차이 활용 알아보기', 'text': '요즘 뉴스나 인터넷에서 인공지능, 머신러닝, 딥러닝이라는 말을 자주 들어봤을 거예요. 이 세 가지 단어는 모두 컴퓨터가 더 똑똑해지고, 우리를 도와주는 기술들을 말하는데요, 각각 조금씩 다른 의미를 가지고 있어요. 초등학생 친구들이 쉽게 이해할 수 있도록 이 세 가지 기술이 무엇이고, 어떻게 다른지 설명해 보겠습니다. (Artificial Intelligence, AI)...', 'date': '3주 전'}\n",
      "{'title': '[2023 우수성과 기업] 인공지능 비데로, 새로운 건강의 길을 찾은 기업 ㈜쉬즈엠', 'text': \"2023 중소기업 R&D지원사업 우수성과 50 ⑤ <쉬즈엠> 오늘은 인공지능 비데로 새로운 건강의 길을 찾은 기업 ㈜쉬즈엠을 소개해 드리겠습니다. 쉬즈엠은 폐업 및 재창업 후 중소기업 R&D 지원사업 참여를 통해 인공지능헬스케어 비데를 개발하고, 미용기구 제조업에서 스마트 헬스케어 영역으로 업종 전환에 성공했어요! 중소벤처기업 R&D 서포터 '알파(Alpha)'와 함께...\", 'date': '2024.05.22.'}\n",
      "{'title': '베트남, ‘정부 인공지능(AI) 준비지수’ 세계 59위 기록', 'text': '베트남, ‘정부 인공지능(AI) 준비지수’ 세계 59위 기록 단신 속보뉴스 베트남 하노이무역관 최지영 출처 : KOTRA □ 베트남 정부의 AI 준비 수준, 193개국 중 59위 ㅇ (국별 비교)... 보고서에서 인공지능(AI) 준비성 측면에서 193개국 중 59위를 차지했다. 2022년에는 55위, 2021년에는 62위, 2020년에는 76위를 기록했다. Oxford Insights 연례 보고서는 AI를 사용하여...', 'date': '2024.02.21.'}\n",
      "{'title': '인공지능 딥러닝 Anomaly Detection 트레이닝(학습) 방법', 'text': '인공지능 딥러닝 Anomaly Detection 트레이닝(학습) 방법 안녕하세요, 주니스입니다. 이번엔 인공지능 딥러닝 기능 중 Anomaly Detection 기능에 대한 학습법에 대해 다루어 보겠습니다. Anomaly Detection 은 정상 이미지만을 학습하여 학습한 이미지와 다른 이미지에서 차이가 있는 부분을 찾아내는 기능입니다. 예로 게임 디아블로4의 원소술사 캐릭터...', 'date': '1일 전'}\n",
      "{'title': \"'개발자를 위한 필수 수학', 다양한 실무 조언과 함께 익히는 데이터과학, 관련 수학\", 'text': '빅데이터, 인공지능을 공부하다 보면, 항상 걸리는 부분이 수학이다. 전에는 프로그램 개발하는 데, 수학 몰라도 크게 힘든 부분이 거의 없었다. 개발에 걸림돌은 업무나 기술에 대한 이해였지, 수학적인 능력은 아니었다. 내 경우 여러 개발을 해왔지만, 총합이나 평균 정도가 가장 많이 사용된 수학이었고, 좀 복잡한 경우 벡터와 미적분 정도였다. 그런데 을...', 'date': '2일 전'}\n",
      "{'title': '인공지능 관련 주, IA기업 한글과컴퓨터 한컴 AI 출시 내용 정리', 'text': '2) 단순 AI가 아닌 지능형 자동화 시장 공략 지능형 자동화를 뜻하는 IA는 인공지능(AI)를 활용하여 비즈니스 프로세스 관리, 로봇 프로세스 자동화 기술을 활용하여 전사적 법위에 의사결정을 간소화 및 확장 등 소프트웨어 자동화를 만드는 프로세스를 이른다. 한컴 어시스턴트를 중심으로 고객 및 산업별 비즈니스 프로세스 맞춤형 자동화 엔진을 만들어 시장을 공략할...', 'date': '2024.01.04.'}\n",
      "{'title': '[에퀴닉스] 데이터센터가 인공지능 수혜를 볼 수 있을까? (JPM 컨퍼런스)', 'text': '카테고리별로 묶으면 ① 인공지능 시대에 데이터센터 비즈니스가 어떻게 변할지 ② 전력밀도가 올라가는데 액체냉각은 준비가 잘 되고 있는지 ③ 마지막으로 어떠한 투자지표를... [인공지능 시대, 에퀴닉스가 수혜를 볼 수 있을까?] Q) 클라우드 그리고 의 성장으로 에퀴닉스가 담당하는 데이터센터 임대업이 기술적으로 밀려날 것이라는 우려가 있습니다....', 'date': '2024.05.22.'}\n",
      "{'title': '❤️중부발전에 미나니가 떴다! (feat. 인공지능 로봇) 현장스케치 유튜브 영상 기대평 이벤트❤️', 'text': '인공지능 로봇)❤️ 한국중부발전 x 지식인미나니 현장 스케치 < 한국중부발전 신보령본부에 직접 방문한 지식인미나니! > 실제 작업에 사용되는 인공지능 협력로봇을 비롯해 본부 곳곳을 둘러보고 왔는데요 대상을 인식할 수 있는 3D 레이더 기능 탑재 로봇의 놀라움과 편리함! 지금 바로 중부발전 유튜브를 통해 확인하고, 영상을 본 후 기대평을 작성해 보세요!...', 'date': '2024.05.24.'}\n",
      "{'title': '부산빅데이터학원 개발자 인공지능 AI 분석 머신러닝 딥러닝 국비지원 취업 내일배움카드 전문가 교육', 'text': '부산빅데이터전문가학원 알아보신다면 신중하게 알아보셔야 합니다~ 인공지능개발자 취업 하기 위해서는 AI분석, 머신러닝 딥러닝 기술을 전반적으로 알아야 합니다. 부산빅데이터... 통해서 인공지능 AI 개발자 취업 준비 잘 하시길 바랍니다. 5. IT현실 조언 / 팩트정리 부산빅데이터학원 결국에 데이터베이스 분야와, 전반적인 하둡 기술까지 AI 데이터분석...', 'date': '2024.05.24.'}\n",
      "{'title': '삼성 인공지능PC 출시, 온디바이스 AI 수혜주 : 아이티엠반도체, TIGER 글로벌온디바이스AI ETF', 'text': \"@ 네이버 삼성전자가 올해 초 세계 최초로 '온디바이스 인공지능 (AI)' 탑재한 휴대폰을 내놓은 이후 PC까지 출시하면서 관련 사업 속도전에 나서고 있습니다. 스마트폰 양대 산맥인 애플도 온디바이스 AI가 구동되는 신형 스마트폰을 내놓는다고 발표하면서 증권가에서는 수혜주 찾기가 한창입니다. 이들 기술을 고도화하는 기업에 투자하는...\", 'date': '6일 전'}\n",
      "{'title': '시력 저하 환자를 돕는 인공지능 웨어러블 기기 AiSee', 'text': 'Suranga Nanayakkara)가 이끄는 연구팀은 시력이 거의 상실되어 손에 든 물건이 무엇인지도 잘 보이지 않는 시력 저하 환자를 돕는 인공지능 웨어러블 기기인 AiSee를... 참고 https://newatlas.com/wearables/aisee-wearable-blind-object-recognition/ https://news.nus.edu.sg/ai-powered-eye-for-visually-impaired-people/ ##시력저하#AiSee#웨어러블', 'date': '2024.02.13.'}\n",
      "{'title': '[도서] 얄팍한 AI 지식 쌓기 : 인공지능 AI 기초 상식 배우기, 새로운 기술을 이해하다!', 'text': \"최근 세상의 관심은 AI와 반도체에 쏠려 있다고 할 수 있는데요, 영화에서만 보던 인공지능이 인간의 생활 전반에 도입되고 기술을 크게 진보시키는 것은 더 이상 공상 속의 꿈이... '얄팍한 AI 지식 쌓기'는 초보자들도 AI에 대해서 쉽게 알아볼 수 있는 AI도서라는 이름에 걸맞게 (AI)의 가장 기초적인 이야기부터 시작하고 있는데요, AI가 크게는 ANI / AGI...\", 'date': '2024.03.25.'}\n",
      "{'title': '인공지능폰 갤럭시Z 폴드6와 폼팩터 비슷한 얇은 스마트폰 아너 매직V2의 장점과 단점?(feat. 중국폰)', 'text': '인공지능폰 갤럭시Z 폴드가 티타늄 소재로 출시될 것으로 충분히 예상할 수 있는 가운데 중국폭 아너 매직V2는 어떤 장점과 단점이 있을까요. 중국폰이라고 쳐다보지 않을 수도... 애플이나 삼성은 서로 가격이 자존 jongamk.tistory.com 갤럭시Z 폴드6 커버 디스플레이 등 폼팩터의 변화와 티타늄소재 사용!! 및 동시번역 탑재 당연? 갤럭시Z 폴드6 커버...', 'date': '2024.01.31.'}\n",
      "{'title': '소프트뱅크 손정의 \"초인공지능 10년 내 도래\" (주간IT동향 트렌드/신기술/서비스 2024년 6월3주차)', 'text': '소프트뱅크 손정의 \"초인공지능 10년 내 도래\"…라인야후 언급 無 손정의 소프트뱅크그룹(SBG) 회장 손정의 소프트뱅크 그룹 회장이 \"인간의 능력을 1만배 초과할 인공 슈퍼 지능을 실현해 인류의 발전을 돕는 \\'초인공지능(ASI)\\'의 시대가 10년 이내에 올 것\"이라고 말했다. 21일 개최된 일본에서 개최된 소프트뱅크 그룹 정기 주주총회에서 손정의 회장은...', 'date': '1일 전'}\n",
      "{'title': '햄스터로봇을 이용한 초등코딩배우기 [엔트리 인공지능 with 햄스터로봇]', 'text': '햄스터로봇을 이용한 초등코딩배우기 [엔트리 인공지능 with 햄스터로봇] 안녕하세요~ 감군사랑입니다. 저는 직업적으로 소프트웨어를 다룰일이 많아요. 그러다보니 아이들보다 제가 더 관심있어 하는 분야가 소프트웨어입니다. 오늘은 영진닷컴에서 새롭게 개정되어 나온 엔트리 책으로 햄스터로봇까지 함께 학습해 볼 수 있는 엔트리 with햄스터...', 'date': '6일 전'}\n",
      "{'title': '인공지능(AI) 시대, 반도체에 7조 달러 투자한다고?', 'text': '사람이 촬영한 것보다 더 정교한 동영상을 인공지능이 만들어낸 것인데요. 사람들은 감탄을 자아내고 있습니다. 특히 특정 분야에서 활용되는 AI가 아니라 범용 AI가 개발되면 어떨까요? 범용 AI는 모든 상황에 인간처럼 적용하여 두루 활용할 수 있는 AI를 말합니다. 이를 인공일반지능(AGI)이라고 말하죠. © siderius_creativ, 출처 Unsplash AGI가 개발되면 미래의 세상은...', 'date': '2024.02.26.'}\n",
      "{'title': 'LG전자 주가, AI 인공지능 데이터 열처리 냉각기와 구독전자 서비스', 'text': 'LG전자 주가, AI 인공지능 데이터 열처리 냉각기와 구독전자 서비스 LG전자가 2분기 기준 사상 최대 실적을 보일거라는 전망과 함께 인공지능 데이터 열처리 수혜가 주목받으며 현재 주가는 저평가 구간으로 평가된다. 자세히 알아보자. 주요사업 내용 전체 매출액 대비 약 40.8%를 차지하는 H&A사업부문의 주요 제품은 냉장고, 세탁기, 에어컨 등 이며, 건조기, 정수기...', 'date': '2주 전'}\n",
      "{'title': '인공지능 대표도시 광주, 본격적인 인공지능(AI)개발 위한 초고성능 컴퓨팅(HPC)서비스 본격 지원', 'text': '25일부터 7월 15일까지 HPC 서비스 이용자 모집 공고 7월 생성형 인공지능 개발 위한 HPC 서비스 정식 개시 총연산량 20PF(H100 38대)·저장공간 22PB 규모로 구성 ‘인공지능 대표도시 광주’에서 본격적인 초거대 인공지능(AI) 개발을 위한 HPC(초고성능 컴퓨팅 지원) 서비스를 시작한다. 챗GPT처럼 초거대 (AI)의 학습 데이터뿐만 아니라 이를 수행할 수...', 'date': '1일 전'}\n",
      "{'title': '초등코딩교육 <엔트리 인공지능 with 햄스터로봇> 으로 배우기', 'text': '초등코딩교육 <엔트리 인공지능 with 햄스터로봇> 으로 배우기 도서관 프로그램을 통해 코딩과 친해지는 시간을 가지기도 하고, 학교에서도 재미있는 교구를 활용해서 코딩교육을... (요즘 사운드까지 활용하는 바람에 매우 시끄럽지만, 그래도 다양한 기능을 스스로 익혀가는 모습에 일단 지켜보는 중이다.) 2025년부터 초, 중, 고에 적용되는 교육과정에 (AI)...', 'date': '6일 전'}\n",
      "{'title': '헤이젠ai 말하는 아바타 나대신 말하는 인공지능 시대', 'text': '인공지능의 개발이 점차적으로 그 속도가 급속도로 빨라지고 있습니다. 앨런 튜링이 1950년에 개념을 내놓았고, 그 개념이 70년이 넘은 지금 발전에 발전을 거듭하고 있는 것이죠.... 바로 ceo가 인공지능으로 만든 영상으로 설명을 해주는 것을 볼 수가 있습니다. 비슷하면서도 아주 미묘하게 다르지만 그래도 제 생각에 85% 이상 실제 사람과 비슷한 모습이라서 부족함이...', 'date': '2주 전'}\n",
      "{'title': '실망스러운 애플 인공지능(AI) WWDC 2024 (feat김단테)', 'text': '미팅 시간이 5시로 연기되면 딸의 공연에 늦지 않고 갈 수 있는지 궁금하다고 질문하면, 인공지능은 미팅 시간, 미팅 내용, 딸의 존재유무, 약속장소 등을 열람하여 답변을... - 아이폰 15프로 이상부터 인공지능 기능을 사용할 수 있다. iPad, Mac 은 M1 이후면 가능하다. -기대했던 만큼의 AI 는 없어서 애플 주가는 하락하고 있다. #WWDC #애플 #애플...', 'date': '2주 전'}\n",
      "{'title': '숙면베개 AI모션필로우 인공지능 수험생베개', 'text': '숙면베개 AI모션필로우 인공지능 수험생베개 질 좋은 수면이 중요하다는 건 모르시는 분 안 계시죠? 제대로 된 숙면을 통해 뇌와 신체를 충분히 쉬게 하는것! 더불어, 내 수면 상태를... 숙면을 도와주는 스마트 인공지능 AI모션필로우 입니다. 간단한 특징으로는, ■ 인체공학적 C커브 디자인 설계로 경추를 편안하게 해주고, 베개 높낮이 조절 가능 ■ AI코골이...', 'date': '2주 전'}\n",
      "{'title': '머신러닝 리스크 관리 with 파이썬 - 올바른 인공지능 활용을 위한 필독서 -', 'text': '머신러닝 리스크 관리 with 파이썬 - 올바른 인공지능 활용을 위한 필독서 - 머신러닝 리스크 관리 with 파이썬 저자 패트릭 홀포드,제임스 커티스,파룰 판데이 출판 한빛미디어 발매 2024.05.10. 요즘 우리는 주변에서 AI를 아주 쉽게 접할 수 있습니다. 특히 최근에는 발표된 삼성의 AI 스마트폰, 애플도 OpenAI와 손잡고 시리를 업그레이드해서 아이폰 15pro부터 을...', 'date': '4일 전'}\n",
      "{'title': '여수캠퍼스 인공지능 개발 과정 무료 개설', 'text': '전남대 여수캠퍼스 인공지능 개발 과정 무료 개설 재학생 대상... 26일까지 접수 전남대학교 여수캠퍼스가 재학생을 대상으로 인공지능(AI) 알고리즘 및 솔루션을 개발하는 프로젝트 교육과정을 무료 운영한다. 전남대 여수캠퍼스는 오는 7월 1일부터 26일까지 파이썬, 데이터 분석을 위한 시각화 프로그래밍 등 이론교육은 물론 융합 문제해결 아이디어...', 'date': '5일 전'}\n",
      "{'title': '[3월 18일 마감시황] 애플이 구글 인공지능(AI)인 제미나이 아이폰에 장착 위해 논의 중', 'text': \"JYP 엔터테인먼트는 지난 13일 이후 4거래일 연속 하락세 미국 증시 리뷰 & & 뉴욕 주식시장 3대 지수가 18일 일제히 상승 마감 애플이 알파벳 산하의 구글 인공지능(AI)인 제미나이를 아이폰에 장착하기 위해 논의 중이라는 보도가 AI 기대감을 부추기면서 빅 7 대형 기술주들을 일제히 끌어올렸고, 그 덕에 3대 지수가 동반 상승 '월가 공포지수' 변동성...\", 'date': '2024.03.19.'}\n",
      "{'title': '재미로 보는 인공지능의 2024년 암호화폐 전망', 'text': '인공지능의 빅뱅은 2022년 말 OpenAI의 ChatGPT 대규모 언어 모델 AI가 공개되면서 폭발적으로 증가했습니다. ChatGPT의 붐으로 인해 다른 업체들도 이 독점적 지위에 도전장을 내밀었고... 코인텔레그래프는 인공지능이 2024년에 가치 있는 통찰력을 제공할 수 있는지 살펴봅니다. 비트코인이 2024년에 사상 최고치를 경신할까? © wildbook, 출처 Unsplash 구글의 바드는...', 'date': '2024.01.07.'}\n",
      "{'title': '오픈AI와 파트너십 맺은 애플 생성 인공지능 제품 대거 출시', 'text': \"오픈AI와 파트너십 맺은 애플 생성 인공지능 제품 대거 출시 애플, AI 시대에 도전하다: '애플 인텔리전스' 공개 애플이 세계 개발자 콘퍼런스에서 AI 기반 플랫폼 '애플 인텔리전스'를 공개했다. 이번 발표로 애플은 챗봇과 같은 생성형 (AI) 관련 제품을 대거 내놓으며 AI 분야에 대한 진출을 가속화하고 있다. 애플의 AI 시도 애플은 협업을 통해 오픈AI와 같은 AI...\", 'date': '3주 전'}\n",
      "{'title': '지코어 Gcore Edge AI 솔루션 인공지능 자동 음성인식 서비스', 'text': '지코어 Gcore Edge AI 솔루션 인공지능 자동 음성인식 서비스 안녕하세요. 사진&IT 크리에이터 자유분방입니다. 지코어(Gcore)는 클라우드, 엣지 및 AI 솔루션 서비스 프로바이더입니다. AI 교육 가속화 및 클라우드 서비스 제공, 콘텐츠 전송 개선, 서버 및 애플리케이션을 보호하고 있으며 전 세계에 160개 이상의 PoP가 있고, 13,000 이상의 파트너, 110+ Tbps 총 네트워크 용량...', 'date': '2024.03.29.'}\n",
      "{'title': \"'인공지능 대전환(AX)' 시대가 열렸다\", 'text': \"생성형 AI가 빠르게 발전하면서 이제는 인공지능을 단순히 활용하는 개념을 넘어, 산업의 체질을 바꾸는 핵심 기술로 활용하는 '인공지능 전환(AI Transformation, AX)' 시대가 다가오고 있습니다. 인공지능 기술을 통해 산업 생태계와 업무 혁신을 이끌어내는 것인데요. 미래의 디지털 경제 시대에 대비하고 경쟁력을 유지하기 위한 필수적인 요소 ' 전환(AX)...\", 'date': '2024.02.23.'}\n",
      "{'title': '[인공지능시대가 온다 #2] Chatgpt 4o를 통한 슈팅 게임 만들기', 'text': '아래의 링크 에 있는 파일은 윈도우용 이고 실행 파일이니 게임을 즐기실분은 클릭하시길 바랍니다. http://naver.me/F2ZBRfnR ( 비밀번호 : 0611 ) 여러분, 이제 인공지능 도구를 공부하시고 응용하셔서 여러분만의 업을 만드시길 바랍니다. 이제, 을 공부해야 하는 시기임은 분명한것 같습니다. 감사합니다.', 'date': '2주 전'}\n",
      "{'title': '코딩책 <엔트리 인공지능 with 햄스터 로봇>', 'text': 'ㅠㅠ 오늘은 저처럼 코딩 교육, 프로그래밍 활동이 중요한 건 잘 알지만 보낼만한 학원을 물색하는 것도 여의치 않아 고민되는 분듣ㄹ께 코딩책 <엔트리 인공지능 with 햄스터 로봇>을 소개해볼게요. 코딩책 / 인공지능책 <엔트리 with 햄스터 로봇>은 엔트리와 을 활용해 프로그래밍 활동을 해볼 수 있는 책이에요. 엔트리란 무엇일까요? 엔트리는...', 'date': '2주 전'}\n",
      "{'title': '코딩책 <엔트리 인공지능 with 햄스터 로봇>', 'text': 'ㅠㅠ 오늘은 저처럼 코딩 교육, 프로그래밍 활동이 중요한 건 잘 알지만 보낼만한 학원을 물색하는 것도 여의치 않아 고민되는 분듣ㄹ께 코딩책 <엔트리 인공지능 with 햄스터 로봇>을 소개해볼게요. 코딩책 / 인공지능책 <엔트리 with 햄스터 로봇>은 엔트리와 을 활용해 프로그래밍 활동을 해볼 수 있는 책이에요. 엔트리란 무엇일까요? 엔트리는...', 'date': '2주 전'}\n",
      "{'title': '인공지능 AI판 앱스토어. GPT스토어', 'text': \"인공지능 기술이 전례 없는 속도로 발전하면서, 우리는 이제 누구나 자신만의 AI를 만들고 그 가치를 시장에 제공할 수 있는 새로운 시대의 문턱에 서 있는데요. 이러한 변화의 중심에는 인공지능 기술에 초점을 맞춘 새로운 플랫폼 'GPT스토어'가 있습니다. OpenAI가 지난 1월 출시한 'GPT스토어'는 구글플레이나 앱스토어와 유사한 역할을 하지만, 여기서 거래되는...\", 'date': '2024.02.20.'}\n",
      "{'title': '월요일 메타, TSMC, AMD 및 인공지능 관련 주가가 하락한 이유', 'text': '인공지능(AI)의 도입이 가속화되면서 생긴 부산물 중 하나는 좋든 나쁘든 투자자들이 AI 주식을 집단적으로 보는 관행입니다. 많은 경우 한 기업의 발전이 파급 효과를 일으켜... 이번 소송은 저작권이 있는 저작물이 자신도 모르게 또는 동의 없이 시스템을 학습시키는 데 사용되었다고 주장하는 작가들이 제기하는 소송 중 가장 최근의...', 'date': '2024.03.13.'}\n",
      "{'title': 'AI개발자 취업 스펙과 인공지능 부트캠프 국비지원 교육이 늘어나는 이유', 'text': '2022년 공개된 챗 GPT 오픈 API는 2022년 12월 대화 전문 인공지능 챗봇 챗GPT를 배포하며 산업에 많은 영향을 끼쳤습니다. AI가 각종 분야 전문 영역을 대체할 수 있게 되면서 IT 기업의 경쟁력 척도로 AI 기술이 자리 잡게 됐죠. 현재 정보기술 기업의 경쟁력/생존은 시스템에 있다. AI 개발자는 IT 기술에 근본을 두고 있는 기업에게 실력있는 AI개발자 채용은...', 'date': '2024.05.21.'}\n",
      "{'title': '인공지능을 활용해서 얼굴 합성하기 ft.ReActor', 'text': '요즘 인공지능과 관련된 포스팅을 많이 하게 되는데요. 정말 빠른 속도로 발전하고 다양하게 활용할 수 있습니다. 오늘 포스팅에서는 PC에서 설치 후 이용할 수 있는... ▲ 같은 방법으로 얼굴 소스로 사용되는 source_image를 추가하고, 으로 얼굴 합성 후 변경된 결과를 저장할 수 있는 save image 노드를 만듭니다. 이제 [Queue Prompt] 버튼을...', 'date': '2024.01.07.'}\n",
      "{'title': '쳇GPT어플 설치 방법, 내 손안에 인공지능비서를 만들어보자', 'text': '오늘은 내 손안에 인공지능 비서를 만들기 위해 쳇GPT어플 설치방법을 간단하고 쉽게 알아보겠습니다. 스마트생활이 쉬워지는 공간, 테크뮤즈의 아틀리에 시작합니다. 쳇GPT어플... 이상, 쳇GPT 어플 설치방법과 사용법에 대해 간단히 알아보았습니다 어떻게 세팅하느냐에 따라서 정말 내 손안에 편리한 비서로 사용이 가능한 쳇gpt를 쉽고 편리하게...', 'date': '2024.02.24.'}\n",
      "{'title': '대세는 인공지능...AI를 활용한 유튜브 마스터 기본과정 개강', 'text': 'AI 인공지능을 활용하여 빠르게 영상제작하는 방법 등 최신 영상제작 기법까지 다양한 수업이 진행됩니다. AI를 활용한 유튜브 마스터 기본과정 커리큘럼 커리큘럼은 다음과 같습니다. Ⅴ. 유튜브 동영상 마케팅의 기본 원리와 이점 이해하기 Ⅴ. 스마트폰으로 동영상 콘텐츠 및 쇼츠 제작 Ⅴ. 효과적인 동영상 콘텐츠 편집 방법 Ⅴ. 챗GPT 등 AI 을 이용한 빠른...', 'date': '2024.03.08.'}\n",
      "{'title': '인공지능, 매일 1%씩 나아진다', 'text': \"요즘 키워드는 '빅데이터'가 아니라 빅데이터를 활용해서 만든 '인공지능'입니다. 확실히 정부의 연구지원도 인공지능에 많이 힘을 실어주는 분위기입니다. 최근 ChatGPT를 개발한 OpenAI에 있던 개발자와 비즈니스 관련 전문가들이 PERPLEXITY라는 것을 만들었습니다. 퍼플렉시티는 창업 2년만에 기업 가치가 4조 정도로 평가된다고 합니다....\", 'date': '6일 전'}\n",
      "{'title': '온마 25기, 컨셉 10기를 위한 인공지능 아숙업(AskUp), 뤼튼 활용법 안내', 'text': '온라인마케팅MBA 31기와 외식업 컨셉 기획자 과정 10기를 위해 스마트폰을 이용해서 인공지능을 쉽고 편하게 활용하는 방법을 알려 드리겠습니다. 온마 25기, 컨셉 10기를 위한 인공지능 아숙업(AskUp), 뤼튼 활용법 안내 아숙업을 카카오톡에서 \\'askup\\'를 검색하여 친구 추가 하시면 됩니다. 채팅창에서 \"식당 경영자가 성공하기 위한 이상적인 하루 일과를 제시해 줘\"라고...', 'date': '2024.05.06.'}\n",
      "{'title': '구글 픽셀9 프로 크기 변화 및 적응형 터치? 픽시로 인공지능 신경썼지만 후면카메라 디자인 아쉬워!!', 'text': '구글 픽셀9 프로 적응형 터치 및 스펙 픽셀9와 픽셀9 프로의 OS는 안드로이드15를 탑재하게 될 것이며 구글도 인공지능에 더욱 신경을 쓰지 않을까 싶은데요. 픽셀9 시리즈에는 픽시라는 새로운 제미니 기반으로 인공지능을 한층 더 업그레이드할 것 같아요. 픽시는 체미니 나노를 사용하면 오프라인 상태에서 어시스턴트를 사용할 수 있도록 한다고 합니다. 따라서...', 'date': '2024.03.22.'}\n",
      "{'title': '뺏고 뺏기는 인공지능/반도체 인력 전쟁!', 'text': '출처: 조선일보 ✅ 뺏고 뺏기는 인공지능/반도체 인력 전쟁! - 엔비디아가 삼성전자, SK하이닉스 등 국내 반도체 기업으로부터 핵심 인력을 대거 영입하고 있다. - 링크드인 분석 결과, 엔비디아 직원 중 삼성전자 출신이 515명인 반면 삼성전자 직원 중 엔비디아 출신은 278명에 불과했다. - 글로벌 AI·반도체 기업들이 전문 인력 확보 경쟁에 열을 올리고 있다. 지난...', 'date': '5일 전'}\n",
      "{'title': '인피닉 장외주식 센서 퓨전과 인공지능 플랫폼 기술', 'text': '핵심 사업 분야는 센서 퓨전과 인공지능 플랫폼입니다. 자율주행과 보안 관제 그리고 국방 인공지능 분야도 참여하고 있습니다. 인피닉 장외주식의 최근 근황을 확인해 보겠습니다.... 자율주행 기술 개발 생태계 조성에 기여할 목적으로 지능형 열화상 카메라 모듈인 퀀텀레드로 수집한 약 190만 장의 이미지 파일 데이터셋을 공개했습니다. 열상 센서는 미세먼지와...', 'date': '2024.05.23.'}\n",
      "{'title': '[하우스 트렌드 모음.zip] 라이프스타일 체인저, 인공지능', 'text': 'zip의 이번 주제는요, ‘라이프스타일 체인저, 인공지능’입니다. 주거, 집안일 등 우리의 삶을 이루는 여러 분야가 인공지능의 영향을 받고 있는데요. 그 영향으로 어떤 변화가 일어나고 있는지 함께 알아볼까요? 우선 인공지능(AI)에 대해서 간단하게 소개하자면 은 컴퓨터에서 음성 및 작성된 언어를 보며 이해하고 변역하면서 데이터를 분석하고...', 'date': '2024.01.25.'}\n",
      "{'title': 'ACE 엔비디아밸류체인액티브 AI 인공지능 반도체 ETF', 'text': '2.ACE 엔비디아밸류체인액티브 ETF는 이름에도 나와 있듯이 엔비디아와 관련된 인공지능(AI) 반도체 관련된 기업에 투자를 합니다. 3. 엔비디아에 25%를 투자하고 나머지 엔비디아와 관련된 밸류체인 기업에 나머지를 투자를 합니다. 종목별 구성 비중은 △엔비디아 24.01% △ARM 19.99% △TSMC 9.99% △SK하이닉스9.98% △ASML 4.52% 등입니다. 4. 세제혜택을 받을 수 있는...', 'date': '2주 전'}\n",
      "{'title': '[온마의 신(神) 11편] 구글 인공지능 제미나이, 블로그를 쓰면 인생과 사업에서 일어나는 변화', 'text': '#온라인마케팅 #블로그글쓰기 #인공지능 #제미나이 안녕하세요. 온라인마케팅 MBA 김영갑교수입니다. 구글 인공지능 제미나이에게 묻다 블로그를 쓰는 경우 vs 블로그를 쓰지 않는 경우 어떤 차이가 발생할까? 저는 2003년 식당을 시작한 이후 2024년 현재까지 꾸준하게 블로그 글쓰기를 하고 있습니다. 오늘은 구글 제미나이 어드밴스드 버전(유료 버전)을 이용해서...', 'date': '2024.05.23.'}\n",
      "{'title': '인공지능이 그려주는 실사화의 수준', 'text': '인공지능의 발전이 기가 막힙니다. ChatGPT 로 촉발된 혁명이 어디까지 발전할지 궁금해집니다. 미드저니, 달리처럼 그림을 그려주는 이미지 생성형 인공지능에 관심이 많습니다. 특히 실사화를 그려주는 AI 에 주목하고 있습니다. 시간을 쪼개서 여러 기능을 공부해보고 있습니다. 배우기만 한다고 다는 아닙니다. 직접 만들어보고, 수익화를 위해서 이런 저런 노력을 하고...', 'date': '2024.01.11.'}\n",
      "{'title': '7인치 디스플레이 내장된 AI 인공지능 스피커 구글네스트허브(구글홈허브) 장단점 알아보기', 'text': '이번엔 AI스피커, 즉 인공지능스피커를 찾고 계신 분들을 위해 \"구글네스트허브\" (이전 이름은 구글홈허브)에 대해 이야기해보려고 합니다. 요즘엔 다양한 AI스피커가 나왔습니다.... 이 제품은 구글의 인공지능 기술을 바탕으로 설계되었으며, 특히 구글 어시스턴트와의 강력한 통합이 특징입니다. 구글네스트허브는 AI스피커의 기능을 넘어서, 스마트...', 'date': '2024.05.22.'}\n",
      "{'title': 'WIS2024에서 만나본 LG전자 AI 인공지능 기술.(Feat.LG SIGNATURE 세탁건조기 워시콤보)', 'text': 'AI 인공지능 기술이 점점 우리 생활을 윤택하게 만들어 주고 있는데요. 아직 가정에서 사용하고 있는 제품군들 중에 AI 인공지능 기술이 탑재된 제품이 없다면 본 리뷰에서 기술력을 확인해 보시고, 구입도 해 보면 어떨까요? 필자가 이번에 WIS(월드 IT 쇼) 2024에 다녀왔는데요. AI 이 산업의 트렌드인 만큼 다양한 업체가 참여해서 새로운 기술력과 함께 볼거리...', 'date': '2024.04.23.'}\n",
      "{'title': '업무효율 높이는 생성형 인공지능 종류 5가지', 'text': '생성형 인공지능 종류 업무 효율성을 극대화할 수 있는 생성형 인공지능 도구들이 점점 많이 생겨나고 있습니다. 이 중에서도 MS Copilot, ChatGPT, 윔지컬, 릴리스, 감마 생성형 인공지능은 각기 다른 특성과 강점을 바탕으로 다양한 업무에 활용되고 있습니다. 이 글에서는 이러한 생성형 종류 5가지를 소개하여, 각 도구가 어떻게 업무 효율성을 높이는지...', 'date': '2주 전'}\n",
      "{'title': '인공지능(AI)으로 군수품 품질관리 고도화 추진', 'text': '인공지능(AI)으로 군수품 품질관리 고도화 추진 2024.06.19 방위사업청 국방기술품질원(원장 허건영, 이하 기품원)은 6월 19일(수), 기품원 국방신뢰성연구센터(대전 상서동)에서... 이번 회의는 국방부, 방위사업청, 합참, 육군, 국방과학연구소(ADD), 관련 전문기관(KIDA, 한국지능정보사회지능원), 방산기업(LIG넥스원) 및 학계 등 국방 분야AI 전문가 30여명이...', 'date': '5일 전'}\n",
      "{'title': \"[ChatGPT 특강] 'ChatGPT 및 생성형 인공지능의 이해' 강의 진행\", 'text': \"광주디자인진흥원에서 주관하는 인쇄 융복합 특화 기술 대학에서 인쇄기업 대표님들을 대상으로 '생성형 인공지능의 이해 및 사용법'에 관한 주제로 강의를 했습니다. 광주인쇄비즈니스센터에서 진행된 '특화 기술 대학' 첫날 강의에 초빙되어 [현대 시대의 변화, 의 특징, 학습 방법, ChatGPT의 변천사, 특징 및 한계점, ChatGPT 기본 사용법...\", 'date': '2024.05.15.'}\n",
      "{'title': '(모집) 구라칠 때 상대방눈을 보지마라 - 인공지능 수익화 파이프라인 구축 전자책 얼리버드', 'text': '사실 눈은 굉장히 작은 영역이라서 여기를 디테일하게 그리는 것은 인공지능도 힘들어합니다. 위 글에서도 다루엇듯이 종이가 작으면 절대 디테일이 나올 수 없습니다. 아무리 그림의 대가라도 작은 면적의 종이에 자세하고 세세한 그림을 그릴 수는 없습니다. 그레서 은 종이를 확대하여 자세히 그린다음 다시 축소하여 합성하는 방식을 사용하는 편입니다....', 'date': '2024.02.13.'}\n",
      "{'title': '[CES 2024] 가정용 AI 인공지능 반려로봇 삼성전자 볼리, LG전자 AI 에이전트', 'text': '얼리어답터 리뷰/IT정보 [CES 2024] 가정용 AI 인공지능 반려로봇 삼성전자 볼리, LG전자 AI 에이전트 by 엔돌슨 2024. 1. 13. [CES 2024] 가정용 AI 인공지능 반려로봇 삼성전자 볼리, LG전자 AI 에이전트 2024년 CES에서 삼성전자와 LG전자가 각각의 혁신적인 AI 로봇을 공개하였습니다. 가정용 로봇 분야이라 귀엽고 집사로봇으로 가장에서 편의성을 도와주는 애완로봇입니다....', 'date': '2024.01.13.'}\n",
      "{'title': '미국 시가총액 1~3위(마이크로소프트, 애플, 엔비디아) 접전, 공통분모는 (AI)', 'text': '이 세 기업의 공통분모는 바로 인공지능(AI)입니다. 엔비디아는 인공지능의 두뇌 역할을 하는 GPU를 설계하는 팹리스 기업이고, 마이크로소프트는 현재 가장 핫한 생성형 AI Chat GPT를 개발한 OpenAI 사의 지분 49%를 보유한 최대주주이자 가장 적극적으로 AI S/W를 개발, 서비스하고 있는 기업입니다. 애플은 비록 출발이 늦긴 했지만 언제든 세상에서 가장...', 'date': '3주 전'}\n",
      "{'title': '최재천의 곤충사회 인공지능과 함께 하게 될 진짜 인간사회란?', 'text': '손잡지 않고 살아남은 생명은 없기 때문입니다 인공지능과 인간이 함께 하게 될 세상, 우리가 맞이하게 될 새로운 세상. 그리고 기존에 있던 세상. 우리는 어떤 세상과 함께 하게... 저는 인공지능과 기술, 데이터를 통해 세상을 보는 사람인데요. 최재천 교수의 관점을 통해 앞으로의 세상을 바라보려해요. 관점에 또 다른 관점을 더 해보는 거죠. 책에서는 미리 말하고...', 'date': '2024.02.26.'}\n",
      "{'title': '피부암을 진단하는 인공지능 기기', 'text': '이 기기의 이름도 더마센서로 탄성 산란 분광기 (elastic scattering spectroscopy (ESS)) 기술과 인공지능 알고리즘을 이용해 피부암 가능성이 높은 병변을 감별합니다. 더마센서는 피부에 빛을 발사해 피부 조직에서 산란되는 정도를 확인합니다. 이 패턴을 학습한 알고리즘은 앞서 말한 세가지 피부암 가능성을 바로...', 'date': '2024.01.30.'}\n",
      "{'title': '[독서-1202] AI 시대의 부의 지도 - 인공지능 시대의 투자법 (8점)', 'text': '인공지능(AI)이 인간의 지능을 뛰어넘는 특이점이 다가오고 있다. 역사의 변곡점마다 혼란과 변화가 공존했듯이, 지금도 많은 사람들에게 변화에 대한 갈망과 익숙함에 대한 혼란을 안겨주고 있다. 생성형 AI는 이미 일상 속에서 활용되고 있다. 글쓰기는 물론, 그림을 그리고, 코딩을 하는 AI까지 등장하며 기술은 빠른 속도로 발전하고 있다. AI 시대의 도래는 국가...', 'date': '4주 전'}\n",
      "{'title': '활용도 UP!!! 인공지능 도구 활용법 무료특강', 'text': '인공지능 칼럼니스트가 알려주는 인공지능 도구 활용법 무료특강을 진행합니다. 오픈AI의 챗GPT가 출시된 이후 수많은 인공지능 프로그램들이 등장하며 세상을 빠르게 변화시키고 있습니다. 특히 문서 작성, 기획, 이미지 생성, 영상 제작. 작사, 작곡까지 다양한 분야에서 사용되고 있지요? 생성형 은 이제 단순한 기술을 넘어, 우리 일상과 비즈니스의...', 'date': '2주 전'}\n",
      "{'title': '오감 인식까지 하는 인공지능(AI)! 구글, 아마존, 파나소닉 도입 사례', 'text': '인공지능(AI)은 현대 사회에서 다양한 분야에 걸쳐 혁신적인 변화를 이끌고 있으며, 특히 인간의 오감을 인식하는 AI 기술은 인간과 기계의 상호작용을 크게 향상시키고 있습니다. 이러한 기술은 우리의 일상생활뿐만 아니라 의료, 산업, 서비스 등 여러 분야에서 실질적인 응용 사례를 통해 그 가능성을 입증하고 있습니다. 인간의 오감을 인식하는 AI 사례, NIPA와 함께...', 'date': '1일 전'}\n",
      "{'title': '인공지능(AI) 기술 대중화를 꿈꾸는 오픈소스AI', 'text': '오늘은 코드와 알고리즘을 공개함으로써 인공지능 AI 기술의 대중화를 꿈꾸는 오픈소스AI에 대해 알아보도록 하겠습니다. 오픈소스AI 오픈소스 AI는 기존의 오픈소스 소프트웨어(SW) 철학을 딥러닝과 인공지능 분야에 적용한 것인데요. 이 철학은 소스 코드 뿐만 아니라 학습 데이터, 모델, 모델을 튜닝하기 위한 도구, 그리고 연구 논문 등 모든 관련...', 'date': '2024.05.16.'}\n",
      "{'title': '은퇴한 시니어가 인공지능을 배워야 하는 이유?', 'text': '은퇴한 시니어가 인공지능을 배워야 하는 이유? 은퇴자들이 인공지능(AI)을 배우고 활용하는 것은 그들이 현대 기술과 연결되어 있도록 돕고, 새로운 기술을 익히는 즐거움을 제공합니다. 이를 프로그램에 통합하는 것은 은퇴자들이 자신의 삶을 풍요롭게 하고, 지식을 확장하며, 심지어 새로운 경력 기회를 탐색하는 데 도움이 될 수 있습니다. 다음은 은퇴자들이...', 'date': '2024.03.03.'}\n",
      "{'title': 'Chat GPT & 인공지능 _ 생성형 AI 모임 모집 (ft. 내일(화) 바로 시작!)', 'text': '인공지능분야 전문가이자 미래학자 레이 커즈와일은 인공지능이 인류 전체의 지능을 넘어서는 특이점이 적어도 2045년 전후로 올 것이라 전망하고 있다. 한 때 온 세상을 북적이고 시끌싸끌하게 했던 메타버스, NFT는 언제 그랬냐는 듯이 열풍이 사그러드렀다. 반면, 은 어떨까? 첫 개막인 2016년 이세돌 VS 알파고를 기점으로, 약 7-8년이 지난 2024년...', 'date': '2주 전'}\n",
      "{'title': 'LLM이 적용된 인공지능 로봇: 구글, 테슬라, 아마존이 이끄는 미래', 'text': '최근 몇 년간, 인공지능(AI) 기술은 비약적인 발전을 이루어왔습니다. 그 중심에는 대규모 언어모델(LLM)이 자리 잡고 있습니다. 이 모델들은 방대한 양의 데이터를 학습하여 인간과... 앞의 사례를 통해 LLM이 로봇의 지능과 상호작용 능력을 크게 향상시키고, 이를 통해 다양한 산업 분야에서 효율성을 극대화할 수 있음을 알 수 있습니다. 앞으로도 LLM을 활용한 로봇...', 'date': '5일 전'}\n",
      "{'title': '릴리스 ai 2시간 동영상 PDF 1분 요약해주는 인공지능', 'text': '릴리스 ai 동영상 요약 인공지능 어플 사용해보기 1. 릴리스 ai 란? 2. 릴리스 ai 사용방법 3. 릴리스 ai 요금제 릴리스 ai란? 한국인이 가장 많이 사용하는 어플, 유튜브 Youtube의 주소만... 블로그까지 써줍니다 ㄷㄷㄷㄷㄷㄷ 이 기능이 블로거들한텐 엄청날텐데요, 아무리 긴 영상이라도 이 영상 바뀔 때마다 캡쳐 떠주고, 그 밑에 요약본까지 쫙 달아줍니다... 또한...', 'date': '2024.05.22.'}\n",
      "{'title': '[ 2024 인공지능 & 빅데이터쇼] NHN클라우드 AI 얼라이언스와 함께 상상을 현실로', 'text': '최신 인공지능 기술을 비즈니스에 적합하게 활용하고, 개발하는 것이 고민인 분들을 위해 한국인공지능산업협회, AI타임즈, 엑스포럼이 2024 인공지능 & 빅데이터쇼를 개최합니다. NHN Cloud는 강력한 인프라를 기반으로 다양한 서비스 개발 파트너사들과 AI 얼라이언스를 구축하고 있습니다. NHN Cloud AI 얼라이언스가 어떻게 AI 생태계를 생성하며...', 'date': '2주 전'}\n",
      "{'title': '김승수 로봇 AI 쪼꼬미 인공지능 딸 입양 리쿠로봇 가격 정보 미운우리새끼', 'text': '김승수 로봇 AI 쪼꼬미 인공지능 딸 입양 리쿠로봇 가격 정보 미운우리새끼 안녕하세요. 오늘 미운우리새끼에는 김승수가 리쿠로봇을 소개하는 모습이 그려졌어요. 그리고 볼 때마다... 그럼 김승수 로봇 AI 쪼꼬미 인공지능 딸 입양 리쿠로봇 가격 미운우리새끼 정보에 대해 자세히 알아볼께요. 김승수가 양정아에게 소개한 로보트는요. 김승수에게 일어나라는 음성을...', 'date': '2024.05.12.'}\n",
      "{'title': '파이썬 인공지능 ai 머신러닝 딥러닝 부트캠프 취업 강의', 'text': '머신러닝과 딥러닝 차이 머신러닝과 딥러닝의 차이는 아마 대부분 ai에 관심있는 분들은 아실테지만, 그래도 간단하게 설명 드리면, ∨ 머신러닝 데이터로부터 학습하여 예측이나 판단을 자동으로 수행하는 인공지능 기술이며, 과거 데이터 기반으로 미래를 예측하거나 패턴을 읽어서 자동으로 분류하는 작업을 수행하는 기술 ∨ 딥러닝 인공 신경망을 사용하여...', 'date': '3주 전'}\n",
      "{'title': 'AI 국제인공지능산업대전 AI 특허기술을 취재합니다', 'text': \"오늘은 제7회 AI 국제인공산업대전에 대한 포스팅입니다. 출처 : 코엑스 서울 삼성동 코엑스에서 개최된 제7회 '국제인공지능산업대전'은 아시아 최대이자 세계 5대 인공지능 전시회로, 전 세계적으로 생성형 AI를 중심으로 한 기술과 산업의 발전을 촉발하고 있는 중심입니다. 이 행사는 국내외 AI 기업 및 기관이 참여하여 AI의 모든 측면을...\", 'date': '2024.05.09.'}\n",
      "{'title': '글로벌 AI 인공지능 관련주 규제 어떻게 진행되고 있을까?', 'text': '범용 AI란 사람에 가까운 수준의 지능을 갖췄으며 사고가 가능한 인공지능을 말하는데 OpenAI의 챗GPT, 구글 딥마인드의 제미나이가 속합니다. ->이러한 범용 기술은 제한된 위험 단계로 분류되었는데 대신 자료에 AI 사실을 명시하고, EU의 저작권법을 준수해야 하는 것으로 보입니다. 위와 같이 위반 시 벌금을 부과하는 제재도 있는 상황인데 이러한 규제는 유럽 테크...', 'date': '2024.04.03.'}\n",
      "{'title': '인공지능의 책임있는 군사적 이용에 관한 고위급회의(REAIM) 중남미 지역협의회 개최', 'text': '오는 9월 서울에서 대한민국 정부가 네덜란드와 공동 주최하는 제2차 ‘인공지능(AI)의 책임있는 군사적 이용에 관한 고위급회의(이하 REAIM 고위급회의*)’ 준비를 위한 지역협의회가 6.13(목)-14(금)간 산티아고에서 개최된 중남미 지역협의회를 끝으로 마무리되었다. * Responsible AI in the Military Domain Summit 우리나라, 네덜란드, 칠레, 코스타리카 공동...', 'date': '6일 전'}\n",
      "{'title': 'AI 인공지능 교육 온라인 국비지원 학원 이직', 'text': '여러분~ 전 개발자 현 IT 전문 진로 컨설턴트 이 팀장입니다~ 오늘은 AI 인공지능 교육 온라인 국비지원 학원 이직 이라는 내용으로 찾아왔습니다. 처음 IT 분야를 접하시는... AI 인공지능교육 AI 온라인 국비지원 교육 알아보기 AI 학원 AI 교육 은 6개월간의 기간 동안 주 온라인 4일 + 오프라인 1일로 단, 하루만 서울에서 수강을 하시면 되시기에 어느...', 'date': '3주 전'}\n",
      "{'title': '인공지능 장단점 AI 프로그램은 이로운 점만 있는가', 'text': '현대 사회와 미래 산업에 인공지능은 빼놓을 수 없습니다. 단, 인공지능 장단점이 최근 계속 이슈되고 있는데요. 오늘은 광범위한 인공지능의 장점과 인공지능 단점에 대해 알아보려고 합니다. 아직 인공지능의 활용은 많이 되고 있지 않지만 앞으로 더 많은 일상생활에 에 접목될 예정으로 현대 사회에 살고 있는 우리는 장단점을 꼭 파악하고 있어야...', 'date': '2024.05.07.'}\n",
      "{'title': '인공지능 AI의 양면성과 인공지능기술 기업적용 성공사례 분석', 'text': '인공지능 정의 AI라고 불리는 인공지능이란 인간의 지능으로 할 수 있는 사고, 학습, 자기계발 등을 컴퓨터가 할 수 있도록 하는 방법을 연구하는 분야로서 일반적으로 범용 컴퓨터에 적용한다고 가정하며 또한 그와 같은 지능을 만들 수 있는 방법론이나 실현 가능성 등을 연구하는 과학 분야를 지칭한다. [문서정보] 문서분량 : 7 Page 문서종류 : HWP 문서...', 'date': '5일 전'}\n",
      "{'title': '인공지능 시대를 살아가는 우리 아이 키우는 법, 진노겐키 한스미디어', 'text': \"저자 : 진노 겐키 책 제목 : 인공지능 시대를 살아가는 우리 아이 키우는 법 옮김 : 최윤영 출판사 : 한스미디어 출판 연도 : 2020년 2쇄 4차 산업혁명, 챗 GPT로 대표되는 인공지능은 사회적 큰 화두이다. 그 어느 때보다 빠르게 변화하는 사회에 살고 있는 지금, 우리는 앞으로 더 다양한 분야에서 더 빠른 속도로 변화가 일어날 것이라 예상할 수 있다. '향후 20년 내에 현재...\", 'date': '3일 전'}\n",
      "{'title': '[미국주식] 오픈AI 물리학 난제 푸는 과학 인공지능 개발, 빅 테크 생성형 AI 로봇 경쟁', 'text': \"오픈AI, 물리학 난제 푸는 과학 인공지능 개발 IT 관계자에 따르면, 최근 오픈AI는 물리학 전공 교수들을 데이터 라벨러(Data Labeller)로 채용, 과학 AI 모델을 구축 중 데이터 라벨러 : 학습용 데이터를 수집, 가공하고 모델 성능을 향상하는 역할 담당 AI는 오류가 제거된 '클린 데이터'를 학습하면 성능이 극대화되는데, 이 역할을 물리학 교수들에게 맡긴 것....\", 'date': '2024.03.04.'}\n",
      "{'title': '[인공지능 활용 강의] 오픈AI 소라(Sora)와 피카랩스(PikaLabs) 동영상 비교', 'text': '오늘 인공지능 활용 강의에서는 현재 시장에서 인기 있는 \"오픈AI의 소라(Sora)와 피카랩스(PikaLabs) 동영상\"에 대해 알아보겠습니다. 현재 오픈AI는 천문학적인 투자금을 유치하고 있습니다. 관련 내용은 다음의 링크를 확인하세요! 이 투자 기간에 맞추어 현존하는 가장 성능이 우수한 생성형 동영상 플랫폼에 대해 소개했습니다. 플랫폼 명은 소라(Sora)이며...', 'date': '2024.02.19.'}\n",
      "{'title': '태국 기업인들 인공지능(AI) 쓰는 직원 원한다', 'text': '그러나 태국 카시콘연구센터는 인공지능(AI)이 고용에 미치는 영향과 관련, 태국 서비스 부문에서 기술에 의해 대체될 위험이 높은 직원은 4% 미만이라고 발표했다. 골드만삭스는 AI에 대한 2022년 투자액은 919억 달러를 초과했으며, 2030년까지 연간 2,000억 달러에 이를 것으로 예상하고 있다. 또 AI 도입으로 전 세계적으로 최대 3억 명의 노동자가 일자리를...', 'date': '1일 전'}\n",
      "{'title': '[STEM 미국유학 전문] 국내 인공지능 전문가 40%가 미국행 희망', 'text': '이 Blog 글에서는 국내 인공지능 전문가들 중 40%가 미국행을 희망한다는 2024년 6월 18일 조선일보 기사를 정리해보도록 하겠습니다. 현재 미국의 Big Tech 기업들은 첫 연봉을... 과학 #급여 #기술 #대기업 #대우 #대학 #미국 #박사 #반도체 #복리후생 #빅테크 #석사 #솔로몬에듀 #연구 #연봉 #영어 #워라벨 #유학 #이민 #인공 #인재 #지능 #처우 #초봉 #취업', 'date': '4일 전'}\n",
      "{'title': 'AI(인공지능)이 바꿔 놓을 5년 후 한국사회 변화 예상 [미래교육연구소]', 'text': '<인공지능 Goole 제미나이에게 물었다. 인공 지능으로 변화할 한국사회 5년 뒤 모습> 2029년, 인공지능(AI)은 더 이상 미래의 기술이 아닌 우리 일상에 깊숙이 스며든 현실입니다. 한국 사회는 AI의 발전으로 인해 눈부신 변화를 맞이하며, 특히 일상생활, 교통, 교육 분야에서 그 변화는 더욱 두드러질 것입니다. 1. 편리함으로 가득 찬 스마트 일상: AI 비서: AI 비서는 단순한...', 'date': '2주 전'}\n",
      "{'title': '[대회홍보]제6회 연구개발특구 인공지능 경진대회', 'text': '매년 진행되어오던 연구개발특구 인공지능경진대회(AI SPARK CHALLENGE)가 개최됩니다. 이번은 6회 차입니다. 대회안내입니다. <제6회 2024 연구개발특구 AI SPARK 챌린지 개최> □대회 소개 ○연구개발특구 AI SPARK 챌린지란? -데이터 및 을 활용하여 연구개발특구 기업의 비즈니스 문제해결 및 사회문제 해결을 지원하는 경진대회로...', 'date': '2024.03.04.'}\n",
      "{'title': '충청 온라인 교육 ICT인공지능 교육생 모집안내 정보', 'text': '충청 온라인 교육 ICT인공지능 교육생 모집안내 정보 안녕하세요. 2024년 충청 온라인 교육 관련 정보 알려드리겠습니다. 플랫폼 기반의 AI과정으로 lot 메이커 과정 교육생... 충청 온라인 교육 ICT인공지능 교육생 접수일정 : 2024-05-24 ~ 2024-06-21 교육일정 : 2024-06-24 ~ 2024-08-15 지역 : 충북 교육비 : 전액 지원 교육장소 오프라인 : 청주대학교 융합관 온라인 : ZOOM...', 'date': '2주 전'}\n",
      "{'title': \"기업교육 정재승 교수 강연 '4차 산업혁명- 인공지능, 빅데이터?' 특강\", 'text': \"이번에 소개해드릴 강연 영상은 정재승 교수님의 강연 '4차 산업혁명- 인공지능, 빅데이터? 이게 다가 아니다' 특강 영상 입니다. 정재승 교수님은 호오컨설팅 연사섭외로 4차산업, 미래, 인공지능, 미래기술, 로봇, 미래사회, 과학, 뇌과학 등 다양한 분야의 기업교육 강연(특강)을 진행하고 계십니다. 그럼 정재승교수님 영상 바로 포스팅 시작하겠습니다. 이미 젊은...\", 'date': '2024.02.29.'}\n",
      "{'title': 'GPT-4o 공개로 다시 본 인공지능 관련주 구글 주가 전망', 'text': 'GPT-4o 공개로 다시 본 인공지능 관련주 구글 주가 전망 구글 주식이 1년 동안 45.75%의 높은 수익률을 보이며 꾸준히 우상향하는 모습을 보이고 있습니다. 현재 주가는 174.18 달러로 52주 최고가를 계속 갱신하고 있고 최근에 개발자 컨퍼런스를 통해서 새로운 관련 기술들이 발표되어 투자자로서 앞으로 구글이 만들어 나가는 AI와 앞으로의 주가 전망에...', 'date': '2024.05.18.'}\n",
      "{'title': '교회가 인공지능을 우려해야 할 12가지 이유', 'text': '저자 장보철 박사(부산장신대 교수, 부산 소정교회)는 기독교적인 관점에서 교회와 기독교인들이 인공지능을 다양한 기독교적이고 성경적인 시각에서 어떻게 접근해야 할지를 이... 신국원 박사 (총신대학교 명예교수, (사)기독교세계관학술동역회 이사장)는 이 책에 대해 \"우리 시대의 새로운 도전을 가져오는 에 대해 주의를 기울여야 할 사안들을...', 'date': '4일 전'}\n",
      "{'title': '특허등록 절차, 기술 AI 인공지능특허는 어떻게 진행되나', 'text': '기술특허에 대한 관심은 이전부터 높았지만, AI 인공지능 기술이 발달함에 따라 관심도가 더욱 커졌습니다. 너도나도 기술 AI 인공지능 특허등록을 하는 상황이라면 대표님께서도 하루라도 빨리 권리를 취득하는 것이 현명한데요. 이번 포스팅에서는 특허등록 절차에 대한 전반적인 이야기를 나눠보려고 합니다. 실무 & 필수적인 특허등록 절차만 안내드리오니 끝까지...', 'date': '2024.02.05.'}\n",
      "{'title': '마이크로소프트 코파일럿 인공지능의 플러그인 기능 꼭 사용해 보세요', 'text': '제가 인공지능 관련 포스팅을 자주 하고 있는데요, 전문가 입장에서의 인공지능이 아니라 일반인이 실 생활에서 사용할 수 있는 인공지능 활용에 대해 소개를 하고 있습니다. 오늘은 윈도우에 기본적으로 탑재된 코파일럿의 플러그인 기능에 대해 소개하려고 합니다. 챗GPT나 달리 등의 생성형 을 사용하려면 전용 앱이나 웹사이트에 접속하여 로그인하고...', 'date': '2024.05.07.'}\n",
      "{'title': '인공지능 4대천왕 AI 석학 중 한 명인 앤드류 응 강연영상', 'text': '인공지능의 미래 범용 기술, 응용, 지속 가능성 인공지능(AI)은 컴퓨터 과학의 한 분야로, 지능형 에이전트를 만들어내는 것을 다룹니다. 지능형 에이전트는 추론, 학습, 자율적인 행동이 가능한 시스템입니다. AI 연구는 게임 플레이부터 의료 진단까지 다양한 문제를 해결하는 효과적인 기술 개발에 큰 성공을 거두었습니다. 범용 기술로서의 AI AI는 범용 기술로서...', 'date': '3주 전'}\n",
      "{'title': '#위레이저, 인공지능 기반 국제 물류 자동화로 혁신을 이끌다', 'text': '#위레이저, 인공지능 기반 국제 물류 자동화로 혁신을 이끌다 #국제물류 및 수입/수출 무역 분야에서 혁신을 이루기 위한 기업들의 도전은 계속되고 있다. 그 중심에는 웨레이저(Weraser)가 자리하고 있다. 김현종 대표의 최근 미국 오픈AI 방문 이후, 이 회사는 기반의 국제 물류 자동화 솔루션을 통해 업계의 주목을 받고 있다. 위레이저는 AI기술을...', 'date': '2024.04.12.'}\n",
      "{'title': '카카오톡 AI 요약 기능 및 카톡 인공지능 대화 말투 변경하기 사용법', 'text': '가장 최근 카카오톡에 AI 요약 기능과 인공지능 대화가 업데이트되었습니다. 단톡방에 엄청나게 쌓인 대화 내용을 간단하게 요약하는 것에서부터 시작하여, 특정 대화 상대에 따라서... 카카오톡 AI 요약, 카톡 인공지능 대화 말투 변경하기 사용하려면? 이번에 새로 업데이트된 기능은 앞에서도 이야기했듯이 아직 배타 버전이기 때문에 기본으로 사용할 수 없습니다. 카톡...', 'date': '2024.01.12.'}\n",
      "{'title': '인공지능상담, 학업스트레스 털어놓을 곳이 없으신가요?', 'text': '학업 스트레스는 학생들의 건강과 성장에 부정적인 영향을 미칠 수 있으므로 인공지능상담 등을 통해 이를 효과적으로 관리하는 것이 중요합니다. 학업 스트레스의 원인은 다양한데... 그런 순간에는 부모님, 선생님이나 상담 키오스크 등을 찾아가 마음 속 이야기를 꺼내 놓길 바랍니다. 학업 스트레스로 인해 힘겨워하고 있지만 기관 방문이 어려운 분들을 위해...', 'date': '2주 전'}\n",
      "완료\n"
     ]
    }
   ],
   "source": [
    "# get_view()\n",
    "views = driver.find_elements(By.CSS_SELECTOR, '.lst_view .view_wrap')\n",
    "result = []\n",
    "\n",
    "for view in views:\n",
    "    con_dict = {}\n",
    "    con_dict['title'] = view.find_element(By.CSS_SELECTOR, '.title_link').text\n",
    "    con_dict['text'] = view.find_element(By.CSS_SELECTOR, '.dsc_link').text\n",
    "    con_dict['date'] = view.find_element(By.CSS_SELECTOR, '.sub').text\n",
    "    result.append(con_dict)\n",
    "    print(con_dict)\n",
    "    \n",
    "print('완료')"
   ]
  },
  {
   "cell_type": "code",
   "execution_count": 31,
   "id": "2daadb70-f7da-4914-864d-b955ce70a23e",
   "metadata": {
    "tags": []
   },
   "outputs": [
    {
     "data": {
      "text/html": [
       "<div>\n",
       "<style scoped>\n",
       "    .dataframe tbody tr th:only-of-type {\n",
       "        vertical-align: middle;\n",
       "    }\n",
       "\n",
       "    .dataframe tbody tr th {\n",
       "        vertical-align: top;\n",
       "    }\n",
       "\n",
       "    .dataframe thead th {\n",
       "        text-align: right;\n",
       "    }\n",
       "</style>\n",
       "<table border=\"1\" class=\"dataframe\">\n",
       "  <thead>\n",
       "    <tr style=\"text-align: right;\">\n",
       "      <th></th>\n",
       "      <th>title</th>\n",
       "      <th>text</th>\n",
       "      <th>date</th>\n",
       "    </tr>\n",
       "  </thead>\n",
       "  <tbody>\n",
       "    <tr>\n",
       "      <th>0</th>\n",
       "      <td>엔비디아 주가 전망 시가총액 버블일까 실적 인공지능 가속기</td>\n",
       "      <td>엔비디아 주가 전망 시가총액 버블일까 실적 인공지능 가속기 인공지능 AI열풍의 최전...</td>\n",
       "      <td>7시간 전</td>\n",
       "    </tr>\n",
       "    <tr>\n",
       "      <th>1</th>\n",
       "      <td>구글 알파벳 주가 전망, 1주만 사고 후회(feat. 배당금, 역투자, 인공지능)</td>\n",
       "      <td>배당금, 역투자, 인공지능) 투자를 하면 항상 후회를 하게되죠. 그때 샀어야해, 팔...</td>\n",
       "      <td>2주 전</td>\n",
       "    </tr>\n",
       "    <tr>\n",
       "      <th>2</th>\n",
       "      <td>인공지능 삼성 노트북 갤럭시북4 엣지 가벼운 14인치 노트북 스펙 가격</td>\n",
       "      <td>오늘은 인공지능 더해진 14인치 노트북 갤럭시북4 엣지 가격 스펙을 간단히 소개해 ...</td>\n",
       "      <td>2일 전</td>\n",
       "    </tr>\n",
       "    <tr>\n",
       "      <th>3</th>\n",
       "      <td>[인공지능 개발자] 석사가 아닌 고졸도 취업이 가능한 루트</td>\n",
       "      <td>인공지능 개발자 석사가 아닌 고졸도 취업이 가능한 루트 현재, IT 산업에서 가장 ...</td>\n",
       "      <td>3주 전</td>\n",
       "    </tr>\n",
       "    <tr>\n",
       "      <th>4</th>\n",
       "      <td>인공지능 VS 인간, 주식투자 대결 승자는? 로보어드바이저 투자 수익률 공개</td>\n",
       "      <td>인간과 인공지능(AI) 중 누가 더 투자를 잘할까요? AI는 빅데이터 분석, 머신러...</td>\n",
       "      <td>2024.05.10.</td>\n",
       "    </tr>\n",
       "    <tr>\n",
       "      <th>...</th>\n",
       "      <td>...</td>\n",
       "      <td>...</td>\n",
       "      <td>...</td>\n",
       "    </tr>\n",
       "    <tr>\n",
       "      <th>385</th>\n",
       "      <td>마이크로소프트 코파일럿 인공지능의 플러그인 기능 꼭 사용해 보세요</td>\n",
       "      <td>제가 인공지능 관련 포스팅을 자주 하고 있는데요, 전문가 입장에서의 인공지능이 아니...</td>\n",
       "      <td>2024.05.07.</td>\n",
       "    </tr>\n",
       "    <tr>\n",
       "      <th>386</th>\n",
       "      <td>인공지능 4대천왕 AI 석학 중 한 명인 앤드류 응 강연영상</td>\n",
       "      <td>인공지능의 미래 범용 기술, 응용, 지속 가능성 인공지능(AI)은 컴퓨터 과학의 한...</td>\n",
       "      <td>3주 전</td>\n",
       "    </tr>\n",
       "    <tr>\n",
       "      <th>387</th>\n",
       "      <td>#위레이저, 인공지능 기반 국제 물류 자동화로 혁신을 이끌다</td>\n",
       "      <td>#위레이저, 인공지능 기반 국제 물류 자동화로 혁신을 이끌다 #국제물류 및 수입/수...</td>\n",
       "      <td>2024.04.12.</td>\n",
       "    </tr>\n",
       "    <tr>\n",
       "      <th>388</th>\n",
       "      <td>카카오톡 AI 요약 기능 및 카톡 인공지능 대화 말투 변경하기 사용법</td>\n",
       "      <td>가장 최근 카카오톡에 AI 요약 기능과 인공지능 대화가 업데이트되었습니다. 단톡방에...</td>\n",
       "      <td>2024.01.12.</td>\n",
       "    </tr>\n",
       "    <tr>\n",
       "      <th>389</th>\n",
       "      <td>인공지능상담, 학업스트레스 털어놓을 곳이 없으신가요?</td>\n",
       "      <td>학업 스트레스는 학생들의 건강과 성장에 부정적인 영향을 미칠 수 있으므로 인공지능상...</td>\n",
       "      <td>2주 전</td>\n",
       "    </tr>\n",
       "  </tbody>\n",
       "</table>\n",
       "<p>390 rows × 3 columns</p>\n",
       "</div>"
      ],
      "text/plain": [
       "                                             title  \\\n",
       "0                 엔비디아 주가 전망 시가총액 버블일까 실적 인공지능 가속기   \n",
       "1    구글 알파벳 주가 전망, 1주만 사고 후회(feat. 배당금, 역투자, 인공지능)   \n",
       "2          인공지능 삼성 노트북 갤럭시북4 엣지 가벼운 14인치 노트북 스펙 가격   \n",
       "3                 [인공지능 개발자] 석사가 아닌 고졸도 취업이 가능한 루트   \n",
       "4       인공지능 VS 인간, 주식투자 대결 승자는? 로보어드바이저 투자 수익률 공개   \n",
       "..                                             ...   \n",
       "385           마이크로소프트 코파일럿 인공지능의 플러그인 기능 꼭 사용해 보세요   \n",
       "386              인공지능 4대천왕 AI 석학 중 한 명인 앤드류 응 강연영상   \n",
       "387              #위레이저, 인공지능 기반 국제 물류 자동화로 혁신을 이끌다   \n",
       "388         카카오톡 AI 요약 기능 및 카톡 인공지능 대화 말투 변경하기 사용법   \n",
       "389                  인공지능상담, 학업스트레스 털어놓을 곳이 없으신가요?   \n",
       "\n",
       "                                                  text         date  \n",
       "0    엔비디아 주가 전망 시가총액 버블일까 실적 인공지능 가속기 인공지능 AI열풍의 최전...        7시간 전  \n",
       "1    배당금, 역투자, 인공지능) 투자를 하면 항상 후회를 하게되죠. 그때 샀어야해, 팔...         2주 전  \n",
       "2    오늘은 인공지능 더해진 14인치 노트북 갤럭시북4 엣지 가격 스펙을 간단히 소개해 ...         2일 전  \n",
       "3    인공지능 개발자 석사가 아닌 고졸도 취업이 가능한 루트 현재, IT 산업에서 가장 ...         3주 전  \n",
       "4    인간과 인공지능(AI) 중 누가 더 투자를 잘할까요? AI는 빅데이터 분석, 머신러...  2024.05.10.  \n",
       "..                                                 ...          ...  \n",
       "385  제가 인공지능 관련 포스팅을 자주 하고 있는데요, 전문가 입장에서의 인공지능이 아니...  2024.05.07.  \n",
       "386  인공지능의 미래 범용 기술, 응용, 지속 가능성 인공지능(AI)은 컴퓨터 과학의 한...         3주 전  \n",
       "387  #위레이저, 인공지능 기반 국제 물류 자동화로 혁신을 이끌다 #국제물류 및 수입/수...  2024.04.12.  \n",
       "388  가장 최근 카카오톡에 AI 요약 기능과 인공지능 대화가 업데이트되었습니다. 단톡방에...  2024.01.12.  \n",
       "389  학업 스트레스는 학생들의 건강과 성장에 부정적인 영향을 미칠 수 있으므로 인공지능상...         2주 전  \n",
       "\n",
       "[390 rows x 3 columns]"
      ]
     },
     "execution_count": 31,
     "metadata": {},
     "output_type": "execute_result"
    }
   ],
   "source": [
    "#저장된 게시물 리스트를 데이터프레임으로 변환후 csv로 저장\n",
    "df = pd.DataFrame(result)\n",
    "df"
   ]
  },
  {
   "cell_type": "code",
   "execution_count": 32,
   "id": "38fe53d7-496b-4345-8272-a84fd50a47bc",
   "metadata": {
    "tags": []
   },
   "outputs": [],
   "source": [
    "#데이터 프레임 저장\n",
    "# csv는 sep 쉼표가 반드시 있어야 한글이 안깨짐\n",
    "df.to_csv(f'output/naver_{fname}.csv', sep=',', encoding='utf-8-sig')"
   ]
  },
  {
   "cell_type": "markdown",
   "id": "72f71c25-5cc9-4ae9-9523-74cb5826fc40",
   "metadata": {},
   "source": [
    "## 예제) 구글 플레이 스토어 리뷰"
   ]
  },
  {
   "cell_type": "code",
   "execution_count": 33,
   "id": "194555b0-b282-4397-bd66-29269de2fc8b",
   "metadata": {
    "tags": []
   },
   "outputs": [],
   "source": [
    "from selenium import webdriver\n",
    "from selenium.webdriver.common.by import By\n",
    "from selenium.webdriver.chrome.options import Options\n",
    "import time, random, pandas as pd\n",
    "\n",
    "options = Options()\n",
    "options.add_argument('--window-size=974,1047')\n",
    "options.add_argument('--window-position=-7,0')\n",
    "options.add_experimental_option(\"detach\", True)\n",
    "\n",
    "driver = webdriver.Chrome( options = options)\n",
    "url = 'https://play.google.com/store/apps/details?id=com.estsoft.picnic'\n",
    "driver.get(url)\n",
    "time.sleep(random.randint(2,3))"
   ]
  },
  {
   "cell_type": "markdown",
   "id": "4b0edf69-3c25-4b98-9e8f-35b7a4dd405c",
   "metadata": {},
   "source": [
    "### quiz : 리뷰 더보기 클릭"
   ]
  },
  {
   "cell_type": "code",
   "execution_count": 36,
   "id": "73cad8e0-61dc-4589-a09d-94ffca76637b",
   "metadata": {
    "tags": []
   },
   "outputs": [],
   "source": [
    "xpath = '//*[@id=\"yDmH0d\"]/c-wiz[2]/div/div/div[1]/div/div[2]/div/div[1]/div[1]/c-wiz[4]/section/div/div[2]/div[5]/div/div/button/span'\n",
    "driver.find_element(By.XPATH, xpath).click()\n",
    "time.sleep(random.randint(2, 3))"
   ]
  },
  {
   "cell_type": "code",
   "execution_count": 38,
   "id": "410d7068-d09f-4293-ac7c-f8e7913f9155",
   "metadata": {
    "tags": []
   },
   "outputs": [],
   "source": [
    "# 미리 스크롤해서 html정보 받아오기\n",
    "for i in range(10):\n",
    "    review_box = driver.find_element(By.CSS_SELECTOR, 'div.fysCi')\n",
    "    driver.execute_script('arguments[0].scrollTop = arguments[0].scrollHeight', review_box )\n",
    "    time.sleep(random.randint(2, 3))"
   ]
  },
  {
   "cell_type": "markdown",
   "id": "1b255f35-46e0-47e0-a006-3cdbdac40549",
   "metadata": {},
   "source": [
    "## quiz : 리뷰내용, 별점, 날짜를 포함한 객체 찾기"
   ]
  },
  {
   "cell_type": "code",
   "execution_count": 39,
   "id": "87678bf4-3771-4f53-ab97-bce0d73e0666",
   "metadata": {
    "collapsed": true,
    "jupyter": {
     "outputs_hidden": true
    },
    "tags": []
   },
   "outputs": [
    {
     "data": {
      "text/plain": [
       "[<selenium.webdriver.remote.webelement.WebElement (session=\"dd31842e09666be5b7926ce51095045f\", element=\"f.E664CF9590646309800FBB49D9B6C471.d.2C601A14A101395D23CF5F88F2C7EA09.e.6672\")>,\n",
       " <selenium.webdriver.remote.webelement.WebElement (session=\"dd31842e09666be5b7926ce51095045f\", element=\"f.E664CF9590646309800FBB49D9B6C471.d.2C601A14A101395D23CF5F88F2C7EA09.e.6747\")>,\n",
       " <selenium.webdriver.remote.webelement.WebElement (session=\"dd31842e09666be5b7926ce51095045f\", element=\"f.E664CF9590646309800FBB49D9B6C471.d.2C601A14A101395D23CF5F88F2C7EA09.e.6822\")>,\n",
       " <selenium.webdriver.remote.webelement.WebElement (session=\"dd31842e09666be5b7926ce51095045f\", element=\"f.E664CF9590646309800FBB49D9B6C471.d.2C601A14A101395D23CF5F88F2C7EA09.e.6899\")>,\n",
       " <selenium.webdriver.remote.webelement.WebElement (session=\"dd31842e09666be5b7926ce51095045f\", element=\"f.E664CF9590646309800FBB49D9B6C471.d.2C601A14A101395D23CF5F88F2C7EA09.e.6976\")>,\n",
       " <selenium.webdriver.remote.webelement.WebElement (session=\"dd31842e09666be5b7926ce51095045f\", element=\"f.E664CF9590646309800FBB49D9B6C471.d.2C601A14A101395D23CF5F88F2C7EA09.e.7053\")>,\n",
       " <selenium.webdriver.remote.webelement.WebElement (session=\"dd31842e09666be5b7926ce51095045f\", element=\"f.E664CF9590646309800FBB49D9B6C471.d.2C601A14A101395D23CF5F88F2C7EA09.e.7134\")>,\n",
       " <selenium.webdriver.remote.webelement.WebElement (session=\"dd31842e09666be5b7926ce51095045f\", element=\"f.E664CF9590646309800FBB49D9B6C471.d.2C601A14A101395D23CF5F88F2C7EA09.e.7211\")>,\n",
       " <selenium.webdriver.remote.webelement.WebElement (session=\"dd31842e09666be5b7926ce51095045f\", element=\"f.E664CF9590646309800FBB49D9B6C471.d.2C601A14A101395D23CF5F88F2C7EA09.e.7288\")>,\n",
       " <selenium.webdriver.remote.webelement.WebElement (session=\"dd31842e09666be5b7926ce51095045f\", element=\"f.E664CF9590646309800FBB49D9B6C471.d.2C601A14A101395D23CF5F88F2C7EA09.e.7368\")>,\n",
       " <selenium.webdriver.remote.webelement.WebElement (session=\"dd31842e09666be5b7926ce51095045f\", element=\"f.E664CF9590646309800FBB49D9B6C471.d.2C601A14A101395D23CF5F88F2C7EA09.e.7445\")>,\n",
       " <selenium.webdriver.remote.webelement.WebElement (session=\"dd31842e09666be5b7926ce51095045f\", element=\"f.E664CF9590646309800FBB49D9B6C471.d.2C601A14A101395D23CF5F88F2C7EA09.e.7516\")>,\n",
       " <selenium.webdriver.remote.webelement.WebElement (session=\"dd31842e09666be5b7926ce51095045f\", element=\"f.E664CF9590646309800FBB49D9B6C471.d.2C601A14A101395D23CF5F88F2C7EA09.e.7593\")>,\n",
       " <selenium.webdriver.remote.webelement.WebElement (session=\"dd31842e09666be5b7926ce51095045f\", element=\"f.E664CF9590646309800FBB49D9B6C471.d.2C601A14A101395D23CF5F88F2C7EA09.e.7670\")>,\n",
       " <selenium.webdriver.remote.webelement.WebElement (session=\"dd31842e09666be5b7926ce51095045f\", element=\"f.E664CF9590646309800FBB49D9B6C471.d.2C601A14A101395D23CF5F88F2C7EA09.e.7741\")>,\n",
       " <selenium.webdriver.remote.webelement.WebElement (session=\"dd31842e09666be5b7926ce51095045f\", element=\"f.E664CF9590646309800FBB49D9B6C471.d.2C601A14A101395D23CF5F88F2C7EA09.e.7818\")>,\n",
       " <selenium.webdriver.remote.webelement.WebElement (session=\"dd31842e09666be5b7926ce51095045f\", element=\"f.E664CF9590646309800FBB49D9B6C471.d.2C601A14A101395D23CF5F88F2C7EA09.e.7889\")>,\n",
       " <selenium.webdriver.remote.webelement.WebElement (session=\"dd31842e09666be5b7926ce51095045f\", element=\"f.E664CF9590646309800FBB49D9B6C471.d.2C601A14A101395D23CF5F88F2C7EA09.e.7966\")>,\n",
       " <selenium.webdriver.remote.webelement.WebElement (session=\"dd31842e09666be5b7926ce51095045f\", element=\"f.E664CF9590646309800FBB49D9B6C471.d.2C601A14A101395D23CF5F88F2C7EA09.e.8043\")>,\n",
       " <selenium.webdriver.remote.webelement.WebElement (session=\"dd31842e09666be5b7926ce51095045f\", element=\"f.E664CF9590646309800FBB49D9B6C471.d.2C601A14A101395D23CF5F88F2C7EA09.e.8123\")>,\n",
       " <selenium.webdriver.remote.webelement.WebElement (session=\"dd31842e09666be5b7926ce51095045f\", element=\"f.E664CF9590646309800FBB49D9B6C471.d.2C601A14A101395D23CF5F88F2C7EA09.e.10419\")>,\n",
       " <selenium.webdriver.remote.webelement.WebElement (session=\"dd31842e09666be5b7926ce51095045f\", element=\"f.E664CF9590646309800FBB49D9B6C471.d.2C601A14A101395D23CF5F88F2C7EA09.e.10336\")>,\n",
       " <selenium.webdriver.remote.webelement.WebElement (session=\"dd31842e09666be5b7926ce51095045f\", element=\"f.E664CF9590646309800FBB49D9B6C471.d.2C601A14A101395D23CF5F88F2C7EA09.e.10249\")>,\n",
       " <selenium.webdriver.remote.webelement.WebElement (session=\"dd31842e09666be5b7926ce51095045f\", element=\"f.E664CF9590646309800FBB49D9B6C471.d.2C601A14A101395D23CF5F88F2C7EA09.e.10175\")>,\n",
       " <selenium.webdriver.remote.webelement.WebElement (session=\"dd31842e09666be5b7926ce51095045f\", element=\"f.E664CF9590646309800FBB49D9B6C471.d.2C601A14A101395D23CF5F88F2C7EA09.e.10088\")>,\n",
       " <selenium.webdriver.remote.webelement.WebElement (session=\"dd31842e09666be5b7926ce51095045f\", element=\"f.E664CF9590646309800FBB49D9B6C471.d.2C601A14A101395D23CF5F88F2C7EA09.e.10010\")>,\n",
       " <selenium.webdriver.remote.webelement.WebElement (session=\"dd31842e09666be5b7926ce51095045f\", element=\"f.E664CF9590646309800FBB49D9B6C471.d.2C601A14A101395D23CF5F88F2C7EA09.e.9932\")>,\n",
       " <selenium.webdriver.remote.webelement.WebElement (session=\"dd31842e09666be5b7926ce51095045f\", element=\"f.E664CF9590646309800FBB49D9B6C471.d.2C601A14A101395D23CF5F88F2C7EA09.e.9845\")>,\n",
       " <selenium.webdriver.remote.webelement.WebElement (session=\"dd31842e09666be5b7926ce51095045f\", element=\"f.E664CF9590646309800FBB49D9B6C471.d.2C601A14A101395D23CF5F88F2C7EA09.e.9760\")>,\n",
       " <selenium.webdriver.remote.webelement.WebElement (session=\"dd31842e09666be5b7926ce51095045f\", element=\"f.E664CF9590646309800FBB49D9B6C471.d.2C601A14A101395D23CF5F88F2C7EA09.e.9677\")>,\n",
       " <selenium.webdriver.remote.webelement.WebElement (session=\"dd31842e09666be5b7926ce51095045f\", element=\"f.E664CF9590646309800FBB49D9B6C471.d.2C601A14A101395D23CF5F88F2C7EA09.e.9592\")>,\n",
       " <selenium.webdriver.remote.webelement.WebElement (session=\"dd31842e09666be5b7926ce51095045f\", element=\"f.E664CF9590646309800FBB49D9B6C471.d.2C601A14A101395D23CF5F88F2C7EA09.e.9505\")>,\n",
       " <selenium.webdriver.remote.webelement.WebElement (session=\"dd31842e09666be5b7926ce51095045f\", element=\"f.E664CF9590646309800FBB49D9B6C471.d.2C601A14A101395D23CF5F88F2C7EA09.e.9422\")>,\n",
       " <selenium.webdriver.remote.webelement.WebElement (session=\"dd31842e09666be5b7926ce51095045f\", element=\"f.E664CF9590646309800FBB49D9B6C471.d.2C601A14A101395D23CF5F88F2C7EA09.e.9339\")>,\n",
       " <selenium.webdriver.remote.webelement.WebElement (session=\"dd31842e09666be5b7926ce51095045f\", element=\"f.E664CF9590646309800FBB49D9B6C471.d.2C601A14A101395D23CF5F88F2C7EA09.e.9256\")>,\n",
       " <selenium.webdriver.remote.webelement.WebElement (session=\"dd31842e09666be5b7926ce51095045f\", element=\"f.E664CF9590646309800FBB49D9B6C471.d.2C601A14A101395D23CF5F88F2C7EA09.e.9178\")>,\n",
       " <selenium.webdriver.remote.webelement.WebElement (session=\"dd31842e09666be5b7926ce51095045f\", element=\"f.E664CF9590646309800FBB49D9B6C471.d.2C601A14A101395D23CF5F88F2C7EA09.e.9093\")>,\n",
       " <selenium.webdriver.remote.webelement.WebElement (session=\"dd31842e09666be5b7926ce51095045f\", element=\"f.E664CF9590646309800FBB49D9B6C471.d.2C601A14A101395D23CF5F88F2C7EA09.e.9006\")>,\n",
       " <selenium.webdriver.remote.webelement.WebElement (session=\"dd31842e09666be5b7926ce51095045f\", element=\"f.E664CF9590646309800FBB49D9B6C471.d.2C601A14A101395D23CF5F88F2C7EA09.e.8923\")>,\n",
       " <selenium.webdriver.remote.webelement.WebElement (session=\"dd31842e09666be5b7926ce51095045f\", element=\"f.E664CF9590646309800FBB49D9B6C471.d.2C601A14A101395D23CF5F88F2C7EA09.e.8849\")>,\n",
       " <selenium.webdriver.remote.webelement.WebElement (session=\"dd31842e09666be5b7926ce51095045f\", element=\"f.E664CF9590646309800FBB49D9B6C471.d.2C601A14A101395D23CF5F88F2C7EA09.e.12325\")>,\n",
       " <selenium.webdriver.remote.webelement.WebElement (session=\"dd31842e09666be5b7926ce51095045f\", element=\"f.E664CF9590646309800FBB49D9B6C471.d.2C601A14A101395D23CF5F88F2C7EA09.e.12242\")>,\n",
       " <selenium.webdriver.remote.webelement.WebElement (session=\"dd31842e09666be5b7926ce51095045f\", element=\"f.E664CF9590646309800FBB49D9B6C471.d.2C601A14A101395D23CF5F88F2C7EA09.e.12159\")>,\n",
       " <selenium.webdriver.remote.webelement.WebElement (session=\"dd31842e09666be5b7926ce51095045f\", element=\"f.E664CF9590646309800FBB49D9B6C471.d.2C601A14A101395D23CF5F88F2C7EA09.e.12081\")>,\n",
       " <selenium.webdriver.remote.webelement.WebElement (session=\"dd31842e09666be5b7926ce51095045f\", element=\"f.E664CF9590646309800FBB49D9B6C471.d.2C601A14A101395D23CF5F88F2C7EA09.e.11998\")>,\n",
       " <selenium.webdriver.remote.webelement.WebElement (session=\"dd31842e09666be5b7926ce51095045f\", element=\"f.E664CF9590646309800FBB49D9B6C471.d.2C601A14A101395D23CF5F88F2C7EA09.e.11920\")>,\n",
       " <selenium.webdriver.remote.webelement.WebElement (session=\"dd31842e09666be5b7926ce51095045f\", element=\"f.E664CF9590646309800FBB49D9B6C471.d.2C601A14A101395D23CF5F88F2C7EA09.e.11833\")>,\n",
       " <selenium.webdriver.remote.webelement.WebElement (session=\"dd31842e09666be5b7926ce51095045f\", element=\"f.E664CF9590646309800FBB49D9B6C471.d.2C601A14A101395D23CF5F88F2C7EA09.e.11746\")>,\n",
       " <selenium.webdriver.remote.webelement.WebElement (session=\"dd31842e09666be5b7926ce51095045f\", element=\"f.E664CF9590646309800FBB49D9B6C471.d.2C601A14A101395D23CF5F88F2C7EA09.e.11668\")>,\n",
       " <selenium.webdriver.remote.webelement.WebElement (session=\"dd31842e09666be5b7926ce51095045f\", element=\"f.E664CF9590646309800FBB49D9B6C471.d.2C601A14A101395D23CF5F88F2C7EA09.e.11581\")>,\n",
       " <selenium.webdriver.remote.webelement.WebElement (session=\"dd31842e09666be5b7926ce51095045f\", element=\"f.E664CF9590646309800FBB49D9B6C471.d.2C601A14A101395D23CF5F88F2C7EA09.e.11494\")>,\n",
       " <selenium.webdriver.remote.webelement.WebElement (session=\"dd31842e09666be5b7926ce51095045f\", element=\"f.E664CF9590646309800FBB49D9B6C471.d.2C601A14A101395D23CF5F88F2C7EA09.e.11407\")>,\n",
       " <selenium.webdriver.remote.webelement.WebElement (session=\"dd31842e09666be5b7926ce51095045f\", element=\"f.E664CF9590646309800FBB49D9B6C471.d.2C601A14A101395D23CF5F88F2C7EA09.e.11322\")>,\n",
       " <selenium.webdriver.remote.webelement.WebElement (session=\"dd31842e09666be5b7926ce51095045f\", element=\"f.E664CF9590646309800FBB49D9B6C471.d.2C601A14A101395D23CF5F88F2C7EA09.e.11244\")>,\n",
       " <selenium.webdriver.remote.webelement.WebElement (session=\"dd31842e09666be5b7926ce51095045f\", element=\"f.E664CF9590646309800FBB49D9B6C471.d.2C601A14A101395D23CF5F88F2C7EA09.e.11166\")>,\n",
       " <selenium.webdriver.remote.webelement.WebElement (session=\"dd31842e09666be5b7926ce51095045f\", element=\"f.E664CF9590646309800FBB49D9B6C471.d.2C601A14A101395D23CF5F88F2C7EA09.e.11079\")>,\n",
       " <selenium.webdriver.remote.webelement.WebElement (session=\"dd31842e09666be5b7926ce51095045f\", element=\"f.E664CF9590646309800FBB49D9B6C471.d.2C601A14A101395D23CF5F88F2C7EA09.e.11003\")>,\n",
       " <selenium.webdriver.remote.webelement.WebElement (session=\"dd31842e09666be5b7926ce51095045f\", element=\"f.E664CF9590646309800FBB49D9B6C471.d.2C601A14A101395D23CF5F88F2C7EA09.e.10929\")>,\n",
       " <selenium.webdriver.remote.webelement.WebElement (session=\"dd31842e09666be5b7926ce51095045f\", element=\"f.E664CF9590646309800FBB49D9B6C471.d.2C601A14A101395D23CF5F88F2C7EA09.e.10853\")>,\n",
       " <selenium.webdriver.remote.webelement.WebElement (session=\"dd31842e09666be5b7926ce51095045f\", element=\"f.E664CF9590646309800FBB49D9B6C471.d.2C601A14A101395D23CF5F88F2C7EA09.e.10766\")>,\n",
       " <selenium.webdriver.remote.webelement.WebElement (session=\"dd31842e09666be5b7926ce51095045f\", element=\"f.E664CF9590646309800FBB49D9B6C471.d.2C601A14A101395D23CF5F88F2C7EA09.e.14198\")>,\n",
       " <selenium.webdriver.remote.webelement.WebElement (session=\"dd31842e09666be5b7926ce51095045f\", element=\"f.E664CF9590646309800FBB49D9B6C471.d.2C601A14A101395D23CF5F88F2C7EA09.e.14111\")>,\n",
       " <selenium.webdriver.remote.webelement.WebElement (session=\"dd31842e09666be5b7926ce51095045f\", element=\"f.E664CF9590646309800FBB49D9B6C471.d.2C601A14A101395D23CF5F88F2C7EA09.e.14024\")>,\n",
       " <selenium.webdriver.remote.webelement.WebElement (session=\"dd31842e09666be5b7926ce51095045f\", element=\"f.E664CF9590646309800FBB49D9B6C471.d.2C601A14A101395D23CF5F88F2C7EA09.e.13950\")>,\n",
       " <selenium.webdriver.remote.webelement.WebElement (session=\"dd31842e09666be5b7926ce51095045f\", element=\"f.E664CF9590646309800FBB49D9B6C471.d.2C601A14A101395D23CF5F88F2C7EA09.e.13863\")>,\n",
       " <selenium.webdriver.remote.webelement.WebElement (session=\"dd31842e09666be5b7926ce51095045f\", element=\"f.E664CF9590646309800FBB49D9B6C471.d.2C601A14A101395D23CF5F88F2C7EA09.e.13776\")>,\n",
       " <selenium.webdriver.remote.webelement.WebElement (session=\"dd31842e09666be5b7926ce51095045f\", element=\"f.E664CF9590646309800FBB49D9B6C471.d.2C601A14A101395D23CF5F88F2C7EA09.e.13689\")>,\n",
       " <selenium.webdriver.remote.webelement.WebElement (session=\"dd31842e09666be5b7926ce51095045f\", element=\"f.E664CF9590646309800FBB49D9B6C471.d.2C601A14A101395D23CF5F88F2C7EA09.e.13602\")>,\n",
       " <selenium.webdriver.remote.webelement.WebElement (session=\"dd31842e09666be5b7926ce51095045f\", element=\"f.E664CF9590646309800FBB49D9B6C471.d.2C601A14A101395D23CF5F88F2C7EA09.e.13524\")>,\n",
       " <selenium.webdriver.remote.webelement.WebElement (session=\"dd31842e09666be5b7926ce51095045f\", element=\"f.E664CF9590646309800FBB49D9B6C471.d.2C601A14A101395D23CF5F88F2C7EA09.e.13450\")>,\n",
       " <selenium.webdriver.remote.webelement.WebElement (session=\"dd31842e09666be5b7926ce51095045f\", element=\"f.E664CF9590646309800FBB49D9B6C471.d.2C601A14A101395D23CF5F88F2C7EA09.e.13363\")>,\n",
       " <selenium.webdriver.remote.webelement.WebElement (session=\"dd31842e09666be5b7926ce51095045f\", element=\"f.E664CF9590646309800FBB49D9B6C471.d.2C601A14A101395D23CF5F88F2C7EA09.e.13285\")>,\n",
       " <selenium.webdriver.remote.webelement.WebElement (session=\"dd31842e09666be5b7926ce51095045f\", element=\"f.E664CF9590646309800FBB49D9B6C471.d.2C601A14A101395D23CF5F88F2C7EA09.e.13207\")>,\n",
       " <selenium.webdriver.remote.webelement.WebElement (session=\"dd31842e09666be5b7926ce51095045f\", element=\"f.E664CF9590646309800FBB49D9B6C471.d.2C601A14A101395D23CF5F88F2C7EA09.e.13129\")>,\n",
       " <selenium.webdriver.remote.webelement.WebElement (session=\"dd31842e09666be5b7926ce51095045f\", element=\"f.E664CF9590646309800FBB49D9B6C471.d.2C601A14A101395D23CF5F88F2C7EA09.e.13046\")>,\n",
       " <selenium.webdriver.remote.webelement.WebElement (session=\"dd31842e09666be5b7926ce51095045f\", element=\"f.E664CF9590646309800FBB49D9B6C471.d.2C601A14A101395D23CF5F88F2C7EA09.e.12959\")>,\n",
       " <selenium.webdriver.remote.webelement.WebElement (session=\"dd31842e09666be5b7926ce51095045f\", element=\"f.E664CF9590646309800FBB49D9B6C471.d.2C601A14A101395D23CF5F88F2C7EA09.e.12881\")>,\n",
       " <selenium.webdriver.remote.webelement.WebElement (session=\"dd31842e09666be5b7926ce51095045f\", element=\"f.E664CF9590646309800FBB49D9B6C471.d.2C601A14A101395D23CF5F88F2C7EA09.e.12807\")>,\n",
       " <selenium.webdriver.remote.webelement.WebElement (session=\"dd31842e09666be5b7926ce51095045f\", element=\"f.E664CF9590646309800FBB49D9B6C471.d.2C601A14A101395D23CF5F88F2C7EA09.e.12720\")>,\n",
       " <selenium.webdriver.remote.webelement.WebElement (session=\"dd31842e09666be5b7926ce51095045f\", element=\"f.E664CF9590646309800FBB49D9B6C471.d.2C601A14A101395D23CF5F88F2C7EA09.e.12633\")>,\n",
       " <selenium.webdriver.remote.webelement.WebElement (session=\"dd31842e09666be5b7926ce51095045f\", element=\"f.E664CF9590646309800FBB49D9B6C471.d.2C601A14A101395D23CF5F88F2C7EA09.e.16085\")>,\n",
       " <selenium.webdriver.remote.webelement.WebElement (session=\"dd31842e09666be5b7926ce51095045f\", element=\"f.E664CF9590646309800FBB49D9B6C471.d.2C601A14A101395D23CF5F88F2C7EA09.e.16000\")>,\n",
       " <selenium.webdriver.remote.webelement.WebElement (session=\"dd31842e09666be5b7926ce51095045f\", element=\"f.E664CF9590646309800FBB49D9B6C471.d.2C601A14A101395D23CF5F88F2C7EA09.e.15915\")>,\n",
       " <selenium.webdriver.remote.webelement.WebElement (session=\"dd31842e09666be5b7926ce51095045f\", element=\"f.E664CF9590646309800FBB49D9B6C471.d.2C601A14A101395D23CF5F88F2C7EA09.e.15828\")>,\n",
       " <selenium.webdriver.remote.webelement.WebElement (session=\"dd31842e09666be5b7926ce51095045f\", element=\"f.E664CF9590646309800FBB49D9B6C471.d.2C601A14A101395D23CF5F88F2C7EA09.e.15745\")>,\n",
       " <selenium.webdriver.remote.webelement.WebElement (session=\"dd31842e09666be5b7926ce51095045f\", element=\"f.E664CF9590646309800FBB49D9B6C471.d.2C601A14A101395D23CF5F88F2C7EA09.e.15667\")>,\n",
       " <selenium.webdriver.remote.webelement.WebElement (session=\"dd31842e09666be5b7926ce51095045f\", element=\"f.E664CF9590646309800FBB49D9B6C471.d.2C601A14A101395D23CF5F88F2C7EA09.e.15589\")>,\n",
       " <selenium.webdriver.remote.webelement.WebElement (session=\"dd31842e09666be5b7926ce51095045f\", element=\"f.E664CF9590646309800FBB49D9B6C471.d.2C601A14A101395D23CF5F88F2C7EA09.e.15511\")>,\n",
       " <selenium.webdriver.remote.webelement.WebElement (session=\"dd31842e09666be5b7926ce51095045f\", element=\"f.E664CF9590646309800FBB49D9B6C471.d.2C601A14A101395D23CF5F88F2C7EA09.e.15426\")>,\n",
       " <selenium.webdriver.remote.webelement.WebElement (session=\"dd31842e09666be5b7926ce51095045f\", element=\"f.E664CF9590646309800FBB49D9B6C471.d.2C601A14A101395D23CF5F88F2C7EA09.e.15339\")>,\n",
       " <selenium.webdriver.remote.webelement.WebElement (session=\"dd31842e09666be5b7926ce51095045f\", element=\"f.E664CF9590646309800FBB49D9B6C471.d.2C601A14A101395D23CF5F88F2C7EA09.e.15261\")>,\n",
       " <selenium.webdriver.remote.webelement.WebElement (session=\"dd31842e09666be5b7926ce51095045f\", element=\"f.E664CF9590646309800FBB49D9B6C471.d.2C601A14A101395D23CF5F88F2C7EA09.e.15178\")>,\n",
       " <selenium.webdriver.remote.webelement.WebElement (session=\"dd31842e09666be5b7926ce51095045f\", element=\"f.E664CF9590646309800FBB49D9B6C471.d.2C601A14A101395D23CF5F88F2C7EA09.e.15104\")>,\n",
       " <selenium.webdriver.remote.webelement.WebElement (session=\"dd31842e09666be5b7926ce51095045f\", element=\"f.E664CF9590646309800FBB49D9B6C471.d.2C601A14A101395D23CF5F88F2C7EA09.e.15017\")>,\n",
       " <selenium.webdriver.remote.webelement.WebElement (session=\"dd31842e09666be5b7926ce51095045f\", element=\"f.E664CF9590646309800FBB49D9B6C471.d.2C601A14A101395D23CF5F88F2C7EA09.e.14934\")>,\n",
       " <selenium.webdriver.remote.webelement.WebElement (session=\"dd31842e09666be5b7926ce51095045f\", element=\"f.E664CF9590646309800FBB49D9B6C471.d.2C601A14A101395D23CF5F88F2C7EA09.e.14860\")>,\n",
       " <selenium.webdriver.remote.webelement.WebElement (session=\"dd31842e09666be5b7926ce51095045f\", element=\"f.E664CF9590646309800FBB49D9B6C471.d.2C601A14A101395D23CF5F88F2C7EA09.e.14777\")>,\n",
       " <selenium.webdriver.remote.webelement.WebElement (session=\"dd31842e09666be5b7926ce51095045f\", element=\"f.E664CF9590646309800FBB49D9B6C471.d.2C601A14A101395D23CF5F88F2C7EA09.e.14703\")>,\n",
       " <selenium.webdriver.remote.webelement.WebElement (session=\"dd31842e09666be5b7926ce51095045f\", element=\"f.E664CF9590646309800FBB49D9B6C471.d.2C601A14A101395D23CF5F88F2C7EA09.e.14620\")>,\n",
       " <selenium.webdriver.remote.webelement.WebElement (session=\"dd31842e09666be5b7926ce51095045f\", element=\"f.E664CF9590646309800FBB49D9B6C471.d.2C601A14A101395D23CF5F88F2C7EA09.e.14537\")>,\n",
       " <selenium.webdriver.remote.webelement.WebElement (session=\"dd31842e09666be5b7926ce51095045f\", element=\"f.E664CF9590646309800FBB49D9B6C471.d.2C601A14A101395D23CF5F88F2C7EA09.e.17942\")>,\n",
       " <selenium.webdriver.remote.webelement.WebElement (session=\"dd31842e09666be5b7926ce51095045f\", element=\"f.E664CF9590646309800FBB49D9B6C471.d.2C601A14A101395D23CF5F88F2C7EA09.e.17855\")>,\n",
       " <selenium.webdriver.remote.webelement.WebElement (session=\"dd31842e09666be5b7926ce51095045f\", element=\"f.E664CF9590646309800FBB49D9B6C471.d.2C601A14A101395D23CF5F88F2C7EA09.e.17779\")>,\n",
       " <selenium.webdriver.remote.webelement.WebElement (session=\"dd31842e09666be5b7926ce51095045f\", element=\"f.E664CF9590646309800FBB49D9B6C471.d.2C601A14A101395D23CF5F88F2C7EA09.e.17705\")>,\n",
       " <selenium.webdriver.remote.webelement.WebElement (session=\"dd31842e09666be5b7926ce51095045f\", element=\"f.E664CF9590646309800FBB49D9B6C471.d.2C601A14A101395D23CF5F88F2C7EA09.e.17618\")>,\n",
       " <selenium.webdriver.remote.webelement.WebElement (session=\"dd31842e09666be5b7926ce51095045f\", element=\"f.E664CF9590646309800FBB49D9B6C471.d.2C601A14A101395D23CF5F88F2C7EA09.e.17540\")>,\n",
       " <selenium.webdriver.remote.webelement.WebElement (session=\"dd31842e09666be5b7926ce51095045f\", element=\"f.E664CF9590646309800FBB49D9B6C471.d.2C601A14A101395D23CF5F88F2C7EA09.e.17462\")>,\n",
       " <selenium.webdriver.remote.webelement.WebElement (session=\"dd31842e09666be5b7926ce51095045f\", element=\"f.E664CF9590646309800FBB49D9B6C471.d.2C601A14A101395D23CF5F88F2C7EA09.e.17379\")>,\n",
       " <selenium.webdriver.remote.webelement.WebElement (session=\"dd31842e09666be5b7926ce51095045f\", element=\"f.E664CF9590646309800FBB49D9B6C471.d.2C601A14A101395D23CF5F88F2C7EA09.e.17292\")>,\n",
       " <selenium.webdriver.remote.webelement.WebElement (session=\"dd31842e09666be5b7926ce51095045f\", element=\"f.E664CF9590646309800FBB49D9B6C471.d.2C601A14A101395D23CF5F88F2C7EA09.e.17214\")>,\n",
       " <selenium.webdriver.remote.webelement.WebElement (session=\"dd31842e09666be5b7926ce51095045f\", element=\"f.E664CF9590646309800FBB49D9B6C471.d.2C601A14A101395D23CF5F88F2C7EA09.e.17136\")>,\n",
       " <selenium.webdriver.remote.webelement.WebElement (session=\"dd31842e09666be5b7926ce51095045f\", element=\"f.E664CF9590646309800FBB49D9B6C471.d.2C601A14A101395D23CF5F88F2C7EA09.e.17062\")>,\n",
       " <selenium.webdriver.remote.webelement.WebElement (session=\"dd31842e09666be5b7926ce51095045f\", element=\"f.E664CF9590646309800FBB49D9B6C471.d.2C601A14A101395D23CF5F88F2C7EA09.e.16979\")>,\n",
       " <selenium.webdriver.remote.webelement.WebElement (session=\"dd31842e09666be5b7926ce51095045f\", element=\"f.E664CF9590646309800FBB49D9B6C471.d.2C601A14A101395D23CF5F88F2C7EA09.e.16894\")>,\n",
       " <selenium.webdriver.remote.webelement.WebElement (session=\"dd31842e09666be5b7926ce51095045f\", element=\"f.E664CF9590646309800FBB49D9B6C471.d.2C601A14A101395D23CF5F88F2C7EA09.e.16807\")>,\n",
       " <selenium.webdriver.remote.webelement.WebElement (session=\"dd31842e09666be5b7926ce51095045f\", element=\"f.E664CF9590646309800FBB49D9B6C471.d.2C601A14A101395D23CF5F88F2C7EA09.e.16731\")>,\n",
       " <selenium.webdriver.remote.webelement.WebElement (session=\"dd31842e09666be5b7926ce51095045f\", element=\"f.E664CF9590646309800FBB49D9B6C471.d.2C601A14A101395D23CF5F88F2C7EA09.e.16657\")>,\n",
       " <selenium.webdriver.remote.webelement.WebElement (session=\"dd31842e09666be5b7926ce51095045f\", element=\"f.E664CF9590646309800FBB49D9B6C471.d.2C601A14A101395D23CF5F88F2C7EA09.e.16581\")>,\n",
       " <selenium.webdriver.remote.webelement.WebElement (session=\"dd31842e09666be5b7926ce51095045f\", element=\"f.E664CF9590646309800FBB49D9B6C471.d.2C601A14A101395D23CF5F88F2C7EA09.e.16507\")>,\n",
       " <selenium.webdriver.remote.webelement.WebElement (session=\"dd31842e09666be5b7926ce51095045f\", element=\"f.E664CF9590646309800FBB49D9B6C471.d.2C601A14A101395D23CF5F88F2C7EA09.e.16433\")>,\n",
       " <selenium.webdriver.remote.webelement.WebElement (session=\"dd31842e09666be5b7926ce51095045f\", element=\"f.E664CF9590646309800FBB49D9B6C471.d.2C601A14A101395D23CF5F88F2C7EA09.e.19744\")>,\n",
       " <selenium.webdriver.remote.webelement.WebElement (session=\"dd31842e09666be5b7926ce51095045f\", element=\"f.E664CF9590646309800FBB49D9B6C471.d.2C601A14A101395D23CF5F88F2C7EA09.e.19670\")>,\n",
       " <selenium.webdriver.remote.webelement.WebElement (session=\"dd31842e09666be5b7926ce51095045f\", element=\"f.E664CF9590646309800FBB49D9B6C471.d.2C601A14A101395D23CF5F88F2C7EA09.e.19587\")>,\n",
       " <selenium.webdriver.remote.webelement.WebElement (session=\"dd31842e09666be5b7926ce51095045f\", element=\"f.E664CF9590646309800FBB49D9B6C471.d.2C601A14A101395D23CF5F88F2C7EA09.e.19513\")>,\n",
       " <selenium.webdriver.remote.webelement.WebElement (session=\"dd31842e09666be5b7926ce51095045f\", element=\"f.E664CF9590646309800FBB49D9B6C471.d.2C601A14A101395D23CF5F88F2C7EA09.e.19430\")>,\n",
       " <selenium.webdriver.remote.webelement.WebElement (session=\"dd31842e09666be5b7926ce51095045f\", element=\"f.E664CF9590646309800FBB49D9B6C471.d.2C601A14A101395D23CF5F88F2C7EA09.e.19352\")>,\n",
       " <selenium.webdriver.remote.webelement.WebElement (session=\"dd31842e09666be5b7926ce51095045f\", element=\"f.E664CF9590646309800FBB49D9B6C471.d.2C601A14A101395D23CF5F88F2C7EA09.e.19267\")>,\n",
       " <selenium.webdriver.remote.webelement.WebElement (session=\"dd31842e09666be5b7926ce51095045f\", element=\"f.E664CF9590646309800FBB49D9B6C471.d.2C601A14A101395D23CF5F88F2C7EA09.e.19189\")>,\n",
       " <selenium.webdriver.remote.webelement.WebElement (session=\"dd31842e09666be5b7926ce51095045f\", element=\"f.E664CF9590646309800FBB49D9B6C471.d.2C601A14A101395D23CF5F88F2C7EA09.e.19113\")>,\n",
       " <selenium.webdriver.remote.webelement.WebElement (session=\"dd31842e09666be5b7926ce51095045f\", element=\"f.E664CF9590646309800FBB49D9B6C471.d.2C601A14A101395D23CF5F88F2C7EA09.e.19035\")>,\n",
       " <selenium.webdriver.remote.webelement.WebElement (session=\"dd31842e09666be5b7926ce51095045f\", element=\"f.E664CF9590646309800FBB49D9B6C471.d.2C601A14A101395D23CF5F88F2C7EA09.e.18961\")>,\n",
       " <selenium.webdriver.remote.webelement.WebElement (session=\"dd31842e09666be5b7926ce51095045f\", element=\"f.E664CF9590646309800FBB49D9B6C471.d.2C601A14A101395D23CF5F88F2C7EA09.e.18887\")>,\n",
       " <selenium.webdriver.remote.webelement.WebElement (session=\"dd31842e09666be5b7926ce51095045f\", element=\"f.E664CF9590646309800FBB49D9B6C471.d.2C601A14A101395D23CF5F88F2C7EA09.e.18811\")>,\n",
       " <selenium.webdriver.remote.webelement.WebElement (session=\"dd31842e09666be5b7926ce51095045f\", element=\"f.E664CF9590646309800FBB49D9B6C471.d.2C601A14A101395D23CF5F88F2C7EA09.e.18728\")>,\n",
       " <selenium.webdriver.remote.webelement.WebElement (session=\"dd31842e09666be5b7926ce51095045f\", element=\"f.E664CF9590646309800FBB49D9B6C471.d.2C601A14A101395D23CF5F88F2C7EA09.e.18654\")>,\n",
       " <selenium.webdriver.remote.webelement.WebElement (session=\"dd31842e09666be5b7926ce51095045f\", element=\"f.E664CF9590646309800FBB49D9B6C471.d.2C601A14A101395D23CF5F88F2C7EA09.e.18571\")>,\n",
       " <selenium.webdriver.remote.webelement.WebElement (session=\"dd31842e09666be5b7926ce51095045f\", element=\"f.E664CF9590646309800FBB49D9B6C471.d.2C601A14A101395D23CF5F88F2C7EA09.e.18488\")>,\n",
       " <selenium.webdriver.remote.webelement.WebElement (session=\"dd31842e09666be5b7926ce51095045f\", element=\"f.E664CF9590646309800FBB49D9B6C471.d.2C601A14A101395D23CF5F88F2C7EA09.e.18405\")>,\n",
       " <selenium.webdriver.remote.webelement.WebElement (session=\"dd31842e09666be5b7926ce51095045f\", element=\"f.E664CF9590646309800FBB49D9B6C471.d.2C601A14A101395D23CF5F88F2C7EA09.e.18331\")>,\n",
       " <selenium.webdriver.remote.webelement.WebElement (session=\"dd31842e09666be5b7926ce51095045f\", element=\"f.E664CF9590646309800FBB49D9B6C471.d.2C601A14A101395D23CF5F88F2C7EA09.e.18255\")>,\n",
       " <selenium.webdriver.remote.webelement.WebElement (session=\"dd31842e09666be5b7926ce51095045f\", element=\"f.E664CF9590646309800FBB49D9B6C471.d.2C601A14A101395D23CF5F88F2C7EA09.e.21645\")>,\n",
       " <selenium.webdriver.remote.webelement.WebElement (session=\"dd31842e09666be5b7926ce51095045f\", element=\"f.E664CF9590646309800FBB49D9B6C471.d.2C601A14A101395D23CF5F88F2C7EA09.e.21562\")>,\n",
       " <selenium.webdriver.remote.webelement.WebElement (session=\"dd31842e09666be5b7926ce51095045f\", element=\"f.E664CF9590646309800FBB49D9B6C471.d.2C601A14A101395D23CF5F88F2C7EA09.e.21488\")>,\n",
       " <selenium.webdriver.remote.webelement.WebElement (session=\"dd31842e09666be5b7926ce51095045f\", element=\"f.E664CF9590646309800FBB49D9B6C471.d.2C601A14A101395D23CF5F88F2C7EA09.e.21403\")>,\n",
       " <selenium.webdriver.remote.webelement.WebElement (session=\"dd31842e09666be5b7926ce51095045f\", element=\"f.E664CF9590646309800FBB49D9B6C471.d.2C601A14A101395D23CF5F88F2C7EA09.e.21327\")>,\n",
       " <selenium.webdriver.remote.webelement.WebElement (session=\"dd31842e09666be5b7926ce51095045f\", element=\"f.E664CF9590646309800FBB49D9B6C471.d.2C601A14A101395D23CF5F88F2C7EA09.e.21244\")>,\n",
       " <selenium.webdriver.remote.webelement.WebElement (session=\"dd31842e09666be5b7926ce51095045f\", element=\"f.E664CF9590646309800FBB49D9B6C471.d.2C601A14A101395D23CF5F88F2C7EA09.e.21159\")>,\n",
       " <selenium.webdriver.remote.webelement.WebElement (session=\"dd31842e09666be5b7926ce51095045f\", element=\"f.E664CF9590646309800FBB49D9B6C471.d.2C601A14A101395D23CF5F88F2C7EA09.e.21081\")>,\n",
       " <selenium.webdriver.remote.webelement.WebElement (session=\"dd31842e09666be5b7926ce51095045f\", element=\"f.E664CF9590646309800FBB49D9B6C471.d.2C601A14A101395D23CF5F88F2C7EA09.e.21003\")>,\n",
       " <selenium.webdriver.remote.webelement.WebElement (session=\"dd31842e09666be5b7926ce51095045f\", element=\"f.E664CF9590646309800FBB49D9B6C471.d.2C601A14A101395D23CF5F88F2C7EA09.e.20916\")>,\n",
       " <selenium.webdriver.remote.webelement.WebElement (session=\"dd31842e09666be5b7926ce51095045f\", element=\"f.E664CF9590646309800FBB49D9B6C471.d.2C601A14A101395D23CF5F88F2C7EA09.e.20833\")>,\n",
       " <selenium.webdriver.remote.webelement.WebElement (session=\"dd31842e09666be5b7926ce51095045f\", element=\"f.E664CF9590646309800FBB49D9B6C471.d.2C601A14A101395D23CF5F88F2C7EA09.e.20757\")>,\n",
       " <selenium.webdriver.remote.webelement.WebElement (session=\"dd31842e09666be5b7926ce51095045f\", element=\"f.E664CF9590646309800FBB49D9B6C471.d.2C601A14A101395D23CF5F88F2C7EA09.e.20679\")>,\n",
       " <selenium.webdriver.remote.webelement.WebElement (session=\"dd31842e09666be5b7926ce51095045f\", element=\"f.E664CF9590646309800FBB49D9B6C471.d.2C601A14A101395D23CF5F88F2C7EA09.e.20592\")>,\n",
       " <selenium.webdriver.remote.webelement.WebElement (session=\"dd31842e09666be5b7926ce51095045f\", element=\"f.E664CF9590646309800FBB49D9B6C471.d.2C601A14A101395D23CF5F88F2C7EA09.e.20509\")>,\n",
       " <selenium.webdriver.remote.webelement.WebElement (session=\"dd31842e09666be5b7926ce51095045f\", element=\"f.E664CF9590646309800FBB49D9B6C471.d.2C601A14A101395D23CF5F88F2C7EA09.e.20422\")>,\n",
       " <selenium.webdriver.remote.webelement.WebElement (session=\"dd31842e09666be5b7926ce51095045f\", element=\"f.E664CF9590646309800FBB49D9B6C471.d.2C601A14A101395D23CF5F88F2C7EA09.e.20339\")>,\n",
       " <selenium.webdriver.remote.webelement.WebElement (session=\"dd31842e09666be5b7926ce51095045f\", element=\"f.E664CF9590646309800FBB49D9B6C471.d.2C601A14A101395D23CF5F88F2C7EA09.e.20263\")>,\n",
       " <selenium.webdriver.remote.webelement.WebElement (session=\"dd31842e09666be5b7926ce51095045f\", element=\"f.E664CF9590646309800FBB49D9B6C471.d.2C601A14A101395D23CF5F88F2C7EA09.e.20180\")>,\n",
       " <selenium.webdriver.remote.webelement.WebElement (session=\"dd31842e09666be5b7926ce51095045f\", element=\"f.E664CF9590646309800FBB49D9B6C471.d.2C601A14A101395D23CF5F88F2C7EA09.e.20106\")>,\n",
       " <selenium.webdriver.remote.webelement.WebElement (session=\"dd31842e09666be5b7926ce51095045f\", element=\"f.E664CF9590646309800FBB49D9B6C471.d.2C601A14A101395D23CF5F88F2C7EA09.e.23472\")>,\n",
       " <selenium.webdriver.remote.webelement.WebElement (session=\"dd31842e09666be5b7926ce51095045f\", element=\"f.E664CF9590646309800FBB49D9B6C471.d.2C601A14A101395D23CF5F88F2C7EA09.e.23398\")>,\n",
       " <selenium.webdriver.remote.webelement.WebElement (session=\"dd31842e09666be5b7926ce51095045f\", element=\"f.E664CF9590646309800FBB49D9B6C471.d.2C601A14A101395D23CF5F88F2C7EA09.e.23315\")>,\n",
       " <selenium.webdriver.remote.webelement.WebElement (session=\"dd31842e09666be5b7926ce51095045f\", element=\"f.E664CF9590646309800FBB49D9B6C471.d.2C601A14A101395D23CF5F88F2C7EA09.e.23241\")>,\n",
       " <selenium.webdriver.remote.webelement.WebElement (session=\"dd31842e09666be5b7926ce51095045f\", element=\"f.E664CF9590646309800FBB49D9B6C471.d.2C601A14A101395D23CF5F88F2C7EA09.e.23165\")>,\n",
       " <selenium.webdriver.remote.webelement.WebElement (session=\"dd31842e09666be5b7926ce51095045f\", element=\"f.E664CF9590646309800FBB49D9B6C471.d.2C601A14A101395D23CF5F88F2C7EA09.e.23091\")>,\n",
       " <selenium.webdriver.remote.webelement.WebElement (session=\"dd31842e09666be5b7926ce51095045f\", element=\"f.E664CF9590646309800FBB49D9B6C471.d.2C601A14A101395D23CF5F88F2C7EA09.e.23008\")>,\n",
       " <selenium.webdriver.remote.webelement.WebElement (session=\"dd31842e09666be5b7926ce51095045f\", element=\"f.E664CF9590646309800FBB49D9B6C471.d.2C601A14A101395D23CF5F88F2C7EA09.e.22925\")>,\n",
       " <selenium.webdriver.remote.webelement.WebElement (session=\"dd31842e09666be5b7926ce51095045f\", element=\"f.E664CF9590646309800FBB49D9B6C471.d.2C601A14A101395D23CF5F88F2C7EA09.e.22851\")>,\n",
       " <selenium.webdriver.remote.webelement.WebElement (session=\"dd31842e09666be5b7926ce51095045f\", element=\"f.E664CF9590646309800FBB49D9B6C471.d.2C601A14A101395D23CF5F88F2C7EA09.e.22775\")>,\n",
       " <selenium.webdriver.remote.webelement.WebElement (session=\"dd31842e09666be5b7926ce51095045f\", element=\"f.E664CF9590646309800FBB49D9B6C471.d.2C601A14A101395D23CF5F88F2C7EA09.e.22692\")>,\n",
       " <selenium.webdriver.remote.webelement.WebElement (session=\"dd31842e09666be5b7926ce51095045f\", element=\"f.E664CF9590646309800FBB49D9B6C471.d.2C601A14A101395D23CF5F88F2C7EA09.e.22618\")>,\n",
       " <selenium.webdriver.remote.webelement.WebElement (session=\"dd31842e09666be5b7926ce51095045f\", element=\"f.E664CF9590646309800FBB49D9B6C471.d.2C601A14A101395D23CF5F88F2C7EA09.e.22544\")>,\n",
       " <selenium.webdriver.remote.webelement.WebElement (session=\"dd31842e09666be5b7926ce51095045f\", element=\"f.E664CF9590646309800FBB49D9B6C471.d.2C601A14A101395D23CF5F88F2C7EA09.e.22466\")>,\n",
       " <selenium.webdriver.remote.webelement.WebElement (session=\"dd31842e09666be5b7926ce51095045f\", element=\"f.E664CF9590646309800FBB49D9B6C471.d.2C601A14A101395D23CF5F88F2C7EA09.e.22383\")>,\n",
       " <selenium.webdriver.remote.webelement.WebElement (session=\"dd31842e09666be5b7926ce51095045f\", element=\"f.E664CF9590646309800FBB49D9B6C471.d.2C601A14A101395D23CF5F88F2C7EA09.e.22307\")>,\n",
       " <selenium.webdriver.remote.webelement.WebElement (session=\"dd31842e09666be5b7926ce51095045f\", element=\"f.E664CF9590646309800FBB49D9B6C471.d.2C601A14A101395D23CF5F88F2C7EA09.e.22231\")>,\n",
       " <selenium.webdriver.remote.webelement.WebElement (session=\"dd31842e09666be5b7926ce51095045f\", element=\"f.E664CF9590646309800FBB49D9B6C471.d.2C601A14A101395D23CF5F88F2C7EA09.e.22144\")>,\n",
       " <selenium.webdriver.remote.webelement.WebElement (session=\"dd31842e09666be5b7926ce51095045f\", element=\"f.E664CF9590646309800FBB49D9B6C471.d.2C601A14A101395D23CF5F88F2C7EA09.e.22070\")>,\n",
       " <selenium.webdriver.remote.webelement.WebElement (session=\"dd31842e09666be5b7926ce51095045f\", element=\"f.E664CF9590646309800FBB49D9B6C471.d.2C601A14A101395D23CF5F88F2C7EA09.e.21983\")>,\n",
       " <selenium.webdriver.remote.webelement.WebElement (session=\"dd31842e09666be5b7926ce51095045f\", element=\"f.E664CF9590646309800FBB49D9B6C471.d.2C601A14A101395D23CF5F88F2C7EA09.e.25389\")>,\n",
       " <selenium.webdriver.remote.webelement.WebElement (session=\"dd31842e09666be5b7926ce51095045f\", element=\"f.E664CF9590646309800FBB49D9B6C471.d.2C601A14A101395D23CF5F88F2C7EA09.e.25306\")>,\n",
       " <selenium.webdriver.remote.webelement.WebElement (session=\"dd31842e09666be5b7926ce51095045f\", element=\"f.E664CF9590646309800FBB49D9B6C471.d.2C601A14A101395D23CF5F88F2C7EA09.e.25223\")>,\n",
       " <selenium.webdriver.remote.webelement.WebElement (session=\"dd31842e09666be5b7926ce51095045f\", element=\"f.E664CF9590646309800FBB49D9B6C471.d.2C601A14A101395D23CF5F88F2C7EA09.e.25149\")>,\n",
       " <selenium.webdriver.remote.webelement.WebElement (session=\"dd31842e09666be5b7926ce51095045f\", element=\"f.E664CF9590646309800FBB49D9B6C471.d.2C601A14A101395D23CF5F88F2C7EA09.e.25071\")>,\n",
       " <selenium.webdriver.remote.webelement.WebElement (session=\"dd31842e09666be5b7926ce51095045f\", element=\"f.E664CF9590646309800FBB49D9B6C471.d.2C601A14A101395D23CF5F88F2C7EA09.e.24986\")>,\n",
       " <selenium.webdriver.remote.webelement.WebElement (session=\"dd31842e09666be5b7926ce51095045f\", element=\"f.E664CF9590646309800FBB49D9B6C471.d.2C601A14A101395D23CF5F88F2C7EA09.e.24899\")>,\n",
       " <selenium.webdriver.remote.webelement.WebElement (session=\"dd31842e09666be5b7926ce51095045f\", element=\"f.E664CF9590646309800FBB49D9B6C471.d.2C601A14A101395D23CF5F88F2C7EA09.e.24816\")>,\n",
       " <selenium.webdriver.remote.webelement.WebElement (session=\"dd31842e09666be5b7926ce51095045f\", element=\"f.E664CF9590646309800FBB49D9B6C471.d.2C601A14A101395D23CF5F88F2C7EA09.e.24738\")>,\n",
       " <selenium.webdriver.remote.webelement.WebElement (session=\"dd31842e09666be5b7926ce51095045f\", element=\"f.E664CF9590646309800FBB49D9B6C471.d.2C601A14A101395D23CF5F88F2C7EA09.e.24655\")>,\n",
       " <selenium.webdriver.remote.webelement.WebElement (session=\"dd31842e09666be5b7926ce51095045f\", element=\"f.E664CF9590646309800FBB49D9B6C471.d.2C601A14A101395D23CF5F88F2C7EA09.e.24568\")>,\n",
       " <selenium.webdriver.remote.webelement.WebElement (session=\"dd31842e09666be5b7926ce51095045f\", element=\"f.E664CF9590646309800FBB49D9B6C471.d.2C601A14A101395D23CF5F88F2C7EA09.e.24483\")>,\n",
       " <selenium.webdriver.remote.webelement.WebElement (session=\"dd31842e09666be5b7926ce51095045f\", element=\"f.E664CF9590646309800FBB49D9B6C471.d.2C601A14A101395D23CF5F88F2C7EA09.e.24400\")>,\n",
       " <selenium.webdriver.remote.webelement.WebElement (session=\"dd31842e09666be5b7926ce51095045f\", element=\"f.E664CF9590646309800FBB49D9B6C471.d.2C601A14A101395D23CF5F88F2C7EA09.e.24317\")>,\n",
       " <selenium.webdriver.remote.webelement.WebElement (session=\"dd31842e09666be5b7926ce51095045f\", element=\"f.E664CF9590646309800FBB49D9B6C471.d.2C601A14A101395D23CF5F88F2C7EA09.e.24239\")>,\n",
       " <selenium.webdriver.remote.webelement.WebElement (session=\"dd31842e09666be5b7926ce51095045f\", element=\"f.E664CF9590646309800FBB49D9B6C471.d.2C601A14A101395D23CF5F88F2C7EA09.e.24156\")>,\n",
       " <selenium.webdriver.remote.webelement.WebElement (session=\"dd31842e09666be5b7926ce51095045f\", element=\"f.E664CF9590646309800FBB49D9B6C471.d.2C601A14A101395D23CF5F88F2C7EA09.e.24071\")>,\n",
       " <selenium.webdriver.remote.webelement.WebElement (session=\"dd31842e09666be5b7926ce51095045f\", element=\"f.E664CF9590646309800FBB49D9B6C471.d.2C601A14A101395D23CF5F88F2C7EA09.e.23988\")>,\n",
       " <selenium.webdriver.remote.webelement.WebElement (session=\"dd31842e09666be5b7926ce51095045f\", element=\"f.E664CF9590646309800FBB49D9B6C471.d.2C601A14A101395D23CF5F88F2C7EA09.e.23905\")>,\n",
       " <selenium.webdriver.remote.webelement.WebElement (session=\"dd31842e09666be5b7926ce51095045f\", element=\"f.E664CF9590646309800FBB49D9B6C471.d.2C601A14A101395D23CF5F88F2C7EA09.e.23822\")>,\n",
       " <selenium.webdriver.remote.webelement.WebElement (session=\"dd31842e09666be5b7926ce51095045f\", element=\"f.E664CF9590646309800FBB49D9B6C471.d.2C601A14A101395D23CF5F88F2C7EA09.e.27250\")>,\n",
       " <selenium.webdriver.remote.webelement.WebElement (session=\"dd31842e09666be5b7926ce51095045f\", element=\"f.E664CF9590646309800FBB49D9B6C471.d.2C601A14A101395D23CF5F88F2C7EA09.e.27163\")>,\n",
       " <selenium.webdriver.remote.webelement.WebElement (session=\"dd31842e09666be5b7926ce51095045f\", element=\"f.E664CF9590646309800FBB49D9B6C471.d.2C601A14A101395D23CF5F88F2C7EA09.e.27089\")>,\n",
       " <selenium.webdriver.remote.webelement.WebElement (session=\"dd31842e09666be5b7926ce51095045f\", element=\"f.E664CF9590646309800FBB49D9B6C471.d.2C601A14A101395D23CF5F88F2C7EA09.e.27015\")>,\n",
       " <selenium.webdriver.remote.webelement.WebElement (session=\"dd31842e09666be5b7926ce51095045f\", element=\"f.E664CF9590646309800FBB49D9B6C471.d.2C601A14A101395D23CF5F88F2C7EA09.e.26941\")>,\n",
       " <selenium.webdriver.remote.webelement.WebElement (session=\"dd31842e09666be5b7926ce51095045f\", element=\"f.E664CF9590646309800FBB49D9B6C471.d.2C601A14A101395D23CF5F88F2C7EA09.e.26858\")>,\n",
       " <selenium.webdriver.remote.webelement.WebElement (session=\"dd31842e09666be5b7926ce51095045f\", element=\"f.E664CF9590646309800FBB49D9B6C471.d.2C601A14A101395D23CF5F88F2C7EA09.e.26780\")>,\n",
       " <selenium.webdriver.remote.webelement.WebElement (session=\"dd31842e09666be5b7926ce51095045f\", element=\"f.E664CF9590646309800FBB49D9B6C471.d.2C601A14A101395D23CF5F88F2C7EA09.e.26697\")>,\n",
       " <selenium.webdriver.remote.webelement.WebElement (session=\"dd31842e09666be5b7926ce51095045f\", element=\"f.E664CF9590646309800FBB49D9B6C471.d.2C601A14A101395D23CF5F88F2C7EA09.e.26612\")>,\n",
       " <selenium.webdriver.remote.webelement.WebElement (session=\"dd31842e09666be5b7926ce51095045f\", element=\"f.E664CF9590646309800FBB49D9B6C471.d.2C601A14A101395D23CF5F88F2C7EA09.e.26529\")>,\n",
       " <selenium.webdriver.remote.webelement.WebElement (session=\"dd31842e09666be5b7926ce51095045f\", element=\"f.E664CF9590646309800FBB49D9B6C471.d.2C601A14A101395D23CF5F88F2C7EA09.e.26442\")>,\n",
       " <selenium.webdriver.remote.webelement.WebElement (session=\"dd31842e09666be5b7926ce51095045f\", element=\"f.E664CF9590646309800FBB49D9B6C471.d.2C601A14A101395D23CF5F88F2C7EA09.e.26355\")>,\n",
       " <selenium.webdriver.remote.webelement.WebElement (session=\"dd31842e09666be5b7926ce51095045f\", element=\"f.E664CF9590646309800FBB49D9B6C471.d.2C601A14A101395D23CF5F88F2C7EA09.e.26272\")>,\n",
       " <selenium.webdriver.remote.webelement.WebElement (session=\"dd31842e09666be5b7926ce51095045f\", element=\"f.E664CF9590646309800FBB49D9B6C471.d.2C601A14A101395D23CF5F88F2C7EA09.e.26185\")>,\n",
       " <selenium.webdriver.remote.webelement.WebElement (session=\"dd31842e09666be5b7926ce51095045f\", element=\"f.E664CF9590646309800FBB49D9B6C471.d.2C601A14A101395D23CF5F88F2C7EA09.e.26109\")>,\n",
       " <selenium.webdriver.remote.webelement.WebElement (session=\"dd31842e09666be5b7926ce51095045f\", element=\"f.E664CF9590646309800FBB49D9B6C471.d.2C601A14A101395D23CF5F88F2C7EA09.e.26031\")>,\n",
       " <selenium.webdriver.remote.webelement.WebElement (session=\"dd31842e09666be5b7926ce51095045f\", element=\"f.E664CF9590646309800FBB49D9B6C471.d.2C601A14A101395D23CF5F88F2C7EA09.e.25957\")>,\n",
       " <selenium.webdriver.remote.webelement.WebElement (session=\"dd31842e09666be5b7926ce51095045f\", element=\"f.E664CF9590646309800FBB49D9B6C471.d.2C601A14A101395D23CF5F88F2C7EA09.e.25870\")>,\n",
       " <selenium.webdriver.remote.webelement.WebElement (session=\"dd31842e09666be5b7926ce51095045f\", element=\"f.E664CF9590646309800FBB49D9B6C471.d.2C601A14A101395D23CF5F88F2C7EA09.e.25796\")>,\n",
       " <selenium.webdriver.remote.webelement.WebElement (session=\"dd31842e09666be5b7926ce51095045f\", element=\"f.E664CF9590646309800FBB49D9B6C471.d.2C601A14A101395D23CF5F88F2C7EA09.e.25722\")>,\n",
       " <selenium.webdriver.remote.webelement.WebElement (session=\"dd31842e09666be5b7926ce51095045f\", element=\"f.E664CF9590646309800FBB49D9B6C471.d.2C601A14A101395D23CF5F88F2C7EA09.e.29058\")>,\n",
       " <selenium.webdriver.remote.webelement.WebElement (session=\"dd31842e09666be5b7926ce51095045f\", element=\"f.E664CF9590646309800FBB49D9B6C471.d.2C601A14A101395D23CF5F88F2C7EA09.e.28984\")>,\n",
       " <selenium.webdriver.remote.webelement.WebElement (session=\"dd31842e09666be5b7926ce51095045f\", element=\"f.E664CF9590646309800FBB49D9B6C471.d.2C601A14A101395D23CF5F88F2C7EA09.e.28901\")>,\n",
       " <selenium.webdriver.remote.webelement.WebElement (session=\"dd31842e09666be5b7926ce51095045f\", element=\"f.E664CF9590646309800FBB49D9B6C471.d.2C601A14A101395D23CF5F88F2C7EA09.e.28827\")>,\n",
       " <selenium.webdriver.remote.webelement.WebElement (session=\"dd31842e09666be5b7926ce51095045f\", element=\"f.E664CF9590646309800FBB49D9B6C471.d.2C601A14A101395D23CF5F88F2C7EA09.e.28742\")>,\n",
       " <selenium.webdriver.remote.webelement.WebElement (session=\"dd31842e09666be5b7926ce51095045f\", element=\"f.E664CF9590646309800FBB49D9B6C471.d.2C601A14A101395D23CF5F88F2C7EA09.e.28668\")>,\n",
       " <selenium.webdriver.remote.webelement.WebElement (session=\"dd31842e09666be5b7926ce51095045f\", element=\"f.E664CF9590646309800FBB49D9B6C471.d.2C601A14A101395D23CF5F88F2C7EA09.e.28585\")>,\n",
       " <selenium.webdriver.remote.webelement.WebElement (session=\"dd31842e09666be5b7926ce51095045f\", element=\"f.E664CF9590646309800FBB49D9B6C471.d.2C601A14A101395D23CF5F88F2C7EA09.e.28511\")>,\n",
       " <selenium.webdriver.remote.webelement.WebElement (session=\"dd31842e09666be5b7926ce51095045f\", element=\"f.E664CF9590646309800FBB49D9B6C471.d.2C601A14A101395D23CF5F88F2C7EA09.e.28428\")>,\n",
       " <selenium.webdriver.remote.webelement.WebElement (session=\"dd31842e09666be5b7926ce51095045f\", element=\"f.E664CF9590646309800FBB49D9B6C471.d.2C601A14A101395D23CF5F88F2C7EA09.e.28352\")>,\n",
       " <selenium.webdriver.remote.webelement.WebElement (session=\"dd31842e09666be5b7926ce51095045f\", element=\"f.E664CF9590646309800FBB49D9B6C471.d.2C601A14A101395D23CF5F88F2C7EA09.e.28274\")>,\n",
       " <selenium.webdriver.remote.webelement.WebElement (session=\"dd31842e09666be5b7926ce51095045f\", element=\"f.E664CF9590646309800FBB49D9B6C471.d.2C601A14A101395D23CF5F88F2C7EA09.e.28189\")>,\n",
       " <selenium.webdriver.remote.webelement.WebElement (session=\"dd31842e09666be5b7926ce51095045f\", element=\"f.E664CF9590646309800FBB49D9B6C471.d.2C601A14A101395D23CF5F88F2C7EA09.e.28106\")>,\n",
       " <selenium.webdriver.remote.webelement.WebElement (session=\"dd31842e09666be5b7926ce51095045f\", element=\"f.E664CF9590646309800FBB49D9B6C471.d.2C601A14A101395D23CF5F88F2C7EA09.e.28023\")>,\n",
       " <selenium.webdriver.remote.webelement.WebElement (session=\"dd31842e09666be5b7926ce51095045f\", element=\"f.E664CF9590646309800FBB49D9B6C471.d.2C601A14A101395D23CF5F88F2C7EA09.e.27949\")>,\n",
       " <selenium.webdriver.remote.webelement.WebElement (session=\"dd31842e09666be5b7926ce51095045f\", element=\"f.E664CF9590646309800FBB49D9B6C471.d.2C601A14A101395D23CF5F88F2C7EA09.e.27873\")>,\n",
       " <selenium.webdriver.remote.webelement.WebElement (session=\"dd31842e09666be5b7926ce51095045f\", element=\"f.E664CF9590646309800FBB49D9B6C471.d.2C601A14A101395D23CF5F88F2C7EA09.e.27790\")>,\n",
       " <selenium.webdriver.remote.webelement.WebElement (session=\"dd31842e09666be5b7926ce51095045f\", element=\"f.E664CF9590646309800FBB49D9B6C471.d.2C601A14A101395D23CF5F88F2C7EA09.e.27707\")>,\n",
       " <selenium.webdriver.remote.webelement.WebElement (session=\"dd31842e09666be5b7926ce51095045f\", element=\"f.E664CF9590646309800FBB49D9B6C471.d.2C601A14A101395D23CF5F88F2C7EA09.e.27633\")>,\n",
       " <selenium.webdriver.remote.webelement.WebElement (session=\"dd31842e09666be5b7926ce51095045f\", element=\"f.E664CF9590646309800FBB49D9B6C471.d.2C601A14A101395D23CF5F88F2C7EA09.e.27559\")>,\n",
       " <selenium.webdriver.remote.webelement.WebElement (session=\"dd31842e09666be5b7926ce51095045f\", element=\"f.E664CF9590646309800FBB49D9B6C471.d.2C601A14A101395D23CF5F88F2C7EA09.e.30842\")>,\n",
       " <selenium.webdriver.remote.webelement.WebElement (session=\"dd31842e09666be5b7926ce51095045f\", element=\"f.E664CF9590646309800FBB49D9B6C471.d.2C601A14A101395D23CF5F88F2C7EA09.e.30759\")>,\n",
       " <selenium.webdriver.remote.webelement.WebElement (session=\"dd31842e09666be5b7926ce51095045f\", element=\"f.E664CF9590646309800FBB49D9B6C471.d.2C601A14A101395D23CF5F88F2C7EA09.e.30685\")>,\n",
       " <selenium.webdriver.remote.webelement.WebElement (session=\"dd31842e09666be5b7926ce51095045f\", element=\"f.E664CF9590646309800FBB49D9B6C471.d.2C601A14A101395D23CF5F88F2C7EA09.e.30609\")>,\n",
       " <selenium.webdriver.remote.webelement.WebElement (session=\"dd31842e09666be5b7926ce51095045f\", element=\"f.E664CF9590646309800FBB49D9B6C471.d.2C601A14A101395D23CF5F88F2C7EA09.e.30526\")>,\n",
       " <selenium.webdriver.remote.webelement.WebElement (session=\"dd31842e09666be5b7926ce51095045f\", element=\"f.E664CF9590646309800FBB49D9B6C471.d.2C601A14A101395D23CF5F88F2C7EA09.e.30443\")>,\n",
       " <selenium.webdriver.remote.webelement.WebElement (session=\"dd31842e09666be5b7926ce51095045f\", element=\"f.E664CF9590646309800FBB49D9B6C471.d.2C601A14A101395D23CF5F88F2C7EA09.e.30367\")>,\n",
       " <selenium.webdriver.remote.webelement.WebElement (session=\"dd31842e09666be5b7926ce51095045f\", element=\"f.E664CF9590646309800FBB49D9B6C471.d.2C601A14A101395D23CF5F88F2C7EA09.e.30293\")>,\n",
       " <selenium.webdriver.remote.webelement.WebElement (session=\"dd31842e09666be5b7926ce51095045f\", element=\"f.E664CF9590646309800FBB49D9B6C471.d.2C601A14A101395D23CF5F88F2C7EA09.e.30206\")>,\n",
       " <selenium.webdriver.remote.webelement.WebElement (session=\"dd31842e09666be5b7926ce51095045f\", element=\"f.E664CF9590646309800FBB49D9B6C471.d.2C601A14A101395D23CF5F88F2C7EA09.e.30132\")>,\n",
       " <selenium.webdriver.remote.webelement.WebElement (session=\"dd31842e09666be5b7926ce51095045f\", element=\"f.E664CF9590646309800FBB49D9B6C471.d.2C601A14A101395D23CF5F88F2C7EA09.e.30058\")>,\n",
       " <selenium.webdriver.remote.webelement.WebElement (session=\"dd31842e09666be5b7926ce51095045f\", element=\"f.E664CF9590646309800FBB49D9B6C471.d.2C601A14A101395D23CF5F88F2C7EA09.e.29984\")>,\n",
       " <selenium.webdriver.remote.webelement.WebElement (session=\"dd31842e09666be5b7926ce51095045f\", element=\"f.E664CF9590646309800FBB49D9B6C471.d.2C601A14A101395D23CF5F88F2C7EA09.e.29910\")>,\n",
       " <selenium.webdriver.remote.webelement.WebElement (session=\"dd31842e09666be5b7926ce51095045f\", element=\"f.E664CF9590646309800FBB49D9B6C471.d.2C601A14A101395D23CF5F88F2C7EA09.e.29836\")>,\n",
       " <selenium.webdriver.remote.webelement.WebElement (session=\"dd31842e09666be5b7926ce51095045f\", element=\"f.E664CF9590646309800FBB49D9B6C471.d.2C601A14A101395D23CF5F88F2C7EA09.e.29762\")>,\n",
       " <selenium.webdriver.remote.webelement.WebElement (session=\"dd31842e09666be5b7926ce51095045f\", element=\"f.E664CF9590646309800FBB49D9B6C471.d.2C601A14A101395D23CF5F88F2C7EA09.e.29688\")>,\n",
       " <selenium.webdriver.remote.webelement.WebElement (session=\"dd31842e09666be5b7926ce51095045f\", element=\"f.E664CF9590646309800FBB49D9B6C471.d.2C601A14A101395D23CF5F88F2C7EA09.e.29614\")>,\n",
       " <selenium.webdriver.remote.webelement.WebElement (session=\"dd31842e09666be5b7926ce51095045f\", element=\"f.E664CF9590646309800FBB49D9B6C471.d.2C601A14A101395D23CF5F88F2C7EA09.e.29531\")>,\n",
       " <selenium.webdriver.remote.webelement.WebElement (session=\"dd31842e09666be5b7926ce51095045f\", element=\"f.E664CF9590646309800FBB49D9B6C471.d.2C601A14A101395D23CF5F88F2C7EA09.e.29448\")>,\n",
       " <selenium.webdriver.remote.webelement.WebElement (session=\"dd31842e09666be5b7926ce51095045f\", element=\"f.E664CF9590646309800FBB49D9B6C471.d.2C601A14A101395D23CF5F88F2C7EA09.e.29372\")>,\n",
       " <selenium.webdriver.remote.webelement.WebElement (session=\"dd31842e09666be5b7926ce51095045f\", element=\"f.E664CF9590646309800FBB49D9B6C471.d.2C601A14A101395D23CF5F88F2C7EA09.e.31065\")>,\n",
       " <selenium.webdriver.remote.webelement.WebElement (session=\"dd31842e09666be5b7926ce51095045f\", element=\"f.E664CF9590646309800FBB49D9B6C471.d.2C601A14A101395D23CF5F88F2C7EA09.e.31071\")>,\n",
       " <selenium.webdriver.remote.webelement.WebElement (session=\"dd31842e09666be5b7926ce51095045f\", element=\"f.E664CF9590646309800FBB49D9B6C471.d.2C601A14A101395D23CF5F88F2C7EA09.e.31077\")>,\n",
       " <selenium.webdriver.remote.webelement.WebElement (session=\"dd31842e09666be5b7926ce51095045f\", element=\"f.E664CF9590646309800FBB49D9B6C471.d.2C601A14A101395D23CF5F88F2C7EA09.e.31083\")>,\n",
       " <selenium.webdriver.remote.webelement.WebElement (session=\"dd31842e09666be5b7926ce51095045f\", element=\"f.E664CF9590646309800FBB49D9B6C471.d.2C601A14A101395D23CF5F88F2C7EA09.e.31089\")>,\n",
       " <selenium.webdriver.remote.webelement.WebElement (session=\"dd31842e09666be5b7926ce51095045f\", element=\"f.E664CF9590646309800FBB49D9B6C471.d.2C601A14A101395D23CF5F88F2C7EA09.e.31095\")>,\n",
       " <selenium.webdriver.remote.webelement.WebElement (session=\"dd31842e09666be5b7926ce51095045f\", element=\"f.E664CF9590646309800FBB49D9B6C471.d.2C601A14A101395D23CF5F88F2C7EA09.e.31101\")>,\n",
       " <selenium.webdriver.remote.webelement.WebElement (session=\"dd31842e09666be5b7926ce51095045f\", element=\"f.E664CF9590646309800FBB49D9B6C471.d.2C601A14A101395D23CF5F88F2C7EA09.e.31107\")>,\n",
       " <selenium.webdriver.remote.webelement.WebElement (session=\"dd31842e09666be5b7926ce51095045f\", element=\"f.E664CF9590646309800FBB49D9B6C471.d.2C601A14A101395D23CF5F88F2C7EA09.e.31113\")>,\n",
       " <selenium.webdriver.remote.webelement.WebElement (session=\"dd31842e09666be5b7926ce51095045f\", element=\"f.E664CF9590646309800FBB49D9B6C471.d.2C601A14A101395D23CF5F88F2C7EA09.e.31119\")>,\n",
       " <selenium.webdriver.remote.webelement.WebElement (session=\"dd31842e09666be5b7926ce51095045f\", element=\"f.E664CF9590646309800FBB49D9B6C471.d.2C601A14A101395D23CF5F88F2C7EA09.e.31125\")>,\n",
       " <selenium.webdriver.remote.webelement.WebElement (session=\"dd31842e09666be5b7926ce51095045f\", element=\"f.E664CF9590646309800FBB49D9B6C471.d.2C601A14A101395D23CF5F88F2C7EA09.e.31131\")>,\n",
       " <selenium.webdriver.remote.webelement.WebElement (session=\"dd31842e09666be5b7926ce51095045f\", element=\"f.E664CF9590646309800FBB49D9B6C471.d.2C601A14A101395D23CF5F88F2C7EA09.e.31137\")>,\n",
       " <selenium.webdriver.remote.webelement.WebElement (session=\"dd31842e09666be5b7926ce51095045f\", element=\"f.E664CF9590646309800FBB49D9B6C471.d.2C601A14A101395D23CF5F88F2C7EA09.e.31143\")>,\n",
       " <selenium.webdriver.remote.webelement.WebElement (session=\"dd31842e09666be5b7926ce51095045f\", element=\"f.E664CF9590646309800FBB49D9B6C471.d.2C601A14A101395D23CF5F88F2C7EA09.e.31149\")>,\n",
       " <selenium.webdriver.remote.webelement.WebElement (session=\"dd31842e09666be5b7926ce51095045f\", element=\"f.E664CF9590646309800FBB49D9B6C471.d.2C601A14A101395D23CF5F88F2C7EA09.e.31155\")>,\n",
       " <selenium.webdriver.remote.webelement.WebElement (session=\"dd31842e09666be5b7926ce51095045f\", element=\"f.E664CF9590646309800FBB49D9B6C471.d.2C601A14A101395D23CF5F88F2C7EA09.e.31161\")>,\n",
       " <selenium.webdriver.remote.webelement.WebElement (session=\"dd31842e09666be5b7926ce51095045f\", element=\"f.E664CF9590646309800FBB49D9B6C471.d.2C601A14A101395D23CF5F88F2C7EA09.e.31167\")>,\n",
       " <selenium.webdriver.remote.webelement.WebElement (session=\"dd31842e09666be5b7926ce51095045f\", element=\"f.E664CF9590646309800FBB49D9B6C471.d.2C601A14A101395D23CF5F88F2C7EA09.e.31173\")>,\n",
       " <selenium.webdriver.remote.webelement.WebElement (session=\"dd31842e09666be5b7926ce51095045f\", element=\"f.E664CF9590646309800FBB49D9B6C471.d.2C601A14A101395D23CF5F88F2C7EA09.e.31179\")>,\n",
       " <selenium.webdriver.remote.webelement.WebElement (session=\"dd31842e09666be5b7926ce51095045f\", element=\"f.E664CF9590646309800FBB49D9B6C471.d.2C601A14A101395D23CF5F88F2C7EA09.e.32873\")>,\n",
       " <selenium.webdriver.remote.webelement.WebElement (session=\"dd31842e09666be5b7926ce51095045f\", element=\"f.E664CF9590646309800FBB49D9B6C471.d.2C601A14A101395D23CF5F88F2C7EA09.e.32879\")>,\n",
       " <selenium.webdriver.remote.webelement.WebElement (session=\"dd31842e09666be5b7926ce51095045f\", element=\"f.E664CF9590646309800FBB49D9B6C471.d.2C601A14A101395D23CF5F88F2C7EA09.e.32885\")>,\n",
       " <selenium.webdriver.remote.webelement.WebElement (session=\"dd31842e09666be5b7926ce51095045f\", element=\"f.E664CF9590646309800FBB49D9B6C471.d.2C601A14A101395D23CF5F88F2C7EA09.e.32891\")>,\n",
       " <selenium.webdriver.remote.webelement.WebElement (session=\"dd31842e09666be5b7926ce51095045f\", element=\"f.E664CF9590646309800FBB49D9B6C471.d.2C601A14A101395D23CF5F88F2C7EA09.e.32897\")>,\n",
       " <selenium.webdriver.remote.webelement.WebElement (session=\"dd31842e09666be5b7926ce51095045f\", element=\"f.E664CF9590646309800FBB49D9B6C471.d.2C601A14A101395D23CF5F88F2C7EA09.e.32903\")>,\n",
       " <selenium.webdriver.remote.webelement.WebElement (session=\"dd31842e09666be5b7926ce51095045f\", element=\"f.E664CF9590646309800FBB49D9B6C471.d.2C601A14A101395D23CF5F88F2C7EA09.e.32909\")>,\n",
       " <selenium.webdriver.remote.webelement.WebElement (session=\"dd31842e09666be5b7926ce51095045f\", element=\"f.E664CF9590646309800FBB49D9B6C471.d.2C601A14A101395D23CF5F88F2C7EA09.e.32915\")>,\n",
       " <selenium.webdriver.remote.webelement.WebElement (session=\"dd31842e09666be5b7926ce51095045f\", element=\"f.E664CF9590646309800FBB49D9B6C471.d.2C601A14A101395D23CF5F88F2C7EA09.e.32921\")>,\n",
       " <selenium.webdriver.remote.webelement.WebElement (session=\"dd31842e09666be5b7926ce51095045f\", element=\"f.E664CF9590646309800FBB49D9B6C471.d.2C601A14A101395D23CF5F88F2C7EA09.e.32927\")>,\n",
       " <selenium.webdriver.remote.webelement.WebElement (session=\"dd31842e09666be5b7926ce51095045f\", element=\"f.E664CF9590646309800FBB49D9B6C471.d.2C601A14A101395D23CF5F88F2C7EA09.e.32933\")>,\n",
       " <selenium.webdriver.remote.webelement.WebElement (session=\"dd31842e09666be5b7926ce51095045f\", element=\"f.E664CF9590646309800FBB49D9B6C471.d.2C601A14A101395D23CF5F88F2C7EA09.e.32939\")>,\n",
       " <selenium.webdriver.remote.webelement.WebElement (session=\"dd31842e09666be5b7926ce51095045f\", element=\"f.E664CF9590646309800FBB49D9B6C471.d.2C601A14A101395D23CF5F88F2C7EA09.e.32945\")>,\n",
       " <selenium.webdriver.remote.webelement.WebElement (session=\"dd31842e09666be5b7926ce51095045f\", element=\"f.E664CF9590646309800FBB49D9B6C471.d.2C601A14A101395D23CF5F88F2C7EA09.e.32951\")>,\n",
       " <selenium.webdriver.remote.webelement.WebElement (session=\"dd31842e09666be5b7926ce51095045f\", element=\"f.E664CF9590646309800FBB49D9B6C471.d.2C601A14A101395D23CF5F88F2C7EA09.e.32957\")>,\n",
       " <selenium.webdriver.remote.webelement.WebElement (session=\"dd31842e09666be5b7926ce51095045f\", element=\"f.E664CF9590646309800FBB49D9B6C471.d.2C601A14A101395D23CF5F88F2C7EA09.e.32963\")>,\n",
       " <selenium.webdriver.remote.webelement.WebElement (session=\"dd31842e09666be5b7926ce51095045f\", element=\"f.E664CF9590646309800FBB49D9B6C471.d.2C601A14A101395D23CF5F88F2C7EA09.e.32969\")>,\n",
       " <selenium.webdriver.remote.webelement.WebElement (session=\"dd31842e09666be5b7926ce51095045f\", element=\"f.E664CF9590646309800FBB49D9B6C471.d.2C601A14A101395D23CF5F88F2C7EA09.e.32975\")>,\n",
       " <selenium.webdriver.remote.webelement.WebElement (session=\"dd31842e09666be5b7926ce51095045f\", element=\"f.E664CF9590646309800FBB49D9B6C471.d.2C601A14A101395D23CF5F88F2C7EA09.e.32981\")>,\n",
       " <selenium.webdriver.remote.webelement.WebElement (session=\"dd31842e09666be5b7926ce51095045f\", element=\"f.E664CF9590646309800FBB49D9B6C471.d.2C601A14A101395D23CF5F88F2C7EA09.e.32987\")>,\n",
       " <selenium.webdriver.remote.webelement.WebElement (session=\"dd31842e09666be5b7926ce51095045f\", element=\"f.E664CF9590646309800FBB49D9B6C471.d.2C601A14A101395D23CF5F88F2C7EA09.e.34656\")>,\n",
       " <selenium.webdriver.remote.webelement.WebElement (session=\"dd31842e09666be5b7926ce51095045f\", element=\"f.E664CF9590646309800FBB49D9B6C471.d.2C601A14A101395D23CF5F88F2C7EA09.e.34662\")>,\n",
       " <selenium.webdriver.remote.webelement.WebElement (session=\"dd31842e09666be5b7926ce51095045f\", element=\"f.E664CF9590646309800FBB49D9B6C471.d.2C601A14A101395D23CF5F88F2C7EA09.e.34668\")>,\n",
       " <selenium.webdriver.remote.webelement.WebElement (session=\"dd31842e09666be5b7926ce51095045f\", element=\"f.E664CF9590646309800FBB49D9B6C471.d.2C601A14A101395D23CF5F88F2C7EA09.e.34674\")>,\n",
       " <selenium.webdriver.remote.webelement.WebElement (session=\"dd31842e09666be5b7926ce51095045f\", element=\"f.E664CF9590646309800FBB49D9B6C471.d.2C601A14A101395D23CF5F88F2C7EA09.e.34680\")>,\n",
       " <selenium.webdriver.remote.webelement.WebElement (session=\"dd31842e09666be5b7926ce51095045f\", element=\"f.E664CF9590646309800FBB49D9B6C471.d.2C601A14A101395D23CF5F88F2C7EA09.e.34686\")>,\n",
       " <selenium.webdriver.remote.webelement.WebElement (session=\"dd31842e09666be5b7926ce51095045f\", element=\"f.E664CF9590646309800FBB49D9B6C471.d.2C601A14A101395D23CF5F88F2C7EA09.e.34692\")>,\n",
       " <selenium.webdriver.remote.webelement.WebElement (session=\"dd31842e09666be5b7926ce51095045f\", element=\"f.E664CF9590646309800FBB49D9B6C471.d.2C601A14A101395D23CF5F88F2C7EA09.e.34698\")>,\n",
       " <selenium.webdriver.remote.webelement.WebElement (session=\"dd31842e09666be5b7926ce51095045f\", element=\"f.E664CF9590646309800FBB49D9B6C471.d.2C601A14A101395D23CF5F88F2C7EA09.e.34704\")>,\n",
       " <selenium.webdriver.remote.webelement.WebElement (session=\"dd31842e09666be5b7926ce51095045f\", element=\"f.E664CF9590646309800FBB49D9B6C471.d.2C601A14A101395D23CF5F88F2C7EA09.e.34710\")>,\n",
       " <selenium.webdriver.remote.webelement.WebElement (session=\"dd31842e09666be5b7926ce51095045f\", element=\"f.E664CF9590646309800FBB49D9B6C471.d.2C601A14A101395D23CF5F88F2C7EA09.e.34716\")>,\n",
       " <selenium.webdriver.remote.webelement.WebElement (session=\"dd31842e09666be5b7926ce51095045f\", element=\"f.E664CF9590646309800FBB49D9B6C471.d.2C601A14A101395D23CF5F88F2C7EA09.e.34722\")>,\n",
       " <selenium.webdriver.remote.webelement.WebElement (session=\"dd31842e09666be5b7926ce51095045f\", element=\"f.E664CF9590646309800FBB49D9B6C471.d.2C601A14A101395D23CF5F88F2C7EA09.e.34728\")>,\n",
       " <selenium.webdriver.remote.webelement.WebElement (session=\"dd31842e09666be5b7926ce51095045f\", element=\"f.E664CF9590646309800FBB49D9B6C471.d.2C601A14A101395D23CF5F88F2C7EA09.e.34734\")>,\n",
       " <selenium.webdriver.remote.webelement.WebElement (session=\"dd31842e09666be5b7926ce51095045f\", element=\"f.E664CF9590646309800FBB49D9B6C471.d.2C601A14A101395D23CF5F88F2C7EA09.e.34740\")>,\n",
       " <selenium.webdriver.remote.webelement.WebElement (session=\"dd31842e09666be5b7926ce51095045f\", element=\"f.E664CF9590646309800FBB49D9B6C471.d.2C601A14A101395D23CF5F88F2C7EA09.e.34746\")>,\n",
       " <selenium.webdriver.remote.webelement.WebElement (session=\"dd31842e09666be5b7926ce51095045f\", element=\"f.E664CF9590646309800FBB49D9B6C471.d.2C601A14A101395D23CF5F88F2C7EA09.e.34752\")>,\n",
       " <selenium.webdriver.remote.webelement.WebElement (session=\"dd31842e09666be5b7926ce51095045f\", element=\"f.E664CF9590646309800FBB49D9B6C471.d.2C601A14A101395D23CF5F88F2C7EA09.e.34758\")>,\n",
       " <selenium.webdriver.remote.webelement.WebElement (session=\"dd31842e09666be5b7926ce51095045f\", element=\"f.E664CF9590646309800FBB49D9B6C471.d.2C601A14A101395D23CF5F88F2C7EA09.e.34764\")>,\n",
       " <selenium.webdriver.remote.webelement.WebElement (session=\"dd31842e09666be5b7926ce51095045f\", element=\"f.E664CF9590646309800FBB49D9B6C471.d.2C601A14A101395D23CF5F88F2C7EA09.e.34770\")>,\n",
       " <selenium.webdriver.remote.webelement.WebElement (session=\"dd31842e09666be5b7926ce51095045f\", element=\"f.E664CF9590646309800FBB49D9B6C471.d.2C601A14A101395D23CF5F88F2C7EA09.e.36482\")>,\n",
       " <selenium.webdriver.remote.webelement.WebElement (session=\"dd31842e09666be5b7926ce51095045f\", element=\"f.E664CF9590646309800FBB49D9B6C471.d.2C601A14A101395D23CF5F88F2C7EA09.e.36488\")>,\n",
       " <selenium.webdriver.remote.webelement.WebElement (session=\"dd31842e09666be5b7926ce51095045f\", element=\"f.E664CF9590646309800FBB49D9B6C471.d.2C601A14A101395D23CF5F88F2C7EA09.e.36494\")>,\n",
       " <selenium.webdriver.remote.webelement.WebElement (session=\"dd31842e09666be5b7926ce51095045f\", element=\"f.E664CF9590646309800FBB49D9B6C471.d.2C601A14A101395D23CF5F88F2C7EA09.e.36500\")>,\n",
       " <selenium.webdriver.remote.webelement.WebElement (session=\"dd31842e09666be5b7926ce51095045f\", element=\"f.E664CF9590646309800FBB49D9B6C471.d.2C601A14A101395D23CF5F88F2C7EA09.e.36506\")>,\n",
       " <selenium.webdriver.remote.webelement.WebElement (session=\"dd31842e09666be5b7926ce51095045f\", element=\"f.E664CF9590646309800FBB49D9B6C471.d.2C601A14A101395D23CF5F88F2C7EA09.e.36512\")>,\n",
       " <selenium.webdriver.remote.webelement.WebElement (session=\"dd31842e09666be5b7926ce51095045f\", element=\"f.E664CF9590646309800FBB49D9B6C471.d.2C601A14A101395D23CF5F88F2C7EA09.e.36518\")>,\n",
       " <selenium.webdriver.remote.webelement.WebElement (session=\"dd31842e09666be5b7926ce51095045f\", element=\"f.E664CF9590646309800FBB49D9B6C471.d.2C601A14A101395D23CF5F88F2C7EA09.e.36524\")>,\n",
       " <selenium.webdriver.remote.webelement.WebElement (session=\"dd31842e09666be5b7926ce51095045f\", element=\"f.E664CF9590646309800FBB49D9B6C471.d.2C601A14A101395D23CF5F88F2C7EA09.e.36530\")>,\n",
       " <selenium.webdriver.remote.webelement.WebElement (session=\"dd31842e09666be5b7926ce51095045f\", element=\"f.E664CF9590646309800FBB49D9B6C471.d.2C601A14A101395D23CF5F88F2C7EA09.e.36536\")>,\n",
       " <selenium.webdriver.remote.webelement.WebElement (session=\"dd31842e09666be5b7926ce51095045f\", element=\"f.E664CF9590646309800FBB49D9B6C471.d.2C601A14A101395D23CF5F88F2C7EA09.e.36542\")>,\n",
       " <selenium.webdriver.remote.webelement.WebElement (session=\"dd31842e09666be5b7926ce51095045f\", element=\"f.E664CF9590646309800FBB49D9B6C471.d.2C601A14A101395D23CF5F88F2C7EA09.e.36548\")>,\n",
       " <selenium.webdriver.remote.webelement.WebElement (session=\"dd31842e09666be5b7926ce51095045f\", element=\"f.E664CF9590646309800FBB49D9B6C471.d.2C601A14A101395D23CF5F88F2C7EA09.e.36554\")>,\n",
       " <selenium.webdriver.remote.webelement.WebElement (session=\"dd31842e09666be5b7926ce51095045f\", element=\"f.E664CF9590646309800FBB49D9B6C471.d.2C601A14A101395D23CF5F88F2C7EA09.e.36560\")>,\n",
       " <selenium.webdriver.remote.webelement.WebElement (session=\"dd31842e09666be5b7926ce51095045f\", element=\"f.E664CF9590646309800FBB49D9B6C471.d.2C601A14A101395D23CF5F88F2C7EA09.e.36566\")>,\n",
       " <selenium.webdriver.remote.webelement.WebElement (session=\"dd31842e09666be5b7926ce51095045f\", element=\"f.E664CF9590646309800FBB49D9B6C471.d.2C601A14A101395D23CF5F88F2C7EA09.e.36572\")>,\n",
       " <selenium.webdriver.remote.webelement.WebElement (session=\"dd31842e09666be5b7926ce51095045f\", element=\"f.E664CF9590646309800FBB49D9B6C471.d.2C601A14A101395D23CF5F88F2C7EA09.e.36578\")>,\n",
       " <selenium.webdriver.remote.webelement.WebElement (session=\"dd31842e09666be5b7926ce51095045f\", element=\"f.E664CF9590646309800FBB49D9B6C471.d.2C601A14A101395D23CF5F88F2C7EA09.e.36584\")>,\n",
       " <selenium.webdriver.remote.webelement.WebElement (session=\"dd31842e09666be5b7926ce51095045f\", element=\"f.E664CF9590646309800FBB49D9B6C471.d.2C601A14A101395D23CF5F88F2C7EA09.e.36590\")>,\n",
       " <selenium.webdriver.remote.webelement.WebElement (session=\"dd31842e09666be5b7926ce51095045f\", element=\"f.E664CF9590646309800FBB49D9B6C471.d.2C601A14A101395D23CF5F88F2C7EA09.e.36596\")>,\n",
       " <selenium.webdriver.remote.webelement.WebElement (session=\"dd31842e09666be5b7926ce51095045f\", element=\"f.E664CF9590646309800FBB49D9B6C471.d.2C601A14A101395D23CF5F88F2C7EA09.e.38299\")>,\n",
       " <selenium.webdriver.remote.webelement.WebElement (session=\"dd31842e09666be5b7926ce51095045f\", element=\"f.E664CF9590646309800FBB49D9B6C471.d.2C601A14A101395D23CF5F88F2C7EA09.e.38305\")>,\n",
       " <selenium.webdriver.remote.webelement.WebElement (session=\"dd31842e09666be5b7926ce51095045f\", element=\"f.E664CF9590646309800FBB49D9B6C471.d.2C601A14A101395D23CF5F88F2C7EA09.e.38311\")>,\n",
       " <selenium.webdriver.remote.webelement.WebElement (session=\"dd31842e09666be5b7926ce51095045f\", element=\"f.E664CF9590646309800FBB49D9B6C471.d.2C601A14A101395D23CF5F88F2C7EA09.e.38317\")>,\n",
       " <selenium.webdriver.remote.webelement.WebElement (session=\"dd31842e09666be5b7926ce51095045f\", element=\"f.E664CF9590646309800FBB49D9B6C471.d.2C601A14A101395D23CF5F88F2C7EA09.e.38323\")>,\n",
       " <selenium.webdriver.remote.webelement.WebElement (session=\"dd31842e09666be5b7926ce51095045f\", element=\"f.E664CF9590646309800FBB49D9B6C471.d.2C601A14A101395D23CF5F88F2C7EA09.e.38329\")>,\n",
       " <selenium.webdriver.remote.webelement.WebElement (session=\"dd31842e09666be5b7926ce51095045f\", element=\"f.E664CF9590646309800FBB49D9B6C471.d.2C601A14A101395D23CF5F88F2C7EA09.e.38335\")>,\n",
       " <selenium.webdriver.remote.webelement.WebElement (session=\"dd31842e09666be5b7926ce51095045f\", element=\"f.E664CF9590646309800FBB49D9B6C471.d.2C601A14A101395D23CF5F88F2C7EA09.e.38341\")>,\n",
       " <selenium.webdriver.remote.webelement.WebElement (session=\"dd31842e09666be5b7926ce51095045f\", element=\"f.E664CF9590646309800FBB49D9B6C471.d.2C601A14A101395D23CF5F88F2C7EA09.e.38347\")>,\n",
       " <selenium.webdriver.remote.webelement.WebElement (session=\"dd31842e09666be5b7926ce51095045f\", element=\"f.E664CF9590646309800FBB49D9B6C471.d.2C601A14A101395D23CF5F88F2C7EA09.e.38353\")>,\n",
       " <selenium.webdriver.remote.webelement.WebElement (session=\"dd31842e09666be5b7926ce51095045f\", element=\"f.E664CF9590646309800FBB49D9B6C471.d.2C601A14A101395D23CF5F88F2C7EA09.e.38359\")>,\n",
       " <selenium.webdriver.remote.webelement.WebElement (session=\"dd31842e09666be5b7926ce51095045f\", element=\"f.E664CF9590646309800FBB49D9B6C471.d.2C601A14A101395D23CF5F88F2C7EA09.e.38365\")>,\n",
       " <selenium.webdriver.remote.webelement.WebElement (session=\"dd31842e09666be5b7926ce51095045f\", element=\"f.E664CF9590646309800FBB49D9B6C471.d.2C601A14A101395D23CF5F88F2C7EA09.e.38371\")>,\n",
       " <selenium.webdriver.remote.webelement.WebElement (session=\"dd31842e09666be5b7926ce51095045f\", element=\"f.E664CF9590646309800FBB49D9B6C471.d.2C601A14A101395D23CF5F88F2C7EA09.e.38377\")>,\n",
       " <selenium.webdriver.remote.webelement.WebElement (session=\"dd31842e09666be5b7926ce51095045f\", element=\"f.E664CF9590646309800FBB49D9B6C471.d.2C601A14A101395D23CF5F88F2C7EA09.e.38383\")>,\n",
       " <selenium.webdriver.remote.webelement.WebElement (session=\"dd31842e09666be5b7926ce51095045f\", element=\"f.E664CF9590646309800FBB49D9B6C471.d.2C601A14A101395D23CF5F88F2C7EA09.e.38389\")>,\n",
       " <selenium.webdriver.remote.webelement.WebElement (session=\"dd31842e09666be5b7926ce51095045f\", element=\"f.E664CF9590646309800FBB49D9B6C471.d.2C601A14A101395D23CF5F88F2C7EA09.e.38395\")>,\n",
       " <selenium.webdriver.remote.webelement.WebElement (session=\"dd31842e09666be5b7926ce51095045f\", element=\"f.E664CF9590646309800FBB49D9B6C471.d.2C601A14A101395D23CF5F88F2C7EA09.e.38401\")>,\n",
       " <selenium.webdriver.remote.webelement.WebElement (session=\"dd31842e09666be5b7926ce51095045f\", element=\"f.E664CF9590646309800FBB49D9B6C471.d.2C601A14A101395D23CF5F88F2C7EA09.e.38407\")>,\n",
       " <selenium.webdriver.remote.webelement.WebElement (session=\"dd31842e09666be5b7926ce51095045f\", element=\"f.E664CF9590646309800FBB49D9B6C471.d.2C601A14A101395D23CF5F88F2C7EA09.e.38413\")>,\n",
       " <selenium.webdriver.remote.webelement.WebElement (session=\"dd31842e09666be5b7926ce51095045f\", element=\"f.E664CF9590646309800FBB49D9B6C471.d.2C601A14A101395D23CF5F88F2C7EA09.e.40088\")>,\n",
       " <selenium.webdriver.remote.webelement.WebElement (session=\"dd31842e09666be5b7926ce51095045f\", element=\"f.E664CF9590646309800FBB49D9B6C471.d.2C601A14A101395D23CF5F88F2C7EA09.e.40094\")>,\n",
       " <selenium.webdriver.remote.webelement.WebElement (session=\"dd31842e09666be5b7926ce51095045f\", element=\"f.E664CF9590646309800FBB49D9B6C471.d.2C601A14A101395D23CF5F88F2C7EA09.e.40100\")>,\n",
       " <selenium.webdriver.remote.webelement.WebElement (session=\"dd31842e09666be5b7926ce51095045f\", element=\"f.E664CF9590646309800FBB49D9B6C471.d.2C601A14A101395D23CF5F88F2C7EA09.e.40106\")>,\n",
       " <selenium.webdriver.remote.webelement.WebElement (session=\"dd31842e09666be5b7926ce51095045f\", element=\"f.E664CF9590646309800FBB49D9B6C471.d.2C601A14A101395D23CF5F88F2C7EA09.e.40112\")>,\n",
       " <selenium.webdriver.remote.webelement.WebElement (session=\"dd31842e09666be5b7926ce51095045f\", element=\"f.E664CF9590646309800FBB49D9B6C471.d.2C601A14A101395D23CF5F88F2C7EA09.e.40118\")>,\n",
       " <selenium.webdriver.remote.webelement.WebElement (session=\"dd31842e09666be5b7926ce51095045f\", element=\"f.E664CF9590646309800FBB49D9B6C471.d.2C601A14A101395D23CF5F88F2C7EA09.e.40124\")>,\n",
       " <selenium.webdriver.remote.webelement.WebElement (session=\"dd31842e09666be5b7926ce51095045f\", element=\"f.E664CF9590646309800FBB49D9B6C471.d.2C601A14A101395D23CF5F88F2C7EA09.e.40130\")>,\n",
       " <selenium.webdriver.remote.webelement.WebElement (session=\"dd31842e09666be5b7926ce51095045f\", element=\"f.E664CF9590646309800FBB49D9B6C471.d.2C601A14A101395D23CF5F88F2C7EA09.e.40136\")>,\n",
       " <selenium.webdriver.remote.webelement.WebElement (session=\"dd31842e09666be5b7926ce51095045f\", element=\"f.E664CF9590646309800FBB49D9B6C471.d.2C601A14A101395D23CF5F88F2C7EA09.e.40142\")>,\n",
       " <selenium.webdriver.remote.webelement.WebElement (session=\"dd31842e09666be5b7926ce51095045f\", element=\"f.E664CF9590646309800FBB49D9B6C471.d.2C601A14A101395D23CF5F88F2C7EA09.e.40148\")>,\n",
       " <selenium.webdriver.remote.webelement.WebElement (session=\"dd31842e09666be5b7926ce51095045f\", element=\"f.E664CF9590646309800FBB49D9B6C471.d.2C601A14A101395D23CF5F88F2C7EA09.e.40154\")>,\n",
       " <selenium.webdriver.remote.webelement.WebElement (session=\"dd31842e09666be5b7926ce51095045f\", element=\"f.E664CF9590646309800FBB49D9B6C471.d.2C601A14A101395D23CF5F88F2C7EA09.e.40160\")>,\n",
       " <selenium.webdriver.remote.webelement.WebElement (session=\"dd31842e09666be5b7926ce51095045f\", element=\"f.E664CF9590646309800FBB49D9B6C471.d.2C601A14A101395D23CF5F88F2C7EA09.e.40166\")>,\n",
       " <selenium.webdriver.remote.webelement.WebElement (session=\"dd31842e09666be5b7926ce51095045f\", element=\"f.E664CF9590646309800FBB49D9B6C471.d.2C601A14A101395D23CF5F88F2C7EA09.e.40172\")>,\n",
       " <selenium.webdriver.remote.webelement.WebElement (session=\"dd31842e09666be5b7926ce51095045f\", element=\"f.E664CF9590646309800FBB49D9B6C471.d.2C601A14A101395D23CF5F88F2C7EA09.e.40178\")>,\n",
       " <selenium.webdriver.remote.webelement.WebElement (session=\"dd31842e09666be5b7926ce51095045f\", element=\"f.E664CF9590646309800FBB49D9B6C471.d.2C601A14A101395D23CF5F88F2C7EA09.e.40184\")>,\n",
       " <selenium.webdriver.remote.webelement.WebElement (session=\"dd31842e09666be5b7926ce51095045f\", element=\"f.E664CF9590646309800FBB49D9B6C471.d.2C601A14A101395D23CF5F88F2C7EA09.e.40190\")>,\n",
       " <selenium.webdriver.remote.webelement.WebElement (session=\"dd31842e09666be5b7926ce51095045f\", element=\"f.E664CF9590646309800FBB49D9B6C471.d.2C601A14A101395D23CF5F88F2C7EA09.e.40196\")>,\n",
       " <selenium.webdriver.remote.webelement.WebElement (session=\"dd31842e09666be5b7926ce51095045f\", element=\"f.E664CF9590646309800FBB49D9B6C471.d.2C601A14A101395D23CF5F88F2C7EA09.e.40202\")>,\n",
       " <selenium.webdriver.remote.webelement.WebElement (session=\"dd31842e09666be5b7926ce51095045f\", element=\"f.E664CF9590646309800FBB49D9B6C471.d.2C601A14A101395D23CF5F88F2C7EA09.e.41880\")>,\n",
       " <selenium.webdriver.remote.webelement.WebElement (session=\"dd31842e09666be5b7926ce51095045f\", element=\"f.E664CF9590646309800FBB49D9B6C471.d.2C601A14A101395D23CF5F88F2C7EA09.e.41886\")>,\n",
       " <selenium.webdriver.remote.webelement.WebElement (session=\"dd31842e09666be5b7926ce51095045f\", element=\"f.E664CF9590646309800FBB49D9B6C471.d.2C601A14A101395D23CF5F88F2C7EA09.e.41892\")>,\n",
       " <selenium.webdriver.remote.webelement.WebElement (session=\"dd31842e09666be5b7926ce51095045f\", element=\"f.E664CF9590646309800FBB49D9B6C471.d.2C601A14A101395D23CF5F88F2C7EA09.e.41898\")>,\n",
       " <selenium.webdriver.remote.webelement.WebElement (session=\"dd31842e09666be5b7926ce51095045f\", element=\"f.E664CF9590646309800FBB49D9B6C471.d.2C601A14A101395D23CF5F88F2C7EA09.e.41904\")>,\n",
       " <selenium.webdriver.remote.webelement.WebElement (session=\"dd31842e09666be5b7926ce51095045f\", element=\"f.E664CF9590646309800FBB49D9B6C471.d.2C601A14A101395D23CF5F88F2C7EA09.e.41910\")>,\n",
       " <selenium.webdriver.remote.webelement.WebElement (session=\"dd31842e09666be5b7926ce51095045f\", element=\"f.E664CF9590646309800FBB49D9B6C471.d.2C601A14A101395D23CF5F88F2C7EA09.e.41916\")>,\n",
       " <selenium.webdriver.remote.webelement.WebElement (session=\"dd31842e09666be5b7926ce51095045f\", element=\"f.E664CF9590646309800FBB49D9B6C471.d.2C601A14A101395D23CF5F88F2C7EA09.e.41922\")>,\n",
       " <selenium.webdriver.remote.webelement.WebElement (session=\"dd31842e09666be5b7926ce51095045f\", element=\"f.E664CF9590646309800FBB49D9B6C471.d.2C601A14A101395D23CF5F88F2C7EA09.e.41928\")>,\n",
       " <selenium.webdriver.remote.webelement.WebElement (session=\"dd31842e09666be5b7926ce51095045f\", element=\"f.E664CF9590646309800FBB49D9B6C471.d.2C601A14A101395D23CF5F88F2C7EA09.e.41934\")>,\n",
       " <selenium.webdriver.remote.webelement.WebElement (session=\"dd31842e09666be5b7926ce51095045f\", element=\"f.E664CF9590646309800FBB49D9B6C471.d.2C601A14A101395D23CF5F88F2C7EA09.e.41940\")>,\n",
       " <selenium.webdriver.remote.webelement.WebElement (session=\"dd31842e09666be5b7926ce51095045f\", element=\"f.E664CF9590646309800FBB49D9B6C471.d.2C601A14A101395D23CF5F88F2C7EA09.e.41946\")>,\n",
       " <selenium.webdriver.remote.webelement.WebElement (session=\"dd31842e09666be5b7926ce51095045f\", element=\"f.E664CF9590646309800FBB49D9B6C471.d.2C601A14A101395D23CF5F88F2C7EA09.e.41952\")>,\n",
       " <selenium.webdriver.remote.webelement.WebElement (session=\"dd31842e09666be5b7926ce51095045f\", element=\"f.E664CF9590646309800FBB49D9B6C471.d.2C601A14A101395D23CF5F88F2C7EA09.e.41958\")>,\n",
       " <selenium.webdriver.remote.webelement.WebElement (session=\"dd31842e09666be5b7926ce51095045f\", element=\"f.E664CF9590646309800FBB49D9B6C471.d.2C601A14A101395D23CF5F88F2C7EA09.e.41964\")>,\n",
       " <selenium.webdriver.remote.webelement.WebElement (session=\"dd31842e09666be5b7926ce51095045f\", element=\"f.E664CF9590646309800FBB49D9B6C471.d.2C601A14A101395D23CF5F88F2C7EA09.e.41970\")>,\n",
       " <selenium.webdriver.remote.webelement.WebElement (session=\"dd31842e09666be5b7926ce51095045f\", element=\"f.E664CF9590646309800FBB49D9B6C471.d.2C601A14A101395D23CF5F88F2C7EA09.e.41976\")>,\n",
       " <selenium.webdriver.remote.webelement.WebElement (session=\"dd31842e09666be5b7926ce51095045f\", element=\"f.E664CF9590646309800FBB49D9B6C471.d.2C601A14A101395D23CF5F88F2C7EA09.e.41982\")>,\n",
       " <selenium.webdriver.remote.webelement.WebElement (session=\"dd31842e09666be5b7926ce51095045f\", element=\"f.E664CF9590646309800FBB49D9B6C471.d.2C601A14A101395D23CF5F88F2C7EA09.e.41988\")>,\n",
       " <selenium.webdriver.remote.webelement.WebElement (session=\"dd31842e09666be5b7926ce51095045f\", element=\"f.E664CF9590646309800FBB49D9B6C471.d.2C601A14A101395D23CF5F88F2C7EA09.e.41994\")>,\n",
       " <selenium.webdriver.remote.webelement.WebElement (session=\"dd31842e09666be5b7926ce51095045f\", element=\"f.E664CF9590646309800FBB49D9B6C471.d.2C601A14A101395D23CF5F88F2C7EA09.e.43667\")>,\n",
       " <selenium.webdriver.remote.webelement.WebElement (session=\"dd31842e09666be5b7926ce51095045f\", element=\"f.E664CF9590646309800FBB49D9B6C471.d.2C601A14A101395D23CF5F88F2C7EA09.e.43673\")>,\n",
       " <selenium.webdriver.remote.webelement.WebElement (session=\"dd31842e09666be5b7926ce51095045f\", element=\"f.E664CF9590646309800FBB49D9B6C471.d.2C601A14A101395D23CF5F88F2C7EA09.e.43679\")>,\n",
       " <selenium.webdriver.remote.webelement.WebElement (session=\"dd31842e09666be5b7926ce51095045f\", element=\"f.E664CF9590646309800FBB49D9B6C471.d.2C601A14A101395D23CF5F88F2C7EA09.e.43685\")>,\n",
       " <selenium.webdriver.remote.webelement.WebElement (session=\"dd31842e09666be5b7926ce51095045f\", element=\"f.E664CF9590646309800FBB49D9B6C471.d.2C601A14A101395D23CF5F88F2C7EA09.e.43691\")>,\n",
       " <selenium.webdriver.remote.webelement.WebElement (session=\"dd31842e09666be5b7926ce51095045f\", element=\"f.E664CF9590646309800FBB49D9B6C471.d.2C601A14A101395D23CF5F88F2C7EA09.e.43697\")>,\n",
       " <selenium.webdriver.remote.webelement.WebElement (session=\"dd31842e09666be5b7926ce51095045f\", element=\"f.E664CF9590646309800FBB49D9B6C471.d.2C601A14A101395D23CF5F88F2C7EA09.e.43703\")>,\n",
       " <selenium.webdriver.remote.webelement.WebElement (session=\"dd31842e09666be5b7926ce51095045f\", element=\"f.E664CF9590646309800FBB49D9B6C471.d.2C601A14A101395D23CF5F88F2C7EA09.e.43709\")>,\n",
       " <selenium.webdriver.remote.webelement.WebElement (session=\"dd31842e09666be5b7926ce51095045f\", element=\"f.E664CF9590646309800FBB49D9B6C471.d.2C601A14A101395D23CF5F88F2C7EA09.e.43715\")>,\n",
       " <selenium.webdriver.remote.webelement.WebElement (session=\"dd31842e09666be5b7926ce51095045f\", element=\"f.E664CF9590646309800FBB49D9B6C471.d.2C601A14A101395D23CF5F88F2C7EA09.e.43721\")>,\n",
       " <selenium.webdriver.remote.webelement.WebElement (session=\"dd31842e09666be5b7926ce51095045f\", element=\"f.E664CF9590646309800FBB49D9B6C471.d.2C601A14A101395D23CF5F88F2C7EA09.e.43727\")>,\n",
       " <selenium.webdriver.remote.webelement.WebElement (session=\"dd31842e09666be5b7926ce51095045f\", element=\"f.E664CF9590646309800FBB49D9B6C471.d.2C601A14A101395D23CF5F88F2C7EA09.e.43733\")>,\n",
       " <selenium.webdriver.remote.webelement.WebElement (session=\"dd31842e09666be5b7926ce51095045f\", element=\"f.E664CF9590646309800FBB49D9B6C471.d.2C601A14A101395D23CF5F88F2C7EA09.e.43739\")>,\n",
       " <selenium.webdriver.remote.webelement.WebElement (session=\"dd31842e09666be5b7926ce51095045f\", element=\"f.E664CF9590646309800FBB49D9B6C471.d.2C601A14A101395D23CF5F88F2C7EA09.e.43745\")>,\n",
       " <selenium.webdriver.remote.webelement.WebElement (session=\"dd31842e09666be5b7926ce51095045f\", element=\"f.E664CF9590646309800FBB49D9B6C471.d.2C601A14A101395D23CF5F88F2C7EA09.e.43751\")>,\n",
       " <selenium.webdriver.remote.webelement.WebElement (session=\"dd31842e09666be5b7926ce51095045f\", element=\"f.E664CF9590646309800FBB49D9B6C471.d.2C601A14A101395D23CF5F88F2C7EA09.e.43757\")>,\n",
       " <selenium.webdriver.remote.webelement.WebElement (session=\"dd31842e09666be5b7926ce51095045f\", element=\"f.E664CF9590646309800FBB49D9B6C471.d.2C601A14A101395D23CF5F88F2C7EA09.e.43763\")>,\n",
       " <selenium.webdriver.remote.webelement.WebElement (session=\"dd31842e09666be5b7926ce51095045f\", element=\"f.E664CF9590646309800FBB49D9B6C471.d.2C601A14A101395D23CF5F88F2C7EA09.e.43769\")>,\n",
       " <selenium.webdriver.remote.webelement.WebElement (session=\"dd31842e09666be5b7926ce51095045f\", element=\"f.E664CF9590646309800FBB49D9B6C471.d.2C601A14A101395D23CF5F88F2C7EA09.e.43775\")>,\n",
       " <selenium.webdriver.remote.webelement.WebElement (session=\"dd31842e09666be5b7926ce51095045f\", element=\"f.E664CF9590646309800FBB49D9B6C471.d.2C601A14A101395D23CF5F88F2C7EA09.e.43781\")>,\n",
       " <selenium.webdriver.remote.webelement.WebElement (session=\"dd31842e09666be5b7926ce51095045f\", element=\"f.E664CF9590646309800FBB49D9B6C471.d.2C601A14A101395D23CF5F88F2C7EA09.e.45489\")>,\n",
       " <selenium.webdriver.remote.webelement.WebElement (session=\"dd31842e09666be5b7926ce51095045f\", element=\"f.E664CF9590646309800FBB49D9B6C471.d.2C601A14A101395D23CF5F88F2C7EA09.e.45495\")>,\n",
       " <selenium.webdriver.remote.webelement.WebElement (session=\"dd31842e09666be5b7926ce51095045f\", element=\"f.E664CF9590646309800FBB49D9B6C471.d.2C601A14A101395D23CF5F88F2C7EA09.e.45501\")>,\n",
       " <selenium.webdriver.remote.webelement.WebElement (session=\"dd31842e09666be5b7926ce51095045f\", element=\"f.E664CF9590646309800FBB49D9B6C471.d.2C601A14A101395D23CF5F88F2C7EA09.e.45507\")>,\n",
       " <selenium.webdriver.remote.webelement.WebElement (session=\"dd31842e09666be5b7926ce51095045f\", element=\"f.E664CF9590646309800FBB49D9B6C471.d.2C601A14A101395D23CF5F88F2C7EA09.e.45513\")>,\n",
       " <selenium.webdriver.remote.webelement.WebElement (session=\"dd31842e09666be5b7926ce51095045f\", element=\"f.E664CF9590646309800FBB49D9B6C471.d.2C601A14A101395D23CF5F88F2C7EA09.e.45519\")>,\n",
       " <selenium.webdriver.remote.webelement.WebElement (session=\"dd31842e09666be5b7926ce51095045f\", element=\"f.E664CF9590646309800FBB49D9B6C471.d.2C601A14A101395D23CF5F88F2C7EA09.e.45525\")>,\n",
       " <selenium.webdriver.remote.webelement.WebElement (session=\"dd31842e09666be5b7926ce51095045f\", element=\"f.E664CF9590646309800FBB49D9B6C471.d.2C601A14A101395D23CF5F88F2C7EA09.e.45531\")>,\n",
       " <selenium.webdriver.remote.webelement.WebElement (session=\"dd31842e09666be5b7926ce51095045f\", element=\"f.E664CF9590646309800FBB49D9B6C471.d.2C601A14A101395D23CF5F88F2C7EA09.e.45537\")>,\n",
       " <selenium.webdriver.remote.webelement.WebElement (session=\"dd31842e09666be5b7926ce51095045f\", element=\"f.E664CF9590646309800FBB49D9B6C471.d.2C601A14A101395D23CF5F88F2C7EA09.e.45543\")>,\n",
       " <selenium.webdriver.remote.webelement.WebElement (session=\"dd31842e09666be5b7926ce51095045f\", element=\"f.E664CF9590646309800FBB49D9B6C471.d.2C601A14A101395D23CF5F88F2C7EA09.e.45549\")>,\n",
       " <selenium.webdriver.remote.webelement.WebElement (session=\"dd31842e09666be5b7926ce51095045f\", element=\"f.E664CF9590646309800FBB49D9B6C471.d.2C601A14A101395D23CF5F88F2C7EA09.e.45555\")>,\n",
       " <selenium.webdriver.remote.webelement.WebElement (session=\"dd31842e09666be5b7926ce51095045f\", element=\"f.E664CF9590646309800FBB49D9B6C471.d.2C601A14A101395D23CF5F88F2C7EA09.e.45561\")>,\n",
       " <selenium.webdriver.remote.webelement.WebElement (session=\"dd31842e09666be5b7926ce51095045f\", element=\"f.E664CF9590646309800FBB49D9B6C471.d.2C601A14A101395D23CF5F88F2C7EA09.e.45567\")>,\n",
       " <selenium.webdriver.remote.webelement.WebElement (session=\"dd31842e09666be5b7926ce51095045f\", element=\"f.E664CF9590646309800FBB49D9B6C471.d.2C601A14A101395D23CF5F88F2C7EA09.e.45573\")>,\n",
       " <selenium.webdriver.remote.webelement.WebElement (session=\"dd31842e09666be5b7926ce51095045f\", element=\"f.E664CF9590646309800FBB49D9B6C471.d.2C601A14A101395D23CF5F88F2C7EA09.e.45579\")>,\n",
       " <selenium.webdriver.remote.webelement.WebElement (session=\"dd31842e09666be5b7926ce51095045f\", element=\"f.E664CF9590646309800FBB49D9B6C471.d.2C601A14A101395D23CF5F88F2C7EA09.e.45585\")>,\n",
       " <selenium.webdriver.remote.webelement.WebElement (session=\"dd31842e09666be5b7926ce51095045f\", element=\"f.E664CF9590646309800FBB49D9B6C471.d.2C601A14A101395D23CF5F88F2C7EA09.e.45591\")>,\n",
       " <selenium.webdriver.remote.webelement.WebElement (session=\"dd31842e09666be5b7926ce51095045f\", element=\"f.E664CF9590646309800FBB49D9B6C471.d.2C601A14A101395D23CF5F88F2C7EA09.e.45597\")>,\n",
       " <selenium.webdriver.remote.webelement.WebElement (session=\"dd31842e09666be5b7926ce51095045f\", element=\"f.E664CF9590646309800FBB49D9B6C471.d.2C601A14A101395D23CF5F88F2C7EA09.e.45603\")>,\n",
       " <selenium.webdriver.remote.webelement.WebElement (session=\"dd31842e09666be5b7926ce51095045f\", element=\"f.E664CF9590646309800FBB49D9B6C471.d.2C601A14A101395D23CF5F88F2C7EA09.e.47301\")>,\n",
       " <selenium.webdriver.remote.webelement.WebElement (session=\"dd31842e09666be5b7926ce51095045f\", element=\"f.E664CF9590646309800FBB49D9B6C471.d.2C601A14A101395D23CF5F88F2C7EA09.e.47307\")>,\n",
       " <selenium.webdriver.remote.webelement.WebElement (session=\"dd31842e09666be5b7926ce51095045f\", element=\"f.E664CF9590646309800FBB49D9B6C471.d.2C601A14A101395D23CF5F88F2C7EA09.e.47313\")>,\n",
       " <selenium.webdriver.remote.webelement.WebElement (session=\"dd31842e09666be5b7926ce51095045f\", element=\"f.E664CF9590646309800FBB49D9B6C471.d.2C601A14A101395D23CF5F88F2C7EA09.e.47319\")>,\n",
       " <selenium.webdriver.remote.webelement.WebElement (session=\"dd31842e09666be5b7926ce51095045f\", element=\"f.E664CF9590646309800FBB49D9B6C471.d.2C601A14A101395D23CF5F88F2C7EA09.e.47325\")>,\n",
       " <selenium.webdriver.remote.webelement.WebElement (session=\"dd31842e09666be5b7926ce51095045f\", element=\"f.E664CF9590646309800FBB49D9B6C471.d.2C601A14A101395D23CF5F88F2C7EA09.e.47331\")>,\n",
       " <selenium.webdriver.remote.webelement.WebElement (session=\"dd31842e09666be5b7926ce51095045f\", element=\"f.E664CF9590646309800FBB49D9B6C471.d.2C601A14A101395D23CF5F88F2C7EA09.e.47337\")>,\n",
       " <selenium.webdriver.remote.webelement.WebElement (session=\"dd31842e09666be5b7926ce51095045f\", element=\"f.E664CF9590646309800FBB49D9B6C471.d.2C601A14A101395D23CF5F88F2C7EA09.e.47343\")>,\n",
       " <selenium.webdriver.remote.webelement.WebElement (session=\"dd31842e09666be5b7926ce51095045f\", element=\"f.E664CF9590646309800FBB49D9B6C471.d.2C601A14A101395D23CF5F88F2C7EA09.e.47349\")>,\n",
       " <selenium.webdriver.remote.webelement.WebElement (session=\"dd31842e09666be5b7926ce51095045f\", element=\"f.E664CF9590646309800FBB49D9B6C471.d.2C601A14A101395D23CF5F88F2C7EA09.e.47355\")>,\n",
       " <selenium.webdriver.remote.webelement.WebElement (session=\"dd31842e09666be5b7926ce51095045f\", element=\"f.E664CF9590646309800FBB49D9B6C471.d.2C601A14A101395D23CF5F88F2C7EA09.e.47361\")>,\n",
       " <selenium.webdriver.remote.webelement.WebElement (session=\"dd31842e09666be5b7926ce51095045f\", element=\"f.E664CF9590646309800FBB49D9B6C471.d.2C601A14A101395D23CF5F88F2C7EA09.e.47367\")>,\n",
       " <selenium.webdriver.remote.webelement.WebElement (session=\"dd31842e09666be5b7926ce51095045f\", element=\"f.E664CF9590646309800FBB49D9B6C471.d.2C601A14A101395D23CF5F88F2C7EA09.e.47373\")>,\n",
       " <selenium.webdriver.remote.webelement.WebElement (session=\"dd31842e09666be5b7926ce51095045f\", element=\"f.E664CF9590646309800FBB49D9B6C471.d.2C601A14A101395D23CF5F88F2C7EA09.e.47379\")>,\n",
       " <selenium.webdriver.remote.webelement.WebElement (session=\"dd31842e09666be5b7926ce51095045f\", element=\"f.E664CF9590646309800FBB49D9B6C471.d.2C601A14A101395D23CF5F88F2C7EA09.e.47385\")>,\n",
       " <selenium.webdriver.remote.webelement.WebElement (session=\"dd31842e09666be5b7926ce51095045f\", element=\"f.E664CF9590646309800FBB49D9B6C471.d.2C601A14A101395D23CF5F88F2C7EA09.e.47391\")>,\n",
       " <selenium.webdriver.remote.webelement.WebElement (session=\"dd31842e09666be5b7926ce51095045f\", element=\"f.E664CF9590646309800FBB49D9B6C471.d.2C601A14A101395D23CF5F88F2C7EA09.e.47397\")>,\n",
       " <selenium.webdriver.remote.webelement.WebElement (session=\"dd31842e09666be5b7926ce51095045f\", element=\"f.E664CF9590646309800FBB49D9B6C471.d.2C601A14A101395D23CF5F88F2C7EA09.e.47403\")>,\n",
       " <selenium.webdriver.remote.webelement.WebElement (session=\"dd31842e09666be5b7926ce51095045f\", element=\"f.E664CF9590646309800FBB49D9B6C471.d.2C601A14A101395D23CF5F88F2C7EA09.e.47409\")>,\n",
       " <selenium.webdriver.remote.webelement.WebElement (session=\"dd31842e09666be5b7926ce51095045f\", element=\"f.E664CF9590646309800FBB49D9B6C471.d.2C601A14A101395D23CF5F88F2C7EA09.e.47415\")>]"
      ]
     },
     "execution_count": 39,
     "metadata": {},
     "output_type": "execute_result"
    }
   ],
   "source": [
    "reviews = driver.find_elements(By.CSS_SELECTOR, 'div.RHo1pe')\n",
    "reviews"
   ]
  },
  {
   "cell_type": "code",
   "execution_count": 40,
   "id": "09f49724-2762-4442-84d1-0b2fdabd2af0",
   "metadata": {
    "tags": []
   },
   "outputs": [
    {
     "data": {
      "text/plain": [
       "460"
      ]
     },
     "execution_count": 40,
     "metadata": {},
     "output_type": "execute_result"
    }
   ],
   "source": [
    "len(reviews)"
   ]
  },
  {
   "cell_type": "code",
   "execution_count": 46,
   "id": "53977b04-72ab-48a9-bb5f-aa000b16ff89",
   "metadata": {
    "collapsed": true,
    "jupyter": {
     "outputs_hidden": true
    },
    "tags": []
   },
   "outputs": [
    {
     "name": "stdout",
     "output_type": "stream",
     "text": [
      "{'text': '많고 많은 필터어플들이 개성은 별로 없는편인데 피크닉은 독보적인 필터들이 많아서 계속 찾게되네요 ㅎㅎ 날씨 흐린날 사진찍을때 정말 최고에요😍 다만 건의드릴게있어요! 1.앱 실행시에 바로 카메라로 넘어가도록 하는 설정이 있으면 더 좋을것같아요 2.청바지 입을경우에 하늘로 인식하는경우가 있어서 난감할때가 있어요! 이부분은 개선이 필요해보여요 좋은앱 개발해주셔서 항상 감사합니다😍 사는동안 많이 버시고 행복하세요 ;)', 'star': 5, 'date': '2019년 4월 14일'}\n",
      "{'text': '진짜 이 앱은 남이 알까 무서울 정도로 좋은 앱이네요ㅠㅜㅜ 사진이 세상 예쁘게 되고 너무 깔끔하고 좋아요.....ㅠ 근데 딱 하나 셔터 속도가 좀 느리고, 사진을 한 번 찍고 나면 촬영버튼이 흐릿해져서 다시 나타나지를 않아서(촬영불가) 홈화면으로 한 번 나갔다 들어와야 합니다.... 그래서 여러 장 찍기가 너무 불편해요! 이 점만 고쳐주시면 1등앱일 거 같아요!♡!', 'star': 5, 'date': '2019년 6월 1일'}\n",
      "{'text': '일단 정말 잘 사용하고 있구요!감사합니다! 다만 최근 AI기능 on off가 있어서 off로해놔도 어플 껐다켜면 다시 on으로 되어있네요ㅠㅠ 공부인증용으로 무음카메라가 필요해서 쓰는건데 카메라 켜면 ai기능이 자동으로 작동돼서 진동이 지익지익 울리는게 조금 불편해요. 어플 다시 껐다 켜도 한번off로 설정하면 제가 다시 on으로 돌리기전엔 안켜지도록 해주실수있나요??', 'star': 5, 'date': '2019년 2월 26일'}\n",
      "{'text': '사진 화질도 아주좋고 쓸만하네요 하지만 사람들이 더 다양하게 커스텀 할수있는 기능을 추가 했으면 해요 예를 하나 들어볼게요 , 밝기조절을 통해 직접 바꾸거나 채도를 선택해 흑백이나 사진의 진하기를 해주셨으면해요 이등등 여러가지 커스텀이 있으면 좋을것같아요', 'star': 5, 'date': '2024년 1월 8일'}\n",
      "{'text': '배경이 자연스럽게 들어가 흐린날에도 사진찍기 좋고 필터 하나하나 색감도 너무 마음에 들어서 실내에서도 피크닉을 자주 써요! 한가지 아쉬운 점은 저장 전에 미리보기가 불가능하다는 거ㅠㅠ 저장 후에 사진을 볼 수 있어 흔들렸거나 마음에 안들면 삭제하고 다시 찍어야 해서 조금 불편해요... 저장 전 미리보기 기능 추가해주시면 정말 감사하겠습니다 :) 좋은 앱 만들어주셔서 감사해요💕', 'star': 5, 'date': '2019년 2월 4일'}\n",
      "{'text': '저 웬만하면 리뷰 잘 안 쓰는데 이 앱 너무 좋아서 쓰러 왔어요ㅠㅠㅠ♡♡ 평소에 사진 찍는 걸 굉장히 좋아하는데 색감이나 하늘 배경이 아쉬울 때가 있었거든요!! 근데 피크닉 다운받고 나서 그런 고민 싹 사라졌어요!! 하늘 인식도 잘하고 필터 씌워도 자연스럽고 너무 예뻐요... 기본캠으로 찍고 후필터 씌우니 화질도 안 깨지고 좋네요ㅎㅎ 사진 찍고 필터 씌워서 여러 분위기의 하늘 표현하는 재미가 쏠쏠하네요 히히 개발자님들 너무 감사하고 앞으로도 예쁜 필터 더 많이 만들어주세요~~♡♡ (한 가지 아쉬운 점은 밤하늘은 인식을 못하더라구요... 밤하늘에 별밤 필터 씌우고 싶은데ㅠㅠ 이것만 개선되면 정말 완벽할 것 같아요!ㅎㅎ)', 'star': 5, 'date': '2019년 1월 3일'}\n",
      "{'text': '마음에 쏙 드는 앱입니다ㅎㅎ 카메라 필터앱은 보통 인물 위주로 되어 있다보니 항상 아쉬웠는데... 풍경 사진을 예쁘게 만들어주는 피크닉 정말 유니크하고 많은 사람들이 알았으면 좋겠어요ㅎㅎ 다만 한가지 아쉬운 점은 기본 카메라로 찍고 후보정을 했을 때 위치 정보는 저장이 되는데 시간 정보가 저장이 안되는 게 조금 아쉽네요... 그 외에는 전부 좋아요❤️ 앞으로 추가될 필터도 기대하겠습니다~~~🥰', 'star': 5, 'date': '2022년 7월 28일'}\n",
      "{'text': '필터가 다양하고 너무 예쁘고 좋아요! 그런데 플래쉬를 사용할 때 약간 문제가 있어요 ㅠ /사진 찍을 때 손, 핸드폰 그림자가 나오는 게 싫어서 플래쉬를 키고 찍었는데 사진을 딱 찍을 때 플래쉬가 깜빡 하면서 오히려 그림자가 더 심하게 나오고 어둡고 플래쉬가 소용이 없는 것 같아요 ㅠ 예전부터 너무 잘 사용하고 있는 어플인데 최근에야 플래쉬를 써봐서 이런 문제가 있는 줄은 몰랐네요 ㅠ', 'star': 5, 'date': '2021년 8월 23일'}\n",
      "{'text': 'ESTsoft라니!! 알집 회사 맞죠!! 대박 이 어플 너무 좋아요👍👍 최고예요ㅎㅎ 앞으로 핸드폰 어플도 좋은 프로그램 많이 만들어 주세요!! 다만 부분적으로 선택 영역을 뺄 수 있는 기능이 있으면 좋겠어요. 버스 색이 파란색이라 하늘이랑 같이 색이 변합니다...ㅎㅎ 좋은 어플 만들어주셔서 감사합니다~ 이런 어플이 무료라니 개발자분들 만수무강하세요ㅎㅎㅎㅎㅎ', 'star': 5, 'date': '2021년 1월 23일'}\n",
      "{'text': '어플사용하면서 리뷰달아본적이 없는데 처음으로 남깁니다. 너무너무 좋은것 같아요. 물론 전문적인 보정작업은 컴퓨터로 다 만지긴 하지만, 이렇게 핸드폰으로도 간단하게 어색하지않고 자연스럽고 이쁘게 보정되는 다양한 필터를 쓸수있다는게 너무 놀랍습니다. 가장 좋은점은 필터의 다양한 색감과 하늘합성기능, 광고없이 편허게 쓸수있다는점 인것 겉네요! 폰카메라어플은 여태까지 이것저것 써보고 모두 삭제했는데 이 어플은 두고두고 계속 쓰게될것 같습니다!', 'star': 5, 'date': '2021년 5월 18일'}\n",
      "{'text': '설치하고 잠깐 써보면서 리뷰남겨봅니다. 일반적인 색감이나 명암만 개선하는 어플이랑 다르게 다양하고 예쁜 필터가 많아 사진느낌을 완전히 바꿀수있어 신기하네요. 다만 간혹 하늘외의 일부분이 하늘과 같이 인식되어 필터되는 경우는 있지만 큰문제는 아니라 잘 쓸수있겠어요~', 'star': 5, 'date': '2019년 8월 31일'}\n",
      "{'text': \"날씨때문에 망한 여행사진을 환하게 수정할 수 있어서 애용하고있어요❤️ 진짜 너무너무 완벽한데 딱 하나 건의드리고 싶은게 있다면 흰 옷, 흰 운동화 등 하늘로 인식해서 인물까지 필터를 입혀버리는 경우가 가끔 있어요. 그 부분을 '지우개'방식으로 해서 필터인식이 불필요한 부분을 사용자가 제거할 수 있게끔 개선된다면 더욱 좋을 것 같아요! 좋은 어플 만들어주셔서 감사합니다❤️\", 'star': 5, 'date': '2020년 9월 22일'}\n",
      "{'text': '안녕하세요 이 맵의 좋은점과 아쉬운점을 말하겠습니다 일단 아쉬운점은 필터가 많이 없다는데 옥의 티구요 좋은점은 저장하는 방법도 정말 쉽구 필터 조정도 쉽게 할수 있습니다 그리고 필터 이름도 통통 튀고 이쁘고 사진 종류별로 나눠 볼수도 있고 전체로 볼수 있어서 정말 개인적으로 좋은 앱 입니다 다만 필터가 조금 부족하다고 생각해서 힘드시겠지만 필터를 조금만 더 추가 해주시면 감사하겠습니다 그럼 긴글 읽어주셔서 감사합니다 꼭! 깔아보세요!!', 'star': 5, 'date': '2021년 10월 19일'}\n",
      "{'text': '사진 어플로는 아주좋습니다만. 특별한 경우가 아니면 사진만되는 어플은 잘안쓰고 동영상도 찍을수있는 어플을 선택할거 같네요. 그리고 사진기능하고 갤러리기능하고 분리하셔서 독립적으로 선택해서 쓸수있다면 더 유용하게 쓰일거같다는 공짜 이용자의 생각입니다', 'star': 5, 'date': '2019년 7월 18일'}\n",
      "{'text': '안뉭하세요 페이스X에서 인생샷을 남긴다길래 이쁜 하늘 사진에 무지개 한 조각이라 필터를 올려두니 너무너무 이쁩니다. 그 외 다른 필터들도 유용하게 사용하고 있습니다. 근데 사진저장이 잘 안돼더군요.. 제 기종은 note8입니다 그래도 필터가 너무너무 이쁘고 사진배경 분위기가 180° 달라져서 포커페이스가 불가능할 정도입니다.. 이맵 취향저걱입니다❤ 원래는 리뷰를 잘 안다는데 너무 놀라서 누구보다 빠르게 칩니다. 강추🥰', 'star': 5, 'date': '2020년 12월 31일'}\n",
      "{'text': '진짜 감탄 그자체입니다.. 딴카메라 설치하려고왔다가 인생카메라 가지고 돌아네요 ㅠㅠ 그카메라 지우고 이것만 평생쓰게생겼습니다 (*꒦ິ꒳꒦ີ) 하늘만 뿅하고 바뀌는게 아니라 분위기까지 바꿔줘서 너무 좋고 구름 추가된것도 좋은데 무엇보다 구름이랑 배경필터 각각 조절 가능하다는게 너무 좋았어요! 필터도 다양하고 너무 예쁘고요 ㅠㅠ 하늘 말고도 그냥 평소 카메라로 써도 너무 예뻐요 (◍ㅠᴗㅠ◍♥) 다만 아쉬운점 꼽자면은 메인화면에서처럼 다 자연스럽지는 않더라구요.. 아무것도 티안나는 필터도 한두개 있었고.. 그리고 카메라 촬영버튼 누르면 가끔 버퍼링되는데 한번 버퍼링걸리면 안끝나더라구요 재접속 해야돼요 ㅠㅠ 어쨌든 진짜 색감도 인생카메라입니다 ㅜㅜ 칙칙항 사진도 바꿔줘요 ㅠㅜ 사진 찍은거 슥슥 해보고 진짜 심정지 올뻔했습니다', 'star': 5, 'date': '2020년 7월 14일'}\n",
      "{'text': '제품사진을 찍을 화질좋은 필터앱을 찾다 평점이 제일 높길래 골랐는데 너무 예쁘네요!! 다만 딱 한 가지 건의 사항이 있다면 저는 찍힌 사진을 확인 후 저장하는 편이라 찍고 바로 자동 저장이 아닌, 찍은 걸 보여주면서 저장버튼이 활성화 됐으면 좋겠어요!!ㅠㅜ', 'star': 5, 'date': '2023년 2월 1일'}\n",
      "{'text': '너무 좋습니다👍👍 다만 하나 단점은 화질이 살짝 안좋게 저장이 됩니다 ㅜㅜ 하늘은 정말 이쁘게 적용되서 찍히는데 나중에 갤러리와서 확인해보면 찍을때처럼 똑같이 선명하게 나오지 않더라구요 ㅜㅜ 그것만 고쳐주세요!! 아 그리고 요번에 나온 새로운필터 너무 이쁩니다❤❤', 'star': 5, 'date': '2019년 1월 6일'}\n",
      "{'text': '필터도 너무 예쁘고 사진도 잘 나와서 계속 사용하고 있었는데 업데이트 이후론지 필터 조정기능이 사라졌네요 다시 복구해주시면 안될까요ㅠㅠ 하늘필터 적용할때마다 사진상단이 다 날라가서 조절하면서 보정하고있었는데 그게 없어지니까 필터를 입힐때마다 다 너무 뿌옇거나 까맣게만 나와서 사진이 부자연스럽게 되는거같아요ㅠㅠ', 'star': 5, 'date': '2018년 11월 8일'}\n",
      "{'text': '사진찍기를 좋아하는 학생입니다!! 여러가지 필터어플들을 많이 로드하고, 또 사용해봤는데 피크닉 만큼 예쁜 색감의 어플을 없는 것 같아요😍 진짜 이 어플 사용하면서 인생샷도 많이 찍었고, 친구들한테도 추천했어요!! 이 어플 쓰시면 정말 좋아요💜 강추드립니다👍🏻👍🏻', 'star': 5, 'date': '2019년 4월 28일'}\n",
      "{'text': '예전부터 사용하던 앱인데 너무 깔끔하게 잘 찍히고 하늘 사진이나 풍경 찍을 때는 항상 이 앱으로 들어와서 찍습니당..🫠 그만큼 이 앱에 관한 신뢰도가 높고!! 제가 사진을 잘 못 찍는데 이 앱은 항상 잘 나와서 sns에 올려요!!😆 앱 자체가 너무 잘 되어있고 딱딱 나뉘어 있어 하고싶은 필터 찾기에도 쉽네용☺️ 지금 배경이 필터와 잘 맞는지도 알려주기까지! 앱이 너무 좋아서 저 혼자 알고싶어 친구들한테도 얘기 안하려고 했는데 이 앱이 승승장구 하며 인기가 많아 졌음 좋겠어서 다 얘기하고 다녔네요🤭 너무 맘에들고 날씨 안이쁘면 사진 잘 못 찍는 사람에겐 천국이나 다름없어요.!! 앞으로도 계속 쓸 거 같네요☺️', 'star': 5, 'date': '2023년 4월 20일'}\n",
      "{'text': '처음 써보는 어플인데 정말 좋은것 같네요. 기존 DSLR로 찍은 사진에 적용해보니 여해시 시간을 못맞추어서 찍지 못했던 사진을 얻을수 있네요. 정말 추천할만한 어플입니다. 다만 보라색이나 흰색을 너무 흰색으로 인식하는 부분이 조금 아쉽네요. 잘쓰겠습니다.', 'star': 5, 'date': '2020년 11월 9일'}\n",
      "{'text': '다른 어플로 필터를 씌우면 화질이 깨지거나 하는데 이건 화질변형같은것도 없고 이 어플을 만드신 아이디어가 정말 좋은거같아요👍 개인적으로 밤하늘이랑 노을을 애용하고있어요 진심 인생샷 나옵니다... ㅠㅠㅠ 너무 좋아요 주변에서 물어보길래 홍보 많이 하고있어요 ㅋㅋㅋㅋ 정말 좋습니다 이렇게 마음에 드는 카메라 어플은 정말 오랜만이에요 좋은 어플 만들어주셔서 정말 감사해요 제작자님❤', 'star': 5, 'date': '2018년 9월 17일'}\n",
      "{'text': '안녕하세영 오늘 이 앱 처음 써본 유저인데용 이건 가장 먼저 칭찬해야 할께 광고가 안나와요! 다른 것들은 광고가 엄청 나오는데 이건 안나와요!! 그다음에 칭찬해야 할것은용 종류가 엄청나게 많아요 순간 엄청 놀랐어요 종류가 굉장히 많아서.놀랐구욜,다음은요 너무 이뻐효!! 광고 안 나오지,종류 많지,겁나 이쁘지 이 앱 적극추천 합니다!!♡', 'star': 5, 'date': '2021년 4월 24일'}\n",
      "{'text': '잘 쓰고 있는데, 선택영역 지우개 기능이 있었으면 좋겠습니다! 가끔 다른 파란 부분 (청바지 등)이 하늘과 함께 선택되어 그 부분에도 구름이 보이게 되는 경우가 있는데, 선택영역을 부분적으로 지울 수 있었으면 좋겠어요!', 'star': 5, 'date': '2019년 4월 28일'}\n",
      "{'text': '너무너무 감편한 조작 좋아요 .하지만 선택영역만 효과주기라던지(하늘만 선택), 각영역 다른효과주기가 가능해졋으면 좋겟습니다. 하늘은 이쁜데 옷색상이나 얼굴색이 이상한경우가 있어서 안타깝네요 ㅠㅠ🙏😭', 'star': 5, 'date': '2019년 7월 6일'}\n",
      "{'text': '필터도 많이 없는편인데 색이 다 날라가네요.. 너무 어둡거나 너무 밝거나 명암이 너무 들어가거나 색채가 많이 날라가거나 거의 배경 위주인것 같아요 인물엔 부적합.. 조절해도 배경과 인물이 있으면 중간조절이 없어요..', 'star': 5, 'date': '2021년 3월 30일'}\n",
      "{'text': '카메라 어떻게 찍는건가요ㅠㅠ 필터보정하고 화면 터치해도 찍혀지질 않습니다. 제폰이 삼성 폴드3입니다. 넓게 펼친 상태에선 카메라 버튼이 아예 없고, 접은 상태에서만 버튼이 보이더라구요ㅜㅜ', 'star': 5, 'date': '2024년 4월 11일'}\n",
      "{'text': '적용 정도를 자유롭게 조절해서 자연스러운 하늘을 만들 수 있어요! 덕분에 흐린날 찍은 아쉬운 사진을 잘 살려서 너무 좋아요~♡', 'star': 5, 'date': '2024년 4월 2일'}\n",
      "{'text': '안녕하세요 사용정보등에 접근권한 전부 다 허용했는데ㅠㅠ 갤러리 선택하구 앨범 선택해서 기존에 찍은 사진 편집하고 싶은데 아무리 해당앨범 터치를 해도 활성화가 안돼요ㅠㅠ 도와주세요ㅠ', 'star': 5, 'date': '2024년 3월 13일'}\n",
      "{'text': '정말 좋아요! 사진을 쉽게 저장할수 있는것도 좋고요! 하나하나 답글 달아주시는거 보고 엄청 대단하다 싶었네요! 요즘 겨울이 지나가는 시기라 그런지 봄 사진을 찾아서 보정하려는데 정말 쉽고 예쁜 사진으로 보정할 수 있어서 좋아요! (산택장애인데 사진들이 다 예뻐서 다 저장하다보니 벌써 5장... 1장을 5장으로 만들어내는 기적)', 'star': 5, 'date': '2021년 3월 12일'}\n",
      "{'text': '구름효과와 산뜻한필터가 너무 맘에듭니다 잘나온 사진을 화보처럼꾸며주니 너무 좋아요! 강추!', 'star': 5, 'date': '2024년 3월 31일'}\n",
      "{'text': '대충 찍고 보정하면 끝. 사람을 매우 게으르게 만드는 어플이네요.', 'star': 5, 'date': '2024년 5월 26일'}\n",
      "{'text': '너무좋은 앱입니다 사진을 아주 멋지고 예쁘게 편집할수 있어요~', 'star': 5, 'date': '2024년 4월 8일'}\n",
      "{'text': '필터 하나하나 빠짐없이 다 색감도 너무 예쁘고 디테일도 너무 좋아요ㅠㅠ 풍경에도, 하늘에도, 심지어 그림에 넣어도 다 예뻐요! 필터 하나만으로 무드가 추가된 느낌.....ㅋㅋㅋ 진짜 제 인생 필터 어플입니다ㅠㅠ 첫눈에 반했어요ㅠㅠ! 좋은 어플 너무너무 감사드려요💜', 'star': 5, 'date': '2020년 7월 8일'}\n",
      "{'text': '배경위주로 바뀌는 어플이 별로 없었는데 광고도 없고 색감도 너무 좋아요 😀 그런데 생각보다 할수있는 필터가 많이 없어서 조금 추가 해주셨으면 좋겠네요... 하늘,풍경 위주로 찍는분들한테 강추합니다 ㅎㅎ😎', 'star': 5, 'date': '2022년 8월 13일'}\n",
      "{'text': '진짜 신기한 앱이 있네요 맨날 여행갈때마다 비 몰고다니는 사람한테 필수. 구름도 엄청 자연스럽고 우충충 빛도 진짜 자연스럽게 색감넣어서 보정 잘 해줘요. 밝기랑 색상으로 편집할때 느끼는 한계를 뛰어넘는... 폰에 있는 우충충사진 다 보정할거에여 꿀잼', 'star': 5, 'date': '2020년 7월 29일'}\n",
      "{'text': '오류인지 남 몰래 패치한 내용인지는 잘 모르겠으나 과거에는 사진을 찍을때 무음이라서 좋았는데 핸드폰을 교체한 뒤에 다시 사용할려니 소리가 나네요.. 어플 설정에 있는 소리 설정을 꺼놔도, 켜놔도 똑같은데 왜 놔두셨나요 그냥 없애지..', 'star': 5, 'date': '2020년 11월 30일'}\n",
      "{'text': '리뷰 정말 안 쓰는 편인데 이건 정말 꼭 까세요 콜라주 만드려고 앱 구경하다가 이미 제 폰에 깔려있길래 이게 뭐지하면서 들어갔다가 필터 중독돼서 똑같은 사진을 필터별로 저장했네요ㅋㅋㅋㅋㅋㅋ 이거 진짜 중독성 쩔구요 너무 마음에 들어요 앱 만들어주셔서 정말 감사드려요ㅜㅠㅠ 앞으로도 잘 써서 인스타 풍경 사진 자주 업로드할게요 힘내세용!', 'star': 5, 'date': '2019년 1월 13일'}\n",
      "{'text': '별점 왜 5개 뿐이죠. 별점을 더 남기고 싶을 만큼 정말정말 애정하는 앱이랍니다:) 여행갔을 때 찍었던 하늘이 같이 나온 사진들 보정할 때마다 정말 감사한 마음으로 맨 첫 보정때마다 사용하고 있을 정도로.. 하늘 나온 사진 찍는걸 좋아하는 지인이 생긴다면 보정이나 필터 앱으론 제일 먼저 추천하고 싶은 앱이에요. 적게 일하고 많이 버시길 바래요:)', 'star': 5, 'date': '2021년 7월 26일'}\n",
      "{'text': \"색감이 너무 예쁘네요😊 여행용 사진 앱으로 요만한게 없는것 같습니당 엄지척척👍🏻 개발자님 궁금한게 있는데 앱을 껏다가 나중에 다시 실행하면 항상 '달콤한 크리스마스' 필터가 처음에 나오는데요 제가 이전에 선택,정도를 조절해 놓은 필터가 맨먼저 나오게 할수는 없나요?(자주쓰는건 정해져 있어서요) 혹시 방법이 있는데 저만 모르는 것인지 궁금합니당 ㅎㅎ 유용한앱 만들어 주셔서 감사해요^^\", 'star': 5, 'date': '2019년 1월 27일'}\n",
      "{'text': '구름이 없는 날이나 흐린 날도 예쁜 하늘로 바꿀 수 있어서 좋아요. 하지만 가끔 파란색 지붕이나 하늘색 옷 같은 게 하늘로 인식돼서 구름 필터가 씌워지는 것이 치명적인 문제점이에요 ㅠㅠ 지우개 기능으로 하늘이 아닌데 하늘로 잘못 인식된 부분의 필터 적용을 지울 수 있으면 완벽할 것 같아요! 2년 전에 이런 리뷰가 있었는데 반영이 안되었네요.. 꼭 업데이트가 필요한 기능이라고 생각합니다.', 'star': 5, 'date': '2022년 9월 8일'}\n",
      "{'text': '기본카메라로 촬영한 사진 피크닉어플에서 편집할려고하면 \"지원하지않는 이미지\"라고 뜨네요. 기본갤러리-편집에서 피크닉선택시 수정은 되는데.. 이점만 보완해주시면 감사하겠습니다. 혹시 광고제거 유료버전은 따로 계획없으신가요?', 'star': 5, 'date': '2021년 9월 26일'}\n",
      "{'text': '피크닉 앱을 잘 쓰고있는 유저입니다! 정말 다 좋지만 한가지 아쉬운 점이 있습니다... 필터가 많아서 제가 즐겨쓰는 필터를 찾을려면 오래걸리거든요.... 그래서 즐겨찾기 기능을 만들어 주셨으면 합니다!! 만들어주시면 정말 감사하겠습니다( ˘ ³˘)♥', 'star': 5, 'date': '2019년 5월 6일'}\n",
      "{'text': '필터는 개인적으로 씌우는 걸 좋아해서 쓰진 않지만, 구름이나 색갈 등 배경을 바꿀 수 있는 건 참 좋은 것 같아요!! 다만 약간 아쉬운 건 바다를 찍을 때 하늘과 바다를 구분을 잘 하지 못하더라구요!! 그 부분은 개선해 주셨으면 합니다.', 'star': 5, 'date': '2020년 4월 20일'}\n",
      "{'text': '우와앙 제 최애 카메라 앱 ㅠㅠ 너무 좋아요 ㅠㅠ 보통 앱들은 거의다 유료고 필터도 돈같은거 써야 할 수 있는건데 이건 다 무료라 너무 좋은데다가 이게 필터에 어울리는지 이 사진이 피크닉 과 어울리는지를 선택해 줘서 너무 좋고 필터도 예쁜거 너무 많아서 하늘 사진에 필터예쁜거 껴서 카카오톡 프사로 사용중이에요! 진짜 너무 예뻐서 사진 찍는 내내 행복합니다..', 'star': 5, 'date': '2019년 4월 7일'}\n",
      "{'text': '나무 좋아요 !! ❤ 제가 왠만하면 리뷰 안남기는데 이건 안남길 수 가 없어용 😭 진짜 진짜 좋아용 !! 강추 ☺ 우선 필터를 넘길 때 마다 필터 이름? 을 설명해주는게 너무 좋아요 ! 친구들한테 설명할 때도 너무 편리하구요 필터들도 너무너무 예뻐요 ! 💕 진짜 미세먼지에 극복할 수 있을 느낌 ? ㅋㅋ 하여튼 피크닉 진짜 너무 좋네요 ! 주변인한테 홍보 하러 가보겠습니다 ♡ 아 하나 더 !! 여행 사진이나 풍경사진 찍을때 좋아요 ♡인생 카메라인 것 같네요 ♡♡', 'star': 5, 'date': '2019년 3월 26일'}\n",
      "{'text': '다 좋은데 한가지 기능만 추가됐으면 좋겠어요. 필터를 전체적으로 덮다 보니까 얼굴까지 필터로 덮여지는데 지우개 기능이 있어서 지우면 원본으로 돌아오는 기능이 있었으면 좋겠어요ㅠㅠ', 'star': 5, 'date': '2019년 12월 25일'}\n",
      "{'text': '다 좋은데... 좀 아수ㅣ운점이 하나 있어요. 배경이 아닌데 하늘 색깔로 인식이 되어서 별이 날라다니는 경우가 있어용... 지우개툴같은걸로 배경아닌곳을 살짝칠한다거나 인식 안된 배경을 펜툴로 추가할수있으면 더욱조을듯해용', 'star': 5, 'date': '2018년 11월 4일'}\n",
      "{'text': '너무좋네요!! 오늘 깔아서 몇몇사진 보정해봤는데, 마음에 딱 들어서 바로 리뷰남기러 왔습니다 ㅎㅎ 피크닉이 필요한사진 추천해주어서 알맞게 보정해서 더더욱 좋은사진 만드는것도 너무좋고 필터도 다양하고 디자인도 정리가 잘 되어있어서 너무좋네요..٩(*•̀ᴗ•́*)و', 'star': 5, 'date': '2021년 2월 22일'}\n",
      "{'text': '제가 카메라 앱을 바꾸고 싶었는데요! 이게 딱이다!하고 사진 보정도 잘 되고요 필터도 많고요 사랑에 빠진 엘리쓰가 특히 좋네요ㅎㅎㅎ 여기 나온 사진이랑 진짜 똑같구요 정말 싫을것없이 💯점 만점에 💯입니다 이앱 정말로 추천드립니다 꼭 다운받아서 제 말이 무슨 말인지 알아봅시다 안 깔면 후회합니다ㅎㅎ', 'star': 5, 'date': '2021년 5월 30일'}\n",
      "{'text': '혹시 무음카메라가 안되나요? 소리설정 빼도 계속 소리가 나서 카메라 사용하다가 소리가 너무 커서 몸 계속 움찔움찔 떨리게 되네요ㅠㅠ 그거 외에는 색감이 너무 예뻐서 마음에 들어요!', 'star': 5, 'date': '2021년 3월 19일'}\n",
      "{'text': '제 최애필터 ! 최근에 ai모드가 나와서 더 편하게 찍을 수 있고 예쁘게 나와서 매우 만족합니다! 원래는 기본카메라로 찍었었는데 이제는 무조건 피크닉으로만 찍게되네요ㅎ 피크닉덕분에 인생샷이 많아졌네요ㅎㅎㅎㅎ 더 많은 필터가 얼른 추가됐으면 좋겠어요! 감사합니다!!!!!!!:)', 'star': 5, 'date': '2019년 2월 9일'}\n",
      "{'text': '이거 앱 진짜 추천드려요 ! 진짜 좋구 필터들 하나하나 다 너무 예뻐요♡ 만약에 제가 저장 공간만 더 넓었으면 필터별로 하나씩 사진에 적용 했을 것 같네용 ㅜ 근데 제가 직접 하늘을 좀 문질(?)러서 하는 것도 있었으면 좋겠어요!진짜 추천드립니다', 'star': 5, 'date': '2019년 8월 20일'}\n",
      "{'text': '진짜 너무너무 필터 예쁘고 다 좋은데요 ㅠㅠㅠ 영상 촬영도 가능하게 해주세요 ㅠㅠㅠㅠ 영상 때문에 깔았는데 영상 지원은 안돼고.., 그렇다고 너무 예뻐서 지울 수도 없는 애매한 상황이예요 ㅠㅠ 제발 빠른 시내에 영상이 생기길 ㅠㅠ', 'star': 5, 'date': '2021년 5월 8일'}\n",
      "{'text': '너무 잘 쓰고 있습니다 필터도 예쁘고요 근데 저번부터 아마 핸드폰 업데이트한 이후부터 무음 설정을 해도 소리가 나는데 어떻게 해결해야 하죠?ㅠㅠ이거 쓰는 가장 큰 이유가 무음이었는데 소리가 납니다ㅠㅠ', 'star': 5, 'date': '2020년 6월 19일'}\n",
      "{'text': '와~~~진짜 좋고 잘 사용중 입니다ㅠㅠ근데 아쉬운점이 하나 있어용ㅠㅠ 갤러리 에서 동영상을 못가져온다는게 아쉽답니다ㅠㅠ 동영상까지 가져와서 설정하면 별 5개로 다 채울수 있답니다ㅠㅠ', 'star': 5, 'date': '2020년 6월 13일'}\n",
      "{'text': '진짜 최고에요👍 흐린날을 맑은날로 보정하는게 너무 힘들었는데 필터마다 색감도 최고이고 하늘을 파랗고 예쁜구름을 넣을 수 있다는게 너무 좋은것같아요! 예쁘고 좋은 보정앱찾아서 기쁩니다 !!', 'star': 5, 'date': '2020년 7월 12일'}\n",
      "{'text': '여행사진에선 날씨가 진짜 중요한데 흐린날씨 맑게, 그리고 수정하기도 쉽고, 렌즈 안닦아서 흐리게 나온사진도 어느정도 선명하게 보이게하는 효과도 있는것 같아요. ♡여행엔 사진♡ ♡배경엔 피크닉♡', 'star': 5, 'date': '2021년 6월 14일'}\n",
      "{'text': '색감이 너무 예쁘고 밤하늘도 이쁘게 찍혀서 너무 좋아요ㅠㅠ근데 사진이 조금 늦게 찍혀서 아쉽습니다! ㅠ 그래도 저는 거의 보정만 하기도 하고 불편하진 않아요!! 추천 입니다❤', 'star': 5, 'date': '2020년 9월 11일'}\n",
      "{'text': '진짜 너무너무 좋아요!! 필터 바꿀때마다 자막이 일일이 나오는것도 그렇고 적용이 안되는 사진이 있으면 자막으로 친절하게 알려주는것도 너무 좋아요!!ㅠ 감사합니다~! 앞으로 덕분에 예쁜사진 많이 찍을 수 있을 것 같아요!!', 'star': 5, 'date': '2019년 3월 24일'}\n",
      "{'text': '처음엔 비교적 괜찬은것 같아 이 피크닉을 선택했는데 원하는 하늘색을 선택할때 마다 주위의 다른 영역까지 하늘색의 영향이 미쳐 흐리게 해버리는 큰 단점이 있네요. 좋은 앱들이 쓰는 \"mask 기능\"을 빨리 추가하세요!', 'star': 5, 'date': '2021년 8월 5일'}\n",
      "{'text': '잘 쓰고 있습니다. 근데 Auto A.I. 기능은 꺼짐이 기본으로 원할 때만 켤 수 있었으면 좋겠어요ㅠ 그리고 필터도 쓰던 필터 설정이 그대로 남아있었으면 좋겠습니다. 감사합니다.', 'star': 5, 'date': '2019년 2월 24일'}\n",
      "{'text': '밋밋한 하늘에서 감성있는 하늘로 바뀌어요~! 다만 보정을 원하지 않는 부분은 지우개로 지울 수 있는 기능이 있었으면 좋겠어요. 그리고 사진 기울기, 크기조절도 할 수 있었으면 더 좋을듯 하네요~', 'star': 5, 'date': '2022년 6월 21일'}\n",
      "{'text': '와...진짜 이런 사진편집 어플 처음 봤습니다.... 넘 좋아요!! 구름도 진짜 자연스럽게 넣어지고 우중충한 하늘도 맑고 이쁘게 만들어요ㅜㅜ 제작자님ㅜㅜ 이런 어플이 제가찾던 그 앱입니다!! 여러분들도 꼭한번 써보세요!! 진짜 강추입니다!! 벌써 제 갤러리에 이쁜 사진들로 가득찼어요!! 사진첨부하고 싶지만.... 첨부가 안되요ㅜㅜ 피크닉으로 편집한 이쁜 사진들 보여드리고 싶은데ㅜㅜ 그리고 아무생각없이 찍은사진이 작품이되요!!', 'star': 5, 'date': '2020년 6월 8일'}\n",
      "{'text': '제가 이앱을 써봤거든요 그 미리 준비된 사진3장 있잖아요 그건 필터느낌같은게 잘나더라구요 그래서 기대를한뒤 직접사진을 찍어봤거든요?근데 피크닉이랑은 안어울리는 장소라뜬데요 (전분명 하늘을 찍었어요)하지만 이건 별로문제없어요 제가 하늘에대고 필터를꼈더니 그필터감성이 사진3장보더 덜 나는거있죠ㅜ 그래도 괜찮은것도있어서 잘쓰겠지만 사진감성이 더 잘 나타났으면 좋겠어요 이앱사랑해요 ♥♥ 너무좋아서 친구한테 알려주기도 싫을정도ㅎㅎ', 'star': 5, 'date': '2019년 2월 1일'}\n",
      "{'text': '와 므친 필터가 댕이뻐요.. 나만하고시푼 어플이랄까..?☆ 하늘 편집은 안해봤는데 필터썸네일?들이 딱 느낌파악하기 좋은 사진들이라 원하는 느낌 찾기도 편할거 같더라구요 ㄹㅇㄹㅇ 글구 제가 반한 건 독특한 필터색감들이에요! 색감이 엄청 자기주장하는것도 아니고 흔치않고 특이한데 촌스럽지도 않아욧.. 필터이름도 대박..ㅠㅠ 섬세하네요 >_<♡', 'star': 5, 'date': '2021년 6월 14일'}\n",
      "{'text': '리뷰보고 계신 분들 이거 꼭 다운받으세요 사진 찍는거 좋아하시거나 그림 배경이라던지 일반 필터나 그림 배경 심심할때 쓰기도 좋고 정말 자연스럽게 잘돼요 ㅠㅠ 한 번 깔아봤다가 진짜 잘 쓰고 있어요 만들어주신분들 감사합니다 하늘 예쁘게 잘 편집되고 너무 좋아요 완전 추천!!', 'star': 5, 'date': '2020년 3월 16일'}\n",
      "{'text': '엄..일단은 좋은점이 진짜 자연스럽게된다는점이 가장좋아요ㅠ 그리고 여러 분위기도 이쁘게나타낼수있을뿐더러 칙칙한 하늘도 맑고이쁜하늘처럼 연출할수있어서 진짜 유용한 앱인것같아요 저는 이앱이 널리알려지면좋겠다고생각해요ㅠㅠ 그러면 저는 앞으로 이앱 자주사용하도록할게요❤', 'star': 5, 'date': '2018년 12월 5일'}\n",
      "{'text': '제가 제일 애정하는 어플입니다 필터도 너무 예쁘고 진짜 하늘 찍을 때 뿐 아니라 다방면으로 유용합니다 다만 AI가 하늘 인식을 잘 못하더군요 ㅜㅜ 특히 흐린날은 아예 인식을 못하고 맑은날에도 가끔 그러고 네이비컬러 아파트랑 맑은 하늘이랑 같이 인식해서 아파트에 구름이 껴지기도 해요 그리고.. 셔터소리 해제가 옛날 폰에서는 잘 됐는데 새로 바꾼 폰에서는 어쩐 일인지 계속 나더라구요 이외에는 다 정말 좋습니다 :)', 'star': 5, 'date': '2021년 1월 3일'}\n",
      "{'text': '안드로이드 파이 환경에서, 높은 빈도로 앱 실행 시 검은 화면만 뜹니다. 그럴 때마다 삭제 후 재설치를 해야 하고, 최초 실행 이후에 재차 사용 시 에러가 재발합니다. 확인 부탁드립니다.', 'star': 5, 'date': '2019년 5월 26일'}\n",
      "{'text': '감성더하기 너무 좋은앱. 모든 사진에 완벽하게 적용할 순 없으나 단순한 조건만 갖춰진 사진은 원본이라고 믿을 정도의 퀄리티를 지녔음. 선택지가 더욱 다양해지길 바람.', 'star': 5, 'date': '2019년 11월 26일'}\n",
      "{'text': '필터도 너무 이쁘고 하늘에 구름나타나는거랑,, 진짜 눈내리는거같은 필터도 있고 다 좋은데 필터에서 AI기능을 꺼놓고 수치..?를 다 바꿔놔도 다시 들어오면 똑같이 변해있더라구요.. 이것만 마음대로 조정할 수 있게해주시면 감사하겠습니다!=)', 'star': 5, 'date': '2019년 10월 24일'}\n",
      "{'text': '사진 찍을때 해상도 설정이 있으면 좋겠습니다. 편집시에도 해상도 저하는 약간 있는데 핸드폰이나 웹에서 보긴 괜찮습니다. 필터는 더할나위 없이 예쁩니다.', 'star': 5, 'date': '2019년 6월 18일'}\n",
      "{'text': '추천 받아서 사용 중이예요~ 너무 너무 잘 쓰고 있어요! 이과 만세입니다😆 오늘 눈이 와서 아침부터 산책을 하고 왔는데 찍은 사진을 보정하려고 보니 피크닉에는 눈이 담긴 장면이 없더라구요 그래서 무지 아쉬웠어요... 응원의 인사와 스노우 필터도 만들어주십사하는 부탁을 담아요~♡', 'star': 5, 'date': '2018년 11월 23일'}\n",
      "{'text': \"제가 사진을 잘 못 찍는데 이걸로 하니까 진짜 예쁘게 찍혀요 !!그리고 '봄빛에 물든 복숭아' 필터가 너무 예뻐요(ू•ᴗ•ू❁) 하나 아쉬운 점이 있다면 동영상을 찍고 싶은데 안되는게 너무 아쉬워요 ㅠㅠㅜ 동영상 기능까지 생기면 별 5점 주고 싶네요 !!\", 'star': 5, 'date': '2020년 5월 18일'}\n",
      "{'text': '오늘 깔았는데 정말 좋은것 같아요, 혹시 동영상에는 필터를 넣을 수 없을까요 ㅜ 사진보단 동영상을 좀더 많이쓰는편이라서.. 동영상도 필터를 입히면 정말 좋을것같아요, 좋은앱 만들어주셔서 감사합니다.', 'star': 5, 'date': '2018년 12월 1일'}\n",
      "{'text': '필터가 너무 많아도 별로인데 딱 필요한 것만 있고 개성 있고 광고도 없고 다 좋은데, 필터 순서를 바꿀 수 있으명 좋겠어요 자주 쓰는 것만 앞으로 오게요!', 'star': 5, 'date': '2021년 10월 24일'}\n",
      "{'text': '죽은 사진을 아.름.답.게 살려줍니다. 이 앱만 있으면 언제 어디서든 든든합니다. 그냥 하늘보다 피크닉 하늘이 더 좋아질 정도....? 그만큼 자연스럽고 색감이 예뻐요. 너무 좋은 나머지 리뷰를 한 번 더 쓰고 싶게 만드는 앱...!', 'star': 5, 'date': '2019년 5월 29일'}\n",
      "{'text': '예쁜 필터가 많아서 그때그때마다 다른 사진을 찍을수 있어서 너무 좋아요!! 그리고 광고도 거의 나오지 않아서 편하고요...ㅎㅎ 이 피크닉 앱 추천 합니다👍 별⛤⛤⛤⛤⛤5개!!👍👍', 'star': 5, 'date': '2020년 3월 23일'}\n",
      "{'text': '필터강도 조절하는 바가 사진 아래부분을 가려서 좀 답답한데 이부분 업그레이드 좀 부탁드려요.. 사진 색감 너무 이뻐서 좋은데 바 위치가 너무 불편하네요....', 'star': 5, 'date': '2020년 11월 23일'}\n",
      "{'text': '필터 너무 예쁘고 좋아요 근데 이 기능이 있는데 제가 못찾는건지는 모르겠지만 조정기능이 있으면 좋겠어요 편집할때 하늘이 아닌 부분까지 다 적용되니까 아쉽더라구요 ㅠ', 'star': 5, 'date': '2018년 10월 29일'}\n",
      "{'text': '와 이건 진짜 여태 써본것중에 최고에요♥♥ 써보면서 별다른 터치없이 클릭 한번만했는데 사진이 어엄청 예쁘게 나오네요♥ 하면서 감탄사가 절로 나왔습니다! 이런 어플은 어플 1위 해야하는데! 1년동안 설치한 어플중 가장 최고입니다!', 'star': 5, 'date': '2019년 4월 6일'}\n",
      "{'text': '제가 까먹고 이 앱의 리뷰를 아직도 안 남겼다니.. 너무 충격적입니다 이 최고의 어플을 진작부터 쓰고있었는데도... 하늘사진 보정도 장난아니지만요 일반 사진들 보정에도 필터가 정말 너무 예뻐서 좋습니다 앱 만들어주셔서 감사합니다ㅠㅠ', 'star': 5, 'date': '2023년 4월 24일'}\n",
      "{'text': '가끔 바지나 물 등, 하늘이 아닌 부분에 필터가 입혀져 곤란할 때가 있는데, 일정 부분만 필터를 지울 수 있는 기능이 있다면 정말 좋을 것 같네요.', 'star': 5, 'date': '2019년 8월 19일'}\n",
      "{'text': '사진 정말 잘 나오고.. 진정 내 실력인가 의심될거 같이 필터도 너무 예뻐요~ 근데 사진 찍을 때 나는 소리가 좀 아쉽습니다ㅠ 찰칵 소리도 진동이나 무음시 안 났으면 하는 아쉬움에...글 남겨요', 'star': 5, 'date': '2020년 6월 15일'}\n",
      "{'text': '너무 이뻐서 좋은데요ㅜㅜ 단점이 화질이 너무 깨지구 사람이랑 하늘 연결부위가 가끔씩 티나게 뜰때가 있는데 화질 안깨지는법 없나요?ㅜㅜ 그리고 하얀옷입으면 거기에도 다 입혀지고 청바지에도 필터 높일수록 청바지가 하얀바지가 되어가네요...ㅜ', 'star': 5, 'date': '2020년 7월 23일'}\n",
      "{'text': '제가요😊스노우로 항상 찍는데 이거뭐죠? 화면빨이 흐리게나오지도않구, 너무좋아요 내인생앱이될정도예요!! 사실 유튜브에서 추천받아서 왔는데 이거 진짜좋아용😭😭❤❤필터완전좋은것두많구영 여행놀러갈때 하늘찍고,풍경찍고하잖아요🌸그때 날씨가흐리거나하면 썩 사진좋게않나오고할때 완전 꿀탬이예요 흐린날에서 햇빛쨍쨍한날로 바뀌고❤이거 진짜 필수탬! 인생사진도 많이 건져가용!😭😭❤❤❤❤', 'star': 5, 'date': '2019년 10월 25일'}\n",
      "{'text': '최고입니다 말할게 없습니다! 단 아쉬운 점은, 어두운 하늘에서는 우주배경 적용이 어렵네요 ㅠㅠ 시스템 자체에서 인식을 안하는 건가요 ㅠㅠ 아무튼 이거 진짜 추천합니다 괜히 ★4.7이 아니네요', 'star': 5, 'date': '2018년 11월 23일'}\n",
      "{'text': '너무나 찾고있었던 앱이에요. 요즘 미세먼지농도가 많이 좋아졌다고 해도, 흐린날이 더 많은게 사실이죠. 그런 요즘 필터로는 제일 좋은 앱이에요. 한가지 건의드릴 점은 앱 종료시에 뜨는 광고가 거슬려요.,, 개발자님의 수익창출을 위해 광고표시가 필요하다고 생각하지만 유저들을 위해 후원하기를 추가해 광고를 안보고싶은 사람들에게 선택권을 주시는게 어떨까요. ?', 'star': 5, 'date': '2020년 6월 12일'}\n",
      "{'text': '너무 만족하고 있어요 자연물 찍는거 좋아하는데 하늘 보정이 되니까 아무리 흐린 날에 사진을 찍어도 이쁜 배경이 나타나서 좋아요 다른 어플과 다른 점이네요!!', 'star': 5, 'date': '2019년 4월 14일'}\n",
      "{'text': '왜 이제야 알게된건지...너무좋다 이어플 다만 아쉬운점은 동영상기능ㅜㅜ있었음좋겠어요 그리고 필터 즐겨찾기 기능이랑 무음이요ㅜㅜ 이것만있다면 유료어플이여도 구매할꺼같아요ㅜㅜ', 'star': 5, 'date': '2020년 3월 24일'}\n",
      "{'text': '진짜 구름 영역지정 가능한 기능만 추가되면 완전 최고 어플!! 피크닉이 구름사진이 필요없다고 인식 못하는 사진이나 구간들도 지정할수 있게 해주세요! 그리고 옷도 파란색이면 같이 적용되던데 그러한 부분도 혹시 개발자분쪽에서 수정할수 있는지 여쭤봅니댱!', 'star': 5, 'date': '2022년 2월 24일'}\n",
      "{'text': '하늘은 무조건 이걸로 보정해요 너무 예쁘게 잘나와요ㅎㅎ 그리고 하늘 표시된건 하늘을 더 만들어주는데 물론 이것도 놀랍게 자연스럽지만 더 자연스러운걸 원하시는 분들은 하늘마크 없는걸로 파랑 계열이나 아니면 더 드라마틱한걸 원하는 분들은 하늘 마크없는 파스텔 계열 필터들과 하늘 마크 있는 필터 추천!', 'star': 5, 'date': '2023년 8월 8일'}\n",
      "{'text': '필터가 걸려서 이쁘게 잘 나오네요 ㅎㅎ 그런데 저기 혹시 줌인은 어떻게 하나요?? 확대할려고 재스처하니까 필터가 바뀌고 볼륨키로 해도 안되던데.. 줌인 기능은 없는건가요???', 'star': 5, 'date': '2019년 10월 4일'}\n",
      "{'text': '칭찬받을만한 어플. 사진을 멋진 분위기로 바꿀 수 있습니다. 그리고 어플 내 모션이나 글씨체 등이 잘 되어있어 완성도가 높다고 느낍니다.', 'star': 5, 'date': '2021년 6월 10일'}\n",
      "{'text': '색감 너무 예뻐요ㅠㅠ 하늘 보정도 동화나 일러스트처럼 예쁘게 잘 되고, 특히 라라랜드 필터 진짜 애정합니다ㅠㅠ 더 많은 필터 업데이트 되었으면 좋겠어요😳 개발자님 감사합니다💞', 'star': 5, 'date': '2018년 12월 4일'}\n",
      "{'text': '배경색깔 보정하기 너무 편리하고 좋네요 좀더 디테일하게 수정과 보정도 되고 다양한 기능이 있었음하는 바램이 있네요', 'star': 5, 'date': '2021년 2월 4일'}\n",
      "{'text': '다 너무 예쁘도 좋은데 필터 선택하는 아이콘이 원본 사진을 안가리는 위치에 있으면 좋을 것 같아요! 농도 조절하는 아이콘도요!', 'star': 5, 'date': '2021년 8월 19일'}\n",
      "{'text': '헐~~징짜 완죤완젼 좋아욜!!!!👍진짜 이런앱 본적없습니다ㅠㅠㅠ제작자님 진짜ㅜㅜ감사드려요ㅎㅎ💘 필터도 예쁘장하고 친구랑 찍을때 분위기여신으로 나와서 무엇보다 만족이구요,제가 풍경샷을 되게 많이 찍는데 찍어서 카톡프사하기 딱좋은 어플입니당😆❣친구들한테도 알려주고있어요ㅋㅋ 제 사진찍는 어플중 최애 앱입니다👏👏 감사드려요♡><좋은하루되세여!☆💚', 'star': 5, 'date': '2018년 12월 4일'}\n",
      "{'text': '갤러리 어플에 있는 사진이 인식 안돼요. 갤러리에는 13800장이 있는데 이 어플의 전체 사진에는 8040장으로 대략 6천장이나 인식을 안하고 날려버려요...... 오늘 찍고 필터 씌우고 싶은 사진이 있는데, 인식이 안되니 할 수가 없어요 ㅠㅠ 왜 이래요???', 'star': 5, 'date': '2021년 5월 17일'}\n",
      "{'text': '자연스럽게 예쁜 하늘 합성 가능해요!! 예뻐요!! 다만 청바지에도 같이 돼서ㅋㅋㅋㅋ 선택 부분만 지우는 기능도 있었으면 좋겠어요', 'star': 5, 'date': '2020년 5월 24일'}\n",
      "{'text': '와 이거 진짜 물건입니다 ㅋㅋㅋㅋㅋ 사진의 분위기가 바뀌네요 옛날에 찍은 사진중에서 흐려서 망한 사진들 다 복구했어요 ㅠㅠ 개발자에게 그저 감사합니다ㅠㅠㅜㅜ 이런 어플은 광고 많이 나와도 이해합니다♡', 'star': 5, 'date': '2020년 6월 27일'}\n",
      "{'text': '그동안 피크닉 어플로 찍은 사진들이 다 사라졌습니다. 앨범 자체가 사라졌습니다. 무슨 오류인지 모르겠는데 엄청난 추억이 갑자기 사라지게되었습니다. 복구를 해주시면 감사하겠습니다. 기종은 갤럭시S8입니다.', 'star': 5, 'date': '2018년 10월 11일'}\n",
      "{'text': '원래 하늘 안이쁘고 미세먼지에 비와서 잘 안찍는데 완전 좋아요 특히 필터가 너무 다양하고 그라데이션이 너무 이뻐요 이앱 친구로 통해서 알게됐는데 완전 강추요!!! 너무이뻐요 감사해요', 'star': 5, 'date': '2019년 7월 25일'}\n",
      "{'text': '진짜 무조건 다운로드 하세요~~!! 제가 사진찍는거 진짜 좋아하는데 하늘사진찍을때마다 하늘이 뭐라하더라 굉장히 어두컴컴해서 밋밋하고 별로였는데 이걸로 편집하니까 진짜 좋아요 단점없는어플 처음이에요~~왠만한 유료어플보다 훨씬 좋은듯 ㅋㅋㅋ', 'star': 5, 'date': '2020년 2월 17일'}\n",
      "{'text': '날이 흐려서 하늘의 색감이 아쉬울 때 사용하면 딱이에요', 'star': 5, 'date': '2024년 5월 6일'}\n",
      "{'text': '여러분 이앱꼭쓰세요... 광고가 뜬다고불만이신가요...? 이정도 퀄리티사진을 무료로쓰시는데 그정도광고 감당 못하실거면 지갑을여셔야합니다.. (팩트는 광고 그렇게많이 뜨지도않아요) 사진길쭉하게나오고 아니무엇보다 풍경이 진짜너무이뻐요..이번에 단풍사진찍었는데 너무이쁘고..찍은 후필터바꾸는기능은세상,..나는왜 이런 앱을 지금에서야 찾았나... 낮풍경찍으실때 walk필터였나? 그거쓰세요~ 근데 가끔 Ai인식인가? 그거 부적합이면 아예 앱이 멈추는경우가 있더라구요...그건좀개선부탁드려요...그리구 광고뜨면 나가기버튼 누르면 앱이나가짐...광고만끄고싶은데 ㅠㅠ 이거도아쉬워요ㅠㅠㅜ', 'star': 5, 'date': '2020년 11월 1일'}\n",
      "{'text': '이 앱 완전 좋아요!! 제가 예쁜 하늘을 완전 좋아하는데 이 앱 완전 제 스타일이예요!! 하늘 색감 엄청 좋고 편집도 자연스럽게 잘 되서 진짜 그 하늘을 찍은 것 같아요! 지금까지 많은 앱들을 찾았봤는데 저는 이 앱이 가장 좋습니다!! 이런 앱 만들어주셔서 감사합니다!!!', 'star': 5, 'date': '2019년 1월 19일'}\n",
      "{'text': '잘 쓰고 있어요 :) 제가 못찾는거일수도 있는데..동영상도 필터 편집 가능하면 좋을거 같아요 ㅠㅠ 사진이랑 동영상이랑 통일감을 못줘서 아쉬워요 ㅠ', 'star': 5, 'date': '2021년 8월 31일'}\n",
      "{'text': '너무 좋아요ㅠㅠ 사진 찍는 걸 좋아하는데 휴대폰 카메라 성능으로는 풍경 특유의 색이나 분위기를 못 담아서 카메라를 살까 고민 중에 있는데 이 앱 덕분에 좀 나아졌어요ㅠㅠ', 'star': 5, 'date': '2019년 6월 26일'}\n",
      "{'text': 'Dslr로 raw 파일로 라룸으로 보정후 살짝 날씨 별로면 피크닉 어플로 하면 ㄹㅇ 싹임 날씨 조작 가능 개선 했으면 하는 점은 조금 더 하늘이 진하게 느껴질수 있게 해주면 좋을듯 함. Ex ) 노을 빛이 좀더 강했느면 좋겠늠', 'star': 5, 'date': '2020년 8월 8일'}\n",
      "{'text': '다 좋은데 전체사진으로 봐도 최근에 찍은사진이 몇몇개가 뜨지않던데 해결방안이 있나요? 아무리 찾아봐도 보이질않네요 물론 사진입니다', 'star': 5, 'date': '2020년 8월 24일'}\n",
      "{'text': '진짜 좋은데 왜 기본카메라로 찍었는데도 지원되지않는 파일이라고 뜨는것들이 많을까요ㅠ 필터는 너무이쁜데 사진을 편집할수가 없어요...ㅜ', 'star': 5, 'date': '2020년 10월 23일'}\n",
      "{'text': '잘쓰는중. 다만 필터지우개브러쉬나 하늘배경입히는브러쉬 기능이 생기면 더 좋을듯.', 'star': 5, 'date': '2020년 1월 11일'}\n",
      "{'text': '사진하늘이 너무 예쁘게나와요 적용이 잘안되는 사진도있긴한데 그래도 흐린날사진 예쁘게 편집가능해서 좋습니다', 'star': 5, 'date': '2019년 6월 17일'}\n",
      "{'text': '너무 좋아요!!꼭 사용해 보시면 좋을것같아용 근데 아쉬운 점이 동영상을 못 찍는거에요ㅠㅠ 하디만 5점드릴게용! 동영상만 찍게 해주시면..ㅎㅎ 그것 빼구 다 좋아용', 'star': 5, 'date': '2020년 3월 30일'}\n",
      "{'text': '구름추가가 되어서 좋긴한데 선택하면 밝기 이런거에서 나머지 배경도 같이 되는 그런거라 인물색까지 변해서요 색 조절이 애매할때가 있네요', 'star': 5, 'date': '2020년 9월 13일'}\n",
      "{'text': '색감이 다 이뻐요! 다만 아쉬운점은 사진저장시 해상도를 선택할 수 있다면 더 좋을것 같아요ㅎㅎ', 'star': 5, 'date': '2020년 8월 28일'}\n",
      "{'text': '작동하는것도 쉬워서 처음 부터 잘 이용할수있어서 넘나 좋구 !! 제가 하늘을 찍는데 이상하게 나온것두 이거 하니까 넘 이뻐가지구 잘 쓸것같아용 ! 동영상이 안돼서 아쉽지만 그래두 앱이 좋은것 가타용 ㅎ', 'star': 5, 'date': '2019년 10월 4일'}\n",
      "{'text': '최근에 사용한 어플중에 가장 매력있는것 같아요~ 다른 사진 어플로는 할수없는것들이라 앞으로 나올 것들도 기대됩니다! 화이팅!', 'star': 5, 'date': '2018년 12월 6일'}\n",
      "{'text': '그냥 너무 좋습니다 !! 친구들과 찍은 서진이 있는데 , 그 사진 하늘이 안 좋아서 실험 겸 해봣는데 .. 너무 좋네요!!!! 광고도 별로 없구.. 강추합니다!!', 'star': 5, 'date': '2020년 11월 1일'}\n",
      "{'text': '색감이 너무 좋아요 근데 한가지 아쉬운 점은 뒷 배경만 살짝 했음 좋겠눈데 전체다 색깔이 바뀌어버려서 좀 아쉬워요', 'star': 5, 'date': '2020년 3월 27일'}\n",
      "{'text': '동영상도 찍을 수 있으면 좋을 텐데 아쉬워요 ㅠㅠ 그리고 이게 아침에는 그래도 필터가 적용되는데 왜 밤에는 필터 적용이 안 되나요? 이 점 고쳐주세요 이 두 가지만 빼면 다 좋아요!! 최대한 빨리 개선해주세요', 'star': 5, 'date': '2019년 10월 6일'}\n",
      "{'text': '되게 필터가 예쁜것두 많구 광고도 없구 정말좋아요!!!특히 하늘사진,그리고 가족사진 이런곳에 분위기 추가하고 싶을때!!!그때 딱!!!그래서 별5개!!☆☆☆☆☆근디 동영상 찍을수있으면 좋겠네요ㅠㅠ그래도 이앱 짱입니댜!!!', 'star': 5, 'date': '2020년 4월 7일'}\n",
      "{'text': '다 좋은데 사진 고를때 한번에 내릴수있게 스크롤이 있었으면 좋겠어요ㅠ 사진이 너무많아서 손으로 스크롤하기 힘듭니다ㅠ', 'star': 5, 'date': '2018년 10월 7일'}\n",
      "{'text': '산뜻해요💙 사진 한장을 가지고 여러 분위기에 잘 어울리게 연출이 되요!~💙그리고,쎌카 찍으려는데, 스티커 부치기엔 좀 에바(?) 일떼 이걸로 하니까 너무 이쁘게 잘 나오고,화질도 좋아요💙💜💛❤', 'star': 5, 'date': '2019년 7월 7일'}\n",
      "{'text': '역광은 색감이 별루구요. 저녁때 찍으니까 느낌이 그림입니다. 폰 바탕화면용으로 잘 사용하고 있습니다', 'star': 5, 'date': '2018년 10월 30일'}\n",
      "{'text': '너무 예뻐요ㅜㅜ 풍경사진 찍을때 예쁘게 찍을 수 있어요!!ㅜ 쓸때 바로 찍지 말고 찍은 사진을 편집하는게 더 예쁘고 자연스럽게 예쁘게 됩니다..!', 'star': 5, 'date': '2019년 7월 12일'}\n",
      "{'text': '하늘이 흐렸을때 찍기 진짜 좋구 유용하게 쓰는데 한가지가 없어서 조금 불편했어요 동영상기능이요 사진만 찍고 편집할 수 있다는게 아쉬워요', 'star': 5, 'date': '2020년 4월 5일'}\n",
      "{'text': '완전 짱짱짱! 이 앱으로 인생샷 몇개 건졌어요!! 필터를 넣지 않은 사진에다 필터를 한개 넣고 또 나와서 그 위에다 필터를 하나 더! 완전 예뻐요!', 'star': 5, 'date': '2018년 10월 31일'}\n",
      "{'text': '틱톡에서 어떤 분이 알려주신 앱! 하늘사진도 이쁘게 편집이 되고 피크닉에 딱맞는 사진인지도 척척알려주고 넘 좋은 앱이닷!!!!!!!!!! 내가 필요했던 앱중 하나닷!~~~', 'star': 5, 'date': '2020년 2월 18일'}\n",
      "{'text': '색감 진짜 이쁨!!! 진짜 맘에들어요 원래 후기 안쓰는데 이건 진짜 너무예뻐서 후기쓰네요 색감도 다양하고 제가 원하는 색감도 많고 완전 사진이 바꿔요!! 대박 추천이에용 ㅠㅠ', 'star': 5, 'date': '2020년 5월 22일'}\n",
      "{'text': '징짜 최고예요 세상 이렇게 좋은 카메라 앱이 없어요 근데 제 폰만 이런 건지 모르겠는데 화질이 약간 떨어지네용... 그 외엔 진짜진짜 좋아서 별 5개 드려요!!!! 이런 좋은 앱 만들어주셔서 감사합니다♡', 'star': 5, 'date': '2018년 9월 27일'}\n",
      "{'text': '진짜.. 이건.. 너무 좋아요! 제가 필터 사용했던 다른 맵은 사진이 어둡고 안 예뻤는데 이 맵은 너무너무 좋네요!!! 이 맵 강추 합니닷!!♥ 근데 한게에 단점은 동영상을 할수 없다는 것이에요..ㅠ', 'star': 5, 'date': '2020년 6월 19일'}\n",
      "{'text': '다 좋은데 가끔 하늘이 아닌 아파트나 옷을 하늘로 인식하는 일이 생겨 불편하네요....자동 인식 후 수동으로 범위를 조절할 수 있으면 좋겠네요! 그 외엔 하늘도 너무 예쁘고 좋아요^^', 'star': 5, 'date': '2019년 8월 31일'}\n",
      "{'text': '와 이건 진짜 인생앱이네요...안써본 사람있으면 당장 써보라고 하고 싶습니다.풍경사진에 필터넣으니까 죽이네요..ㅠ 필터 더 만들어주면 더더더 좋을거 같아요!이런앱 만들어주셔서 너무 감사합니다♥', 'star': 5, 'date': '2018년 11월 25일'}\n",
      "{'text': '예쁜필터가 많고 적용하면 어색하지 않고 자연스러워요!! 이걸로 하늘찍으면 완전 예쁘고 화질도 괜찮은것 같아요☺', 'star': 5, 'date': '2018년 11월 11일'}\n",
      "{'text': '겨우 시간내서 간 여행내내 흐린날씨라 걱정이 많았는데 평생 남겨지는 사진들을 이쁘게 꾸밀수있어 너무 좋습니다 유용해요:)', 'star': 5, 'date': '2019년 7월 8일'}\n",
      "{'text': '풍경사진 찍을 때 너무 좋아요 ㅜㅜ 내 인생 카메라 ㅜㅜ 피크닉만한 카메라 앱은 없을 것 같네요 ..!! 심지어 무료인데도 쓸 수 있는 필터도 많고 풍경 사진 진짜 많이 찍는데 딱 저한테 필요한 앱입니다 ㅜㅜ', 'star': 5, 'date': '2020년 3월 18일'}\n",
      "{'text': '깔고나서 딱 한번 들어갔고 사진을 찍은것도 아니고 필터만 보고 껐어요. 근데 다시 앱을 실행하려니까 앱이 중단되었다는 알림만 뜨네요 지금 아예 못들어가고 있어요', 'star': 5, 'date': '2018년 12월 4일'}\n",
      "{'text': '제가 하늘사진 찍는 것을 좋아해서 한번 깔아봤는데 필터도 다양하고 자연스럽게 적용되어서 너무 좋습니다!', 'star': 5, 'date': '2020년 9월 3일'}\n",
      "{'text': '렉이 심한걸까요 사진을 찍는데 렉걸려서 더 안찍혀요 ㅠㅠㅠㅠ 필터랑 너무 이뻐서 잔뜩 기대하고 신혼여행온건데 ㅜ ㅜㅜ 결국 서로 찍어줄때만 할 수 있고 블루투스리모컨 쓰면 10장중 1~2장만 찍히네요...ㅠㅠ', 'star': 5, 'date': '2021년 6월 16일'}\n",
      "{'text': '와...진짜 너무 좋아요♥👍 필터 진짜 이쁘고💖 말로 설명 못하겠어요🙅 하나부터 열까지 모든게 완to the벽⭐ 그리고 하나하나 댓 달아주시는데 댓에서 정성이 뚝뚝 흘러요💦 하...진짜 이앱 너무 좋아요👍👍 아직 깔지말지 망걸이고 있다면 당장!! 라잇 나우! 지금 깔아요! 오늘도 크닉크닉 피크닉한하루 감사합니다🌈', 'star': 5, 'date': '2019년 5월 14일'}\n",
      "{'text': '진짜 사용방법도 쉽고 필터들도 다 이뻐용 피크닉이 가능한 사진이라면 덤으로 구름도 같이 나와요 너무 강추입니다..!', 'star': 5, 'date': '2020년 11월 10일'}\n",
      "{'text': '필터가 정말 예쁘기 잘 나오네요 아쉬운게 있다면, 필터 적용 전후 비교가 더 간편했으면 하네요', 'star': 5, 'date': '2021년 4월 13일'}\n",
      "{'text': '일단 배경 찍기 너무 좋아요!!!!별로 써보지 않은 사용자 이지만 앞으로 더 좋은 어플이 될 수 있을 것 같아요💖그런데 얼굴도 찍을 수 있게끔 하면 더 좋을듯 해요!!그래도 넘 좋습니다.잘 사용하겠습니다!!><', 'star': 5, 'date': '2020년 5월 25일'}\n",
      "{'text': \"진짜 필터두 예쁘구 다 좋은데 하나 걸리는게 필터 바꿀때 첨에 오리지널에 있을때 구름이랑 '피크닉에 필요한 사진은 아니네요'로 떠요ㅜㅜ그것만 없어주세용ㅜㅜ그것만 없으면 진짜 짱❤ 근데 이 필터 기준이 하늘 배경이여야 이쁜것 같아용!\", 'star': 5, 'date': '2020년 3월 19일'}\n",
      "{'text': '이 어플만큼 이쁘 색보정 어플 없어요 진짜...다른 어플들은 색보정되면서 노란끼가 항상있어서 마음에 안들었는데 피크닉은 정말 청량 보정 그자체입니당...♡ 영상도 같이 되면 너무 좋을 것같아용 감사합니당 ㅠㅠ', 'star': 5, 'date': '2021년 8월 17일'}\n",
      "{'text': '엄...필터가 예쁘고 좋아요!! 근데 카메라에 지원하지 않은 이미지 입니다라고 떠서 카메라파일에 있는 사진을 편집 할수 없네여ㅠ 그거 빼고 좋아요!!!', 'star': 5, 'date': '2020년 10월 31일'}\n",
      "{'text': '제가 사진 편집하는 거나 보정하는 거 좋아하는 편인데 하늘이 자연스럽고, 예쁘게 보정? 되는 것 같아서 마음에 들어요 ㅠㅠ ❤ 앞으로도 잘 쓸게요!', 'star': 5, 'date': '2020년 2월 6일'}\n",
      "{'text': '넘좋아여!필터도많고 추천도 해주셔서 첨엔\\' 뭐지 ?\" 이랬는데 지금보니까 안예쁘던사진도 예뻐지는 마술이 라고해야하나? 그런좋은점도있고 찍으면서 예쁜필터낄슈 있어서넘좋아요', 'star': 5, 'date': '2019년 4월 28일'}\n",
      "{'text': '제가 다른 카메라를 사용중이었는데 필터가 제가 좋아하고 하늘 사진에 알맞은 필터는 없었어요.이제는 피크닉으로 예쁜 하늘사진을 많이 찍어야겠어요.물론 가족들과 소풍을 갔을 때도 유용하겠군요!', 'star': 5, 'date': '2019년 2월 4일'}\n",
      "{'text': '!!!!!!필터도 이쁘고 엄청좋아요오 그런데 혹시 사진 찍을때 무소음으로 찍는 기능 만들어주시면 안될까요..?? 소리가 너무 커요ㅠㅠ', 'star': 5, 'date': '2019년 4월 6일'}\n",
      "{'text': '별 10개를 주고싶을만큼좋아요!!!! 필터를 썻는데도 티가 별로안나서 너무좋고 또 필터를 조절할수 있는부분도 자연스럽게 수정할수있어서 좋습니다!! 진짜 인생앱 입니다!! 강추!!', 'star': 5, 'date': '2020년 6월 12일'}\n",
      "{'text': '너무 예뻐요♡ 제가 하고 싶은 느낌의 필터가 가득해서 넘 좋습니당! 근데 셀카를 찍을 때 스티커 기능이 있으면 좋겠네요 어쨌든 이앱 강추 합니당', 'star': 5, 'date': '2021년 3월 31일'}\n",
      "{'text': '흐린사진에 구름을 적용시킬때 하늘이 아닌 파란물체가 하얗게 변해요ㅠㅠ ex)파란표지판 -> 하얀표지판 파란자동차 -> 하얀자동차 이 버그만 수정시켜주시면 완벽한 어플입니다', 'star': 5, 'date': '2020년 3월 31일'}\n",
      "{'text': '예전엔 과한 필터때문에 좀 부담스러웠는데, 간만에써보니 필터/구름 분리도되고 피크닉 로고도 안찍히고 엄청 좋아졌네요~ 너무만족스러워요', 'star': 5, 'date': '2018년 11월 25일'}\n",
      "{'text': '필터가 예쁘지않는 사진에 이 앱을 사용하니까 생기가있어서 예쁜거 같아요!!이 앱을 사용사지 않으셨다면 꼭 사용하기를 추천드립니다!!👍', 'star': 5, 'date': '2018년 10월 15일'}\n",
      "{'text': '미초버린듯 ㅋㅋㅋ이거 진짜 물건임ㅋㅋㅋㅋ여행 갈 준비하다가 카메라 앱 깔아봤는데 갤러리 사진들에 적용해보고 리뷰안남길 수 없어서 왔음!!!!!! ㄱ이거 유료해도 되겠지만 계속무료해듀세요♡♡♡♡♡', 'star': 5, 'date': '2019년 3월 22일'}\n",
      "{'text': '너무 좋아요😘 이게 배경화면으로 하니 억쑤로 맘에 들어요! 하지만...조금만 더 많이 있었으묜 좋겠오요ㅎ 광고도 없어서 매일해도 짜증이 나질 않아여ㅎㅋㅎㅋ', 'star': 5, 'date': '2020년 2월 18일'}\n",
      "{'text': '너무 잘 나오구 진짜 추천 드리는 제 인생 사진 앱 이예요 엉엉ㅜㅜ 하늘 인식도 잘하고,필터도 예쁘고 정말 너무 예뻐요,,꼭 한번씩 다운받아아서 쓰세요! 절대절대 후회 안 하실거예요 너무 이뻐요 개발자님 감사합니다ㅜㅜ 이런 예쁜 앱으로 매일 피크닉 간 기분처럼 살게요! 정말 감사합니다,,♡♡제 하트 다 드세요! 하트하트', 'star': 5, 'date': '2018년 11월 25일'}\n",
      "{'text': '예전에쓰다 지웠는데 너무잘썼던 기억이있어서 다시깔았어요.정말 여행가서 쓰시기 딱입니다❤ 다만,보라색하늘을했을때 살짝 부자연스런면이있어요 그래도 너무너무좋아요😍', 'star': 5, 'date': '2020년 5월 7일'}\n",
      "{'text': '다좋은데.폰을 가로로 찰영해서 편집하려면.사진이 가로로 나타나지않아요.세로찰영과 편집은 좋은데. 가로사진은 편집이 안되네요. 가로사진은 가로로 편집할수있게 업데이트해주세요?', 'star': 5, 'date': '2018년 11월 30일'}\n",
      "{'text': '보정이 필요한 사진을 알아서 찾아주는데 그게 저하고 너무 잘 맞아서 잘 쓰고 있어요. 색감도 너무 이뻐요ㅎㅎ', 'star': 5, 'date': '2020년 8월 23일'}\n",
      "{'text': '필터앱 유목민인데요. 다시 돌아왔습니다! 똥손, 보정 초보, 보정하는것을 귀찮아 하는 분들 강력히 추천합니다.', 'star': 5, 'date': '2020년 11월 15일'}\n",
      "{'text': '너무 마음에 들어요♡♡ 제가 배경사진을 자주찍는데 핸드폰이란 카메라 앱은 별로 안이쁘게 나오거든요.. 그래서 이 앱을 깔아서 써봤는데 너무 이쁘게 나와서 너무 좋아요♡', 'star': 5, 'date': '2019년 4월 11일'}\n",
      "{'text': '촬영한 사진을 수정하고싶다면 최고의 분위기로 꾸밀 수 있다. 무척이나 만족스러운 앱이다', 'star': 5, 'date': '2019년 8월 29일'}\n",
      "{'text': '이거는 내가 용량이 부족해서 삭제했다가도 나중에 다시 깔게 되는 앱임. 진짜 사진 이쁘게 되고 이것만한 앱은 없음. 다른 사람들은 해상도 떨어진다고 하는거 같은데 절대 안떨어져. 짱임', 'star': 5, 'date': '2018년 10월 6일'}\n",
      "{'text': '와...진짜 심심한 사진에...완전 짱이다....♡근데 하늘이 안보이는 사진은.. 눈물 흘리는 슬픈 구름이 나와서 편집을 할 수가 없어요..하지만 그런 점 빼고는 좋은거 같아요!♡', 'star': 5, 'date': '2020년 8월 19일'}\n",
      "{'text': '갤럭시 폰인데 아이폰 색감처럼 표현하는 앱을 찾고 있는데 좀더 사용해보구요 필터별로 조절기능 있어서 좋아요', 'star': 5, 'date': '2019년 11월 26일'}\n",
      "{'text': '배경이 우중충한게 예쁘게 바뀌어서 넘 좋아요! 더 좋은건 이 앱이 무료라는거❣ 무료로 사진 배경 예쁘게 꾸며서 인생샷 겟 할 수 있는게 젤 좋아용💕', 'star': 5, 'date': '2019년 2월 16일'}\n",
      "{'text': '와 필터가 너무 이뻐요 ㅠㅠㅠ 혹시나 이런 앱이 또 있나하고 리뷰보고 딴 앱들도 깔아봐서 필터를 덮어봤는데 이만큼 좋은게 없네요 ㅜㅜ 절말 필터 너무너무 이쁘고 하늘색 같은것도 보정할 수 있는게 좋아요 ❤ 별 5개 드리고 가요 (ू•ᴗ•ू❁)', 'star': 5, 'date': '2020년 4월 10일'}\n",
      "{'text': '하늘이 심심했서 별로였던 사진이 이걸 사용하고나니까 심심했던 하늘이 보안이되서 너무좋구여 필터가 많아서 골라 마음에 드는 하늘을 만들수있어서 너무 좋구여 진짜 잘쓰고있어요 별이 다섯개밖에 없는게 아쉬울정도로 진짜좋아요 이앱 완전 잘만든듯👍👍', 'star': 5, 'date': '2019년 1월 23일'}\n",
      "{'text': '흐리게 나온 사진이 밝게 보정되서 좋았어요 다양한 느낌으로 사진을 표현할 수 있는것 같네요!', 'star': 5, 'date': '2018년 11월 2일'}\n",
      "{'text': '저 이거 친구 추천으로 다운받았는데 진짜좋아요...그냥 동네 아무곳이나 찍어도 감성 배경화면으로 변신하고..하늘밖에 못찍어서 아쉽긴하지만 정말좋아요!!!', 'star': 5, 'date': '2020년 4월 10일'}\n",
      "{'text': '정말 너~~~무 좋네여! 완죤 취.저 예여!!♡ 벚꽃구경 왔는데 벚꽃도 넘 이쁘게 나오고!! 짱짱! 이에영 근뎅 셀카는 좀 안예쁘게 나와서... 셀카 기능좀 넣어주셨으면 해여 꼭 답글 달아주시길 바랄게요!♡', 'star': 5, 'date': '2019년 4월 13일'}\n",
      "{'text': '필터 하나같이 이뿌고 실제같아서 유용하네요ㅋㅋ 근데 기능이 별로 없어서 약간? 불편한게있어요.. 그래도 충분히 만족해요!', 'star': 5, 'date': '2020년 2월 29일'}\n",
      "{'text': '왠만해서는 리뷰 안남기는데 사진마다 분위기 있게 필터를 맞출수있고 너무 잘맞아서 좋아요 그리고 스티커보다 필터만 사용하는 저에게는 너무 만족 👍', 'star': 5, 'date': '2018년 10월 26일'}\n",
      "{'text': '너무 그냥 화질이 너무좋아요! 그치만 찍히는게 조금 느려요.그치만 하늘에 다가 배경이~~완전 기가 막혀요!', 'star': 5, 'date': '2021년 3월 7일'}\n",
      "{'text': '정말 좋네요. 사진 퀄이 확 삽니다. 하늘 부분을 수동으로 지정해서 할수도 있으면 좋겟네요.', 'star': 5, 'date': '2019년 7월 1일'}\n",
      "{'text': '와!!제가 사용한 카메라 어플 중 방법도 간단하구 필터도 많고 광고도 별로 안 나오는 최고의 어플이에요!피크닉 강추강추!', 'star': 5, 'date': '2020년 11월 15일'}\n",
      "{'text': '와 진짜 미쳤어요...먼저 별점 주러 오는 경우는 처음이에요 진짜 필터 디테일도 실물같이 잘 나오고 계속 돌아다니면서 사진 찍고싶네요ㅋㅋㅋㅋ진짜 굳굳 짱짱', 'star': 5, 'date': '2020년 7월 21일'}\n",
      "{'text': '확실이 색감?을 넣으니까 사진이 확 달라보이고 예쁘네요! 사진을찍어도 뭔가 부족했었는데 이제는 피크닉 앱이 있어서 좋네요ㅎㅎ 친구들한테도 많이 알려줘야 겠네요^^~', 'star': 5, 'date': '2020년 5월 16일'}\n",
      "{'text': '제가 젤 좋아하는 앱 입니당❤ 별 100점을 주고 싶은데 5점 밖에 못 주네요ㅜㅇㅜ 글고 필터가 넘나 예뻐요:) 하늘목장 가는 길 필터가 제 최의 필터입니다❤ 그런데 동영상만 찍을수 있게 해주세요 그 단점 고쳐주신다면 감사하겠습니다🤗', 'star': 5, 'date': '2020년 8월 12일'}\n",
      "{'text': '다 좋은데 보정하고나면 원본 화질손실 됩니다 이것만 수정하면 거의 완벽함 그리고 얼굴이나 몸매 교정도 업그레이드 해주시면 금상첨화', 'star': 5, 'date': '2019년 3월 13일'}\n",
      "{'text': '와 긴가 민가하는 마음으로 다운받았는데 정말 죽은사진을 살려주네요! 정말 너무 좋은어플입니다 모두 깔아요!!', 'star': 5, 'date': '2018년 11월 11일'}\n",
      "{'text': '전 원래 작성하는거 되게 싫어하고 귀찮아 하는 성격인데요 이앱은 아무생각없이 깔아서 실행해봤는데 생각보다 너무너무 예쁘게 만들어지고 자연스러워서 개인적으로 제가쓴 필터 앱중 최고였던것 갔아요 잘쓸게용😊🖐💛', 'star': 5, 'date': '2019년 8월 11일'}\n",
      "{'text': '필터 새로운거 안 바라니까 옷이랑 얼굴에도 필터 씨우지 맙시다ㅠ 밤하늘 배경이 넘 이뻐서 하고 싶었는데 옷이 하양이어서 그런지 옷이랑 얼굴도 퍼래졌네요 어쩌라는건지.... 사람 클릭하면 그것만 원본으로 돌아오면 좋겠네요', 'star': 5, 'date': '2020년 1월 11일'}\n",
      "{'text': '밋밋한사진에 구름만넣었을뿐인데 인생사진!!! 근데 저장하면 해상도가 떨어져요 ㅜㅜ 고해상도였으면좋겠어요', 'star': 5, 'date': '2018년 10월 3일'}\n",
      "{'text': '제 원래 카메라가 하늘의 색감을 제대로 담지 못해서 답답해는데 이건 딱 좋아요. 구름 추가 가능하고, 색감 좋아서 많이 쓰게 되는 어플.', 'star': 5, 'date': '2020년 11월 25일'}\n",
      "{'text': '필터 다양하고 광고도 잘 안뜨고 사용방법도 편하고 간단하고 그래서 너무 편하고 좋은 앱이에요🙃🙃', 'star': 5, 'date': '2021년 1월 19일'}\n",
      "{'text': '필터 다 이쁘고 좋은데 밤 풍경은 너무 티가 나요ㅠㅠ 그리고 필터 좀만 더 추가해주셨으면 좋겠습니다 :) 그래도 너무 잘 쓰고 있어요~', 'star': 5, 'date': '2021년 7월 18일'}\n",
      "{'text': '호오오오 넘 좋아요 필터들 다 이쁘구.. 근데 좀 아쉬운건 하늘은 이쁘지만 벚꽃처럼 하얀 계열의 그런 것들은 색이 좀 이상해진다는.. 그래도 만족입니다!', 'star': 5, 'date': '2019년 11월 2일'}\n",
      "{'text': '풍경 찍었을때 좀 흐린 사진이었거든요!!근데 밤처럼 보정할수도있고 다 예쁜필터밖에없더라고요...완전 짱!!강추입니닷!', 'star': 5, 'date': '2019년 10월 20일'}\n",
      "{'text': '좋아요. 배경 합성 , 변화주는거 좋아요 . 좀더 자연스럽게 되면 짱일듯 계속 무료였음 좋겠어요', 'star': 5, 'date': '2021년 12월 17일'}\n",
      "{'text': '이번에 벚꽃축제를 갔는데요. 먹구름도 잔뜩 껴있고, 나중에 비까지 왔어요 ㅠㅠ 미세먼지도 있어서 뭔가 화창한 느낌 하나 없었는데.. 피크닉 앱으로 보정하니까 너무 좋아요!! 앞으로도 계속 애용할거예요^^ 감사합니다', 'star': 5, 'date': '2019년 4월 7일'}\n",
      "{'text': '미세먼지 많아서 예쁘게 사진을 찍어도 하늘이 회색빛으로 뿌열때가 많은데,사진으로나마 푸른 하늘을 합성해서 보니 만족합니다!', 'star': 5, 'date': '2021년 3월 25일'}\n",
      "{'text': '화면 보정이 잘되서 유용하게 잘 사용하고 있어여! 앞으로도 화이팅 입니다! 추천! 가끔씩 오류가 나는데 그거 빼곤 다 좋아용!', 'star': 5, 'date': '2021년 10월 5일'}\n",
      "{'text': '스노우로 편집해서 저장한 사진은 왜 피크닉에 활성이 안되나요? 아예 안떠요. 카톡으로 저장했다가 다운받아도, 다른 앨범에 복사해도 안뜨네요.', 'star': 5, 'date': '2020년 5월 13일'}\n",
      "{'text': '오늘처음 깐 앱인데요, 제가 본것중에 제일 좋아요! 별점더드려도 모자랄만큼 강추! 사진작가 꿈이신분들은 한버써보셔도 될것같아요! 사진작가가 꿈이 아니신 분들은 재미로 하셔도 좋을것같아요!!', 'star': 5, 'date': '2021년 7월 18일'}\n",
      "{'text': '하늘이 예쁜 날 특히 더 필요한 필터~! 사진가님 팬이라 알게 된 어플인데 유료필터 믿고 바로 결제해서 쓰는중인데 넘넘 맘에 들어요 👍☺️', 'star': 5, 'date': '2019년 8월 28일'}\n",
      "{'text': '다 좋은데 필터 바꿀 때 필터 이름이 화면 중앙에 떠서 거슬리네요... 아래로 바꾸든지 하면 더 좋을 것 같아요', 'star': 5, 'date': '2019년 5월 11일'}\n",
      "{'text': '진짜 조아여! 필터도 정말 이쁘고 사진 분의기가 훨씬 달라지네여♡ 필터 조금만 더 넣어주시면 만점! 앱이 될것같아요~', 'star': 5, 'date': '2018년 11월 27일'}\n",
      "{'text': '블로그 보다가 알게되었는데유 !! 🥕 진짜진짜 쪼아요 〰️❣🍍 일단 항상 같은곳만 찍고 그러다보니 지루했는데이앱 하나로 맨날 새로운곳을 보는 기분이에요 !! 진짜 짱 좋아요 ♡♡♡ 추천해요 주변에 입소문 내러가요 !!', 'star': 5, 'date': '2019년 4월 9일'}\n",
      "{'text': '필터가 많이 없는데 진짜 너무 예뻐요... 색깔이 진짜.. 너무 환상적이라해야하나? 내가 원하는 그런 필터들이 다 있는거 같애.. 암튼 짱 좋아여', 'star': 5, 'date': '2020년 4월 18일'}\n",
      "{'text': '미세먼지심한요즘 하늘합성 넘좋아요 근데 정확히하늘만따지는건아니고 사물이나사람도물들어요 점점나아지겠죠♡ 색감보정아예없이 하늘만합성할수있으면더좋을거같아요!', 'star': 5, 'date': '2021년 4월 17일'}\n",
      "{'text': '진짜 최고의 사진 편집, 촬영 앱이네요! 이번에 피크닉앱을 알게되어 설치했는데 감성사진 찍기 너무 좋아요 ㅎㅎ 잘 쓸게요:)😊👍🏻👍🏻💕', 'star': 5, 'date': '2021년 2월 2일'}\n",
      "{'text': '차이가너무나서 깜짝놀랍습니다😲 더이쁜거같고 풍경사진이 확 달라졌어요♡♡ 이게 이사진이맞나? 싶을정도로 달라요♡ 찐추천! 짱으로 추천합니당♡♡ 만족도100%로!!!', 'star': 5, 'date': '2021년 5월 9일'}\n",
      "{'text': '너무너무너무너무 마음에들어요! 사진찍기를 좋아하는데 사진의 배경이 마음에 안들때 종종 이 어플을 쓰면 기분도 좋아집니다!!', 'star': 5, 'date': '2019년 2월 2일'}\n",
      "{'text': '건의사항: 풍경사진 아닌경우, 실내에서 그냥 찍을때, 자꾸 피크닉에 적합한 풍경이 아니라고 뜨면서 진동이 울려서 조금 불편합니다. 그런거는 이미 알고 있는데 자꾸 뜨니까 불편합니다.. 제가 깐 것중 풍경 가장 예뻐요. 그리고 알약이랑 같은 회사여서 더 믿음이 가네요', 'star': 5, 'date': '2022년 3월 13일'}\n",
      "{'text': \"사진찍을려고 카메라 누르는데 '카메라를 실행할 수 없습니다' 이렇게 떠요 ㅠㅠ 제 폰이 이상한건가요 ? 답글 부탁하용 ㅜ :)\", 'star': 5, 'date': '2018년 11월 8일'}\n",
      "{'text': '필터가 예뻐요 풍경사진이 폰카로 찍으면 실제보는것 보다 안이쁘게 나올때가 많은데 이 어플 좋네요 ㅋ 다만 광고가 좀 거슬리긴 하지만 그부분은 어쩔수 없죠', 'star': 5, 'date': '2021년 11월 14일'}\n",
      "{'text': '일부 사진들이 목록에 안뜹니다. 폴더지정을 전체사진으로 놓아도 몇몇 사진들만 뜨질 않아요;;;', 'star': 5, 'date': '2021년 9월 15일'}\n",
      "{'text': '제가 다른앱을 보다가 우연히 봤는데 찐짜 좋아서 리뷰 함 해봤어요 (아이폰쓰다가 안드로이드에 이앱이 있으면 좋겠다고 생각했는데 있어서 진짜좋아요!! 하늘도 이쁜거 많아서 좋아요❤).', 'star': 5, 'date': '2019년 8월 22일'}\n",
      "{'text': '아름답고 이쁜 필터들이 많아서 좋은데요 약간 오류가 있나보네요 옷 색깔이 흰옷이나 하늘색 입고 찍으면 옷을 하늘로 인식해서 옷이 별이나 구름으로 변해버려요 ㅋㅋ 이점 고쳐주시면 좋을것같아요 ㅎㅎ', 'star': 5, 'date': '2019년 2월 9일'}\n",
      "{'text': '너무 좋아요 🌙 이상하게 찍은 망친 풍경사진도 이 앱만 있으면 완벽해요💕 요즘 미세먼지때문에 풍경찍을만한 날이 없었는데 이 앱 덕분에 찍을 수 있습니다🧡', 'star': 5, 'date': '2019년 3월 16일'}\n",
      "{'text': '필터를 바꿀때 전혀 어색하지않고 넘 이뻐서 맘에들어요!! 부탁한가지만 한다면 필터를 좀더 다양한 필터가있음 좋겠습니다!!!', 'star': 5, 'date': '2019년 1월 19일'}\n",
      "{'text': '너무너무 조은듯.. 진짜 필터 보정 같은거 할때 진짜 유용해용.. 이런앱을 만들어 주셔서 감사하네요', 'star': 5, 'date': '2019년 5월 17일'}\n",
      "{'text': '필터가 너무 예뻐요! 다른 앱은 필터가 예쁜게 별로 없어서 아쉬운데, 이 앱은 필터가 다양하고 예쁜게 너무 많아서 일상생활에 많이 쓸것 같아요~!', 'star': 5, 'date': '2020년 5월 6일'}\n",
      "{'text': '예쁜 사진이어도 하늘이 않 예쁠 때 사용하기 좋은 것 같아요! 너무 너무 좋구여! 광고도 않 나와서 좋아요! 화이팅!', 'star': 5, 'date': '2021년 9월 4일'}\n",
      "{'text': '너무 좋아요 늘 사진 찍는 장소 배경이 별루였는데 이 어플로 통해 무언가 제 마음을 들게했네요 잘 쓰고있어요 다운 강추 드림~', 'star': 5, 'date': '2019년 11월 25일'}\n",
      "{'text': '필터 진짜 너무 이뻐요ㅠㅠㅠ 완전 영롱하게 쓰여져서 원하는 색감 쏙 뽑았습니다 하늘이랑 피사체 필터 따로 진하고 엷게 하는 것도 너무 좋아요!!', 'star': 5, 'date': '2019년 3월 29일'}\n",
      "{'text': '노을배경에 새 3마리있는 필터 꿈을 담은 새벽(?) 없어졌나요??ㅠㅠ 하늘배경 예뻐서 잘 쓰다가 용량문제때문에 한동안 못쓰다가 다시 깔았더니 없네요ㅜㅜ 다시 안나오나요??', 'star': 5, 'date': '2021년 4월 5일'}\n",
      "{'text': '4월6일 처음으로 깐 카메라어플인데 저의 인생어플로 1위!!진짜 필터가 다 이쁘고 어떤 하늘배경에도 다 잘어울려요💘진짜 이앱 추천!!', 'star': 5, 'date': '2020년 4월 6일'}\n",
      "{'text': '진짜 다 완벽하고 예쁘게 쓰고있는데 전체사진에 몇몇 사진들이 없어서 불편해요 그것 빼고는 정말 좋게 쓰고있어요 추천이요', 'star': 5, 'date': '2021년 5월 6일'}\n",
      "{'text': '하늘만 편집이 되니까 너무너무 좋았어요 필터도 다 완전 이쁜 것들 뿐이여서 대박~!! 앱 너무너무 좋네요~^^', 'star': 5, 'date': '2020년 5월 2일'}\n",
      "{'text': '다 좋은데 제 동생이 체널운영을 하려고 하는데 이 앱이 너무 좋아서 이 앱으로 영상을 찍을수 있으면 더더욱 좋겠다고 생각해요 인생 앱 화이팅!', 'star': 5, 'date': '2018년 11월 3일'}\n",
      "{'text': '개발자님 진짜 천재이신듯 합니다.. 제가 바라던게 이거였어요!! 진짜 같은 사진이여도 이거로 쫌만 만지다 보면 완전 예쁜 하늘이 보입니다.. 진짜 좋아요..', 'star': 5, 'date': '2020년 6월 28일'}\n",
      "{'text': '흐린날도 이쁘게 하늘이 잘 찍히고,외국 같이 나오기도 해요^^ 친구들 한테 어디가서 외국같이 찍히면 여행 같다 왔다면서 뻥 치기!!! 꿀잼요♥ 어디서나 이쁘게 찍히는 어플이에염❤❤😘', 'star': 5, 'date': '2019년 7월 14일'}\n",
      "{'text': '정말 좋아요! 하늘말고 필터처럼 배경도 되서 분위기도 바뀌고...게다가 필터 종류가 너무 예뻐요! 강력추천합니다!', 'star': 5, 'date': '2021년 4월 13일'}\n",
      "{'text': '와우 정말 재밌구여 필터도 많아서 좋네요 잘 어울리는것도 많네요 정말 추천드립니다 정말정말로 제가 본 앱중에 화질이 가장 좋네욥', 'star': 5, 'date': '2021년 4월 19일'}\n",
      "{'text': '다양한 모습으로 사진들을 편집해서 보여주고, 내가 선택할 수 있어서 좋습니다.', 'star': 5, 'date': '2022년 8월 1일'}\n",
      "{'text': '어우 진짜 너무너무 좋아요!!😚😚 쪼끔(?) 아쉬운건 필터가 많이 없다는 점ㅜㅡㅜ 그래두 이쁜건 진짜 이쁩니다.👍👍 강추!!', 'star': 5, 'date': '2020년 6월 7일'}\n",
      "{'text': '예쁜 필터들이ㅣ 만아요ㅛ-!!!💕 필터들 예쁜것 조금만 더 추가해주시면ㄴ 좋을것같아요ㅛ-! 항상 잘 쓰고있습니다-!!', 'star': 5, 'date': '2019년 8월 20일'}\n",
      "{'text': '일단 배경너무이뻐요 아래,위 조절도 돼구 좋은데 건물은 인식이 안돼서 조금 안타까워요 그래도 예쁘게 잘쓰구 있습니다', 'star': 5, 'date': '2021년 4월 28일'}\n",
      "{'text': '흐린사진도 맑은 하늘을 자연스럽게 만들수있어서 좋습니다 근데 혹시 저장된 사진을 한꺼번에 갤러리로 저장할수있는 방법이 있나요?', 'star': 5, 'date': '2022년 11월 7일'}\n",
      "{'text': '사용해본 보정앱중에 제일 좋은듯해요. 하늘까지 찍힌 사진보정에는 이게 제일인듯.', 'star': 5, 'date': '2021년 9월 23일'}\n",
      "{'text': '이 앱 진심 꼭 쓰세요 완전 좋아ㅠㅠㅠㅠ 기본 카메라로 찍고, 후보정으로 쓰면 진짜 좋은 앱 거기다 무료라서 짱 좋아요ㅠㅠㅠ 개발자님 정말 감사히 잘 쓰겠슴다', 'star': 5, 'date': '2020년 4월 2일'}\n",
      "{'text': '좋아요. 근데 진동 끄는 기능이 있으면 좋겠어요. 필터 누를 때마다 울려서 불편해요', 'star': 5, 'date': '2020년 3월 13일'}\n",
      "{'text': '폰 기본카메라 갤러리에 저장한사진을 피크닉으로 보정하려하니 호환이 안되 피크닉필터기능을 못쓰고있어요 이미지파일을 불러올수없다라는 문구가떠요', 'star': 5, 'date': '2020년 11월 14일'}\n",
      "{'text': '전체적으로 블루톤 사진을 좋아 하는데 회색 벽에서 찍은 사진도 블루톤으로 바꿀수 있어서 넘 좋네요^^', 'star': 5, 'date': '2019년 8월 19일'}\n",
      "{'text': '이걸로 편집 하니까 분위기도 확 달라지고 정말 좋아요 여러가지 필터도 있구 정말 좋습니다 제가 하늘 사진을 좋아하는데 이걸쓰구 더 좋아졌어요', 'star': 5, 'date': '2019년 9월 12일'}\n",
      "{'text': '지금버전그대로 쭉 갔으면 좋겠어요 괜히 업데이트해서 잘쓰고있던 기능마저 제대로 안되는 어플들이 많아서ㅠㅠㅠㅠㅠㅠㅠ 진짜 쵝오쵝오!!!!♡', 'star': 5, 'date': '2023년 3월 26일'}\n",
      "{'text': '진짜로 너무 좋아요 사진 못 찍는 똥손인데 피크닉 필터 하나만 있으면 인스타 감성짤 나와요 유용한 어플 만들어주셔서 정말 감사합니다...!', 'star': 5, 'date': '2021년 3월 30일'}\n",
      "{'text': '최고예요 신세계 입니다 막 찍어도 사진작가가 되네요. 개발자님 감사하고 앞으로 유료라도 좋으니 더 많이 만들어 주셨으면 좋겠습니다ㅜㅜ!!', 'star': 5, 'date': '2020년 3월 30일'}\n",
      "{'text': '너무 좋아요! 특히나 필터마다 이름이 너무 깜쯱쓰 합니다😎 이런 어플 만들어 주셔서 감사하고 감사합니다 앞으로 애용하겠습니다 어플 너무 깜쯱쓰~^^😇', 'star': 5, 'date': '2018년 12월 8일'}\n",
      "{'text': '하늘이 사진에 반을 차지할정도로 분명하게 나온 사진도 가끔 하늘로 인식을 못하네요 ㅜㅜ 필터자체는 정말 예뻐요!', 'star': 5, 'date': '2019년 3월 7일'}\n",
      "{'text': '이거 진짜 너무너무너무 좋고 사용하기 좋고 다 예쁜데 이거 동영상으로고 되면 좋겠어요! 너무잘쓰고있써염❗❗❗', 'star': 5, 'date': '2018년 12월 3일'}\n",
      "{'text': '너무 좋아요! 필터가 다양해서 편리하구요 근데 화질이 깨지는점이 아쉽습니다 ㅠ', 'star': 5, 'date': '2019년 9월 22일'}\n",
      "{'text': '똥손이 사진 찍어도 클릭한번으로 완전 다른 사진이 생겨나니까 사진 찍고 편집하는 하루의 낙이 생겨요!', 'star': 5, 'date': '2020년 1월 7일'}\n",
      "{'text': '너무 안좋아요 무지 평 좋아서 깔았는데 좋지는 않네요 아직 조금 수정할 부분이 있는거 같네요 요즘에 안좋은 카메라앱이 많이있어서 않좋네요 누가 요즘에 가로로 읽는지 ㅋㅋ 이앱 넘 좋음', 'star': 5, 'date': '2018년 11월 30일'}\n",
      "{'text': '색감 너무 이뻐요 카메라 앱 둘러보다 우연히 발견했는데 발컨으로 찍은 사진이 전부 그림이 되는 마술ㅠㅠ', 'star': 5, 'date': '2019년 5월 18일'}\n",
      "{'text': '다 좋은데 셀카기능에 얼굴이 너무 크게나와요 ㅠㅠ 일반카메라처럼 배율 조절이 됬으면 좋겠습니다', 'star': 5, 'date': '2020년 5월 6일'}\n",
      "{'text': '필터가 너무 예쁜것 같아요!! 지금도 필터가 예쁘지만 더욱더 예쁜 필터를 만들어 주셨으면 감사합니다!', 'star': 5, 'date': '2018년 11월 25일'}\n",
      "{'text': '배경화면 쓰려고 찍은 사진 보정하는데 넘 이뻐요! 언니가 이 어플 좋다고해서 받았는데 괜찮네요!', 'star': 5, 'date': '2019년 12월 27일'}\n",
      "{'text': '너무너무 좋아요 ㅠㅠㅠ 색감보정도 진짜 예쁘게 되고 하늘이 예술같아지는 마법ㅂ...이런 앱 만들어 주셔서 감사합니다!', 'star': 5, 'date': '2020년 8월 26일'}\n",
      "{'text': '와 진짜 대박.... 꾸린 하늘 완전 맑고 예쁘게 만들어주고 구름도 필터마다 다 다르게 나와서 놀랐어요...♡♡♡ 대박적앱!! 여러분 안까시면 후회해요 진짜 ㄹㅇ', 'star': 5, 'date': '2021년 6월 2일'}\n",
      "{'text': '핸드폰카메라가잡지못하는 색감 특별한날 특별한 사진한장 남길수있기에 추억소환지대로되네요', 'star': 5, 'date': '2019년 4월 17일'}\n",
      "{'text': '와 .... 너무 완벽해요 ..! 필터 하나 하나가 다 예쁘고 저장도 너무 편리하네요 흥해라 !!', 'star': 5, 'date': '2020년 3월 31일'}\n",
      "{'text': '필터가 너무 예쁘고 다양해요^-^♡♡ 밋밋했던 사진들이 피크닉을 사용하고나니, 너~무 예뻐졌어요 감사합니다~~', 'star': 5, 'date': '2018년 11월 15일'}\n",
      "{'text': '카메라 앱중에 이게 제일 마음에 들고 좋아요. 근데 찰칵소리가 나서 좀 그렇네요... 이점 개선해주시면 좋겠습니다 !!', 'star': 5, 'date': '2020년 4월 16일'}\n",
      "{'text': '좋은데요 그..동영상도 보정가능 하면 좋겠습니다 동영상보정까지 추가해주시면 정말 잘사용 하겠습니다', 'star': 5, 'date': '2019년 11월 10일'}\n",
      "{'text': '사진찍을일이 많아서 카메라를 살까 하다가 앱 찾아서 다운받았어요. 당분간 카메라는 안사도 될 것 같아요. 감사히 잘쓸께요^^', 'star': 5, 'date': '2020년 3월 15일'}\n",
      "{'text': '사진 한장만 있어도 여러장의 새로운 사진으로 환생시킬 수 있어서 참 만족합니다 , 너무 감성있어요 👍🏻', 'star': 5, 'date': '2019년 9월 22일'}\n",
      "{'text': '진짜 사진보정이 시급했는데 제가 이런걸 전혀모르거든용 진짜 초보자도 너무쉽고 이쁘게 쓸수있고 맘에 들어용!!', 'star': 5, 'date': '2021년 6월 26일'}\n",
      "{'text': '와 완전 이쁘게 보정잘되네요 ㅎㅎ 포토샵으로 하기 귀찮아서 깔아봤는데 대 만족이에요 ㅎㅎㅎ 만들어주셔서 감사합니다~ㅎ', 'star': 5, 'date': '2019년 8월 20일'}\n",
      "{'text': '여행은 왔는데 흐린날이라 속상했는데 사진을 이렇게 파란하늘로 바꾸니 넘 기분이가좋구요 진짜 최고에용 감사합니다♡', 'star': 5, 'date': '2020년 5월 31일'}\n",
      "{'text': '너무 좋아요!! 흐린날에도 화창한 느낌 낼 수 있고 또 다양한 효과를 추가할 수 있어서 최곱니다!', 'star': 5, 'date': '2020년 4월 6일'}\n",
      "{'text': '바닷가에서 찍은 사진이 날이 너무 흐려서 배경이 아쉬웠는데 어플로 하늘 보정하니 인생샷이 탄생했어요!!', 'star': 5, 'date': '2020년 6월 6일'}\n",
      "{'text': '우와 진짜 넘나 좋아요!!강추!!특히 여행다닐때 날 안좋은 상황에서 유용하게 잘쓰고 있어요><감사합니다💗', 'star': 5, 'date': '2019년 1월 29일'}\n",
      "{'text': '색 컬러가 여러가지이니어서 색이 너무 이뻐요 그래서 마음에 않드는 사진을 수정하기에 딱좋아요♡', 'star': 5, 'date': '2021년 8월 22일'}\n",
      "{'text': '너무 좋네요 ㅋ 흐린날씨에 찍은 사진이 아쉬웠었는데 ㅋㅋㅋ 하늘을 보정해주니 사진이 살아나요 ㅋㅋ', 'star': 5, 'date': '2021년 3월 8일'}\n",
      "{'text': '와 진짜 멋져요 👍필터도 여러개고 하늘이 아닌사진을 써도 색감이 너무 좋아요😭😭', 'star': 5, 'date': '2022년 11월 14일'}\n",
      "{'text': '범위 설정이 가능하면 좋겠어요ㅠㅠ 가끔 상의나 하의에 파란 하늘 들어가면 눈물이 나요', 'star': 5, 'date': '2020년 6월 23일'}\n",
      "{'text': '훌륭합니다... 그런데.. 모든 사진이 나타나지 않네요... 자동적으로 용량이 작은 사진들은 안나오는건가요???', 'star': 5, 'date': '2021년 8월 13일'}\n",
      "{'text': '방향은 굿! 구름이 카테고리별로 훨씬 많야합니다. 사용자들 구름이 겹치는 순간 안쓰게됩니다. 일러스트 느낌의 구름은 실제 찍은 사진과 괴리가 큽니다. 더 안늘려도 충분해요. 꾸안꾸 느낌의 자연스러운 구름들이 많이 필요합니다.', 'star': 5, 'date': '2022년 11월 19일'}\n",
      "{'text': '하늘이 아니여도 필터가 적용되서 이쁜사진 많이 찍을 수 있고 편집할 수 있어서 좋어요♡', 'star': 5, 'date': '2020년 3월 1일'}\n",
      "{'text': '사진이 이쁘게나와서 너무만족하는데 6장정도 찍으면 카메라가 작동이안되여ㅠ그래서 앱지우고다시깔아도 안되고ㅠ어떻게하는건가요?', 'star': 5, 'date': '2022년 4월 12일'}\n",
      "{'text': '수동으로 범위설정 기능도 넣어주세요 아예 인식이 안되거나 청바지까지 인식해요ㅠㅠㅠ', 'star': 5, 'date': '2021년 8월 16일'}\n",
      "{'text': '이앱 진짜 좋은것 같아요! 필터도 되게 이쁘고 풍경사진 찍을때 진짜 이뻐요♡ 오늘부터1일 필터 너무 이쁘구요♡', 'star': 5, 'date': '2018년 11월 3일'}\n",
      "{'text': '너무 좋아요!!!광고도 많이 안나오구 구름이랑 필터랑 따로 조정할수있다니!!!!필터들 다 예쁘고 제가 원하던게 이거였어요!!!!여기선 업데이트 필요 없어요 한다면 필터추가??이정도만요 ㅎㅎ 줄 2줄이상 넘어가는건 처음이에요!!피크닉 너무 좋아여 강추입니다 여러부운', 'star': 5, 'date': '2020년 6월 3일'}\n",
      "{'text': '편집하기도 쉽고 하나의 사진으로 여러분위기를 만들어낼수 있어서 좋아요', 'star': 5, 'date': '2018년 10월 10일'}\n",
      "{'text': '간만에 여행갔는데 비와서 사진을 망쳤어요ㅜㅜ 근데 피크닉 앱으로 맑음으로 완벽 변신♥ 감사감사합니다!!!', 'star': 5, 'date': '2019년 5월 18일'}\n",
      "{'text': '하늘을 인식못하는 사진이 좀 있어서 조금 아쉽지만 흐린날 찍은 사진 하늘이 예뻐지니 너무 유용하게 쓸것같아요 ㅎ', 'star': 5, 'date': '2019년 5월 10일'}\n",
      "{'text': '필터가 많지않고 딱 이쁜것만 있어서 심플해서 좋아용!!! 근데 왜 앱 셔터 소리를 껐는데 찰칵 소리가 날까요?ㅠㅠ 😭', 'star': 5, 'date': '2021년 9월 6일'}\n",
      "{'text': '필터들이 너무 예쁘고 사진 좀 못 찍었더라도 필터 보정빨 덕분에 죽은 사진도 살아나네요👍', 'star': 5, 'date': '2020년 8월 28일'}\n",
      "{'text': '다른 건 모르겠고 필터가 다양해서 좋아요 :) 다른 앱들은 다 필터가 조금밖에 없어서 아쉬웠는데 필터도 다양하면서 필터가 다 이뻐서 좋아요!', 'star': 5, 'date': '2021년 8월 5일'}\n",
      "{'text': '하늘배경 막 깔아주는데 진짜진짜 예뻐요ㅋㅋㅋ기억조작 막 되고!! 다만 화질이 쪼끔 아쉬워요', 'star': 5, 'date': '2019년 8월 20일'}\n",
      "{'text': '필터도 넘 이쁘고 저장도 빨리빨리 되서 좋아요!! 별 100개도 주고싶습니다!!', 'star': 5, 'date': '2021년 9월 1일'}\n",
      "{'text': '너무 예뻐요! 사진이 확 바뀌네요!! 더 많은 필터가 생겼으면 좋겠어요^^ 자주 사용할게요!!', 'star': 5, 'date': '2020년 4월 9일'}\n",
      "{'text': '기대됩니다 배경사진 그런데 산에서는 어떤 필터 쓰는게 좋나요? 인물사진은 어떤 필터 쓰는게 좋나요?', 'star': 5, 'date': '2020년 4월 8일'}\n",
      "{'text': '좋아요 세밀하게 조정도 할 수 있고, 다른 어플보다 이게 기능이 더 세련됐습니다', 'star': 5, 'date': '2019년 2월 10일'}\n",
      "{'text': '사랑합니다ㅠㅠ진짜 너무맘에들고 하...그냥 그 완벽 자체네요ㅠㅠ진짜 이 앱 보다 더좋은 앱을 없을겁니다ㅠㅠ', 'star': 5, 'date': '2020년 7월 5일'}\n",
      "{'text': '자연스럽게 배경 합성 너무 잘되고 종류도 많아요. 대박 강추 어플입니다.', 'star': 5, 'date': '2020년 7월 20일'}\n",
      "{'text': '아니 피크닉 진짜 좋은 앱인데 항상 필요 할때 마다 유용하게 쓰고있었는데 어느 순간 부터 자꾸 튕기고 앱이 중지가 됌, 아예 안들어가짐 진짜 너무 슬픔 내폰이 이상한건지 아님 내 폰이 이상한건지 모르겠음 앱 문제라면 빨리 해결 바람', 'star': 5, 'date': '2021년 1월 26일'}\n",
      "{'text': '사진도 선명하게 잘 나와서 너무 좋더라구요! 배경찍기 좋다고해서 깔았는데 역시는 역시네요!', 'star': 5, 'date': '2019년 5월 28일'}\n",
      "{'text': '와 너무 예쁘네요ㅠㅠ저 풍경샷 진짜로 좋아하는데 이 앱으로 찍으니까 색감도 정말 예쁘고 좋아요!!', 'star': 5, 'date': '2019년 2월 5일'}\n",
      "{'text': '잘 쓰고있습니다! 근데 필터 적용만 하면 화질 다운이.. 많이 되네요..ㅠㅠ 이건 어떻게 해야하나요?', 'star': 5, 'date': '2021년 8월 28일'}\n",
      "{'text': '진짜 너무좋아요 하늘만 딱 인식해서 예쁜배경 형성해주는 똑똑한 어플!! 하늘 외 풍경에 대해서도 필터 조정가능해서 너무 좋아요 티 안나게 예쁜 하늘 생성가능!!', 'star': 5, 'date': '2019년 3월 22일'}\n",
      "{'text': '하늘이진짜넘넘 예쁘게 나오고 깜깜한 배경도 환하고 자연스러워서 정말 좋은것같아요 완전 강추!!', 'star': 5, 'date': '2019년 4월 4일'}\n",
      "{'text': '필터가 아주 많고 좋아요!! 사진에서 필터를 중요시 하시는 분들은 정말 강추 드려요!!!!!!!', 'star': 5, 'date': '2020년 7월 14일'}\n",
      "{'text': '색감 너무 이쁘고 좋은데 무음설정 했는데 촬영시 소리가 나네요? 안나게 바꿔주세요 그럼 별5개 일듯 합니다.', 'star': 5, 'date': '2022년 5월 1일'}\n",
      "{'text': '확실히 감성사진엔 꼭 필요한거 같아요ㅎ사진마다 분위기 전환 엄청나네요ㅎ', 'star': 5, 'date': '2021년 3월 7일'}\n",
      "{'text': '다양한 필터로 찍거나,갤러리에 있던 사진들을 필터로 합칠수있어 좋습니다!!!', 'star': 5, 'date': '2022년 8월 20일'}\n",
      "{'text': '진짜 너무 좋아요 필터 하나하나가 다 개성있네요 한가지 문제점은 글씨를 영어로 해주셨음 좋겠어요', 'star': 5, 'date': '2021년 4월 16일'}\n",
      "{'text': '진짜 좋은 앱 굳이 하늘아니여도 잘쓸수있고 여행사진이나 덕질같은거 보정하기 쉽고편한앱', 'star': 5, 'date': '2019년 9월 16일'}\n",
      "{'text': '필터도 이쁘고 사진 정말 잘나오는것 같아요 인생사진 많이 만들수 있는 앱인것 같아요', 'star': 5, 'date': '2019년 9월 14일'}\n",
      "{'text': '넘 이쁘네용 ㅜ 필터두 넘 이뻐용 ㅜ 동영상도 편집 할수 있으면 별 5개 이상 줄수 있습니당 ㅜ 아무튼 넘 좋아용!', 'star': 5, 'date': '2019년 11월 23일'}\n",
      "{'text': '다 좋은데 화면 줌인이 안되서 좀 아쉬워요 그것만 개선된다면 진짜 짱짱 좋은 카메라입니다!!❤❤', 'star': 5, 'date': '2019년 6월 6일'}\n",
      "{'text': '배경이 자연스러운 포토샾이 가능하네요^^ 너무 편리하고 자연스럽고 이뻐요', 'star': 5, 'date': '2020년 4월 5일'}\n",
      "{'text': '이앱에서 수정하면 색상이 아름답게 나올 뿐만아니라 거이 사진작가되는 기분이에요!!!', 'star': 5, 'date': '2018년 12월 5일'}\n",
      "{'text': '보정 후 사진을 휴대전화에 저장하게 되면 해상도사이즈가 작아질수밖에 없는건가요?', 'star': 5, 'date': '2018년 9월 30일'}\n",
      "{'text': '처음 인생샷을 만나는 느낌이에요~ 자연스럽고 너무 아름답게 표현해주는 완벽한 어플이에요! 꼭 돈 많이 버세여!!!!!!! 좋은 어플 감사합니다♡♡', 'star': 5, 'date': '2021년 3월 24일'}\n",
      "{'text': '완전 좋아요 필터데따라 분위기가 바뀌고 자연스럽게 이뻐져요 랙도안걸리고 진짜 괜찮은앱!', 'star': 5, 'date': '2021년 2월 24일'}\n",
      "{'text': '옛날에 쓰다가 핸드폰 바꿔서 지워진거 까먹고 있었는데 다시 깔아서 사용하니까 너무 좋아요;;;;;;하 옛날 친구 만난 느낌ㅠㅠ🤗', 'star': 5, 'date': '2021년 3월 30일'}\n",
      "{'text': '밋밋했던 사진을 살려주는 마법같은 앱! 이 앱을 왜 이제 알았을까 싶을 정도로 만족하며 사용하고 있습니다😍👍', 'star': 5, 'date': '2021년 6월 12일'}\n",
      "{'text': '이거 너무 좋고 너무 사진과 딱 어울리고 원라는 인생샷을 남길 수 있어서 너무 좋아요 인생샷 원하는 분들께 이걸 추천해요!~^^ 그래서 별 5개!', 'star': 5, 'date': '2019년 2월 23일'}\n",
      "{'text': '이것만큼 좋은게 없네요, UI도 깔끔하고 잘 먹힙니다. 자연스럽게도 잘 되구요', 'star': 5, 'date': '2021년 7월 15일'}\n",
      "{'text': '진짜 하나같이 필터너무 이쁘고ㅠㅠ 구름도 세상 예뻐요 진짜 이쁘단말밖에 안나오는 앱이에요 !! 하늘사진이나 여행갈때쓰면 진짜 갸꿀앱임니다♬♪', 'star': 5, 'date': '2019년 3월 23일'}\n",
      "{'text': '좋은데요~ 근데 동영상촬영모드는 없는건가요~? 있음 아주 더 좋을꺼 같은데요~ㅎ', 'star': 5, 'date': '2019년 3월 6일'}\n",
      "{'text': '괜찮네요 편집과 필터를 잘 사용할 수 있어서 좋아요 비오는 날도 흐린 날도날씨가 좋은 것 처럼 말이죠', 'star': 5, 'date': '2020년 9월 1일'}\n",
      "{'text': '너무예쁘고 자연스럽게 배경 바꿀 수 있어서 좋아요!! 특히 라라랜드풍 사진 최고♡♡♡', 'star': 5, 'date': '2019년 1월 21일'}\n",
      "{'text': '다좋은데 배경바뀌는게좀더현실적이면서 예뻣으면요.좀필터느낌이많이나요', 'star': 5, 'date': '2020년 8월 17일'}\n",
      "{'text': '와 진짜 무료어플이라는게 믿기지 않아서 쓰면서도 계속 유료어플아닌가 싶을 정도로 필터가 기가 막히네요ㅜㅜㅜ 너무너무 예뻐요 개발자님 너무 감사합니다 제 인생 필터앱이예요ㅠㅠ♡♡♡♡♡♡', 'star': 5, 'date': '2020년 3월 21일'}\n",
      "{'text': '필터가 넘이뻐여! 찍을땐 화질이 별로인데.. 사진을 보면 고화질 이네요! 만족해요 지금 친구들에게 추천중..', 'star': 5, 'date': '2019년 11월 19일'}\n",
      "{'text': '하늘변경해주는 기능 너무 좋아요 흐린날 찍은사진도 맑은날처럼.바꿔줌 최고~', 'star': 5, 'date': '2023년 10월 31일'}\n",
      "{'text': '제가 찾던 그런앱입니다. 우중충한 하늘이 밝아지고 너무이뻐보여요. 너무 자연스럽고.... 아무튼 너무 좋은앱이예요', 'star': 5, 'date': '2020년 8월 22일'}\n",
      "{'text': '그 배경이 너무 조아요!! 배경 앱은 제가 쓴것중에 1등 같아요!! 너무 좋게 잘 쓰고 있슴니담!!!...!!!', 'star': 5, 'date': '2023년 7월 9일'}\n",
      "{'text': '진짜 너무너무 예뻐요!!! 사진 분위기가 확 달라지고 퀄리티도 상승합니다 너무 좋은 어플ㅠㅠㅠㅠㅠㅠ', 'star': 5, 'date': '2018년 10월 26일'}\n",
      "{'text': '필터도 다양하고 특히 하늘사진 진짜이쁨 추천함 아쉬운것은 동영상은 안됨..', 'star': 5, 'date': '2020년 7월 11일'}\n",
      "{'text': '흐린날 휴가 다녀와서 사진이 흐려서 속상했는데 필터가 다양해서 맑고 좋은 날씨로 만들어주네용♡넘 좋아요♡', 'star': 5, 'date': '2019년 9월 2일'}\n",
      "{'text': '진짜 제작자님 사랑해요♥ 제가 지금까지 쓴 카메라 어플 중에서 가장 최고인 어플이에여!! 심지어 저의 마음까지 저격하셨네요!!!', 'star': 5, 'date': '2018년 9월 15일'}\n",
      "{'text': '문의사항이 있습니다. 제가 찍은 사진에 피크닉 필터를 입힌 사진을 상업적으로 이용해도 괜찮은가요? 꼭 답변 부탁드립니다 😊', 'star': 5, 'date': '2018년 11월 26일'}\n",
      "{'text': '정말 좋네요!! 근데 동영상은 어떻게 찍는건지 모르겠네요 ㅠㅠ 저만 모르는 건가요 아신다면 알려주세욧^^ 동영상 않찍히는것 빼고는 다 좋네욯ㅎㅎ', 'star': 5, 'date': '2019년 4월 28일'}\n",
      "{'text': 'aㅏ 찌인짜 이건 꼬오오오오오옥 깔아야 돼요! 정말 필터 이름하나하나까지도 사랑스럽고 진짜 색감이 쩔어요! 진짜로 아~무 것도 없는 하늘을 찍어도 무지개가 생기고,별이 생기고 하..... 진짜 너무 좋쟈나요♡ 저 이거 깔고나서 이거없으면 사진 못찍어요ㅠ 이게 무료라는게 말이 됩니까? 으아..♡ 제작자님 중말로~~!!! 감사하구 앞으로도 잘 쓰겠습니댜♡♡사랑해얌 (제작자님 끝가지 보셨으면 좋겠댜..ʕ≧ᴥ≦ʔ)', 'star': 5, 'date': '2019년 1월 29일'}\n",
      "{'text': '날씨 보정효과가 사진의 분위기를 최고로 만들어져요ㅎㅎ구름효과 정말 좋은 것 같아요!', 'star': 5, 'date': '2021년 7월 7일'}\n",
      "{'text': '이거 잘 안 나온 사진도 잘 나오네요 ! 정말 제 인생 앱 입니다 ㅠㅠ 이거 진짜 필터 이쁜거 많아요 ! 이거 깔가말까 하시는 분 ! 그냥 보고 지나치지 마시고 한번 깔아보세요 !!', 'star': 5, 'date': '2019년 9월 25일'}\n",
      "{'text': '진짜 대박 너무 좋아요! 음 아쉬운것은 그 필터? 구름 없을때 필터같은거 더많이 생기면 진짜 젛을것같아요!', 'star': 5, 'date': '2020년 3월 4일'}\n",
      "{'text': '다~좋은데...사진만 말고 동영상도 찍을수있으면 좋겠어요. 동영상 찍을수 있게해주세요~!!!', 'star': 5, 'date': '2019년 7월 12일'}\n",
      "{'text': '진짜 넘 조아요ㅜㅜ 별 찍은 사진도 잘보이고 반려동물 클로즈 업 하는것도 넘 맘에 들어요 번창하세요11', 'star': 5, 'date': '2018년 11월 2일'}\n",
      "{'text': '너무너무 좋아여! 강추(강력추천)입니다! 이앱을 사용하시는 분들은 이앱,사랑해주시기 바랍니다~♡', 'star': 5, 'date': '2019년 10월 13일'}\n",
      "{'text': '우중충한 날씨에도 이 앱이 있으니까 마음놓고 찍을 수 있어서 좋네요 예쁜 것도 많고요', 'star': 5, 'date': '2019년 11월 2일'}\n",
      "{'text': '너무좋아요!~!~!ㄹㅇ 간편하고 색깔 너무이쁘고 역대급이예요 제발 쓰세요 제발', 'star': 5, 'date': '2020년 5월 3일'}\n",
      "{'text': '풍경만 바꿀 수 있어서 너무 좋아요! 화질이 더 좋아지면 아주 최고일 것 같아요!', 'star': 5, 'date': '2021년 6월 22일'}\n",
      "{'text': '이앱 진짜 짱이에요! 제가 사진 진짜 못 찍는데 이 앱으로 찍으니까 찍을때마다 인생샷이에요!! 진짜 감사해요💛', 'star': 5, 'date': '2018년 10월 20일'}\n",
      "{'text': '와 진짜 써본앱중에 단연 최고에요👍👍 필터 종류도 엄청많고 다 이쁜필터여서 혼자만 애껴쓰려고했는데 저만 알고있기엔 너무 아까워서 단톡방에 설치하라고 말했더니 애들 지금 난리났어요ㅋㅋㅋ 왜 이제 알려주냐고 막 그러네요☺☺ 진짜 너무 조아요ㅜㅜㅜ 인생어플 만들어주셔서 감사합니다🧡 화이팅하세요💕💕', 'star': 5, 'date': '2019년 5월 17일'}\n",
      "{'text': '여행갔을때 날씨가안좋아서 사진이 느낌없었는데 아예 그 나라 날씨를 바꿔버리네요ㅎㅎ너무좋아요', 'star': 5, 'date': '2019년 3월 25일'}\n",
      "{'text': '아 이 앱 너무 좋습니다 사진이 삐까뻔적 하구요 풍경도 너무 좋아서 별점 5점을 드리고싶네요.', 'star': 5, 'date': '2022년 1월 30일'}\n",
      "{'text': '필터갯수도 적당하고 이것저것 보정많이있는것보단 적은걸 원했는데 전 만족해요', 'star': 5, 'date': '2019년 9월 8일'}\n",
      "{'text': '짱짱조아요!완전 인생앱! 사진찍기 엄청 좋고 필터 이름도 너무너무 이뻐요 ㅠㅠ♥♥♥', 'star': 5, 'date': '2018년 10월 19일'}\n",
      "{'text': '너무 좋아요 갤러리에서도 할수있고 하늘도 조정할수있고 광고도 않나오고 정말 추천', 'star': 5, 'date': '2020년 8월 28일'}\n",
      "{'text': '필터덕분에 더 예쁜 사진이 나왔지만 다른 효과는 없네요ㅠㅠ 있으면100000점!', 'star': 5, 'date': '2019년 11월 13일'}\n",
      "{'text': '되게 쉽게 사용할 수 있어서 좋아요, 기본적인 무드 편집에 아주 유용해요 ㅎ', 'star': 5, 'date': '2021년 10월 5일'}\n",
      "{'text': '완젼좋아요 필터 화사하고 이쁜것들만있어서 친구들이나 가족들 끼리 찍은 사진이 더욱 이뻐보이네요^^~♡', 'star': 5, 'date': '2020년 10월 6일'}\n",
      "{'text': '진짜 완젼 좋아요 ㅠㅠ자연스럽고 구름도 생기고..어두운사진을 밝게 만들고!아니..어울리지 않다면서요 ㅠㅠ넘 이쁘자나요!♥이런 앱 만들어 주셔서 감사합니당♡⁺◟(●˙▾˙●)◞⁺♡', 'star': 5, 'date': '2019년 12월 11일'}\n",
      "{'text': '하늘이 우중충한 풍경사진을 찍었을때 딱 유용하네요~ 별 10개를 주고 싶은 심정입니다~', 'star': 5, 'date': '2021년 4월 16일'}\n",
      "{'text': '진짜~~~ 너무너무 예쁘고♥ 필터끼워서 사진찍는거 좋아하시는 분들께 진짜 강추드려요!!!', 'star': 5, 'date': '2018년 10월 18일'}\n",
      "{'text': '오 엄청 편하고 사진분위기들 너무좋아요!!! 크~~ 좋은어플만들어주셔서 감사합니당', 'star': 5, 'date': '2021년 3월 28일'}\n",
      "{'text': '너무 좋고,제가 찍은 사진들을 보정하여서 다른 곳에 쓸수있다는 것이 너무 좋은 거 같다', 'star': 5, 'date': '2019년 1월 18일'}\n",
      "{'text': '놀러가서 사진찍었는데,날씨안좋아서 사진이안이쁠때 쓰기딱좋아요!!', 'star': 5, 'date': '2019년 4월 19일'}\n",
      "{'text': '넘나 예쁘공♥저같은 처음편집하는분들도 손쉽게 할수있을겄같아용!!!추천드립니당당당!!!', 'star': 5, 'date': '2019년 9월 25일'}\n",
      "{'text': '상당히 유용하게 쓰일 앱 , 사진에 굳이 하늘말고 다른 필터의 감성을 자아낼 수 있는 앱', 'star': 5, 'date': '2019년 12월 25일'}\n",
      "{'text': '어플 너무 좋아요!! 그런데 구름만들어지는 부분을 선택할순없나요? 옷색도 바뀌어서 아쉽네요 ㅠㅡㅠ', 'star': 5, 'date': '2021년 9월 26일'}\n",
      "{'text': '다른 사진 편집 어플로 고생했었는데 너무 간편하게 이쁜 하늘이 생기네요ㅠㅠ 너무 좋아요!', 'star': 5, 'date': '2019년 8월 1일'}\n",
      "{'text': '너무 잘쓰고있어요! 근데 동영상모드도 지원되었으면 좋겠네요!', 'star': 5, 'date': '2018년 11월 20일'}\n",
      "{'text': '사진 원래 너무 못찍어서 스트레스인데 필터빨로 재생산 되는 느낌 ♡♡ 좋습니다!!!', 'star': 5, 'date': '2021년 6월 24일'}\n",
      "{'text': '미리보기도 있고 필터가 한 사진을 다 다른 느낌으로 바뀌니 좋은거 같네요^!^', 'star': 5, 'date': '2020년 7월 20일'}\n",
      "{'text': '색감이 가장 좋은거같아요 근데 가끔 바로 인식이 안될때가있어요 그래도 만족하는 편이에요~', 'star': 5, 'date': '2022년 1월 11일'}\n",
      "{'text': '상황에 따라 편집불가한 상황이 많긴 하지만 ... 쉽고 재밌음.', 'star': 5, 'date': '2020년 3월 25일'}\n",
      "{'text': '그냥 하늘색 더 이쁘게 나오는건줄 알고 깐건데 하늘을 아예 바꿔버릴수있는 이 앱은 도대체....생각보다 잘바뀌고 짱짱 이뻐서 놀랐어요...! 하늘사진 찍는거 좋아하는데 결과물이 갬성적이게 나와가지고 마음에 쏙듭니다♡', 'star': 5, 'date': '2020년 9월 19일'}\n",
      "{'text': '사진 보정 수정을 선택할 수 있고 효과를 내가 조절 할 수 있어서 좋음', 'star': 5, 'date': '2019년 6월 22일'}\n",
      "{'text': '와우, 최고. 광각망원 앱에서 바로 지원 안되는것이 아쉽네요.', 'star': 5, 'date': '2020년 6월 28일'}\n",
      "{'text': '일단 일반 카메라로 찍고나서 피크닉앱으로 필터 하니까 더 좋네요~ 사진이 확실히 살아납니당', 'star': 5, 'date': '2020년 3월 13일'}\n",
      "{'text': '넘 예뻐요ㅠㅠ 근데 수동으로 구름을 지울 수 있는 기능이 있었으면 좋겠어요', 'star': 5, 'date': '2019년 10월 27일'}\n",
      "{'text': '바꾸고싶은 사진이 갤러리에 있음에도 불구하고 왜 피크닉에서 찾으려니 없는걸까요', 'star': 5, 'date': '2020년 10월 11일'}\n",
      "{'text': '너무 좋아요!!!!롱런 합시다!!!! 진짜 다른 필터 앱 보다 더 조은듯 대박 났으면...!!!', 'star': 5, 'date': '2019년 11월 8일'}\n",
      "{'text': '제주 여행때 너무 잘 썼어요ㅠㅠ핑크뮬리 색감 살릴 때도 좋고..넘 좋아요!!', 'star': 5, 'date': '2022년 9월 19일'}\n",
      "{'text': '여행동안 날씨 흐려서 우울했는데 하늘 합성하면서 이게 찐이지 위로중이에요 너무 좋아요', 'star': 5, 'date': '2023년 12월 31일'}\n",
      "{'text': '사용법도쉽고 하늘색바꿀때 짱이네요 덕분에 추억사진이 동화사진같아졌어요', 'star': 5, 'date': '2021년 4월 28일'}\n",
      "{'text': '사진필터도아주좋고 모든필터가 다 잘어울려요!강추!합니다.', 'star': 5, 'date': '2020년 5월 10일'}\n",
      "{'text': '제가 사진 찍는거 진짜 좋아하는데 이 어플 강력추천합니다!!! 필터도 너무예쁩니다!!♡♡', 'star': 5, 'date': '2020년 4월 13일'}\n",
      "{'text': '사진 수정하려는데 유라이크라는 어플로 찍은 사진이 갤러리에서 안뜨는데요 어떻게해야하나요 따 뜨는데 유라이크로 찍은것만 안뜨네요', 'star': 5, 'date': '2020년 7월 6일'}\n",
      "{'text': '좋아요. 필터가 좀 쎄긴한데 농도(?) 조절하면 예쁘게 나옵니다~', 'star': 5, 'date': '2020년 9월 27일'}\n",
      "{'text': '이거 진짜 물건이다 자주 쓰던 만화 배경용 필터가 어느 날 사라져가지고 대용으로 이거 쓰고있는데 왜 지금 알았는지 모를 정도;;;;', 'star': 5, 'date': '2021년 11월 28일'}\n",
      "{'text': '이거 진짜 미쳤어요 댓글 알바아니고 가식아니고 진짜 좋아요 사진찍었는데 색감이 맘에 안들어서 이걸로 필터바꿨는데 색감 대박이에요', 'star': 5, 'date': '2020년 4월 2일'}\n",
      "{'text': '너무 좋아요! 배경도 예쁜거 많구♥지금 많이 안 썼지만 몇번 써도 너무 예뻐요!짱입니다^^', 'star': 5, 'date': '2020년 6월 12일'}\n",
      "{'text': '필터를 아무리 만져도 이쁘게 안나오는데 하늘보정만 딱 했을뿐인데 분위기가 확 잘라지네요 이어플 대박이다', 'star': 5, 'date': '2020년 5월 25일'}\n",
      "{'text': '이 앱 진짜 좋아여💙💙다른 사진기들 맘에 안 들어서 좋은 것 찾다가 이고 다운 받았는데 너무 진짜 맘에 들어요❣❣', 'star': 5, 'date': '2019년 2월 24일'}\n",
      "{'text': '몇년만에 댓글답니다. 제가 찾던 어플이네요 감사합니다^^ 하늘이 푸르면 사진도 더 예쁘게 보입니다. 너무 좋습니다.', 'star': 5, 'date': '2019년 6월 30일'}\n",
      "{'text': '너무 좋아요 ㅠㅠ 별로 기대안하고 깔았는데 너무 예뻐서 놀랐어용 💕💕 하늘도 예쁘게 나오궁 색감도 예뻐여♡⁺◟(●˙▾˙●)◞⁺♡', 'star': 5, 'date': '2019년 4월 9일'}\n",
      "{'text': '정말 인생앱 입니다. 한 별 100개 주고 싶네요 정말 자연스럽게 편집 잘되고 완전 이뻐요', 'star': 5, 'date': '2019년 2월 6일'}\n",
      "{'text': '하늘이 너무 이뻐서 좋아요♡ 근데 구름을 터치하는 곳마다 생기도록 만들면 좋을 것 같고,나만의 하늘?이런걸 만들 수 있으면 좋을 것 같아요', 'star': 5, 'date': '2018년 9월 17일'}\n",
      "{'text': '흐린날 야외서 찍은사진이나 구름 한점 없는 하늘에 사용하기 제격인 앱이네요. 자주 애용할께요💕', 'star': 5, 'date': '2020년 12월 2일'}\n",
      "{'text': '몇몇 필터는 너무 티가 많이 나지만, 어쩌다 편집으로는 가끔 써요.', 'star': 5, 'date': '2018년 11월 18일'}\n",
      "{'text': '날씨가흐린날에찍은사진이라 sns에올리기가좀그랬는데 이걸로 보정하니 뿌듯하더라고요 최고👍', 'star': 5, 'date': '2023년 2월 13일'}\n",
      "{'text': '필터가 너무 이쁜게많아서 배경사진 필터는 항상 이걸로 쓸것 같아요 넘 이뻐용♡', 'star': 5, 'date': '2023년 1월 23일'}\n",
      "{'text': '너무 예뻐요 유료도 없고 필터끼니까 완죤 취저임!! 써본 필터앱 중에 가장 좋아요 👍👍👍❤', 'star': 5, 'date': '2020년 6월 2일'}\n",
      "{'text': '다좋구 필터두 엄청 풍분한뎅... 비디오두 찍을수 있게 해주세여ㅜㅜ그래서 별1개 뺐어영ㅜ', 'star': 5, 'date': '2020년 6월 2일'}\n",
      "{'text': '너무 유용한 앱이에요! 여행갔면 날씨가 않 좋으때 쓰면 인생샷길실수 있을거같아요!', 'star': 5, 'date': '2020년 8월 15일'}\n",
      "{'text': '동영상 편집은 안되는거 같네요ㅜ 아쉬운데 예쁜게 진짜 많아요❗ 하늘 사진할때 제일 이쁠거 같아요', 'star': 5, 'date': '2020년 3월 14일'}\n",
      "{'text': '구름과 같이 찍으면 필터 바꿀 때 구름이 다소 애매하게 보이네염.... 근데 별로 과하지 않고 딱 하늘을 잡아주는게 신기하네요 넘 이뻐요 필터를 더 늘려주새옹!', 'star': 5, 'date': '2018년 9월 19일'}\n",
      "{'text': '좋은데 다른 채도같은 다른 수정 기능도 함께 있으면 훨씬 좋겠네요.', 'star': 5, 'date': '2019년 6월 24일'}\n",
      "{'text': '좋아요 피크닉이 필요한 하늘이 아닐때 진동이 안날수 있게 설정할수 있다면 더 좋겠어요 :) +답변이 정말 빠르네요! A.I끄는법을 찾았어요 최고~b :D', 'star': 5, 'date': '2019년 5월 2일'}\n",
      "{'text': '어플 지웠다가 다시 설치해서 사용중입니다. 날씨 안좋을 때 찍은 사진에 유용해요.', 'star': 5, 'date': '2021년 11월 6일'}\n",
      "{'text': '원래 리뷰 잘 안남기는데 이 어플은 너무 좋네요 하늘이 이쁘게 나오니까 사진 자체가 이뻐져요', 'star': 5, 'date': '2018년 9월 26일'}\n",
      "{'text': '정말 잘 쓰고 있어요~! 너무 너무 이쁘네용ㅎㅎ 그리고 화질도 안깨져서 넘 좋아요ㅠ', 'star': 5, 'date': '2020년 6월 20일'}\n",
      "{'text': '너무 좋습니다 평범한사진이 느낌가득한 사진으로 변해버리네옹 ^^ 필터가 더 늘길 ^^', 'star': 5, 'date': '2018년 10월 1일'}\n",
      "{'text': '정말 최고에요! 색감 정말 예쁘네요 ㅎㅎ 작동도 잘 되고', 'star': 5, 'date': '2021년 2월 11일'}\n",
      "{'text': '이번에 나온 필터 snow 백설 이야기가 너무 좋은데 혹시 눈을 없엘 수 있게 해주시면 안될까요??ㅠㅜㅜㅜㅜ 필터 자체는 너무너무 맘에 드는데 눈 내리는게 안없어지네요.,,,', 'star': 5, 'date': '2018년 12월 17일'}\n",
      "{'text': '너무 좋아용~ 흐린날 사진도 예쁘게,보정가능하고 좋아요', 'star': 5, 'date': '2020년 10월 3일'}\n",
      "{'text': '기능이 너무 좋아요!!💕💕로그인도 안해두되고 필터가 많아서 좋아요 추천해요!!!', 'star': 5, 'date': '2020년 6월 1일'}\n",
      "{'text': '.. 진짜 좋아요.. 제가 하늘과 식물 동물 이런걸 많이 찍는데 여행가서도 유용하고 먹구름 가득한 하늘에도 새파랗고 쨍하게 만들어 주니깐 완전 꿀이네요. ㅋㅋ 근데 가끔 위쪽 하늘은 인식이 되는데 밑쪽 하늘이 인식이 안될때가 있네요ㅜㅜ 아무튼 여러분 이거 꼭까세요 !!!! 왕추천✌', 'star': 5, 'date': '2019년 1월 29일'}\n",
      "{'text': '보정 진짜 너무너무너무 이쁜데 하늘이 엄청 크게 나와도 인식을 잘 못할때가 많아서 아쉬워요ㅠ', 'star': 5, 'date': '2020년 4월 10일'}\n",
      "{'text': '좋아요! 근데 연속ㅊ할영이나 영상기능이 았으면 좋을거같아여', 'star': 5, 'date': '2021년 4월 26일'}\n",
      "{'text': '좋아요 덕분에 이쁘게 사진남길수있어요 필터도 이쁘고 무엇보다 손끝에솜사탕 필터 좋아요', 'star': 5, 'date': '2018년 10월 9일'}\n",
      "{'text': '색감 좋아요 좀더 다양하게 보정할수있게 버튼 추가부탁드려요.', 'star': 5, 'date': '2019년 7월 28일'}\n",
      "{'text': '너무 이쁘고 즐거웠던 추억들이 더욱더 멋진 추억이 되었네요 고마워요 ㅎㅎ', 'star': 5, 'date': '2021년 4월 18일'}\n",
      "{'text': '배경이 흐린 사진도 이쁘게 보정이 되서 참 좋아요♡ 만족하면서 쓰고 있습니당~', 'star': 5, 'date': '2019년 7월 28일'}\n",
      "{'text': '지금 까지 써봣던 카메라중에 제일 고급지고 예쁜거같아요 ❤ 이대로 쭉간다면 언젠가는 많은사람들이 알아주실꺼같아요 !!', 'star': 5, 'date': '2018년 12월 28일'}\n",
      "{'text': '흐린날 사진을 조금 맑은날씨로 보정하고싶어 사용해보았는데 정말 좋네요^_^', 'star': 5, 'date': '2021년 3월 28일'}\n",
      "{'text': '우중충한 하늘 찍히면 사진 아까웠는데 아주 한층 사진이 예뻐서 살릴수 있어 좋아요', 'star': 5, 'date': '2020년 3월 3일'}\n",
      "{'text': '카메라 너모 조아요♡ 제가 카메라 쓰던게 있는데 용량때매 그거 삭제하고 쓰는데.. 후회되질 않네요!! 진짜 짱 조아요 인생 카메라네요💟', 'star': 5, 'date': '2019년 1월 16일'}\n",
      "{'text': '한늘이 예쁘게 돼서 좋고 필터를 안낀거 같아요', 'star': 5, 'date': '2024년 2월 18일'}\n",
      "{'text': '쳬고에용! 날씨가흐린상태로찍었는데 얼굴만 잘나와서 엄청 고민하고있었는데 이 앱 덕분에 방에서 개꿀먹었습니다. 감사해용', 'star': 5, 'date': '2019년 6월 23일'}\n",
      "{'text': '필터도 완전 예쁘고, 사진도 완전 아름답게~(?) 찍혀욧!', 'star': 5, 'date': '2019년 3월 2일'}\n",
      "{'text': '아주자연스럽게 보정이 잘 됨', 'star': 5, 'date': '2024년 2월 20일'}\n",
      "{'text': '너무 좋네요 자연스럽게 사진에 변화를 주면서 넘 예쁘네요', 'star': 5, 'date': '2018년 11월 26일'}\n",
      "{'text': '필터는 참 좋은데 사진 순서가 뒤죽박죽 된다는 점..?이 좀 아쉬워요', 'star': 5, 'date': '2021년 7월 16일'}\n",
      "{'text': '진짜 별것없는 풍경을 영화속의 장면처럼 바꿔주네요.... 정말 신세계예요', 'star': 5, 'date': '2019년 3월 29일'}\n",
      "{'text': '앨범에서 피크닉앱으로 사진 불러올 때 사진들이 저장된 순서대로 나열되었으면 좋겠어요', 'star': 5, 'date': '2020년 6월 9일'}\n",
      "{'text': '배경 보정하는게 너무 간편해서 좋은것 같아요!! 자주 쓸것 같네요ㅎㅎ', 'star': 5, 'date': '2020년 2월 17일'}\n",
      "{'text': '배경이 완전 예뻐져서 신기해요! 사람도 더 생기있어보이게 바뀌는 것 같아요 bb', 'star': 5, 'date': '2019년 4월 14일'}\n",
      "{'text': '완전 짱이에요. 하늘 있는 사진이라면 아무리 못 찍어도 완전 예쁘게 나와요.', 'star': 5, 'date': '2019년 2월 7일'}\n",
      "{'text': '진짜 사진 너무 이쁘게 보정 해주니까 너무 뿌듯하고 진짜 마음에 너무 너무 들어요', 'star': 5, 'date': '2021년 4월 18일'}\n",
      "{'text': '정말 배경이 너무 이쁘게 바뀌네요. 이거 만든 분들 만수무강 하세요', 'star': 5, 'date': '2019년 8월 16일'}\n",
      "{'text': '너무조아요 ㅎㅎ 잘쓰고 있습니다 필터추가 해주시면 좋겠네요><', 'star': 5, 'date': '2020년 8월 30일'}\n",
      "{'text': '간단하게 풍경사진,배경을 기분좋게 만들수 있어 구웃~', 'star': 5, 'date': '2021년 3월 15일'}\n",
      "{'text': '정말 좋은 사진필터 앱 이에용❗정말 강추 드립니다〰그리고 광고도 없어서 좋아욥🎀', 'star': 5, 'date': '2020년 2월 15일'}\n",
      "{'text': '아이폰쓸때는 필터보정어플 많아서 그냥 야외샷보정 할 때만 사용했었는데 와 갤럭시와서 셀카보정 해보고 넘조아서 리뷰같은거 첨남겨욬ㅋㅋㅋㅠ 크림필터써보세영 도쿄필터2번인가.. 하튼 아날로그도쿄중 하나랑 완전똑같은게잇네옄ㅋㅋㅋㅋ 걍중간중간 도쿄랑 파리에서 쓰던거랑 진짜비슷한거많네요ㅠㅠ 다른거도 넘좋아요 개발자님 ㅠㅠ 아 필터 즐겨찾기기능 추가도 고려해주세요@!!', 'star': 5, 'date': '2018년 12월 28일'}\n",
      "{'text': '자꾸만 손이 가네요 마음까지 맑아지는 사진 너무 잘 만드셨네요. 감사합니다.', 'star': 5, 'date': '2023년 11월 7일'}\n",
      "{'text': '하늘색바꾸는거에 정말 만족이에요 손쉽게바꿀수있어서 정말좋네요', 'star': 5, 'date': '2019년 8월 29일'}\n",
      "{'text': '겔럭시 노트10+ 입니다 근데 사진들이 모두 지원하지 않는사진밖에 없네요 어떻게 방법없을까요?', 'star': 5, 'date': '2020년 11월 7일'}\n",
      "{'text': '조아용 흐린날에 사진 찍어서 우울햇는데 피크닉 앱 덕에 사진을 살릴 수있네용!!!!', 'star': 5, 'date': '2020년 8월 2일'}\n",
      "{'text': '너무 좋아요 ❤❤하늘을 대충 찍어도 필터로 이쁘게 꾸밀수있어서 너무 좋아용❤❤', 'star': 5, 'date': '2020년 2월 24일'}\n",
      "{'text': '넘후 좋습니다!! 근데 비디오 기능 있으면 최고일것 같네용...ㅎㅎ', 'star': 5, 'date': '2021년 3월 21일'}\n",
      "{'text': '흐린날 찍었던 사진 맑게 바꾸는거 진짜 이쁘게되네요 ㅎㅎ 완전 좋아요!!', 'star': 5, 'date': '2021년 1월 17일'}\n",
      "{'text': '제가 현장체험날 사진을 찍어 발표자료를 해야했는데 그날 하늘이 엄청 흐리고 어두워서 제가 나타내고싶은 밝은 분위기가 나지 않았는데 아는 언니가 추천해준 이 앱이 떠올라서 사용하니 더욱 화사해져서 그 이후로도 쭉- 사용중입니다!(물론 친구들은 어떻게 했냐면서 물어봐서 친절하게 답해줬고요ㅎㅎ) 아무튼 이 앱을 사용하면 하늘처럼 제 마음도 맑아지는 느낌이 나서 좋구 무엇보다 리뷰에 대댓글(??)을 달아주실때 밝은 분위기가 너무 좋아요ㅠㅠ 앞으로 크닉크닉 피크닉하게 잘돼세요~🌈🌈', 'star': 5, 'date': '2018년 12월 16일'}\n",
      "{'text': '이앱이 광고도 없고 보정하기도 좋은데 점점 쓰다보니까 보정 개수가 쫌 적은듯', 'star': 5, 'date': '2023년 1월 25일'}\n",
      "{'text': '다른 어플에 비해 더 샏상이 선명하게 보여서 더 예쁘게 보여서 추천합니다', 'star': 5, 'date': '2021년 8월 28일'}\n",
      "{'text': '역광사진을 이쁜 배경으로 사릴수 있어 너무 좋아요~ 최고~~~', 'star': 5, 'date': '2022년 6월 16일'}\n",
      "{'text': '필터 색감이 맘에 드네요. 인스타만 사용했는데 피크닉도 종종 사용해야겠어요.', 'star': 5, 'date': '2018년 10월 4일'}\n",
      "{'text': '너무 필터들이 다예뻐요ㅜㅜ 진짜 인생카메라❤ 좋은앱 만들어주셔서 감사해요💟', 'star': 5, 'date': '2019년 1월 14일'}\n",
      "{'text': '진짜 필터가 너무 이뻐요.. 망쳤던 사진들이 다 예쁘게 되네요..감사합니당😆', 'star': 5, 'date': '2020년 6월 7일'}\n",
      "{'text': '망한 사진, 색감 이상한 사진에 영혼을 불어넣어줘용♡ 감사합니다!!', 'star': 5, 'date': '2022년 10월 19일'}\n",
      "{'text': '필터 너무 이쁘고 사진에 필터를 넣어도 진짜 이뻐요ㅠㅜ만들어주셔서 감사합니다ㅠ', 'star': 5, 'date': '2019년 2월 14일'}\n",
      "{'text': '최고네요! 한번에 여러장 일괄보정도 된다면 더더욱 좋을것같아요~^^;;', 'star': 5, 'date': '2022년 10월 22일'}\n",
      "{'text': '와.. 정말 추천드립립니닷!! 강추 강추 !! 한번 씩 써보시는 것을 추천드려욥!!', 'star': 5, 'date': '2021년 9월 30일'}\n",
      "{'text': '너무 잘쓰고 있습니다~!>< 풍경도 자유롭게 할수있어서 좋아요!', 'star': 5, 'date': '2020년 2월 11일'}\n",
      "{'text': '짱이에요 요 이어플을 이제야 알았을까요 ㅜㅠ 감사합니다.', 'star': 5, 'date': '2024년 2월 24일'}\n"
     ]
    }
   ],
   "source": [
    "for i in reviews:\n",
    "    review = {}\n",
    "    review['text'] = i.find_element(By.CSS_SELECTOR, '.h3YV2d').text\n",
    "    review['star'] = len(i.find_elements(By.CSS_SELECTOR, '.F7XJmb'))\n",
    "    review['date'] = i.find_element(By.CSS_SELECTOR, '.bp9Aid').text\n",
    "    result.append(review)\n",
    "    print(review)"
   ]
  },
  {
   "cell_type": "code",
   "execution_count": 47,
   "id": "f761dd27-618f-4bbd-a9d8-b2ce093e1144",
   "metadata": {
    "tags": []
   },
   "outputs": [],
   "source": [
    "# 요소별 추출\n",
    "def get_content(review):\n",
    "    condic = {}\n",
    "    condic['text'] = review.find_element(By.CSS_SELECTOR, 'div.h3YV2d').text\n",
    "    condic['rat'] = len(review.find_elements(By.CSS_SELECTOR, 'span.Z1Dz7b'))\n",
    "    condic['date'] = review.find_element(By.CSS_SELECTOR, 'span.bp9Aid').text\n",
    "    return condic"
   ]
  },
  {
   "cell_type": "code",
   "execution_count": 48,
   "id": "c09c7054-bb58-4a5b-abb7-02a1a1ddbbc2",
   "metadata": {
    "tags": []
   },
   "outputs": [],
   "source": [
    "result = [get_content(review) for review in reviews]"
   ]
  },
  {
   "cell_type": "code",
   "execution_count": 49,
   "id": "4d03e1b0-1a03-45e9-9fb1-424d70afd45d",
   "metadata": {
    "tags": []
   },
   "outputs": [
    {
     "data": {
      "text/html": [
       "<div>\n",
       "<style scoped>\n",
       "    .dataframe tbody tr th:only-of-type {\n",
       "        vertical-align: middle;\n",
       "    }\n",
       "\n",
       "    .dataframe tbody tr th {\n",
       "        vertical-align: top;\n",
       "    }\n",
       "\n",
       "    .dataframe thead th {\n",
       "        text-align: right;\n",
       "    }\n",
       "</style>\n",
       "<table border=\"1\" class=\"dataframe\">\n",
       "  <thead>\n",
       "    <tr style=\"text-align: right;\">\n",
       "      <th></th>\n",
       "      <th>text</th>\n",
       "      <th>rat</th>\n",
       "      <th>date</th>\n",
       "    </tr>\n",
       "  </thead>\n",
       "  <tbody>\n",
       "    <tr>\n",
       "      <th>0</th>\n",
       "      <td>많고 많은 필터어플들이 개성은 별로 없는편인데 피크닉은 독보적인 필터들이 많아서 계...</td>\n",
       "      <td>5</td>\n",
       "      <td>2019년 4월 14일</td>\n",
       "    </tr>\n",
       "    <tr>\n",
       "      <th>1</th>\n",
       "      <td>진짜 이 앱은 남이 알까 무서울 정도로 좋은 앱이네요ㅠㅜㅜ 사진이 세상 예쁘게 되고...</td>\n",
       "      <td>4</td>\n",
       "      <td>2019년 6월 1일</td>\n",
       "    </tr>\n",
       "    <tr>\n",
       "      <th>2</th>\n",
       "      <td>일단 정말 잘 사용하고 있구요!감사합니다! 다만 최근 AI기능 on off가 있어서...</td>\n",
       "      <td>4</td>\n",
       "      <td>2019년 2월 26일</td>\n",
       "    </tr>\n",
       "    <tr>\n",
       "      <th>3</th>\n",
       "      <td>사진 화질도 아주좋고 쓸만하네요 하지만 사람들이 더 다양하게 커스텀 할수있는 기능을...</td>\n",
       "      <td>5</td>\n",
       "      <td>2024년 1월 8일</td>\n",
       "    </tr>\n",
       "    <tr>\n",
       "      <th>4</th>\n",
       "      <td>배경이 자연스럽게 들어가 흐린날에도 사진찍기 좋고 필터 하나하나 색감도 너무 마음에...</td>\n",
       "      <td>5</td>\n",
       "      <td>2019년 2월 4일</td>\n",
       "    </tr>\n",
       "    <tr>\n",
       "      <th>...</th>\n",
       "      <td>...</td>\n",
       "      <td>...</td>\n",
       "      <td>...</td>\n",
       "    </tr>\n",
       "    <tr>\n",
       "      <th>455</th>\n",
       "      <td>필터 너무 이쁘고 사진에 필터를 넣어도 진짜 이뻐요ㅠㅜ만들어주셔서 감사합니다ㅠ</td>\n",
       "      <td>5</td>\n",
       "      <td>2019년 2월 14일</td>\n",
       "    </tr>\n",
       "    <tr>\n",
       "      <th>456</th>\n",
       "      <td>최고네요! 한번에 여러장 일괄보정도 된다면 더더욱 좋을것같아요~^^;;</td>\n",
       "      <td>5</td>\n",
       "      <td>2022년 10월 22일</td>\n",
       "    </tr>\n",
       "    <tr>\n",
       "      <th>457</th>\n",
       "      <td>와.. 정말 추천드립립니닷!! 강추 강추 !! 한번 씩 써보시는 것을 추천드려욥!!</td>\n",
       "      <td>5</td>\n",
       "      <td>2021년 9월 30일</td>\n",
       "    </tr>\n",
       "    <tr>\n",
       "      <th>458</th>\n",
       "      <td>너무 잘쓰고 있습니다~!&gt;&lt; 풍경도 자유롭게 할수있어서 좋아요!</td>\n",
       "      <td>5</td>\n",
       "      <td>2020년 2월 11일</td>\n",
       "    </tr>\n",
       "    <tr>\n",
       "      <th>459</th>\n",
       "      <td>짱이에요 요 이어플을 이제야 알았을까요 ㅜㅠ 감사합니다.</td>\n",
       "      <td>5</td>\n",
       "      <td>2024년 2월 24일</td>\n",
       "    </tr>\n",
       "  </tbody>\n",
       "</table>\n",
       "<p>460 rows × 3 columns</p>\n",
       "</div>"
      ],
      "text/plain": [
       "                                                  text  rat           date\n",
       "0    많고 많은 필터어플들이 개성은 별로 없는편인데 피크닉은 독보적인 필터들이 많아서 계...    5   2019년 4월 14일\n",
       "1    진짜 이 앱은 남이 알까 무서울 정도로 좋은 앱이네요ㅠㅜㅜ 사진이 세상 예쁘게 되고...    4    2019년 6월 1일\n",
       "2    일단 정말 잘 사용하고 있구요!감사합니다! 다만 최근 AI기능 on off가 있어서...    4   2019년 2월 26일\n",
       "3    사진 화질도 아주좋고 쓸만하네요 하지만 사람들이 더 다양하게 커스텀 할수있는 기능을...    5    2024년 1월 8일\n",
       "4    배경이 자연스럽게 들어가 흐린날에도 사진찍기 좋고 필터 하나하나 색감도 너무 마음에...    5    2019년 2월 4일\n",
       "..                                                 ...  ...            ...\n",
       "455        필터 너무 이쁘고 사진에 필터를 넣어도 진짜 이뻐요ㅠㅜ만들어주셔서 감사합니다ㅠ    5   2019년 2월 14일\n",
       "456            최고네요! 한번에 여러장 일괄보정도 된다면 더더욱 좋을것같아요~^^;;    5  2022년 10월 22일\n",
       "457     와.. 정말 추천드립립니닷!! 강추 강추 !! 한번 씩 써보시는 것을 추천드려욥!!    5   2021년 9월 30일\n",
       "458                너무 잘쓰고 있습니다~!>< 풍경도 자유롭게 할수있어서 좋아요!    5   2020년 2월 11일\n",
       "459                    짱이에요 요 이어플을 이제야 알았을까요 ㅜㅠ 감사합니다.    5   2024년 2월 24일\n",
       "\n",
       "[460 rows x 3 columns]"
      ]
     },
     "execution_count": 49,
     "metadata": {},
     "output_type": "execute_result"
    }
   ],
   "source": [
    "df = pd.DataFrame(result)\n",
    "df"
   ]
  },
  {
   "cell_type": "markdown",
   "id": "1ecfb625-0df0-4aca-a8ff-5dd3cd375b64",
   "metadata": {},
   "source": [
    "## 예제) 대한민국 지역 여행기사 수집\n",
    "예제 페이지 URL     \n",
    "https://korean.visitkorea.or.kr/search/search_list.do?keyword=%EC%A0%9C%EC%A3%BC%EB%8F%84"
   ]
  },
  {
   "cell_type": "code",
   "execution_count": 74,
   "id": "e56645c9-e921-46e2-bdc0-f3be380bbd94",
   "metadata": {
    "tags": []
   },
   "outputs": [],
   "source": [
    "from selenium import webdriver\n",
    "from selenium.webdriver.common.by import By\n",
    "from selenium.webdriver.chrome.options import Options\n",
    "import math, time\n",
    "\n",
    "options = Options()\n",
    "options.add_argument('--window-size=974,1047')\n",
    "options.add_argument('--window-position=-7,0')\n",
    "options.add_experimental_option(\"detach\", True)"
   ]
  },
  {
   "cell_type": "code",
   "execution_count": 76,
   "id": "b2469ff5-1d9a-4af5-990b-6e7850648b08",
   "metadata": {
    "tags": []
   },
   "outputs": [
    {
     "name": "stdin",
     "output_type": "stream",
     "text": [
      "검색어를 입력하세요. 제주도\n"
     ]
    }
   ],
   "source": [
    "search = input('검색어를 입력하세요.')"
   ]
  },
  {
   "cell_type": "code",
   "execution_count": 77,
   "id": "683f4b2e-bf6e-4a0e-b80e-e104abea64f3",
   "metadata": {
    "tags": []
   },
   "outputs": [],
   "source": [
    "URL = 'https://korean.visitkorea.or.kr/search/search_list.do?keyword='+search\n",
    "\n",
    "driver = webdriver.Chrome(options=options)\n",
    "driver.get(URL)\n",
    "time.sleep(3)"
   ]
  },
  {
   "cell_type": "markdown",
   "id": "2d997c08-263e-4d59-9cd1-dd981e7590fa",
   "metadata": {},
   "source": [
    "### quiz : 여행기사 더보기 클릭하기"
   ]
  },
  {
   "cell_type": "code",
   "execution_count": 56,
   "id": "c7fb374f-cffd-4bca-857f-63b8303123a9",
   "metadata": {
    "tags": []
   },
   "outputs": [],
   "source": [
    "# 여행기사 더보기 클릭\n",
    "# driver.find_element(By.CSS_SELECTOR, \".more_view > a\").click()\n",
    "driver.find_element(By.CSS_SELECTOR, \"#s_recommend > .more_view > a\").click()"
   ]
  },
  {
   "cell_type": "markdown",
   "id": "5561ef4e-5fc8-494f-9058-fb9ecc13c244",
   "metadata": {
    "tags": []
   },
   "source": [
    "### quiz : 타이틀 추출해서 출력하기"
   ]
  },
  {
   "cell_type": "code",
   "execution_count": 59,
   "id": "7b0ce593-9502-4fa1-9c9b-fa8078408a2a",
   "metadata": {
    "tags": []
   },
   "outputs": [
    {
     "data": {
      "text/plain": [
       "''"
      ]
     },
     "execution_count": 59,
     "metadata": {},
     "output_type": "execute_result"
    }
   ],
   "source": [
    "result = driver.find_elements(By.CSS_SELECTOR, '.tit a')\n",
    "result[0].text"
   ]
  },
  {
   "cell_type": "code",
   "execution_count": 60,
   "id": "5cae9b8e-270e-4625-aea3-31fe8a91244f",
   "metadata": {
    "tags": []
   },
   "outputs": [
    {
     "name": "stdout",
     "output_type": "stream",
     "text": [
      "\n",
      "\n",
      "\n",
      "\n",
      "\n",
      "\n",
      "\n",
      "\n",
      "\n",
      "\n",
      "\n",
      "\n",
      "\n",
      "\n",
      "\n",
      "\n",
      "\n",
      "\n",
      "\n",
      "\n",
      "\n",
      "\n",
      "\n",
      "\n",
      "해변산책부터 레이싱까지, 제주 반려동물 동반여행 추천 코스\n",
      "제주도가 품은 신비의 화산 숲, 환상숲곶자왈공원\n",
      "한국관광공사 추천 2월 걷기여행길, 이른 봄을 맞이하는 걷기길\n",
      "제주도의 숨겨진 재미를 찾는\n",
      "<놀멍, 배우멍 제주마을체험 - 1일형 체험학습>\n",
      "제주도 조천읍 버킷리스트 여행지 작성하기\n",
      "김창열의 회귀 철학을 건축으로 표현한 미술관, 제주도립김창열미술관\n",
      "[국내 트레킹 추천]\n",
      "제주 올레길 걷기 여행,\n",
      "준비부터 코스 선택까지 꿀팁 총정리!\n",
      "4월 제주도 가볼 만한, 가파도 청보리 축제\n",
      "제주도 유채꽃 명소 추천, 봄에 떠나는 인생샷 여행\n",
      "소소한 '제주여행' 꿀팁! 〈겨울편〉\n"
     ]
    }
   ],
   "source": [
    "result = driver.find_elements(By.CSS_SELECTOR, '.tit a')\n",
    "for i in range(len(result)):\n",
    "    print(result[i].text)"
   ]
  },
  {
   "cell_type": "code",
   "execution_count": 61,
   "id": "eaf5cbd5-df39-437e-910a-900c942da685",
   "metadata": {
    "tags": []
   },
   "outputs": [
    {
     "data": {
      "text/plain": [
       "'해변산책부터 레이싱까지, 제주 반려동물 동반여행 추천 코스'"
      ]
     },
     "execution_count": 61,
     "metadata": {},
     "output_type": "execute_result"
    }
   ],
   "source": [
    "a = driver.find_element(By.XPATH, '//*[@id=\"search_result\"]/ul/li[1]/div[1]/div[1]/a')\n",
    "a.text"
   ]
  },
  {
   "cell_type": "markdown",
   "id": "387f520f-32ae-4756-b8ff-13c38b2ed9ff",
   "metadata": {},
   "source": [
    "### quiz : 전체 콘텐츠를 모두 선택하려면?"
   ]
  },
  {
   "cell_type": "code",
   "execution_count": 62,
   "id": "ec4e15e7-330b-44b6-8d24-605f0d1ef4b8",
   "metadata": {
    "tags": []
   },
   "outputs": [
    {
     "data": {
      "text/plain": [
       "(10, '해변산책부터 레이싱까지, 제주 반려동물 동반여행 추천 코스', '제주도가 품은 신비의 화산 숲, 환상숲곶자왈공원')"
      ]
     },
     "execution_count": 62,
     "metadata": {},
     "output_type": "execute_result"
    }
   ],
   "source": [
    "# tit_xpath = '//*[@id=\"search_result\"]/ul/li/div/div/a' # 해당 요소가 하나씩일 때\n",
    "tit_xpath = '//*[@id=\"search_result\"]/ul/li[*]/div[1]/div[1]/a'\n",
    "result = driver.find_elements(By.XPATH, tit_xpath)\n",
    "len(result), result[0].text, result[1].text"
   ]
  },
  {
   "cell_type": "code",
   "execution_count": 63,
   "id": "cef482db-9a25-4d93-8aa4-83f8f55a7bc8",
   "metadata": {
    "tags": []
   },
   "outputs": [
    {
     "name": "stdout",
     "output_type": "stream",
     "text": [
      "1 해변산책부터 레이싱까지, 제주 반려동물 동반여행 추천 코스\n",
      "2 제주도가 품은 신비의 화산 숲, 환상숲곶자왈공원\n",
      "3 한국관광공사 추천 2월 걷기여행길, 이른 봄을 맞이하는 제주도 걷기길\n",
      "4 제주도의 숨겨진 재미를 찾는\n",
      "<놀멍, 배우멍 제주마을체험 - 1일형 체험학습>\n",
      "5 제주도 조천읍 버킷리스트 여행지 작성하기\n",
      "6 김창열의 회귀 철학을 건축으로 표현한 미술관, 제주도립김창열미술관\n",
      "7 [국내 트레킹 추천]\n",
      "제주 올레길 걷기 여행,\n",
      "준비부터 코스 선택까지 꿀팁 총정리!\n",
      "8 4월 제주도 가볼 만한, 가파도 청보리 축제\n",
      "9 제주도 유채꽃 명소 추천, 봄에 떠나는 인생샷 여행\n",
      "10 소소한 '제주여행' 꿀팁! 〈겨울편〉\n"
     ]
    }
   ],
   "source": [
    "for i, title in enumerate(result, 1):\n",
    "#     print(i, title.text)\n",
    "    print(i, title.text)"
   ]
  },
  {
   "cell_type": "markdown",
   "id": "d3d50a13-53d4-48b6-a038-2b6121a61784",
   "metadata": {},
   "source": [
    "## 페이지 이동\n",
    "```\n",
    "1 : 수집 갯수를 입력받는다.\n",
    "2 : 수집 갯수에 따라 페이지를 이동한다.\n",
    "3 : 각 페이지별 데이터를 수집한다. (타이틀 텍스트)\n",
    "4 : 출력\n",
    "```\n"
   ]
  },
  {
   "cell_type": "markdown",
   "id": "b6530f36-c6ce-4b26-873d-b08f659b1f83",
   "metadata": {},
   "source": [
    "### quiz : 2번 페이지 버튼 클릭"
   ]
  },
  {
   "cell_type": "code",
   "execution_count": 67,
   "id": "e1a08db4-fb99-4adf-b5f3-8f3ec3946c6a",
   "metadata": {
    "tags": []
   },
   "outputs": [],
   "source": [
    "# 2번 페이지 버튼 클릭해보자\n",
    "driver.find_element(By.XPATH, '/html/body/div[3]/div/div[1]/div[14]/a[2]').click()"
   ]
  },
  {
   "cell_type": "code",
   "execution_count": 68,
   "id": "c9f7d781-78f6-469e-b672-3f0d8be3c6b2",
   "metadata": {
    "tags": []
   },
   "outputs": [
    {
     "name": "stdin",
     "output_type": "stream",
     "text": [
      "크롤링 할 건수는 몇건입니까?:  15\n"
     ]
    },
    {
     "data": {
      "text/plain": [
       "15"
      ]
     },
     "execution_count": 68,
     "metadata": {},
     "output_type": "execute_result"
    }
   ],
   "source": [
    "cnt = int(input('스크래핑 건수는 몇건입니까?: '))\n",
    "cnt"
   ]
  },
  {
   "cell_type": "code",
   "execution_count": 69,
   "id": "3064c41c-8b8f-4ee0-a605-5e65b5047a1a",
   "metadata": {
    "tags": []
   },
   "outputs": [
    {
     "name": "stdout",
     "output_type": "stream",
     "text": [
      "2\n"
     ]
    }
   ],
   "source": [
    "page_cnt = math.ceil(cnt/10)\n",
    "print(page_cnt)"
   ]
  },
  {
   "cell_type": "markdown",
   "id": "8dc8225f-e12d-4a13-8d81-297bcaffacbd",
   "metadata": {},
   "source": [
    "### quiz : 사용자 입력을 받아 페이지를 순환하여 수집하라(출력까지만)"
   ]
  },
  {
   "cell_type": "code",
   "execution_count": 70,
   "id": "0230d44a-d067-480c-9b12-0f7e0795071c",
   "metadata": {
    "tags": []
   },
   "outputs": [
    {
     "name": "stdout",
     "output_type": "stream",
     "text": [
      "========= 1 페이지 작업 =========\n",
      "1 해변산책부터 레이싱까지, 제주 반려동물 동반여행 추천 코스\n",
      "2 제주도가 품은 신비의 화산 숲, 환상숲곶자왈공원\n",
      "3 한국관광공사 추천 2월 걷기여행길, 이른 봄을 맞이하는 제주도 걷기길\n",
      "4 제주도의 숨겨진 재미를 찾는\n",
      "<놀멍, 배우멍 제주마을체험 - 1일형 체험학습>\n",
      "5 제주도 조천읍 버킷리스트 여행지 작성하기\n",
      "6 김창열의 회귀 철학을 건축으로 표현한 미술관, 제주도립김창열미술관\n",
      "7 [국내 트레킹 추천]\n",
      "제주 올레길 걷기 여행,\n",
      "준비부터 코스 선택까지 꿀팁 총정리!\n",
      "8 4월 제주도 가볼 만한, 가파도 청보리 축제\n",
      "9 제주도 유채꽃 명소 추천, 봄에 떠나는 인생샷 여행\n",
      "10 소소한 '제주여행' 꿀팁! 〈겨울편〉\n",
      "========= 2 페이지 작업 =========\n",
      "11 연말연시 제주도 여행 추천 코스,\n",
      "가족여행 가볼 만한 곳\n",
      "12 새하얀 눈으로 덮인 제주도 설경 명소 4\n",
      "13 제주 6월 걷기 좋은 길, 성안올레 1코스 원도심 투어\n",
      "14 사계절 자연의 아름다움을 간직한 제주시 댕댕이 추천코스\n",
      "15 제주도 '한정'여행지,\n",
      "제주도의 이색 공간을 찾아서\n",
      "========= 작업 완료 =========\n"
     ]
    }
   ],
   "source": [
    "tit_xpath = '//*[@id=\"search_result\"]/ul/li[*]/div[1]/div[1]/a'\n",
    "no = 0\n",
    "\n",
    "for x in range(1, page_cnt+1):\n",
    "    print(f'========= {x} 페이지 작업 =========')\n",
    "    mylist = driver.find_elements(By.XPATH, tit_xpath)\n",
    "    \n",
    "    for item in mylist:\n",
    "        no += 1\n",
    "        if no > cnt:\n",
    "            break\n",
    "        print(no, item.text)\n",
    "    \n",
    "    if no <= cnt:\n",
    "        a = f'/html/body/div[3]/div/div[1]/div[14]/a[{x+1}]'\n",
    "        driver.find_element(By.XPATH, a).click()\n",
    "#         next_button = driver.find_element(By.CSS_SELECTOR, f\"a[id='{x+1}']\")\n",
    "#         driver.execute_script(\"arguments[0].click();\", next_button)\n",
    "        time.sleep(2)\n",
    "    \n",
    "print('========= 작업 완료 =========')\n",
    "# driver.close()"
   ]
  },
  {
   "cell_type": "code",
   "execution_count": 71,
   "id": "8dd5808f-55f1-4a42-b156-7314507d2886",
   "metadata": {
    "tags": []
   },
   "outputs": [
    {
     "name": "stdout",
     "output_type": "stream",
     "text": [
      "========= 1 페이지 작업 =========\n",
      "1 해변산책부터 레이싱까지, 제주 반려동물 동반여행 추천 코스\n",
      "2 제주도가 품은 신비의 화산 숲, 환상숲곶자왈공원\n",
      "3 한국관광공사 추천 2월 걷기여행길, 이른 봄을 맞이하는 제주도 걷기길\n",
      "4 제주도의 숨겨진 재미를 찾는\n",
      "<놀멍, 배우멍 제주마을체험 - 1일형 체험학습>\n",
      "5 제주도 조천읍 버킷리스트 여행지 작성하기\n",
      "6 김창열의 회귀 철학을 건축으로 표현한 미술관, 제주도립김창열미술관\n",
      "7 [국내 트레킹 추천]\n",
      "제주 올레길 걷기 여행,\n",
      "준비부터 코스 선택까지 꿀팁 총정리!\n",
      "8 4월 제주도 가볼 만한, 가파도 청보리 축제\n",
      "9 제주도 유채꽃 명소 추천, 봄에 떠나는 인생샷 여행\n",
      "10 소소한 '제주여행' 꿀팁! 〈겨울편〉\n",
      "========= 2 페이지 작업 =========\n",
      "11 연말연시 제주도 여행 추천 코스,\n",
      "가족여행 가볼 만한 곳\n",
      "12 새하얀 눈으로 덮인 제주도 설경 명소 4\n",
      "13 제주 6월 걷기 좋은 길, 성안올레 1코스 원도심 투어\n",
      "14 사계절 자연의 아름다움을 간직한 제주시 댕댕이 추천코스\n",
      "15 제주도 '한정'여행지,\n",
      "제주도의 이색 공간을 찾아서\n",
      "========= 작업 완료 =========\n"
     ]
    }
   ],
   "source": [
    "# xpath대신 execute_script함수 사용\n",
    "tit_xpath = '//*[@id=\"search_result\"]/ul/li[*]/div[1]/div[1]/a'\n",
    "no = 0\n",
    "\n",
    "for x in range(1, page_cnt+1):\n",
    "    print(f'========= {x} 페이지 작업 =========')\n",
    "    mylist = driver.find_elements(By.XPATH, tit_xpath)\n",
    "    \n",
    "    for item in mylist:\n",
    "        no += 1\n",
    "        if no > cnt:\n",
    "            break\n",
    "        print(no, item.text)\n",
    "    \n",
    "    if no <= cnt:\n",
    "        next_button = driver.find_element(By.CSS_SELECTOR, f\"a[id='{x+1}']\")\n",
    "        driver.execute_script(\"arguments[0].click();\", next_button)\n",
    "        time.sleep(2)\n",
    "        \n",
    "print('========= 작업 완료 =========')\n",
    "driver.close()"
   ]
  },
  {
   "cell_type": "markdown",
   "id": "d299e9b3-bbd4-4fb8-aed0-0b0d06b68560",
   "metadata": {
    "tags": []
   },
   "source": [
    "## quiz : 6p를 넘어가는 페이지 순환 프로그램 만들기"
   ]
  },
  {
   "cell_type": "code",
   "execution_count": 85,
   "id": "d094d945-a102-4154-a77a-9885a8a9c584",
   "metadata": {
    "tags": []
   },
   "outputs": [],
   "source": [
    "from selenium import webdriver\n",
    "from selenium.webdriver.common.by import By\n",
    "from selenium.webdriver.chrome.options import Options\n",
    "import math, time\n",
    "\n",
    "options = Options()\n",
    "options.add_argument('--window-size=974,1047')\n",
    "options.add_argument('--window-position=-7,0')\n",
    "options.add_experimental_option(\"detach\", True)"
   ]
  },
  {
   "cell_type": "code",
   "execution_count": 86,
   "id": "2cf099fa-1554-4459-adf8-f1ab56890592",
   "metadata": {
    "tags": []
   },
   "outputs": [
    {
     "name": "stdin",
     "output_type": "stream",
     "text": [
      "검색어를 입력하세요. 제주도\n"
     ]
    }
   ],
   "source": [
    "search = input('검색어를 입력하세요.')"
   ]
  },
  {
   "cell_type": "code",
   "execution_count": 87,
   "id": "2426f75a-11c3-44a1-90f7-68c88fb53afe",
   "metadata": {
    "tags": []
   },
   "outputs": [],
   "source": [
    "URL = 'https://korean.visitkorea.or.kr/search/search_list.do?keyword='+search\n",
    "\n",
    "driver = webdriver.Chrome(options=options)\n",
    "driver.get(URL)\n",
    "time.sleep(3)"
   ]
  },
  {
   "cell_type": "code",
   "execution_count": 88,
   "id": "d57fdc99-c9be-4d1e-86b5-8769fa62a91d",
   "metadata": {
    "tags": []
   },
   "outputs": [],
   "source": [
    "# 여행기사 더보기 클릭\n",
    "# driver.find_element(By.CSS_SELECTOR, \".more_view > a\").click()\n",
    "driver.find_element(By.CSS_SELECTOR, \"#s_recommend > .more_view > a\").click()"
   ]
  },
  {
   "cell_type": "code",
   "execution_count": 91,
   "id": "494efb66-a4c5-4e4d-806d-7307eb6b5bc5",
   "metadata": {
    "tags": []
   },
   "outputs": [
    {
     "name": "stdin",
     "output_type": "stream",
     "text": [
      "스크래핑 건수는 몇건입니까?:  55\n"
     ]
    },
    {
     "data": {
      "text/plain": [
       "55"
      ]
     },
     "execution_count": 91,
     "metadata": {},
     "output_type": "execute_result"
    }
   ],
   "source": [
    "scrap_cnt = int(input('스크래핑 건수는 몇건입니까?: '))\n",
    "scrap_cnt"
   ]
  },
  {
   "cell_type": "code",
   "execution_count": 93,
   "id": "9deac771-acb7-4135-ab70-5833502c5ad0",
   "metadata": {
    "tags": []
   },
   "outputs": [
    {
     "name": "stdout",
     "output_type": "stream",
     "text": [
      "6\n"
     ]
    }
   ],
   "source": [
    "page_cnt = math.ceil(scrap_cnt/10)\n",
    "print(page_cnt)"
   ]
  },
  {
   "cell_type": "code",
   "execution_count": 112,
   "id": "3de4e9cb-9fc4-40d9-9909-e5ced9633047",
   "metadata": {
    "tags": []
   },
   "outputs": [
    {
     "name": "stdout",
     "output_type": "stream",
     "text": [
      "========= 1 페이지 작업 =========\n",
      "1 해변산책부터 레이싱까지, 제주 반려동물 동반여행 추천 코스\n",
      "2 제주도가 품은 신비의 화산 숲, 환상숲곶자왈공원\n",
      "3 한국관광공사 추천 2월 걷기여행길, 이른 봄을 맞이하는 제주도 걷기길\n",
      "4 제주도의 숨겨진 재미를 찾는\n",
      "<놀멍, 배우멍 제주마을체험 - 1일형 체험학습>\n",
      "5 제주도 조천읍 버킷리스트 여행지 작성하기\n",
      "6 김창열의 회귀 철학을 건축으로 표현한 미술관, 제주도립김창열미술관\n",
      "7 [국내 트레킹 추천]\n",
      "제주 올레길 걷기 여행,\n",
      "준비부터 코스 선택까지 꿀팁 총정리!\n",
      "8 4월 제주도 가볼 만한, 가파도 청보리 축제\n",
      "9 제주도 유채꽃 명소 추천, 봄에 떠나는 인생샷 여행\n",
      "10 소소한 '제주여행' 꿀팁! 〈겨울편〉\n",
      "10\n",
      "========= 2 페이지 작업 =========\n",
      "11 연말연시 제주도 여행 추천 코스,\n",
      "가족여행 가볼 만한 곳\n",
      "12 새하얀 눈으로 덮인 제주도 설경 명소 4\n",
      "13 제주 6월 걷기 좋은 길, 성안올레 1코스 원도심 투어\n",
      "14 사계절 자연의 아름다움을 간직한 제주시 댕댕이 추천코스\n",
      "15 제주도 '한정'여행지,\n",
      "제주도의 이색 공간을 찾아서\n",
      "16 멈춤과 완보로 만나는 제주 생각하는정원\n",
      "17 2월 놓치지 말아야 할 제주 관광 10선\n",
      "<2월 제주, 먼저 온 봄기운에 마음 돌랑돌랑>\n",
      "18 제주의 아크로폴리스를 아시나요? - 제주 원도심 (제주목관아 중심)\n",
      "19 맛있는 음식에 여행의 기쁨은 두 배! <제주 식도락 여행>\n",
      "20 제주 여행, 은빛 물결이 일렁이는 제주도 억새 명소 모음\n",
      "20\n",
      "========= 3 페이지 작업 =========\n",
      "21 반려견과 떠나는 여행 <제주 반려견 숙소&카페>\n",
      "22 설렘과 여유가 가득한 제주 여행\n",
      "23 빛으로 물든 '로맨틱 제주' <제주 야간 관광지>\n",
      "24 12월 놓치지 말아야 할 제주 관광 10선\n",
      "<올해도 애쓴 당신과 나, 12월의 제주에서 쉬멍쉬멍>\n",
      "25 마음까지 화사해지는\n",
      "제주도 봄꽃 여행\n",
      "26 제주도 서쪽에서 즐기는 꽉 찬 여행 코스\n",
      "27 [팜스테이션] 제주공항과 아름다운 해안이 인접한 워케이션 공간\n",
      "28 제주의 숨겨진 구석구석을 살펴보자, 제주도 박물관 여행\n",
      "29 안심관광에 알맞은 최고의 야외 공연과 체험 - 제주 더마(馬)파크\n",
      "30 [질그랭이 거점 센터] 조용한 제주 해안마을에서 즐기는 워케이션\n",
      "30\n",
      "========= 4 페이지 작업 =========\n",
      "31 [제주] 푸른 밤의 따뜻한 꿈\n",
      "32 1월 놓치지 말아야 할 제주 관광 10선\n",
      "<멋진 새날을 희망하며, 엄블랑한 1월 제주>\n",
      "33 섬 속의 섬 그리고 가장 제주다운 섬, 제주 우도\n",
      "34 제주 해녀들의 “호오이 호오이” 숨비소리 찾는 여행 – 제주해녀박물관과 숨비소리길\n",
      "35 제주도 서귀포 가볼 만한 곳,\n",
      "초록이 가득한 남쪽 여행 코스\n",
      "36 돌이 나에게 말을 걸어오는 시적(詩的)인 곳– 제주돌문화공원\n",
      "37 [디어먼데이 제주] 월요병이 없는 세상을 꿈꾸는 이들의 제주 워케이션\n",
      "38 비움과 채움의 조화로 완성한 웰니스 라이프, 제주901\n",
      "39 제주의 자연과 제주인의 삶을 최단시간에 알 수 있는 곳! - 제주민속자연사박물관\n",
      "40 환경생태가 살아있는 진짜 제주의 숲을 만나다 – 제주절물자연휴양림과 장생의 숲길\n",
      "40\n",
      "========= 5 페이지 작업 =========\n",
      "41 [제주도 가볼 만한 곳] 섬 안에 섬을 여행하는 방법, 가파도 여행 코스\n",
      "42 제주 가볼만한 곳. 가족과 함께 제주도 구석구석, 당일치기 필수 코스 4\n",
      "43 [번아웃 트래블 EP.1] 넉살 발성에 귀가 뚫렸습니다! | 제주도여행\n",
      "44 [김녕 어촌체험휴양마을] 제주 김녕바다를 바라보며 업무를 즐기는 워케이션\n",
      "45 엄마 아빠에겐 쉼표, 아이에겐 느낌표! 아이와 떠나는 제주 여행\n",
      "46 [온실(프립캠프)] 업무와 휴식, 액티비티까지 한 번에 즐기는 워케이션\n",
      "47 랜선으로 먼저 온 봄 맞이하기!\n",
      "일출로 시작하는 제주도 동쪽 코스\n",
      "48 [국내여행 버킷리스트 3탄] 올 여름엔 제주도 자전거 여행이다!\n",
      "49 2월 제주 여행, 성산일출봉 근처 인생사진 명소로 유명한 제주 동쪽 핫플레이스 4\n",
      "50 [코사이어티 빌리지] 녹음이 우거진 제주 동쪽 영감의 공간\n",
      "50\n"
     ]
    },
    {
     "ename": "StaleElementReferenceException",
     "evalue": "Message: stale element reference: stale element not found in the current frame\n  (Session info: chrome=126.0.6478.63); For documentation on this error, please visit: https://www.selenium.dev/documentation/webdriver/troubleshooting/errors#stale-element-reference-exception\nStacktrace:\n\tGetHandleVerifier [0x00007FF614A2EEA2+31554]\n\t(No symbol) [0x00007FF6149A7ED9]\n\t(No symbol) [0x00007FF61486872A]\n\t(No symbol) [0x00007FF61486E55E]\n\t(No symbol) [0x00007FF614870EB1]\n\t(No symbol) [0x00007FF614870F50]\n\t(No symbol) [0x00007FF6148C0019]\n\t(No symbol) [0x00007FF6148BDAF2]\n\t(No symbol) [0x00007FF6148BAF8B]\n\t(No symbol) [0x00007FF6148BA156]\n\t(No symbol) [0x00007FF6148AC151]\n\t(No symbol) [0x00007FF6148DD02A]\n\t(No symbol) [0x00007FF6148ABA76]\n\t(No symbol) [0x00007FF6148DD240]\n\t(No symbol) [0x00007FF6148FC977]\n\t(No symbol) [0x00007FF6148DCDD3]\n\t(No symbol) [0x00007FF6148AA33B]\n\t(No symbol) [0x00007FF6148AAED1]\n\tGetHandleVerifier [0x00007FF614D38B1D+3217341]\n\tGetHandleVerifier [0x00007FF614D85AE3+3532675]\n\tGetHandleVerifier [0x00007FF614D7B0E0+3489152]\n\tGetHandleVerifier [0x00007FF614ADE776+750614]\n\t(No symbol) [0x00007FF6149B375F]\n\t(No symbol) [0x00007FF6149AEB14]\n\t(No symbol) [0x00007FF6149AECA2]\n\t(No symbol) [0x00007FF61499E16F]\n\tBaseThreadInitThunk [0x00007FF81BC07344+20]\n\tRtlUserThreadStart [0x00007FF81C09CC91+33]\n",
     "output_type": "error",
     "traceback": [
      "\u001b[1;31m---------------------------------------------------------------------------\u001b[0m",
      "\u001b[1;31mStaleElementReferenceException\u001b[0m            Traceback (most recent call last)",
      "\u001b[1;32m~\\AppData\\Local\\Temp\\ipykernel_6592\\2898773709.py\u001b[0m in \u001b[0;36m<cell line: 0>\u001b[1;34m()\u001b[0m\n\u001b[0;32m     18\u001b[0m \u001b[1;33m\u001b[0m\u001b[0m\n\u001b[0;32m     19\u001b[0m         \u001b[0ma\u001b[0m \u001b[1;33m=\u001b[0m \u001b[1;34mf'/html/body/div[3]/div/div[1]/div[14]/a[{x+1}]'\u001b[0m\u001b[1;33m\u001b[0m\u001b[1;33m\u001b[0m\u001b[0m\n\u001b[1;32m---> 20\u001b[1;33m         \u001b[0mdriver\u001b[0m\u001b[1;33m.\u001b[0m\u001b[0mfind_element\u001b[0m\u001b[1;33m(\u001b[0m\u001b[0mBy\u001b[0m\u001b[1;33m.\u001b[0m\u001b[0mXPATH\u001b[0m\u001b[1;33m,\u001b[0m \u001b[0ma\u001b[0m\u001b[1;33m)\u001b[0m\u001b[1;33m.\u001b[0m\u001b[0mclick\u001b[0m\u001b[1;33m(\u001b[0m\u001b[1;33m)\u001b[0m\u001b[1;33m\u001b[0m\u001b[1;33m\u001b[0m\u001b[0m\n\u001b[0m\u001b[0;32m     21\u001b[0m \u001b[1;31m#         next_button = driver.find_element(By.CSS_SELECTOR, f\"a[id='{x+1}']\")\u001b[0m\u001b[1;33m\u001b[0m\u001b[1;33m\u001b[0m\u001b[0m\n\u001b[0;32m     22\u001b[0m \u001b[1;31m#         driver.execute_script(\"arguments[0].click();\", next_button)\u001b[0m\u001b[1;33m\u001b[0m\u001b[1;33m\u001b[0m\u001b[0m\n",
      "\u001b[1;32m~\\anaconda3\\Lib\\site-packages\\selenium\\webdriver\\remote\\webelement.py\u001b[0m in \u001b[0;36mclick\u001b[1;34m(self)\u001b[0m\n\u001b[0;32m     92\u001b[0m     \u001b[1;32mdef\u001b[0m \u001b[0mclick\u001b[0m\u001b[1;33m(\u001b[0m\u001b[0mself\u001b[0m\u001b[1;33m)\u001b[0m \u001b[1;33m->\u001b[0m \u001b[1;32mNone\u001b[0m\u001b[1;33m:\u001b[0m\u001b[1;33m\u001b[0m\u001b[1;33m\u001b[0m\u001b[0m\n\u001b[0;32m     93\u001b[0m         \u001b[1;34m\"\"\"Clicks the element.\"\"\"\u001b[0m\u001b[1;33m\u001b[0m\u001b[1;33m\u001b[0m\u001b[0m\n\u001b[1;32m---> 94\u001b[1;33m         \u001b[0mself\u001b[0m\u001b[1;33m.\u001b[0m\u001b[0m_execute\u001b[0m\u001b[1;33m(\u001b[0m\u001b[0mCommand\u001b[0m\u001b[1;33m.\u001b[0m\u001b[0mCLICK_ELEMENT\u001b[0m\u001b[1;33m)\u001b[0m\u001b[1;33m\u001b[0m\u001b[1;33m\u001b[0m\u001b[0m\n\u001b[0m\u001b[0;32m     95\u001b[0m \u001b[1;33m\u001b[0m\u001b[0m\n\u001b[0;32m     96\u001b[0m     \u001b[1;32mdef\u001b[0m \u001b[0msubmit\u001b[0m\u001b[1;33m(\u001b[0m\u001b[0mself\u001b[0m\u001b[1;33m)\u001b[0m \u001b[1;33m->\u001b[0m \u001b[1;32mNone\u001b[0m\u001b[1;33m:\u001b[0m\u001b[1;33m\u001b[0m\u001b[1;33m\u001b[0m\u001b[0m\n",
      "\u001b[1;32m~\\anaconda3\\Lib\\site-packages\\selenium\\webdriver\\remote\\webelement.py\u001b[0m in \u001b[0;36m_execute\u001b[1;34m(self, command, params)\u001b[0m\n\u001b[0;32m    393\u001b[0m             \u001b[0mparams\u001b[0m \u001b[1;33m=\u001b[0m \u001b[1;33m{\u001b[0m\u001b[1;33m}\u001b[0m\u001b[1;33m\u001b[0m\u001b[1;33m\u001b[0m\u001b[0m\n\u001b[0;32m    394\u001b[0m         \u001b[0mparams\u001b[0m\u001b[1;33m[\u001b[0m\u001b[1;34m\"id\"\u001b[0m\u001b[1;33m]\u001b[0m \u001b[1;33m=\u001b[0m \u001b[0mself\u001b[0m\u001b[1;33m.\u001b[0m\u001b[0m_id\u001b[0m\u001b[1;33m\u001b[0m\u001b[1;33m\u001b[0m\u001b[0m\n\u001b[1;32m--> 395\u001b[1;33m         \u001b[1;32mreturn\u001b[0m \u001b[0mself\u001b[0m\u001b[1;33m.\u001b[0m\u001b[0m_parent\u001b[0m\u001b[1;33m.\u001b[0m\u001b[0mexecute\u001b[0m\u001b[1;33m(\u001b[0m\u001b[0mcommand\u001b[0m\u001b[1;33m,\u001b[0m \u001b[0mparams\u001b[0m\u001b[1;33m)\u001b[0m\u001b[1;33m\u001b[0m\u001b[1;33m\u001b[0m\u001b[0m\n\u001b[0m\u001b[0;32m    396\u001b[0m \u001b[1;33m\u001b[0m\u001b[0m\n\u001b[0;32m    397\u001b[0m     \u001b[1;32mdef\u001b[0m \u001b[0mfind_element\u001b[0m\u001b[1;33m(\u001b[0m\u001b[0mself\u001b[0m\u001b[1;33m,\u001b[0m \u001b[0mby\u001b[0m\u001b[1;33m=\u001b[0m\u001b[0mBy\u001b[0m\u001b[1;33m.\u001b[0m\u001b[0mID\u001b[0m\u001b[1;33m,\u001b[0m \u001b[0mvalue\u001b[0m\u001b[1;33m=\u001b[0m\u001b[1;32mNone\u001b[0m\u001b[1;33m)\u001b[0m \u001b[1;33m->\u001b[0m \u001b[0mWebElement\u001b[0m\u001b[1;33m:\u001b[0m\u001b[1;33m\u001b[0m\u001b[1;33m\u001b[0m\u001b[0m\n",
      "\u001b[1;32m~\\anaconda3\\Lib\\site-packages\\selenium\\webdriver\\remote\\webdriver.py\u001b[0m in \u001b[0;36mexecute\u001b[1;34m(self, driver_command, params)\u001b[0m\n\u001b[0;32m    352\u001b[0m         \u001b[0mresponse\u001b[0m \u001b[1;33m=\u001b[0m \u001b[0mself\u001b[0m\u001b[1;33m.\u001b[0m\u001b[0mcommand_executor\u001b[0m\u001b[1;33m.\u001b[0m\u001b[0mexecute\u001b[0m\u001b[1;33m(\u001b[0m\u001b[0mdriver_command\u001b[0m\u001b[1;33m,\u001b[0m \u001b[0mparams\u001b[0m\u001b[1;33m)\u001b[0m\u001b[1;33m\u001b[0m\u001b[1;33m\u001b[0m\u001b[0m\n\u001b[0;32m    353\u001b[0m         \u001b[1;32mif\u001b[0m \u001b[0mresponse\u001b[0m\u001b[1;33m:\u001b[0m\u001b[1;33m\u001b[0m\u001b[1;33m\u001b[0m\u001b[0m\n\u001b[1;32m--> 354\u001b[1;33m             \u001b[0mself\u001b[0m\u001b[1;33m.\u001b[0m\u001b[0merror_handler\u001b[0m\u001b[1;33m.\u001b[0m\u001b[0mcheck_response\u001b[0m\u001b[1;33m(\u001b[0m\u001b[0mresponse\u001b[0m\u001b[1;33m)\u001b[0m\u001b[1;33m\u001b[0m\u001b[1;33m\u001b[0m\u001b[0m\n\u001b[0m\u001b[0;32m    355\u001b[0m             \u001b[0mresponse\u001b[0m\u001b[1;33m[\u001b[0m\u001b[1;34m\"value\"\u001b[0m\u001b[1;33m]\u001b[0m \u001b[1;33m=\u001b[0m \u001b[0mself\u001b[0m\u001b[1;33m.\u001b[0m\u001b[0m_unwrap_value\u001b[0m\u001b[1;33m(\u001b[0m\u001b[0mresponse\u001b[0m\u001b[1;33m.\u001b[0m\u001b[0mget\u001b[0m\u001b[1;33m(\u001b[0m\u001b[1;34m\"value\"\u001b[0m\u001b[1;33m,\u001b[0m \u001b[1;32mNone\u001b[0m\u001b[1;33m)\u001b[0m\u001b[1;33m)\u001b[0m\u001b[1;33m\u001b[0m\u001b[1;33m\u001b[0m\u001b[0m\n\u001b[0;32m    356\u001b[0m             \u001b[1;32mreturn\u001b[0m \u001b[0mresponse\u001b[0m\u001b[1;33m\u001b[0m\u001b[1;33m\u001b[0m\u001b[0m\n",
      "\u001b[1;32m~\\anaconda3\\Lib\\site-packages\\selenium\\webdriver\\remote\\errorhandler.py\u001b[0m in \u001b[0;36mcheck_response\u001b[1;34m(self, response)\u001b[0m\n\u001b[0;32m    227\u001b[0m                 \u001b[0malert_text\u001b[0m \u001b[1;33m=\u001b[0m \u001b[0mvalue\u001b[0m\u001b[1;33m[\u001b[0m\u001b[1;34m\"alert\"\u001b[0m\u001b[1;33m]\u001b[0m\u001b[1;33m.\u001b[0m\u001b[0mget\u001b[0m\u001b[1;33m(\u001b[0m\u001b[1;34m\"text\"\u001b[0m\u001b[1;33m)\u001b[0m\u001b[1;33m\u001b[0m\u001b[1;33m\u001b[0m\u001b[0m\n\u001b[0;32m    228\u001b[0m             \u001b[1;32mraise\u001b[0m \u001b[0mexception_class\u001b[0m\u001b[1;33m(\u001b[0m\u001b[0mmessage\u001b[0m\u001b[1;33m,\u001b[0m \u001b[0mscreen\u001b[0m\u001b[1;33m,\u001b[0m \u001b[0mstacktrace\u001b[0m\u001b[1;33m,\u001b[0m \u001b[0malert_text\u001b[0m\u001b[1;33m)\u001b[0m  \u001b[1;31m# type: ignore[call-arg]  # mypy is not smart enough here\u001b[0m\u001b[1;33m\u001b[0m\u001b[1;33m\u001b[0m\u001b[0m\n\u001b[1;32m--> 229\u001b[1;33m         \u001b[1;32mraise\u001b[0m \u001b[0mexception_class\u001b[0m\u001b[1;33m(\u001b[0m\u001b[0mmessage\u001b[0m\u001b[1;33m,\u001b[0m \u001b[0mscreen\u001b[0m\u001b[1;33m,\u001b[0m \u001b[0mstacktrace\u001b[0m\u001b[1;33m)\u001b[0m\u001b[1;33m\u001b[0m\u001b[1;33m\u001b[0m\u001b[0m\n\u001b[0m",
      "\u001b[1;31mStaleElementReferenceException\u001b[0m: Message: stale element reference: stale element not found in the current frame\n  (Session info: chrome=126.0.6478.63); For documentation on this error, please visit: https://www.selenium.dev/documentation/webdriver/troubleshooting/errors#stale-element-reference-exception\nStacktrace:\n\tGetHandleVerifier [0x00007FF614A2EEA2+31554]\n\t(No symbol) [0x00007FF6149A7ED9]\n\t(No symbol) [0x00007FF61486872A]\n\t(No symbol) [0x00007FF61486E55E]\n\t(No symbol) [0x00007FF614870EB1]\n\t(No symbol) [0x00007FF614870F50]\n\t(No symbol) [0x00007FF6148C0019]\n\t(No symbol) [0x00007FF6148BDAF2]\n\t(No symbol) [0x00007FF6148BAF8B]\n\t(No symbol) [0x00007FF6148BA156]\n\t(No symbol) [0x00007FF6148AC151]\n\t(No symbol) [0x00007FF6148DD02A]\n\t(No symbol) [0x00007FF6148ABA76]\n\t(No symbol) [0x00007FF6148DD240]\n\t(No symbol) [0x00007FF6148FC977]\n\t(No symbol) [0x00007FF6148DCDD3]\n\t(No symbol) [0x00007FF6148AA33B]\n\t(No symbol) [0x00007FF6148AAED1]\n\tGetHandleVerifier [0x00007FF614D38B1D+3217341]\n\tGetHandleVerifier [0x00007FF614D85AE3+3532675]\n\tGetHandleVerifier [0x00007FF614D7B0E0+3489152]\n\tGetHandleVerifier [0x00007FF614ADE776+750614]\n\t(No symbol) [0x00007FF6149B375F]\n\t(No symbol) [0x00007FF6149AEB14]\n\t(No symbol) [0x00007FF6149AECA2]\n\t(No symbol) [0x00007FF61499E16F]\n\tBaseThreadInitThunk [0x00007FF81BC07344+20]\n\tRtlUserThreadStart [0x00007FF81C09CC91+33]\n"
     ]
    }
   ],
   "source": [
    "# 왜 50번 이상 콘텐츠는 수집이 안될까? full xpath를 분석해보자\n",
    "# 첫번째 이유 : xpath 좌표는 버튼 개수 기준이므로 page번호와 다름\n",
    "# 두번째 이유 : no가 50번일 때 다음 버튼을 클릭하고도, 다른 버튼 클릭을 시도함\n",
    "tit_xpath = '//*[@id=\"search_result\"]/ul/li[*]/div[1]/div[1]/a'\n",
    "no = 0\n",
    "\n",
    "for x in range(1, page_cnt+1):\n",
    "    print(f'========= {x} 페이지 작업 =========')\n",
    "    mylist = driver.find_elements(By.XPATH, tit_xpath)\n",
    "    \n",
    "    for item in mylist:\n",
    "        no += 1\n",
    "        if no > scrap_cnt:\n",
    "            break\n",
    "        print(no, item.text)\n",
    "    \n",
    "    if no <= scrap_cnt:\n",
    "        print(no)\n",
    "        if no % 50 == 0:\n",
    "            driver.find_element(By.CSS_SELECTOR, '.btn_next').click()\n",
    "            \n",
    "        a = f'/html/body/div[3]/div/div[1]/div[14]/a[{x+1}]'\n",
    "        driver.find_element(By.XPATH, a).click()\n",
    "#         next_button = driver.find_element(By.CSS_SELECTOR, f\"a[id='{x+1}']\")\n",
    "#         driver.execute_script(\"arguments[0].click();\", next_button)\n",
    "        time.sleep(2)\n",
    "\n",
    "print('========= 작업 완료 =========')\n",
    "# driver.close()"
   ]
  },
  {
   "cell_type": "code",
   "execution_count": 127,
   "id": "130a72d4-df32-4556-95bf-1407b9e4cbb7",
   "metadata": {
    "tags": []
   },
   "outputs": [
    {
     "name": "stdout",
     "output_type": "stream",
     "text": [
      "55 6\n",
      "========= 1 페이지 작업 =========\n",
      "1 해변산책부터 레이싱까지, 제주 반려동물 동반여행 추천 코스\n",
      "2 제주도가 품은 신비의 화산 숲, 환상숲곶자왈공원\n",
      "3 한국관광공사 추천 2월 걷기여행길, 이른 봄을 맞이하는 제주도 걷기길\n",
      "4 제주도의 숨겨진 재미를 찾는\n",
      "<놀멍, 배우멍 제주마을체험 - 1일형 체험학습>\n",
      "5 제주도 조천읍 버킷리스트 여행지 작성하기\n",
      "6 김창열의 회귀 철학을 건축으로 표현한 미술관, 제주도립김창열미술관\n",
      "7 [국내 트레킹 추천]\n",
      "제주 올레길 걷기 여행,\n",
      "준비부터 코스 선택까지 꿀팁 총정리!\n",
      "8 4월 제주도 가볼 만한, 가파도 청보리 축제\n",
      "9 제주도 유채꽃 명소 추천, 봄에 떠나는 인생샷 여행\n",
      "10 소소한 '제주여행' 꿀팁! 〈겨울편〉\n",
      "========= 2 페이지 작업 =========\n",
      "11 연말연시 제주도 여행 추천 코스,\n",
      "가족여행 가볼 만한 곳\n",
      "12 새하얀 눈으로 덮인 제주도 설경 명소 4\n",
      "13 제주 6월 걷기 좋은 길, 성안올레 1코스 원도심 투어\n",
      "14 사계절 자연의 아름다움을 간직한 제주시 댕댕이 추천코스\n",
      "15 제주도 '한정'여행지,\n",
      "제주도의 이색 공간을 찾아서\n",
      "16 멈춤과 완보로 만나는 제주 생각하는정원\n",
      "17 2월 놓치지 말아야 할 제주 관광 10선\n",
      "<2월 제주, 먼저 온 봄기운에 마음 돌랑돌랑>\n",
      "18 제주의 아크로폴리스를 아시나요? - 제주 원도심 (제주목관아 중심)\n",
      "19 맛있는 음식에 여행의 기쁨은 두 배! <제주 식도락 여행>\n",
      "20 제주 여행, 은빛 물결이 일렁이는 제주도 억새 명소 모음\n",
      "========= 3 페이지 작업 =========\n",
      "21 반려견과 떠나는 여행 <제주 반려견 숙소&카페>\n",
      "22 설렘과 여유가 가득한 제주 여행\n",
      "23 빛으로 물든 '로맨틱 제주' <제주 야간 관광지>\n",
      "24 12월 놓치지 말아야 할 제주 관광 10선\n",
      "<올해도 애쓴 당신과 나, 12월의 제주에서 쉬멍쉬멍>\n",
      "25 마음까지 화사해지는\n",
      "제주도 봄꽃 여행\n",
      "26 제주도 서쪽에서 즐기는 꽉 찬 여행 코스\n",
      "27 [팜스테이션] 제주공항과 아름다운 해안이 인접한 워케이션 공간\n",
      "28 제주의 숨겨진 구석구석을 살펴보자, 제주도 박물관 여행\n",
      "29 안심관광에 알맞은 최고의 야외 공연과 체험 - 제주 더마(馬)파크\n",
      "30 [질그랭이 거점 센터] 조용한 제주 해안마을에서 즐기는 워케이션\n",
      "========= 4 페이지 작업 =========\n",
      "31 [제주] 푸른 밤의 따뜻한 꿈\n",
      "32 1월 놓치지 말아야 할 제주 관광 10선\n",
      "<멋진 새날을 희망하며, 엄블랑한 1월 제주>\n",
      "33 섬 속의 섬 그리고 가장 제주다운 섬, 제주 우도\n",
      "34 제주 해녀들의 “호오이 호오이” 숨비소리 찾는 여행 – 제주해녀박물관과 숨비소리길\n",
      "35 제주도 서귀포 가볼 만한 곳,\n",
      "초록이 가득한 남쪽 여행 코스\n",
      "36 돌이 나에게 말을 걸어오는 시적(詩的)인 곳– 제주돌문화공원\n",
      "37 [디어먼데이 제주] 월요병이 없는 세상을 꿈꾸는 이들의 제주 워케이션\n",
      "38 비움과 채움의 조화로 완성한 웰니스 라이프, 제주901\n",
      "39 제주의 자연과 제주인의 삶을 최단시간에 알 수 있는 곳! - 제주민속자연사박물관\n",
      "40 환경생태가 살아있는 진짜 제주의 숲을 만나다 – 제주절물자연휴양림과 장생의 숲길\n",
      "========= 5 페이지 작업 =========\n",
      "41 [제주도 가볼 만한 곳] 섬 안에 섬을 여행하는 방법, 가파도 여행 코스\n",
      "42 제주 가볼만한 곳. 가족과 함께 제주도 구석구석, 당일치기 필수 코스 4\n",
      "43 [번아웃 트래블 EP.1] 넉살 발성에 귀가 뚫렸습니다! | 제주도여행\n",
      "44 [김녕 어촌체험휴양마을] 제주 김녕바다를 바라보며 업무를 즐기는 워케이션\n",
      "45 엄마 아빠에겐 쉼표, 아이에겐 느낌표! 아이와 떠나는 제주 여행\n",
      "46 [온실(프립캠프)] 업무와 휴식, 액티비티까지 한 번에 즐기는 워케이션\n",
      "47 랜선으로 먼저 온 봄 맞이하기!\n",
      "일출로 시작하는 제주도 동쪽 코스\n",
      "48 [국내여행 버킷리스트 3탄] 올 여름엔 제주도 자전거 여행이다!\n",
      "49 2월 제주 여행, 성산일출봉 근처 인생사진 명소로 유명한 제주 동쪽 핫플레이스 4\n",
      "50 [코사이어티 빌리지] 녹음이 우거진 제주 동쪽 영감의 공간\n",
      "========= 6 페이지 작업 =========\n",
      "51 [제주도 가볼 만한 곳] 섬 안에 섬을 여행하는 방법, 가파도 여행 코스\n",
      "52 제주 가볼만한 곳. 가족과 함께 제주도 구석구석, 당일치기 필수 코스 4\n",
      "53 [번아웃 트래블 EP.1] 넉살 발성에 귀가 뚫렸습니다! | 제주도여행\n",
      "54 [김녕 어촌체험휴양마을] 제주 김녕바다를 바라보며 업무를 즐기는 워케이션\n",
      "55 엄마 아빠에겐 쉼표, 아이에겐 느낌표! 아이와 떠나는 제주 여행\n",
      "========= 작업 완료 =========\n"
     ]
    }
   ],
   "source": [
    "# n==50일 때, 타임 슬립이 없어 랜더링 전에 추출을 시도해서 에러 발생\n",
    "print(scrap_cnt, page_cnt)\n",
    "tit_xpath = '//*[@id=\"search_result\"]/ul/li[*]/div[1]/div[1]/a'\n",
    "no = 0\n",
    "\n",
    "for x in range(1, page_cnt+1):\n",
    "    print(f'========= {x} 페이지 작업 =========')\n",
    "    mylist = driver.find_elements(By.XPATH, tit_xpath)\n",
    "    \n",
    "    for item in mylist:\n",
    "        no += 1\n",
    "        if no > scrap_cnt:\n",
    "            break\n",
    "        print(no, item.text)\n",
    "    \n",
    "    if no <= scrap_cnt:\n",
    "        if no % 50 == 0:\n",
    "            driver.find_element(By.CSS_SELECTOR, '.btn_next').click()\n",
    "            continue\n",
    "        \n",
    "        next_button = driver.find_element(By.CSS_SELECTOR, f\"a[id='{x+1}']\")\n",
    "        driver.execute_script(\"arguments[0].click();\", next_button)\n",
    "        # time.sleep(2)\n",
    "    time.sleep(3)\n",
    "\n",
    "print('========= 작업 완료 =========')\n",
    "# driver.close()"
   ]
  },
  {
   "cell_type": "markdown",
   "id": "40d488d0-ee2c-4f9b-a7f6-0850ade9c420",
   "metadata": {},
   "source": [
    "### 모든 페이지를 순환하며 전체 데이터를 추출해보자"
   ]
  },
  {
   "cell_type": "code",
   "execution_count": 136,
   "id": "3cbf3e38-85fc-4aa3-b34f-bc81228482ee",
   "metadata": {
    "tags": []
   },
   "outputs": [
    {
     "name": "stdout",
     "output_type": "stream",
     "text": [
      "========= 1 페이지 스크래핑 시작 =========\n",
      "0 해변산책부터 레이싱까지, 제주 반려동물 동반여행 추천 코스\n",
      "1 제주도가 품은 신비의 화산 숲, 환상숲곶자왈공원\n",
      "2 한국관광공사 추천 2월 걷기여행길, 이른 봄을 맞이하는 제주도 걷기길\n",
      "3 제주도의 숨겨진 재미를 찾는\n",
      "<놀멍, 배우멍 제주마을체험 - 1일형 체험학습>\n",
      "4 제주도 조천읍 버킷리스트 여행지 작성하기\n",
      "5 김창열의 회귀 철학을 건축으로 표현한 미술관, 제주도립김창열미술관\n",
      "6 [국내 트레킹 추천]\n",
      "제주 올레길 걷기 여행,\n",
      "준비부터 코스 선택까지 꿀팁 총정리!\n",
      "7 4월 제주도 가볼 만한, 가파도 청보리 축제\n",
      "8 제주도 유채꽃 명소 추천, 봄에 떠나는 인생샷 여행\n",
      "9 소소한 '제주여행' 꿀팁! 〈겨울편〉\n",
      "========= 2 페이지 스크래핑 시작 =========\n",
      "10 연말연시 제주도 여행 추천 코스,\n",
      "가족여행 가볼 만한 곳\n",
      "11 새하얀 눈으로 덮인 제주도 설경 명소 4\n",
      "12 제주 6월 걷기 좋은 길, 성안올레 1코스 원도심 투어\n",
      "13 사계절 자연의 아름다움을 간직한 제주시 댕댕이 추천코스\n",
      "14 제주도 '한정'여행지,\n",
      "제주도의 이색 공간을 찾아서\n",
      "15 멈춤과 완보로 만나는 제주 생각하는정원\n",
      "16 2월 놓치지 말아야 할 제주 관광 10선\n",
      "<2월 제주, 먼저 온 봄기운에 마음 돌랑돌랑>\n",
      "17 제주의 아크로폴리스를 아시나요? - 제주 원도심 (제주목관아 중심)\n",
      "18 맛있는 음식에 여행의 기쁨은 두 배! <제주 식도락 여행>\n",
      "19 제주 여행, 은빛 물결이 일렁이는 제주도 억새 명소 모음\n",
      "========= 3 페이지 스크래핑 시작 =========\n",
      "20 반려견과 떠나는 여행 <제주 반려견 숙소&카페>\n",
      "21 설렘과 여유가 가득한 제주 여행\n",
      "22 빛으로 물든 '로맨틱 제주' <제주 야간 관광지>\n",
      "23 12월 놓치지 말아야 할 제주 관광 10선\n",
      "<올해도 애쓴 당신과 나, 12월의 제주에서 쉬멍쉬멍>\n",
      "24 마음까지 화사해지는\n",
      "제주도 봄꽃 여행\n",
      "25 제주도 서쪽에서 즐기는 꽉 찬 여행 코스\n",
      "26 [팜스테이션] 제주공항과 아름다운 해안이 인접한 워케이션 공간\n",
      "27 제주의 숨겨진 구석구석을 살펴보자, 제주도 박물관 여행\n",
      "28 안심관광에 알맞은 최고의 야외 공연과 체험 - 제주 더마(馬)파크\n",
      "29 [질그랭이 거점 센터] 조용한 제주 해안마을에서 즐기는 워케이션\n",
      "========= 4 페이지 스크래핑 시작 =========\n",
      "30 [제주] 푸른 밤의 따뜻한 꿈\n",
      "31 1월 놓치지 말아야 할 제주 관광 10선\n",
      "<멋진 새날을 희망하며, 엄블랑한 1월 제주>\n",
      "32 섬 속의 섬 그리고 가장 제주다운 섬, 제주 우도\n",
      "33 제주 해녀들의 “호오이 호오이” 숨비소리 찾는 여행 – 제주해녀박물관과 숨비소리길\n",
      "34 제주도 서귀포 가볼 만한 곳,\n",
      "초록이 가득한 남쪽 여행 코스\n",
      "35 돌이 나에게 말을 걸어오는 시적(詩的)인 곳– 제주돌문화공원\n",
      "36 [디어먼데이 제주] 월요병이 없는 세상을 꿈꾸는 이들의 제주 워케이션\n",
      "37 비움과 채움의 조화로 완성한 웰니스 라이프, 제주901\n",
      "38 제주의 자연과 제주인의 삶을 최단시간에 알 수 있는 곳! - 제주민속자연사박물관\n",
      "39 환경생태가 살아있는 진짜 제주의 숲을 만나다 – 제주절물자연휴양림과 장생의 숲길\n",
      "========= 5 페이지 스크래핑 시작 =========\n",
      "40 [제주도 가볼 만한 곳] 섬 안에 섬을 여행하는 방법, 가파도 여행 코스\n",
      "41 제주 가볼만한 곳. 가족과 함께 제주도 구석구석, 당일치기 필수 코스 4\n",
      "42 [번아웃 트래블 EP.1] 넉살 발성에 귀가 뚫렸습니다! | 제주도여행\n",
      "43 [김녕 어촌체험휴양마을] 제주 김녕바다를 바라보며 업무를 즐기는 워케이션\n",
      "44 엄마 아빠에겐 쉼표, 아이에겐 느낌표! 아이와 떠나는 제주 여행\n",
      "45 [온실(프립캠프)] 업무와 휴식, 액티비티까지 한 번에 즐기는 워케이션\n",
      "46 랜선으로 먼저 온 봄 맞이하기!\n",
      "일출로 시작하는 제주도 동쪽 코스\n",
      "47 [국내여행 버킷리스트 3탄] 올 여름엔 제주도 자전거 여행이다!\n",
      "48 2월 제주 여행, 성산일출봉 근처 인생사진 명소로 유명한 제주 동쪽 핫플레이스 4\n",
      "49 [코사이어티 빌리지] 녹음이 우거진 제주 동쪽 영감의 공간\n",
      "========= 6 페이지 스크래핑 시작 =========\n",
      "50 식재료 수확체험부터 시작하는 완벽한 쿠킹클래스 - 제주 토토아뜰리에\n",
      "51 나만 알고 싶은 제주 액티비티 ①\n",
      "원시 숲과 벵뒤못과 밀리터리 카,\n",
      "어디에도 없던 리얼 오프로드의 세계\n",
      "52 탄소 없는 섬, 제주의 미래를 만나다_제주CFI에너지미래관\n",
      "53 자연 속에서 더욱 단단해지는 가족애, 제주돌문화공원과 교래자연휴양림\n",
      "54 감성 넘치는 인생 사진, 가을 제주 120% 즐기기\n",
      "55 [제주] 연말을 조금 더 특별하게 제주도의 방\n",
      "56 '효리네 민박'의 색다른 변신!\n",
      "감성 넘치는 제주 로컬 소품샵 소길별하\n",
      "57 '제주 별미 여행' 흑돼지, 말고기에 각재기국과 어랭이물회도 맛보자\n",
      "58 마음에 위안을 주는 제주의 맛\n",
      "59 겨울에 만나는 초록빛 곶자왈, 제주 청수마을\n",
      "========= 7 페이지 스크래핑 시작 =========\n",
      "60 가장 먼저 맞이하는 봄날의 하이라이트 '제주 벚꽃 명소'\n",
      "61 보석 같은 섬에 예술을 덧입히다,\n",
      "제주 추자도\n",
      "62 [여행 카드] 제주도에서 만나는 스위스 마을\n",
      "63 2024 여행가는 달 추천 관광지 [제주]\n",
      "64 길 위의 지질 과학관, 제주도 사계리 지질 여행\n",
      "65 [360도 영상] 제주 항공 편\n",
      "66 제주의 특색을 잘 간직한 안심 산책길, 천지연폭포\n",
      "67 제주 트레킹, 탁 트인 풍경 속을 거니는 제주 걷기 좋은 오름 4\n",
      "68 태곳적 제주와 조우하는 신비로운 숲, 동백동산\n",
      "69 화산섬 제주의 아름다움을 찾아나선 꿈결 같은 산책, 사려니숲길(제주시험림)\n",
      "========= 8 페이지 스크래핑 시작 =========\n",
      "70 제주시 원도심을 걷다, 성안올레\n",
      "71 제주의 땅과 바다, 바람을 품은 안식처에서 즐기는 웰니스 스테이\n",
      "72 제주의 즐겁고 달콤한 겨울 박물관들\n",
      "73 신비롭고 청정한 자연을 품은 제주 서귀포시 댕댕이 추천코스\n",
      "74 세계자연유산(UNESCO)의 봄을 느끼며, 제주도 동부 여행\n",
      "75 제주의 숨은 명소! '진짜 제주'를 만나는 곳, 애월읍 봉성리\n",
      "76 [제주] 이동하기 좋은 위치의 숙소를 찾는다면, 제주R호텔\n",
      "77 여름, 제주도로 별~난 박물관 피서 떠나봅서예\n",
      "78 해녀가 되어 바닷속을 누벼볼까!\n",
      "제주 하도어촌체험마을\n",
      "79 바다와 오름을 가르는 거대한 바람개비 '제주 풍력발전단지'\n",
      "========= 9 페이지 스크래핑 시작 =========\n",
      "80 벚꽃과 유채꽃이 서로 뽐내는 제주의 봄날\n",
      "81 1년에 열흘만 열리는 비밀의 원시림, 제주 거문오름 '용암길'\n",
      "82 나 혼자 훌쩍 떠나는 제주도 여행\n",
      "83 <맨도롱 또똣> 어디서 촬영햇수꽈? 제주 풍경 속 달달한 로맨스 스폿을 찾아서\n",
      "84 김만덕을 따라 걷는 제주시 건입동 산책\n",
      "85 효리네민박 촬영지부터 매화꽃 명소까지,\n",
      "♥제주 봄여행 코스♥\n",
      "86 상큼한 귤밭이 내어준 나만의 치유공간, 제원하늘농원\n",
      "87 제주의 가을은 오름을 타고 온다\n",
      "88 제주의 자연을 만나다, 서귀포 치유의 숲\n",
      "89 제주의 물과 숲을 경험하다, WE호텔 웰니스센터\n",
      "========= 10 페이지 스크래핑 시작 =========\n",
      "90 재미 가득한 컴퓨터 세상, 제주 넥슨컴퓨터박물관\n",
      "91 [더가게 함께가게] 제주 매력이 가득! 나만 알고 싶은 특별 굿즈 추천\n",
      "92 '조물조물' 만드는 즐거움 〈DIY 체험 여행지〉\n",
      "93 찬란한 봄에 떠난 제주4·3 유적지 기행\n",
      "94 여름철 입맛 돋우는 제주 물회 열전\n",
      "95 “바다가 우리에겐 부엌이지.” - 해녀의 부엌_북촌점\n",
      "96 가족 단위 추천 느린 여행지 2탄 - 제주시 동부\n",
      "97 검은 밤바다, 빛나는 은빛 유혹, 제주 은갈치 대령이오\n",
      "98 여름철 낭만 여행 '제주의 별 헤는 밤'\n",
      "99 인간극장 '엄마의 바다' 그곳을 찾아, 초보 해녀의 꿈이 담긴 제주 평대리 바다\n",
      "========= 11 페이지 스크래핑 시작 =========\n",
      "100 [제주] 푸른 섬 제주와 어울리는 숙소를 만든다는 것, 제주 에코스위츠\n",
      "101 제주 여행, 겨울에 피는 붉은 동백꽃 명소\n",
      "102 [국내여행 버킷리스트 1탄] '나도 제주 해녀가 되고 싶어요', 제주 하도어촌체험마을 해녀체험\n",
      "103 알록달록 가을빛 제주\n",
      "104 바닷가 시골 장터로 혼저 옵서예! 제주 세화민속오일시장\n",
      "105 넌 장 보러 가니? 우린 여행 간다! '제주 동문재래시장'\n",
      "106 잠들었던 벙커를 깨운 환상의 빛\n",
      "107 가족 단위 추천 느린 여행지 1탄 - 제주시 서부\n",
      "108 <결혼의 여신>을 따라 떠나는 제주 낭만 여행\n",
      "109 제주만의 특별한 힐링을 찾아 - 서귀포 치유의 숲과 열 개의 테마길\n",
      "========= 12 페이지 스크래핑 시작 =========\n",
      "110 이 여름, 어느 바다로 뛰어들까?! 제주에서 손꼽히는 해수욕장 모음\n",
      "111 우유에서 치즈까지, 홈메이드 치즈 만들기 제주치즈체험하우스\n",
      "112 늦기 전에 떠나야 할 제주의 숨은 동백 명소 5\n",
      "113 [사계 어촌체험 휴양마을] 제주 바닷가 마을에서 머물며 일하는 워케이션\n",
      "114 제주섬 끝자락 산에서 바다를 만끽하다 – 송악산\n",
      "115 무공해 '힐링캠프', 가보고 싶지 아니한가! 제주 무병장수테마파크\n",
      "116 은빛 물결 일렁이는 길을 달리다, 제주 억새 드라이브\n",
      "117 셀카 찍기 좋은 제주의 숨은 명소\n",
      "118 제주 유채꽃 명소 추천,\n",
      "가장 먼저 봄을 맞이하는 제주 여행\n",
      "119 화산토로 빚어낸 옹기를 체험하다, 제주 담화헌\n",
      "========= 13 페이지 스크래핑 시작 =========\n",
      "120 [고요산책] 사색하는 여행자를 위한, 나만을 위한 고요한 북스테이\n",
      "121 어여쁜 동백꽃처럼 내 얼굴도 활짝! 제주동백마을\n",
      "122 태초의 제주와 조우하다, 산방산·용머리해안 지질트레일\n",
      "123 Reboot Your Travel in Korea : Jeju-do (제주도)\n",
      "124 제주 여행의 또 다른 매력, 하우스 콘서트 카페\n",
      "125 제주 신화월드 1박2일!\n",
      "제주 서부 맛집도 알려줄게\n",
      "126 비? 오히려 좋아~\n",
      "장마철 제주 여행지 5☔️\n",
      "127 다 같이 돌자! 섬 속의 섬, 우도 한 바퀴\n",
      "128 [스페이스 모노] 일과 쉼을 동시에 만족하는 맞춤형 제주 워케이션\n",
      "129 제주 가볼 만한 곳, 동심이 되살아나는 여행 4\n",
      "========= 14 페이지 스크래핑 시작 =========\n",
      "130 버려진 건축물에 예술의 옷을 입히다, 제주 아라리오뮤지엄\n",
      "131 제주 서부 풍광이 한눈에! 제주 서부 새별오름 & 저지오름\n",
      "132 나만 알고 싶은 제주 액티비티 ②\n",
      "향기 나는 숲에서 커피 한 잔,\n",
      "야생 돌고래 뛰노는 바다에서 쉬영 갑서~\n",
      "133 아빠, 어디가? 제주의 숨은 비경 찾으러! 제주 지미봉 탐험\n",
      "134 제주는 지금 플리마켓 전성시대! 벨롱장, 소랑장, 아라올레 지꺼진장\n",
      "135 봄을 부르는 노란 복수초 꽃길, 제주 한라생태숲\n",
      "136 그윽한 차향에 나를 맡기다, 제주 취다선리조트\n",
      "137 제주 어디까지 가봤니? 알쓸신잡2 북제주편\n",
      "138 [지질공원 추천] 여기가 제주의 화산학 연구 교과서 제주 수월봉\n",
      "139 바닷가 앞 마법처럼 열리는 장터, 제주 벨롱장 & 세화장\n",
      "========= 15 페이지 스크래핑 시작 =========\n",
      "140 유채꽃으로 시작하는 봄, 인생사진 찍으러 제주도 가자!\n",
      "141 야생화 천국을 가다, 제주 방림원\n",
      "142 로컬푸드로 만들어 더 맛나다! 제주 별난 빙수 열전\n",
      "143 [제주] 봄 내음 가득한 제주도민의 봄방학 By 여행작가 슬구\n",
      "144 멋진 풍경을 품고 있는\n",
      "겨울 제주 여행지 추천\n",
      "145 [리플로우] 창의적인 사람들을 위한 스테이&코워킹스페이스\n",
      "146 '맛있는 녀석들' 추천 Must-Eats 20_고기국수\n",
      "147 제주 바다 속에 숨겨진 비경, 행원리 앞 바다 천연 풀장\n",
      "148 제주도 차밭 여행, 차밭에 새순 돋는 소리, 봄이 오는 소리\n",
      "149 봄향기 뿜뿜!\n",
      "제주 사진찍기 좋은 유채꽃밭 4\n",
      "========= 16 페이지 스크래핑 시작 =========\n",
      "150 [가볼 만한 곳 총집합!] 볼거리, 즐길거리 가득한\n",
      "제주 중문관광단지로 떠나는 여행\n",
      "151 [360도 영상] 제주 여행 편\n",
      "152 확실하게 쉬고! 화끈하게 놀기! 플레이스 캠프 제주\n",
      "153 '맛있는 녀석들' 추천 Must-Eats 20_성게미역국\n",
      "154 빛의 벙커\n",
      "155 우도, 성산 그리고 제주올레, 제주 동북부를 가다\n",
      "156 제주의 숨은 별미, 토종닭 요리를 맛보다! 교래마을 토종닭 유통특구\n",
      "157 제주의 바다와 바람을 내 품에, 제주 스쿠터 드라이브\n",
      "158 '맛있는 녀석들' 추천 Must-Eats 20_흑돼지근고기\n",
      "159 화산이 빚어낸 겹겹이 쌓인 시간 속을 걷다.\n",
      "========= 17 페이지 스크래핑 시작 =========\n",
      "160 수련꽃 만발한 연못과 천연림 나들이, 제주 선흘반못과 동백동산 숲길\n",
      "161 새벽 5시부터 오후 3시까지! 제주 해장국 타임\n",
      "162 [방구석 제주여행]\n",
      "언제든 떠날 수 있도록, 미리 보고 계획하기!\n",
      "163 '신비의 섬' 우도의 신상 여행지! 자연•문화•미식의 완전체, 훈데르트바서파크\n",
      "164 오동통통! 고사리 한 바구니 꺾어가세요~ '제주 고사리'\n",
      "165 [제주] 달콤한 감귤 같은 숙소, 제주 에코 스위츠\n",
      "166 가드닝센터, 카페, 오름, 신화... 없는 게 없는 제주 여행 종합선물세트 '소원 비는 마을' 송당리\n",
      "167 제주 육,해,공 레포츠\n",
      "168 호젓하게 즐기는 제주의 숨은 억새 명소\n",
      "169 열린관광지로 향한 가벼운 발걸음, 제주 서귀포\n",
      "========= 18 페이지 스크래핑 시작 =========\n",
      "170 보기 좋은 떡이 먹기도 좋다 HOT한 제주 먹거리\n",
      "171 삶의 휴식을 원하는 내 몸과 마음의 오아시스, 비젠빌리지(Wiesen Village)\n",
      "172 제주를 품은 공간, 예술에 스민 제주\n",
      "173 겨울 제주로 감귤 따러 가요\n",
      "174 아바타도 반한 신비의 숲, 제주 환상숲 곶자왈공원\n",
      "175 춥다고? 올레로 나와 바! 간세다리 제주걷기\n",
      "176 제주에서 즐기는 육, 해, 공 레포츠 3종 세트! 저브&빅볼, 투명카약, 패러세일링\n",
      "177 봄꽃이 가득한 제주 나들이\n",
      "178 2021 생활관광 공모전 포토에세이 장려상 - 유수진\n",
      "179 또 다른 즐거움, 맛있는 제주 여행! 제주 서부 맛집을 찾아\n",
      "========= 19 페이지 스크래핑 시작 =========\n",
      "180 '건축학개론' 속 서연의 집을 찾아 '제주 위미리 & 올레 5코스'\n",
      "181 용암이 빚은 동굴들의 시작점,거문오름\n",
      "182 2021 생활관광 공모전 포토에세이 우수상 - 최수나\n",
      "183 박물관, 어디까지 가봤니? 여름휴가맞이 제주 박물관 총정리\n",
      "184 제주안의 새로움을 찾는 여행,\n",
      "중문의 재발견\n",
      "185 [여행 카드]모든 맛이 좋았다!군침 부르는 제주 향토음식\n",
      "186 차와 명상에 오롯이 취하는 시간, 취다선 리조트\n",
      "187 이곳에선 나도 드라마 주인공! 제주 로케디오 월드\n",
      "188 제주 가볼만한 곳. 싱그러운 제주의 봄! 가볍고 완벽한 제주 여행 코스\n",
      "189 제주, 화려함 뒤에 감춰진 비운의 역사를 재조명하다!\n",
      "========= 20 페이지 스크래핑 시작 =========\n",
      "190 누구나 편하게 걷는 아름다운 숲길\n",
      "191 입안 가득 군침 도는 제주 주전부리 여행\n",
      "192 세계적인 명소에서 맞는 신년 해맞이, 제주 성산일출축제\n",
      "193 청보리 물결 일렁이는, 그 섬에 가고 싶다 '제주 가파도'\n",
      "194 들어는 봤수꽈? 먹어는 봤수꽈? 명품 우리 소, 제주 흑한우\n",
      "195 '신들의 만찬'보다 더 푸짐한 한 상 '한여름날의 우도'\n",
      "196 항구ㆍ바다ㆍ오름 그리고 중산간, 제주 남서부를 가다\n",
      "197 미끄럼 타는 흑돼지 보고 동백축제도 즐기는 제주 휴애리자연생활공원\n",
      "198 [8월 걷기여행길10선] 서귀포 칠십리에서 문화를 만나다, 제주 서귀포시 작가의 산책길-유토피아로\n",
      "199 배신당한 여행자를 위로하는 제주의 겨울 맛집, 멋집\n",
      "========= 21 페이지 스크래핑 시작 =========\n",
      "200 섬을 할퀴고 간 깊은 상처 '영화 <지슬>, 제주 4.3을 말하다'\n",
      "201 '이어도 사나, 어이~ 어이~' 제주 해녀 물질 체험\n",
      "202 왕(와서), 봥(보고), 강 (가서) 또시 오고푼 (다시 오고 싶은) 오래된 정원 - 일출랜드\n",
      "203 제주 해녀축제 & 혼인지축제\n",
      "204 선계로 통하는 문 '제주 방선문계곡'\n",
      "205 바닷가 앞 꽃을 피우다, 김녕금속공예벽화마을 고장난길\n",
      "206 서지현 님의 우리 가족을 위한 유쾌한 여행 (맞춤형 힐링여행 프로젝트)\n",
      "207 치유의 숲으로 초대합니다, 한라산 둘레길\n",
      "208 [제주] 제주 정원 곁에서 온전하게 휴식하고 싶다면, 꿈꾸는 노마드\n",
      "209 어둠의 벙커에서 빛과 음악의 궁전으로, 서귀포 빛의벙커\n",
      "========= 22 페이지 스크래핑 시작 =========\n",
      "210 파랗게 파랗게 물들었네~ 여름 제주 엿보기!\n",
      "211 제주를 담다, 제주를 닮다 지오푸드\n",
      "212 나를 설레게 하는 제주 추자도 여행코스\n",
      "213 아시아 최대규모 제주항공우주박물관\n",
      "214 화산섬이 빚은 천연 바다 풀장, 제주 황우지해안\n",
      "215 [제주] 아이와 행복한 추억을 쌓을 계획이라면, 더 세리 리조트\n",
      "216 [제주 오름 추천] 진짜 제주를 만나다. 제주 오름 여행 코스\n",
      "217 오지게 멋진 제주 건축물 여행\n",
      "218 한국관광공사 추천! 9월 가볼 만한 곳 '세계유산 즐기기 2편'\n",
      "219 자연이 기른 재료로 정성껏 지은 밥상, 제주 템플스테이푸드\n",
      "========= 23 페이지 스크래핑 시작 =========\n",
      "220 [O-Peace 사계점] 일과 쉼, 모두 평화롭게\n",
      "221 2021 생활관광 공모전 포토에세이 장려상 - 조아현\n",
      "222 [O-Peace 조천점] 새로운 방식으로 일하는 사람들을 위한 창조적 오피스\n",
      "223 수국이 수국수국 제주 수국 스팟 모음\n",
      "224 혼자여도 따뜻한 제주\n",
      "225 2021 생활관광 공모전 포토에세이 대상 - 신유경\n",
      "226 [여행 카드] 여심 확실히 잡는 5월 BEST 여행지는?\n",
      "227 바다 완전정복 우도\n",
      "228 2021 생활관광 공모전 포토에세이 우수상 - 정유리, 최은교\n",
      "229 '비 온 후 폭포'를 아시나요? 제주 엉또폭포와 천제연 제1폭포\n",
      "========= 24 페이지 스크래핑 시작 =========\n",
      "230 가베또롱하고 엄부랑한 힐링 숲길,\n",
      "서귀포치유의숲\n",
      "231 전기장판에서 벗어나자 제주 감귤 체험\n",
      "232 제주 핫플레이스 모음 제주에서 놀멍쉬멍\n",
      "233 제주산 커피, 드셔보셨나요? 제주 코리아커피농장\n",
      "234 12월 제주 핫플 제주 동백꽃 스팟\n",
      "235 예신, 예랑이를 위한 제주 웨딩촬영 스팟\n",
      "236 화가 이중섭과 남국의 바다, 제주 서귀포\n",
      "237 대한민국 걷기 열풍의 주역\n",
      "238 새콤달콤 제주\n",
      "239 광치기해변에서 바라보는 성산일출봉의 일출\n",
      "========= 25 페이지 스크래핑 시작 =========\n",
      "240 예쁘고 아기자기한 것이 좋아! 여자들이 좋아하는 제주 여행\n",
      "241 제주 서귀포\n",
      "242 제주절물자연휴양림\n",
      "243 자연과 호흡하며 즐기는 사격?ATV 체험장, 제주 대유랜드\n",
      "244 개구쟁이 두 소년의 '올 댓 초콜릿' 제주 초콜릿랜드\n",
      "245 제주 지오(Geo)브랜드 : 유네스코 세계지질공원 활용 지질관광\n",
      "246 꽃, 바다, 숲 모든 것이 다 있는 완전체 제주 여행\n",
      "247 핑덕들 마음이 두근두근 핑크핑크한 제주 여행지\n",
      "248 2021 생활관광 공모전 포토에세이 최우수상 - 조은비\n",
      "249 집념과 인연, 사색이 공존하는 제주 추사유배길을 걷다\n",
      "========= 26 페이지 스크래핑 시작 =========\n",
      "250 요리보고 조리보고 '표선면편'\n",
      "<사계절 방문하기 좋은 포근한 곳>\n",
      "251 <에디터픽> 컬러풀한 제주의 봄으로! 떠나요 제주도~\n",
      "252 순이와 철수의 애틋한 러브 스토리 '늑대소년' 촬영지를 찾아서\n",
      "253 걷고 보고, 먹는 즐거움이 넘치는\n",
      "254 하늘 정원을 거닐고 깊은 숲 생명수를 찾아 나서다, 1100고지 습지&동백동산 습지\n",
      "255 럭셔리 캠핑의 대명사 '글램핑을 아시나요?'\n",
      "256 제주 말이 궁금해? 궁금하면 여기! 제주 조랑말체험공원\n",
      "257 봄을 미리 만나는 제주 매화 축제 모음.zip\n",
      "258 행원도 앞바다 그리고 쇠소깍\n",
      "259 2021 생활관광 공모전 영상콘텐츠부문 우수상 – 박균성\n",
      "========= 27 페이지 스크래핑 시작 =========\n",
      "260 사진 찍기 좋은 곳 '제주 사진 명소'\n",
      "261 2021 생활관광 공모전 영상콘텐츠부문 우수상 – 김원지, 양지환\n",
      "262 육지 위에 제주도, 돌담길이 매력적인\n",
      "'남천고택'\n",
      "263 최남단 막내 섬에서 새해의 기운을 받다, 마라도 일출\n",
      "264 제주 주전부리 여행\n",
      "265 서귀포 매일올레시장\n",
      "266 2021 생활관광 공모전 영상콘텐츠부문 장려상 – 정유리, 최은교\n",
      "267 2021 생활관광 공모전 영상콘텐츠부문 장려상 – 강초록\n",
      "268 2021 생활관광 공모전 영상콘텐츠부문 우수상 – 이현숙\n",
      "269 제주 모슬포 방어회 식도락 여행\n",
      "========= 28 페이지 스크래핑 시작 =========\n",
      "270 제주의 삶과 문화를 느낄 수 있는 어멍아방잔치마을 여행 코스\n",
      "271 금속공예가 꽃핀 마을 '김녕금속공예벽화마을'\n",
      "272 다희연 짚라인 체험. 나, 지금 날고 있니?\n",
      "273 캠핑을 원하는 이들이여, 부담 없이 오라! '제주 중문진실캠핑장'\n",
      "274 [국내여행 버킷리스트 2탄] 나도 한다 마라도 짜장 투어!\n",
      "275 박물관 완전정복 알쓸신잡2 남제주편\n",
      "276 [여행 카드] 봄, 천천히 걸으면 더 많이 보여요 ♪, Miss Flower-스탠딩에그\n",
      "277 마라도 짜장면 투어\n",
      "278 [여행 카드] 그와 그녀를 위한 셀프 웨딩스냅 촬영 명소\n",
      "279 반짝반짝 프사 완성 네온사인 카페\n",
      "========= 29 페이지 스크래핑 시작 =========\n",
      "280 미리 떠나는 여름휴가 해양 스포츠\n",
      "281 과거를 여행하는 커플스냅\n",
      "282 한번 뿐인 인생 무조건 해봐야 할 LIST 4\n",
      "283 겨울의 끝자락에서 봄꽃을 미리봄\n",
      "284 남다른 과거를 가진 전국 이색카페\n",
      "285 삼겹살데이맞이 에블바디 돼지파티\n",
      "286 가을은 코스모스만? 형형색색 품은 가을 모음\n",
      "287 남모를 기억 간직한 전국 공간재생 카페\n",
      "288 [행정안전부 x 한국섬진흥원] 2023 찾아가고 싶은 가을섬 5 : 강화 교동도, 안산 대부도, 제주 추자도, 여수 금오도, 남해 조도 · 호도\n",
      "289 [여행 카드] 명절증후군이시군요? 당신께 풀빌라를 처방합니다! 럭셔리하고 저렴한 남해&제주 풀빌라5\n",
      "==================================================\n",
      "30페이지 버튼 클릭시 예외가 발생했습니다. Message: no such element: Unable to locate element: {\"method\":\"css selector\",\"selector\":\"a[id='30']\"}\n",
      "  (Session info: chrome=126.0.6478.63); For documentation on this error, please visit: https://www.selenium.dev/documentation/webdriver/troubleshooting/errors#no-such-element-exception\n",
      "Stacktrace:\n",
      "\tGetHandleVerifier [0x00007FF614A2EEA2+31554]\n",
      "\t(No symbol) [0x00007FF6149A7ED9]\n",
      "\t(No symbol) [0x00007FF61486872A]\n",
      "\t(No symbol) [0x00007FF6148B8434]\n",
      "\t(No symbol) [0x00007FF6148B853C]\n",
      "\t(No symbol) [0x00007FF6148FF6A7]\n",
      "\t(No symbol) [0x00007FF6148DD06F]\n",
      "\t(No symbol) [0x00007FF6148FC977]\n",
      "\t(No symbol) [0x00007FF6148DCDD3]\n",
      "\t(No symbol) [0x00007FF6148AA33B]\n",
      "\t(No symbol) [0x00007FF6148AAED1]\n",
      "\tGetHandleVerifier [0x00007FF614D38B1D+3217341]\n",
      "\tGetHandleVerifier [0x00007FF614D85AE3+3532675]\n",
      "\tGetHandleVerifier [0x00007FF614D7B0E0+3489152]\n",
      "\tGetHandleVerifier [0x00007FF614ADE776+750614]\n",
      "\t(No symbol) [0x00007FF6149B375F]\n",
      "\t(No symbol) [0x00007FF6149AEB14]\n",
      "\t(No symbol) [0x00007FF6149AECA2]\n",
      "\t(No symbol) [0x00007FF61499E16F]\n",
      "\tBaseThreadInitThunk [0x00007FF81BC07344+20]\n",
      "\tRtlUserThreadStart [0x00007FF81C09CC91+33]\n",
      "\n",
      "===== 데이터를 저장하고 프로그램을 종료합니다. =====\n",
      "========= 총 29페이지 290개 데이터 스크래핑 완료 =========\n"
     ]
    }
   ],
   "source": [
    "tit_xpath = '//*[@id=\"search_result\"]/ul/li[*]/div[1]/div[1]/a'\n",
    "contents_no = 0\n",
    "page_no = 0\n",
    "\n",
    "while True : \n",
    "    page_no += 1\n",
    "    print(f'========= {page_no} 페이지 스크래핑 시작 =========')\n",
    "    mylist = driver.find_elements(By.XPATH, tit_xpath)\n",
    "\n",
    "    for i in range(len(mylist)):\n",
    "        contents_no += 1\n",
    "        print(contents_no, mylist[i].text)\n",
    "    \n",
    "    if no % 50 == 0:\n",
    "        driver.find_element(By.CSS_SELECTOR, '.btn_next').click()\n",
    "        time.sleep(3)\n",
    "        continue\n",
    "\n",
    "    try : # 다음 페이지 버튼이 없을 경우 예외처리\n",
    "        next_button = driver.find_element(By.CSS_SELECTOR, f\"a[id='{page_no+1}']\")\n",
    "        driver.execute_script(\"arguments[0].click();\", next_button)\n",
    "        time.sleep(3)\n",
    "    except Exception as e:\n",
    "        print('='*50)\n",
    "        print(f'{page_no+1}페이지 버튼 클릭시 예외가 발생했습니다.', e)\n",
    "        print('===== 데이터를 저장하고 프로그램을 종료합니다. =====')\n",
    "        break     \n",
    "        \n",
    "print(f'========= 총 {page_no}페이지 {contents_no}개 데이터 스크래핑 완료 =========')"
   ]
  },
  {
   "cell_type": "code",
   "execution_count": null,
   "id": "b7540a31-b780-4f87-875b-a696d78496d4",
   "metadata": {},
   "outputs": [],
   "source": []
  }
 ],
 "metadata": {
  "kernelspec": {
   "display_name": "Python 3 (ipykernel)",
   "language": "python",
   "name": "python3"
  },
  "language_info": {
   "codemirror_mode": {
    "name": "ipython",
    "version": 3
   },
   "file_extension": ".py",
   "mimetype": "text/x-python",
   "name": "python",
   "nbconvert_exporter": "python",
   "pygments_lexer": "ipython3",
   "version": "3.11.5"
  }
 },
 "nbformat": 4,
 "nbformat_minor": 5
}
